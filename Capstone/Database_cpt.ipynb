{
 "cells": [
  {
   "cell_type": "code",
   "execution_count": 3,
   "metadata": {},
   "outputs": [],
   "source": [
    "from __future__ import print_function\n",
    "\n",
    "import pandas as pd\n",
    "import os\n",
    "from dotenv import load_dotenv\n",
    "from datetime import date, datetime, timedelta\n",
    "import sqlalchemy\n",
    "import pymysql\n",
    "import openpyxl"
   ]
  },
  {
   "cell_type": "code",
   "execution_count": 3,
   "metadata": {},
   "outputs": [],
   "source": [
    "load_dotenv()\n",
    "\n",
    "(host, user, password, port, database) = (os.getenv('host'), os.getenv('user'), os.getenv('passwd'), os.getenv('port'), os.getenv('database'))"
   ]
  },
  {
   "cell_type": "code",
   "execution_count": 102,
   "metadata": {},
   "outputs": [],
   "source": [
    "def get_connection():\n",
    "    return sqlalchemy.create_engine(\n",
    "        url=\"mysql+pymysql://{0}:{1}@{2}:{3}/{4}\".format(\n",
    "            user, password, host, port, database\n",
    "        )\n",
    "    )"
   ]
  },
  {
   "cell_type": "code",
   "execution_count": 103,
   "metadata": {},
   "outputs": [],
   "source": [
    "engine = get_connection()\n",
    "\n",
    "table = \"cpt_codes\""
   ]
  },
  {
   "cell_type": "code",
   "execution_count": 104,
   "metadata": {},
   "outputs": [
    {
     "name": "stdout",
     "output_type": "stream",
     "text": [
      "('key', 'int', 'NO', 'PRI', None, 'auto_increment')\n",
      "('id', 'varchar(64)', 'NO', '', None, '')\n",
      "('code', 'varchar(16)', 'NO', 'UNI', None, '')\n",
      "('type', 'varchar(32)', 'NO', '', None, '')\n",
      "('proprietary_name', 'varchar(256)', 'NO', '', None, '')\n",
      "('proprietary_name_suffix', 'varchar(128)', 'YES', '', None, '')\n",
      "('nonproprietary_name', 'varchar(512)', 'YES', '', None, '')\n",
      "('dosage_form', 'varchar(64)', 'YES', '', None, '')\n",
      "('route', 'varchar(128)', 'YES', '', None, '')\n",
      "('start_marketing_date', 'date', 'YES', '', None, '')\n",
      "('end_marketing_date', 'date', 'YES', '', None, '')\n",
      "('marketing_category_name', 'varchar(45)', 'YES', '', None, '')\n",
      "('application_number', 'varchar(20)', 'YES', '', None, '')\n",
      "('labeler_name', 'varchar(128)', 'YES', '', None, '')\n",
      "('substance_name', 'varchar(3450)', 'YES', '', None, '')\n",
      "('active_numenator_strength', 'varchar(510)', 'YES', '', None, '')\n",
      "('active_ingredient_unit', 'varchar(1500)', 'YES', '', None, '')\n",
      "('pharma_class', 'varchar(4010)', 'YES', '', None, '')\n",
      "('descheduled', 'varchar(12)', 'YES', '', None, '')\n",
      "('ndc_exclude', 'varchar(20)', 'YES', '', None, '')\n",
      "('listing_cerified_through', 'date', 'YES', '', None, '')\n"
     ]
    }
   ],
   "source": [
    "show_table_query = \"DESCRIBE \" + table\n",
    "with engine.connect() as conn:\n",
    "    result = conn.execute(show_table_query)\n",
    "for row in result:\n",
    "    print(row)"
   ]
  },
  {
   "cell_type": "code",
   "execution_count": 8,
   "metadata": {},
   "outputs": [],
   "source": [
    "cpt_path = 'ndcxls/PPRRVU23_JAN.xlsx'\n",
    "start_row = 9\n",
    "table_ndc = 'ndc_product'\n",
    "columns = ['code', 'description']\n",
    "sqltypes_ndc = {'code': sqlalchemy.types.VARCHAR(length=8), 'description': sqlalchemy.types.VARCHAR(length=30)}\n",
    "\n",
    "df = pd.read_excel(cpt_path, names=columns,usecols=[0,2], skiprows= start_row)\n",
    "df.columns = columns"
   ]
  },
  {
   "cell_type": "code",
   "execution_count": 9,
   "metadata": {},
   "outputs": [
    {
     "name": "stdout",
     "output_type": "stream",
     "text": [
      "7\n",
      "28.0\n"
     ]
    }
   ],
   "source": [
    "print(df.code.str.len().max())\n",
    "print(df.description.str.len().max())"
   ]
  },
  {
   "cell_type": "code",
   "execution_count": 10,
   "metadata": {},
   "outputs": [
    {
     "data": {
      "text/plain": [
       "code           object\n",
       "description    object\n",
       "dtype: object"
      ]
     },
     "execution_count": 10,
     "metadata": {},
     "output_type": "execute_result"
    }
   ],
   "source": [
    "df.dtypes"
   ]
  },
  {
   "cell_type": "code",
   "execution_count": 111,
   "metadata": {},
   "outputs": [
    {
     "data": {
      "text/plain": [
       "96547"
      ]
     },
     "execution_count": 111,
     "metadata": {},
     "output_type": "execute_result"
    }
   ],
   "source": [
    "df.to_sql(name=table_ndc,con=engine, if_exists='append', index=False, chunksize=100, dtype=sqltypes_ndc)"
   ]
  }
 ],
 "metadata": {
  "kernelspec": {
   "display_name": "base",
   "language": "python",
   "name": "python3"
  },
  "language_info": {
   "codemirror_mode": {
    "name": "ipython",
    "version": 3
   },
   "file_extension": ".py",
   "mimetype": "text/x-python",
   "name": "python",
   "nbconvert_exporter": "python",
   "pygments_lexer": "ipython3",
   "version": "3.10.8"
  },
  "orig_nbformat": 4,
  "vscode": {
   "interpreter": {
    "hash": "c30f2af5f468e7f5b45bcc30fca5f4886c90d54777aed916ed5f6294dfb24bf2"
   }
  }
 },
 "nbformat": 4,
 "nbformat_minor": 2
}
