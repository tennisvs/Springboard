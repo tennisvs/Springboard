{
 "cells": [
  {
   "attachments": {},
   "cell_type": "markdown",
   "metadata": {},
   "source": [
    "# Part 5: Exploratory Analysis\n",
    "\n",
    "\n",
    "| Code Type | Code Value | Description | Associated CMS Metric | Metric Details\n",
    "| --- | --- | --- | --- | --- |\n",
    "| CPT | 36556 | Under Insertion of Central Venous Access Device | HAI_1 | Central Line Associated Bloodstream Infection\n",
    "| CPT | 51701 | Under Introduction Procedures on the Bladder | HAI_2 | Catheter Associated Urinary Tract Infections\n",
    "| CPT | 51702 | Under Introduction Procedures on the Bladder | HAI_2 | Catheter Associated Urinary Tract Infections\n",
    "| HCPCS | A4314 | Insertion tray with drainage bag with indwelling catheter, Foley type, 2-way latex with coating (Teflon, silicone, silicone elastomer or hydrophilic, etc.) | HAI_2 | Catheter Associated Urinary Tract Infections\n",
    "| HCPCS | A4315 | Insertion tray with drainage bag with indwelling catheter, Foley type, 2-way, all silicone | HAI_2 | Catheter Associated Urinary Tract Infections\n",
    "| HCPCS | G9312 | Surgical site infection | HAI_3 | Surgical Site Infection - Colon Surgery\n",
    "| CPT | 58150 | Under Hysterectomy Procedures | HAI_4 | Surgical Site Infection - Abdominal Hysterectomy\n",
    "| CPT | 15920 | Under Pressure Ulcers (Decubitus Ulcers) Procedures | PSI-3 | Pressure Ulcer Rate\n",
    "| CPT | 35800 |  Under Repair, Excision, Exploration, Revision Procedures on Arteries and Veins | PSI-9 | Postoperative hemorrhage or hematoma rate\n",
    "| HCPCS | J1650 |  Injection, enoxaparin sodium, 10 mg | PSI-12 | Perioperative pulmonary embolism or deep vein thrombosis rate"
   ]
  },
  {
   "attachments": {},
   "cell_type": "markdown",
   "metadata": {},
   "source": []
  },
  {
   "cell_type": "code",
   "execution_count": 1,
   "metadata": {},
   "outputs": [],
   "source": [
    "import pandas as pd\n",
    "import numpy as np\n",
    "import os\n",
    "from dotenv import load_dotenv\n",
    "from datetime import date, datetime, timedelta\n",
    "import glob\n",
    "from ast import literal_eval\n",
    "from collections import Counter\n",
    "from tqdm.auto import tqdm\n",
    "import pyarrow as pa"
   ]
  },
  {
   "cell_type": "code",
   "execution_count": 19,
   "metadata": {},
   "outputs": [],
   "source": [
    "drg = pd.read_parquet(\"D://Vignesh/Capstone/combined/drg_parquet/drg.parquet\", engine='pyarrow')\n",
    "cms = pd.read_csv('Hospital_Metrics/Medicare_Inpatient_Hospital_by_Provider_and_Service_2020.csv',encoding='windows-1252')"
   ]
  },
  {
   "cell_type": "code",
   "execution_count": 20,
   "metadata": {},
   "outputs": [
    {
     "data": {
      "text/html": [
       "<div>\n",
       "<style scoped>\n",
       "    .dataframe tbody tr th:only-of-type {\n",
       "        vertical-align: middle;\n",
       "    }\n",
       "\n",
       "    .dataframe tbody tr th {\n",
       "        vertical-align: top;\n",
       "    }\n",
       "\n",
       "    .dataframe thead th {\n",
       "        text-align: right;\n",
       "    }\n",
       "</style>\n",
       "<table border=\"1\" class=\"dataframe\">\n",
       "  <thead>\n",
       "    <tr style=\"text-align: right;\">\n",
       "      <th></th>\n",
       "      <th>billing_type</th>\n",
       "      <th>billing_code</th>\n",
       "      <th>negotiated_rates</th>\n",
       "      <th>ccn</th>\n",
       "    </tr>\n",
       "  </thead>\n",
       "  <tbody>\n",
       "    <tr>\n",
       "      <th>0</th>\n",
       "      <td>MS-DRG</td>\n",
       "      <td>0001</td>\n",
       "      <td>135000.0</td>\n",
       "      <td>050327</td>\n",
       "    </tr>\n",
       "    <tr>\n",
       "      <th>1</th>\n",
       "      <td>MS-DRG</td>\n",
       "      <td>0002</td>\n",
       "      <td>135000.0</td>\n",
       "      <td>050327</td>\n",
       "    </tr>\n",
       "    <tr>\n",
       "      <th>2</th>\n",
       "      <td>MS-DRG</td>\n",
       "      <td>0003</td>\n",
       "      <td>9000.0</td>\n",
       "      <td>050327</td>\n",
       "    </tr>\n",
       "    <tr>\n",
       "      <th>3</th>\n",
       "      <td>MS-DRG</td>\n",
       "      <td>0004</td>\n",
       "      <td>9000.0</td>\n",
       "      <td>050327</td>\n",
       "    </tr>\n",
       "    <tr>\n",
       "      <th>4</th>\n",
       "      <td>MS-DRG</td>\n",
       "      <td>0005</td>\n",
       "      <td>135095.0</td>\n",
       "      <td>050327</td>\n",
       "    </tr>\n",
       "  </tbody>\n",
       "</table>\n",
       "</div>"
      ],
      "text/plain": [
       "  billing_type billing_code  negotiated_rates     ccn\n",
       "0       MS-DRG         0001          135000.0  050327\n",
       "1       MS-DRG         0002          135000.0  050327\n",
       "2       MS-DRG         0003            9000.0  050327\n",
       "3       MS-DRG         0004            9000.0  050327\n",
       "4       MS-DRG         0005          135095.0  050327"
      ]
     },
     "execution_count": 20,
     "metadata": {},
     "output_type": "execute_result"
    }
   ],
   "source": [
    "drg.head()"
   ]
  },
  {
   "cell_type": "code",
   "execution_count": 21,
   "metadata": {},
   "outputs": [
    {
     "name": "stdout",
     "output_type": "stream",
     "text": [
      "<class 'pandas.core.frame.DataFrame'>\n",
      "RangeIndex: 9777 entries, 0 to 9776\n",
      "Data columns (total 4 columns):\n",
      " #   Column            Non-Null Count  Dtype  \n",
      "---  ------            --------------  -----  \n",
      " 0   billing_type      9777 non-null   object \n",
      " 1   billing_code      9777 non-null   object \n",
      " 2   negotiated_rates  9777 non-null   float64\n",
      " 3   ccn               9777 non-null   object \n",
      "dtypes: float64(1), object(3)\n",
      "memory usage: 305.7+ KB\n"
     ]
    }
   ],
   "source": [
    "drg.info()"
   ]
  },
  {
   "cell_type": "code",
   "execution_count": 22,
   "metadata": {},
   "outputs": [
    {
     "name": "stdout",
     "output_type": "stream",
     "text": [
      "<class 'pandas.core.frame.DataFrame'>\n",
      "RangeIndex: 165281 entries, 0 to 165280\n",
      "Data columns (total 15 columns):\n",
      " #   Column                     Non-Null Count   Dtype  \n",
      "---  ------                     --------------   -----  \n",
      " 0   Rndrng_Prvdr_CCN           165281 non-null  int64  \n",
      " 1   Rndrng_Prvdr_Org_Name      165281 non-null  object \n",
      " 2   Rndrng_Prvdr_St            165281 non-null  object \n",
      " 3   Rndrng_Prvdr_City          165281 non-null  object \n",
      " 4   Rndrng_Prvdr_State_Abrvtn  165281 non-null  object \n",
      " 5   Rndrng_Prvdr_State_FIPS    165281 non-null  int64  \n",
      " 6   Rndrng_Prvdr_Zip5          165281 non-null  int64  \n",
      " 7   Rndrng_Prvdr_RUCA          165281 non-null  float64\n",
      " 8   Rndrng_Prvdr_RUCA_Desc     165281 non-null  object \n",
      " 9   DRG_Cd                     165281 non-null  int64  \n",
      " 10  DRG_Desc                   165281 non-null  object \n",
      " 11  Tot_Dschrgs                165281 non-null  int64  \n",
      " 12  Avg_Submtd_Cvrd_Chrg       165281 non-null  float64\n",
      " 13  Avg_Tot_Pymt_Amt           165281 non-null  float64\n",
      " 14  Avg_Mdcr_Pymt_Amt          165281 non-null  float64\n",
      "dtypes: float64(4), int64(5), object(6)\n",
      "memory usage: 18.9+ MB\n"
     ]
    }
   ],
   "source": [
    "cms.info()"
   ]
  },
  {
   "cell_type": "code",
   "execution_count": 23,
   "metadata": {},
   "outputs": [
    {
     "data": {
      "text/html": [
       "<div>\n",
       "<style scoped>\n",
       "    .dataframe tbody tr th:only-of-type {\n",
       "        vertical-align: middle;\n",
       "    }\n",
       "\n",
       "    .dataframe tbody tr th {\n",
       "        vertical-align: top;\n",
       "    }\n",
       "\n",
       "    .dataframe thead th {\n",
       "        text-align: right;\n",
       "    }\n",
       "</style>\n",
       "<table border=\"1\" class=\"dataframe\">\n",
       "  <thead>\n",
       "    <tr style=\"text-align: right;\">\n",
       "      <th></th>\n",
       "      <th>billing_type</th>\n",
       "      <th>billing_code</th>\n",
       "      <th>negotiated_rates</th>\n",
       "      <th>ccn</th>\n",
       "    </tr>\n",
       "  </thead>\n",
       "  <tbody>\n",
       "    <tr>\n",
       "      <th>0</th>\n",
       "      <td>MS-DRG</td>\n",
       "      <td>0001</td>\n",
       "      <td>135000.0</td>\n",
       "      <td>50327</td>\n",
       "    </tr>\n",
       "    <tr>\n",
       "      <th>1</th>\n",
       "      <td>MS-DRG</td>\n",
       "      <td>0002</td>\n",
       "      <td>135000.0</td>\n",
       "      <td>50327</td>\n",
       "    </tr>\n",
       "    <tr>\n",
       "      <th>2</th>\n",
       "      <td>MS-DRG</td>\n",
       "      <td>0003</td>\n",
       "      <td>9000.0</td>\n",
       "      <td>50327</td>\n",
       "    </tr>\n",
       "    <tr>\n",
       "      <th>3</th>\n",
       "      <td>MS-DRG</td>\n",
       "      <td>0004</td>\n",
       "      <td>9000.0</td>\n",
       "      <td>50327</td>\n",
       "    </tr>\n",
       "    <tr>\n",
       "      <th>4</th>\n",
       "      <td>MS-DRG</td>\n",
       "      <td>0005</td>\n",
       "      <td>135095.0</td>\n",
       "      <td>50327</td>\n",
       "    </tr>\n",
       "  </tbody>\n",
       "</table>\n",
       "</div>"
      ],
      "text/plain": [
       "  billing_type billing_code  negotiated_rates    ccn\n",
       "0       MS-DRG         0001          135000.0  50327\n",
       "1       MS-DRG         0002          135000.0  50327\n",
       "2       MS-DRG         0003            9000.0  50327\n",
       "3       MS-DRG         0004            9000.0  50327\n",
       "4       MS-DRG         0005          135095.0  50327"
      ]
     },
     "execution_count": 23,
     "metadata": {},
     "output_type": "execute_result"
    }
   ],
   "source": [
    "drg = drg.astype({'billing_code': 'str','ccn':'int64'})\n",
    "drg['billing_code'] = drg.apply(lambda row: row['billing_code'] if row['billing_code'].isdigit() else None, axis=1)\n",
    "\n",
    "drg.head()"
   ]
  },
  {
   "cell_type": "code",
   "execution_count": 25,
   "metadata": {},
   "outputs": [],
   "source": [
    "drg.dropna(subset=['billing_code'],inplace=True)\n",
    "drg = drg.astype({'billing_code': 'int64'})"
   ]
  },
  {
   "cell_type": "code",
   "execution_count": 26,
   "metadata": {},
   "outputs": [],
   "source": [
    "merged = drg.merge(cms,how='inner',left_on=['ccn','billing_code'],right_on=['Rndrng_Prvdr_CCN','DRG_Cd'])"
   ]
  },
  {
   "cell_type": "code",
   "execution_count": 27,
   "metadata": {},
   "outputs": [
    {
     "name": "stdout",
     "output_type": "stream",
     "text": [
      "<class 'pandas.core.frame.DataFrame'>\n",
      "Int64Index: 799 entries, 0 to 798\n",
      "Data columns (total 19 columns):\n",
      " #   Column                     Non-Null Count  Dtype  \n",
      "---  ------                     --------------  -----  \n",
      " 0   billing_type               799 non-null    object \n",
      " 1   billing_code               799 non-null    int64  \n",
      " 2   negotiated_rates           799 non-null    float64\n",
      " 3   ccn                        799 non-null    int64  \n",
      " 4   Rndrng_Prvdr_CCN           799 non-null    int64  \n",
      " 5   Rndrng_Prvdr_Org_Name      799 non-null    object \n",
      " 6   Rndrng_Prvdr_St            799 non-null    object \n",
      " 7   Rndrng_Prvdr_City          799 non-null    object \n",
      " 8   Rndrng_Prvdr_State_Abrvtn  799 non-null    object \n",
      " 9   Rndrng_Prvdr_State_FIPS    799 non-null    int64  \n",
      " 10  Rndrng_Prvdr_Zip5          799 non-null    int64  \n",
      " 11  Rndrng_Prvdr_RUCA          799 non-null    float64\n",
      " 12  Rndrng_Prvdr_RUCA_Desc     799 non-null    object \n",
      " 13  DRG_Cd                     799 non-null    int64  \n",
      " 14  DRG_Desc                   799 non-null    object \n",
      " 15  Tot_Dschrgs                799 non-null    int64  \n",
      " 16  Avg_Submtd_Cvrd_Chrg       799 non-null    float64\n",
      " 17  Avg_Tot_Pymt_Amt           799 non-null    float64\n",
      " 18  Avg_Mdcr_Pymt_Amt          799 non-null    float64\n",
      "dtypes: float64(5), int64(7), object(7)\n",
      "memory usage: 124.8+ KB\n"
     ]
    }
   ],
   "source": [
    "merged.info()"
   ]
  }
 ],
 "metadata": {
  "kernelspec": {
   "display_name": "base",
   "language": "python",
   "name": "python3"
  },
  "language_info": {
   "codemirror_mode": {
    "name": "ipython",
    "version": 3
   },
   "file_extension": ".py",
   "mimetype": "text/x-python",
   "name": "python",
   "nbconvert_exporter": "python",
   "pygments_lexer": "ipython3",
   "version": "3.9.16 (main, Jan 11 2023, 16:16:36) [MSC v.1916 64 bit (AMD64)]"
  },
  "orig_nbformat": 4,
  "vscode": {
   "interpreter": {
    "hash": "ad2bdc8ecc057115af97d19610ffacc2b4e99fae6737bb82f5d7fb13d2f2c186"
   }
  }
 },
 "nbformat": 4,
 "nbformat_minor": 2
}
