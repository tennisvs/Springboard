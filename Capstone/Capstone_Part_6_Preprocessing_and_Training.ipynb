{
 "cells": [
  {
   "cell_type": "code",
   "execution_count": 2,
   "metadata": {},
   "outputs": [],
   "source": [
    "import pandas as pd\n",
    "import numpy as np\n",
    "import os\n",
    "import matplotlib.pyplot as plt\n",
    "import seaborn as sns\n",
    "from sklearn import __version__ as sklearn_version\n",
    "from sklearn.decomposition import PCA\n",
    "from sklearn.preprocessing import scale\n",
    "from sklearn.model_selection import train_test_split, cross_validate, GridSearchCV, learning_curve\n",
    "from sklearn.preprocessing import StandardScaler, MinMaxScaler\n",
    "from sklearn.dummy import DummyRegressor\n",
    "from sklearn.linear_model import LinearRegression\n",
    "from sklearn.ensemble import RandomForestRegressor\n",
    "from sklearn.metrics import r2_score, mean_squared_error, mean_absolute_error\n",
    "from sklearn.pipeline import make_pipeline\n",
    "from sklearn.impute import SimpleImputer\n",
    "from sklearn.feature_selection import SelectKBest, f_regression\n",
    "import datetime\n",
    "import pyarrow as pa"
   ]
  },
  {
   "cell_type": "code",
   "execution_count": 7,
   "metadata": {},
   "outputs": [],
   "source": [
    "path = 'data'\n",
    "obj = os.scandir(path)\n",
    "l = [entry for entry in obj]\n",
    "df_dict = {}\n",
    "\n",
    "for entry in l:\n",
    "    p = entry.name[0:-8]\n",
    "    df_dict[p] = pd.read_parquet('data/'+entry.name, engine='pyarrow')\n"
   ]
  },
  {
   "cell_type": "code",
   "execution_count": 8,
   "metadata": {},
   "outputs": [
    {
     "data": {
      "text/html": [
       "<div>\n",
       "<style scoped>\n",
       "    .dataframe tbody tr th:only-of-type {\n",
       "        vertical-align: middle;\n",
       "    }\n",
       "\n",
       "    .dataframe tbody tr th {\n",
       "        vertical-align: top;\n",
       "    }\n",
       "\n",
       "    .dataframe thead th {\n",
       "        text-align: right;\n",
       "    }\n",
       "</style>\n",
       "<table border=\"1\" class=\"dataframe\">\n",
       "  <thead>\n",
       "    <tr style=\"text-align: right;\">\n",
       "      <th></th>\n",
       "      <th>0</th>\n",
       "      <th>1</th>\n",
       "      <th>2</th>\n",
       "      <th>3</th>\n",
       "      <th>4</th>\n",
       "    </tr>\n",
       "  </thead>\n",
       "  <tbody>\n",
       "    <tr>\n",
       "      <th>ccn</th>\n",
       "      <td>290003</td>\n",
       "      <td>290039</td>\n",
       "      <td>290007</td>\n",
       "      <td>360144</td>\n",
       "      <td>100168</td>\n",
       "    </tr>\n",
       "    <tr>\n",
       "      <th>Procedure</th>\n",
       "      <td>CPT 58150</td>\n",
       "      <td>CPT 58150</td>\n",
       "      <td>CPT 58150</td>\n",
       "      <td>CPT 58150</td>\n",
       "      <td>CPT 58150</td>\n",
       "    </tr>\n",
       "    <tr>\n",
       "      <th>State Code</th>\n",
       "      <td>NV</td>\n",
       "      <td>NV</td>\n",
       "      <td>NV</td>\n",
       "      <td>OH</td>\n",
       "      <td>FL</td>\n",
       "    </tr>\n",
       "    <tr>\n",
       "      <th>Rural Versus Urban</th>\n",
       "      <td>U</td>\n",
       "      <td>U</td>\n",
       "      <td>U</td>\n",
       "      <td>U</td>\n",
       "      <td>U</td>\n",
       "    </tr>\n",
       "    <tr>\n",
       "      <th>PSI_03</th>\n",
       "      <td>0.13266</td>\n",
       "      <td>0.13266</td>\n",
       "      <td>0.13266</td>\n",
       "      <td>0.13266</td>\n",
       "      <td>0.13266</td>\n",
       "    </tr>\n",
       "    <tr>\n",
       "      <th>PSI_06</th>\n",
       "      <td>0.184709</td>\n",
       "      <td>0.184709</td>\n",
       "      <td>0.184709</td>\n",
       "      <td>0.184709</td>\n",
       "      <td>0.184709</td>\n",
       "    </tr>\n",
       "    <tr>\n",
       "      <th>PSI_08</th>\n",
       "      <td>0.114236</td>\n",
       "      <td>0.114236</td>\n",
       "      <td>0.114236</td>\n",
       "      <td>0.114236</td>\n",
       "      <td>0.114236</td>\n",
       "    </tr>\n",
       "    <tr>\n",
       "      <th>PSI_09</th>\n",
       "      <td>1.56662</td>\n",
       "      <td>1.56662</td>\n",
       "      <td>1.56662</td>\n",
       "      <td>1.56662</td>\n",
       "      <td>1.56662</td>\n",
       "    </tr>\n",
       "    <tr>\n",
       "      <th>PSI_10</th>\n",
       "      <td>0.650623</td>\n",
       "      <td>0.650623</td>\n",
       "      <td>0.650623</td>\n",
       "      <td>0.650623</td>\n",
       "      <td>0.650623</td>\n",
       "    </tr>\n",
       "    <tr>\n",
       "      <th>PSI_11</th>\n",
       "      <td>9.818181</td>\n",
       "      <td>9.818181</td>\n",
       "      <td>9.818181</td>\n",
       "      <td>9.818181</td>\n",
       "      <td>9.818181</td>\n",
       "    </tr>\n",
       "    <tr>\n",
       "      <th>PSI_12</th>\n",
       "      <td>2.791577</td>\n",
       "      <td>2.791577</td>\n",
       "      <td>2.791577</td>\n",
       "      <td>2.791577</td>\n",
       "      <td>2.791577</td>\n",
       "    </tr>\n",
       "    <tr>\n",
       "      <th>PSI_13</th>\n",
       "      <td>6.132305</td>\n",
       "      <td>6.132305</td>\n",
       "      <td>6.132305</td>\n",
       "      <td>6.132305</td>\n",
       "      <td>6.132305</td>\n",
       "    </tr>\n",
       "    <tr>\n",
       "      <th>PSI_14</th>\n",
       "      <td>0.655391</td>\n",
       "      <td>0.655391</td>\n",
       "      <td>0.655391</td>\n",
       "      <td>0.655391</td>\n",
       "      <td>0.655391</td>\n",
       "    </tr>\n",
       "    <tr>\n",
       "      <th>PSI_15</th>\n",
       "      <td>0.629422</td>\n",
       "      <td>0.629422</td>\n",
       "      <td>0.629422</td>\n",
       "      <td>0.629422</td>\n",
       "      <td>0.629422</td>\n",
       "    </tr>\n",
       "    <tr>\n",
       "      <th>PSI_90</th>\n",
       "      <td>0.959044</td>\n",
       "      <td>0.959044</td>\n",
       "      <td>0.959044</td>\n",
       "      <td>0.959044</td>\n",
       "      <td>0.959044</td>\n",
       "    </tr>\n",
       "    <tr>\n",
       "      <th>HAI_1_SIR</th>\n",
       "      <td>0.629</td>\n",
       "      <td>0.629</td>\n",
       "      <td>0.629</td>\n",
       "      <td>0.629</td>\n",
       "      <td>0.629</td>\n",
       "    </tr>\n",
       "    <tr>\n",
       "      <th>HAI_2_SIR</th>\n",
       "      <td>0.527</td>\n",
       "      <td>0.527</td>\n",
       "      <td>0.527</td>\n",
       "      <td>0.527</td>\n",
       "      <td>0.527</td>\n",
       "    </tr>\n",
       "    <tr>\n",
       "      <th>HAI_3_SIR</th>\n",
       "      <td>0.486</td>\n",
       "      <td>0.486</td>\n",
       "      <td>0.486</td>\n",
       "      <td>0.486</td>\n",
       "      <td>0.486</td>\n",
       "    </tr>\n",
       "    <tr>\n",
       "      <th>HAI_5_SIR</th>\n",
       "      <td>1.091</td>\n",
       "      <td>1.091</td>\n",
       "      <td>1.091</td>\n",
       "      <td>1.091</td>\n",
       "      <td>1.091</td>\n",
       "    </tr>\n",
       "    <tr>\n",
       "      <th>HAI_6_SIR</th>\n",
       "      <td>0.109</td>\n",
       "      <td>0.109</td>\n",
       "      <td>0.109</td>\n",
       "      <td>0.109</td>\n",
       "      <td>0.109</td>\n",
       "    </tr>\n",
       "    <tr>\n",
       "      <th>Number of Interns and Residents (FTE)</th>\n",
       "      <td>31.44</td>\n",
       "      <td>31.44</td>\n",
       "      <td>31.44</td>\n",
       "      <td>31.44</td>\n",
       "      <td>31.44</td>\n",
       "    </tr>\n",
       "    <tr>\n",
       "      <th>Number of Beds</th>\n",
       "      <td>604.0</td>\n",
       "      <td>363.0</td>\n",
       "      <td>498.0</td>\n",
       "      <td>172.0</td>\n",
       "      <td>370.0</td>\n",
       "    </tr>\n",
       "    <tr>\n",
       "      <th>Total Discharges (V + XVIII + XIX + Unknown)</th>\n",
       "      <td>32823.928571</td>\n",
       "      <td>22906.758242</td>\n",
       "      <td>22271.0</td>\n",
       "      <td>7405.288462</td>\n",
       "      <td>17098.846154</td>\n",
       "    </tr>\n",
       "    <tr>\n",
       "      <th>Total Days (V + XVIII + XIX + Unknown) + Total for all Subproviders</th>\n",
       "      <td>207129.478022</td>\n",
       "      <td>126428.379121</td>\n",
       "      <td>118028.0</td>\n",
       "      <td>35116.208791</td>\n",
       "      <td>93744.835165</td>\n",
       "    </tr>\n",
       "    <tr>\n",
       "      <th>Hospital Total Days (V + XVIII + XIX + Unknown) For Adults &amp;amp; Peds</th>\n",
       "      <td>126462.472527</td>\n",
       "      <td>126462.472527</td>\n",
       "      <td>126462.472527</td>\n",
       "      <td>126462.472527</td>\n",
       "      <td>126462.472527</td>\n",
       "    </tr>\n",
       "    <tr>\n",
       "      <th>Hospital Total Bed Days Available For Adults &amp;amp; Peds</th>\n",
       "      <td>140216.153846</td>\n",
       "      <td>140216.153846</td>\n",
       "      <td>140216.153846</td>\n",
       "      <td>140216.153846</td>\n",
       "      <td>140216.153846</td>\n",
       "    </tr>\n",
       "    <tr>\n",
       "      <th>Hospital Total Discharges (V + XVIII + XIX + Unknown) For Adults &amp;amp; Peds</th>\n",
       "      <td>32823.928571</td>\n",
       "      <td>22906.758242</td>\n",
       "      <td>22271.0</td>\n",
       "      <td>7405.288462</td>\n",
       "      <td>17098.846154</td>\n",
       "    </tr>\n",
       "    <tr>\n",
       "      <th>negotiated_rates_median</th>\n",
       "      <td>1183.03</td>\n",
       "      <td>1153.145</td>\n",
       "      <td>1013.59</td>\n",
       "      <td>949.3</td>\n",
       "      <td>1205.165</td>\n",
       "    </tr>\n",
       "    <tr>\n",
       "      <th>state population</th>\n",
       "      <td>3080156</td>\n",
       "      <td>3080156</td>\n",
       "      <td>3080156</td>\n",
       "      <td>11689100</td>\n",
       "      <td>21477737</td>\n",
       "    </tr>\n",
       "    <tr>\n",
       "      <th>median salary</th>\n",
       "      <td>63276</td>\n",
       "      <td>63276</td>\n",
       "      <td>63276</td>\n",
       "      <td>58642</td>\n",
       "      <td>59227</td>\n",
       "    </tr>\n",
       "    <tr>\n",
       "      <th>total hospitals</th>\n",
       "      <td>31.0</td>\n",
       "      <td>31.0</td>\n",
       "      <td>31.0</td>\n",
       "      <td>147.0</td>\n",
       "      <td>221.0</td>\n",
       "    </tr>\n",
       "    <tr>\n",
       "      <th>total beds</th>\n",
       "      <td>5882.0</td>\n",
       "      <td>5882.0</td>\n",
       "      <td>5882.0</td>\n",
       "      <td>27647.0</td>\n",
       "      <td>57018.0</td>\n",
       "    </tr>\n",
       "    <tr>\n",
       "      <th>total discharges</th>\n",
       "      <td>285128.0</td>\n",
       "      <td>285128.0</td>\n",
       "      <td>285128.0</td>\n",
       "      <td>1185728.0</td>\n",
       "      <td>2487846.0</td>\n",
       "    </tr>\n",
       "    <tr>\n",
       "      <th>hospitals_per_100kcapita</th>\n",
       "      <td>1.006443</td>\n",
       "      <td>1.006443</td>\n",
       "      <td>1.006443</td>\n",
       "      <td>1.257582</td>\n",
       "      <td>1.028972</td>\n",
       "    </tr>\n",
       "    <tr>\n",
       "      <th>beds_per_100kcapita</th>\n",
       "      <td>190.964354</td>\n",
       "      <td>190.964354</td>\n",
       "      <td>190.964354</td>\n",
       "      <td>236.519493</td>\n",
       "      <td>265.474896</td>\n",
       "    </tr>\n",
       "    <tr>\n",
       "      <th>discharges_per_100kcapita</th>\n",
       "      <td>9256.93374</td>\n",
       "      <td>9256.93374</td>\n",
       "      <td>9256.93374</td>\n",
       "      <td>10143.87763</td>\n",
       "      <td>11583.37119</td>\n",
       "    </tr>\n",
       "    <tr>\n",
       "      <th>hospital_ratio</th>\n",
       "      <td>0.032258</td>\n",
       "      <td>0.032258</td>\n",
       "      <td>0.032258</td>\n",
       "      <td>0.006803</td>\n",
       "      <td>0.004525</td>\n",
       "    </tr>\n",
       "    <tr>\n",
       "      <th>bed_ratio</th>\n",
       "      <td>0.102686</td>\n",
       "      <td>0.061714</td>\n",
       "      <td>0.084665</td>\n",
       "      <td>0.006221</td>\n",
       "      <td>0.006489</td>\n",
       "    </tr>\n",
       "    <tr>\n",
       "      <th>discharge_ratio</th>\n",
       "      <td>0.726444</td>\n",
       "      <td>0.443409</td>\n",
       "      <td>0.413947</td>\n",
       "      <td>0.029616</td>\n",
       "      <td>0.037681</td>\n",
       "    </tr>\n",
       "  </tbody>\n",
       "</table>\n",
       "</div>"
      ],
      "text/plain": [
       "                                                                0  \\\n",
       "ccn                                                        290003   \n",
       "Procedure                                               CPT 58150   \n",
       "State Code                                                     NV   \n",
       "Rural Versus Urban                                              U   \n",
       "PSI_03                                                    0.13266   \n",
       "PSI_06                                                   0.184709   \n",
       "PSI_08                                                   0.114236   \n",
       "PSI_09                                                    1.56662   \n",
       "PSI_10                                                   0.650623   \n",
       "PSI_11                                                   9.818181   \n",
       "PSI_12                                                   2.791577   \n",
       "PSI_13                                                   6.132305   \n",
       "PSI_14                                                   0.655391   \n",
       "PSI_15                                                   0.629422   \n",
       "PSI_90                                                   0.959044   \n",
       "HAI_1_SIR                                                   0.629   \n",
       "HAI_2_SIR                                                   0.527   \n",
       "HAI_3_SIR                                                   0.486   \n",
       "HAI_5_SIR                                                   1.091   \n",
       "HAI_6_SIR                                                   0.109   \n",
       "Number of Interns and Residents (FTE)                       31.44   \n",
       "Number of Beds                                              604.0   \n",
       "Total Discharges (V + XVIII + XIX + Unknown)         32823.928571   \n",
       "Total Days (V + XVIII + XIX + Unknown) + Total ...  207129.478022   \n",
       "Hospital Total Days (V + XVIII + XIX + Unknown)...  126462.472527   \n",
       "Hospital Total Bed Days Available For Adults &a...  140216.153846   \n",
       "Hospital Total Discharges (V + XVIII + XIX + Un...   32823.928571   \n",
       "negotiated_rates_median                                   1183.03   \n",
       "state population                                          3080156   \n",
       "median salary                                               63276   \n",
       "total hospitals                                              31.0   \n",
       "total beds                                                 5882.0   \n",
       "total discharges                                         285128.0   \n",
       "hospitals_per_100kcapita                                 1.006443   \n",
       "beds_per_100kcapita                                    190.964354   \n",
       "discharges_per_100kcapita                              9256.93374   \n",
       "hospital_ratio                                           0.032258   \n",
       "bed_ratio                                                0.102686   \n",
       "discharge_ratio                                          0.726444   \n",
       "\n",
       "                                                                1  \\\n",
       "ccn                                                        290039   \n",
       "Procedure                                               CPT 58150   \n",
       "State Code                                                     NV   \n",
       "Rural Versus Urban                                              U   \n",
       "PSI_03                                                    0.13266   \n",
       "PSI_06                                                   0.184709   \n",
       "PSI_08                                                   0.114236   \n",
       "PSI_09                                                    1.56662   \n",
       "PSI_10                                                   0.650623   \n",
       "PSI_11                                                   9.818181   \n",
       "PSI_12                                                   2.791577   \n",
       "PSI_13                                                   6.132305   \n",
       "PSI_14                                                   0.655391   \n",
       "PSI_15                                                   0.629422   \n",
       "PSI_90                                                   0.959044   \n",
       "HAI_1_SIR                                                   0.629   \n",
       "HAI_2_SIR                                                   0.527   \n",
       "HAI_3_SIR                                                   0.486   \n",
       "HAI_5_SIR                                                   1.091   \n",
       "HAI_6_SIR                                                   0.109   \n",
       "Number of Interns and Residents (FTE)                       31.44   \n",
       "Number of Beds                                              363.0   \n",
       "Total Discharges (V + XVIII + XIX + Unknown)         22906.758242   \n",
       "Total Days (V + XVIII + XIX + Unknown) + Total ...  126428.379121   \n",
       "Hospital Total Days (V + XVIII + XIX + Unknown)...  126462.472527   \n",
       "Hospital Total Bed Days Available For Adults &a...  140216.153846   \n",
       "Hospital Total Discharges (V + XVIII + XIX + Un...   22906.758242   \n",
       "negotiated_rates_median                                  1153.145   \n",
       "state population                                          3080156   \n",
       "median salary                                               63276   \n",
       "total hospitals                                              31.0   \n",
       "total beds                                                 5882.0   \n",
       "total discharges                                         285128.0   \n",
       "hospitals_per_100kcapita                                 1.006443   \n",
       "beds_per_100kcapita                                    190.964354   \n",
       "discharges_per_100kcapita                              9256.93374   \n",
       "hospital_ratio                                           0.032258   \n",
       "bed_ratio                                                0.061714   \n",
       "discharge_ratio                                          0.443409   \n",
       "\n",
       "                                                                2  \\\n",
       "ccn                                                        290007   \n",
       "Procedure                                               CPT 58150   \n",
       "State Code                                                     NV   \n",
       "Rural Versus Urban                                              U   \n",
       "PSI_03                                                    0.13266   \n",
       "PSI_06                                                   0.184709   \n",
       "PSI_08                                                   0.114236   \n",
       "PSI_09                                                    1.56662   \n",
       "PSI_10                                                   0.650623   \n",
       "PSI_11                                                   9.818181   \n",
       "PSI_12                                                   2.791577   \n",
       "PSI_13                                                   6.132305   \n",
       "PSI_14                                                   0.655391   \n",
       "PSI_15                                                   0.629422   \n",
       "PSI_90                                                   0.959044   \n",
       "HAI_1_SIR                                                   0.629   \n",
       "HAI_2_SIR                                                   0.527   \n",
       "HAI_3_SIR                                                   0.486   \n",
       "HAI_5_SIR                                                   1.091   \n",
       "HAI_6_SIR                                                   0.109   \n",
       "Number of Interns and Residents (FTE)                       31.44   \n",
       "Number of Beds                                              498.0   \n",
       "Total Discharges (V + XVIII + XIX + Unknown)              22271.0   \n",
       "Total Days (V + XVIII + XIX + Unknown) + Total ...       118028.0   \n",
       "Hospital Total Days (V + XVIII + XIX + Unknown)...  126462.472527   \n",
       "Hospital Total Bed Days Available For Adults &a...  140216.153846   \n",
       "Hospital Total Discharges (V + XVIII + XIX + Un...        22271.0   \n",
       "negotiated_rates_median                                   1013.59   \n",
       "state population                                          3080156   \n",
       "median salary                                               63276   \n",
       "total hospitals                                              31.0   \n",
       "total beds                                                 5882.0   \n",
       "total discharges                                         285128.0   \n",
       "hospitals_per_100kcapita                                 1.006443   \n",
       "beds_per_100kcapita                                    190.964354   \n",
       "discharges_per_100kcapita                              9256.93374   \n",
       "hospital_ratio                                           0.032258   \n",
       "bed_ratio                                                0.084665   \n",
       "discharge_ratio                                          0.413947   \n",
       "\n",
       "                                                                3  \\\n",
       "ccn                                                        360144   \n",
       "Procedure                                               CPT 58150   \n",
       "State Code                                                     OH   \n",
       "Rural Versus Urban                                              U   \n",
       "PSI_03                                                    0.13266   \n",
       "PSI_06                                                   0.184709   \n",
       "PSI_08                                                   0.114236   \n",
       "PSI_09                                                    1.56662   \n",
       "PSI_10                                                   0.650623   \n",
       "PSI_11                                                   9.818181   \n",
       "PSI_12                                                   2.791577   \n",
       "PSI_13                                                   6.132305   \n",
       "PSI_14                                                   0.655391   \n",
       "PSI_15                                                   0.629422   \n",
       "PSI_90                                                   0.959044   \n",
       "HAI_1_SIR                                                   0.629   \n",
       "HAI_2_SIR                                                   0.527   \n",
       "HAI_3_SIR                                                   0.486   \n",
       "HAI_5_SIR                                                   1.091   \n",
       "HAI_6_SIR                                                   0.109   \n",
       "Number of Interns and Residents (FTE)                       31.44   \n",
       "Number of Beds                                              172.0   \n",
       "Total Discharges (V + XVIII + XIX + Unknown)          7405.288462   \n",
       "Total Days (V + XVIII + XIX + Unknown) + Total ...   35116.208791   \n",
       "Hospital Total Days (V + XVIII + XIX + Unknown)...  126462.472527   \n",
       "Hospital Total Bed Days Available For Adults &a...  140216.153846   \n",
       "Hospital Total Discharges (V + XVIII + XIX + Un...    7405.288462   \n",
       "negotiated_rates_median                                     949.3   \n",
       "state population                                         11689100   \n",
       "median salary                                               58642   \n",
       "total hospitals                                             147.0   \n",
       "total beds                                                27647.0   \n",
       "total discharges                                        1185728.0   \n",
       "hospitals_per_100kcapita                                 1.257582   \n",
       "beds_per_100kcapita                                    236.519493   \n",
       "discharges_per_100kcapita                             10143.87763   \n",
       "hospital_ratio                                           0.006803   \n",
       "bed_ratio                                                0.006221   \n",
       "discharge_ratio                                          0.029616   \n",
       "\n",
       "                                                                4  \n",
       "ccn                                                        100168  \n",
       "Procedure                                               CPT 58150  \n",
       "State Code                                                     FL  \n",
       "Rural Versus Urban                                              U  \n",
       "PSI_03                                                    0.13266  \n",
       "PSI_06                                                   0.184709  \n",
       "PSI_08                                                   0.114236  \n",
       "PSI_09                                                    1.56662  \n",
       "PSI_10                                                   0.650623  \n",
       "PSI_11                                                   9.818181  \n",
       "PSI_12                                                   2.791577  \n",
       "PSI_13                                                   6.132305  \n",
       "PSI_14                                                   0.655391  \n",
       "PSI_15                                                   0.629422  \n",
       "PSI_90                                                   0.959044  \n",
       "HAI_1_SIR                                                   0.629  \n",
       "HAI_2_SIR                                                   0.527  \n",
       "HAI_3_SIR                                                   0.486  \n",
       "HAI_5_SIR                                                   1.091  \n",
       "HAI_6_SIR                                                   0.109  \n",
       "Number of Interns and Residents (FTE)                       31.44  \n",
       "Number of Beds                                              370.0  \n",
       "Total Discharges (V + XVIII + XIX + Unknown)         17098.846154  \n",
       "Total Days (V + XVIII + XIX + Unknown) + Total ...   93744.835165  \n",
       "Hospital Total Days (V + XVIII + XIX + Unknown)...  126462.472527  \n",
       "Hospital Total Bed Days Available For Adults &a...  140216.153846  \n",
       "Hospital Total Discharges (V + XVIII + XIX + Un...   17098.846154  \n",
       "negotiated_rates_median                                  1205.165  \n",
       "state population                                         21477737  \n",
       "median salary                                               59227  \n",
       "total hospitals                                             221.0  \n",
       "total beds                                                57018.0  \n",
       "total discharges                                        2487846.0  \n",
       "hospitals_per_100kcapita                                 1.028972  \n",
       "beds_per_100kcapita                                    265.474896  \n",
       "discharges_per_100kcapita                             11583.37119  \n",
       "hospital_ratio                                           0.004525  \n",
       "bed_ratio                                                0.006489  \n",
       "discharge_ratio                                          0.037681  "
      ]
     },
     "execution_count": 8,
     "metadata": {},
     "output_type": "execute_result"
    }
   ],
   "source": [
    "procedure = 'CPT58150'\n",
    "df_dict[procedure].head().T"
   ]
  },
  {
   "cell_type": "code",
   "execution_count": 10,
   "metadata": {},
   "outputs": [],
   "source": [
    "X_train, X_test, y_train, y_test = train_test_split(df_dict[procedure].drop(columns='negotiated_rates_median'), \n",
    "                                                    df_dict[procedure]['negotiated_rates_median'], test_size=0.3, \n",
    "                                                    random_state=47)"
   ]
  },
  {
   "cell_type": "code",
   "execution_count": 11,
   "metadata": {},
   "outputs": [
    {
     "data": {
      "text/plain": [
       "((303, 34), (130, 34))"
      ]
     },
     "execution_count": 11,
     "metadata": {},
     "output_type": "execute_result"
    }
   ],
   "source": [
    "names_list = ['ccn', 'Procedure', 'State Code','Rural Versus Urban']\n",
    "names_train = X_train[names_list]\n",
    "names_test = X_test[names_list]\n",
    "X_train.drop(columns=names_list, inplace=True)\n",
    "X_test.drop(columns=names_list, inplace=True)\n",
    "X_train.shape, X_test.shape"
   ]
  },
  {
   "cell_type": "code",
   "execution_count": 12,
   "metadata": {},
   "outputs": [
    {
     "data": {
      "text/plain": [
       "PSI_03                                                                         float64\n",
       "PSI_06                                                                         float64\n",
       "PSI_08                                                                         float64\n",
       "PSI_09                                                                         float64\n",
       "PSI_10                                                                         float64\n",
       "PSI_11                                                                         float64\n",
       "PSI_12                                                                         float64\n",
       "PSI_13                                                                         float64\n",
       "PSI_14                                                                         float64\n",
       "PSI_15                                                                         float64\n",
       "PSI_90                                                                         float64\n",
       "HAI_1_SIR                                                                      float64\n",
       "HAI_2_SIR                                                                      float64\n",
       "HAI_3_SIR                                                                      float64\n",
       "HAI_5_SIR                                                                      float64\n",
       "HAI_6_SIR                                                                      float64\n",
       "Number of Interns and Residents (FTE)                                          float64\n",
       "Number of Beds                                                                 float64\n",
       "Total Discharges (V + XVIII + XIX + Unknown)                                   float64\n",
       "Total Days (V + XVIII + XIX + Unknown) + Total for all Subproviders            float64\n",
       "Hospital Total Days (V + XVIII + XIX + Unknown) For Adults &amp; Peds          float64\n",
       "Hospital Total Bed Days Available For Adults &amp; Peds                        float64\n",
       "Hospital Total Discharges (V + XVIII + XIX + Unknown) For Adults &amp; Peds    float64\n",
       "state population                                                                 int64\n",
       "median salary                                                                    int32\n",
       "total hospitals                                                                float64\n",
       "total beds                                                                     float64\n",
       "total discharges                                                               float64\n",
       "hospitals_per_100kcapita                                                       float64\n",
       "beds_per_100kcapita                                                            float64\n",
       "discharges_per_100kcapita                                                      float64\n",
       "hospital_ratio                                                                 float64\n",
       "bed_ratio                                                                      float64\n",
       "discharge_ratio                                                                float64\n",
       "dtype: object"
      ]
     },
     "execution_count": 12,
     "metadata": {},
     "output_type": "execute_result"
    }
   ],
   "source": [
    "X_train.dtypes"
   ]
  },
  {
   "cell_type": "code",
   "execution_count": 13,
   "metadata": {},
   "outputs": [
    {
     "data": {
      "text/plain": [
       "PSI_03                                                                         float64\n",
       "PSI_06                                                                         float64\n",
       "PSI_08                                                                         float64\n",
       "PSI_09                                                                         float64\n",
       "PSI_10                                                                         float64\n",
       "PSI_11                                                                         float64\n",
       "PSI_12                                                                         float64\n",
       "PSI_13                                                                         float64\n",
       "PSI_14                                                                         float64\n",
       "PSI_15                                                                         float64\n",
       "PSI_90                                                                         float64\n",
       "HAI_1_SIR                                                                      float64\n",
       "HAI_2_SIR                                                                      float64\n",
       "HAI_3_SIR                                                                      float64\n",
       "HAI_5_SIR                                                                      float64\n",
       "HAI_6_SIR                                                                      float64\n",
       "Number of Interns and Residents (FTE)                                          float64\n",
       "Number of Beds                                                                 float64\n",
       "Total Discharges (V + XVIII + XIX + Unknown)                                   float64\n",
       "Total Days (V + XVIII + XIX + Unknown) + Total for all Subproviders            float64\n",
       "Hospital Total Days (V + XVIII + XIX + Unknown) For Adults &amp; Peds          float64\n",
       "Hospital Total Bed Days Available For Adults &amp; Peds                        float64\n",
       "Hospital Total Discharges (V + XVIII + XIX + Unknown) For Adults &amp; Peds    float64\n",
       "state population                                                                 int64\n",
       "median salary                                                                    int32\n",
       "total hospitals                                                                float64\n",
       "total beds                                                                     float64\n",
       "total discharges                                                               float64\n",
       "hospitals_per_100kcapita                                                       float64\n",
       "beds_per_100kcapita                                                            float64\n",
       "discharges_per_100kcapita                                                      float64\n",
       "hospital_ratio                                                                 float64\n",
       "bed_ratio                                                                      float64\n",
       "discharge_ratio                                                                float64\n",
       "dtype: object"
      ]
     },
     "execution_count": 13,
     "metadata": {},
     "output_type": "execute_result"
    }
   ],
   "source": [
    "X_test.dtypes"
   ]
  },
  {
   "cell_type": "code",
   "execution_count": 14,
   "metadata": {},
   "outputs": [
    {
     "data": {
      "text/plain": [
       "1341.9522442244224"
      ]
     },
     "execution_count": 14,
     "metadata": {},
     "output_type": "execute_result"
    }
   ],
   "source": [
    "train_mean = y_train.mean()\n",
    "train_mean"
   ]
  },
  {
   "cell_type": "code",
   "execution_count": 15,
   "metadata": {},
   "outputs": [
    {
     "data": {
      "text/plain": [
       "array([[1341.95224422]])"
      ]
     },
     "execution_count": 15,
     "metadata": {},
     "output_type": "execute_result"
    }
   ],
   "source": [
    "dumb_reg = DummyRegressor(strategy='mean')\n",
    "dumb_reg.fit(X_train, y_train)\n",
    "dumb_reg.constant_"
   ]
  },
  {
   "cell_type": "code",
   "execution_count": 16,
   "metadata": {},
   "outputs": [],
   "source": [
    "def r_squared(y, ypred):\n",
    "    \"\"\"R-squared score.\n",
    "    \n",
    "    Calculate the R-squared, or coefficient of determination, of the input.\n",
    "    \n",
    "    Arguments:\n",
    "    y -- the observed values\n",
    "    ypred -- the predicted values\n",
    "    \"\"\"\n",
    "    ybar = np.sum(y) / len(y) \n",
    "    sum_sq_tot = np.sum((y - ybar)**2) \n",
    "    sum_sq_res = np.sum((y - ypred)**2) \n",
    "    R2 = 1.0 - (sum_sq_res / sum_sq_tot)\n",
    "    return R2"
   ]
  },
  {
   "cell_type": "code",
   "execution_count": null,
   "metadata": {},
   "outputs": [],
   "source": [
    "y_tr_pred_ = train_mean * np.ones(len(y_train))\n",
    "y_tr_pred_[:5]"
   ]
  },
  {
   "cell_type": "code",
   "execution_count": null,
   "metadata": {},
   "outputs": [],
   "source": [
    "y_tr_pred = dumb_reg.predict(X_train)\n",
    "y_tr_pred[:5]"
   ]
  },
  {
   "cell_type": "code",
   "execution_count": null,
   "metadata": {},
   "outputs": [],
   "source": [
    "r_squared(y_train, y_tr_pred)"
   ]
  },
  {
   "cell_type": "code",
   "execution_count": null,
   "metadata": {},
   "outputs": [],
   "source": [
    "y_te_pred = train_mean * np.ones(len(y_test))\n",
    "r_squared(y_test, y_te_pred)"
   ]
  },
  {
   "cell_type": "code",
   "execution_count": null,
   "metadata": {},
   "outputs": [],
   "source": [
    "def mae(y, ypred):\n",
    "    \"\"\"Mean absolute error.\n",
    "    \n",
    "    Calculate the mean absolute error of the arguments\n",
    "\n",
    "    Arguments:\n",
    "    y -- the observed values\n",
    "    ypred -- the predicted values\n",
    "    \"\"\"\n",
    "    abs_error = np.abs(y - ypred)\n",
    "    mae = np.mean(abs_error)\n",
    "    return mae"
   ]
  },
  {
   "cell_type": "code",
   "execution_count": null,
   "metadata": {},
   "outputs": [],
   "source": [
    "mae(y_train, y_tr_pred)"
   ]
  },
  {
   "cell_type": "code",
   "execution_count": null,
   "metadata": {},
   "outputs": [],
   "source": [
    "mae(y_test, y_te_pred)"
   ]
  },
  {
   "cell_type": "code",
   "execution_count": null,
   "metadata": {},
   "outputs": [],
   "source": [
    "def mse(y, ypred):\n",
    "    \"\"\"Mean square error.\n",
    "    \n",
    "    Calculate the mean square error of the arguments\n",
    "\n",
    "    Arguments:\n",
    "    y -- the observed values\n",
    "    ypred -- the predicted values\n",
    "    \"\"\"\n",
    "    sq_error = (y - ypred)**2\n",
    "    mse = np.mean(sq_error)\n",
    "    return mse"
   ]
  },
  {
   "cell_type": "code",
   "execution_count": null,
   "metadata": {},
   "outputs": [],
   "source": [
    "mse(y_train, y_tr_pred)"
   ]
  },
  {
   "cell_type": "code",
   "execution_count": null,
   "metadata": {},
   "outputs": [],
   "source": [
    "mse(y_test, y_te_pred)"
   ]
  },
  {
   "cell_type": "code",
   "execution_count": null,
   "metadata": {},
   "outputs": [],
   "source": [
    "np.sqrt([mse(y_train, y_tr_pred), mse(y_test, y_te_pred)])"
   ]
  },
  {
   "cell_type": "code",
   "execution_count": null,
   "metadata": {},
   "outputs": [],
   "source": [
    "r2_score(y_train, y_tr_pred), r2_score(y_test, y_te_pred)"
   ]
  },
  {
   "cell_type": "code",
   "execution_count": null,
   "metadata": {},
   "outputs": [],
   "source": [
    "mean_absolute_error(y_train, y_tr_pred), mean_absolute_error(y_test, y_te_pred)"
   ]
  },
  {
   "cell_type": "code",
   "execution_count": null,
   "metadata": {},
   "outputs": [],
   "source": [
    "mean_squared_error(y_train, y_tr_pred), mean_squared_error(y_test, y_te_pred)"
   ]
  },
  {
   "cell_type": "code",
   "execution_count": null,
   "metadata": {},
   "outputs": [],
   "source": [
    "r2_score(y_train, y_tr_pred), r2_score(y_tr_pred, y_train)"
   ]
  },
  {
   "cell_type": "code",
   "execution_count": null,
   "metadata": {},
   "outputs": [],
   "source": [
    "r2_score(y_test, y_te_pred), r2_score(y_te_pred, y_test)"
   ]
  },
  {
   "cell_type": "code",
   "execution_count": null,
   "metadata": {},
   "outputs": [],
   "source": [
    "r_squared(y_train, y_tr_pred), r_squared(y_tr_pred, y_train)"
   ]
  },
  {
   "cell_type": "code",
   "execution_count": null,
   "metadata": {},
   "outputs": [],
   "source": [
    "r_squared(y_test, y_te_pred), r_squared(y_te_pred, y_test)"
   ]
  },
  {
   "cell_type": "code",
   "execution_count": null,
   "metadata": {},
   "outputs": [],
   "source": [
    "X_defaults_median = X_train.median()\n",
    "X_defaults_median"
   ]
  },
  {
   "cell_type": "code",
   "execution_count": null,
   "metadata": {},
   "outputs": [],
   "source": [
    "X_tr = X_train.fillna(X_defaults_median)\n",
    "X_te = X_test.fillna(X_defaults_median)"
   ]
  },
  {
   "cell_type": "code",
   "execution_count": null,
   "metadata": {},
   "outputs": [],
   "source": [
    "scaler = StandardScaler()\n",
    "scaler.fit(X_tr)\n",
    "X_tr_scaled = scaler.transform(X_tr)\n",
    "X_te_scaled = scaler.transform(X_te)"
   ]
  },
  {
   "cell_type": "code",
   "execution_count": null,
   "metadata": {},
   "outputs": [],
   "source": [
    "lm = LinearRegression().fit(X_tr_scaled, y_train)"
   ]
  },
  {
   "cell_type": "code",
   "execution_count": null,
   "metadata": {},
   "outputs": [],
   "source": [
    "y_tr_pred = lm.predict(X_tr_scaled)\n",
    "y_te_pred = lm.predict(X_te_scaled)"
   ]
  },
  {
   "cell_type": "code",
   "execution_count": null,
   "metadata": {},
   "outputs": [],
   "source": [
    "median_r2 = r2_score(y_train, y_tr_pred), r2_score(y_test, y_te_pred)\n",
    "median_r2"
   ]
  },
  {
   "cell_type": "code",
   "execution_count": null,
   "metadata": {},
   "outputs": [],
   "source": [
    "median_mae = mean_absolute_error(y_train, y_tr_pred), mean_absolute_error(y_test, y_te_pred)\n",
    "median_mae"
   ]
  },
  {
   "cell_type": "code",
   "execution_count": null,
   "metadata": {},
   "outputs": [],
   "source": [
    "median_mse = mean_squared_error(y_train, y_tr_pred), mean_squared_error(y_test, y_te_pred)\n",
    "median_mse"
   ]
  },
  {
   "cell_type": "code",
   "execution_count": null,
   "metadata": {},
   "outputs": [],
   "source": [
    "X_defaults_mean = X_train.mean()\n",
    "X_defaults_mean"
   ]
  },
  {
   "cell_type": "code",
   "execution_count": null,
   "metadata": {},
   "outputs": [],
   "source": [
    "X_tr = X_train.fillna(X_defaults_mean)\n",
    "X_te = X_test.fillna(X_defaults_mean)"
   ]
  },
  {
   "cell_type": "code",
   "execution_count": null,
   "metadata": {},
   "outputs": [],
   "source": [
    "scaler = StandardScaler()\n",
    "scaler.fit(X_tr)\n",
    "X_tr_scaled = scaler.transform(X_tr)\n",
    "X_te_scaled = scaler.transform(X_te)"
   ]
  },
  {
   "cell_type": "code",
   "execution_count": null,
   "metadata": {},
   "outputs": [],
   "source": [
    "lm = LinearRegression().fit(X_tr_scaled, y_train)"
   ]
  },
  {
   "cell_type": "code",
   "execution_count": null,
   "metadata": {},
   "outputs": [],
   "source": [
    "y_tr_pred = lm.predict(X_tr_scaled)\n",
    "y_te_pred = lm.predict(X_te_scaled)"
   ]
  },
  {
   "cell_type": "code",
   "execution_count": null,
   "metadata": {},
   "outputs": [],
   "source": [
    "r2_score(y_train, y_tr_pred), r2_score(y_test, y_te_pred)"
   ]
  },
  {
   "cell_type": "code",
   "execution_count": null,
   "metadata": {},
   "outputs": [],
   "source": [
    "mean_absolute_error(y_train, y_tr_pred), mean_absolute_error(y_test, y_te_pred)"
   ]
  },
  {
   "cell_type": "code",
   "execution_count": null,
   "metadata": {},
   "outputs": [],
   "source": [
    "mean_squared_error(y_train, y_tr_pred), mean_squared_error(y_test, y_te_pred)"
   ]
  },
  {
   "cell_type": "code",
   "execution_count": null,
   "metadata": {},
   "outputs": [],
   "source": [
    "pipe = make_pipeline(\n",
    "    SimpleImputer(strategy='median'), \n",
    "    StandardScaler(), \n",
    "    LinearRegression()\n",
    ")"
   ]
  },
  {
   "cell_type": "code",
   "execution_count": null,
   "metadata": {},
   "outputs": [],
   "source": [
    "hasattr(pipe, 'fit'), hasattr(pipe, 'predict')"
   ]
  },
  {
   "cell_type": "code",
   "execution_count": null,
   "metadata": {},
   "outputs": [],
   "source": [
    "pipe.fit(X_train, y_train)"
   ]
  },
  {
   "cell_type": "code",
   "execution_count": null,
   "metadata": {},
   "outputs": [],
   "source": [
    "y_tr_pred = pipe.predict(X_train)\n",
    "y_te_pred = pipe.predict(X_test)"
   ]
  },
  {
   "cell_type": "code",
   "execution_count": null,
   "metadata": {},
   "outputs": [],
   "source": [
    "r2_score(y_train, y_tr_pred), r2_score(y_test, y_te_pred)"
   ]
  },
  {
   "cell_type": "code",
   "execution_count": null,
   "metadata": {},
   "outputs": [],
   "source": [
    "median_r2"
   ]
  },
  {
   "cell_type": "code",
   "execution_count": null,
   "metadata": {},
   "outputs": [],
   "source": [
    "mean_absolute_error(y_train, y_tr_pred), mean_absolute_error(y_test, y_te_pred)"
   ]
  },
  {
   "cell_type": "code",
   "execution_count": null,
   "metadata": {},
   "outputs": [],
   "source": [
    "median_mae"
   ]
  },
  {
   "cell_type": "code",
   "execution_count": null,
   "metadata": {},
   "outputs": [],
   "source": [
    "mean_squared_error(y_train, y_tr_pred), mean_squared_error(y_test, y_te_pred)"
   ]
  },
  {
   "cell_type": "code",
   "execution_count": null,
   "metadata": {},
   "outputs": [],
   "source": [
    "median_mse"
   ]
  },
  {
   "cell_type": "code",
   "execution_count": null,
   "metadata": {},
   "outputs": [],
   "source": [
    "pipe = make_pipeline(\n",
    "    SimpleImputer(strategy='median'), \n",
    "    StandardScaler(),\n",
    "    SelectKBest(score_func=f_regression),\n",
    "    LinearRegression()\n",
    ")"
   ]
  },
  {
   "cell_type": "code",
   "execution_count": null,
   "metadata": {},
   "outputs": [],
   "source": [
    "pipe.fit(X_train, y_train)"
   ]
  },
  {
   "cell_type": "code",
   "execution_count": null,
   "metadata": {},
   "outputs": [],
   "source": [
    "y_tr_pred = pipe.predict(X_train)\n",
    "y_te_pred = pipe.predict(X_test)"
   ]
  },
  {
   "cell_type": "code",
   "execution_count": null,
   "metadata": {},
   "outputs": [],
   "source": [
    "r2_score(y_train, y_tr_pred), r2_score(y_test, y_te_pred)"
   ]
  },
  {
   "cell_type": "code",
   "execution_count": null,
   "metadata": {},
   "outputs": [],
   "source": [
    "mean_absolute_error(y_train, y_tr_pred), mean_absolute_error(y_test, y_te_pred)"
   ]
  },
  {
   "cell_type": "code",
   "execution_count": null,
   "metadata": {},
   "outputs": [],
   "source": [
    "pipe15 = make_pipeline(\n",
    "    SimpleImputer(strategy='median'), \n",
    "    StandardScaler(),\n",
    "    SelectKBest(score_func=f_regression, k=15),\n",
    "    LinearRegression()\n",
    ")"
   ]
  },
  {
   "cell_type": "code",
   "execution_count": null,
   "metadata": {},
   "outputs": [],
   "source": [
    "pipe15.fit(X_train, y_train)"
   ]
  },
  {
   "cell_type": "code",
   "execution_count": null,
   "metadata": {},
   "outputs": [],
   "source": [
    "y_tr_pred = pipe15.predict(X_train)\n",
    "y_te_pred = pipe15.predict(X_test)"
   ]
  },
  {
   "cell_type": "code",
   "execution_count": null,
   "metadata": {},
   "outputs": [],
   "source": [
    "r2_score(y_train, y_tr_pred), r2_score(y_test, y_te_pred)"
   ]
  },
  {
   "cell_type": "code",
   "execution_count": null,
   "metadata": {},
   "outputs": [],
   "source": [
    "mean_absolute_error(y_train, y_tr_pred), mean_absolute_error(y_test, y_te_pred)"
   ]
  },
  {
   "cell_type": "code",
   "execution_count": null,
   "metadata": {},
   "outputs": [],
   "source": [
    "cv_results = cross_validate(pipe15, X_train, y_train, cv=5)"
   ]
  },
  {
   "cell_type": "code",
   "execution_count": null,
   "metadata": {},
   "outputs": [],
   "source": [
    "cv_scores = cv_results['test_score']\n",
    "cv_scores"
   ]
  },
  {
   "cell_type": "code",
   "execution_count": null,
   "metadata": {},
   "outputs": [],
   "source": [
    "np.mean(cv_scores), np.std(cv_scores)"
   ]
  },
  {
   "cell_type": "code",
   "execution_count": null,
   "metadata": {},
   "outputs": [],
   "source": [
    "np.round((np.mean(cv_scores) - 2 * np.std(cv_scores), np.mean(cv_scores) + 2 * np.std(cv_scores)), 2)"
   ]
  },
  {
   "cell_type": "code",
   "execution_count": null,
   "metadata": {},
   "outputs": [],
   "source": [
    "pipe.get_params().keys()"
   ]
  },
  {
   "cell_type": "code",
   "execution_count": null,
   "metadata": {},
   "outputs": [],
   "source": [
    "k = [k+1 for k in range(len(X_train.columns))]\n",
    "grid_params = {'selectkbest__k': k}"
   ]
  },
  {
   "cell_type": "code",
   "execution_count": null,
   "metadata": {},
   "outputs": [],
   "source": [
    "lr_grid_cv = GridSearchCV(pipe, param_grid=grid_params, cv=5, n_jobs=-1)"
   ]
  },
  {
   "cell_type": "code",
   "execution_count": null,
   "metadata": {},
   "outputs": [],
   "source": [
    "lr_grid_cv.fit(X_train, y_train)"
   ]
  },
  {
   "cell_type": "code",
   "execution_count": null,
   "metadata": {},
   "outputs": [],
   "source": [
    "score_mean = lr_grid_cv.cv_results_['mean_test_score']\n",
    "score_std = lr_grid_cv.cv_results_['std_test_score']\n",
    "cv_k = [k for k in lr_grid_cv.cv_results_['param_selectkbest__k']]"
   ]
  },
  {
   "cell_type": "code",
   "execution_count": null,
   "metadata": {},
   "outputs": [],
   "source": [
    "lr_grid_cv.best_params_"
   ]
  },
  {
   "cell_type": "code",
   "execution_count": null,
   "metadata": {},
   "outputs": [],
   "source": [
    "best_k = lr_grid_cv.best_params_['selectkbest__k']\n",
    "plt.subplots(figsize=(10, 5))\n",
    "plt.errorbar(cv_k, score_mean, yerr=score_std)\n",
    "plt.axvline(x=best_k, c='r', ls='--', alpha=.5)\n",
    "plt.xlabel('k')\n",
    "plt.ylabel('CV score (r-squared)')\n",
    "plt.title('Pipeline mean CV score (error bars +/- 1sd)');"
   ]
  },
  {
   "cell_type": "code",
   "execution_count": null,
   "metadata": {},
   "outputs": [],
   "source": [
    "selected = lr_grid_cv.best_estimator_.named_steps.selectkbest.get_support()"
   ]
  },
  {
   "cell_type": "code",
   "execution_count": null,
   "metadata": {},
   "outputs": [],
   "source": [
    "coefs = lr_grid_cv.best_estimator_.named_steps.linearregression.coef_\n",
    "features = X_train.columns[selected]\n",
    "pd.Series(coefs, index=features).sort_values(ascending=False)"
   ]
  },
  {
   "cell_type": "code",
   "execution_count": null,
   "metadata": {},
   "outputs": [],
   "source": [
    "RF_pipe = make_pipeline(\n",
    "    SimpleImputer(strategy='median'),\n",
    "    StandardScaler(),\n",
    "    RandomForestRegressor(random_state=47)\n",
    ")"
   ]
  },
  {
   "cell_type": "code",
   "execution_count": null,
   "metadata": {},
   "outputs": [],
   "source": [
    "rf_default_cv_results = cross_validate(RF_pipe, X_train, y_train, cv=5)"
   ]
  },
  {
   "cell_type": "code",
   "execution_count": null,
   "metadata": {},
   "outputs": [],
   "source": [
    "rf_cv_scores = rf_default_cv_results['test_score']\n",
    "rf_cv_scores"
   ]
  },
  {
   "cell_type": "code",
   "execution_count": null,
   "metadata": {},
   "outputs": [],
   "source": [
    "np.mean(rf_cv_scores), np.std(rf_cv_scores)"
   ]
  },
  {
   "cell_type": "code",
   "execution_count": null,
   "metadata": {},
   "outputs": [],
   "source": [
    "n_est = [int(n) for n in np.logspace(start=1, stop=3, num=20)]\n",
    "grid_params = {\n",
    "        'randomforestregressor__n_estimators': n_est,\n",
    "        'standardscaler': [StandardScaler(), None],\n",
    "        'simpleimputer__strategy': ['mean', 'median']\n",
    "}\n",
    "grid_params"
   ]
  },
  {
   "cell_type": "code",
   "execution_count": null,
   "metadata": {},
   "outputs": [],
   "source": [
    "rf_grid_cv = GridSearchCV(RF_pipe, param_grid=grid_params, cv=5, n_jobs=-1)"
   ]
  },
  {
   "cell_type": "code",
   "execution_count": null,
   "metadata": {},
   "outputs": [],
   "source": [
    "rf_grid_cv.fit(X_train, y_train)"
   ]
  },
  {
   "cell_type": "code",
   "execution_count": null,
   "metadata": {},
   "outputs": [],
   "source": [
    "rf_grid_cv.best_params_"
   ]
  },
  {
   "cell_type": "code",
   "execution_count": null,
   "metadata": {},
   "outputs": [],
   "source": [
    "rf_best_cv_results = cross_validate(rf_grid_cv.best_estimator_, X_train, y_train, cv=5)\n",
    "rf_best_scores = rf_best_cv_results['test_score']\n",
    "rf_best_scores"
   ]
  },
  {
   "cell_type": "code",
   "execution_count": null,
   "metadata": {},
   "outputs": [],
   "source": [
    "np.mean(rf_best_scores), np.std(rf_best_scores)"
   ]
  },
  {
   "cell_type": "code",
   "execution_count": null,
   "metadata": {},
   "outputs": [],
   "source": [
    "plt.subplots(figsize=(10, 5))\n",
    "imps = rf_grid_cv.best_estimator_.named_steps.randomforestregressor.feature_importances_\n",
    "rf_feat_imps = pd.Series(imps, index=X_train.columns).sort_values(ascending=False)\n",
    "rf_feat_imps.plot(kind='bar')\n",
    "plt.xlabel('features')\n",
    "plt.ylabel('importance')\n",
    "plt.title('Best random forest regressor feature importances');"
   ]
  },
  {
   "cell_type": "code",
   "execution_count": null,
   "metadata": {},
   "outputs": [],
   "source": [
    "lr_neg_mae = cross_validate(lr_grid_cv.best_estimator_, X_train, y_train, \n",
    "                            scoring='neg_mean_absolute_error', cv=5, n_jobs=-1)"
   ]
  },
  {
   "cell_type": "code",
   "execution_count": null,
   "metadata": {},
   "outputs": [],
   "source": [
    "lr_mae_mean = np.mean(-1 * lr_neg_mae['test_score'])\n",
    "lr_mae_std = np.std(-1 * lr_neg_mae['test_score'])\n",
    "lr_mae_mean, lr_mae_std"
   ]
  },
  {
   "cell_type": "code",
   "execution_count": null,
   "metadata": {},
   "outputs": [],
   "source": [
    "mean_absolute_error(y_test, lr_grid_cv.best_estimator_.predict(X_test))"
   ]
  },
  {
   "cell_type": "code",
   "execution_count": null,
   "metadata": {},
   "outputs": [],
   "source": [
    "rf_neg_mae = cross_validate(rf_grid_cv.best_estimator_, X_train, y_train, \n",
    "                            scoring='neg_mean_absolute_error', cv=5, n_jobs=-1)"
   ]
  },
  {
   "cell_type": "code",
   "execution_count": null,
   "metadata": {},
   "outputs": [],
   "source": [
    "rf_mae_mean = np.mean(-1 * rf_neg_mae['test_score'])\n",
    "rf_mae_std = np.std(-1 * rf_neg_mae['test_score'])\n",
    "rf_mae_mean, rf_mae_std"
   ]
  },
  {
   "cell_type": "code",
   "execution_count": null,
   "metadata": {},
   "outputs": [],
   "source": [
    "mean_absolute_error(y_test, rf_grid_cv.best_estimator_.predict(X_test))"
   ]
  },
  {
   "cell_type": "code",
   "execution_count": null,
   "metadata": {},
   "outputs": [],
   "source": [
    "fractions = [.2, .25, .3, .35, .4, .45, .5, .6, .75, .8, 1.0]\n",
    "train_size, train_scores, test_scores = learning_curve(pipe, X_train, y_train, train_sizes=fractions)\n",
    "train_scores_mean = np.mean(train_scores, axis=1)\n",
    "train_scores_std = np.std(train_scores, axis=1)\n",
    "test_scores_mean = np.mean(test_scores, axis=1)\n",
    "test_scores_std = np.std(test_scores, axis=1)"
   ]
  },
  {
   "cell_type": "code",
   "execution_count": null,
   "metadata": {},
   "outputs": [],
   "source": [
    "plt.subplots(figsize=(10, 5))\n",
    "plt.errorbar(train_size, test_scores_mean, yerr=test_scores_std)\n",
    "plt.xlabel('Training set size')\n",
    "plt.ylabel('CV scores')\n",
    "plt.title('Cross-validation score as training set size increases');"
   ]
  },
  {
   "cell_type": "code",
   "execution_count": null,
   "metadata": {},
   "outputs": [],
   "source": [
    "best_model = rf_grid_cv.best_estimator_\n",
    "best_model.version = 1\n",
    "best_model.pandas_version = pd.__version__\n",
    "best_model.numpy_version = np.__version__\n",
    "best_model.sklearn_version = sklearn_version\n",
    "best_model.X_columns = [col for col in X_train.columns]\n",
    "best_model.build_datetime = datetime.datetime.now()"
   ]
  }
 ],
 "metadata": {
  "kernelspec": {
   "display_name": "base",
   "language": "python",
   "name": "python3"
  },
  "language_info": {
   "codemirror_mode": {
    "name": "ipython",
    "version": 3
   },
   "file_extension": ".py",
   "mimetype": "text/x-python",
   "name": "python",
   "nbconvert_exporter": "python",
   "pygments_lexer": "ipython3",
   "version": "3.9.16"
  },
  "orig_nbformat": 4,
  "vscode": {
   "interpreter": {
    "hash": "ad2bdc8ecc057115af97d19610ffacc2b4e99fae6737bb82f5d7fb13d2f2c186"
   }
  }
 },
 "nbformat": 4,
 "nbformat_minor": 2
}
