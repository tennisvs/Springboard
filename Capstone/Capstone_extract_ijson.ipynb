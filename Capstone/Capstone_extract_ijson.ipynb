{
 "cells": [
  {
   "cell_type": "code",
   "execution_count": 1,
   "metadata": {},
   "outputs": [],
   "source": [
    "import requests\n",
    "import shutil\n",
    "import ijson.backends.python as ijson\n",
    "import json\n",
    "import gzip\n",
    "from tqdm.auto import tqdm\n",
    "from csv import writer\n",
    "import os\n",
    "from io import StringIO\n",
    "import pandas as pd\n",
    "import numpy as np"
   ]
  },
  {
   "cell_type": "code",
   "execution_count": null,
   "metadata": {},
   "outputs": [],
   "source": []
  },
  {
   "cell_type": "code",
   "execution_count": 2,
   "metadata": {},
   "outputs": [],
   "source": [
    "# Define paths to important files and places where you want to store files\n",
    "hyperlink_path = 'json_files_hyperlinks.xlsx'\n",
    "hyperlinks = pd.read_excel(hyperlink_path)['Hyperlinks'].tolist()\n",
    "parent_dir= 'D:\\Vignesh\\Capstone'\n",
    "dir_json = os.path.join(parent_dir, 'JSON')\n",
    "dir_data = os.path.join(parent_dir,'data')"
   ]
  },
  {
   "cell_type": "code",
   "execution_count": 3,
   "metadata": {},
   "outputs": [],
   "source": [
    "def download_file(url, path):\n",
    "    local_filename = url.split('/')[-1]\n",
    "    download_path = os.path.join(path,local_filename)\n",
    "    if os.path.exists(download_path):\n",
    "        print(download_path + '\\nFile already Exists!')\n",
    "        return (local_filename, download_path)\n",
    "    else:\n",
    "        with requests.get(url, stream=True) as r:\n",
    "            total_length = int(r.headers.get('content-length'))\n",
    "            with tqdm.wrapattr(r.raw, \"read\", total=total_length, desc=\"\")as raw:\n",
    "                with open(download_path, 'wb') as output:\n",
    "                    shutil.copyfileobj(raw, output)\n",
    "        print(local_filename +'\\nDownload Complete')\n",
    "        return (local_filename, download_path)\n",
    "\n",
    "\n",
    "def check_file_size(url):\n",
    "    with requests.get(url, stream=True) as r:\n",
    "        return int(r.headers.get('content-length'))\n",
    "\n",
    "def download_multiple_files(urls, path):\n",
    "    local_filenames = []\n",
    "    download_paths = []\n",
    "    for url in urls:\n",
    "        local_filename = url.split('/')[-1]\n",
    "        download_path = os.path.join(path,local_filename)\n",
    "        if os.path.exists(download_path):\n",
    "            print(download_path + '\\nFile already Exists!')\n",
    "            local_filenames.append(local_filename) \n",
    "            download_paths.append(download_path)\n",
    "        else:\n",
    "            with requests.get(url, stream=True) as r:\n",
    "                total_length = int(r.headers.get('content-length'))\n",
    "                with tqdm.wrapattr(r.raw, \"read\", total=total_length, desc=\"\")as raw:\n",
    "                    with open(download_path, 'wb') as output:\n",
    "                        shutil.copyfileobj(raw, output)\n",
    "            print(local_filename +'\\nDownload Complete!')\n",
    "            local_filenames.append(local_filename) \n",
    "            download_paths.append(download_path)\n",
    "    return (local_filenames, download_paths)\n",
    "\n",
    "def delete_file(path):\n",
    "    os.remove(path)\n",
    "    print(path + '\\nFile Deleted')\n",
    "\n",
    "def write_large_file(filename, index, hyperlink):\n",
    "    with open(filename, 'a') as f:\n",
    "        writer_object = writer(f)\n",
    "        writer_object.writerow([index,hyperlink])\n",
    "        print('File Too Large, written to Large File CSV')\n",
    "        f.close()\n",
    "\n",
    "def write_completed_file(filename, index, hyperlink):\n",
    "    with open(filename, 'a') as f:\n",
    "        writer_object = writer(f)\n",
    "        writer_object.writerow([index,hyperlink])\n",
    "        print('File has been completed')\n",
    "        f.close()\n",
    "\n",
    "def write_provider_csv(filename, reference, tin, npi_provider_groups):\n",
    "    with open(filename, 'a') as f:\n",
    "        writer_object = writer(f)\n",
    "        for i,r in enumerate(reference):\n",
    "            writer_object.writerow([r,tin[i],npi_provider_groups[i]])\n",
    "        f.close()\n",
    "\n",
    "\n",
    "def write_rates_csv(filename, billing_code, provider_reference, rate):\n",
    "    with open(filename, 'a') as f:\n",
    "        writer_object = writer(f)\n",
    "        for i, ref in enumerate(provider_reference):\n",
    "            writer_object.writerow([billing_code[i],ref,rate[i]])\n",
    "        f.close()\n",
    "\n",
    "def make_paths_folders(filename, json_file):\n",
    "    folder_name = filename[0:-8]\n",
    "    path= os.path.join(dir_data, folder_name)\n",
    "    if os.path.exists(path) is False:\n",
    "        os.mkdir(path)\n",
    "    else:\n",
    "        print(path + '\\nFolder Already Exists')\n",
    "    return path\n",
    "\n",
    "def parse_file(filename, json_file):\n",
    "    path = make_paths_folders(filename, json_file)\n",
    "    providers_csv = os.path.join(path, filename[0:-8]) + '_providers.csv'\n",
    "    rates_csv = os.path.join(path, filename[0:-8]) + '_rates.csv'\n",
    "    write_provider_csv(providers_csv, ['provider_reference'], ['tin'], ['npi_provider_groups'])\n",
    "    write_rates_csv(rates_csv, ['billing_code'], ['provider_reference'], ['negotiated_rates'])\n",
    "\n",
    "    npi_provider_groups = []\n",
    "    tin = []\n",
    "    reference = []\n",
    "\n",
    "    billing_type = []\n",
    "    billing_code = []\n",
    "    ref_group = []\n",
    "    rates = []\n",
    "\n",
    "    with gzip.open(json_file, mode=\"rt\") as f:\n",
    "        parser = ijson.parse(f)\n",
    "        for prefix, event, value in parser:\n",
    "            if len(npi_provider_groups) >= 100:\n",
    "                write_provider_csv(providers_csv, reference, tin, npi_provider_groups)\n",
    "                npi_provider_groups = []\n",
    "                tin = []\n",
    "                reference = []\n",
    "        \n",
    "            if len(rates) >= 1000:\n",
    "                write_rates_csv(rates_csv, billing_code, ref_group, rates)\n",
    "                billing_code = []\n",
    "                ref_group = []\n",
    "                rates = []\n",
    "\n",
    "            \n",
    "            if prefix=='provider_references.item.provider_groups.item.npi' and event=='start_array'and value==None:\n",
    "                temp_npi = []\n",
    "            elif prefix=='provider_references.item.provider_groups.item.npi.item' and event=='number':\n",
    "                temp_npi.append(value)\n",
    "            elif prefix=='provider_references.item.provider_groups.item.tin.value' and event=='string':\n",
    "                temp_tin =value\n",
    "            elif prefix=='provider_references.item.provider_group_id' and event=='number':\n",
    "                npi_provider_groups.append(temp_npi)\n",
    "                tin.append(temp_tin)\n",
    "                reference.append(value)\n",
    "\n",
    "            elif prefix=='provider_references' and event=='end_array':\n",
    "                write_provider_csv(providers_csv, reference, tin, npi_provider_groups)\n",
    "                npi_provider_groups = []\n",
    "                tin = []\n",
    "                reference = []\n",
    "\n",
    "            elif prefix=='in_network.item.billing_code' and event=='string':\n",
    "                temp_code = value\n",
    "            elif prefix=='in_network.item.negotiated_rates.item.provider_references.item' and event=='number':\n",
    "                temp_ref = value\n",
    "            elif prefix=='in_network.item.negotiated_rates.item.negotiated_prices.item.negotiated_rate' and event=='number':\n",
    "                billing_code.append(temp_code)\n",
    "                ref_group.append(temp_ref)\n",
    "                rates.append(value)\n",
    "            elif prefix=='in_network' and event=='end_array':\n",
    "                write_rates_csv(rates_csv, billing_code, ref_group, rates)\n",
    "                billing_code = []\n",
    "                ref_group = []\n",
    "                rates = []\n",
    "        f.close()\n",
    "    print(json_file + '\\nParse Complete')    \n",
    "\n",
    "def download_parse(url, path):\n",
    "    (filename, json_file) = download_file(url, path)\n",
    "    parse_file(filename, json_file)\n",
    "\n",
    "\n",
    "def download_parse_delete(url, path):\n",
    "    (filename, json_file) = download_file(url, path)\n",
    "    parse_file(filename, json_file)\n",
    "    delete_file(json_file)"
   ]
  },
  {
   "cell_type": "code",
   "execution_count": 38,
   "metadata": {},
   "outputs": [
    {
     "data": {
      "text/plain": [
       "'https://uhc-tic-mrf.azureedge.net/public-mrf/2023-01-01/2023-01-01_Neighborhood-Health-Partnership--Inc_Insurer_D0008974_UHC-Dental_in-network-rates.json.gz'"
      ]
     },
     "execution_count": 38,
     "metadata": {},
     "output_type": "execute_result"
    }
   ],
   "source": [
    "hyperlinks[50]"
   ]
  },
  {
   "cell_type": "code",
   "execution_count": 4,
   "metadata": {},
   "outputs": [
    {
     "name": "stdout",
     "output_type": "stream",
     "text": [
      "Hyperlink File: 91 Started!\n"
     ]
    },
    {
     "data": {
      "application/vnd.jupyter.widget-view+json": {
       "model_id": "d6a881233a794d3e88d3811866b8c952",
       "version_major": 2,
       "version_minor": 0
      },
      "text/plain": [
       "  0%|          | 0/15757805 [00:00<?, ?it/s]"
      ]
     },
     "metadata": {},
     "output_type": "display_data"
    },
    {
     "name": "stdout",
     "output_type": "stream",
     "text": [
      "2023-01-01_Neighborhood-Health-Partnership--Inc-_Insurer_PPO-NDC_PPO-NDC_in-network-rates.json.gz\n",
      "Download Complete\n",
      "D:\\Vignesh\\Capstone\\JSON\\2023-01-01_Neighborhood-Health-Partnership--Inc-_Insurer_PPO-NDC_PPO-NDC_in-network-rates.json.gz\n",
      "Parse Complete\n",
      "D:\\Vignesh\\Capstone\\JSON\\2023-01-01_Neighborhood-Health-Partnership--Inc-_Insurer_PPO-NDC_PPO-NDC_in-network-rates.json.gz\n",
      "File Deleted\n",
      "File has been completed\n",
      "Hyperlink File: 92 Started!\n"
     ]
    },
    {
     "data": {
      "application/vnd.jupyter.widget-view+json": {
       "model_id": "aaa32e4659094c47bca5006fab9da939",
       "version_major": 2,
       "version_minor": 0
      },
      "text/plain": [
       "  0%|          | 0/1072 [00:00<?, ?it/s]"
      ]
     },
     "metadata": {},
     "output_type": "display_data"
    },
    {
     "name": "stdout",
     "output_type": "stream",
     "text": [
      "2023-01-01_Optimum-Choice-Inc-_Insurer_Amwell-Provider-Network_AWNETWORK_in-network-rates.json.gz\n",
      "Download Complete\n",
      "D:\\Vignesh\\Capstone\\JSON\\2023-01-01_Optimum-Choice-Inc-_Insurer_Amwell-Provider-Network_AWNETWORK_in-network-rates.json.gz\n",
      "Parse Complete\n",
      "D:\\Vignesh\\Capstone\\JSON\\2023-01-01_Optimum-Choice-Inc-_Insurer_Amwell-Provider-Network_AWNETWORK_in-network-rates.json.gz\n",
      "File Deleted\n",
      "File has been completed\n",
      "File Too Large, written to Large File CSV\n",
      "File number: 93\n",
      "File Too Large, written to Large File CSV\n",
      "File number: 94\n",
      "File Too Large, written to Large File CSV\n",
      "File number: 95\n",
      "File Too Large, written to Large File CSV\n",
      "File number: 96\n",
      "File Too Large, written to Large File CSV\n",
      "File number: 97\n",
      "File Too Large, written to Large File CSV\n",
      "File number: 98\n",
      "File Too Large, written to Large File CSV\n",
      "File number: 99\n",
      "File Too Large, written to Large File CSV\n",
      "File number: 100\n",
      "File Too Large, written to Large File CSV\n",
      "File number: 101\n",
      "File Too Large, written to Large File CSV\n",
      "File number: 102\n",
      "File Too Large, written to Large File CSV\n",
      "File number: 103\n",
      "File Too Large, written to Large File CSV\n",
      "File number: 104\n",
      "File Too Large, written to Large File CSV\n",
      "File number: 105\n",
      "File Too Large, written to Large File CSV\n",
      "File number: 106\n",
      "File Too Large, written to Large File CSV\n",
      "File number: 107\n",
      "File Too Large, written to Large File CSV\n",
      "File number: 108\n",
      "Hyperlink File: 109 Started!\n"
     ]
    },
    {
     "data": {
      "application/vnd.jupyter.widget-view+json": {
       "model_id": "67c2b05e60054dc39d65a42a5a955eba",
       "version_major": 2,
       "version_minor": 0
      },
      "text/plain": [
       "  0%|          | 0/705936 [00:00<?, ?it/s]"
      ]
     },
     "metadata": {},
     "output_type": "display_data"
    },
    {
     "name": "stdout",
     "output_type": "stream",
     "text": [
      "2023-01-01_Optimum-Choice-Inc-_Insurer_Galileo-Provider-Network_GLNETWORK_in-network-rates.json.gz\n",
      "Download Complete\n",
      "D:\\Vignesh\\Capstone\\JSON\\2023-01-01_Optimum-Choice-Inc-_Insurer_Galileo-Provider-Network_GLNETWORK_in-network-rates.json.gz\n",
      "Parse Complete\n",
      "D:\\Vignesh\\Capstone\\JSON\\2023-01-01_Optimum-Choice-Inc-_Insurer_Galileo-Provider-Network_GLNETWORK_in-network-rates.json.gz\n",
      "File Deleted\n",
      "File has been completed\n",
      "File Too Large, written to Large File CSV\n",
      "File number: 110\n",
      "Hyperlink File: 111 Started!\n"
     ]
    },
    {
     "data": {
      "application/vnd.jupyter.widget-view+json": {
       "model_id": "b51c166aae2e4c3297c3670a3492e95e",
       "version_major": 2,
       "version_minor": 0
      },
      "text/plain": [
       "  0%|          | 0/1085015 [00:00<?, ?it/s]"
      ]
     },
     "metadata": {},
     "output_type": "display_data"
    },
    {
     "name": "stdout",
     "output_type": "stream",
     "text": [
      "2023-01-01_Optimum-Choice-Inc-_Insurer_National-Ancillary-Network_NANETWORK_in-network-rates.json.gz\n",
      "Download Complete\n",
      "D:\\Vignesh\\Capstone\\JSON\\2023-01-01_Optimum-Choice-Inc-_Insurer_National-Ancillary-Network_NANETWORK_in-network-rates.json.gz\n",
      "Parse Complete\n",
      "D:\\Vignesh\\Capstone\\JSON\\2023-01-01_Optimum-Choice-Inc-_Insurer_National-Ancillary-Network_NANETWORK_in-network-rates.json.gz\n",
      "File Deleted\n",
      "File has been completed\n",
      "Hyperlink File: 112 Started!\n"
     ]
    },
    {
     "data": {
      "application/vnd.jupyter.widget-view+json": {
       "model_id": "427da442758c40eab1b913c1f539d5bb",
       "version_major": 2,
       "version_minor": 0
      },
      "text/plain": [
       "  0%|          | 0/6168 [00:00<?, ?it/s]"
      ]
     },
     "metadata": {},
     "output_type": "display_data"
    },
    {
     "name": "stdout",
     "output_type": "stream",
     "text": [
      "2023-01-01_Optimum-Choice--Inc-_Insurer_OBPM---Optum-Bundle-Payment_OBPM_in-network-rates.json.gz\n",
      "Download Complete\n",
      "D:\\Vignesh\\Capstone\\JSON\\2023-01-01_Optimum-Choice--Inc-_Insurer_OBPM---Optum-Bundle-Payment_OBPM_in-network-rates.json.gz\n",
      "Parse Complete\n",
      "D:\\Vignesh\\Capstone\\JSON\\2023-01-01_Optimum-Choice--Inc-_Insurer_OBPM---Optum-Bundle-Payment_OBPM_in-network-rates.json.gz\n",
      "File Deleted\n",
      "File has been completed\n",
      "Hyperlink File: 113 Started!\n"
     ]
    },
    {
     "data": {
      "application/vnd.jupyter.widget-view+json": {
       "model_id": "c2fb0345b30445fc94d06b021931810a",
       "version_major": 2,
       "version_minor": 0
      },
      "text/plain": [
       "  0%|          | 0/15757776 [00:00<?, ?it/s]"
      ]
     },
     "metadata": {},
     "output_type": "display_data"
    },
    {
     "name": "stdout",
     "output_type": "stream",
     "text": [
      "2023-01-01_Optimum-Choice--Inc-_Insurer_PPO-NDC_PPO-NDC_in-network-rates.json.gz\n",
      "Download Complete\n",
      "D:\\Vignesh\\Capstone\\JSON\\2023-01-01_Optimum-Choice--Inc-_Insurer_PPO-NDC_PPO-NDC_in-network-rates.json.gz\n",
      "Parse Complete\n",
      "D:\\Vignesh\\Capstone\\JSON\\2023-01-01_Optimum-Choice--Inc-_Insurer_PPO-NDC_PPO-NDC_in-network-rates.json.gz\n",
      "File Deleted\n",
      "File has been completed\n",
      "Hyperlink File: 114 Started!\n"
     ]
    },
    {
     "data": {
      "application/vnd.jupyter.widget-view+json": {
       "model_id": "d093fda311a440a1a734d4ccaf16f987",
       "version_major": 2,
       "version_minor": 0
      },
      "text/plain": [
       "  0%|          | 0/15757778 [00:00<?, ?it/s]"
      ]
     },
     "metadata": {},
     "output_type": "display_data"
    },
    {
     "name": "stdout",
     "output_type": "stream",
     "text": [
      "2023-01-01_Optimum-Choice--Inc-_Insurer_PPO---NDC_PPO-NDC_in-network-rates.json.gz\n",
      "Download Complete\n",
      "D:\\Vignesh\\Capstone\\JSON\\2023-01-01_Optimum-Choice--Inc-_Insurer_PPO---NDC_PPO-NDC_in-network-rates.json.gz\n",
      "Parse Complete\n",
      "D:\\Vignesh\\Capstone\\JSON\\2023-01-01_Optimum-Choice--Inc-_Insurer_PPO---NDC_PPO-NDC_in-network-rates.json.gz\n",
      "File Deleted\n",
      "File has been completed\n",
      "File Too Large, written to Large File CSV\n",
      "File number: 115\n",
      "Hyperlink File: 116 Started!\n"
     ]
    },
    {
     "data": {
      "application/vnd.jupyter.widget-view+json": {
       "model_id": "44c50afc9cde42658e8ec1dda14edb82",
       "version_major": 2,
       "version_minor": 0
      },
      "text/plain": [
       "  0%|          | 0/509258 [00:00<?, ?it/s]"
      ]
     },
     "metadata": {},
     "output_type": "display_data"
    },
    {
     "name": "stdout",
     "output_type": "stream",
     "text": [
      "2023-01-01_Optimum-Choice-Inc-_Insurer_UHC---Embedded-Vision_UHC-Vision_in-network-rates.json.gz\n",
      "Download Complete\n",
      "D:\\Vignesh\\Capstone\\JSON\\2023-01-01_Optimum-Choice-Inc-_Insurer_UHC---Embedded-Vision_UHC-Vision_in-network-rates.json.gz\n",
      "Parse Complete\n",
      "D:\\Vignesh\\Capstone\\JSON\\2023-01-01_Optimum-Choice-Inc-_Insurer_UHC---Embedded-Vision_UHC-Vision_in-network-rates.json.gz\n",
      "File Deleted\n",
      "File has been completed\n",
      "Hyperlink File: 117 Started!\n"
     ]
    },
    {
     "data": {
      "application/vnd.jupyter.widget-view+json": {
       "model_id": "ef981e5157ca42d2abe77e32b541e227",
       "version_major": 2,
       "version_minor": 0
      },
      "text/plain": [
       "  0%|          | 0/46672100 [00:00<?, ?it/s]"
      ]
     },
     "metadata": {},
     "output_type": "display_data"
    },
    {
     "name": "stdout",
     "output_type": "stream",
     "text": [
      "2023-01-01_Optimum-Choice-Inc-_Insurer_Virginia-Provider-Network_VANETWORK_in-network-rates.json.gz\n",
      "Download Complete\n",
      "D:\\Vignesh\\Capstone\\JSON\\2023-01-01_Optimum-Choice-Inc-_Insurer_Virginia-Provider-Network_VANETWORK_in-network-rates.json.gz\n",
      "Parse Complete\n",
      "D:\\Vignesh\\Capstone\\JSON\\2023-01-01_Optimum-Choice-Inc-_Insurer_Virginia-Provider-Network_VANETWORK_in-network-rates.json.gz\n",
      "File Deleted\n",
      "File has been completed\n",
      "File Too Large, written to Large File CSV\n",
      "File number: 118\n",
      "Hyperlink File: 119 Started!\n"
     ]
    },
    {
     "data": {
      "application/vnd.jupyter.widget-view+json": {
       "model_id": "8ee51ccbd6fd40de83737d265d4c1f9b",
       "version_major": 2,
       "version_minor": 0
      },
      "text/plain": [
       "  0%|          | 0/6243 [00:00<?, ?it/s]"
      ]
     },
     "metadata": {},
     "output_type": "display_data"
    },
    {
     "name": "stdout",
     "output_type": "stream",
     "text": [
      "2023-01-01_Optimum-Choice--Inc--and-MAMSI-Life-and-Health-Insurance-Company_Insurer_OBPM---Optum-Bundle-Payment_OBPM_in-network-rates.json.gz\n",
      "Download Complete\n",
      "D:\\Vignesh\\Capstone\\JSON\\2023-01-01_Optimum-Choice--Inc--and-MAMSI-Life-and-Health-Insurance-Company_Insurer_OBPM---Optum-Bundle-Payment_OBPM_in-network-rates.json.gz\n",
      "Parse Complete\n",
      "D:\\Vignesh\\Capstone\\JSON\\2023-01-01_Optimum-Choice--Inc--and-MAMSI-Life-and-Health-Insurance-Company_Insurer_OBPM---Optum-Bundle-Payment_OBPM_in-network-rates.json.gz\n",
      "File Deleted\n",
      "File has been completed\n",
      "Hyperlink File: 120 Started!\n"
     ]
    },
    {
     "data": {
      "application/vnd.jupyter.widget-view+json": {
       "model_id": "f6a4d546dff040b0b8f79ab589a28e86",
       "version_major": 2,
       "version_minor": 0
      },
      "text/plain": [
       "  0%|          | 0/15757851 [00:00<?, ?it/s]"
      ]
     },
     "metadata": {},
     "output_type": "display_data"
    },
    {
     "name": "stdout",
     "output_type": "stream",
     "text": [
      "2023-01-01_Optimum-Choice--Inc--and-MAMSI-Life-and-Health-Insurance-Company_Insurer_PPO-NDC_PPO-NDC_in-network-rates.json.gz\n",
      "Download Complete\n",
      "D:\\Vignesh\\Capstone\\JSON\\2023-01-01_Optimum-Choice--Inc--and-MAMSI-Life-and-Health-Insurance-Company_Insurer_PPO-NDC_PPO-NDC_in-network-rates.json.gz\n",
      "Parse Complete\n",
      "D:\\Vignesh\\Capstone\\JSON\\2023-01-01_Optimum-Choice--Inc--and-MAMSI-Life-and-Health-Insurance-Company_Insurer_PPO-NDC_PPO-NDC_in-network-rates.json.gz\n",
      "File Deleted\n",
      "File has been completed\n",
      "File Too Large, written to Large File CSV\n",
      "File number: 121\n",
      "Hyperlink File: 122 Started!\n"
     ]
    },
    {
     "data": {
      "application/vnd.jupyter.widget-view+json": {
       "model_id": "4093aba1f2274df98462ee27340d2b6b",
       "version_major": 2,
       "version_minor": 0
      },
      "text/plain": [
       "  0%|          | 0/3779259 [00:00<?, ?it/s]"
      ]
     },
     "metadata": {},
     "output_type": "display_data"
    },
    {
     "name": "stdout",
     "output_type": "stream",
     "text": [
      "2023-01-01_Oxford-Health-Insurance--Inc-_Insurer_Freedom-Network_24_in-network-rates.json.gz\n",
      "Download Complete\n",
      "D:\\Vignesh\\Capstone\\JSON\\2023-01-01_Oxford-Health-Insurance--Inc-_Insurer_Freedom-Network_24_in-network-rates.json.gz\n",
      "Parse Complete\n",
      "D:\\Vignesh\\Capstone\\JSON\\2023-01-01_Oxford-Health-Insurance--Inc-_Insurer_Freedom-Network_24_in-network-rates.json.gz\n",
      "File Deleted\n",
      "File has been completed\n",
      "Hyperlink File: 123 Started!\n"
     ]
    },
    {
     "data": {
      "application/vnd.jupyter.widget-view+json": {
       "model_id": "98529c87236a49ad9be66294ed5eb189",
       "version_major": 2,
       "version_minor": 0
      },
      "text/plain": [
       "  0%|          | 0/3684743 [00:00<?, ?it/s]"
      ]
     },
     "metadata": {},
     "output_type": "display_data"
    },
    {
     "name": "stdout",
     "output_type": "stream",
     "text": [
      "2023-01-01_Oxford-Health-Insurance--Inc-_Insurer_Liberty-Network_25_in-network-rates.json.gz\n",
      "Download Complete\n",
      "D:\\Vignesh\\Capstone\\JSON\\2023-01-01_Oxford-Health-Insurance--Inc-_Insurer_Liberty-Network_25_in-network-rates.json.gz\n",
      "Parse Complete\n",
      "D:\\Vignesh\\Capstone\\JSON\\2023-01-01_Oxford-Health-Insurance--Inc-_Insurer_Liberty-Network_25_in-network-rates.json.gz\n",
      "File Deleted\n",
      "File has been completed\n",
      "Hyperlink File: 124 Started!\n"
     ]
    },
    {
     "data": {
      "application/vnd.jupyter.widget-view+json": {
       "model_id": "9a3536bbe535450eb9315fd990dbaba7",
       "version_major": 2,
       "version_minor": 0
      },
      "text/plain": [
       "  0%|          | 0/2552045 [00:00<?, ?it/s]"
      ]
     },
     "metadata": {},
     "output_type": "display_data"
    },
    {
     "name": "stdout",
     "output_type": "stream",
     "text": [
      "2023-01-01_Oxford-Health-Insurance--Inc-_Insurer_Metro-Network_27_in-network-rates.json.gz\n",
      "Download Complete\n",
      "D:\\Vignesh\\Capstone\\JSON\\2023-01-01_Oxford-Health-Insurance--Inc-_Insurer_Metro-Network_27_in-network-rates.json.gz\n",
      "Parse Complete\n",
      "D:\\Vignesh\\Capstone\\JSON\\2023-01-01_Oxford-Health-Insurance--Inc-_Insurer_Metro-Network_27_in-network-rates.json.gz\n",
      "File Deleted\n",
      "File has been completed\n",
      "File Too Large, written to Large File CSV\n",
      "File number: 125\n",
      "Hyperlink File: 126 Started!\n"
     ]
    },
    {
     "data": {
      "application/vnd.jupyter.widget-view+json": {
       "model_id": "b4abe56ccdd34651840adf8179c9b481",
       "version_major": 2,
       "version_minor": 0
      },
      "text/plain": [
       "  0%|          | 0/222697 [00:00<?, ?it/s]"
      ]
     },
     "metadata": {},
     "output_type": "display_data"
    },
    {
     "name": "stdout",
     "output_type": "stream",
     "text": [
      "2023-01-01_Oxford-Health-Insurance--Inc-_Insurer_OHPH-Acupuncture-Massage-Naturopath_31_in-network-rates.json.gz\n",
      "Download Complete\n",
      "D:\\Vignesh\\Capstone\\JSON\\2023-01-01_Oxford-Health-Insurance--Inc-_Insurer_OHPH-Acupuncture-Massage-Naturopath_31_in-network-rates.json.gz\n",
      "Parse Complete\n",
      "D:\\Vignesh\\Capstone\\JSON\\2023-01-01_Oxford-Health-Insurance--Inc-_Insurer_OHPH-Acupuncture-Massage-Naturopath_31_in-network-rates.json.gz\n",
      "File Deleted\n",
      "File has been completed\n",
      "Hyperlink File: 127 Started!\n"
     ]
    },
    {
     "data": {
      "application/vnd.jupyter.widget-view+json": {
       "model_id": "f53475506ae541e9b7f3d2f2049d8036",
       "version_major": 2,
       "version_minor": 0
      },
      "text/plain": [
       "  0%|          | 0/2727185 [00:00<?, ?it/s]"
      ]
     },
     "metadata": {},
     "output_type": "display_data"
    },
    {
     "name": "stdout",
     "output_type": "stream",
     "text": [
      "2023-01-01_Oxford-Health-Insurance--Inc-_Insurer_OHPH-Chiro_28_in-network-rates.json.gz\n",
      "Download Complete\n",
      "D:\\Vignesh\\Capstone\\JSON\\2023-01-01_Oxford-Health-Insurance--Inc-_Insurer_OHPH-Chiro_28_in-network-rates.json.gz\n",
      "Parse Complete\n",
      "D:\\Vignesh\\Capstone\\JSON\\2023-01-01_Oxford-Health-Insurance--Inc-_Insurer_OHPH-Chiro_28_in-network-rates.json.gz\n",
      "File Deleted\n",
      "File has been completed\n",
      "Hyperlink File: 128 Started!\n"
     ]
    },
    {
     "data": {
      "application/vnd.jupyter.widget-view+json": {
       "model_id": "b13eb044c2644bb893450e5348c272a2",
       "version_major": 2,
       "version_minor": 0
      },
      "text/plain": [
       "  0%|          | 0/406337 [00:00<?, ?it/s]"
      ]
     },
     "metadata": {},
     "output_type": "display_data"
    },
    {
     "name": "stdout",
     "output_type": "stream",
     "text": [
      "2023-01-01_Oxford-Health-Insurance--Inc-_Insurer_OHPH-ST_30_in-network-rates.json.gz\n",
      "Download Complete\n",
      "D:\\Vignesh\\Capstone\\JSON\\2023-01-01_Oxford-Health-Insurance--Inc-_Insurer_OHPH-ST_30_in-network-rates.json.gz\n",
      "Parse Complete\n",
      "D:\\Vignesh\\Capstone\\JSON\\2023-01-01_Oxford-Health-Insurance--Inc-_Insurer_OHPH-ST_30_in-network-rates.json.gz\n",
      "File Deleted\n",
      "File has been completed\n",
      "Hyperlink File: 129 Started!\n"
     ]
    },
    {
     "data": {
      "application/vnd.jupyter.widget-view+json": {
       "model_id": "3c2f4857987349b38fc5b048aee6c0c3",
       "version_major": 2,
       "version_minor": 0
      },
      "text/plain": [
       "  0%|          | 0/229547 [00:00<?, ?it/s]"
      ]
     },
     "metadata": {},
     "output_type": "display_data"
    },
    {
     "name": "stdout",
     "output_type": "stream",
     "text": [
      "2023-01-01_Oxford-Health-Insurance--Inc-_Insurer_OPH---Optum-Physical-Health_OPH-160_in-network-rates.json.gz\n",
      "Download Complete\n",
      "D:\\Vignesh\\Capstone\\JSON\\2023-01-01_Oxford-Health-Insurance--Inc-_Insurer_OPH---Optum-Physical-Health_OPH-160_in-network-rates.json.gz\n",
      "Parse Complete\n",
      "D:\\Vignesh\\Capstone\\JSON\\2023-01-01_Oxford-Health-Insurance--Inc-_Insurer_OPH---Optum-Physical-Health_OPH-160_in-network-rates.json.gz\n",
      "File Deleted\n",
      "File has been completed\n",
      "Hyperlink File: 130 Started!\n"
     ]
    },
    {
     "data": {
      "application/vnd.jupyter.widget-view+json": {
       "model_id": "58471dbbfa3b40328ff33190b334fe7e",
       "version_major": 2,
       "version_minor": 0
      },
      "text/plain": [
       "  0%|          | 0/4003228 [00:00<?, ?it/s]"
      ]
     },
     "metadata": {},
     "output_type": "display_data"
    },
    {
     "name": "stdout",
     "output_type": "stream",
     "text": [
      "2023-01-01_Oxford-Health-Insurance--Inc-_Insurer_Optum-Health-Behavioral-Services--OHBS-_5_in-network-rates.json.gz\n",
      "Download Complete\n",
      "D:\\Vignesh\\Capstone\\JSON\\2023-01-01_Oxford-Health-Insurance--Inc-_Insurer_Optum-Health-Behavioral-Services--OHBS-_5_in-network-rates.json.gz\n",
      "Parse Complete\n",
      "D:\\Vignesh\\Capstone\\JSON\\2023-01-01_Oxford-Health-Insurance--Inc-_Insurer_Optum-Health-Behavioral-Services--OHBS-_5_in-network-rates.json.gz\n",
      "File Deleted\n",
      "File has been completed\n",
      "Hyperlink File: 131 Started!\n"
     ]
    },
    {
     "data": {
      "application/vnd.jupyter.widget-view+json": {
       "model_id": "0ab217d9b27c47dea4f0e6d0f04b89d5",
       "version_major": 2,
       "version_minor": 0
      },
      "text/plain": [
       "  0%|          | 0/15757791 [00:00<?, ?it/s]"
      ]
     },
     "metadata": {},
     "output_type": "display_data"
    },
    {
     "name": "stdout",
     "output_type": "stream",
     "text": [
      "2023-01-01_Oxford-Health-Insurance--Inc-_Insurer_PPO---NDC_PPO-NDC_in-network-rates.json.gz\n",
      "Download Complete\n"
     ]
    },
    {
     "ename": "OSError",
     "evalue": "[Errno 22] Invalid argument",
     "output_type": "error",
     "traceback": [
      "\u001b[1;31m---------------------------------------------------------------------------\u001b[0m",
      "\u001b[1;31mOSError\u001b[0m                                   Traceback (most recent call last)",
      "Cell \u001b[1;32mIn [4], line 8\u001b[0m\n\u001b[0;32m      6\u001b[0m \u001b[39mif\u001b[39;00m check_file_size(hyperlinks[i]) \u001b[39m<\u001b[39m\u001b[39m=\u001b[39m \u001b[39m50000000\u001b[39m: \n\u001b[0;32m      7\u001b[0m     \u001b[39mprint\u001b[39m(\u001b[39m'\u001b[39m\u001b[39mHyperlink File: \u001b[39m\u001b[39m'\u001b[39m \u001b[39m+\u001b[39m \u001b[39mstr\u001b[39m(i) \u001b[39m+\u001b[39m \u001b[39m'\u001b[39m\u001b[39m Started!\u001b[39m\u001b[39m'\u001b[39m)\n\u001b[1;32m----> 8\u001b[0m     download_parse_delete(hyperlinks[i], dir_json)\n\u001b[0;32m      9\u001b[0m     write_completed_file(completed, i, hyperlinks[i])\n\u001b[0;32m     10\u001b[0m \u001b[39melse\u001b[39;00m:\n",
      "Cell \u001b[1;32mIn [3], line 156\u001b[0m, in \u001b[0;36mdownload_parse_delete\u001b[1;34m(url, path)\u001b[0m\n\u001b[0;32m    154\u001b[0m \u001b[39mdef\u001b[39;00m \u001b[39mdownload_parse_delete\u001b[39m(url, path):\n\u001b[0;32m    155\u001b[0m     (filename, json_file) \u001b[39m=\u001b[39m download_file(url, path)\n\u001b[1;32m--> 156\u001b[0m     parse_file(filename, json_file)\n\u001b[0;32m    157\u001b[0m     delete_file(json_file)\n",
      "Cell \u001b[1;32mIn [3], line 102\u001b[0m, in \u001b[0;36mparse_file\u001b[1;34m(filename, json_file)\u001b[0m\n\u001b[0;32m    100\u001b[0m \u001b[39mwith\u001b[39;00m gzip\u001b[39m.\u001b[39mopen(json_file, mode\u001b[39m=\u001b[39m\u001b[39m\"\u001b[39m\u001b[39mrt\u001b[39m\u001b[39m\"\u001b[39m) \u001b[39mas\u001b[39;00m f:\n\u001b[0;32m    101\u001b[0m     parser \u001b[39m=\u001b[39m ijson\u001b[39m.\u001b[39mparse(f)\n\u001b[1;32m--> 102\u001b[0m     \u001b[39mfor\u001b[39;00m prefix, event, value \u001b[39min\u001b[39;00m parser:\n\u001b[0;32m    103\u001b[0m         \u001b[39mif\u001b[39;00m \u001b[39mlen\u001b[39m(npi_provider_groups) \u001b[39m>\u001b[39m\u001b[39m=\u001b[39m \u001b[39m100\u001b[39m:\n\u001b[0;32m    104\u001b[0m             write_provider_csv(providers_csv, reference, tin, npi_provider_groups)\n",
      "File \u001b[1;32mc:\\ProgramData\\Anaconda3\\lib\\site-packages\\ijson\\utils.py:53\u001b[0m, in \u001b[0;36mcoros2gen\u001b[1;34m(source, *coro_pipeline)\u001b[0m\n\u001b[0;32m     51\u001b[0m f \u001b[39m=\u001b[39m chain(events, \u001b[39m*\u001b[39mcoro_pipeline)\n\u001b[0;32m     52\u001b[0m \u001b[39mtry\u001b[39;00m:\n\u001b[1;32m---> 53\u001b[0m     \u001b[39mfor\u001b[39;00m value \u001b[39min\u001b[39;00m source:\n\u001b[0;32m     54\u001b[0m         \u001b[39mtry\u001b[39;00m:\n\u001b[0;32m     55\u001b[0m             f\u001b[39m.\u001b[39msend(value)\n",
      "File \u001b[1;32mc:\\ProgramData\\Anaconda3\\lib\\site-packages\\ijson\\common.py:219\u001b[0m, in \u001b[0;36mfile_source\u001b[1;34m(f, buf_size)\u001b[0m\n\u001b[0;32m    217\u001b[0m f \u001b[39m=\u001b[39m compat\u001b[39m.\u001b[39mbytes_reader(f)\n\u001b[0;32m    218\u001b[0m \u001b[39mwhile\u001b[39;00m \u001b[39mTrue\u001b[39;00m:\n\u001b[1;32m--> 219\u001b[0m     data \u001b[39m=\u001b[39m f\u001b[39m.\u001b[39;49mread(buf_size)\n\u001b[0;32m    220\u001b[0m     \u001b[39myield\u001b[39;00m data\n\u001b[0;32m    221\u001b[0m     \u001b[39mif\u001b[39;00m \u001b[39mnot\u001b[39;00m data:\n",
      "File \u001b[1;32mc:\\ProgramData\\Anaconda3\\lib\\site-packages\\ijson\\compat.py:32\u001b[0m, in \u001b[0;36mutf8reader.read\u001b[1;34m(self, n)\u001b[0m\n\u001b[0;32m     31\u001b[0m \u001b[39mdef\u001b[39;00m \u001b[39mread\u001b[39m(\u001b[39mself\u001b[39m, n):\n\u001b[1;32m---> 32\u001b[0m     \u001b[39mreturn\u001b[39;00m \u001b[39mself\u001b[39;49m\u001b[39m.\u001b[39;49mstr_reader\u001b[39m.\u001b[39;49mread(n)\u001b[39m.\u001b[39mencode(\u001b[39m'\u001b[39m\u001b[39mutf-8\u001b[39m\u001b[39m'\u001b[39m)\n",
      "File \u001b[1;32mc:\\ProgramData\\Anaconda3\\lib\\gzip.py:313\u001b[0m, in \u001b[0;36mGzipFile.read1\u001b[1;34m(self, size)\u001b[0m\n\u001b[0;32m    311\u001b[0m \u001b[39mif\u001b[39;00m size \u001b[39m<\u001b[39m \u001b[39m0\u001b[39m:\n\u001b[0;32m    312\u001b[0m     size \u001b[39m=\u001b[39m io\u001b[39m.\u001b[39mDEFAULT_BUFFER_SIZE\n\u001b[1;32m--> 313\u001b[0m \u001b[39mreturn\u001b[39;00m \u001b[39mself\u001b[39;49m\u001b[39m.\u001b[39;49m_buffer\u001b[39m.\u001b[39;49mread1(size)\n",
      "File \u001b[1;32mc:\\ProgramData\\Anaconda3\\lib\\_compression.py:68\u001b[0m, in \u001b[0;36mDecompressReader.readinto\u001b[1;34m(self, b)\u001b[0m\n\u001b[0;32m     66\u001b[0m \u001b[39mdef\u001b[39;00m \u001b[39mreadinto\u001b[39m(\u001b[39mself\u001b[39m, b):\n\u001b[0;32m     67\u001b[0m     \u001b[39mwith\u001b[39;00m \u001b[39mmemoryview\u001b[39m(b) \u001b[39mas\u001b[39;00m view, view\u001b[39m.\u001b[39mcast(\u001b[39m\"\u001b[39m\u001b[39mB\u001b[39m\u001b[39m\"\u001b[39m) \u001b[39mas\u001b[39;00m byte_view:\n\u001b[1;32m---> 68\u001b[0m         data \u001b[39m=\u001b[39m \u001b[39mself\u001b[39;49m\u001b[39m.\u001b[39;49mread(\u001b[39mlen\u001b[39;49m(byte_view))\n\u001b[0;32m     69\u001b[0m         byte_view[:\u001b[39mlen\u001b[39m(data)] \u001b[39m=\u001b[39m data\n\u001b[0;32m     70\u001b[0m     \u001b[39mreturn\u001b[39;00m \u001b[39mlen\u001b[39m(data)\n",
      "File \u001b[1;32mc:\\ProgramData\\Anaconda3\\lib\\gzip.py:493\u001b[0m, in \u001b[0;36m_GzipReader.read\u001b[1;34m(self, size)\u001b[0m\n\u001b[0;32m    490\u001b[0m     \u001b[39mself\u001b[39m\u001b[39m.\u001b[39m_new_member \u001b[39m=\u001b[39m \u001b[39mFalse\u001b[39;00m\n\u001b[0;32m    492\u001b[0m \u001b[39m# Read a chunk of data from the file\u001b[39;00m\n\u001b[1;32m--> 493\u001b[0m buf \u001b[39m=\u001b[39m \u001b[39mself\u001b[39;49m\u001b[39m.\u001b[39;49m_fp\u001b[39m.\u001b[39;49mread(io\u001b[39m.\u001b[39;49mDEFAULT_BUFFER_SIZE)\n\u001b[0;32m    495\u001b[0m uncompress \u001b[39m=\u001b[39m \u001b[39mself\u001b[39m\u001b[39m.\u001b[39m_decompressor\u001b[39m.\u001b[39mdecompress(buf, size)\n\u001b[0;32m    496\u001b[0m \u001b[39mif\u001b[39;00m \u001b[39mself\u001b[39m\u001b[39m.\u001b[39m_decompressor\u001b[39m.\u001b[39munconsumed_tail \u001b[39m!=\u001b[39m \u001b[39mb\u001b[39m\u001b[39m\"\u001b[39m\u001b[39m\"\u001b[39m:\n",
      "File \u001b[1;32mc:\\ProgramData\\Anaconda3\\lib\\gzip.py:96\u001b[0m, in \u001b[0;36m_PaddedFile.read\u001b[1;34m(self, size)\u001b[0m\n\u001b[0;32m     93\u001b[0m read \u001b[39m=\u001b[39m \u001b[39mself\u001b[39m\u001b[39m.\u001b[39m_read\n\u001b[0;32m     94\u001b[0m \u001b[39mself\u001b[39m\u001b[39m.\u001b[39m_read \u001b[39m=\u001b[39m \u001b[39mNone\u001b[39;00m\n\u001b[0;32m     95\u001b[0m \u001b[39mreturn\u001b[39;00m \u001b[39mself\u001b[39m\u001b[39m.\u001b[39m_buffer[read:] \u001b[39m+\u001b[39m \\\n\u001b[1;32m---> 96\u001b[0m        \u001b[39mself\u001b[39;49m\u001b[39m.\u001b[39;49mfile\u001b[39m.\u001b[39;49mread(size\u001b[39m-\u001b[39;49m\u001b[39mself\u001b[39;49m\u001b[39m.\u001b[39;49m_length\u001b[39m+\u001b[39;49mread)\n",
      "\u001b[1;31mOSError\u001b[0m: [Errno 22] Invalid argument"
     ]
    }
   ],
   "source": [
    "number_to_parse = 100\n",
    "start = 131\n",
    "large_files = 'json_large_hyperlinks.csv'\n",
    "completed = 'json_completed_hyperlinks.csv'\n",
    "for i in range(start,start + number_to_parse):\n",
    "    if check_file_size(hyperlinks[i]) <= 50000000: \n",
    "        print('Hyperlink File: ' + str(i) + ' Started!')\n",
    "        download_parse_delete(hyperlinks[i], dir_json)\n",
    "        write_completed_file(completed, i, hyperlinks[i])\n",
    "    else:\n",
    "        write_large_file(large_files,i,hyperlinks[i])\n",
    "        print('File number: ' + str(i))\n"
   ]
  }
 ],
 "metadata": {
  "kernelspec": {
   "display_name": "base",
   "language": "python",
   "name": "python3"
  },
  "language_info": {
   "codemirror_mode": {
    "name": "ipython",
    "version": 3
   },
   "file_extension": ".py",
   "mimetype": "text/x-python",
   "name": "python",
   "nbconvert_exporter": "python",
   "pygments_lexer": "ipython3",
   "version": "3.9.13"
  },
  "orig_nbformat": 4,
  "vscode": {
   "interpreter": {
    "hash": "ad2bdc8ecc057115af97d19610ffacc2b4e99fae6737bb82f5d7fb13d2f2c186"
   }
  }
 },
 "nbformat": 4,
 "nbformat_minor": 2
}
