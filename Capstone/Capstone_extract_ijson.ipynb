{
 "cells": [
  {
   "cell_type": "code",
   "execution_count": 1,
   "metadata": {},
   "outputs": [],
   "source": [
    "import requests\n",
    "import shutil\n",
    "import ijson.backends.python as ijson\n",
    "import json\n",
    "import gzip\n",
    "from tqdm.auto import tqdm\n",
    "from csv import writer\n",
    "import os\n",
    "from io import StringIO\n",
    "import pandas as pd\n",
    "import numpy as np"
   ]
  },
  {
   "cell_type": "code",
   "execution_count": 13,
   "metadata": {},
   "outputs": [],
   "source": [
    "# Define paths to important files and places where you want to store files\n",
    "hyperlink_path = 'json_files_hyperlinks.xlsx'\n",
    "hyperlinks = pd.read_excel(hyperlink_path)['Hyperlinks'].tolist()\n",
    "parent_dir= 'D:\\Vignesh\\Capstone'\n",
    "dir_json = os.path.join(parent_dir, 'JSON')\n",
    "dir_data = os.path.join(parent_dir,'data_update')"
   ]
  },
  {
   "cell_type": "code",
   "execution_count": 15,
   "metadata": {},
   "outputs": [],
   "source": [
    "def download_file(url, path):\n",
    "    local_filename = url.split('/')[-1]\n",
    "    download_path = os.path.join(path,local_filename)\n",
    "    if os.path.exists(download_path):\n",
    "        print(download_path + '\\nFile already Exists!')\n",
    "        return (local_filename, download_path)\n",
    "    else:\n",
    "        with requests.get(url, stream=True) as r:\n",
    "            total_length = int(r.headers.get('content-length'))\n",
    "            with tqdm.wrapattr(r.raw, \"read\", total=total_length, desc=\"\")as raw:\n",
    "                with open(download_path, 'wb') as output:\n",
    "                    shutil.copyfileobj(raw, output)\n",
    "        print(local_filename +'\\nDownload Complete')\n",
    "        return (local_filename, download_path)\n",
    "\n",
    "\n",
    "def check_file_size(url):\n",
    "    with requests.get(url, stream=True) as r:\n",
    "        return int(r.headers.get('content-length'))\n",
    "\n",
    "def download_multiple_files(urls, path):\n",
    "    local_filenames = []\n",
    "    download_paths = []\n",
    "    for url in urls:\n",
    "        local_filename = url.split('/')[-1]\n",
    "        download_path = os.path.join(path,local_filename)\n",
    "        if os.path.exists(download_path):\n",
    "            print(download_path + '\\nFile already Exists!')\n",
    "            local_filenames.append(local_filename) \n",
    "            download_paths.append(download_path)\n",
    "        else:\n",
    "            with requests.get(url, stream=True) as r:\n",
    "                total_length = int(r.headers.get('content-length'))\n",
    "                with tqdm.wrapattr(r.raw, \"read\", total=total_length, desc=\"\")as raw:\n",
    "                    with open(download_path, 'wb') as output:\n",
    "                        shutil.copyfileobj(raw, output)\n",
    "            print(local_filename +'\\nDownload Complete!')\n",
    "            local_filenames.append(local_filename) \n",
    "            download_paths.append(download_path)\n",
    "    return (local_filenames, download_paths)\n",
    "\n",
    "def delete_file(path):\n",
    "    os.remove(path)\n",
    "    print(path + '\\nFile Deleted')\n",
    "\n",
    "def write_large_file(filename, index, hyperlink):\n",
    "    with open(filename, 'a') as f:\n",
    "        writer_object = writer(f)\n",
    "        writer_object.writerow([index,hyperlink])\n",
    "        print('File Too Large, written to Large File CSV')\n",
    "        f.close()\n",
    "\n",
    "def write_completed_file(filename, index, hyperlink):\n",
    "    with open(filename, 'a') as f:\n",
    "        writer_object = writer(f)\n",
    "        writer_object.writerow([index,hyperlink])\n",
    "        print('File has been completed')\n",
    "        f.close()\n",
    "\n",
    "def write_provider_csv(filename, reference, tin, npi_provider_groups):\n",
    "    with open(filename, 'a') as f:\n",
    "        writer_object = writer(f)\n",
    "        for i,r in enumerate(reference):\n",
    "            writer_object.writerow([r,tin[i],npi_provider_groups[i]])\n",
    "        f.close()\n",
    "\n",
    "\n",
    "def write_rates_csv(filename, billing_type, billing_code, provider_reference, rate):\n",
    "    with open(filename, 'a') as f:\n",
    "        writer_object = writer(f)\n",
    "        for i, ref in enumerate(provider_reference):\n",
    "            writer_object.writerow([billing_type[i],billing_code[i],ref,rate[i]])\n",
    "        f.close()\n",
    "\n",
    "def make_paths_folders(filename, json_file):\n",
    "    folder_name = filename[0:-8]\n",
    "    path= os.path.join(dir_data, folder_name)\n",
    "    if os.path.exists(path) is False:\n",
    "        os.mkdir(path)\n",
    "    else:\n",
    "        print(path + '\\nFolder Already Exists')\n",
    "    return path\n",
    "\n",
    "def parse_file(filename, json_file):\n",
    "    path = make_paths_folders(filename, json_file)\n",
    "    providers_csv = os.path.join(path, filename[0:-8]) + '_providers.csv'\n",
    "    rates_csv = os.path.join(path, filename[0:-8]) + '_rates.csv'\n",
    "    write_provider_csv(providers_csv, ['provider_reference'], ['tin'], ['npi_provider_groups'])\n",
    "    write_rates_csv(rates_csv, ['billing_type'], ['billing_code'], ['provider_reference'], ['negotiated_rates'])\n",
    "\n",
    "    npi_provider_groups = []\n",
    "    tin = []\n",
    "    reference = []\n",
    "\n",
    "    billing_type = []\n",
    "    billing_code = []\n",
    "    ref_group = []\n",
    "    rates = []\n",
    "\n",
    "    with gzip.open(json_file, mode=\"rt\") as f:\n",
    "        parser = ijson.parse(f)\n",
    "        for prefix, event, value in tqdm(parser):\n",
    "            if len(npi_provider_groups) >= 1000:\n",
    "                write_provider_csv(providers_csv, reference, tin, npi_provider_groups)\n",
    "                npi_provider_groups = []\n",
    "                tin = []\n",
    "                reference = []\n",
    "            if len(rates) >= 10000:\n",
    "                write_rates_csv(rates_csv, billing_type, billing_code, ref_group, rates)\n",
    "                billing_type = []\n",
    "                billing_code = []\n",
    "                ref_group = []\n",
    "                rates = []\n",
    "\n",
    "            \n",
    "            if prefix=='provider_references.item.provider_groups.item.npi' and event=='start_array'and value==None:\n",
    "                temp_npi = []\n",
    "            elif prefix=='provider_references.item.provider_groups.item.npi.item' and event=='number':\n",
    "                temp_npi.append(value)\n",
    "            elif prefix=='provider_references.item.provider_groups.item.tin.value' and event=='string':\n",
    "                temp_tin =value\n",
    "            elif prefix=='provider_references.item.provider_group_id' and event=='number':\n",
    "                npi_provider_groups.append(temp_npi)\n",
    "                tin.append(temp_tin)\n",
    "                reference.append(value)\n",
    "\n",
    "            elif prefix=='provider_references' and event=='end_array':\n",
    "                write_provider_csv(providers_csv, reference, tin, npi_provider_groups)\n",
    "                npi_provider_groups = []\n",
    "                tin = []\n",
    "                reference = []\n",
    "            \n",
    "            elif prefix=='in_network.item.billing_code_type' and event=='string':\n",
    "                temp_type = value\n",
    "            elif prefix=='in_network.item.billing_code' and event=='string':\n",
    "                temp_code = value\n",
    "            elif prefix=='in_network.item.negotiated_rates.item.provider_references.item' and event=='number':\n",
    "                temp_ref = value\n",
    "            elif prefix=='in_network.item.negotiated_rates.item.negotiated_prices.item.negotiated_rate' and event=='number':\n",
    "                billing_type.append(temp_type)\n",
    "                billing_code.append(temp_code)\n",
    "                ref_group.append(temp_ref)\n",
    "                rates.append(value)\n",
    "            elif prefix=='in_network' and event=='end_array':\n",
    "                write_rates_csv(rates_csv, billing_type, billing_code, ref_group, rates)\n",
    "                billing_type = []\n",
    "                billing_code = []\n",
    "                ref_group = []\n",
    "                rates = []\n",
    "        f.close()\n",
    "    print(json_file + '\\nParse Complete')    \n",
    "\n",
    "def download_parse(url, path):\n",
    "    (filename, json_file) = download_file(url, path)\n",
    "    parse_file(filename, json_file)\n",
    "\n",
    "\n",
    "def download_parse_delete(url, path):\n",
    "    (filename, json_file) = download_file(url, path)\n",
    "    parse_file(filename, json_file)\n",
    "    delete_file(json_file)"
   ]
  },
  {
   "cell_type": "code",
   "execution_count": 10,
   "metadata": {},
   "outputs": [
    {
     "data": {
      "text/plain": [
       "'https://uhc-tic-mrf.azureedge.net/public-mrf/2023-01-01/2023-01-01_ALL-SAVERS-INSURANCE-COMPANY_Insurer_PPO---NDC_PPO-NDC_in-network-rates.json.gz'"
      ]
     },
     "execution_count": 10,
     "metadata": {},
     "output_type": "execute_result"
    }
   ],
   "source": [
    "hyperlinks[0]"
   ]
  },
  {
   "cell_type": "code",
   "execution_count": 11,
   "metadata": {},
   "outputs": [
    {
     "name": "stdout",
     "output_type": "stream",
     "text": [
      "Hyperlink File: 0 Started!\n",
      "D:\\Vignesh\\Capstone\\JSON\\2023-01-01_ALL-SAVERS-INSURANCE-COMPANY_Insurer_PPO---NDC_PPO-NDC_in-network-rates.json.gz\n",
      "File already Exists!\n",
      "D:\\Vignesh\\Capstone\\JSON\\2023-01-01_ALL-SAVERS-INSURANCE-COMPANY_Insurer_PPO---NDC_PPO-NDC_in-network-rates.json.gz\n",
      "Parse Complete\n",
      "D:\\Vignesh\\Capstone\\JSON\\2023-01-01_ALL-SAVERS-INSURANCE-COMPANY_Insurer_PPO---NDC_PPO-NDC_in-network-rates.json.gz\n",
      "File Deleted\n",
      "File has been completed\n",
      "Hyperlink File: 1 Started!\n"
     ]
    },
    {
     "data": {
      "application/vnd.jupyter.widget-view+json": {
       "model_id": "0dafd39ad4cd4d8492d410ce3f6c2519",
       "version_major": 2,
       "version_minor": 0
      },
      "text/plain": [
       "  0%|          | 0/15757791 [00:00<?, ?it/s]"
      ]
     },
     "metadata": {},
     "output_type": "display_data"
    },
    {
     "name": "stdout",
     "output_type": "stream",
     "text": [
      "2023-01-01_Golden-Rule-Insurance-Company_Insurer_PPO---NDC_PPO-NDC_in-network-rates.json.gz\n",
      "Download Complete\n",
      "D:\\Vignesh\\Capstone\\JSON\\2023-01-01_Golden-Rule-Insurance-Company_Insurer_PPO---NDC_PPO-NDC_in-network-rates.json.gz\n",
      "Parse Complete\n",
      "D:\\Vignesh\\Capstone\\JSON\\2023-01-01_Golden-Rule-Insurance-Company_Insurer_PPO---NDC_PPO-NDC_in-network-rates.json.gz\n",
      "File Deleted\n",
      "File has been completed\n",
      "Hyperlink File: 2 Started!\n"
     ]
    },
    {
     "data": {
      "application/vnd.jupyter.widget-view+json": {
       "model_id": "b0f83c05f2e04bf5991cdc653432b48f",
       "version_major": 2,
       "version_minor": 0
      },
      "text/plain": [
       "  0%|          | 0/30437955 [00:00<?, ?it/s]"
      ]
     },
     "metadata": {},
     "output_type": "display_data"
    },
    {
     "name": "stdout",
     "output_type": "stream",
     "text": [
      "2023-01-01_Health-Plan-of-Nevada-Inc-_Insurer_Commercial-HMO_Commercial-HMO_in-network-rates.json.gz\n",
      "Download Complete\n",
      "D:\\Vignesh\\Capstone\\JSON\\2023-01-01_Health-Plan-of-Nevada-Inc-_Insurer_Commercial-HMO_Commercial-HMO_in-network-rates.json.gz\n",
      "Parse Complete\n",
      "D:\\Vignesh\\Capstone\\JSON\\2023-01-01_Health-Plan-of-Nevada-Inc-_Insurer_Commercial-HMO_Commercial-HMO_in-network-rates.json.gz\n",
      "File Deleted\n",
      "File has been completed\n",
      "Hyperlink File: 3 Started!\n"
     ]
    },
    {
     "data": {
      "application/vnd.jupyter.widget-view+json": {
       "model_id": "202384d4e9e04dc18abe9561c5059c87",
       "version_major": 2,
       "version_minor": 0
      },
      "text/plain": [
       "  0%|          | 0/37620969 [00:00<?, ?it/s]"
      ]
     },
     "metadata": {},
     "output_type": "display_data"
    },
    {
     "name": "stdout",
     "output_type": "stream",
     "text": [
      "2023-01-01_HEALTHSCOPE-BENEFITS_Third-Party-Administrator_SHO_U1_3342_in-network-rates.json.gz\n",
      "Download Complete\n",
      "D:\\Vignesh\\Capstone\\JSON\\2023-01-01_HEALTHSCOPE-BENEFITS_Third-Party-Administrator_SHO_U1_3342_in-network-rates.json.gz\n",
      "Parse Complete\n",
      "D:\\Vignesh\\Capstone\\JSON\\2023-01-01_HEALTHSCOPE-BENEFITS_Third-Party-Administrator_SHO_U1_3342_in-network-rates.json.gz\n",
      "File Deleted\n",
      "File has been completed\n",
      "File Too Large, written to Large File CSV\n",
      "File number: 4\n",
      "Hyperlink File: 5 Started!\n"
     ]
    },
    {
     "data": {
      "application/vnd.jupyter.widget-view+json": {
       "model_id": "b8e63dd2b4f0407aa54afe876398176c",
       "version_major": 2,
       "version_minor": 0
      },
      "text/plain": [
       "  0%|          | 0/11118 [00:00<?, ?it/s]"
      ]
     },
     "metadata": {},
     "output_type": "display_data"
    },
    {
     "name": "stdout",
     "output_type": "stream",
     "text": [
      "2023-01-01_HealthSCOPE-Benefits--Inc-_Third-Party-Administrator_BAPTIST-HEALTH-JACKSONVILLE-WITH-REGENEXX_HST_-RBH_2HSO_in-network-rates.json.gz\n",
      "Download Complete\n",
      "D:\\Vignesh\\Capstone\\JSON\\2023-01-01_HealthSCOPE-Benefits--Inc-_Third-Party-Administrator_BAPTIST-HEALTH-JACKSONVILLE-WITH-REGENEXX_HST_-RBH_2HSO_in-network-rates.json.gz\n",
      "Parse Complete\n",
      "D:\\Vignesh\\Capstone\\JSON\\2023-01-01_HealthSCOPE-Benefits--Inc-_Third-Party-Administrator_BAPTIST-HEALTH-JACKSONVILLE-WITH-REGENEXX_HST_-RBH_2HSO_in-network-rates.json.gz\n",
      "File Deleted\n",
      "File has been completed\n",
      "Hyperlink File: 6 Started!\n"
     ]
    },
    {
     "data": {
      "application/vnd.jupyter.widget-view+json": {
       "model_id": "1023545e02ba47559ce7a765670b6ada",
       "version_major": 2,
       "version_minor": 0
      },
      "text/plain": [
       "  0%|          | 0/3066142 [00:00<?, ?it/s]"
      ]
     },
     "metadata": {},
     "output_type": "display_data"
    },
    {
     "name": "stdout",
     "output_type": "stream",
     "text": [
      "2023-01-01_HealthSCOPE-Benefits--Inc-_Third-Party-Administrator_DUNCASTER-INC-DCI_HST_-MIF_2HSP_in-network-rates.json.gz\n",
      "Download Complete\n",
      "D:\\Vignesh\\Capstone\\JSON\\2023-01-01_HealthSCOPE-Benefits--Inc-_Third-Party-Administrator_DUNCASTER-INC-DCI_HST_-MIF_2HSP_in-network-rates.json.gz\n",
      "Parse Complete\n",
      "D:\\Vignesh\\Capstone\\JSON\\2023-01-01_HealthSCOPE-Benefits--Inc-_Third-Party-Administrator_DUNCASTER-INC-DCI_HST_-MIF_2HSP_in-network-rates.json.gz\n",
      "File Deleted\n",
      "File has been completed\n",
      "Hyperlink File: 7 Started!\n"
     ]
    },
    {
     "data": {
      "application/vnd.jupyter.widget-view+json": {
       "model_id": "6d438cfde4fb4b298077983fc96d5e40",
       "version_major": 2,
       "version_minor": 0
      },
      "text/plain": [
       "  0%|          | 0/2586221 [00:00<?, ?it/s]"
      ]
     },
     "metadata": {},
     "output_type": "display_data"
    },
    {
     "name": "stdout",
     "output_type": "stream",
     "text": [
      "2023-01-01_HealthSCOPE-Benefits--Inc-_Third-Party-Administrator_ELAP_2HEL_in-network-rates.json.gz\n",
      "Download Complete\n",
      "D:\\Vignesh\\Capstone\\JSON\\2023-01-01_HealthSCOPE-Benefits--Inc-_Third-Party-Administrator_ELAP_2HEL_in-network-rates.json.gz\n",
      "Parse Complete\n",
      "D:\\Vignesh\\Capstone\\JSON\\2023-01-01_HealthSCOPE-Benefits--Inc-_Third-Party-Administrator_ELAP_2HEL_in-network-rates.json.gz\n",
      "File Deleted\n",
      "File has been completed\n",
      "Hyperlink File: 8 Started!\n"
     ]
    },
    {
     "data": {
      "application/vnd.jupyter.widget-view+json": {
       "model_id": "7420d382747f4239b752feba284bb978",
       "version_major": 2,
       "version_minor": 0
      },
      "text/plain": [
       "  0%|          | 0/2588365 [00:00<?, ?it/s]"
      ]
     },
     "metadata": {},
     "output_type": "display_data"
    },
    {
     "name": "stdout",
     "output_type": "stream",
     "text": [
      "2023-01-01_HealthSCOPE-Benefits--Inc-_Third-Party-Administrator_ELAP_2HLP_in-network-rates.json.gz\n",
      "Download Complete\n",
      "D:\\Vignesh\\Capstone\\JSON\\2023-01-01_HealthSCOPE-Benefits--Inc-_Third-Party-Administrator_ELAP_2HLP_in-network-rates.json.gz\n",
      "Parse Complete\n",
      "D:\\Vignesh\\Capstone\\JSON\\2023-01-01_HealthSCOPE-Benefits--Inc-_Third-Party-Administrator_ELAP_2HLP_in-network-rates.json.gz\n",
      "File Deleted\n",
      "File has been completed\n",
      "Hyperlink File: 9 Started!\n"
     ]
    },
    {
     "data": {
      "application/vnd.jupyter.widget-view+json": {
       "model_id": "a0cbf650a54c4979a80bd268e5085bca",
       "version_major": 2,
       "version_minor": 0
      },
      "text/plain": [
       "  0%|          | 0/2587917 [00:00<?, ?it/s]"
      ]
     },
     "metadata": {},
     "output_type": "display_data"
    },
    {
     "name": "stdout",
     "output_type": "stream",
     "text": [
      "2023-01-01_HealthSCOPE-Benefits--Inc-_Third-Party-Administrator_ELAP_2HPE_in-network-rates.json.gz\n",
      "Download Complete\n",
      "D:\\Vignesh\\Capstone\\JSON\\2023-01-01_HealthSCOPE-Benefits--Inc-_Third-Party-Administrator_ELAP_2HPE_in-network-rates.json.gz\n",
      "Parse Complete\n",
      "D:\\Vignesh\\Capstone\\JSON\\2023-01-01_HealthSCOPE-Benefits--Inc-_Third-Party-Administrator_ELAP_2HPE_in-network-rates.json.gz\n",
      "File Deleted\n",
      "File has been completed\n",
      "Hyperlink File: 10 Started!\n"
     ]
    },
    {
     "data": {
      "application/vnd.jupyter.widget-view+json": {
       "model_id": "6aec3f6aa1c74a3c87a816bc2bb850c0",
       "version_major": 2,
       "version_minor": 0
      },
      "text/plain": [
       "  0%|          | 0/2588631 [00:00<?, ?it/s]"
      ]
     },
     "metadata": {},
     "output_type": "display_data"
    },
    {
     "name": "stdout",
     "output_type": "stream",
     "text": [
      "2023-01-01_HealthSCOPE-Benefits--Inc-_Third-Party-Administrator_ELAP_3HPE_in-network-rates.json.gz\n",
      "Download Complete\n",
      "D:\\Vignesh\\Capstone\\JSON\\2023-01-01_HealthSCOPE-Benefits--Inc-_Third-Party-Administrator_ELAP_3HPE_in-network-rates.json.gz\n",
      "Parse Complete\n",
      "D:\\Vignesh\\Capstone\\JSON\\2023-01-01_HealthSCOPE-Benefits--Inc-_Third-Party-Administrator_ELAP_3HPE_in-network-rates.json.gz\n",
      "File Deleted\n",
      "File has been completed\n",
      "Hyperlink File: 11 Started!\n"
     ]
    },
    {
     "data": {
      "application/vnd.jupyter.widget-view+json": {
       "model_id": "eda7fc1d60a241289e46cafa95395db1",
       "version_major": 2,
       "version_minor": 0
      },
      "text/plain": [
       "  0%|          | 0/2587356 [00:00<?, ?it/s]"
      ]
     },
     "metadata": {},
     "output_type": "display_data"
    },
    {
     "name": "stdout",
     "output_type": "stream",
     "text": [
      "2023-01-01_HealthSCOPE-Benefits--Inc-_Third-Party-Administrator_ELAP-WITH-IMAGINE-HEALTH_3HIP_in-network-rates.json.gz\n",
      "Download Complete\n",
      "D:\\Vignesh\\Capstone\\JSON\\2023-01-01_HealthSCOPE-Benefits--Inc-_Third-Party-Administrator_ELAP-WITH-IMAGINE-HEALTH_3HIP_in-network-rates.json.gz\n",
      "Parse Complete\n",
      "D:\\Vignesh\\Capstone\\JSON\\2023-01-01_HealthSCOPE-Benefits--Inc-_Third-Party-Administrator_ELAP-WITH-IMAGINE-HEALTH_3HIP_in-network-rates.json.gz\n",
      "File Deleted\n",
      "File has been completed\n",
      "Hyperlink File: 12 Started!\n"
     ]
    },
    {
     "data": {
      "application/vnd.jupyter.widget-view+json": {
       "model_id": "4b001296554347d9b24f9972b6a7eb0f",
       "version_major": 2,
       "version_minor": 0
      },
      "text/plain": [
       "  0%|          | 0/2592719 [00:00<?, ?it/s]"
      ]
     },
     "metadata": {},
     "output_type": "display_data"
    },
    {
     "name": "stdout",
     "output_type": "stream",
     "text": [
      "2023-01-01_HealthSCOPE-Benefits--Inc-_Third-Party-Administrator_GLOBAL-STEERING-DIRECT-CONTRACT_ELAP_-GS_2HPE_in-network-rates.json.gz\n",
      "Download Complete\n",
      "D:\\Vignesh\\Capstone\\JSON\\2023-01-01_HealthSCOPE-Benefits--Inc-_Third-Party-Administrator_GLOBAL-STEERING-DIRECT-CONTRACT_ELAP_-GS_2HPE_in-network-rates.json.gz\n",
      "Parse Complete\n",
      "D:\\Vignesh\\Capstone\\JSON\\2023-01-01_HealthSCOPE-Benefits--Inc-_Third-Party-Administrator_GLOBAL-STEERING-DIRECT-CONTRACT_ELAP_-GS_2HPE_in-network-rates.json.gz\n",
      "File Deleted\n",
      "File has been completed\n",
      "Hyperlink File: 13 Started!\n"
     ]
    },
    {
     "data": {
      "application/vnd.jupyter.widget-view+json": {
       "model_id": "7828c3ab32974d78b465da15cdf25ffe",
       "version_major": 2,
       "version_minor": 0
      },
      "text/plain": [
       "  0%|          | 0/3248099 [00:00<?, ?it/s]"
      ]
     },
     "metadata": {},
     "output_type": "display_data"
    },
    {
     "name": "stdout",
     "output_type": "stream",
     "text": [
      "2023-01-01_HealthSCOPE-Benefits--Inc-_Third-Party-Administrator_GRANDVIEW-MEDHELP-DCI_HST-OVERLAY-WITH-PHCS-P-A-PLUS-HSB_-GRD_2HMP_in-network-rates.json.gz\n",
      "Download Complete\n",
      "D:\\Vignesh\\Capstone\\JSON\\2023-01-01_HealthSCOPE-Benefits--Inc-_Third-Party-Administrator_GRANDVIEW-MEDHELP-DCI_HST-OVERLAY-WITH-PHCS-P-A-PLUS-HSB_-GRD_2HMP_in-network-rates.json.gz\n",
      "Parse Complete\n",
      "D:\\Vignesh\\Capstone\\JSON\\2023-01-01_HealthSCOPE-Benefits--Inc-_Third-Party-Administrator_GRANDVIEW-MEDHELP-DCI_HST-OVERLAY-WITH-PHCS-P-A-PLUS-HSB_-GRD_2HMP_in-network-rates.json.gz\n",
      "File Deleted\n",
      "File has been completed\n",
      "Hyperlink File: 14 Started!\n"
     ]
    },
    {
     "data": {
      "application/vnd.jupyter.widget-view+json": {
       "model_id": "941b7db975b1485680bbf5ed1a66bf48",
       "version_major": 2,
       "version_minor": 0
      },
      "text/plain": [
       "  0%|          | 0/2588693 [00:00<?, ?it/s]"
      ]
     },
     "metadata": {},
     "output_type": "display_data"
    },
    {
     "name": "stdout",
     "output_type": "stream",
     "text": [
      "2023-01-01_HealthSCOPE-Benefits--Inc-_Third-Party-Administrator_HST_2HST_in-network-rates.json.gz\n",
      "Download Complete\n",
      "D:\\Vignesh\\Capstone\\JSON\\2023-01-01_HealthSCOPE-Benefits--Inc-_Third-Party-Administrator_HST_2HST_in-network-rates.json.gz\n",
      "Parse Complete\n",
      "D:\\Vignesh\\Capstone\\JSON\\2023-01-01_HealthSCOPE-Benefits--Inc-_Third-Party-Administrator_HST_2HST_in-network-rates.json.gz\n",
      "File Deleted\n",
      "File has been completed\n",
      "Hyperlink File: 15 Started!\n"
     ]
    },
    {
     "data": {
      "application/vnd.jupyter.widget-view+json": {
       "model_id": "1f248e9cdc50462cb913890475dffb14",
       "version_major": 2,
       "version_minor": 0
      },
      "text/plain": [
       "  0%|          | 0/3025736 [00:00<?, ?it/s]"
      ]
     },
     "metadata": {},
     "output_type": "display_data"
    },
    {
     "name": "stdout",
     "output_type": "stream",
     "text": [
      "2023-01-01_HealthSCOPE-Benefits--Inc-_Third-Party-Administrator_HST-OVERLAY-WITH-HEALTHSMART-P-A-PLUS-HSB_2HHS_in-network-rates.json.gz\n",
      "Download Complete\n",
      "D:\\Vignesh\\Capstone\\JSON\\2023-01-01_HealthSCOPE-Benefits--Inc-_Third-Party-Administrator_HST-OVERLAY-WITH-HEALTHSMART-P-A-PLUS-HSB_2HHS_in-network-rates.json.gz\n",
      "Parse Complete\n",
      "D:\\Vignesh\\Capstone\\JSON\\2023-01-01_HealthSCOPE-Benefits--Inc-_Third-Party-Administrator_HST-OVERLAY-WITH-HEALTHSMART-P-A-PLUS-HSB_2HHS_in-network-rates.json.gz\n",
      "File Deleted\n",
      "File has been completed\n",
      "Hyperlink File: 16 Started!\n"
     ]
    },
    {
     "data": {
      "application/vnd.jupyter.widget-view+json": {
       "model_id": "272cad120ce34f839ccf96139383d4fe",
       "version_major": 2,
       "version_minor": 0
      },
      "text/plain": [
       "  0%|          | 0/3023671 [00:00<?, ?it/s]"
      ]
     },
     "metadata": {},
     "output_type": "display_data"
    },
    {
     "name": "stdout",
     "output_type": "stream",
     "text": [
      "2023-01-01_HealthSCOPE-Benefits--Inc-_Third-Party-Administrator_HST-OVERLAY-WITH-PHCS-P-A-PLUS-HSB_2HMQ_in-network-rates.json.gz\n",
      "Download Complete\n",
      "D:\\Vignesh\\Capstone\\JSON\\2023-01-01_HealthSCOPE-Benefits--Inc-_Third-Party-Administrator_HST-OVERLAY-WITH-PHCS-P-A-PLUS-HSB_2HMQ_in-network-rates.json.gz\n",
      "Parse Complete\n",
      "D:\\Vignesh\\Capstone\\JSON\\2023-01-01_HealthSCOPE-Benefits--Inc-_Third-Party-Administrator_HST-OVERLAY-WITH-PHCS-P-A-PLUS-HSB_2HMQ_in-network-rates.json.gz\n",
      "File Deleted\n",
      "File has been completed\n",
      "Hyperlink File: 17 Started!\n"
     ]
    },
    {
     "data": {
      "application/vnd.jupyter.widget-view+json": {
       "model_id": "de1679ef25c447049013482ba5ded2ec",
       "version_major": 2,
       "version_minor": 0
      },
      "text/plain": [
       "  0%|          | 0/3024993 [00:00<?, ?it/s]"
      ]
     },
     "metadata": {},
     "output_type": "display_data"
    },
    {
     "name": "stdout",
     "output_type": "stream",
     "text": [
      "2023-01-01_HealthSCOPE-Benefits--Inc-_Third-Party-Administrator_LOUISIANA-MACHINERY-DIRECT-CONTRACTS_HST-PHCS-P-A_-LAM_3HSP_in-network-rates.json.gz\n",
      "Download Complete\n",
      "D:\\Vignesh\\Capstone\\JSON\\2023-01-01_HealthSCOPE-Benefits--Inc-_Third-Party-Administrator_LOUISIANA-MACHINERY-DIRECT-CONTRACTS_HST-PHCS-P-A_-LAM_3HSP_in-network-rates.json.gz\n",
      "Parse Complete\n",
      "D:\\Vignesh\\Capstone\\JSON\\2023-01-01_HealthSCOPE-Benefits--Inc-_Third-Party-Administrator_LOUISIANA-MACHINERY-DIRECT-CONTRACTS_HST-PHCS-P-A_-LAM_3HSP_in-network-rates.json.gz\n",
      "File Deleted\n",
      "File has been completed\n",
      "Hyperlink File: 18 Started!\n"
     ]
    },
    {
     "data": {
      "application/vnd.jupyter.widget-view+json": {
       "model_id": "4db02245743f439488fce7d85593b9a4",
       "version_major": 2,
       "version_minor": 0
      },
      "text/plain": [
       "  0%|          | 0/2587681 [00:00<?, ?it/s]"
      ]
     },
     "metadata": {},
     "output_type": "display_data"
    },
    {
     "name": "stdout",
     "output_type": "stream",
     "text": [
      "2023-01-01_HealthSCOPE-Benefits--Inc-_Third-Party-Administrator_QPA-HST-PHCS-P-A_2HOQ_in-network-rates.json.gz\n",
      "Download Complete\n",
      "D:\\Vignesh\\Capstone\\JSON\\2023-01-01_HealthSCOPE-Benefits--Inc-_Third-Party-Administrator_QPA-HST-PHCS-P-A_2HOQ_in-network-rates.json.gz\n",
      "Parse Complete\n",
      "D:\\Vignesh\\Capstone\\JSON\\2023-01-01_HealthSCOPE-Benefits--Inc-_Third-Party-Administrator_QPA-HST-PHCS-P-A_2HOQ_in-network-rates.json.gz\n",
      "File Deleted\n",
      "File has been completed\n",
      "Hyperlink File: 19 Started!\n"
     ]
    },
    {
     "data": {
      "application/vnd.jupyter.widget-view+json": {
       "model_id": "2ac46cc2943e468185a6046ea2433811",
       "version_major": 2,
       "version_minor": 0
      },
      "text/plain": [
       "  0%|          | 0/2586160 [00:00<?, ?it/s]"
      ]
     },
     "metadata": {},
     "output_type": "display_data"
    },
    {
     "name": "stdout",
     "output_type": "stream",
     "text": [
      "2023-01-01_HealthSCOPE-Benefits--Inc-_Third-Party-Administrator_REAL-APPEAL_ELAP-FULL-RBP_-RA_3HLP_in-network-rates.json.gz\n",
      "Download Complete\n",
      "D:\\Vignesh\\Capstone\\JSON\\2023-01-01_HealthSCOPE-Benefits--Inc-_Third-Party-Administrator_REAL-APPEAL_ELAP-FULL-RBP_-RA_3HLP_in-network-rates.json.gz\n",
      "Parse Complete\n",
      "D:\\Vignesh\\Capstone\\JSON\\2023-01-01_HealthSCOPE-Benefits--Inc-_Third-Party-Administrator_REAL-APPEAL_ELAP-FULL-RBP_-RA_3HLP_in-network-rates.json.gz\n",
      "File Deleted\n",
      "File has been completed\n",
      "Hyperlink File: 20 Started!\n"
     ]
    },
    {
     "data": {
      "application/vnd.jupyter.widget-view+json": {
       "model_id": "563e2566726f4752b386bc81c3329b8c",
       "version_major": 2,
       "version_minor": 0
      },
      "text/plain": [
       "  0%|          | 0/2587538 [00:00<?, ?it/s]"
      ]
     },
     "metadata": {},
     "output_type": "display_data"
    },
    {
     "name": "stdout",
     "output_type": "stream",
     "text": [
      "2023-01-01_HealthSCOPE-Benefits--Inc-_Third-Party-Administrator_REGENEXX-DCI_ELAP_-RGX_2HPE_in-network-rates.json.gz\n",
      "Download Complete\n",
      "D:\\Vignesh\\Capstone\\JSON\\2023-01-01_HealthSCOPE-Benefits--Inc-_Third-Party-Administrator_REGENEXX-DCI_ELAP_-RGX_2HPE_in-network-rates.json.gz\n",
      "Parse Complete\n",
      "D:\\Vignesh\\Capstone\\JSON\\2023-01-01_HealthSCOPE-Benefits--Inc-_Third-Party-Administrator_REGENEXX-DCI_ELAP_-RGX_2HPE_in-network-rates.json.gz\n",
      "File Deleted\n",
      "File has been completed\n",
      "File Too Large, written to Large File CSV\n",
      "File number: 21\n",
      "Hyperlink File: 22 Started!\n"
     ]
    },
    {
     "data": {
      "application/vnd.jupyter.widget-view+json": {
       "model_id": "efdf8819f23d49c9b52a320041ddf365",
       "version_major": 2,
       "version_minor": 0
      },
      "text/plain": [
       "  0%|          | 0/2586242 [00:00<?, ?it/s]"
      ]
     },
     "metadata": {},
     "output_type": "display_data"
    },
    {
     "name": "stdout",
     "output_type": "stream",
     "text": [
      "2023-01-01_HealthSCOPE-Benefits--Inc-_Third-Party-Administrator_RELYMD_HST_-MID_2HST_in-network-rates.json.gz\n",
      "Download Complete\n",
      "D:\\Vignesh\\Capstone\\JSON\\2023-01-01_HealthSCOPE-Benefits--Inc-_Third-Party-Administrator_RELYMD_HST_-MID_2HST_in-network-rates.json.gz\n",
      "Parse Complete\n",
      "D:\\Vignesh\\Capstone\\JSON\\2023-01-01_HealthSCOPE-Benefits--Inc-_Third-Party-Administrator_RELYMD_HST_-MID_2HST_in-network-rates.json.gz\n",
      "File Deleted\n",
      "File has been completed\n",
      "Hyperlink File: 23 Started!\n"
     ]
    },
    {
     "data": {
      "application/vnd.jupyter.widget-view+json": {
       "model_id": "3945ad655bb942ffb8d76928761c1759",
       "version_major": 2,
       "version_minor": 0
      },
      "text/plain": [
       "  0%|          | 0/3024147 [00:00<?, ?it/s]"
      ]
     },
     "metadata": {},
     "output_type": "display_data"
    },
    {
     "name": "stdout",
     "output_type": "stream",
     "text": [
      "2023-01-01_HealthSCOPE-Benefits--Inc-_Third-Party-Administrator_RELYMD_HST-OVERLAY-WITH-PHCS-P-A-PLUS-HSB_-MID_2HMP_in-network-rates.json.gz\n",
      "Download Complete\n",
      "D:\\Vignesh\\Capstone\\JSON\\2023-01-01_HealthSCOPE-Benefits--Inc-_Third-Party-Administrator_RELYMD_HST-OVERLAY-WITH-PHCS-P-A-PLUS-HSB_-MID_2HMP_in-network-rates.json.gz\n",
      "Parse Complete\n",
      "D:\\Vignesh\\Capstone\\JSON\\2023-01-01_HealthSCOPE-Benefits--Inc-_Third-Party-Administrator_RELYMD_HST-OVERLAY-WITH-PHCS-P-A-PLUS-HSB_-MID_2HMP_in-network-rates.json.gz\n",
      "File Deleted\n",
      "File has been completed\n",
      "Hyperlink File: 24 Started!\n"
     ]
    },
    {
     "data": {
      "application/vnd.jupyter.widget-view+json": {
       "model_id": "cffc0115ae7748d6bbb893394ec15e58",
       "version_major": 2,
       "version_minor": 0
      },
      "text/plain": [
       "  0%|          | 0/3023947 [00:00<?, ?it/s]"
      ]
     },
     "metadata": {},
     "output_type": "display_data"
    },
    {
     "name": "stdout",
     "output_type": "stream",
     "text": [
      "2023-01-01_HealthSCOPE-Benefits--Inc-_Third-Party-Administrator_RELYMD_HST-OVERLAY-WITH-PHCS-P-A-PLUS-HSB_-MID_2HMQ_in-network-rates.json.gz\n",
      "Download Complete\n",
      "D:\\Vignesh\\Capstone\\JSON\\2023-01-01_HealthSCOPE-Benefits--Inc-_Third-Party-Administrator_RELYMD_HST-OVERLAY-WITH-PHCS-P-A-PLUS-HSB_-MID_2HMQ_in-network-rates.json.gz\n",
      "Parse Complete\n",
      "D:\\Vignesh\\Capstone\\JSON\\2023-01-01_HealthSCOPE-Benefits--Inc-_Third-Party-Administrator_RELYMD_HST-OVERLAY-WITH-PHCS-P-A-PLUS-HSB_-MID_2HMQ_in-network-rates.json.gz\n",
      "File Deleted\n",
      "File has been completed\n",
      "File Too Large, written to Large File CSV\n",
      "File number: 25\n",
      "File Too Large, written to Large File CSV\n",
      "File number: 26\n",
      "File Too Large, written to Large File CSV\n",
      "File number: 27\n",
      "File Too Large, written to Large File CSV\n",
      "File number: 28\n",
      "File Too Large, written to Large File CSV\n",
      "File number: 29\n",
      "File Too Large, written to Large File CSV\n",
      "File number: 30\n",
      "File Too Large, written to Large File CSV\n",
      "File number: 31\n",
      "File Too Large, written to Large File CSV\n",
      "File number: 32\n",
      "File Too Large, written to Large File CSV\n",
      "File number: 33\n",
      "Hyperlink File: 34 Started!\n"
     ]
    },
    {
     "data": {
      "application/vnd.jupyter.widget-view+json": {
       "model_id": "dd07707c442749c78efb7c49fbe39c04",
       "version_major": 2,
       "version_minor": 0
      },
      "text/plain": [
       "  0%|          | 0/6148 [00:00<?, ?it/s]"
      ]
     },
     "metadata": {},
     "output_type": "display_data"
    },
    {
     "name": "stdout",
     "output_type": "stream",
     "text": [
      "2023-01-01_MAMSI-Life_Insurer_OBPM---Optum-Bundle-Payment_OBPM_in-network-rates.json.gz\n",
      "Download Complete\n",
      "D:\\Vignesh\\Capstone\\JSON\\2023-01-01_MAMSI-Life_Insurer_OBPM---Optum-Bundle-Payment_OBPM_in-network-rates.json.gz\n",
      "Parse Complete\n",
      "D:\\Vignesh\\Capstone\\JSON\\2023-01-01_MAMSI-Life_Insurer_OBPM---Optum-Bundle-Payment_OBPM_in-network-rates.json.gz\n",
      "File Deleted\n",
      "File has been completed\n",
      "Hyperlink File: 35 Started!\n"
     ]
    },
    {
     "data": {
      "application/vnd.jupyter.widget-view+json": {
       "model_id": "079ceb7286904a679b1d1c66fc9feb40",
       "version_major": 2,
       "version_minor": 0
      },
      "text/plain": [
       "  0%|          | 0/15757756 [00:00<?, ?it/s]"
      ]
     },
     "metadata": {},
     "output_type": "display_data"
    },
    {
     "name": "stdout",
     "output_type": "stream",
     "text": [
      "2023-01-01_MAMSI-Life_Insurer_PPO-NDC_PPO-NDC_in-network-rates.json.gz\n",
      "Download Complete\n",
      "D:\\Vignesh\\Capstone\\JSON\\2023-01-01_MAMSI-Life_Insurer_PPO-NDC_PPO-NDC_in-network-rates.json.gz\n",
      "Parse Complete\n",
      "D:\\Vignesh\\Capstone\\JSON\\2023-01-01_MAMSI-Life_Insurer_PPO-NDC_PPO-NDC_in-network-rates.json.gz\n",
      "File Deleted\n",
      "File has been completed\n",
      "File Too Large, written to Large File CSV\n",
      "File number: 36\n",
      "Hyperlink File: 37 Started!\n"
     ]
    },
    {
     "data": {
      "application/vnd.jupyter.widget-view+json": {
       "model_id": "e40841e466cb48c4ba822d7ac3e9b31f",
       "version_major": 2,
       "version_minor": 0
      },
      "text/plain": [
       "  0%|          | 0/79508546 [00:00<?, ?it/s]"
      ]
     },
     "metadata": {},
     "output_type": "display_data"
    },
    {
     "name": "stdout",
     "output_type": "stream",
     "text": [
      "2023-01-01_MAMSI-Life_Insurer_UHC---Embedded-Dental_UHC-Dental_in-network-rates.json.gz\n",
      "Download Complete\n",
      "D:\\Vignesh\\Capstone\\JSON\\2023-01-01_MAMSI-Life_Insurer_UHC---Embedded-Dental_UHC-Dental_in-network-rates.json.gz\n",
      "Parse Complete\n",
      "D:\\Vignesh\\Capstone\\JSON\\2023-01-01_MAMSI-Life_Insurer_UHC---Embedded-Dental_UHC-Dental_in-network-rates.json.gz\n",
      "File Deleted\n",
      "File has been completed\n",
      "Hyperlink File: 38 Started!\n"
     ]
    },
    {
     "data": {
      "application/vnd.jupyter.widget-view+json": {
       "model_id": "b7169123df814cf2b8c9b43aaf902aea",
       "version_major": 2,
       "version_minor": 0
      },
      "text/plain": [
       "  0%|          | 0/509028 [00:00<?, ?it/s]"
      ]
     },
     "metadata": {},
     "output_type": "display_data"
    },
    {
     "name": "stdout",
     "output_type": "stream",
     "text": [
      "2023-01-01_MAMSI-Life_Insurer_UHC---Embedded-Vision_UHC-Vision_in-network-rates.json.gz\n",
      "Download Complete\n",
      "D:\\Vignesh\\Capstone\\JSON\\2023-01-01_MAMSI-Life_Insurer_UHC---Embedded-Vision_UHC-Vision_in-network-rates.json.gz\n",
      "Parse Complete\n",
      "D:\\Vignesh\\Capstone\\JSON\\2023-01-01_MAMSI-Life_Insurer_UHC---Embedded-Vision_UHC-Vision_in-network-rates.json.gz\n",
      "File Deleted\n",
      "File has been completed\n",
      "Hyperlink File: 39 Started!\n"
     ]
    },
    {
     "data": {
      "application/vnd.jupyter.widget-view+json": {
       "model_id": "182ad1f2681e4117aa05119d7937bd5c",
       "version_major": 2,
       "version_minor": 0
      },
      "text/plain": [
       "  0%|          | 0/15757813 [00:00<?, ?it/s]"
      ]
     },
     "metadata": {},
     "output_type": "display_data"
    },
    {
     "name": "stdout",
     "output_type": "stream",
     "text": [
      "2023-01-01_MD-Individual-Practice-Association--Inc-_Insurer_PPO---NDC_PPO-NDC_in-network-rates.json.gz\n",
      "Download Complete\n"
     ]
    },
    {
     "ename": "KeyboardInterrupt",
     "evalue": "",
     "output_type": "error",
     "traceback": [
      "\u001b[1;31m---------------------------------------------------------------------------\u001b[0m",
      "\u001b[1;31mKeyboardInterrupt\u001b[0m                         Traceback (most recent call last)",
      "Cell \u001b[1;32mIn [11], line 8\u001b[0m\n\u001b[0;32m      6\u001b[0m \u001b[39mif\u001b[39;00m check_file_size(hyperlinks[i]) \u001b[39m<\u001b[39m \u001b[39m100000000\u001b[39m : \n\u001b[0;32m      7\u001b[0m     \u001b[39mprint\u001b[39m(\u001b[39m'\u001b[39m\u001b[39mHyperlink File: \u001b[39m\u001b[39m'\u001b[39m \u001b[39m+\u001b[39m \u001b[39mstr\u001b[39m(i) \u001b[39m+\u001b[39m \u001b[39m'\u001b[39m\u001b[39m Started!\u001b[39m\u001b[39m'\u001b[39m)\n\u001b[1;32m----> 8\u001b[0m     download_parse_delete(hyperlinks[i], dir_json)\n\u001b[0;32m      9\u001b[0m     write_completed_file(completed, i, hyperlinks[i])\n\u001b[0;32m     10\u001b[0m \u001b[39melse\u001b[39;00m:\n",
      "Cell \u001b[1;32mIn [9], line 160\u001b[0m, in \u001b[0;36mdownload_parse_delete\u001b[1;34m(url, path)\u001b[0m\n\u001b[0;32m    158\u001b[0m \u001b[39mdef\u001b[39;00m \u001b[39mdownload_parse_delete\u001b[39m(url, path):\n\u001b[0;32m    159\u001b[0m     (filename, json_file) \u001b[39m=\u001b[39m download_file(url, path)\n\u001b[1;32m--> 160\u001b[0m     parse_file(filename, json_file)\n\u001b[0;32m    161\u001b[0m     delete_file(json_file)\n",
      "Cell \u001b[1;32mIn [9], line 102\u001b[0m, in \u001b[0;36mparse_file\u001b[1;34m(filename, json_file)\u001b[0m\n\u001b[0;32m    100\u001b[0m \u001b[39mwith\u001b[39;00m gzip\u001b[39m.\u001b[39mopen(json_file, mode\u001b[39m=\u001b[39m\u001b[39m\"\u001b[39m\u001b[39mrt\u001b[39m\u001b[39m\"\u001b[39m) \u001b[39mas\u001b[39;00m f:\n\u001b[0;32m    101\u001b[0m     parser \u001b[39m=\u001b[39m ijson\u001b[39m.\u001b[39mparse(f)\n\u001b[1;32m--> 102\u001b[0m     \u001b[39mfor\u001b[39;00m prefix, event, value \u001b[39min\u001b[39;00m parser:\n\u001b[0;32m    103\u001b[0m         \u001b[39mif\u001b[39;00m \u001b[39mlen\u001b[39m(npi_provider_groups) \u001b[39m>\u001b[39m\u001b[39m=\u001b[39m \u001b[39m1000\u001b[39m:\n\u001b[0;32m    104\u001b[0m             write_provider_csv(providers_csv, reference, tin, npi_provider_groups)\n",
      "File \u001b[1;32mc:\\ProgramData\\Anaconda3\\lib\\site-packages\\ijson\\utils.py:55\u001b[0m, in \u001b[0;36mcoros2gen\u001b[1;34m(source, *coro_pipeline)\u001b[0m\n\u001b[0;32m     53\u001b[0m \u001b[39mfor\u001b[39;00m value \u001b[39min\u001b[39;00m source:\n\u001b[0;32m     54\u001b[0m     \u001b[39mtry\u001b[39;00m:\n\u001b[1;32m---> 55\u001b[0m         f\u001b[39m.\u001b[39;49msend(value)\n\u001b[0;32m     56\u001b[0m     \u001b[39mexcept\u001b[39;00m \u001b[39mStopIteration\u001b[39;00m:\n\u001b[0;32m     57\u001b[0m         \u001b[39mfor\u001b[39;00m event \u001b[39min\u001b[39;00m events:\n",
      "File \u001b[1;32mc:\\ProgramData\\Anaconda3\\lib\\site-packages\\ijson\\backends\\python.py:44\u001b[0m, in \u001b[0;36mutf8_encoder\u001b[1;34m(target)\u001b[0m\n\u001b[0;32m     42\u001b[0m     \u001b[39mraise\u001b[39;00m common\u001b[39m.\u001b[39mIncompleteJSONError(e)\n\u001b[0;32m     43\u001b[0m \u001b[39mif\u001b[39;00m sdata:\n\u001b[1;32m---> 44\u001b[0m     send(sdata)\n\u001b[0;32m     45\u001b[0m \u001b[39melif\u001b[39;00m \u001b[39mnot\u001b[39;00m bdata:\n\u001b[0;32m     46\u001b[0m     target\u001b[39m.\u001b[39mclose()\n",
      "File \u001b[1;32mc:\\ProgramData\\Anaconda3\\lib\\site-packages\\ijson\\backends\\python.py:90\u001b[0m, in \u001b[0;36mLexer\u001b[1;34m(target)\u001b[0m\n\u001b[0;32m     88\u001b[0m                 \u001b[39mraise\u001b[39;00m common\u001b[39m.\u001b[39mIncompleteJSONError(\u001b[39m'\u001b[39m\u001b[39mIncomplete string lexeme\u001b[39m\u001b[39m'\u001b[39m)\n\u001b[0;32m     89\u001b[0m             buf \u001b[39m+\u001b[39m\u001b[39m=\u001b[39m data\n\u001b[1;32m---> 90\u001b[0m     send((discarded \u001b[39m+\u001b[39;49m pos, buf[pos:end \u001b[39m+\u001b[39;49m \u001b[39m1\u001b[39;49m]))\n\u001b[0;32m     91\u001b[0m     pos \u001b[39m=\u001b[39m end \u001b[39m+\u001b[39m \u001b[39m1\u001b[39m\n\u001b[0;32m     92\u001b[0m \u001b[39melse\u001b[39;00m:\n",
      "File \u001b[1;32mc:\\ProgramData\\Anaconda3\\lib\\site-packages\\ijson\\backends\\python.py:239\u001b[0m, in \u001b[0;36mparse_value\u001b[1;34m(target, multivalue, use_float)\u001b[0m\n\u001b[0;32m    237\u001b[0m \u001b[39mif\u001b[39;00m symbol[\u001b[39m0\u001b[39m] \u001b[39m!=\u001b[39m \u001b[39m'\u001b[39m\u001b[39m\"\u001b[39m\u001b[39m'\u001b[39m:\n\u001b[0;32m    238\u001b[0m     \u001b[39mraise\u001b[39;00m UnexpectedSymbol(symbol, pos)\n\u001b[1;32m--> 239\u001b[0m send((\u001b[39m'\u001b[39m\u001b[39mmap_key\u001b[39m\u001b[39m'\u001b[39m, parse_string(symbol)))\n\u001b[0;32m    240\u001b[0m pos, symbol \u001b[39m=\u001b[39m (\u001b[39myield\u001b[39;00m)\n\u001b[0;32m    241\u001b[0m \u001b[39mif\u001b[39;00m (pos, symbol) \u001b[39m==\u001b[39m EOF:\n",
      "File \u001b[1;32mc:\\ProgramData\\Anaconda3\\lib\\site-packages\\ijson\\backends\\python.py:271\u001b[0m, in \u001b[0;36mparse_string\u001b[1;34m(symbol)\u001b[0m\n\u001b[0;32m    270\u001b[0m \u001b[39mdef\u001b[39;00m \u001b[39mparse_string\u001b[39m(symbol):\n\u001b[1;32m--> 271\u001b[0m     \u001b[39mreturn\u001b[39;00m scanstring(symbol, \u001b[39m1\u001b[39;49m)[\u001b[39m0\u001b[39;49m]\n",
      "\u001b[1;31mKeyboardInterrupt\u001b[0m: "
     ]
    }
   ],
   "source": [
    "number_to_parse = 4251\n",
    "start = 39\n",
    "large_files = 'json_large_hyperlinks_update.csv'\n",
    "completed = 'json_completed_hyperlinks_update.csv'\n",
    "for i in range(start,start + number_to_parse):\n",
    "    if check_file_size(hyperlinks[i]) < 100000000 : \n",
    "        print('Hyperlink File: ' + str(i) + ' Started!')\n",
    "        download_parse_delete(hyperlinks[i], dir_json)\n",
    "        write_completed_file(completed, i, hyperlinks[i])\n",
    "    else:\n",
    "        write_large_file(large_files,i,hyperlinks[i])\n",
    "        print('File number: ' + str(i))\n"
   ]
  }
 ],
 "metadata": {
  "kernelspec": {
   "display_name": "base",
   "language": "python",
   "name": "python3"
  },
  "language_info": {
   "codemirror_mode": {
    "name": "ipython",
    "version": 3
   },
   "file_extension": ".py",
   "mimetype": "text/x-python",
   "name": "python",
   "nbconvert_exporter": "python",
   "pygments_lexer": "ipython3",
   "version": "3.10.8 (main, Nov 24 2022, 08:09:04) [Clang 14.0.6 ]"
  },
  "orig_nbformat": 4,
  "vscode": {
   "interpreter": {
    "hash": "c30f2af5f468e7f5b45bcc30fca5f4886c90d54777aed916ed5f6294dfb24bf2"
   }
  }
 },
 "nbformat": 4,
 "nbformat_minor": 2
}
