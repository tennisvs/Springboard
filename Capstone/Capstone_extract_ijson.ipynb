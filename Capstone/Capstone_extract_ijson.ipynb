{
 "cells": [
  {
   "cell_type": "code",
   "execution_count": 1,
   "metadata": {},
   "outputs": [],
   "source": [
    "import requests\n",
    "import shutil\n",
    "import ijson.backends.python as ijson\n",
    "import json\n",
    "import gzip\n",
    "from tqdm.auto import tqdm\n",
    "from csv import writer\n",
    "import os\n",
    "from io import StringIO\n",
    "import pandas as pd\n",
    "import numpy as np\n",
    "from dotenv import load_dotenv"
   ]
  },
  {
   "cell_type": "code",
   "execution_count": 13,
   "metadata": {},
   "outputs": [],
   "source": [
    "# Define paths to important files and places where you want to store files\n",
    "load_dotenv()\n",
    "hyperlink_path = 'json_files_hyperlinks.xlsx'\n",
    "hyperlinks = pd.read_excel(hyperlink_path)['Hyperlinks'].tolist()\n",
    "parent_dir= os.getenv('dir')\n",
    "dir_json = os.path.join(parent_dir, 'JSON')\n",
    "dir_data = os.path.join(parent_dir,'data_update')"
   ]
  },
  {
   "cell_type": "code",
   "execution_count": 16,
   "metadata": {},
   "outputs": [],
   "source": [
    "def download_file(url, path):\n",
    "    local_filename = url.split('/')[-1]\n",
    "    download_path = os.path.join(path,local_filename)\n",
    "    if os.path.exists(download_path):\n",
    "        print(download_path + '\\nFile already Exists!')\n",
    "        return (local_filename, download_path)\n",
    "    else:\n",
    "        with requests.get(url, stream=True) as r:\n",
    "            total_length = int(r.headers.get('content-length'))\n",
    "            with tqdm.wrapattr(r.raw, \"read\", total=total_length, desc=\"\")as raw:\n",
    "                with open(download_path, 'wb') as output:\n",
    "                    shutil.copyfileobj(raw, output)\n",
    "        print(local_filename +'\\nDownload Complete')\n",
    "        return (local_filename, download_path)\n",
    "\n",
    "\n",
    "def check_file_size(url):\n",
    "    with requests.get(url, stream=True) as r:\n",
    "        return int(r.headers.get('content-length'))\n",
    "\n",
    "def download_multiple_files(urls, path):\n",
    "    local_filenames = []\n",
    "    download_paths = []\n",
    "    for url in urls:\n",
    "        local_filename = url.split('/')[-1]\n",
    "        download_path = os.path.join(path,local_filename)\n",
    "        if os.path.exists(download_path):\n",
    "            print(download_path + '\\nFile already Exists!')\n",
    "            local_filenames.append(local_filename) \n",
    "            download_paths.append(download_path)\n",
    "        else:\n",
    "            with requests.get(url, stream=True) as r:\n",
    "                total_length = int(r.headers.get('content-length'))\n",
    "                with tqdm.wrapattr(r.raw, \"read\", total=total_length, desc=\"\")as raw:\n",
    "                    with open(download_path, 'wb') as output:\n",
    "                        shutil.copyfileobj(raw, output)\n",
    "            print(local_filename +'\\nDownload Complete!')\n",
    "            local_filenames.append(local_filename) \n",
    "            download_paths.append(download_path)\n",
    "    return (local_filenames, download_paths)\n",
    "\n",
    "def delete_file(path):\n",
    "    os.remove(path)\n",
    "    print(path + '\\nFile Deleted')\n",
    "\n",
    "def write_large_file(filename, index, hyperlink):\n",
    "    with open(filename, 'a') as f:\n",
    "        writer_object = writer(f)\n",
    "        writer_object.writerow([index,hyperlink])\n",
    "        print('File Too Large, written to Large File CSV')\n",
    "        f.close()\n",
    "\n",
    "def write_completed_file(filename, index, hyperlink):\n",
    "    with open(filename, 'a') as f:\n",
    "        writer_object = writer(f)\n",
    "        writer_object.writerow([index,hyperlink])\n",
    "        print('File has been completed')\n",
    "        f.close()\n",
    "\n",
    "def write_provider_csv(filename, reference, tin, npi_provider_groups):\n",
    "    with open(filename, 'a') as f:\n",
    "        writer_object = writer(f)\n",
    "        for i,r in enumerate(reference):\n",
    "            writer_object.writerow([r,tin[i],npi_provider_groups[i]])\n",
    "        f.close()\n",
    "\n",
    "\n",
    "def write_rates_csv(filename, billing_type, billing_code, provider_reference, rate):\n",
    "    with open(filename, 'a') as f:\n",
    "        writer_object = writer(f)\n",
    "        for i, ref in enumerate(provider_reference):\n",
    "            writer_object.writerow([billing_type[i],billing_code[i],ref,rate[i]])\n",
    "        f.close()\n",
    "\n",
    "def make_paths_folders(filename, json_file):\n",
    "    folder_name = filename[0:-8]\n",
    "    path= os.path.join(dir_data, folder_name)\n",
    "    if os.path.exists(path) is False:\n",
    "        os.mkdir(path)\n",
    "    else:\n",
    "        print(path + '\\nFolder Already Exists')\n",
    "    return path\n",
    "\n",
    "def parse_file(filename, json_file):\n",
    "    path = make_paths_folders(filename, json_file)\n",
    "    providers_csv = os.path.join(path, filename[0:-8]) + '_providers.csv'\n",
    "    rates_csv = os.path.join(path, filename[0:-8]) + '_rates.csv'\n",
    "    write_provider_csv(providers_csv, ['provider_reference'], ['tin'], ['npi_provider_groups'])\n",
    "    write_rates_csv(rates_csv, ['billing_type'], ['billing_code'], ['provider_reference'], ['negotiated_rates'])\n",
    "\n",
    "    npi_provider_groups = []\n",
    "    tin = []\n",
    "    reference = []\n",
    "\n",
    "    billing_type = []\n",
    "    billing_code = []\n",
    "    ref_group = []\n",
    "    rates = []\n",
    "\n",
    "    with gzip.open(json_file, mode=\"rt\") as f:\n",
    "        parser = ijson.parse(f)\n",
    "        for prefix, event, value in tqdm(parser):\n",
    "            if len(npi_provider_groups) >= 1000:\n",
    "                write_provider_csv(providers_csv, reference, tin, npi_provider_groups)\n",
    "                npi_provider_groups = []\n",
    "                tin = []\n",
    "                reference = []\n",
    "            if len(rates) >= 10000:\n",
    "                write_rates_csv(rates_csv, billing_type, billing_code, ref_group, rates)\n",
    "                billing_type = []\n",
    "                billing_code = []\n",
    "                ref_group = []\n",
    "                rates = []\n",
    "\n",
    "            \n",
    "            if prefix=='provider_references.item.provider_groups.item.npi' and event=='start_array'and value==None:\n",
    "                temp_npi = []\n",
    "            elif prefix=='provider_references.item.provider_groups.item.npi.item' and event=='number':\n",
    "                temp_npi.append(value)\n",
    "            elif prefix=='provider_references.item.provider_groups.item.tin.value' and event=='string':\n",
    "                temp_tin =value\n",
    "            elif prefix=='provider_references.item.provider_group_id' and event=='number':\n",
    "                npi_provider_groups.append(temp_npi)\n",
    "                tin.append(temp_tin)\n",
    "                reference.append(value)\n",
    "\n",
    "            elif prefix=='provider_references' and event=='end_array':\n",
    "                write_provider_csv(providers_csv, reference, tin, npi_provider_groups)\n",
    "                npi_provider_groups = []\n",
    "                tin = []\n",
    "                reference = []\n",
    "            \n",
    "            elif prefix=='in_network.item.billing_code_type' and event=='string':\n",
    "                temp_type = value\n",
    "            elif prefix=='in_network.item.billing_code' and event=='string':\n",
    "                temp_code = value\n",
    "            elif prefix=='in_network.item.negotiated_rates.item.provider_references.item' and event=='number':\n",
    "                temp_ref = value\n",
    "            elif prefix=='in_network.item.negotiated_rates.item.negotiated_prices.item.negotiated_rate' and event=='number':\n",
    "                billing_type.append(temp_type)\n",
    "                billing_code.append(temp_code)\n",
    "                ref_group.append(temp_ref)\n",
    "                rates.append(value)\n",
    "            elif prefix=='in_network' and event=='end_array':\n",
    "                write_rates_csv(rates_csv, billing_type, billing_code, ref_group, rates)\n",
    "                billing_type = []\n",
    "                billing_code = []\n",
    "                ref_group = []\n",
    "                rates = []\n",
    "        f.close()\n",
    "    print(json_file + '\\nParse Complete')    \n",
    "\n",
    "def download_parse(url, path):\n",
    "    (filename, json_file) = download_file(url, path)\n",
    "    parse_file(filename, json_file)\n",
    "\n",
    "\n",
    "def download_parse_delete(url, path):\n",
    "    (filename, json_file) = download_file(url, path)\n",
    "    parse_file(filename, json_file)\n",
    "    delete_file(json_file)"
   ]
  },
  {
   "cell_type": "code",
   "execution_count": 10,
   "metadata": {},
   "outputs": [
    {
     "data": {
      "text/plain": [
       "'https://uhc-tic-mrf.azureedge.net/public-mrf/2023-01-01/2023-01-01_ALL-SAVERS-INSURANCE-COMPANY_Insurer_PPO---NDC_PPO-NDC_in-network-rates.json.gz'"
      ]
     },
     "execution_count": 10,
     "metadata": {},
     "output_type": "execute_result"
    }
   ],
   "source": [
    "hyperlinks[0]"
   ]
  },
  {
   "cell_type": "code",
   "execution_count": 17,
   "metadata": {},
   "outputs": [
    {
     "name": "stdout",
     "output_type": "stream",
     "text": [
      "Hyperlink File: 39 Started!\n",
      "D:\\Vignesh\\Capstone\\JSON\\2023-01-01_MD-Individual-Practice-Association--Inc-_Insurer_PPO---NDC_PPO-NDC_in-network-rates.json.gz\n",
      "File already Exists!\n"
     ]
    },
    {
     "data": {
      "application/vnd.jupyter.widget-view+json": {
       "model_id": "12ed33d81bbd4623a3048bf14a7d6847",
       "version_major": 2,
       "version_minor": 0
      },
      "text/plain": [
       "0it [00:00, ?it/s]"
      ]
     },
     "metadata": {},
     "output_type": "display_data"
    },
    {
     "name": "stdout",
     "output_type": "stream",
     "text": [
      "D:\\Vignesh\\Capstone\\JSON\\2023-01-01_MD-Individual-Practice-Association--Inc-_Insurer_PPO---NDC_PPO-NDC_in-network-rates.json.gz\n",
      "Parse Complete\n",
      "D:\\Vignesh\\Capstone\\JSON\\2023-01-01_MD-Individual-Practice-Association--Inc-_Insurer_PPO---NDC_PPO-NDC_in-network-rates.json.gz\n",
      "File Deleted\n",
      "File has been completed\n",
      "File Too Large, written to Large File CSV\n",
      "File number: 40\n",
      "File Too Large, written to Large File CSV\n",
      "File number: 41\n",
      "File Too Large, written to Large File CSV\n",
      "File number: 42\n",
      "File Too Large, written to Large File CSV\n",
      "File number: 43\n",
      "File Too Large, written to Large File CSV\n",
      "File number: 44\n",
      "File Too Large, written to Large File CSV\n",
      "File number: 45\n",
      "File Too Large, written to Large File CSV\n",
      "File number: 46\n",
      "Hyperlink File: 47 Started!\n"
     ]
    },
    {
     "data": {
      "application/vnd.jupyter.widget-view+json": {
       "model_id": "c80b8e26b19d4ce383fd15c2bee1f433",
       "version_major": 2,
       "version_minor": 0
      },
      "text/plain": [
       "  0%|          | 0/79508581 [00:00<?, ?it/s]"
      ]
     },
     "metadata": {},
     "output_type": "display_data"
    },
    {
     "name": "stdout",
     "output_type": "stream",
     "text": [
      "2023-01-01_Neighborhood-Health-Partnership--Inc_Insurer_D0000181_UHC-Dental_in-network-rates.json.gz\n",
      "Download Complete\n"
     ]
    },
    {
     "data": {
      "application/vnd.jupyter.widget-view+json": {
       "model_id": "d8d3ab54acc3421ab43bee79eb8008dc",
       "version_major": 2,
       "version_minor": 0
      },
      "text/plain": [
       "0it [00:00, ?it/s]"
      ]
     },
     "metadata": {},
     "output_type": "display_data"
    },
    {
     "name": "stdout",
     "output_type": "stream",
     "text": [
      "D:\\Vignesh\\Capstone\\JSON\\2023-01-01_Neighborhood-Health-Partnership--Inc_Insurer_D0000181_UHC-Dental_in-network-rates.json.gz\n",
      "Parse Complete\n",
      "D:\\Vignesh\\Capstone\\JSON\\2023-01-01_Neighborhood-Health-Partnership--Inc_Insurer_D0000181_UHC-Dental_in-network-rates.json.gz\n",
      "File Deleted\n",
      "File has been completed\n",
      "Hyperlink File: 48 Started!\n"
     ]
    },
    {
     "data": {
      "application/vnd.jupyter.widget-view+json": {
       "model_id": "1dc274d4bbdb4b879fb69b12b04da2e3",
       "version_major": 2,
       "version_minor": 0
      },
      "text/plain": [
       "  0%|          | 0/79508581 [00:00<?, ?it/s]"
      ]
     },
     "metadata": {},
     "output_type": "display_data"
    },
    {
     "name": "stdout",
     "output_type": "stream",
     "text": [
      "2023-01-01_Neighborhood-Health-Partnership--Inc_Insurer_D0003876_UHC-Dental_in-network-rates.json.gz\n",
      "Download Complete\n"
     ]
    },
    {
     "data": {
      "application/vnd.jupyter.widget-view+json": {
       "model_id": "486dc4bcf7dd4b0d8b4731a38623b9b0",
       "version_major": 2,
       "version_minor": 0
      },
      "text/plain": [
       "0it [00:00, ?it/s]"
      ]
     },
     "metadata": {},
     "output_type": "display_data"
    },
    {
     "name": "stdout",
     "output_type": "stream",
     "text": [
      "D:\\Vignesh\\Capstone\\JSON\\2023-01-01_Neighborhood-Health-Partnership--Inc_Insurer_D0003876_UHC-Dental_in-network-rates.json.gz\n",
      "Parse Complete\n",
      "D:\\Vignesh\\Capstone\\JSON\\2023-01-01_Neighborhood-Health-Partnership--Inc_Insurer_D0003876_UHC-Dental_in-network-rates.json.gz\n",
      "File Deleted\n",
      "File has been completed\n",
      "Hyperlink File: 49 Started!\n"
     ]
    },
    {
     "data": {
      "application/vnd.jupyter.widget-view+json": {
       "model_id": "da5342dbdbd348c68e60cde9053bf6e9",
       "version_major": 2,
       "version_minor": 0
      },
      "text/plain": [
       "  0%|          | 0/79508581 [00:00<?, ?it/s]"
      ]
     },
     "metadata": {},
     "output_type": "display_data"
    },
    {
     "name": "stdout",
     "output_type": "stream",
     "text": [
      "2023-01-01_Neighborhood-Health-Partnership--Inc_Insurer_D0004178_UHC-Dental_in-network-rates.json.gz\n",
      "Download Complete\n"
     ]
    },
    {
     "data": {
      "application/vnd.jupyter.widget-view+json": {
       "model_id": "a52f8af6dd864d7fa44369226035529a",
       "version_major": 2,
       "version_minor": 0
      },
      "text/plain": [
       "0it [00:00, ?it/s]"
      ]
     },
     "metadata": {},
     "output_type": "display_data"
    },
    {
     "name": "stdout",
     "output_type": "stream",
     "text": [
      "D:\\Vignesh\\Capstone\\JSON\\2023-01-01_Neighborhood-Health-Partnership--Inc_Insurer_D0004178_UHC-Dental_in-network-rates.json.gz\n",
      "Parse Complete\n",
      "D:\\Vignesh\\Capstone\\JSON\\2023-01-01_Neighborhood-Health-Partnership--Inc_Insurer_D0004178_UHC-Dental_in-network-rates.json.gz\n",
      "File Deleted\n",
      "File has been completed\n",
      "Hyperlink File: 50 Started!\n"
     ]
    },
    {
     "data": {
      "application/vnd.jupyter.widget-view+json": {
       "model_id": "88e534324e094df1b689253b30d1694e",
       "version_major": 2,
       "version_minor": 0
      },
      "text/plain": [
       "  0%|          | 0/79508581 [00:00<?, ?it/s]"
      ]
     },
     "metadata": {},
     "output_type": "display_data"
    },
    {
     "name": "stdout",
     "output_type": "stream",
     "text": [
      "2023-01-01_Neighborhood-Health-Partnership--Inc_Insurer_D0008974_UHC-Dental_in-network-rates.json.gz\n",
      "Download Complete\n"
     ]
    },
    {
     "data": {
      "application/vnd.jupyter.widget-view+json": {
       "model_id": "a3f585dc7894416c99ecc04ebe74855e",
       "version_major": 2,
       "version_minor": 0
      },
      "text/plain": [
       "0it [00:00, ?it/s]"
      ]
     },
     "metadata": {},
     "output_type": "display_data"
    },
    {
     "name": "stdout",
     "output_type": "stream",
     "text": [
      "D:\\Vignesh\\Capstone\\JSON\\2023-01-01_Neighborhood-Health-Partnership--Inc_Insurer_D0008974_UHC-Dental_in-network-rates.json.gz\n",
      "Parse Complete\n",
      "D:\\Vignesh\\Capstone\\JSON\\2023-01-01_Neighborhood-Health-Partnership--Inc_Insurer_D0008974_UHC-Dental_in-network-rates.json.gz\n",
      "File Deleted\n",
      "File has been completed\n",
      "Hyperlink File: 51 Started!\n"
     ]
    },
    {
     "data": {
      "application/vnd.jupyter.widget-view+json": {
       "model_id": "621bb4298f504586a81a561ca0ff493b",
       "version_major": 2,
       "version_minor": 0
      },
      "text/plain": [
       "  0%|          | 0/79508581 [00:00<?, ?it/s]"
      ]
     },
     "metadata": {},
     "output_type": "display_data"
    },
    {
     "name": "stdout",
     "output_type": "stream",
     "text": [
      "2023-01-01_Neighborhood-Health-Partnership--Inc_Insurer_D0009748_UHC-Dental_in-network-rates.json.gz\n",
      "Download Complete\n"
     ]
    },
    {
     "data": {
      "application/vnd.jupyter.widget-view+json": {
       "model_id": "29eda604b419402988758a9146990d76",
       "version_major": 2,
       "version_minor": 0
      },
      "text/plain": [
       "0it [00:00, ?it/s]"
      ]
     },
     "metadata": {},
     "output_type": "display_data"
    },
    {
     "name": "stdout",
     "output_type": "stream",
     "text": [
      "D:\\Vignesh\\Capstone\\JSON\\2023-01-01_Neighborhood-Health-Partnership--Inc_Insurer_D0009748_UHC-Dental_in-network-rates.json.gz\n",
      "Parse Complete\n",
      "D:\\Vignesh\\Capstone\\JSON\\2023-01-01_Neighborhood-Health-Partnership--Inc_Insurer_D0009748_UHC-Dental_in-network-rates.json.gz\n",
      "File Deleted\n",
      "File has been completed\n",
      "Hyperlink File: 52 Started!\n"
     ]
    },
    {
     "data": {
      "application/vnd.jupyter.widget-view+json": {
       "model_id": "312d29271bd84727a0eaa570e16cd6c1",
       "version_major": 2,
       "version_minor": 0
      },
      "text/plain": [
       "  0%|          | 0/79508581 [00:00<?, ?it/s]"
      ]
     },
     "metadata": {},
     "output_type": "display_data"
    },
    {
     "name": "stdout",
     "output_type": "stream",
     "text": [
      "2023-01-01_Neighborhood-Health-Partnership--Inc_Insurer_D0009761_UHC-Dental_in-network-rates.json.gz\n",
      "Download Complete\n"
     ]
    },
    {
     "data": {
      "application/vnd.jupyter.widget-view+json": {
       "model_id": "fae3528ca85948d79416a0a62f4f7f8a",
       "version_major": 2,
       "version_minor": 0
      },
      "text/plain": [
       "0it [00:00, ?it/s]"
      ]
     },
     "metadata": {},
     "output_type": "display_data"
    },
    {
     "name": "stdout",
     "output_type": "stream",
     "text": [
      "D:\\Vignesh\\Capstone\\JSON\\2023-01-01_Neighborhood-Health-Partnership--Inc_Insurer_D0009761_UHC-Dental_in-network-rates.json.gz\n",
      "Parse Complete\n",
      "D:\\Vignesh\\Capstone\\JSON\\2023-01-01_Neighborhood-Health-Partnership--Inc_Insurer_D0009761_UHC-Dental_in-network-rates.json.gz\n",
      "File Deleted\n",
      "File has been completed\n",
      "Hyperlink File: 53 Started!\n"
     ]
    },
    {
     "data": {
      "application/vnd.jupyter.widget-view+json": {
       "model_id": "6e979c4a4c5a4bfea973f80f45f1ea7b",
       "version_major": 2,
       "version_minor": 0
      },
      "text/plain": [
       "  0%|          | 0/79508581 [00:00<?, ?it/s]"
      ]
     },
     "metadata": {},
     "output_type": "display_data"
    },
    {
     "name": "stdout",
     "output_type": "stream",
     "text": [
      "2023-01-01_Neighborhood-Health-Partnership--Inc_Insurer_D0009886_UHC-Dental_in-network-rates.json.gz\n",
      "Download Complete\n"
     ]
    },
    {
     "data": {
      "application/vnd.jupyter.widget-view+json": {
       "model_id": "3a6d8b2e099d4fc1a9d67cf93c49472f",
       "version_major": 2,
       "version_minor": 0
      },
      "text/plain": [
       "0it [00:00, ?it/s]"
      ]
     },
     "metadata": {},
     "output_type": "display_data"
    },
    {
     "name": "stdout",
     "output_type": "stream",
     "text": [
      "D:\\Vignesh\\Capstone\\JSON\\2023-01-01_Neighborhood-Health-Partnership--Inc_Insurer_D0009886_UHC-Dental_in-network-rates.json.gz\n",
      "Parse Complete\n",
      "D:\\Vignesh\\Capstone\\JSON\\2023-01-01_Neighborhood-Health-Partnership--Inc_Insurer_D0009886_UHC-Dental_in-network-rates.json.gz\n",
      "File Deleted\n",
      "File has been completed\n",
      "Hyperlink File: 54 Started!\n"
     ]
    },
    {
     "data": {
      "application/vnd.jupyter.widget-view+json": {
       "model_id": "dc81d59709d247108fbab3da1b52e421",
       "version_major": 2,
       "version_minor": 0
      },
      "text/plain": [
       "  0%|          | 0/79508581 [00:00<?, ?it/s]"
      ]
     },
     "metadata": {},
     "output_type": "display_data"
    },
    {
     "name": "stdout",
     "output_type": "stream",
     "text": [
      "2023-01-01_Neighborhood-Health-Partnership--Inc_Insurer_D0013118_UHC-Dental_in-network-rates.json.gz\n",
      "Download Complete\n"
     ]
    },
    {
     "data": {
      "application/vnd.jupyter.widget-view+json": {
       "model_id": "ccfb60d00fb14acc939a6972526a7930",
       "version_major": 2,
       "version_minor": 0
      },
      "text/plain": [
       "0it [00:00, ?it/s]"
      ]
     },
     "metadata": {},
     "output_type": "display_data"
    },
    {
     "name": "stdout",
     "output_type": "stream",
     "text": [
      "D:\\Vignesh\\Capstone\\JSON\\2023-01-01_Neighborhood-Health-Partnership--Inc_Insurer_D0013118_UHC-Dental_in-network-rates.json.gz\n",
      "Parse Complete\n",
      "D:\\Vignesh\\Capstone\\JSON\\2023-01-01_Neighborhood-Health-Partnership--Inc_Insurer_D0013118_UHC-Dental_in-network-rates.json.gz\n",
      "File Deleted\n",
      "File has been completed\n",
      "Hyperlink File: 55 Started!\n"
     ]
    },
    {
     "data": {
      "application/vnd.jupyter.widget-view+json": {
       "model_id": "c7275dbb0a08485eb24669a961cb5678",
       "version_major": 2,
       "version_minor": 0
      },
      "text/plain": [
       "  0%|          | 0/79508581 [00:00<?, ?it/s]"
      ]
     },
     "metadata": {},
     "output_type": "display_data"
    },
    {
     "name": "stdout",
     "output_type": "stream",
     "text": [
      "2023-01-01_Neighborhood-Health-Partnership--Inc_Insurer_D0014690_UHC-Dental_in-network-rates.json.gz\n",
      "Download Complete\n"
     ]
    },
    {
     "data": {
      "application/vnd.jupyter.widget-view+json": {
       "model_id": "1de6dd1413454a13892a5484a7be4861",
       "version_major": 2,
       "version_minor": 0
      },
      "text/plain": [
       "0it [00:00, ?it/s]"
      ]
     },
     "metadata": {},
     "output_type": "display_data"
    },
    {
     "name": "stdout",
     "output_type": "stream",
     "text": [
      "D:\\Vignesh\\Capstone\\JSON\\2023-01-01_Neighborhood-Health-Partnership--Inc_Insurer_D0014690_UHC-Dental_in-network-rates.json.gz\n",
      "Parse Complete\n",
      "D:\\Vignesh\\Capstone\\JSON\\2023-01-01_Neighborhood-Health-Partnership--Inc_Insurer_D0014690_UHC-Dental_in-network-rates.json.gz\n",
      "File Deleted\n",
      "File has been completed\n",
      "Hyperlink File: 56 Started!\n"
     ]
    },
    {
     "data": {
      "application/vnd.jupyter.widget-view+json": {
       "model_id": "d49d65b5a1874b769b8d865f9fcc3b69",
       "version_major": 2,
       "version_minor": 0
      },
      "text/plain": [
       "  0%|          | 0/79508581 [00:00<?, ?it/s]"
      ]
     },
     "metadata": {},
     "output_type": "display_data"
    },
    {
     "name": "stdout",
     "output_type": "stream",
     "text": [
      "2023-01-01_Neighborhood-Health-Partnership--Inc_Insurer_D0016377_UHC-Dental_in-network-rates.json.gz\n",
      "Download Complete\n"
     ]
    },
    {
     "data": {
      "application/vnd.jupyter.widget-view+json": {
       "model_id": "b3ef86fc264b4f27be0d301d6dff5889",
       "version_major": 2,
       "version_minor": 0
      },
      "text/plain": [
       "0it [00:00, ?it/s]"
      ]
     },
     "metadata": {},
     "output_type": "display_data"
    },
    {
     "name": "stdout",
     "output_type": "stream",
     "text": [
      "D:\\Vignesh\\Capstone\\JSON\\2023-01-01_Neighborhood-Health-Partnership--Inc_Insurer_D0016377_UHC-Dental_in-network-rates.json.gz\n",
      "Parse Complete\n",
      "D:\\Vignesh\\Capstone\\JSON\\2023-01-01_Neighborhood-Health-Partnership--Inc_Insurer_D0016377_UHC-Dental_in-network-rates.json.gz\n",
      "File Deleted\n",
      "File has been completed\n",
      "Hyperlink File: 57 Started!\n"
     ]
    },
    {
     "data": {
      "application/vnd.jupyter.widget-view+json": {
       "model_id": "13ad1e53bb3b4747b19951839fbfaa47",
       "version_major": 2,
       "version_minor": 0
      },
      "text/plain": [
       "  0%|          | 0/79508581 [00:00<?, ?it/s]"
      ]
     },
     "metadata": {},
     "output_type": "display_data"
    },
    {
     "name": "stdout",
     "output_type": "stream",
     "text": [
      "2023-01-01_Neighborhood-Health-Partnership--Inc_Insurer_D0016511_UHC-Dental_in-network-rates.json.gz\n",
      "Download Complete\n"
     ]
    },
    {
     "data": {
      "application/vnd.jupyter.widget-view+json": {
       "model_id": "01d943cde0e8454294b54b30a328c63c",
       "version_major": 2,
       "version_minor": 0
      },
      "text/plain": [
       "0it [00:00, ?it/s]"
      ]
     },
     "metadata": {},
     "output_type": "display_data"
    },
    {
     "name": "stdout",
     "output_type": "stream",
     "text": [
      "D:\\Vignesh\\Capstone\\JSON\\2023-01-01_Neighborhood-Health-Partnership--Inc_Insurer_D0016511_UHC-Dental_in-network-rates.json.gz\n",
      "Parse Complete\n",
      "D:\\Vignesh\\Capstone\\JSON\\2023-01-01_Neighborhood-Health-Partnership--Inc_Insurer_D0016511_UHC-Dental_in-network-rates.json.gz\n",
      "File Deleted\n",
      "File has been completed\n",
      "Hyperlink File: 58 Started!\n"
     ]
    },
    {
     "data": {
      "application/vnd.jupyter.widget-view+json": {
       "model_id": "15de1f6a2c78493d89f9ab18fc078733",
       "version_major": 2,
       "version_minor": 0
      },
      "text/plain": [
       "  0%|          | 0/79508581 [00:00<?, ?it/s]"
      ]
     },
     "metadata": {},
     "output_type": "display_data"
    },
    {
     "name": "stdout",
     "output_type": "stream",
     "text": [
      "2023-01-01_Neighborhood-Health-Partnership--Inc_Insurer_D0017006_UHC-Dental_in-network-rates.json.gz\n",
      "Download Complete\n"
     ]
    },
    {
     "data": {
      "application/vnd.jupyter.widget-view+json": {
       "model_id": "637c3f3b39414cc8bc094cabf83acd9c",
       "version_major": 2,
       "version_minor": 0
      },
      "text/plain": [
       "0it [00:00, ?it/s]"
      ]
     },
     "metadata": {},
     "output_type": "display_data"
    },
    {
     "name": "stdout",
     "output_type": "stream",
     "text": [
      "D:\\Vignesh\\Capstone\\JSON\\2023-01-01_Neighborhood-Health-Partnership--Inc_Insurer_D0017006_UHC-Dental_in-network-rates.json.gz\n",
      "Parse Complete\n",
      "D:\\Vignesh\\Capstone\\JSON\\2023-01-01_Neighborhood-Health-Partnership--Inc_Insurer_D0017006_UHC-Dental_in-network-rates.json.gz\n",
      "File Deleted\n",
      "File has been completed\n",
      "Hyperlink File: 59 Started!\n"
     ]
    },
    {
     "data": {
      "application/vnd.jupyter.widget-view+json": {
       "model_id": "98bae61b62ab433ba66bbb5b0d2fcebf",
       "version_major": 2,
       "version_minor": 0
      },
      "text/plain": [
       "  0%|          | 0/79508581 [00:00<?, ?it/s]"
      ]
     },
     "metadata": {},
     "output_type": "display_data"
    },
    {
     "name": "stdout",
     "output_type": "stream",
     "text": [
      "2023-01-01_Neighborhood-Health-Partnership--Inc_Insurer_D0017008_UHC-Dental_in-network-rates.json.gz\n",
      "Download Complete\n"
     ]
    },
    {
     "data": {
      "application/vnd.jupyter.widget-view+json": {
       "model_id": "f278c52a893140bf91a44a8b75d4b2d3",
       "version_major": 2,
       "version_minor": 0
      },
      "text/plain": [
       "0it [00:00, ?it/s]"
      ]
     },
     "metadata": {},
     "output_type": "display_data"
    },
    {
     "name": "stdout",
     "output_type": "stream",
     "text": [
      "D:\\Vignesh\\Capstone\\JSON\\2023-01-01_Neighborhood-Health-Partnership--Inc_Insurer_D0017008_UHC-Dental_in-network-rates.json.gz\n",
      "Parse Complete\n",
      "D:\\Vignesh\\Capstone\\JSON\\2023-01-01_Neighborhood-Health-Partnership--Inc_Insurer_D0017008_UHC-Dental_in-network-rates.json.gz\n",
      "File Deleted\n",
      "File has been completed\n",
      "Hyperlink File: 60 Started!\n"
     ]
    },
    {
     "data": {
      "application/vnd.jupyter.widget-view+json": {
       "model_id": "c2fe974636c74a759dea61d6a469f025",
       "version_major": 2,
       "version_minor": 0
      },
      "text/plain": [
       "  0%|          | 0/79508581 [00:00<?, ?it/s]"
      ]
     },
     "metadata": {},
     "output_type": "display_data"
    },
    {
     "name": "stdout",
     "output_type": "stream",
     "text": [
      "2023-01-01_Neighborhood-Health-Partnership--Inc_Insurer_D0017010_UHC-Dental_in-network-rates.json.gz\n",
      "Download Complete\n"
     ]
    },
    {
     "data": {
      "application/vnd.jupyter.widget-view+json": {
       "model_id": "3c6954b668dc4507975cd8be052d8b46",
       "version_major": 2,
       "version_minor": 0
      },
      "text/plain": [
       "0it [00:00, ?it/s]"
      ]
     },
     "metadata": {},
     "output_type": "display_data"
    },
    {
     "name": "stdout",
     "output_type": "stream",
     "text": [
      "D:\\Vignesh\\Capstone\\JSON\\2023-01-01_Neighborhood-Health-Partnership--Inc_Insurer_D0017010_UHC-Dental_in-network-rates.json.gz\n",
      "Parse Complete\n",
      "D:\\Vignesh\\Capstone\\JSON\\2023-01-01_Neighborhood-Health-Partnership--Inc_Insurer_D0017010_UHC-Dental_in-network-rates.json.gz\n",
      "File Deleted\n",
      "File has been completed\n",
      "Hyperlink File: 61 Started!\n"
     ]
    },
    {
     "data": {
      "application/vnd.jupyter.widget-view+json": {
       "model_id": "506962e6a3974265a0cfb278fa19cf29",
       "version_major": 2,
       "version_minor": 0
      },
      "text/plain": [
       "  0%|          | 0/79508581 [00:00<?, ?it/s]"
      ]
     },
     "metadata": {},
     "output_type": "display_data"
    },
    {
     "name": "stdout",
     "output_type": "stream",
     "text": [
      "2023-01-01_Neighborhood-Health-Partnership--Inc_Insurer_D0017011_UHC-Dental_in-network-rates.json.gz\n",
      "Download Complete\n"
     ]
    },
    {
     "data": {
      "application/vnd.jupyter.widget-view+json": {
       "model_id": "059238a8fc7347398c1b5e7a5acf7aa8",
       "version_major": 2,
       "version_minor": 0
      },
      "text/plain": [
       "0it [00:00, ?it/s]"
      ]
     },
     "metadata": {},
     "output_type": "display_data"
    },
    {
     "name": "stdout",
     "output_type": "stream",
     "text": [
      "D:\\Vignesh\\Capstone\\JSON\\2023-01-01_Neighborhood-Health-Partnership--Inc_Insurer_D0017011_UHC-Dental_in-network-rates.json.gz\n",
      "Parse Complete\n",
      "D:\\Vignesh\\Capstone\\JSON\\2023-01-01_Neighborhood-Health-Partnership--Inc_Insurer_D0017011_UHC-Dental_in-network-rates.json.gz\n",
      "File Deleted\n",
      "File has been completed\n",
      "Hyperlink File: 62 Started!\n"
     ]
    },
    {
     "data": {
      "application/vnd.jupyter.widget-view+json": {
       "model_id": "5b6e0031ade34d088ddfe3770261873f",
       "version_major": 2,
       "version_minor": 0
      },
      "text/plain": [
       "  0%|          | 0/79508581 [00:00<?, ?it/s]"
      ]
     },
     "metadata": {},
     "output_type": "display_data"
    },
    {
     "name": "stdout",
     "output_type": "stream",
     "text": [
      "2023-01-01_Neighborhood-Health-Partnership--Inc_Insurer_D0017053_UHC-Dental_in-network-rates.json.gz\n",
      "Download Complete\n"
     ]
    },
    {
     "data": {
      "application/vnd.jupyter.widget-view+json": {
       "model_id": "e47eca3dddc545d08e3a63a472721b5d",
       "version_major": 2,
       "version_minor": 0
      },
      "text/plain": [
       "0it [00:00, ?it/s]"
      ]
     },
     "metadata": {},
     "output_type": "display_data"
    },
    {
     "name": "stdout",
     "output_type": "stream",
     "text": [
      "D:\\Vignesh\\Capstone\\JSON\\2023-01-01_Neighborhood-Health-Partnership--Inc_Insurer_D0017053_UHC-Dental_in-network-rates.json.gz\n",
      "Parse Complete\n",
      "D:\\Vignesh\\Capstone\\JSON\\2023-01-01_Neighborhood-Health-Partnership--Inc_Insurer_D0017053_UHC-Dental_in-network-rates.json.gz\n",
      "File Deleted\n",
      "File has been completed\n",
      "Hyperlink File: 63 Started!\n"
     ]
    },
    {
     "data": {
      "application/vnd.jupyter.widget-view+json": {
       "model_id": "cf1ec921f6a24a7c839c2bcc9a31db9d",
       "version_major": 2,
       "version_minor": 0
      },
      "text/plain": [
       "  0%|          | 0/79508581 [00:00<?, ?it/s]"
      ]
     },
     "metadata": {},
     "output_type": "display_data"
    },
    {
     "name": "stdout",
     "output_type": "stream",
     "text": [
      "2023-01-01_Neighborhood-Health-Partnership--Inc_Insurer_D0017054_UHC-Dental_in-network-rates.json.gz\n",
      "Download Complete\n"
     ]
    },
    {
     "data": {
      "application/vnd.jupyter.widget-view+json": {
       "model_id": "9a3d225b3169479fbc71583772e30231",
       "version_major": 2,
       "version_minor": 0
      },
      "text/plain": [
       "0it [00:00, ?it/s]"
      ]
     },
     "metadata": {},
     "output_type": "display_data"
    },
    {
     "name": "stdout",
     "output_type": "stream",
     "text": [
      "D:\\Vignesh\\Capstone\\JSON\\2023-01-01_Neighborhood-Health-Partnership--Inc_Insurer_D0017054_UHC-Dental_in-network-rates.json.gz\n",
      "Parse Complete\n",
      "D:\\Vignesh\\Capstone\\JSON\\2023-01-01_Neighborhood-Health-Partnership--Inc_Insurer_D0017054_UHC-Dental_in-network-rates.json.gz\n",
      "File Deleted\n",
      "File has been completed\n",
      "Hyperlink File: 64 Started!\n"
     ]
    },
    {
     "data": {
      "application/vnd.jupyter.widget-view+json": {
       "model_id": "57884ecdc01549198dc603daf39d5b91",
       "version_major": 2,
       "version_minor": 0
      },
      "text/plain": [
       "  0%|          | 0/79508581 [00:00<?, ?it/s]"
      ]
     },
     "metadata": {},
     "output_type": "display_data"
    },
    {
     "name": "stdout",
     "output_type": "stream",
     "text": [
      "2023-01-01_Neighborhood-Health-Partnership--Inc_Insurer_D0017055_UHC-Dental_in-network-rates.json.gz\n",
      "Download Complete\n"
     ]
    },
    {
     "data": {
      "application/vnd.jupyter.widget-view+json": {
       "model_id": "6af9f06fad444276a7b4c4ba10ec264b",
       "version_major": 2,
       "version_minor": 0
      },
      "text/plain": [
       "0it [00:00, ?it/s]"
      ]
     },
     "metadata": {},
     "output_type": "display_data"
    },
    {
     "name": "stdout",
     "output_type": "stream",
     "text": [
      "D:\\Vignesh\\Capstone\\JSON\\2023-01-01_Neighborhood-Health-Partnership--Inc_Insurer_D0017055_UHC-Dental_in-network-rates.json.gz\n",
      "Parse Complete\n",
      "D:\\Vignesh\\Capstone\\JSON\\2023-01-01_Neighborhood-Health-Partnership--Inc_Insurer_D0017055_UHC-Dental_in-network-rates.json.gz\n",
      "File Deleted\n",
      "File has been completed\n",
      "Hyperlink File: 65 Started!\n"
     ]
    },
    {
     "data": {
      "application/vnd.jupyter.widget-view+json": {
       "model_id": "5daf013a0aa54363a3b56f2a6ce028ce",
       "version_major": 2,
       "version_minor": 0
      },
      "text/plain": [
       "  0%|          | 0/79508581 [00:00<?, ?it/s]"
      ]
     },
     "metadata": {},
     "output_type": "display_data"
    },
    {
     "name": "stdout",
     "output_type": "stream",
     "text": [
      "2023-01-01_Neighborhood-Health-Partnership--Inc_Insurer_D0017059_UHC-Dental_in-network-rates.json.gz\n",
      "Download Complete\n"
     ]
    },
    {
     "data": {
      "application/vnd.jupyter.widget-view+json": {
       "model_id": "a507cdb44321415e83d9188f5be74112",
       "version_major": 2,
       "version_minor": 0
      },
      "text/plain": [
       "0it [00:00, ?it/s]"
      ]
     },
     "metadata": {},
     "output_type": "display_data"
    },
    {
     "name": "stdout",
     "output_type": "stream",
     "text": [
      "D:\\Vignesh\\Capstone\\JSON\\2023-01-01_Neighborhood-Health-Partnership--Inc_Insurer_D0017059_UHC-Dental_in-network-rates.json.gz\n",
      "Parse Complete\n",
      "D:\\Vignesh\\Capstone\\JSON\\2023-01-01_Neighborhood-Health-Partnership--Inc_Insurer_D0017059_UHC-Dental_in-network-rates.json.gz\n",
      "File Deleted\n",
      "File has been completed\n",
      "Hyperlink File: 66 Started!\n"
     ]
    },
    {
     "data": {
      "application/vnd.jupyter.widget-view+json": {
       "model_id": "7035b5a5268c4d30a6d5656c966dca3e",
       "version_major": 2,
       "version_minor": 0
      },
      "text/plain": [
       "  0%|          | 0/79508581 [00:00<?, ?it/s]"
      ]
     },
     "metadata": {},
     "output_type": "display_data"
    },
    {
     "name": "stdout",
     "output_type": "stream",
     "text": [
      "2023-01-01_Neighborhood-Health-Partnership--Inc_Insurer_D0019444_UHC-Dental_in-network-rates.json.gz\n",
      "Download Complete\n"
     ]
    },
    {
     "data": {
      "application/vnd.jupyter.widget-view+json": {
       "model_id": "964dae901dc447d1a8d11ba8053a0eb2",
       "version_major": 2,
       "version_minor": 0
      },
      "text/plain": [
       "0it [00:00, ?it/s]"
      ]
     },
     "metadata": {},
     "output_type": "display_data"
    },
    {
     "name": "stdout",
     "output_type": "stream",
     "text": [
      "D:\\Vignesh\\Capstone\\JSON\\2023-01-01_Neighborhood-Health-Partnership--Inc_Insurer_D0019444_UHC-Dental_in-network-rates.json.gz\n",
      "Parse Complete\n",
      "D:\\Vignesh\\Capstone\\JSON\\2023-01-01_Neighborhood-Health-Partnership--Inc_Insurer_D0019444_UHC-Dental_in-network-rates.json.gz\n",
      "File Deleted\n",
      "File has been completed\n",
      "Hyperlink File: 67 Started!\n"
     ]
    },
    {
     "data": {
      "application/vnd.jupyter.widget-view+json": {
       "model_id": "4e0f3c2a268e4cd493b1ce11d9914ea9",
       "version_major": 2,
       "version_minor": 0
      },
      "text/plain": [
       "  0%|          | 0/79508581 [00:00<?, ?it/s]"
      ]
     },
     "metadata": {},
     "output_type": "display_data"
    },
    {
     "name": "stdout",
     "output_type": "stream",
     "text": [
      "2023-01-01_Neighborhood-Health-Partnership--Inc_Insurer_D0030018_UHC-Dental_in-network-rates.json.gz\n",
      "Download Complete\n"
     ]
    },
    {
     "data": {
      "application/vnd.jupyter.widget-view+json": {
       "model_id": "4adc4fac4cdd4ea2bf03cb9dd8aa0298",
       "version_major": 2,
       "version_minor": 0
      },
      "text/plain": [
       "0it [00:00, ?it/s]"
      ]
     },
     "metadata": {},
     "output_type": "display_data"
    },
    {
     "name": "stdout",
     "output_type": "stream",
     "text": [
      "D:\\Vignesh\\Capstone\\JSON\\2023-01-01_Neighborhood-Health-Partnership--Inc_Insurer_D0030018_UHC-Dental_in-network-rates.json.gz\n",
      "Parse Complete\n",
      "D:\\Vignesh\\Capstone\\JSON\\2023-01-01_Neighborhood-Health-Partnership--Inc_Insurer_D0030018_UHC-Dental_in-network-rates.json.gz\n",
      "File Deleted\n",
      "File has been completed\n",
      "Hyperlink File: 68 Started!\n"
     ]
    },
    {
     "data": {
      "application/vnd.jupyter.widget-view+json": {
       "model_id": "0bd3614dfdf442ed93d43468462cb0fc",
       "version_major": 2,
       "version_minor": 0
      },
      "text/plain": [
       "  0%|          | 0/79508581 [00:00<?, ?it/s]"
      ]
     },
     "metadata": {},
     "output_type": "display_data"
    },
    {
     "name": "stdout",
     "output_type": "stream",
     "text": [
      "2023-01-01_Neighborhood-Health-Partnership--Inc_Insurer_D0030767_UHC-Dental_in-network-rates.json.gz\n",
      "Download Complete\n"
     ]
    },
    {
     "data": {
      "application/vnd.jupyter.widget-view+json": {
       "model_id": "6ec93f7d89ac40d789cfb8365fbac45d",
       "version_major": 2,
       "version_minor": 0
      },
      "text/plain": [
       "0it [00:00, ?it/s]"
      ]
     },
     "metadata": {},
     "output_type": "display_data"
    },
    {
     "name": "stdout",
     "output_type": "stream",
     "text": [
      "D:\\Vignesh\\Capstone\\JSON\\2023-01-01_Neighborhood-Health-Partnership--Inc_Insurer_D0030767_UHC-Dental_in-network-rates.json.gz\n",
      "Parse Complete\n",
      "D:\\Vignesh\\Capstone\\JSON\\2023-01-01_Neighborhood-Health-Partnership--Inc_Insurer_D0030767_UHC-Dental_in-network-rates.json.gz\n",
      "File Deleted\n",
      "File has been completed\n",
      "Hyperlink File: 69 Started!\n"
     ]
    },
    {
     "data": {
      "application/vnd.jupyter.widget-view+json": {
       "model_id": "ee811b1581774785a4b5b2addccd0dcd",
       "version_major": 2,
       "version_minor": 0
      },
      "text/plain": [
       "  0%|          | 0/79508581 [00:00<?, ?it/s]"
      ]
     },
     "metadata": {},
     "output_type": "display_data"
    },
    {
     "name": "stdout",
     "output_type": "stream",
     "text": [
      "2023-01-01_Neighborhood-Health-Partnership--Inc_Insurer_D0030983_UHC-Dental_in-network-rates.json.gz\n",
      "Download Complete\n"
     ]
    },
    {
     "data": {
      "application/vnd.jupyter.widget-view+json": {
       "model_id": "e56a2b7e1b7c41f5ab70980ffa756890",
       "version_major": 2,
       "version_minor": 0
      },
      "text/plain": [
       "0it [00:00, ?it/s]"
      ]
     },
     "metadata": {},
     "output_type": "display_data"
    },
    {
     "name": "stdout",
     "output_type": "stream",
     "text": [
      "D:\\Vignesh\\Capstone\\JSON\\2023-01-01_Neighborhood-Health-Partnership--Inc_Insurer_D0030983_UHC-Dental_in-network-rates.json.gz\n",
      "Parse Complete\n",
      "D:\\Vignesh\\Capstone\\JSON\\2023-01-01_Neighborhood-Health-Partnership--Inc_Insurer_D0030983_UHC-Dental_in-network-rates.json.gz\n",
      "File Deleted\n",
      "File has been completed\n",
      "Hyperlink File: 70 Started!\n"
     ]
    },
    {
     "data": {
      "application/vnd.jupyter.widget-view+json": {
       "model_id": "ad8516b328ef486a8bd4a7f051ccbfce",
       "version_major": 2,
       "version_minor": 0
      },
      "text/plain": [
       "  0%|          | 0/79508581 [00:00<?, ?it/s]"
      ]
     },
     "metadata": {},
     "output_type": "display_data"
    },
    {
     "name": "stdout",
     "output_type": "stream",
     "text": [
      "2023-01-01_Neighborhood-Health-Partnership--Inc_Insurer_D0031049_UHC-Dental_in-network-rates.json.gz\n",
      "Download Complete\n"
     ]
    },
    {
     "data": {
      "application/vnd.jupyter.widget-view+json": {
       "model_id": "b1e2ccde6ec84999898124dd037ebfe5",
       "version_major": 2,
       "version_minor": 0
      },
      "text/plain": [
       "0it [00:00, ?it/s]"
      ]
     },
     "metadata": {},
     "output_type": "display_data"
    },
    {
     "name": "stdout",
     "output_type": "stream",
     "text": [
      "D:\\Vignesh\\Capstone\\JSON\\2023-01-01_Neighborhood-Health-Partnership--Inc_Insurer_D0031049_UHC-Dental_in-network-rates.json.gz\n",
      "Parse Complete\n",
      "D:\\Vignesh\\Capstone\\JSON\\2023-01-01_Neighborhood-Health-Partnership--Inc_Insurer_D0031049_UHC-Dental_in-network-rates.json.gz\n",
      "File Deleted\n",
      "File has been completed\n",
      "Hyperlink File: 71 Started!\n"
     ]
    },
    {
     "data": {
      "application/vnd.jupyter.widget-view+json": {
       "model_id": "58b9f0ebcd4442fc8428a7672a2fff54",
       "version_major": 2,
       "version_minor": 0
      },
      "text/plain": [
       "  0%|          | 0/79508581 [00:00<?, ?it/s]"
      ]
     },
     "metadata": {},
     "output_type": "display_data"
    },
    {
     "name": "stdout",
     "output_type": "stream",
     "text": [
      "2023-01-01_Neighborhood-Health-Partnership--Inc_Insurer_D0031098_UHC-Dental_in-network-rates.json.gz\n",
      "Download Complete\n"
     ]
    },
    {
     "data": {
      "application/vnd.jupyter.widget-view+json": {
       "model_id": "8b3a903f273d418b990d5273b65905f3",
       "version_major": 2,
       "version_minor": 0
      },
      "text/plain": [
       "0it [00:00, ?it/s]"
      ]
     },
     "metadata": {},
     "output_type": "display_data"
    },
    {
     "name": "stdout",
     "output_type": "stream",
     "text": [
      "D:\\Vignesh\\Capstone\\JSON\\2023-01-01_Neighborhood-Health-Partnership--Inc_Insurer_D0031098_UHC-Dental_in-network-rates.json.gz\n",
      "Parse Complete\n",
      "D:\\Vignesh\\Capstone\\JSON\\2023-01-01_Neighborhood-Health-Partnership--Inc_Insurer_D0031098_UHC-Dental_in-network-rates.json.gz\n",
      "File Deleted\n",
      "File has been completed\n",
      "Hyperlink File: 72 Started!\n"
     ]
    },
    {
     "data": {
      "application/vnd.jupyter.widget-view+json": {
       "model_id": "6ce3c503d55441bbb1b82fdd715cb041",
       "version_major": 2,
       "version_minor": 0
      },
      "text/plain": [
       "  0%|          | 0/79508581 [00:00<?, ?it/s]"
      ]
     },
     "metadata": {},
     "output_type": "display_data"
    },
    {
     "name": "stdout",
     "output_type": "stream",
     "text": [
      "2023-01-01_Neighborhood-Health-Partnership--Inc_Insurer_D0031348_UHC-Dental_in-network-rates.json.gz\n",
      "Download Complete\n"
     ]
    },
    {
     "data": {
      "application/vnd.jupyter.widget-view+json": {
       "model_id": "871efef3edb64fb6b621eeccc617eb93",
       "version_major": 2,
       "version_minor": 0
      },
      "text/plain": [
       "0it [00:00, ?it/s]"
      ]
     },
     "metadata": {},
     "output_type": "display_data"
    },
    {
     "name": "stdout",
     "output_type": "stream",
     "text": [
      "D:\\Vignesh\\Capstone\\JSON\\2023-01-01_Neighborhood-Health-Partnership--Inc_Insurer_D0031348_UHC-Dental_in-network-rates.json.gz\n",
      "Parse Complete\n",
      "D:\\Vignesh\\Capstone\\JSON\\2023-01-01_Neighborhood-Health-Partnership--Inc_Insurer_D0031348_UHC-Dental_in-network-rates.json.gz\n",
      "File Deleted\n",
      "File has been completed\n",
      "Hyperlink File: 73 Started!\n"
     ]
    },
    {
     "data": {
      "application/vnd.jupyter.widget-view+json": {
       "model_id": "4f20be194dc04a5d89b9aeed60a0d8a0",
       "version_major": 2,
       "version_minor": 0
      },
      "text/plain": [
       "  0%|          | 0/79508581 [00:00<?, ?it/s]"
      ]
     },
     "metadata": {},
     "output_type": "display_data"
    },
    {
     "name": "stdout",
     "output_type": "stream",
     "text": [
      "2023-01-01_Neighborhood-Health-Partnership--Inc_Insurer_D0031364_UHC-Dental_in-network-rates.json.gz\n",
      "Download Complete\n"
     ]
    },
    {
     "data": {
      "application/vnd.jupyter.widget-view+json": {
       "model_id": "1e7b152a727f4cd1b3df6ea1543b6bcd",
       "version_major": 2,
       "version_minor": 0
      },
      "text/plain": [
       "0it [00:00, ?it/s]"
      ]
     },
     "metadata": {},
     "output_type": "display_data"
    },
    {
     "name": "stdout",
     "output_type": "stream",
     "text": [
      "D:\\Vignesh\\Capstone\\JSON\\2023-01-01_Neighborhood-Health-Partnership--Inc_Insurer_D0031364_UHC-Dental_in-network-rates.json.gz\n",
      "Parse Complete\n",
      "D:\\Vignesh\\Capstone\\JSON\\2023-01-01_Neighborhood-Health-Partnership--Inc_Insurer_D0031364_UHC-Dental_in-network-rates.json.gz\n",
      "File Deleted\n",
      "File has been completed\n",
      "Hyperlink File: 74 Started!\n"
     ]
    },
    {
     "data": {
      "application/vnd.jupyter.widget-view+json": {
       "model_id": "3e3161717faa4abfb6ef5155a9f1830b",
       "version_major": 2,
       "version_minor": 0
      },
      "text/plain": [
       "  0%|          | 0/79508581 [00:00<?, ?it/s]"
      ]
     },
     "metadata": {},
     "output_type": "display_data"
    },
    {
     "name": "stdout",
     "output_type": "stream",
     "text": [
      "2023-01-01_Neighborhood-Health-Partnership--Inc_Insurer_D0031489_UHC-Dental_in-network-rates.json.gz\n",
      "Download Complete\n"
     ]
    },
    {
     "data": {
      "application/vnd.jupyter.widget-view+json": {
       "model_id": "9fa2a938448244bfb92433a9c4a21a20",
       "version_major": 2,
       "version_minor": 0
      },
      "text/plain": [
       "0it [00:00, ?it/s]"
      ]
     },
     "metadata": {},
     "output_type": "display_data"
    },
    {
     "name": "stdout",
     "output_type": "stream",
     "text": [
      "D:\\Vignesh\\Capstone\\JSON\\2023-01-01_Neighborhood-Health-Partnership--Inc_Insurer_D0031489_UHC-Dental_in-network-rates.json.gz\n",
      "Parse Complete\n",
      "D:\\Vignesh\\Capstone\\JSON\\2023-01-01_Neighborhood-Health-Partnership--Inc_Insurer_D0031489_UHC-Dental_in-network-rates.json.gz\n",
      "File Deleted\n",
      "File has been completed\n",
      "Hyperlink File: 75 Started!\n"
     ]
    },
    {
     "data": {
      "application/vnd.jupyter.widget-view+json": {
       "model_id": "1432dfaa24b94abc80673c281f9fbdb1",
       "version_major": 2,
       "version_minor": 0
      },
      "text/plain": [
       "  0%|          | 0/79508581 [00:00<?, ?it/s]"
      ]
     },
     "metadata": {},
     "output_type": "display_data"
    },
    {
     "name": "stdout",
     "output_type": "stream",
     "text": [
      "2023-01-01_Neighborhood-Health-Partnership--Inc_Insurer_D0031693_UHC-Dental_in-network-rates.json.gz\n",
      "Download Complete\n"
     ]
    },
    {
     "data": {
      "application/vnd.jupyter.widget-view+json": {
       "model_id": "796ae4dde7bd4c15beb35d610823c929",
       "version_major": 2,
       "version_minor": 0
      },
      "text/plain": [
       "0it [00:00, ?it/s]"
      ]
     },
     "metadata": {},
     "output_type": "display_data"
    },
    {
     "name": "stdout",
     "output_type": "stream",
     "text": [
      "D:\\Vignesh\\Capstone\\JSON\\2023-01-01_Neighborhood-Health-Partnership--Inc_Insurer_D0031693_UHC-Dental_in-network-rates.json.gz\n",
      "Parse Complete\n",
      "D:\\Vignesh\\Capstone\\JSON\\2023-01-01_Neighborhood-Health-Partnership--Inc_Insurer_D0031693_UHC-Dental_in-network-rates.json.gz\n",
      "File Deleted\n",
      "File has been completed\n",
      "Hyperlink File: 76 Started!\n"
     ]
    },
    {
     "data": {
      "application/vnd.jupyter.widget-view+json": {
       "model_id": "25131af76ac14ab7a185e29b143987e7",
       "version_major": 2,
       "version_minor": 0
      },
      "text/plain": [
       "  0%|          | 0/79508581 [00:00<?, ?it/s]"
      ]
     },
     "metadata": {},
     "output_type": "display_data"
    },
    {
     "name": "stdout",
     "output_type": "stream",
     "text": [
      "2023-01-01_Neighborhood-Health-Partnership--Inc_Insurer_D0031741_UHC-Dental_in-network-rates.json.gz\n",
      "Download Complete\n"
     ]
    },
    {
     "data": {
      "application/vnd.jupyter.widget-view+json": {
       "model_id": "5d76655e596b4a058f0fb0043cc3d7ef",
       "version_major": 2,
       "version_minor": 0
      },
      "text/plain": [
       "0it [00:00, ?it/s]"
      ]
     },
     "metadata": {},
     "output_type": "display_data"
    },
    {
     "name": "stdout",
     "output_type": "stream",
     "text": [
      "D:\\Vignesh\\Capstone\\JSON\\2023-01-01_Neighborhood-Health-Partnership--Inc_Insurer_D0031741_UHC-Dental_in-network-rates.json.gz\n",
      "Parse Complete\n",
      "D:\\Vignesh\\Capstone\\JSON\\2023-01-01_Neighborhood-Health-Partnership--Inc_Insurer_D0031741_UHC-Dental_in-network-rates.json.gz\n",
      "File Deleted\n",
      "File has been completed\n",
      "Hyperlink File: 77 Started!\n"
     ]
    },
    {
     "data": {
      "application/vnd.jupyter.widget-view+json": {
       "model_id": "88a4a8d0e62140ec8801817f01a9538a",
       "version_major": 2,
       "version_minor": 0
      },
      "text/plain": [
       "  0%|          | 0/79508581 [00:00<?, ?it/s]"
      ]
     },
     "metadata": {},
     "output_type": "display_data"
    },
    {
     "name": "stdout",
     "output_type": "stream",
     "text": [
      "2023-01-01_Neighborhood-Health-Partnership--Inc_Insurer_D0031856_UHC-Dental_in-network-rates.json.gz\n",
      "Download Complete\n"
     ]
    },
    {
     "data": {
      "application/vnd.jupyter.widget-view+json": {
       "model_id": "ed98d5256c1048519f31935991474740",
       "version_major": 2,
       "version_minor": 0
      },
      "text/plain": [
       "0it [00:00, ?it/s]"
      ]
     },
     "metadata": {},
     "output_type": "display_data"
    },
    {
     "name": "stdout",
     "output_type": "stream",
     "text": [
      "D:\\Vignesh\\Capstone\\JSON\\2023-01-01_Neighborhood-Health-Partnership--Inc_Insurer_D0031856_UHC-Dental_in-network-rates.json.gz\n",
      "Parse Complete\n",
      "D:\\Vignesh\\Capstone\\JSON\\2023-01-01_Neighborhood-Health-Partnership--Inc_Insurer_D0031856_UHC-Dental_in-network-rates.json.gz\n",
      "File Deleted\n",
      "File has been completed\n",
      "Hyperlink File: 78 Started!\n"
     ]
    },
    {
     "data": {
      "application/vnd.jupyter.widget-view+json": {
       "model_id": "3915c31b495d46b7bf50d623c8dd618b",
       "version_major": 2,
       "version_minor": 0
      },
      "text/plain": [
       "  0%|          | 0/79508581 [00:00<?, ?it/s]"
      ]
     },
     "metadata": {},
     "output_type": "display_data"
    },
    {
     "name": "stdout",
     "output_type": "stream",
     "text": [
      "2023-01-01_Neighborhood-Health-Partnership--Inc_Insurer_D0031937_UHC-Dental_in-network-rates.json.gz\n",
      "Download Complete\n"
     ]
    },
    {
     "data": {
      "application/vnd.jupyter.widget-view+json": {
       "model_id": "c92d7d5b0113446bbbb7fd427e6e4756",
       "version_major": 2,
       "version_minor": 0
      },
      "text/plain": [
       "0it [00:00, ?it/s]"
      ]
     },
     "metadata": {},
     "output_type": "display_data"
    },
    {
     "name": "stdout",
     "output_type": "stream",
     "text": [
      "D:\\Vignesh\\Capstone\\JSON\\2023-01-01_Neighborhood-Health-Partnership--Inc_Insurer_D0031937_UHC-Dental_in-network-rates.json.gz\n",
      "Parse Complete\n",
      "D:\\Vignesh\\Capstone\\JSON\\2023-01-01_Neighborhood-Health-Partnership--Inc_Insurer_D0031937_UHC-Dental_in-network-rates.json.gz\n",
      "File Deleted\n",
      "File has been completed\n",
      "Hyperlink File: 79 Started!\n"
     ]
    },
    {
     "data": {
      "application/vnd.jupyter.widget-view+json": {
       "model_id": "48f388df9d694ece806f7788de46e4fd",
       "version_major": 2,
       "version_minor": 0
      },
      "text/plain": [
       "  0%|          | 0/79508581 [00:00<?, ?it/s]"
      ]
     },
     "metadata": {},
     "output_type": "display_data"
    },
    {
     "name": "stdout",
     "output_type": "stream",
     "text": [
      "2023-01-01_Neighborhood-Health-Partnership--Inc_Insurer_D0031970_UHC-Dental_in-network-rates.json.gz\n",
      "Download Complete\n"
     ]
    },
    {
     "data": {
      "application/vnd.jupyter.widget-view+json": {
       "model_id": "aa106357d3f446b39583cade1f85e1e7",
       "version_major": 2,
       "version_minor": 0
      },
      "text/plain": [
       "0it [00:00, ?it/s]"
      ]
     },
     "metadata": {},
     "output_type": "display_data"
    },
    {
     "name": "stdout",
     "output_type": "stream",
     "text": [
      "D:\\Vignesh\\Capstone\\JSON\\2023-01-01_Neighborhood-Health-Partnership--Inc_Insurer_D0031970_UHC-Dental_in-network-rates.json.gz\n",
      "Parse Complete\n",
      "D:\\Vignesh\\Capstone\\JSON\\2023-01-01_Neighborhood-Health-Partnership--Inc_Insurer_D0031970_UHC-Dental_in-network-rates.json.gz\n",
      "File Deleted\n",
      "File has been completed\n",
      "Hyperlink File: 80 Started!\n"
     ]
    },
    {
     "data": {
      "application/vnd.jupyter.widget-view+json": {
       "model_id": "76c5a71546b44edc995c032ee9d4faa0",
       "version_major": 2,
       "version_minor": 0
      },
      "text/plain": [
       "  0%|          | 0/79508581 [00:00<?, ?it/s]"
      ]
     },
     "metadata": {},
     "output_type": "display_data"
    },
    {
     "name": "stdout",
     "output_type": "stream",
     "text": [
      "2023-01-01_Neighborhood-Health-Partnership--Inc_Insurer_D0031985_UHC-Dental_in-network-rates.json.gz\n",
      "Download Complete\n"
     ]
    },
    {
     "data": {
      "application/vnd.jupyter.widget-view+json": {
       "model_id": "78eff64a5e714b0a89f2b725f66594b8",
       "version_major": 2,
       "version_minor": 0
      },
      "text/plain": [
       "0it [00:00, ?it/s]"
      ]
     },
     "metadata": {},
     "output_type": "display_data"
    },
    {
     "name": "stdout",
     "output_type": "stream",
     "text": [
      "D:\\Vignesh\\Capstone\\JSON\\2023-01-01_Neighborhood-Health-Partnership--Inc_Insurer_D0031985_UHC-Dental_in-network-rates.json.gz\n",
      "Parse Complete\n",
      "D:\\Vignesh\\Capstone\\JSON\\2023-01-01_Neighborhood-Health-Partnership--Inc_Insurer_D0031985_UHC-Dental_in-network-rates.json.gz\n",
      "File Deleted\n",
      "File has been completed\n",
      "Hyperlink File: 81 Started!\n"
     ]
    },
    {
     "data": {
      "application/vnd.jupyter.widget-view+json": {
       "model_id": "07fee20275a44357bd242c8dbd0ca419",
       "version_major": 2,
       "version_minor": 0
      },
      "text/plain": [
       "  0%|          | 0/79508581 [00:00<?, ?it/s]"
      ]
     },
     "metadata": {},
     "output_type": "display_data"
    },
    {
     "name": "stdout",
     "output_type": "stream",
     "text": [
      "2023-01-01_Neighborhood-Health-Partnership--Inc_Insurer_D0031990_UHC-Dental_in-network-rates.json.gz\n",
      "Download Complete\n"
     ]
    },
    {
     "data": {
      "application/vnd.jupyter.widget-view+json": {
       "model_id": "44b72af8863047008656c8aa316d8fca",
       "version_major": 2,
       "version_minor": 0
      },
      "text/plain": [
       "0it [00:00, ?it/s]"
      ]
     },
     "metadata": {},
     "output_type": "display_data"
    },
    {
     "name": "stdout",
     "output_type": "stream",
     "text": [
      "D:\\Vignesh\\Capstone\\JSON\\2023-01-01_Neighborhood-Health-Partnership--Inc_Insurer_D0031990_UHC-Dental_in-network-rates.json.gz\n",
      "Parse Complete\n",
      "D:\\Vignesh\\Capstone\\JSON\\2023-01-01_Neighborhood-Health-Partnership--Inc_Insurer_D0031990_UHC-Dental_in-network-rates.json.gz\n",
      "File Deleted\n",
      "File has been completed\n",
      "Hyperlink File: 82 Started!\n"
     ]
    },
    {
     "data": {
      "application/vnd.jupyter.widget-view+json": {
       "model_id": "12320b4bee364ffd922cd2e2f0b16d4b",
       "version_major": 2,
       "version_minor": 0
      },
      "text/plain": [
       "  0%|          | 0/43372784 [00:00<?, ?it/s]"
      ]
     },
     "metadata": {},
     "output_type": "display_data"
    },
    {
     "name": "stdout",
     "output_type": "stream",
     "text": [
      "2023-01-01_Neighborhood-Health-Partnership--Inc_Insurer_HM1-41_V1_in-network-rates.json.gz\n",
      "Download Complete\n"
     ]
    },
    {
     "data": {
      "application/vnd.jupyter.widget-view+json": {
       "model_id": "c91f6de292ec482b9d1f846b638c8f07",
       "version_major": 2,
       "version_minor": 0
      },
      "text/plain": [
       "0it [00:00, ?it/s]"
      ]
     },
     "metadata": {},
     "output_type": "display_data"
    },
    {
     "name": "stdout",
     "output_type": "stream",
     "text": [
      "D:\\Vignesh\\Capstone\\JSON\\2023-01-01_Neighborhood-Health-Partnership--Inc_Insurer_HM1-41_V1_in-network-rates.json.gz\n",
      "Parse Complete\n",
      "D:\\Vignesh\\Capstone\\JSON\\2023-01-01_Neighborhood-Health-Partnership--Inc_Insurer_HM1-41_V1_in-network-rates.json.gz\n",
      "File Deleted\n",
      "File has been completed\n",
      "Hyperlink File: 83 Started!\n"
     ]
    },
    {
     "data": {
      "application/vnd.jupyter.widget-view+json": {
       "model_id": "45bcef5a45864837af1141ddd913ca81",
       "version_major": 2,
       "version_minor": 0
      },
      "text/plain": [
       "  0%|          | 0/43355224 [00:00<?, ?it/s]"
      ]
     },
     "metadata": {},
     "output_type": "display_data"
    },
    {
     "name": "stdout",
     "output_type": "stream",
     "text": [
      "2023-01-01_Neighborhood-Health-Partnership--Inc_Insurer_HM5-41_V2_in-network-rates.json.gz\n",
      "Download Complete\n"
     ]
    },
    {
     "data": {
      "application/vnd.jupyter.widget-view+json": {
       "model_id": "d4d5aa7f69484be4b8caa9a377401fb3",
       "version_major": 2,
       "version_minor": 0
      },
      "text/plain": [
       "0it [00:00, ?it/s]"
      ]
     },
     "metadata": {},
     "output_type": "display_data"
    },
    {
     "name": "stdout",
     "output_type": "stream",
     "text": [
      "D:\\Vignesh\\Capstone\\JSON\\2023-01-01_Neighborhood-Health-Partnership--Inc_Insurer_HM5-41_V2_in-network-rates.json.gz\n",
      "Parse Complete\n",
      "D:\\Vignesh\\Capstone\\JSON\\2023-01-01_Neighborhood-Health-Partnership--Inc_Insurer_HM5-41_V2_in-network-rates.json.gz\n",
      "File Deleted\n",
      "File has been completed\n",
      "Hyperlink File: 84 Started!\n"
     ]
    },
    {
     "data": {
      "application/vnd.jupyter.widget-view+json": {
       "model_id": "f8e72b8cdd644fcbafbb950accca75a8",
       "version_major": 2,
       "version_minor": 0
      },
      "text/plain": [
       "  0%|          | 0/43434591 [00:00<?, ?it/s]"
      ]
     },
     "metadata": {},
     "output_type": "display_data"
    },
    {
     "name": "stdout",
     "output_type": "stream",
     "text": [
      "2023-01-01_Neighborhood-Health-Partnership--Inc_Insurer_HML-90_L1_in-network-rates.json.gz\n",
      "Download Complete\n"
     ]
    },
    {
     "data": {
      "application/vnd.jupyter.widget-view+json": {
       "model_id": "cc0e5ddb58c34fea802e9493830258f7",
       "version_major": 2,
       "version_minor": 0
      },
      "text/plain": [
       "0it [00:00, ?it/s]"
      ]
     },
     "metadata": {},
     "output_type": "display_data"
    },
    {
     "name": "stdout",
     "output_type": "stream",
     "text": [
      "D:\\Vignesh\\Capstone\\JSON\\2023-01-01_Neighborhood-Health-Partnership--Inc_Insurer_HML-90_L1_in-network-rates.json.gz\n",
      "Parse Complete\n",
      "D:\\Vignesh\\Capstone\\JSON\\2023-01-01_Neighborhood-Health-Partnership--Inc_Insurer_HML-90_L1_in-network-rates.json.gz\n",
      "File Deleted\n",
      "File has been completed\n",
      "Hyperlink File: 85 Started!\n"
     ]
    },
    {
     "data": {
      "application/vnd.jupyter.widget-view+json": {
       "model_id": "69c27f83ed8d47e3a7364791198867fd",
       "version_major": 2,
       "version_minor": 0
      },
      "text/plain": [
       "  0%|          | 0/43434592 [00:00<?, ?it/s]"
      ]
     },
     "metadata": {},
     "output_type": "display_data"
    },
    {
     "name": "stdout",
     "output_type": "stream",
     "text": [
      "2023-01-01_Neighborhood-Health-Partnership--Inc-_Insurer_HML-90_L1_in-network-rates.json.gz\n",
      "Download Complete\n"
     ]
    },
    {
     "data": {
      "application/vnd.jupyter.widget-view+json": {
       "model_id": "ed9581cca497402581246492699f0d93",
       "version_major": 2,
       "version_minor": 0
      },
      "text/plain": [
       "0it [00:00, ?it/s]"
      ]
     },
     "metadata": {},
     "output_type": "display_data"
    },
    {
     "name": "stdout",
     "output_type": "stream",
     "text": [
      "D:\\Vignesh\\Capstone\\JSON\\2023-01-01_Neighborhood-Health-Partnership--Inc-_Insurer_HML-90_L1_in-network-rates.json.gz\n",
      "Parse Complete\n",
      "D:\\Vignesh\\Capstone\\JSON\\2023-01-01_Neighborhood-Health-Partnership--Inc-_Insurer_HML-90_L1_in-network-rates.json.gz\n",
      "File Deleted\n",
      "File has been completed\n",
      "Hyperlink File: 86 Started!\n"
     ]
    },
    {
     "data": {
      "application/vnd.jupyter.widget-view+json": {
       "model_id": "50cf0e287fd84d7585a499d49284fcad",
       "version_major": 2,
       "version_minor": 0
      },
      "text/plain": [
       "  0%|          | 0/6196 [00:00<?, ?it/s]"
      ]
     },
     "metadata": {},
     "output_type": "display_data"
    },
    {
     "name": "stdout",
     "output_type": "stream",
     "text": [
      "2023-01-01_Neighborhood-Health-Partnership--Inc_Insurer_OBPM---Optum-Bundle-Payment_OBPM_in-network-rates.json.gz\n",
      "Download Complete\n"
     ]
    },
    {
     "data": {
      "application/vnd.jupyter.widget-view+json": {
       "model_id": "107d95f211b0473ebb7e4d0a643acb84",
       "version_major": 2,
       "version_minor": 0
      },
      "text/plain": [
       "0it [00:00, ?it/s]"
      ]
     },
     "metadata": {},
     "output_type": "display_data"
    },
    {
     "name": "stdout",
     "output_type": "stream",
     "text": [
      "D:\\Vignesh\\Capstone\\JSON\\2023-01-01_Neighborhood-Health-Partnership--Inc_Insurer_OBPM---Optum-Bundle-Payment_OBPM_in-network-rates.json.gz\n",
      "Parse Complete\n",
      "D:\\Vignesh\\Capstone\\JSON\\2023-01-01_Neighborhood-Health-Partnership--Inc_Insurer_OBPM---Optum-Bundle-Payment_OBPM_in-network-rates.json.gz\n",
      "File Deleted\n",
      "File has been completed\n",
      "Hyperlink File: 87 Started!\n"
     ]
    },
    {
     "data": {
      "application/vnd.jupyter.widget-view+json": {
       "model_id": "626a2022214949daa7d24faba3c42730",
       "version_major": 2,
       "version_minor": 0
      },
      "text/plain": [
       "  0%|          | 0/6197 [00:00<?, ?it/s]"
      ]
     },
     "metadata": {},
     "output_type": "display_data"
    },
    {
     "name": "stdout",
     "output_type": "stream",
     "text": [
      "2023-01-01_Neighborhood-Health-Partnership--Inc-_Insurer_OBPM---Optum-Bundle-Payment_OBPM_in-network-rates.json.gz\n",
      "Download Complete\n"
     ]
    },
    {
     "data": {
      "application/vnd.jupyter.widget-view+json": {
       "model_id": "14684ddcc9834049a0f44c638a83c4f7",
       "version_major": 2,
       "version_minor": 0
      },
      "text/plain": [
       "0it [00:00, ?it/s]"
      ]
     },
     "metadata": {},
     "output_type": "display_data"
    },
    {
     "name": "stdout",
     "output_type": "stream",
     "text": [
      "D:\\Vignesh\\Capstone\\JSON\\2023-01-01_Neighborhood-Health-Partnership--Inc-_Insurer_OBPM---Optum-Bundle-Payment_OBPM_in-network-rates.json.gz\n",
      "Parse Complete\n",
      "D:\\Vignesh\\Capstone\\JSON\\2023-01-01_Neighborhood-Health-Partnership--Inc-_Insurer_OBPM---Optum-Bundle-Payment_OBPM_in-network-rates.json.gz\n",
      "File Deleted\n",
      "File has been completed\n",
      "Hyperlink File: 88 Started!\n"
     ]
    },
    {
     "data": {
      "application/vnd.jupyter.widget-view+json": {
       "model_id": "c2025131c6f548a19d45e2ce7b1fa2db",
       "version_major": 2,
       "version_minor": 0
      },
      "text/plain": [
       "  0%|          | 0/554732 [00:00<?, ?it/s]"
      ]
     },
     "metadata": {},
     "output_type": "display_data"
    },
    {
     "name": "stdout",
     "output_type": "stream",
     "text": [
      "2023-01-01_Neighborhood-Health-Partnership--Inc_Insurer_OPH---Optum-Physical-Health_OPH-195_in-network-rates.json.gz\n",
      "Download Complete\n"
     ]
    },
    {
     "data": {
      "application/vnd.jupyter.widget-view+json": {
       "model_id": "c09b0878f38846758e25e229fb182e0b",
       "version_major": 2,
       "version_minor": 0
      },
      "text/plain": [
       "0it [00:00, ?it/s]"
      ]
     },
     "metadata": {},
     "output_type": "display_data"
    },
    {
     "name": "stdout",
     "output_type": "stream",
     "text": [
      "D:\\Vignesh\\Capstone\\JSON\\2023-01-01_Neighborhood-Health-Partnership--Inc_Insurer_OPH---Optum-Physical-Health_OPH-195_in-network-rates.json.gz\n",
      "Parse Complete\n",
      "D:\\Vignesh\\Capstone\\JSON\\2023-01-01_Neighborhood-Health-Partnership--Inc_Insurer_OPH---Optum-Physical-Health_OPH-195_in-network-rates.json.gz\n",
      "File Deleted\n",
      "File has been completed\n",
      "Hyperlink File: 89 Started!\n"
     ]
    },
    {
     "data": {
      "application/vnd.jupyter.widget-view+json": {
       "model_id": "10fb8c18a54a42bda6cdc02a381323e4",
       "version_major": 2,
       "version_minor": 0
      },
      "text/plain": [
       "  0%|          | 0/554731 [00:00<?, ?it/s]"
      ]
     },
     "metadata": {},
     "output_type": "display_data"
    },
    {
     "name": "stdout",
     "output_type": "stream",
     "text": [
      "2023-01-01_Neighborhood-Health-Partnership--Inc-_Insurer_OPH-Optum-Physical-Health_OPH-195_in-network-rates.json.gz\n",
      "Download Complete\n"
     ]
    },
    {
     "data": {
      "application/vnd.jupyter.widget-view+json": {
       "model_id": "e67ab183fdad45e4b1c5f6c27d86bea4",
       "version_major": 2,
       "version_minor": 0
      },
      "text/plain": [
       "0it [00:00, ?it/s]"
      ]
     },
     "metadata": {},
     "output_type": "display_data"
    },
    {
     "name": "stdout",
     "output_type": "stream",
     "text": [
      "D:\\Vignesh\\Capstone\\JSON\\2023-01-01_Neighborhood-Health-Partnership--Inc-_Insurer_OPH-Optum-Physical-Health_OPH-195_in-network-rates.json.gz\n",
      "Parse Complete\n",
      "D:\\Vignesh\\Capstone\\JSON\\2023-01-01_Neighborhood-Health-Partnership--Inc-_Insurer_OPH-Optum-Physical-Health_OPH-195_in-network-rates.json.gz\n",
      "File Deleted\n",
      "File has been completed\n",
      "Hyperlink File: 90 Started!\n"
     ]
    },
    {
     "data": {
      "application/vnd.jupyter.widget-view+json": {
       "model_id": "f4f1ef852d7c4689b530bf769a55ced6",
       "version_major": 2,
       "version_minor": 0
      },
      "text/plain": [
       "  0%|          | 0/15757806 [00:00<?, ?it/s]"
      ]
     },
     "metadata": {},
     "output_type": "display_data"
    },
    {
     "name": "stdout",
     "output_type": "stream",
     "text": [
      "2023-01-01_Neighborhood-Health-Partnership--Inc_Insurer_PPO---NDC_PPO-NDC_in-network-rates.json.gz\n",
      "Download Complete\n"
     ]
    },
    {
     "data": {
      "application/vnd.jupyter.widget-view+json": {
       "model_id": "358238aff6b64271a7ee713819dcac1c",
       "version_major": 2,
       "version_minor": 0
      },
      "text/plain": [
       "0it [00:00, ?it/s]"
      ]
     },
     "metadata": {},
     "output_type": "display_data"
    },
    {
     "name": "stdout",
     "output_type": "stream",
     "text": [
      "D:\\Vignesh\\Capstone\\JSON\\2023-01-01_Neighborhood-Health-Partnership--Inc_Insurer_PPO---NDC_PPO-NDC_in-network-rates.json.gz\n",
      "Parse Complete\n",
      "D:\\Vignesh\\Capstone\\JSON\\2023-01-01_Neighborhood-Health-Partnership--Inc_Insurer_PPO---NDC_PPO-NDC_in-network-rates.json.gz\n",
      "File Deleted\n",
      "File has been completed\n",
      "Hyperlink File: 91 Started!\n"
     ]
    },
    {
     "data": {
      "application/vnd.jupyter.widget-view+json": {
       "model_id": "a19f8616c69b4695a3e384ce13e99fd8",
       "version_major": 2,
       "version_minor": 0
      },
      "text/plain": [
       "  0%|          | 0/15757805 [00:00<?, ?it/s]"
      ]
     },
     "metadata": {},
     "output_type": "display_data"
    },
    {
     "name": "stdout",
     "output_type": "stream",
     "text": [
      "2023-01-01_Neighborhood-Health-Partnership--Inc-_Insurer_PPO-NDC_PPO-NDC_in-network-rates.json.gz\n",
      "Download Complete\n"
     ]
    },
    {
     "data": {
      "application/vnd.jupyter.widget-view+json": {
       "model_id": "4f3d4f6a937245c2a943187ea6614bd7",
       "version_major": 2,
       "version_minor": 0
      },
      "text/plain": [
       "0it [00:00, ?it/s]"
      ]
     },
     "metadata": {},
     "output_type": "display_data"
    },
    {
     "name": "stdout",
     "output_type": "stream",
     "text": [
      "D:\\Vignesh\\Capstone\\JSON\\2023-01-01_Neighborhood-Health-Partnership--Inc-_Insurer_PPO-NDC_PPO-NDC_in-network-rates.json.gz\n",
      "Parse Complete\n",
      "D:\\Vignesh\\Capstone\\JSON\\2023-01-01_Neighborhood-Health-Partnership--Inc-_Insurer_PPO-NDC_PPO-NDC_in-network-rates.json.gz\n",
      "File Deleted\n",
      "File has been completed\n",
      "Hyperlink File: 92 Started!\n"
     ]
    },
    {
     "data": {
      "application/vnd.jupyter.widget-view+json": {
       "model_id": "8fe0161f37c2486f9c5c463f13300d46",
       "version_major": 2,
       "version_minor": 0
      },
      "text/plain": [
       "  0%|          | 0/1072 [00:00<?, ?it/s]"
      ]
     },
     "metadata": {},
     "output_type": "display_data"
    },
    {
     "name": "stdout",
     "output_type": "stream",
     "text": [
      "2023-01-01_Optimum-Choice-Inc-_Insurer_Amwell-Provider-Network_AWNETWORK_in-network-rates.json.gz\n",
      "Download Complete\n"
     ]
    },
    {
     "data": {
      "application/vnd.jupyter.widget-view+json": {
       "model_id": "2652392104594634b3d5b2fd998d856a",
       "version_major": 2,
       "version_minor": 0
      },
      "text/plain": [
       "0it [00:00, ?it/s]"
      ]
     },
     "metadata": {},
     "output_type": "display_data"
    },
    {
     "name": "stdout",
     "output_type": "stream",
     "text": [
      "D:\\Vignesh\\Capstone\\JSON\\2023-01-01_Optimum-Choice-Inc-_Insurer_Amwell-Provider-Network_AWNETWORK_in-network-rates.json.gz\n",
      "Parse Complete\n",
      "D:\\Vignesh\\Capstone\\JSON\\2023-01-01_Optimum-Choice-Inc-_Insurer_Amwell-Provider-Network_AWNETWORK_in-network-rates.json.gz\n",
      "File Deleted\n",
      "File has been completed\n",
      "File Too Large, written to Large File CSV\n",
      "File number: 93\n",
      "Hyperlink File: 94 Started!\n"
     ]
    },
    {
     "data": {
      "application/vnd.jupyter.widget-view+json": {
       "model_id": "e27d07ba2e4b41dcbc72ab834faad1aa",
       "version_major": 2,
       "version_minor": 0
      },
      "text/plain": [
       "  0%|          | 0/79508553 [00:00<?, ?it/s]"
      ]
     },
     "metadata": {},
     "output_type": "display_data"
    },
    {
     "name": "stdout",
     "output_type": "stream",
     "text": [
      "2023-01-01_Optimum-Choice--Inc-_Insurer_D0000449_UHC-Dental_in-network-rates.json.gz\n",
      "Download Complete\n"
     ]
    },
    {
     "data": {
      "application/vnd.jupyter.widget-view+json": {
       "model_id": "4c4d5ab7ed4d49eea5f3f87fabd37fa2",
       "version_major": 2,
       "version_minor": 0
      },
      "text/plain": [
       "0it [00:00, ?it/s]"
      ]
     },
     "metadata": {},
     "output_type": "display_data"
    },
    {
     "name": "stdout",
     "output_type": "stream",
     "text": [
      "D:\\Vignesh\\Capstone\\JSON\\2023-01-01_Optimum-Choice--Inc-_Insurer_D0000449_UHC-Dental_in-network-rates.json.gz\n",
      "Parse Complete\n",
      "D:\\Vignesh\\Capstone\\JSON\\2023-01-01_Optimum-Choice--Inc-_Insurer_D0000449_UHC-Dental_in-network-rates.json.gz\n",
      "File Deleted\n",
      "File has been completed\n",
      "Hyperlink File: 95 Started!\n"
     ]
    },
    {
     "data": {
      "application/vnd.jupyter.widget-view+json": {
       "model_id": "805b61cdf65d45acb13f3bba3d1d8770",
       "version_major": 2,
       "version_minor": 0
      },
      "text/plain": [
       "  0%|          | 0/79508553 [00:00<?, ?it/s]"
      ]
     },
     "metadata": {},
     "output_type": "display_data"
    },
    {
     "name": "stdout",
     "output_type": "stream",
     "text": [
      "2023-01-01_Optimum-Choice--Inc-_Insurer_D0010619_UHC-Dental_in-network-rates.json.gz\n",
      "Download Complete\n"
     ]
    },
    {
     "data": {
      "application/vnd.jupyter.widget-view+json": {
       "model_id": "fa66a4bcdbda4058800579df9d1e2b35",
       "version_major": 2,
       "version_minor": 0
      },
      "text/plain": [
       "0it [00:00, ?it/s]"
      ]
     },
     "metadata": {},
     "output_type": "display_data"
    },
    {
     "name": "stdout",
     "output_type": "stream",
     "text": [
      "D:\\Vignesh\\Capstone\\JSON\\2023-01-01_Optimum-Choice--Inc-_Insurer_D0010619_UHC-Dental_in-network-rates.json.gz\n",
      "Parse Complete\n",
      "D:\\Vignesh\\Capstone\\JSON\\2023-01-01_Optimum-Choice--Inc-_Insurer_D0010619_UHC-Dental_in-network-rates.json.gz\n",
      "File Deleted\n",
      "File has been completed\n",
      "Hyperlink File: 96 Started!\n"
     ]
    },
    {
     "data": {
      "application/vnd.jupyter.widget-view+json": {
       "model_id": "bbbc1b25a4204c1bad749cc3671062c0",
       "version_major": 2,
       "version_minor": 0
      },
      "text/plain": [
       "  0%|          | 0/79508553 [00:00<?, ?it/s]"
      ]
     },
     "metadata": {},
     "output_type": "display_data"
    },
    {
     "name": "stdout",
     "output_type": "stream",
     "text": [
      "2023-01-01_Optimum-Choice--Inc-_Insurer_D0015771_UHC-Dental_in-network-rates.json.gz\n",
      "Download Complete\n"
     ]
    },
    {
     "data": {
      "application/vnd.jupyter.widget-view+json": {
       "model_id": "5ca8289584934a3ba5834ce76bdc1fc2",
       "version_major": 2,
       "version_minor": 0
      },
      "text/plain": [
       "0it [00:00, ?it/s]"
      ]
     },
     "metadata": {},
     "output_type": "display_data"
    },
    {
     "name": "stdout",
     "output_type": "stream",
     "text": [
      "D:\\Vignesh\\Capstone\\JSON\\2023-01-01_Optimum-Choice--Inc-_Insurer_D0015771_UHC-Dental_in-network-rates.json.gz\n",
      "Parse Complete\n",
      "D:\\Vignesh\\Capstone\\JSON\\2023-01-01_Optimum-Choice--Inc-_Insurer_D0015771_UHC-Dental_in-network-rates.json.gz\n",
      "File Deleted\n",
      "File has been completed\n",
      "Hyperlink File: 97 Started!\n"
     ]
    },
    {
     "data": {
      "application/vnd.jupyter.widget-view+json": {
       "model_id": "da8c530f65564edb8b1f205d617874e8",
       "version_major": 2,
       "version_minor": 0
      },
      "text/plain": [
       "  0%|          | 0/79508553 [00:00<?, ?it/s]"
      ]
     },
     "metadata": {},
     "output_type": "display_data"
    },
    {
     "name": "stdout",
     "output_type": "stream",
     "text": [
      "2023-01-01_Optimum-Choice--Inc-_Insurer_D0016988_UHC-Dental_in-network-rates.json.gz\n",
      "Download Complete\n"
     ]
    },
    {
     "data": {
      "application/vnd.jupyter.widget-view+json": {
       "model_id": "2df57d26bf054cce8030e4e29d660ace",
       "version_major": 2,
       "version_minor": 0
      },
      "text/plain": [
       "0it [00:00, ?it/s]"
      ]
     },
     "metadata": {},
     "output_type": "display_data"
    },
    {
     "name": "stdout",
     "output_type": "stream",
     "text": [
      "D:\\Vignesh\\Capstone\\JSON\\2023-01-01_Optimum-Choice--Inc-_Insurer_D0016988_UHC-Dental_in-network-rates.json.gz\n",
      "Parse Complete\n",
      "D:\\Vignesh\\Capstone\\JSON\\2023-01-01_Optimum-Choice--Inc-_Insurer_D0016988_UHC-Dental_in-network-rates.json.gz\n",
      "File Deleted\n",
      "File has been completed\n",
      "Hyperlink File: 98 Started!\n"
     ]
    },
    {
     "data": {
      "application/vnd.jupyter.widget-view+json": {
       "model_id": "136bbf489f3d4a988ab4cd226517e6c8",
       "version_major": 2,
       "version_minor": 0
      },
      "text/plain": [
       "  0%|          | 0/79508553 [00:00<?, ?it/s]"
      ]
     },
     "metadata": {},
     "output_type": "display_data"
    },
    {
     "name": "stdout",
     "output_type": "stream",
     "text": [
      "2023-01-01_Optimum-Choice--Inc-_Insurer_D0018115_UHC-Dental_in-network-rates.json.gz\n",
      "Download Complete\n"
     ]
    },
    {
     "data": {
      "application/vnd.jupyter.widget-view+json": {
       "model_id": "d16235c0ec11467c82a33d8c4c035964",
       "version_major": 2,
       "version_minor": 0
      },
      "text/plain": [
       "0it [00:00, ?it/s]"
      ]
     },
     "metadata": {},
     "output_type": "display_data"
    },
    {
     "name": "stdout",
     "output_type": "stream",
     "text": [
      "D:\\Vignesh\\Capstone\\JSON\\2023-01-01_Optimum-Choice--Inc-_Insurer_D0018115_UHC-Dental_in-network-rates.json.gz\n",
      "Parse Complete\n",
      "D:\\Vignesh\\Capstone\\JSON\\2023-01-01_Optimum-Choice--Inc-_Insurer_D0018115_UHC-Dental_in-network-rates.json.gz\n",
      "File Deleted\n",
      "File has been completed\n",
      "Hyperlink File: 99 Started!\n"
     ]
    },
    {
     "data": {
      "application/vnd.jupyter.widget-view+json": {
       "model_id": "d94ae176b29d443aa520d190690053fc",
       "version_major": 2,
       "version_minor": 0
      },
      "text/plain": [
       "  0%|          | 0/79508553 [00:00<?, ?it/s]"
      ]
     },
     "metadata": {},
     "output_type": "display_data"
    },
    {
     "name": "stdout",
     "output_type": "stream",
     "text": [
      "2023-01-01_Optimum-Choice--Inc-_Insurer_D0018900_UHC-Dental_in-network-rates.json.gz\n",
      "Download Complete\n"
     ]
    },
    {
     "data": {
      "application/vnd.jupyter.widget-view+json": {
       "model_id": "07818e738f9144948b6a810771483861",
       "version_major": 2,
       "version_minor": 0
      },
      "text/plain": [
       "0it [00:00, ?it/s]"
      ]
     },
     "metadata": {},
     "output_type": "display_data"
    },
    {
     "name": "stdout",
     "output_type": "stream",
     "text": [
      "D:\\Vignesh\\Capstone\\JSON\\2023-01-01_Optimum-Choice--Inc-_Insurer_D0018900_UHC-Dental_in-network-rates.json.gz\n",
      "Parse Complete\n",
      "D:\\Vignesh\\Capstone\\JSON\\2023-01-01_Optimum-Choice--Inc-_Insurer_D0018900_UHC-Dental_in-network-rates.json.gz\n",
      "File Deleted\n",
      "File has been completed\n",
      "Hyperlink File: 100 Started!\n"
     ]
    },
    {
     "data": {
      "application/vnd.jupyter.widget-view+json": {
       "model_id": "22212f4f23cf480997f4729215ff9fb8",
       "version_major": 2,
       "version_minor": 0
      },
      "text/plain": [
       "  0%|          | 0/79508553 [00:00<?, ?it/s]"
      ]
     },
     "metadata": {},
     "output_type": "display_data"
    },
    {
     "name": "stdout",
     "output_type": "stream",
     "text": [
      "2023-01-01_Optimum-Choice--Inc-_Insurer_D0018906_UHC-Dental_in-network-rates.json.gz\n",
      "Download Complete\n"
     ]
    },
    {
     "data": {
      "application/vnd.jupyter.widget-view+json": {
       "model_id": "aad27a27d43842d59326e5877c4648e1",
       "version_major": 2,
       "version_minor": 0
      },
      "text/plain": [
       "0it [00:00, ?it/s]"
      ]
     },
     "metadata": {},
     "output_type": "display_data"
    },
    {
     "name": "stdout",
     "output_type": "stream",
     "text": [
      "D:\\Vignesh\\Capstone\\JSON\\2023-01-01_Optimum-Choice--Inc-_Insurer_D0018906_UHC-Dental_in-network-rates.json.gz\n",
      "Parse Complete\n",
      "D:\\Vignesh\\Capstone\\JSON\\2023-01-01_Optimum-Choice--Inc-_Insurer_D0018906_UHC-Dental_in-network-rates.json.gz\n",
      "File Deleted\n",
      "File has been completed\n",
      "Hyperlink File: 101 Started!\n"
     ]
    },
    {
     "data": {
      "application/vnd.jupyter.widget-view+json": {
       "model_id": "1b16e9ff492746f483b9d21aa8861f42",
       "version_major": 2,
       "version_minor": 0
      },
      "text/plain": [
       "  0%|          | 0/79508553 [00:00<?, ?it/s]"
      ]
     },
     "metadata": {},
     "output_type": "display_data"
    },
    {
     "name": "stdout",
     "output_type": "stream",
     "text": [
      "2023-01-01_Optimum-Choice--Inc-_Insurer_D0018910_UHC-Dental_in-network-rates.json.gz\n",
      "Download Complete\n"
     ]
    },
    {
     "data": {
      "application/vnd.jupyter.widget-view+json": {
       "model_id": "3478e588cc10445287e90edb8ae21181",
       "version_major": 2,
       "version_minor": 0
      },
      "text/plain": [
       "0it [00:00, ?it/s]"
      ]
     },
     "metadata": {},
     "output_type": "display_data"
    }
   ],
   "source": [
    "number_to_parse = 4251\n",
    "start = 39\n",
    "large_files = 'json_large_hyperlinks_update.csv'\n",
    "completed = 'json_completed_hyperlinks_update.csv'\n",
    "for i in range(start,start + number_to_parse):\n",
    "    if check_file_size(hyperlinks[i]) < 100000000 : \n",
    "        print('Hyperlink File: ' + str(i) + ' Started!')\n",
    "        download_parse_delete(hyperlinks[i], dir_json)\n",
    "        write_completed_file(completed, i, hyperlinks[i])\n",
    "    else:\n",
    "        write_large_file(large_files,i,hyperlinks[i])\n",
    "        print('File number: ' + str(i))\n"
   ]
  }
 ],
 "metadata": {
  "kernelspec": {
   "display_name": "base",
   "language": "python",
   "name": "python3"
  },
  "language_info": {
   "codemirror_mode": {
    "name": "ipython",
    "version": 3
   },
   "file_extension": ".py",
   "mimetype": "text/x-python",
   "name": "python",
   "nbconvert_exporter": "python",
   "pygments_lexer": "ipython3",
   "version": "3.10.8 (main, Nov 24 2022, 08:09:04) [Clang 14.0.6 ]"
  },
  "orig_nbformat": 4,
  "vscode": {
   "interpreter": {
    "hash": "c30f2af5f468e7f5b45bcc30fca5f4886c90d54777aed916ed5f6294dfb24bf2"
   }
  }
 },
 "nbformat": 4,
 "nbformat_minor": 2
}
