{
 "cells": [
  {
   "attachments": {},
   "cell_type": "markdown",
   "metadata": {},
   "source": [
    "# Part 2: Data Wrangling\n",
    "\n",
    "# Matching Provider Groups with Hospitals\n",
    "\n",
    "## Purpose:\n",
    "In the Part 1 of this notebook series, we were working with [United Healthcare Insurance Dataset](https://transparency-in-coverage.uhc.com/?_gl=1*5it7ok*_ga*NjMzOTkzMDA0LjE2NzI3OTc4MjA.*_ga_HZQWR2GYM4*MTY3Mjc5NzgyMC4xLjAuMTY3Mjc5NzgyMC4wLjAuMA). Specifically, we processed the in-network UHC JSON files from this dataset that were less than 100 MB in size (this may vary depending on one's computer/internet specifications). This involved taking each JSON file and creating two tables for each file stored as CSV files. One file contains provider group information and the other file contains billing information. Both tables are linked by a reference number. These two files are stored in a folder related to the JSON file they were extracted from.\n",
    "\n",
    "The purpose of this notebook is to clean the provider group CSV file. Specifically, we will be tasked with trying to link a hospital with each provider group. This is important because the metrics we are going to working with from the CMS database are all related to hospital metrics, not provider groups. I will provide more context as we journey through this notebook.\n",
    "\n",
    "Lets first import some of the basic packages we will be using. All of these packages are availible with !pip install or conda install."
   ]
  },
  {
   "cell_type": "code",
   "execution_count": 9,
   "metadata": {},
   "outputs": [],
   "source": [
    "import pandas as pd\n",
    "import numpy as np\n",
    "import os\n",
    "from dotenv import load_dotenv\n",
    "from ast import literal_eval\n",
    "from collections import Counter"
   ]
  },
  {
   "attachments": {},
   "cell_type": "markdown",
   "metadata": {},
   "source": [
    "### Files to obtain\n",
    "\n",
    "As stated above, we need to obtain the paths of the provider group CSV files we created with the prior notebook. The parent directory is locally stored in a dotenv file. You may replace the location as you see fit. The following code should print out the location of the first CSV provider group file if executed correctly."
   ]
  },
  {
   "cell_type": "code",
   "execution_count": 10,
   "metadata": {},
   "outputs": [
    {
     "name": "stdout",
     "output_type": "stream",
     "text": [
      "The first provider file is located at:\n",
      "D:/Vignesh/Capstone\\data_update\\2023-01-01_ALL-SAVERS-INSURANCE-COMPANY_Insurer_PPO---NDC_PPO-NDC_in-network-rates\\2023-01-01_ALL-SAVERS-INSURANCE-COMPANY_Insurer_PPO---NDC_PPO-NDC_in-network-rates_providers.csv\n"
     ]
    }
   ],
   "source": [
    "load_dotenv()\n",
    "\n",
    "hyperlink_path = 'json_completed_hyperlinks_update.csv'\n",
    "parent_dir = os.getenv('dir')\n",
    "data_dir = os.path.join(parent_dir,'data_update')\n",
    "\n",
    "df = pd.read_csv(hyperlink_path, header=None)\n",
    "df.head()\n",
    "df.columns = ['ParseID','Hyperlink']\n",
    "hyperlinks = df['Hyperlink'].tolist()\n",
    "\n",
    "def foldername(hyperlink):\n",
    "    hyperlink = hyperlink.split('/')[-1]\n",
    "    return hyperlink[0:-8]\n",
    "def providers_path(folder):\n",
    "    return os.path.join(data_dir,folder,folder+'_providers.csv')\n",
    "\n",
    "folder_names= [foldername(hyperlink) for hyperlink in hyperlinks]\n",
    "provider_files = [providers_path(folder_name) for folder_name in folder_names]\n",
    "\n",
    "print('The first provider file is located at:\\n'+ provider_files[0])"
   ]
  },
  {
   "attachments": {},
   "cell_type": "markdown",
   "metadata": {},
   "source": [
    "### Lets read one:\n",
    "\n",
    "Let us read one file to see how the files are formated and become fimilar with the values within our provider group CSV files."
   ]
  },
  {
   "cell_type": "code",
   "execution_count": 11,
   "metadata": {},
   "outputs": [
    {
     "data": {
      "text/plain": [
       "tin                     int64\n",
       "npi_provider_groups    object\n",
       "dtype: object"
      ]
     },
     "execution_count": 11,
     "metadata": {},
     "output_type": "execute_result"
    }
   ],
   "source": [
    "df = pd.read_csv(provider_files[0], usecols=['tin','npi_provider_groups'], converters={'npi_provider_groups': literal_eval})\n",
    "df.dtypes"
   ]
  },
  {
   "attachments": {},
   "cell_type": "markdown",
   "metadata": {},
   "source": [
    "As expected, <font color=blue>tin</font> is an integer and <font color=blue>npi_provider_groups</font> is an object. Specifically, a list of integers."
   ]
  },
  {
   "cell_type": "code",
   "execution_count": 12,
   "metadata": {},
   "outputs": [
    {
     "data": {
      "text/html": [
       "<div>\n",
       "<style scoped>\n",
       "    .dataframe tbody tr th:only-of-type {\n",
       "        vertical-align: middle;\n",
       "    }\n",
       "\n",
       "    .dataframe tbody tr th {\n",
       "        vertical-align: top;\n",
       "    }\n",
       "\n",
       "    .dataframe thead th {\n",
       "        text-align: right;\n",
       "    }\n",
       "</style>\n",
       "<table border=\"1\" class=\"dataframe\">\n",
       "  <thead>\n",
       "    <tr style=\"text-align: right;\">\n",
       "      <th></th>\n",
       "      <th>tin</th>\n",
       "      <th>npi_provider_groups</th>\n",
       "    </tr>\n",
       "  </thead>\n",
       "  <tbody>\n",
       "    <tr>\n",
       "      <th>0</th>\n",
       "      <td>593582520</td>\n",
       "      <td>[1225090087]</td>\n",
       "    </tr>\n",
       "    <tr>\n",
       "      <th>1</th>\n",
       "      <td>272050459</td>\n",
       "      <td>[1639508567]</td>\n",
       "    </tr>\n",
       "    <tr>\n",
       "      <th>2</th>\n",
       "      <td>160743209</td>\n",
       "      <td>[1609314343]</td>\n",
       "    </tr>\n",
       "    <tr>\n",
       "      <th>3</th>\n",
       "      <td>561844651</td>\n",
       "      <td>[1215134309, 1043649635, 1851721047, 1285715185]</td>\n",
       "    </tr>\n",
       "    <tr>\n",
       "      <th>4</th>\n",
       "      <td>371756970</td>\n",
       "      <td>[1174710636]</td>\n",
       "    </tr>\n",
       "  </tbody>\n",
       "</table>\n",
       "</div>"
      ],
      "text/plain": [
       "         tin                               npi_provider_groups\n",
       "0  593582520                                      [1225090087]\n",
       "1  272050459                                      [1639508567]\n",
       "2  160743209                                      [1609314343]\n",
       "3  561844651  [1215134309, 1043649635, 1851721047, 1285715185]\n",
       "4  371756970                                      [1174710636]"
      ]
     },
     "execution_count": 12,
     "metadata": {},
     "output_type": "execute_result"
    }
   ],
   "source": [
    "df.head()"
   ]
  },
  {
   "attachments": {},
   "cell_type": "markdown",
   "metadata": {},
   "source": [
    "### Combining Provider Group Files\n",
    "\n",
    "We currently have provider files seperated matching to billing information via reference values. Our goal within this notebook is to match provider groups to hospitals. In a document provided by the CMS, we have NPIs matched to their affilated hospital, specifically a CCN value, which is unquie to each hospital. If we can combine our provider group files, sort out which NPI's are associated with which hospitals, and merge those files back to our originally provider groups files, we should be able to match our CMS metrics in future notebooks. Since the providers files are relatively small, we will be combining all the providers group into one dataframe with the follow code. This may take several minutes to execute depending on how many files were parsed."
   ]
  },
  {
   "cell_type": "code",
   "execution_count": 13,
   "metadata": {},
   "outputs": [
    {
     "name": "stdout",
     "output_type": "stream",
     "text": [
      "<class 'pandas.core.frame.DataFrame'>\n",
      "RangeIndex: 17332460 entries, 0 to 17332459\n",
      "Data columns (total 2 columns):\n",
      " #   Column               Dtype  \n",
      "---  ------               -----  \n",
      " 0   tin                  float64\n",
      " 1   npi_provider_groups  object \n",
      "dtypes: float64(1), object(1)\n",
      "memory usage: 264.5+ MB\n"
     ]
    }
   ],
   "source": [
    "df = pd.concat((pd.read_csv(f, usecols=['tin','npi_provider_groups'], converters={'npi_provider_groups': literal_eval}) for f in provider_files), ignore_index=True)\n",
    "df.info()"
   ]
  },
  {
   "attachments": {},
   "cell_type": "markdown",
   "metadata": {},
   "source": [
    "Lets check to see if there are any NaN values."
   ]
  },
  {
   "cell_type": "code",
   "execution_count": 14,
   "metadata": {},
   "outputs": [
    {
     "data": {
      "text/html": [
       "<div>\n",
       "<style scoped>\n",
       "    .dataframe tbody tr th:only-of-type {\n",
       "        vertical-align: middle;\n",
       "    }\n",
       "\n",
       "    .dataframe tbody tr th {\n",
       "        vertical-align: top;\n",
       "    }\n",
       "\n",
       "    .dataframe thead th {\n",
       "        text-align: right;\n",
       "    }\n",
       "</style>\n",
       "<table border=\"1\" class=\"dataframe\">\n",
       "  <thead>\n",
       "    <tr style=\"text-align: right;\">\n",
       "      <th></th>\n",
       "      <th>tin</th>\n",
       "      <th>npi_provider_groups</th>\n",
       "    </tr>\n",
       "  </thead>\n",
       "  <tbody>\n",
       "    <tr>\n",
       "      <th>1993</th>\n",
       "      <td>NaN</td>\n",
       "      <td>[1487195756, 1942589122]</td>\n",
       "    </tr>\n",
       "    <tr>\n",
       "      <th>21891</th>\n",
       "      <td>NaN</td>\n",
       "      <td>[]</td>\n",
       "    </tr>\n",
       "    <tr>\n",
       "      <th>62098</th>\n",
       "      <td>NaN</td>\n",
       "      <td>[]</td>\n",
       "    </tr>\n",
       "    <tr>\n",
       "      <th>101913</th>\n",
       "      <td>NaN</td>\n",
       "      <td>[]</td>\n",
       "    </tr>\n",
       "    <tr>\n",
       "      <th>141728</th>\n",
       "      <td>NaN</td>\n",
       "      <td>[]</td>\n",
       "    </tr>\n",
       "    <tr>\n",
       "      <th>...</th>\n",
       "      <td>...</td>\n",
       "      <td>...</td>\n",
       "    </tr>\n",
       "    <tr>\n",
       "      <th>17151887</th>\n",
       "      <td>NaN</td>\n",
       "      <td>[]</td>\n",
       "    </tr>\n",
       "    <tr>\n",
       "      <th>17191702</th>\n",
       "      <td>NaN</td>\n",
       "      <td>[]</td>\n",
       "    </tr>\n",
       "    <tr>\n",
       "      <th>17231517</th>\n",
       "      <td>NaN</td>\n",
       "      <td>[]</td>\n",
       "    </tr>\n",
       "    <tr>\n",
       "      <th>17271332</th>\n",
       "      <td>NaN</td>\n",
       "      <td>[]</td>\n",
       "    </tr>\n",
       "    <tr>\n",
       "      <th>17311147</th>\n",
       "      <td>NaN</td>\n",
       "      <td>[]</td>\n",
       "    </tr>\n",
       "  </tbody>\n",
       "</table>\n",
       "<p>439 rows × 2 columns</p>\n",
       "</div>"
      ],
      "text/plain": [
       "          tin       npi_provider_groups\n",
       "1993      NaN  [1487195756, 1942589122]\n",
       "21891     NaN                        []\n",
       "62098     NaN                        []\n",
       "101913    NaN                        []\n",
       "141728    NaN                        []\n",
       "...       ...                       ...\n",
       "17151887  NaN                        []\n",
       "17191702  NaN                        []\n",
       "17231517  NaN                        []\n",
       "17271332  NaN                        []\n",
       "17311147  NaN                        []\n",
       "\n",
       "[439 rows x 2 columns]"
      ]
     },
     "execution_count": 14,
     "metadata": {},
     "output_type": "execute_result"
    }
   ],
   "source": [
    "df[df.isna().any(axis=1)]"
   ]
  },
  {
   "attachments": {},
   "cell_type": "markdown",
   "metadata": {},
   "source": [
    "TIN is a tax identification number and is an option to organize provider groups outside of their reference numbers. This is useful because reference numbers are specific to the JSON file they were derived from and do not correlate with other JSON files, but TIN numbers are universal and do. \n",
    "\n",
    "For example, the first JSON file my have the reference number 1 = NPI 11111 but the second JSON file may have reference number 1 = NPI 22222. We do not want to treat these as equal; however, if the first JSON file has reference number 3 = 22222. These two TIN should match and they should have the same array list of NPIs. There are instances where an NPI will match to multiple TINs. This would be if a physician works for hospital and maybe has a private practice as well. For the purpose of our case, we want to match each list of NPIs to a hospital. I will explain how we do this later on in the notebook.\n",
    "\n",
    "For now, let us drop NaN values in either column as there will be no way to figure out which hospital these groups belong to, or if they belong to any group at all. In addition, we will drop duplicates along TIN values, as they should have matching lists of NPIs."
   ]
  },
  {
   "cell_type": "code",
   "execution_count": 15,
   "metadata": {},
   "outputs": [],
   "source": [
    "df.dropna(inplace=True)\n",
    "df.drop_duplicates(subset=['tin'], inplace=True, ignore_index=True)"
   ]
  },
  {
   "cell_type": "markdown",
   "metadata": {},
   "source": [
    "Lets take a look at the data."
   ]
  },
  {
   "cell_type": "code",
   "execution_count": 16,
   "metadata": {},
   "outputs": [
    {
     "name": "stdout",
     "output_type": "stream",
     "text": [
      "<class 'pandas.core.frame.DataFrame'>\n",
      "RangeIndex: 46854 entries, 0 to 46853\n",
      "Data columns (total 2 columns):\n",
      " #   Column               Non-Null Count  Dtype  \n",
      "---  ------               --------------  -----  \n",
      " 0   tin                  46854 non-null  float64\n",
      " 1   npi_provider_groups  46854 non-null  object \n",
      "dtypes: float64(1), object(1)\n",
      "memory usage: 732.2+ KB\n"
     ]
    }
   ],
   "source": [
    "df.info()"
   ]
  },
  {
   "attachments": {},
   "cell_type": "markdown",
   "metadata": {},
   "source": [
    "## Matching Providers with Hospitals\n",
    "\n",
    "The following file is provided by the CMS and is publically availible: _Facility_Affiliation.csv_. It provides a CSV table that matches NPI with an associated hospital/facility. CCN is a unquie number that refers to a hospital/facility where an NPI either works or is contracted for. Hospital/facilities can have parent CCNs, this may be the case for large hospital systems. CCN might not just refer to a hospital, but could be related to any facility, such as a nursing home or pharmacy. "
   ]
  },
  {
   "cell_type": "code",
   "execution_count": 17,
   "metadata": {},
   "outputs": [],
   "source": [
    "npi_path = 'Facility_Affiliation.csv'\n",
    "npi = pd.read_csv(npi_path,usecols=['NPI','facility_afl_ccn','parent_ccn'], encoding='windows-1252')"
   ]
  },
  {
   "cell_type": "code",
   "execution_count": 21,
   "metadata": {},
   "outputs": [
    {
     "name": "stdout",
     "output_type": "stream",
     "text": [
      "<class 'pandas.core.frame.DataFrame'>\n",
      "RangeIndex: 1576038 entries, 0 to 1576037\n",
      "Data columns (total 3 columns):\n",
      " #   Column            Non-Null Count    Dtype  \n",
      "---  ------            --------------    -----  \n",
      " 0   NPI               1576038 non-null  int64  \n",
      " 1   facility_afl_ccn  1576038 non-null  object \n",
      " 2   parent_ccn        5635 non-null     float64\n",
      "dtypes: float64(1), int64(1), object(1)\n",
      "memory usage: 36.1+ MB\n"
     ]
    }
   ],
   "source": [
    "npi.info()"
   ]
  },
  {
   "attachments": {},
   "cell_type": "markdown",
   "metadata": {},
   "source": [
    "### Parent vs Facility CCN\n",
    "\n",
    "Lets create a new column where we determine which CCN to use for each NPI. If parent_cnn is NaN, then we will use the facility_afl_ccn number. However, if a parent CCN is present, we will use that facilities CCN. Since the CMS metrics we will be using are from large hospitals, it is more likely to match with larger facilities than smaller ones. Below is a lambda function that can be applied to the dataframe to determine which CCN to use."
   ]
  },
  {
   "cell_type": "code",
   "execution_count": 26,
   "metadata": {},
   "outputs": [],
   "source": [
    "npi['ccn'] = npi.apply(lambda row: row['facility_afl_ccn'] if np.isnan(row['parent_ccn']) else str(int(row['parent_ccn'])), axis=1)"
   ]
  },
  {
   "attachments": {},
   "cell_type": "markdown",
   "metadata": {},
   "source": [
    "CCN has been cast as a string since letters may be contained within them."
   ]
  },
  {
   "cell_type": "code",
   "execution_count": 27,
   "metadata": {},
   "outputs": [
    {
     "name": "stdout",
     "output_type": "stream",
     "text": [
      "<class 'pandas.core.frame.DataFrame'>\n",
      "RangeIndex: 1576038 entries, 0 to 1576037\n",
      "Data columns (total 4 columns):\n",
      " #   Column            Non-Null Count    Dtype  \n",
      "---  ------            --------------    -----  \n",
      " 0   NPI               1576038 non-null  int64  \n",
      " 1   facility_afl_ccn  1576038 non-null  object \n",
      " 2   parent_ccn        5635 non-null     float64\n",
      " 3   ccn               1576038 non-null  object \n",
      "dtypes: float64(1), int64(1), object(2)\n",
      "memory usage: 48.1+ MB\n"
     ]
    }
   ],
   "source": [
    "npi=npi.astype({'ccn':'str'})\n",
    "npi.info()"
   ]
  },
  {
   "attachments": {},
   "cell_type": "markdown",
   "metadata": {},
   "source": [
    "### Matching NPI groups with their hospital\n",
    "\n",
    "We are currently tasked with taking NPI groups, and matching them with their affiliated hospital. As stated earlier, an individual NPI can be associated with many hospitals/facilities. There are multiple ways to go about matching a list of NPIs to a hospital; however, I believe the best approach is to create a list of CCNs for each NPI within an NPI group list that matches the NPI value on in our CMS dataframe, combine these CCN lists for an NPI group/TIN, do a majority count of which CCN appears most for an NPI group, and assign that CCN for the TIN value. \n",
    "\n",
    "I defined a function here that does exactly that and applies it to our dataframe. This may take several minutes."
   ]
  },
  {
   "cell_type": "code",
   "execution_count": 28,
   "metadata": {},
   "outputs": [],
   "source": [
    "def find_npi(x):\n",
    "    ccns = []\n",
    "    for npi_value in x['npi_provider_groups']:\n",
    "        queried = npi[npi['NPI']==npi_value]\n",
    "        lst = queried['ccn'].to_list()\n",
    "        if lst: \n",
    "            ccns = ccns + lst\n",
    "    if ccns:\n",
    "        count= Counter(ccns)\n",
    "        x['ccn'] = count.most_common()[0][0]\n",
    "    else:\n",
    "        x['ccn'] = None\n",
    "    return x\n",
    "\n",
    "df = df.apply(find_npi, axis=1)"
   ]
  },
  {
   "cell_type": "code",
   "execution_count": 30,
   "metadata": {},
   "outputs": [
    {
     "name": "stdout",
     "output_type": "stream",
     "text": [
      "<class 'pandas.core.frame.DataFrame'>\n",
      "RangeIndex: 46854 entries, 0 to 46853\n",
      "Data columns (total 3 columns):\n",
      " #   Column               Non-Null Count  Dtype  \n",
      "---  ------               --------------  -----  \n",
      " 0   tin                  46854 non-null  float64\n",
      " 1   npi_provider_groups  46854 non-null  object \n",
      " 2   ccn                  3895 non-null   object \n",
      "dtypes: float64(1), object(2)\n",
      "memory usage: 1.1+ MB\n"
     ]
    }
   ],
   "source": [
    "df.info()"
   ]
  },
  {
   "attachments": {},
   "cell_type": "markdown",
   "metadata": {},
   "source": [
    "As one might notice, a lot of of NPI provider groups do not have an assigned CCN. This is to be expected, as most NPIs within the United states are not associated with hospitals, and our NPI from the CMS are those associated with a hospital."
   ]
  },
  {
   "attachments": {},
   "cell_type": "markdown",
   "metadata": {},
   "source": [
    "Lets store this data. I used the to_parquet here, but you can easily store this as a CSV file. "
   ]
  },
  {
   "cell_type": "code",
   "execution_count": 17,
   "metadata": {},
   "outputs": [],
   "source": [
    "df.to_parquet('tin_to_ccn.parquet')"
   ]
  },
  {
   "attachments": {},
   "cell_type": "markdown",
   "metadata": {},
   "source": [
    "Lets clean this data for any NaN values for NPI groups not associated with a hospital and store this as a seperate file."
   ]
  },
  {
   "cell_type": "code",
   "execution_count": 18,
   "metadata": {},
   "outputs": [
    {
     "name": "stdout",
     "output_type": "stream",
     "text": [
      "<class 'pandas.core.frame.DataFrame'>\n",
      "Int64Index: 3895 entries, 96 to 46853\n",
      "Data columns (total 3 columns):\n",
      " #   Column               Non-Null Count  Dtype  \n",
      "---  ------               --------------  -----  \n",
      " 0   tin                  3895 non-null   float64\n",
      " 1   npi_provider_groups  3895 non-null   object \n",
      " 2   ccn                  3895 non-null   object \n",
      "dtypes: float64(1), object(2)\n",
      "memory usage: 121.7+ KB\n"
     ]
    }
   ],
   "source": [
    "df.dropna(subset=['ccn'],inplace=True)\n",
    "df.info()"
   ]
  },
  {
   "cell_type": "code",
   "execution_count": 19,
   "metadata": {},
   "outputs": [
    {
     "data": {
      "text/html": [
       "<div>\n",
       "<style scoped>\n",
       "    .dataframe tbody tr th:only-of-type {\n",
       "        vertical-align: middle;\n",
       "    }\n",
       "\n",
       "    .dataframe tbody tr th {\n",
       "        vertical-align: top;\n",
       "    }\n",
       "\n",
       "    .dataframe thead th {\n",
       "        text-align: right;\n",
       "    }\n",
       "</style>\n",
       "<table border=\"1\" class=\"dataframe\">\n",
       "  <thead>\n",
       "    <tr style=\"text-align: right;\">\n",
       "      <th></th>\n",
       "      <th>tin</th>\n",
       "      <th>npi_provider_groups</th>\n",
       "      <th>ccn</th>\n",
       "    </tr>\n",
       "  </thead>\n",
       "  <tbody>\n",
       "    <tr>\n",
       "      <th>96</th>\n",
       "      <td>1.356639e+09</td>\n",
       "      <td>[1356638811]</td>\n",
       "      <td>297112</td>\n",
       "    </tr>\n",
       "    <tr>\n",
       "      <th>97</th>\n",
       "      <td>1.285698e+09</td>\n",
       "      <td>[1285698381]</td>\n",
       "      <td>030101</td>\n",
       "    </tr>\n",
       "    <tr>\n",
       "      <th>106</th>\n",
       "      <td>1.508899e+09</td>\n",
       "      <td>[1508899253]</td>\n",
       "      <td>290007</td>\n",
       "    </tr>\n",
       "    <tr>\n",
       "      <th>129</th>\n",
       "      <td>1.932107e+09</td>\n",
       "      <td>[1932106853]</td>\n",
       "      <td>030055</td>\n",
       "    </tr>\n",
       "    <tr>\n",
       "      <th>131</th>\n",
       "      <td>1.215107e+09</td>\n",
       "      <td>[1215107347]</td>\n",
       "      <td>060006</td>\n",
       "    </tr>\n",
       "  </tbody>\n",
       "</table>\n",
       "</div>"
      ],
      "text/plain": [
       "              tin npi_provider_groups     ccn\n",
       "96   1.356639e+09        [1356638811]  297112\n",
       "97   1.285698e+09        [1285698381]  030101\n",
       "106  1.508899e+09        [1508899253]  290007\n",
       "129  1.932107e+09        [1932106853]  030055\n",
       "131  1.215107e+09        [1215107347]  060006"
      ]
     },
     "execution_count": 19,
     "metadata": {},
     "output_type": "execute_result"
    }
   ],
   "source": [
    "df.head()"
   ]
  },
  {
   "cell_type": "markdown",
   "metadata": {},
   "source": [
    "Lets store this data seperately, as this will be its useful form."
   ]
  },
  {
   "cell_type": "code",
   "execution_count": 20,
   "metadata": {},
   "outputs": [],
   "source": [
    "df.to_parquet('tin_to_ccn_nonan.parquet')"
   ]
  },
  {
   "attachments": {},
   "cell_type": "markdown",
   "metadata": {},
   "source": [
    "## Conclusion\n",
    "\n",
    "In this notebook we were able to take all the NPI groups and assign them a hospital/facility within the CMS dataset. We created two parquet files, one containing NaN values and one without. Our next step will be match billing information created in the prior notebook with the proper CCN from the parquet file we created."
   ]
  }
 ],
 "metadata": {
  "kernelspec": {
   "display_name": "base",
   "language": "python",
   "name": "python3"
  },
  "language_info": {
   "codemirror_mode": {
    "name": "ipython",
    "version": 3
   },
   "file_extension": ".py",
   "mimetype": "text/x-python",
   "name": "python",
   "nbconvert_exporter": "python",
   "pygments_lexer": "ipython3",
   "version": "3.9.16 | packaged by conda-forge | (main, Feb  1 2023, 21:28:38) [MSC v.1929 64 bit (AMD64)]"
  },
  "orig_nbformat": 4,
  "vscode": {
   "interpreter": {
    "hash": "ad2bdc8ecc057115af97d19610ffacc2b4e99fae6737bb82f5d7fb13d2f2c186"
   }
  }
 },
 "nbformat": 4,
 "nbformat_minor": 2
}
