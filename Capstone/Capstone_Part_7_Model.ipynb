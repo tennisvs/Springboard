{
 "cells": [
  {
   "attachments": {},
   "cell_type": "markdown",
   "metadata": {},
   "source": [
    "# 7 Modeling<a id='5_Modeling'></a>"
   ]
  },
  {
   "attachments": {},
   "cell_type": "markdown",
   "metadata": {},
   "source": [
    "## 7.1 Contents<a id='7.1_Contents'></a>\n",
    "* [7 Modeling](#7_Modeling)\n",
    "  * [7.1 Contents](#7.1_Contents)\n",
    "  * [7.2 Introduction](#7.2_Introduction)\n",
    "  * [7.3 Imports](#7.3_Imports)\n",
    "  * [7.4 Load Model](#7.4_Load_Model)\n",
    "  * [7.5 Load Data](#7.5_Load_Data)\n",
    "  * [7.6 Refit Model On All Available Data (excluding Florida Hospital)](#7.6_Refit_Model_On_All_Available_Data_(excluding_Florida_Hospital))\n",
    "  * [7.7 Calculate Expected Price From The Model](#7.7_Calculate_Expected_Procedure_Price_Using_Florida_Hospital_From_The_Model)\n",
    "  * [7.8 Random Florida Hospital](#7.8_Random_Florida_Hospital_In_Insurance_Market_Context)\n",
    "    * [7.8.1 Procedure price](#7.8.1_Procedure_price)\n",
    "    * [7.8.2 Infection Ratings](#7.8.2_Infection_Ratings)\n",
    "    * [7.8.3 Hospitals per 100k](#7.8.3_Hospitals_per_100k)\n",
    "    * [7.8.4 Discharges per 100k](#7.8.4_Discharges_per_100k)\n",
    "    * [7.8.5 Discharge Ratio](#7.8.5_Discharge_Ratio)\n",
    "    * [7.8.6 Bed Ratio](#7.8.6_Bed_Ratio)\n",
    "    * [7.8.7 Interns/Residents](#7.8.7_Interns_Residents)\n",
    "    * [7.8.8 Hospital Days](#7.8.8_Hospital_Days)\n",
    "  * [7.9 Modeling scenarios](#7.9_Modeling_scenarios)\n",
    "    * [7.9.1 Scenario 1](#7.9.1_Scenario_1)\n",
    "    * [7.9.2 Scenario 2](#7.9.2_Scenario_2)\n",
    "    * [7.9.3 Scenario 3](#7.9.3_Scenario_3)\n",
    "    * [7.9.4 Scenario 4](#7.9.4_Scenario_4)\n",
    "  * [7.10 Summary](#7.10_Summary)\n",
    "  * [7.11 Further work](#7.11_Further_work)\n"
   ]
  },
  {
   "attachments": {},
   "cell_type": "markdown",
   "metadata": {},
   "source": [
    "## 7.2 Introduction<a id='7.2_Introduction'></a>"
   ]
  },
  {
   "attachments": {},
   "cell_type": "markdown",
   "metadata": {},
   "source": [
    "In this notebook, we now take our model for pricing and leverage it to gain some insights into what price of a random Florida hospital might actually support as well as explore the sensitivity of changes to various resort parameters. Note that this relies on the implicit assumption that all other resorts are largely setting prices based on how much people value certain facilities. \n",
    "In addition, from our previous notebook we can see that our accuracy from this model is not the highest, at 79%, so please take this analysis with a grain of salt. I will address this in the conclusion."
   ]
  },
  {
   "attachments": {},
   "cell_type": "markdown",
   "metadata": {},
   "source": [
    "## 7.3 Imports<a id='7.3_Imports'></a>"
   ]
  },
  {
   "cell_type": "code",
   "execution_count": 166,
   "metadata": {},
   "outputs": [],
   "source": [
    "import pandas as pd\n",
    "import numpy as np\n",
    "import os\n",
    "import pickle\n",
    "import matplotlib.pyplot as plt\n",
    "import seaborn as sns\n",
    "from sklearn import __version__ as sklearn_version\n",
    "from sklearn.preprocessing import StandardScaler\n",
    "from sklearn.model_selection import cross_validate\n",
    "from sklearn.pipeline import make_pipeline\n",
    "from sklearn.ensemble import RandomForestRegressor"
   ]
  },
  {
   "attachments": {},
   "cell_type": "markdown",
   "metadata": {},
   "source": [
    "## 7.4 Load Model<a id='7.4_Load_Model'></a>"
   ]
  },
  {
   "cell_type": "code",
   "execution_count": 167,
   "metadata": {},
   "outputs": [],
   "source": [
    "expected_model_version = 1\n",
    "model_path = '../models/procedure_pricing_model.pkl'\n",
    "if os.path.exists(model_path):\n",
    "    with open(model_path, 'rb') as f:\n",
    "        model = pickle.load(f)\n",
    "    if model.version != expected_model_version:\n",
    "        print(\"Expected model version doesn't match version loaded\")\n",
    "    if model.sklearn_version != sklearn_version:\n",
    "        print(\"Warning: model created under different sklearn version\")\n",
    "else:\n",
    "    print(\"Expected model not found\")"
   ]
  },
  {
   "attachments": {},
   "cell_type": "markdown",
   "metadata": {},
   "source": [
    "## 7.5 Load Data<a id='7.5_Load_Data'></a>"
   ]
  },
  {
   "cell_type": "code",
   "execution_count": 168,
   "metadata": {},
   "outputs": [],
   "source": [
    "path = 'data'\n",
    "obj = os.scandir(path)\n",
    "l = [entry for entry in obj]\n",
    "df_dict = {}\n",
    "\n",
    "for entry in l:\n",
    "    p = entry.name[0:-8]\n",
    "    df_dict[p] = pd.read_parquet('data/'+entry.name, engine='pyarrow')\n",
    "\n",
    "# This is the same procedure we used in the previous notebook\n",
    "procedure = 'CPT58150'\n",
    "data = df_dict[procedure]\n",
    "data= pd.get_dummies(data, columns=['Rural Versus Urban'], drop_first= True)"
   ]
  },
  {
   "attachments": {},
   "cell_type": "markdown",
   "metadata": {},
   "source": [
    "Lets pick a random Florida Hospital given it has the most hospitals within our list of procedures."
   ]
  },
  {
   "cell_type": "code",
   "execution_count": 169,
   "metadata": {},
   "outputs": [
    {
     "data": {
      "text/html": [
       "<div>\n",
       "<style scoped>\n",
       "    .dataframe tbody tr th:only-of-type {\n",
       "        vertical-align: middle;\n",
       "    }\n",
       "\n",
       "    .dataframe tbody tr th {\n",
       "        vertical-align: top;\n",
       "    }\n",
       "\n",
       "    .dataframe thead th {\n",
       "        text-align: right;\n",
       "    }\n",
       "</style>\n",
       "<table border=\"1\" class=\"dataframe\">\n",
       "  <thead>\n",
       "    <tr style=\"text-align: right;\">\n",
       "      <th></th>\n",
       "      <th>4</th>\n",
       "      <th>41</th>\n",
       "      <th>55</th>\n",
       "      <th>56</th>\n",
       "      <th>57</th>\n",
       "      <th>58</th>\n",
       "      <th>59</th>\n",
       "      <th>60</th>\n",
       "      <th>61</th>\n",
       "      <th>62</th>\n",
       "    </tr>\n",
       "  </thead>\n",
       "  <tbody>\n",
       "    <tr>\n",
       "      <th>ccn</th>\n",
       "      <td>100168</td>\n",
       "      <td>100017</td>\n",
       "      <td>100113</td>\n",
       "      <td>100007</td>\n",
       "      <td>100008</td>\n",
       "      <td>100025</td>\n",
       "      <td>100275</td>\n",
       "      <td>100014</td>\n",
       "      <td>100154</td>\n",
       "      <td>100088</td>\n",
       "    </tr>\n",
       "    <tr>\n",
       "      <th>State Code</th>\n",
       "      <td>FL</td>\n",
       "      <td>FL</td>\n",
       "      <td>FL</td>\n",
       "      <td>FL</td>\n",
       "      <td>FL</td>\n",
       "      <td>FL</td>\n",
       "      <td>FL</td>\n",
       "      <td>FL</td>\n",
       "      <td>FL</td>\n",
       "      <td>FL</td>\n",
       "    </tr>\n",
       "    <tr>\n",
       "      <th>PSI_03</th>\n",
       "      <td>2.915921</td>\n",
       "      <td>3.963068</td>\n",
       "      <td>0.152801</td>\n",
       "      <td>0.451683</td>\n",
       "      <td>1.088026</td>\n",
       "      <td>0.56465</td>\n",
       "      <td>1.014029</td>\n",
       "      <td>0.102825</td>\n",
       "      <td>2.909586</td>\n",
       "      <td>0.309567</td>\n",
       "    </tr>\n",
       "    <tr>\n",
       "      <th>PSI_06</th>\n",
       "      <td>0.197895</td>\n",
       "      <td>0.29655</td>\n",
       "      <td>0.196235</td>\n",
       "      <td>0.15857</td>\n",
       "      <td>0.14698</td>\n",
       "      <td>0.162348</td>\n",
       "      <td>0.164185</td>\n",
       "      <td>0.170671</td>\n",
       "      <td>0.19117</td>\n",
       "      <td>0.1719</td>\n",
       "    </tr>\n",
       "    <tr>\n",
       "      <th>PSI_08</th>\n",
       "      <td>0.062805</td>\n",
       "      <td>0.102285</td>\n",
       "      <td>0.051783</td>\n",
       "      <td>0.141355</td>\n",
       "      <td>0.039195</td>\n",
       "      <td>0.035636</td>\n",
       "      <td>0.052801</td>\n",
       "      <td>0.060561</td>\n",
       "      <td>0.053377</td>\n",
       "      <td>0.051546</td>\n",
       "    </tr>\n",
       "    <tr>\n",
       "      <th>PSI_09</th>\n",
       "      <td>3.227263</td>\n",
       "      <td>2.070166</td>\n",
       "      <td>2.868181</td>\n",
       "      <td>2.069424</td>\n",
       "      <td>2.648538</td>\n",
       "      <td>1.609382</td>\n",
       "      <td>2.264156</td>\n",
       "      <td>2.44553</td>\n",
       "      <td>2.154023</td>\n",
       "      <td>2.055427</td>\n",
       "    </tr>\n",
       "    <tr>\n",
       "      <th>PSI_10</th>\n",
       "      <td>3.064857</td>\n",
       "      <td>0.697059</td>\n",
       "      <td>1.497456</td>\n",
       "      <td>0.309488</td>\n",
       "      <td>1.251359</td>\n",
       "      <td>0.521601</td>\n",
       "      <td>1.220638</td>\n",
       "      <td>0.905268</td>\n",
       "      <td>0.770713</td>\n",
       "      <td>0.872126</td>\n",
       "    </tr>\n",
       "    <tr>\n",
       "      <th>PSI_11</th>\n",
       "      <td>10.679905</td>\n",
       "      <td>3.956092</td>\n",
       "      <td>4.306264</td>\n",
       "      <td>6.004977</td>\n",
       "      <td>21.444327</td>\n",
       "      <td>1.316736</td>\n",
       "      <td>6.008137</td>\n",
       "      <td>5.029652</td>\n",
       "      <td>7.361188</td>\n",
       "      <td>10.026066</td>\n",
       "    </tr>\n",
       "    <tr>\n",
       "      <th>PSI_12</th>\n",
       "      <td>5.43422</td>\n",
       "      <td>2.940722</td>\n",
       "      <td>4.79363</td>\n",
       "      <td>3.707826</td>\n",
       "      <td>5.046361</td>\n",
       "      <td>2.668187</td>\n",
       "      <td>3.857384</td>\n",
       "      <td>3.597614</td>\n",
       "      <td>4.063738</td>\n",
       "      <td>4.33491</td>\n",
       "    </tr>\n",
       "    <tr>\n",
       "      <th>PSI_13</th>\n",
       "      <td>5.74758</td>\n",
       "      <td>4.029735</td>\n",
       "      <td>6.27489</td>\n",
       "      <td>5.758861</td>\n",
       "      <td>5.108392</td>\n",
       "      <td>2.616165</td>\n",
       "      <td>4.752644</td>\n",
       "      <td>4.641143</td>\n",
       "      <td>4.318098</td>\n",
       "      <td>4.963131</td>\n",
       "    </tr>\n",
       "    <tr>\n",
       "      <th>PSI_14</th>\n",
       "      <td>0.801355</td>\n",
       "      <td>0.660227</td>\n",
       "      <td>1.100019</td>\n",
       "      <td>1.062027</td>\n",
       "      <td>0.632644</td>\n",
       "      <td>0.825346</td>\n",
       "      <td>0.745631</td>\n",
       "      <td>0.761019</td>\n",
       "      <td>0.726562</td>\n",
       "      <td>0.556403</td>\n",
       "    </tr>\n",
       "    <tr>\n",
       "      <th>PSI_15</th>\n",
       "      <td>1.438312</td>\n",
       "      <td>1.012573</td>\n",
       "      <td>1.894156</td>\n",
       "      <td>0.792794</td>\n",
       "      <td>1.694465</td>\n",
       "      <td>0.831219</td>\n",
       "      <td>1.217856</td>\n",
       "      <td>1.31207</td>\n",
       "      <td>2.243278</td>\n",
       "      <td>0.551554</td>\n",
       "    </tr>\n",
       "    <tr>\n",
       "      <th>PSI_90</th>\n",
       "      <td>1.893632</td>\n",
       "      <td>1.517203</td>\n",
       "      <td>0.978448</td>\n",
       "      <td>0.905716</td>\n",
       "      <td>1.622881</td>\n",
       "      <td>0.61518</td>\n",
       "      <td>1.113127</td>\n",
       "      <td>0.947674</td>\n",
       "      <td>1.430453</td>\n",
       "      <td>1.019178</td>\n",
       "    </tr>\n",
       "    <tr>\n",
       "      <th>HAI_1_SIR</th>\n",
       "      <td>0.834</td>\n",
       "      <td>0.757</td>\n",
       "      <td>1.235</td>\n",
       "      <td>1.24</td>\n",
       "      <td>0.804</td>\n",
       "      <td>0.875</td>\n",
       "      <td>2.887</td>\n",
       "      <td>2.318</td>\n",
       "      <td>0.366</td>\n",
       "      <td>0.74</td>\n",
       "    </tr>\n",
       "    <tr>\n",
       "      <th>HAI_2_SIR</th>\n",
       "      <td>0.855</td>\n",
       "      <td>0.824</td>\n",
       "      <td>0.39</td>\n",
       "      <td>0.827</td>\n",
       "      <td>0.551</td>\n",
       "      <td>0.346</td>\n",
       "      <td>0.374</td>\n",
       "      <td>1.199</td>\n",
       "      <td>0.0</td>\n",
       "      <td>1.08</td>\n",
       "    </tr>\n",
       "    <tr>\n",
       "      <th>HAI_3_SIR</th>\n",
       "      <td>0.764</td>\n",
       "      <td>0.759</td>\n",
       "      <td>1.319</td>\n",
       "      <td>0.81</td>\n",
       "      <td>1.156</td>\n",
       "      <td>0.493</td>\n",
       "      <td>0.842</td>\n",
       "      <td>0.0</td>\n",
       "      <td>0.753</td>\n",
       "      <td>0.596</td>\n",
       "    </tr>\n",
       "    <tr>\n",
       "      <th>HAI_5_SIR</th>\n",
       "      <td>0.585</td>\n",
       "      <td>1.102</td>\n",
       "      <td>1.285</td>\n",
       "      <td>0.863</td>\n",
       "      <td>1.492</td>\n",
       "      <td>1.988</td>\n",
       "      <td>1.406</td>\n",
       "      <td>0.664</td>\n",
       "      <td>0.985</td>\n",
       "      <td>1.269</td>\n",
       "    </tr>\n",
       "    <tr>\n",
       "      <th>HAI_6_SIR</th>\n",
       "      <td>0.44</td>\n",
       "      <td>0.539</td>\n",
       "      <td>0.743</td>\n",
       "      <td>0.295</td>\n",
       "      <td>0.258</td>\n",
       "      <td>0.56</td>\n",
       "      <td>0.456</td>\n",
       "      <td>0.179</td>\n",
       "      <td>0.347</td>\n",
       "      <td>0.295</td>\n",
       "    </tr>\n",
       "    <tr>\n",
       "      <th>Number of Interns and Residents (FTE)</th>\n",
       "      <td>69.78</td>\n",
       "      <td>24.1</td>\n",
       "      <td>678.11</td>\n",
       "      <td>166.05</td>\n",
       "      <td>0.0</td>\n",
       "      <td>54.68</td>\n",
       "      <td>17.73</td>\n",
       "      <td>0.0</td>\n",
       "      <td>0.0</td>\n",
       "      <td>54.71</td>\n",
       "    </tr>\n",
       "    <tr>\n",
       "      <th>Number of Beds</th>\n",
       "      <td>370.0</td>\n",
       "      <td>436.0</td>\n",
       "      <td>954.0</td>\n",
       "      <td>2735.0</td>\n",
       "      <td>705.0</td>\n",
       "      <td>533.0</td>\n",
       "      <td>233.0</td>\n",
       "      <td>109.0</td>\n",
       "      <td>436.0</td>\n",
       "      <td>855.0</td>\n",
       "    </tr>\n",
       "    <tr>\n",
       "      <th>Total Discharges (V + XVIII + XIX + Unknown)</th>\n",
       "      <td>17098.846154</td>\n",
       "      <td>20958.42033</td>\n",
       "      <td>45477.0</td>\n",
       "      <td>131197.445055</td>\n",
       "      <td>30691.085165</td>\n",
       "      <td>23777.0</td>\n",
       "      <td>14938.928571</td>\n",
       "      <td>5483.021978</td>\n",
       "      <td>13973.282967</td>\n",
       "      <td>47759.848901</td>\n",
       "    </tr>\n",
       "    <tr>\n",
       "      <th>Total Days (V + XVIII + XIX + Unknown) + Total for all Subproviders</th>\n",
       "      <td>93744.835165</td>\n",
       "      <td>137713.296703</td>\n",
       "      <td>352339.0</td>\n",
       "      <td>699149.478022</td>\n",
       "      <td>201927.225275</td>\n",
       "      <td>123082.0</td>\n",
       "      <td>59521.071429</td>\n",
       "      <td>23256.717033</td>\n",
       "      <td>78925.233516</td>\n",
       "      <td>350219.505495</td>\n",
       "    </tr>\n",
       "    <tr>\n",
       "      <th>Hospital Total Days (V + XVIII + XIX + Unknown) For Adults &amp;amp; Peds</th>\n",
       "      <td>69105.32967</td>\n",
       "      <td>77306.799451</td>\n",
       "      <td>148687.0</td>\n",
       "      <td>538474.271978</td>\n",
       "      <td>168759.354396</td>\n",
       "      <td>79483.0</td>\n",
       "      <td>46595.659341</td>\n",
       "      <td>20198.337912</td>\n",
       "      <td>50777.115385</td>\n",
       "      <td>172721.208791</td>\n",
       "    </tr>\n",
       "    <tr>\n",
       "      <th>Hospital Total Bed Days Available For Adults &amp;amp; Peds</th>\n",
       "      <td>117714.505495</td>\n",
       "      <td>113460.851648</td>\n",
       "      <td>195085.0</td>\n",
       "      <td>821676.167582</td>\n",
       "      <td>230215.728022</td>\n",
       "      <td>143490.0</td>\n",
       "      <td>69500.412088</td>\n",
       "      <td>34770.260989</td>\n",
       "      <td>126636.950549</td>\n",
       "      <td>243391.826923</td>\n",
       "    </tr>\n",
       "    <tr>\n",
       "      <th>Hospital Total Discharges (V + XVIII + XIX + Unknown) For Adults &amp;amp; Peds</th>\n",
       "      <td>17098.846154</td>\n",
       "      <td>20958.42033</td>\n",
       "      <td>45477.0</td>\n",
       "      <td>131197.445055</td>\n",
       "      <td>30691.085165</td>\n",
       "      <td>23777.0</td>\n",
       "      <td>14938.928571</td>\n",
       "      <td>5483.021978</td>\n",
       "      <td>13973.282967</td>\n",
       "      <td>47759.848901</td>\n",
       "    </tr>\n",
       "    <tr>\n",
       "      <th>negotiated_rates_median</th>\n",
       "      <td>1205.165</td>\n",
       "      <td>987.92</td>\n",
       "      <td>1167.38</td>\n",
       "      <td>1104.52</td>\n",
       "      <td>1283.38</td>\n",
       "      <td>1427.87</td>\n",
       "      <td>1117.18</td>\n",
       "      <td>1031.515</td>\n",
       "      <td>1832.81</td>\n",
       "      <td>2190.475</td>\n",
       "    </tr>\n",
       "    <tr>\n",
       "      <th>state population</th>\n",
       "      <td>21477737</td>\n",
       "      <td>21477737</td>\n",
       "      <td>21477737</td>\n",
       "      <td>21477737</td>\n",
       "      <td>21477737</td>\n",
       "      <td>21477737</td>\n",
       "      <td>21477737</td>\n",
       "      <td>21477737</td>\n",
       "      <td>21477737</td>\n",
       "      <td>21477737</td>\n",
       "    </tr>\n",
       "    <tr>\n",
       "      <th>median salary</th>\n",
       "      <td>59227</td>\n",
       "      <td>59227</td>\n",
       "      <td>59227</td>\n",
       "      <td>59227</td>\n",
       "      <td>59227</td>\n",
       "      <td>59227</td>\n",
       "      <td>59227</td>\n",
       "      <td>59227</td>\n",
       "      <td>59227</td>\n",
       "      <td>59227</td>\n",
       "    </tr>\n",
       "    <tr>\n",
       "      <th>total hospitals</th>\n",
       "      <td>221.0</td>\n",
       "      <td>221.0</td>\n",
       "      <td>221.0</td>\n",
       "      <td>221.0</td>\n",
       "      <td>221.0</td>\n",
       "      <td>221.0</td>\n",
       "      <td>221.0</td>\n",
       "      <td>221.0</td>\n",
       "      <td>221.0</td>\n",
       "      <td>221.0</td>\n",
       "    </tr>\n",
       "    <tr>\n",
       "      <th>total beds</th>\n",
       "      <td>57018.0</td>\n",
       "      <td>57018.0</td>\n",
       "      <td>57018.0</td>\n",
       "      <td>57018.0</td>\n",
       "      <td>57018.0</td>\n",
       "      <td>57018.0</td>\n",
       "      <td>57018.0</td>\n",
       "      <td>57018.0</td>\n",
       "      <td>57018.0</td>\n",
       "      <td>57018.0</td>\n",
       "    </tr>\n",
       "    <tr>\n",
       "      <th>total discharges</th>\n",
       "      <td>2487846.0</td>\n",
       "      <td>2487846.0</td>\n",
       "      <td>2487846.0</td>\n",
       "      <td>2487846.0</td>\n",
       "      <td>2487846.0</td>\n",
       "      <td>2487846.0</td>\n",
       "      <td>2487846.0</td>\n",
       "      <td>2487846.0</td>\n",
       "      <td>2487846.0</td>\n",
       "      <td>2487846.0</td>\n",
       "    </tr>\n",
       "    <tr>\n",
       "      <th>hospitals_per_100kcapita</th>\n",
       "      <td>1.028972</td>\n",
       "      <td>1.028972</td>\n",
       "      <td>1.028972</td>\n",
       "      <td>1.028972</td>\n",
       "      <td>1.028972</td>\n",
       "      <td>1.028972</td>\n",
       "      <td>1.028972</td>\n",
       "      <td>1.028972</td>\n",
       "      <td>1.028972</td>\n",
       "      <td>1.028972</td>\n",
       "    </tr>\n",
       "    <tr>\n",
       "      <th>beds_per_100kcapita</th>\n",
       "      <td>265.474896</td>\n",
       "      <td>265.474896</td>\n",
       "      <td>265.474896</td>\n",
       "      <td>265.474896</td>\n",
       "      <td>265.474896</td>\n",
       "      <td>265.474896</td>\n",
       "      <td>265.474896</td>\n",
       "      <td>265.474896</td>\n",
       "      <td>265.474896</td>\n",
       "      <td>265.474896</td>\n",
       "    </tr>\n",
       "    <tr>\n",
       "      <th>discharges_per_100kcapita</th>\n",
       "      <td>11583.37119</td>\n",
       "      <td>11583.37119</td>\n",
       "      <td>11583.37119</td>\n",
       "      <td>11583.37119</td>\n",
       "      <td>11583.37119</td>\n",
       "      <td>11583.37119</td>\n",
       "      <td>11583.37119</td>\n",
       "      <td>11583.37119</td>\n",
       "      <td>11583.37119</td>\n",
       "      <td>11583.37119</td>\n",
       "    </tr>\n",
       "    <tr>\n",
       "      <th>hospital_ratio</th>\n",
       "      <td>0.004525</td>\n",
       "      <td>0.004525</td>\n",
       "      <td>0.004525</td>\n",
       "      <td>0.004525</td>\n",
       "      <td>0.004525</td>\n",
       "      <td>0.004525</td>\n",
       "      <td>0.004525</td>\n",
       "      <td>0.004525</td>\n",
       "      <td>0.004525</td>\n",
       "      <td>0.004525</td>\n",
       "    </tr>\n",
       "    <tr>\n",
       "      <th>bed_ratio</th>\n",
       "      <td>0.006489</td>\n",
       "      <td>0.007647</td>\n",
       "      <td>0.016732</td>\n",
       "      <td>0.047967</td>\n",
       "      <td>0.012365</td>\n",
       "      <td>0.009348</td>\n",
       "      <td>0.004086</td>\n",
       "      <td>0.001912</td>\n",
       "      <td>0.007647</td>\n",
       "      <td>0.014995</td>\n",
       "    </tr>\n",
       "    <tr>\n",
       "      <th>discharge_ratio</th>\n",
       "      <td>0.037681</td>\n",
       "      <td>0.055354</td>\n",
       "      <td>0.141624</td>\n",
       "      <td>0.281026</td>\n",
       "      <td>0.081165</td>\n",
       "      <td>0.049473</td>\n",
       "      <td>0.023925</td>\n",
       "      <td>0.009348</td>\n",
       "      <td>0.031724</td>\n",
       "      <td>0.140772</td>\n",
       "    </tr>\n",
       "    <tr>\n",
       "      <th>Rural Versus Urban_U</th>\n",
       "      <td>1</td>\n",
       "      <td>1</td>\n",
       "      <td>1</td>\n",
       "      <td>1</td>\n",
       "      <td>1</td>\n",
       "      <td>0</td>\n",
       "      <td>1</td>\n",
       "      <td>1</td>\n",
       "      <td>1</td>\n",
       "      <td>1</td>\n",
       "    </tr>\n",
       "  </tbody>\n",
       "</table>\n",
       "</div>"
      ],
      "text/plain": [
       "                                                               4   \\\n",
       "ccn                                                        100168   \n",
       "State Code                                                     FL   \n",
       "PSI_03                                                   2.915921   \n",
       "PSI_06                                                   0.197895   \n",
       "PSI_08                                                   0.062805   \n",
       "PSI_09                                                   3.227263   \n",
       "PSI_10                                                   3.064857   \n",
       "PSI_11                                                  10.679905   \n",
       "PSI_12                                                    5.43422   \n",
       "PSI_13                                                    5.74758   \n",
       "PSI_14                                                   0.801355   \n",
       "PSI_15                                                   1.438312   \n",
       "PSI_90                                                   1.893632   \n",
       "HAI_1_SIR                                                   0.834   \n",
       "HAI_2_SIR                                                   0.855   \n",
       "HAI_3_SIR                                                   0.764   \n",
       "HAI_5_SIR                                                   0.585   \n",
       "HAI_6_SIR                                                    0.44   \n",
       "Number of Interns and Residents (FTE)                       69.78   \n",
       "Number of Beds                                              370.0   \n",
       "Total Discharges (V + XVIII + XIX + Unknown)         17098.846154   \n",
       "Total Days (V + XVIII + XIX + Unknown) + Total ...   93744.835165   \n",
       "Hospital Total Days (V + XVIII + XIX + Unknown)...    69105.32967   \n",
       "Hospital Total Bed Days Available For Adults &a...  117714.505495   \n",
       "Hospital Total Discharges (V + XVIII + XIX + Un...   17098.846154   \n",
       "negotiated_rates_median                                  1205.165   \n",
       "state population                                         21477737   \n",
       "median salary                                               59227   \n",
       "total hospitals                                             221.0   \n",
       "total beds                                                57018.0   \n",
       "total discharges                                        2487846.0   \n",
       "hospitals_per_100kcapita                                 1.028972   \n",
       "beds_per_100kcapita                                    265.474896   \n",
       "discharges_per_100kcapita                             11583.37119   \n",
       "hospital_ratio                                           0.004525   \n",
       "bed_ratio                                                0.006489   \n",
       "discharge_ratio                                          0.037681   \n",
       "Rural Versus Urban_U                                            1   \n",
       "\n",
       "                                                               41  \\\n",
       "ccn                                                        100017   \n",
       "State Code                                                     FL   \n",
       "PSI_03                                                   3.963068   \n",
       "PSI_06                                                    0.29655   \n",
       "PSI_08                                                   0.102285   \n",
       "PSI_09                                                   2.070166   \n",
       "PSI_10                                                   0.697059   \n",
       "PSI_11                                                   3.956092   \n",
       "PSI_12                                                   2.940722   \n",
       "PSI_13                                                   4.029735   \n",
       "PSI_14                                                   0.660227   \n",
       "PSI_15                                                   1.012573   \n",
       "PSI_90                                                   1.517203   \n",
       "HAI_1_SIR                                                   0.757   \n",
       "HAI_2_SIR                                                   0.824   \n",
       "HAI_3_SIR                                                   0.759   \n",
       "HAI_5_SIR                                                   1.102   \n",
       "HAI_6_SIR                                                   0.539   \n",
       "Number of Interns and Residents (FTE)                        24.1   \n",
       "Number of Beds                                              436.0   \n",
       "Total Discharges (V + XVIII + XIX + Unknown)          20958.42033   \n",
       "Total Days (V + XVIII + XIX + Unknown) + Total ...  137713.296703   \n",
       "Hospital Total Days (V + XVIII + XIX + Unknown)...   77306.799451   \n",
       "Hospital Total Bed Days Available For Adults &a...  113460.851648   \n",
       "Hospital Total Discharges (V + XVIII + XIX + Un...    20958.42033   \n",
       "negotiated_rates_median                                    987.92   \n",
       "state population                                         21477737   \n",
       "median salary                                               59227   \n",
       "total hospitals                                             221.0   \n",
       "total beds                                                57018.0   \n",
       "total discharges                                        2487846.0   \n",
       "hospitals_per_100kcapita                                 1.028972   \n",
       "beds_per_100kcapita                                    265.474896   \n",
       "discharges_per_100kcapita                             11583.37119   \n",
       "hospital_ratio                                           0.004525   \n",
       "bed_ratio                                                0.007647   \n",
       "discharge_ratio                                          0.055354   \n",
       "Rural Versus Urban_U                                            1   \n",
       "\n",
       "                                                             55  \\\n",
       "ccn                                                      100113   \n",
       "State Code                                                   FL   \n",
       "PSI_03                                                 0.152801   \n",
       "PSI_06                                                 0.196235   \n",
       "PSI_08                                                 0.051783   \n",
       "PSI_09                                                 2.868181   \n",
       "PSI_10                                                 1.497456   \n",
       "PSI_11                                                 4.306264   \n",
       "PSI_12                                                  4.79363   \n",
       "PSI_13                                                  6.27489   \n",
       "PSI_14                                                 1.100019   \n",
       "PSI_15                                                 1.894156   \n",
       "PSI_90                                                 0.978448   \n",
       "HAI_1_SIR                                                 1.235   \n",
       "HAI_2_SIR                                                  0.39   \n",
       "HAI_3_SIR                                                 1.319   \n",
       "HAI_5_SIR                                                 1.285   \n",
       "HAI_6_SIR                                                 0.743   \n",
       "Number of Interns and Residents (FTE)                    678.11   \n",
       "Number of Beds                                            954.0   \n",
       "Total Discharges (V + XVIII + XIX + Unknown)            45477.0   \n",
       "Total Days (V + XVIII + XIX + Unknown) + Total ...     352339.0   \n",
       "Hospital Total Days (V + XVIII + XIX + Unknown)...     148687.0   \n",
       "Hospital Total Bed Days Available For Adults &a...     195085.0   \n",
       "Hospital Total Discharges (V + XVIII + XIX + Un...      45477.0   \n",
       "negotiated_rates_median                                 1167.38   \n",
       "state population                                       21477737   \n",
       "median salary                                             59227   \n",
       "total hospitals                                           221.0   \n",
       "total beds                                              57018.0   \n",
       "total discharges                                      2487846.0   \n",
       "hospitals_per_100kcapita                               1.028972   \n",
       "beds_per_100kcapita                                  265.474896   \n",
       "discharges_per_100kcapita                           11583.37119   \n",
       "hospital_ratio                                         0.004525   \n",
       "bed_ratio                                              0.016732   \n",
       "discharge_ratio                                        0.141624   \n",
       "Rural Versus Urban_U                                          1   \n",
       "\n",
       "                                                               56  \\\n",
       "ccn                                                        100007   \n",
       "State Code                                                     FL   \n",
       "PSI_03                                                   0.451683   \n",
       "PSI_06                                                    0.15857   \n",
       "PSI_08                                                   0.141355   \n",
       "PSI_09                                                   2.069424   \n",
       "PSI_10                                                   0.309488   \n",
       "PSI_11                                                   6.004977   \n",
       "PSI_12                                                   3.707826   \n",
       "PSI_13                                                   5.758861   \n",
       "PSI_14                                                   1.062027   \n",
       "PSI_15                                                   0.792794   \n",
       "PSI_90                                                   0.905716   \n",
       "HAI_1_SIR                                                    1.24   \n",
       "HAI_2_SIR                                                   0.827   \n",
       "HAI_3_SIR                                                    0.81   \n",
       "HAI_5_SIR                                                   0.863   \n",
       "HAI_6_SIR                                                   0.295   \n",
       "Number of Interns and Residents (FTE)                      166.05   \n",
       "Number of Beds                                             2735.0   \n",
       "Total Discharges (V + XVIII + XIX + Unknown)        131197.445055   \n",
       "Total Days (V + XVIII + XIX + Unknown) + Total ...  699149.478022   \n",
       "Hospital Total Days (V + XVIII + XIX + Unknown)...  538474.271978   \n",
       "Hospital Total Bed Days Available For Adults &a...  821676.167582   \n",
       "Hospital Total Discharges (V + XVIII + XIX + Un...  131197.445055   \n",
       "negotiated_rates_median                                   1104.52   \n",
       "state population                                         21477737   \n",
       "median salary                                               59227   \n",
       "total hospitals                                             221.0   \n",
       "total beds                                                57018.0   \n",
       "total discharges                                        2487846.0   \n",
       "hospitals_per_100kcapita                                 1.028972   \n",
       "beds_per_100kcapita                                    265.474896   \n",
       "discharges_per_100kcapita                             11583.37119   \n",
       "hospital_ratio                                           0.004525   \n",
       "bed_ratio                                                0.047967   \n",
       "discharge_ratio                                          0.281026   \n",
       "Rural Versus Urban_U                                            1   \n",
       "\n",
       "                                                               57  \\\n",
       "ccn                                                        100008   \n",
       "State Code                                                     FL   \n",
       "PSI_03                                                   1.088026   \n",
       "PSI_06                                                    0.14698   \n",
       "PSI_08                                                   0.039195   \n",
       "PSI_09                                                   2.648538   \n",
       "PSI_10                                                   1.251359   \n",
       "PSI_11                                                  21.444327   \n",
       "PSI_12                                                   5.046361   \n",
       "PSI_13                                                   5.108392   \n",
       "PSI_14                                                   0.632644   \n",
       "PSI_15                                                   1.694465   \n",
       "PSI_90                                                   1.622881   \n",
       "HAI_1_SIR                                                   0.804   \n",
       "HAI_2_SIR                                                   0.551   \n",
       "HAI_3_SIR                                                   1.156   \n",
       "HAI_5_SIR                                                   1.492   \n",
       "HAI_6_SIR                                                   0.258   \n",
       "Number of Interns and Residents (FTE)                         0.0   \n",
       "Number of Beds                                              705.0   \n",
       "Total Discharges (V + XVIII + XIX + Unknown)         30691.085165   \n",
       "Total Days (V + XVIII + XIX + Unknown) + Total ...  201927.225275   \n",
       "Hospital Total Days (V + XVIII + XIX + Unknown)...  168759.354396   \n",
       "Hospital Total Bed Days Available For Adults &a...  230215.728022   \n",
       "Hospital Total Discharges (V + XVIII + XIX + Un...   30691.085165   \n",
       "negotiated_rates_median                                   1283.38   \n",
       "state population                                         21477737   \n",
       "median salary                                               59227   \n",
       "total hospitals                                             221.0   \n",
       "total beds                                                57018.0   \n",
       "total discharges                                        2487846.0   \n",
       "hospitals_per_100kcapita                                 1.028972   \n",
       "beds_per_100kcapita                                    265.474896   \n",
       "discharges_per_100kcapita                             11583.37119   \n",
       "hospital_ratio                                           0.004525   \n",
       "bed_ratio                                                0.012365   \n",
       "discharge_ratio                                          0.081165   \n",
       "Rural Versus Urban_U                                            1   \n",
       "\n",
       "                                                             58            59  \\\n",
       "ccn                                                      100025        100275   \n",
       "State Code                                                   FL            FL   \n",
       "PSI_03                                                  0.56465      1.014029   \n",
       "PSI_06                                                 0.162348      0.164185   \n",
       "PSI_08                                                 0.035636      0.052801   \n",
       "PSI_09                                                 1.609382      2.264156   \n",
       "PSI_10                                                 0.521601      1.220638   \n",
       "PSI_11                                                 1.316736      6.008137   \n",
       "PSI_12                                                 2.668187      3.857384   \n",
       "PSI_13                                                 2.616165      4.752644   \n",
       "PSI_14                                                 0.825346      0.745631   \n",
       "PSI_15                                                 0.831219      1.217856   \n",
       "PSI_90                                                  0.61518      1.113127   \n",
       "HAI_1_SIR                                                 0.875         2.887   \n",
       "HAI_2_SIR                                                 0.346         0.374   \n",
       "HAI_3_SIR                                                 0.493         0.842   \n",
       "HAI_5_SIR                                                 1.988         1.406   \n",
       "HAI_6_SIR                                                  0.56         0.456   \n",
       "Number of Interns and Residents (FTE)                     54.68         17.73   \n",
       "Number of Beds                                            533.0         233.0   \n",
       "Total Discharges (V + XVIII + XIX + Unknown)            23777.0  14938.928571   \n",
       "Total Days (V + XVIII + XIX + Unknown) + Total ...     123082.0  59521.071429   \n",
       "Hospital Total Days (V + XVIII + XIX + Unknown)...      79483.0  46595.659341   \n",
       "Hospital Total Bed Days Available For Adults &a...     143490.0  69500.412088   \n",
       "Hospital Total Discharges (V + XVIII + XIX + Un...      23777.0  14938.928571   \n",
       "negotiated_rates_median                                 1427.87       1117.18   \n",
       "state population                                       21477737      21477737   \n",
       "median salary                                             59227         59227   \n",
       "total hospitals                                           221.0         221.0   \n",
       "total beds                                              57018.0       57018.0   \n",
       "total discharges                                      2487846.0     2487846.0   \n",
       "hospitals_per_100kcapita                               1.028972      1.028972   \n",
       "beds_per_100kcapita                                  265.474896    265.474896   \n",
       "discharges_per_100kcapita                           11583.37119   11583.37119   \n",
       "hospital_ratio                                         0.004525      0.004525   \n",
       "bed_ratio                                              0.009348      0.004086   \n",
       "discharge_ratio                                        0.049473      0.023925   \n",
       "Rural Versus Urban_U                                          0             1   \n",
       "\n",
       "                                                              60  \\\n",
       "ccn                                                       100014   \n",
       "State Code                                                    FL   \n",
       "PSI_03                                                  0.102825   \n",
       "PSI_06                                                  0.170671   \n",
       "PSI_08                                                  0.060561   \n",
       "PSI_09                                                   2.44553   \n",
       "PSI_10                                                  0.905268   \n",
       "PSI_11                                                  5.029652   \n",
       "PSI_12                                                  3.597614   \n",
       "PSI_13                                                  4.641143   \n",
       "PSI_14                                                  0.761019   \n",
       "PSI_15                                                   1.31207   \n",
       "PSI_90                                                  0.947674   \n",
       "HAI_1_SIR                                                  2.318   \n",
       "HAI_2_SIR                                                  1.199   \n",
       "HAI_3_SIR                                                    0.0   \n",
       "HAI_5_SIR                                                  0.664   \n",
       "HAI_6_SIR                                                  0.179   \n",
       "Number of Interns and Residents (FTE)                        0.0   \n",
       "Number of Beds                                             109.0   \n",
       "Total Discharges (V + XVIII + XIX + Unknown)         5483.021978   \n",
       "Total Days (V + XVIII + XIX + Unknown) + Total ...  23256.717033   \n",
       "Hospital Total Days (V + XVIII + XIX + Unknown)...  20198.337912   \n",
       "Hospital Total Bed Days Available For Adults &a...  34770.260989   \n",
       "Hospital Total Discharges (V + XVIII + XIX + Un...   5483.021978   \n",
       "negotiated_rates_median                                 1031.515   \n",
       "state population                                        21477737   \n",
       "median salary                                              59227   \n",
       "total hospitals                                            221.0   \n",
       "total beds                                               57018.0   \n",
       "total discharges                                       2487846.0   \n",
       "hospitals_per_100kcapita                                1.028972   \n",
       "beds_per_100kcapita                                   265.474896   \n",
       "discharges_per_100kcapita                            11583.37119   \n",
       "hospital_ratio                                          0.004525   \n",
       "bed_ratio                                               0.001912   \n",
       "discharge_ratio                                         0.009348   \n",
       "Rural Versus Urban_U                                           1   \n",
       "\n",
       "                                                               61  \\\n",
       "ccn                                                        100154   \n",
       "State Code                                                     FL   \n",
       "PSI_03                                                   2.909586   \n",
       "PSI_06                                                    0.19117   \n",
       "PSI_08                                                   0.053377   \n",
       "PSI_09                                                   2.154023   \n",
       "PSI_10                                                   0.770713   \n",
       "PSI_11                                                   7.361188   \n",
       "PSI_12                                                   4.063738   \n",
       "PSI_13                                                   4.318098   \n",
       "PSI_14                                                   0.726562   \n",
       "PSI_15                                                   2.243278   \n",
       "PSI_90                                                   1.430453   \n",
       "HAI_1_SIR                                                   0.366   \n",
       "HAI_2_SIR                                                     0.0   \n",
       "HAI_3_SIR                                                   0.753   \n",
       "HAI_5_SIR                                                   0.985   \n",
       "HAI_6_SIR                                                   0.347   \n",
       "Number of Interns and Residents (FTE)                         0.0   \n",
       "Number of Beds                                              436.0   \n",
       "Total Discharges (V + XVIII + XIX + Unknown)         13973.282967   \n",
       "Total Days (V + XVIII + XIX + Unknown) + Total ...   78925.233516   \n",
       "Hospital Total Days (V + XVIII + XIX + Unknown)...   50777.115385   \n",
       "Hospital Total Bed Days Available For Adults &a...  126636.950549   \n",
       "Hospital Total Discharges (V + XVIII + XIX + Un...   13973.282967   \n",
       "negotiated_rates_median                                   1832.81   \n",
       "state population                                         21477737   \n",
       "median salary                                               59227   \n",
       "total hospitals                                             221.0   \n",
       "total beds                                                57018.0   \n",
       "total discharges                                        2487846.0   \n",
       "hospitals_per_100kcapita                                 1.028972   \n",
       "beds_per_100kcapita                                    265.474896   \n",
       "discharges_per_100kcapita                             11583.37119   \n",
       "hospital_ratio                                           0.004525   \n",
       "bed_ratio                                                0.007647   \n",
       "discharge_ratio                                          0.031724   \n",
       "Rural Versus Urban_U                                            1   \n",
       "\n",
       "                                                               62  \n",
       "ccn                                                        100088  \n",
       "State Code                                                     FL  \n",
       "PSI_03                                                   0.309567  \n",
       "PSI_06                                                     0.1719  \n",
       "PSI_08                                                   0.051546  \n",
       "PSI_09                                                   2.055427  \n",
       "PSI_10                                                   0.872126  \n",
       "PSI_11                                                  10.026066  \n",
       "PSI_12                                                    4.33491  \n",
       "PSI_13                                                   4.963131  \n",
       "PSI_14                                                   0.556403  \n",
       "PSI_15                                                   0.551554  \n",
       "PSI_90                                                   1.019178  \n",
       "HAI_1_SIR                                                    0.74  \n",
       "HAI_2_SIR                                                    1.08  \n",
       "HAI_3_SIR                                                   0.596  \n",
       "HAI_5_SIR                                                   1.269  \n",
       "HAI_6_SIR                                                   0.295  \n",
       "Number of Interns and Residents (FTE)                       54.71  \n",
       "Number of Beds                                              855.0  \n",
       "Total Discharges (V + XVIII + XIX + Unknown)         47759.848901  \n",
       "Total Days (V + XVIII + XIX + Unknown) + Total ...  350219.505495  \n",
       "Hospital Total Days (V + XVIII + XIX + Unknown)...  172721.208791  \n",
       "Hospital Total Bed Days Available For Adults &a...  243391.826923  \n",
       "Hospital Total Discharges (V + XVIII + XIX + Un...   47759.848901  \n",
       "negotiated_rates_median                                  2190.475  \n",
       "state population                                         21477737  \n",
       "median salary                                               59227  \n",
       "total hospitals                                             221.0  \n",
       "total beds                                                57018.0  \n",
       "total discharges                                        2487846.0  \n",
       "hospitals_per_100kcapita                                 1.028972  \n",
       "beds_per_100kcapita                                    265.474896  \n",
       "discharges_per_100kcapita                             11583.37119  \n",
       "hospital_ratio                                           0.004525  \n",
       "bed_ratio                                                0.014995  \n",
       "discharge_ratio                                          0.140772  \n",
       "Rural Versus Urban_U                                            1  "
      ]
     },
     "execution_count": 169,
     "metadata": {},
     "output_type": "execute_result"
    }
   ],
   "source": [
    "data[data['State Code']=='FL'].head(10).T"
   ]
  },
  {
   "attachments": {},
   "cell_type": "markdown",
   "metadata": {},
   "source": [
    "Hospital CCN 10025 looks like a good hospital to pick, it seems to be in the middle of the pack for most features."
   ]
  },
  {
   "cell_type": "code",
   "execution_count": 170,
   "metadata": {},
   "outputs": [],
   "source": [
    "ccn_num = 100025\n",
    "florida_hospital = data[data['ccn']== ccn_num]"
   ]
  },
  {
   "cell_type": "code",
   "execution_count": 171,
   "metadata": {
    "scrolled": true
   },
   "outputs": [
    {
     "data": {
      "text/html": [
       "<div>\n",
       "<style scoped>\n",
       "    .dataframe tbody tr th:only-of-type {\n",
       "        vertical-align: middle;\n",
       "    }\n",
       "\n",
       "    .dataframe tbody tr th {\n",
       "        vertical-align: top;\n",
       "    }\n",
       "\n",
       "    .dataframe thead th {\n",
       "        text-align: right;\n",
       "    }\n",
       "</style>\n",
       "<table border=\"1\" class=\"dataframe\">\n",
       "  <thead>\n",
       "    <tr style=\"text-align: right;\">\n",
       "      <th></th>\n",
       "      <th>58</th>\n",
       "    </tr>\n",
       "  </thead>\n",
       "  <tbody>\n",
       "    <tr>\n",
       "      <th>ccn</th>\n",
       "      <td>100025</td>\n",
       "    </tr>\n",
       "    <tr>\n",
       "      <th>State Code</th>\n",
       "      <td>FL</td>\n",
       "    </tr>\n",
       "    <tr>\n",
       "      <th>PSI_03</th>\n",
       "      <td>0.56465</td>\n",
       "    </tr>\n",
       "    <tr>\n",
       "      <th>PSI_06</th>\n",
       "      <td>0.162348</td>\n",
       "    </tr>\n",
       "    <tr>\n",
       "      <th>PSI_08</th>\n",
       "      <td>0.035636</td>\n",
       "    </tr>\n",
       "    <tr>\n",
       "      <th>PSI_09</th>\n",
       "      <td>1.609382</td>\n",
       "    </tr>\n",
       "    <tr>\n",
       "      <th>PSI_10</th>\n",
       "      <td>0.521601</td>\n",
       "    </tr>\n",
       "    <tr>\n",
       "      <th>PSI_11</th>\n",
       "      <td>1.316736</td>\n",
       "    </tr>\n",
       "    <tr>\n",
       "      <th>PSI_12</th>\n",
       "      <td>2.668187</td>\n",
       "    </tr>\n",
       "    <tr>\n",
       "      <th>PSI_13</th>\n",
       "      <td>2.616165</td>\n",
       "    </tr>\n",
       "    <tr>\n",
       "      <th>PSI_14</th>\n",
       "      <td>0.825346</td>\n",
       "    </tr>\n",
       "    <tr>\n",
       "      <th>PSI_15</th>\n",
       "      <td>0.831219</td>\n",
       "    </tr>\n",
       "    <tr>\n",
       "      <th>PSI_90</th>\n",
       "      <td>0.61518</td>\n",
       "    </tr>\n",
       "    <tr>\n",
       "      <th>HAI_1_SIR</th>\n",
       "      <td>0.875</td>\n",
       "    </tr>\n",
       "    <tr>\n",
       "      <th>HAI_2_SIR</th>\n",
       "      <td>0.346</td>\n",
       "    </tr>\n",
       "    <tr>\n",
       "      <th>HAI_3_SIR</th>\n",
       "      <td>0.493</td>\n",
       "    </tr>\n",
       "    <tr>\n",
       "      <th>HAI_5_SIR</th>\n",
       "      <td>1.988</td>\n",
       "    </tr>\n",
       "    <tr>\n",
       "      <th>HAI_6_SIR</th>\n",
       "      <td>0.56</td>\n",
       "    </tr>\n",
       "    <tr>\n",
       "      <th>Number of Interns and Residents (FTE)</th>\n",
       "      <td>54.68</td>\n",
       "    </tr>\n",
       "    <tr>\n",
       "      <th>Number of Beds</th>\n",
       "      <td>533.0</td>\n",
       "    </tr>\n",
       "    <tr>\n",
       "      <th>Total Discharges (V + XVIII + XIX + Unknown)</th>\n",
       "      <td>23777.0</td>\n",
       "    </tr>\n",
       "    <tr>\n",
       "      <th>Total Days (V + XVIII + XIX + Unknown) + Total for all Subproviders</th>\n",
       "      <td>123082.0</td>\n",
       "    </tr>\n",
       "    <tr>\n",
       "      <th>Hospital Total Days (V + XVIII + XIX + Unknown) For Adults &amp;amp; Peds</th>\n",
       "      <td>79483.0</td>\n",
       "    </tr>\n",
       "    <tr>\n",
       "      <th>Hospital Total Bed Days Available For Adults &amp;amp; Peds</th>\n",
       "      <td>143490.0</td>\n",
       "    </tr>\n",
       "    <tr>\n",
       "      <th>Hospital Total Discharges (V + XVIII + XIX + Unknown) For Adults &amp;amp; Peds</th>\n",
       "      <td>23777.0</td>\n",
       "    </tr>\n",
       "    <tr>\n",
       "      <th>negotiated_rates_median</th>\n",
       "      <td>1427.87</td>\n",
       "    </tr>\n",
       "    <tr>\n",
       "      <th>state population</th>\n",
       "      <td>21477737</td>\n",
       "    </tr>\n",
       "    <tr>\n",
       "      <th>median salary</th>\n",
       "      <td>59227</td>\n",
       "    </tr>\n",
       "    <tr>\n",
       "      <th>total hospitals</th>\n",
       "      <td>221.0</td>\n",
       "    </tr>\n",
       "    <tr>\n",
       "      <th>total beds</th>\n",
       "      <td>57018.0</td>\n",
       "    </tr>\n",
       "    <tr>\n",
       "      <th>total discharges</th>\n",
       "      <td>2487846.0</td>\n",
       "    </tr>\n",
       "    <tr>\n",
       "      <th>hospitals_per_100kcapita</th>\n",
       "      <td>1.028972</td>\n",
       "    </tr>\n",
       "    <tr>\n",
       "      <th>beds_per_100kcapita</th>\n",
       "      <td>265.474896</td>\n",
       "    </tr>\n",
       "    <tr>\n",
       "      <th>discharges_per_100kcapita</th>\n",
       "      <td>11583.37119</td>\n",
       "    </tr>\n",
       "    <tr>\n",
       "      <th>hospital_ratio</th>\n",
       "      <td>0.004525</td>\n",
       "    </tr>\n",
       "    <tr>\n",
       "      <th>bed_ratio</th>\n",
       "      <td>0.009348</td>\n",
       "    </tr>\n",
       "    <tr>\n",
       "      <th>discharge_ratio</th>\n",
       "      <td>0.049473</td>\n",
       "    </tr>\n",
       "    <tr>\n",
       "      <th>Rural Versus Urban_U</th>\n",
       "      <td>0</td>\n",
       "    </tr>\n",
       "  </tbody>\n",
       "</table>\n",
       "</div>"
      ],
      "text/plain": [
       "                                                             58\n",
       "ccn                                                      100025\n",
       "State Code                                                   FL\n",
       "PSI_03                                                  0.56465\n",
       "PSI_06                                                 0.162348\n",
       "PSI_08                                                 0.035636\n",
       "PSI_09                                                 1.609382\n",
       "PSI_10                                                 0.521601\n",
       "PSI_11                                                 1.316736\n",
       "PSI_12                                                 2.668187\n",
       "PSI_13                                                 2.616165\n",
       "PSI_14                                                 0.825346\n",
       "PSI_15                                                 0.831219\n",
       "PSI_90                                                  0.61518\n",
       "HAI_1_SIR                                                 0.875\n",
       "HAI_2_SIR                                                 0.346\n",
       "HAI_3_SIR                                                 0.493\n",
       "HAI_5_SIR                                                 1.988\n",
       "HAI_6_SIR                                                  0.56\n",
       "Number of Interns and Residents (FTE)                     54.68\n",
       "Number of Beds                                            533.0\n",
       "Total Discharges (V + XVIII + XIX + Unknown)            23777.0\n",
       "Total Days (V + XVIII + XIX + Unknown) + Total ...     123082.0\n",
       "Hospital Total Days (V + XVIII + XIX + Unknown)...      79483.0\n",
       "Hospital Total Bed Days Available For Adults &a...     143490.0\n",
       "Hospital Total Discharges (V + XVIII + XIX + Un...      23777.0\n",
       "negotiated_rates_median                                 1427.87\n",
       "state population                                       21477737\n",
       "median salary                                             59227\n",
       "total hospitals                                           221.0\n",
       "total beds                                              57018.0\n",
       "total discharges                                      2487846.0\n",
       "hospitals_per_100kcapita                               1.028972\n",
       "beds_per_100kcapita                                  265.474896\n",
       "discharges_per_100kcapita                           11583.37119\n",
       "hospital_ratio                                         0.004525\n",
       "bed_ratio                                              0.009348\n",
       "discharge_ratio                                        0.049473\n",
       "Rural Versus Urban_U                                          0"
      ]
     },
     "execution_count": 171,
     "metadata": {},
     "output_type": "execute_result"
    }
   ],
   "source": [
    "florida_hospital.T"
   ]
  },
  {
   "attachments": {},
   "cell_type": "markdown",
   "metadata": {},
   "source": [
    "## 7.6 Refit Model On All Available Data (excluding Florida Hospital)<a id='7.6_Refit_Model_On_All_Available_Data_(excluding_Florida_Hospital)'></a>"
   ]
  },
  {
   "cell_type": "code",
   "execution_count": 172,
   "metadata": {},
   "outputs": [
    {
     "data": {
      "text/plain": [
       "['PSI_03',\n",
       " 'PSI_06',\n",
       " 'PSI_08',\n",
       " 'PSI_09',\n",
       " 'PSI_10',\n",
       " 'PSI_11',\n",
       " 'PSI_12',\n",
       " 'PSI_13',\n",
       " 'PSI_14',\n",
       " 'PSI_15',\n",
       " 'PSI_90',\n",
       " 'HAI_1_SIR',\n",
       " 'HAI_2_SIR',\n",
       " 'HAI_3_SIR',\n",
       " 'HAI_5_SIR',\n",
       " 'HAI_6_SIR',\n",
       " 'Number of Interns and Residents (FTE)',\n",
       " 'Number of Beds',\n",
       " 'Total Discharges (V + XVIII + XIX + Unknown)',\n",
       " 'Total Days (V + XVIII + XIX + Unknown) + Total for all Subproviders',\n",
       " 'Hospital Total Days (V + XVIII + XIX + Unknown) For Adults &amp; Peds',\n",
       " 'Hospital Total Bed Days Available For Adults &amp; Peds',\n",
       " 'Hospital Total Discharges (V + XVIII + XIX + Unknown) For Adults &amp; Peds',\n",
       " 'state population',\n",
       " 'median salary',\n",
       " 'total hospitals',\n",
       " 'total beds',\n",
       " 'total discharges',\n",
       " 'hospitals_per_100kcapita',\n",
       " 'beds_per_100kcapita',\n",
       " 'discharges_per_100kcapita',\n",
       " 'hospital_ratio',\n",
       " 'bed_ratio',\n",
       " 'discharge_ratio',\n",
       " 'Rural Versus Urban_U']"
      ]
     },
     "execution_count": 172,
     "metadata": {},
     "output_type": "execute_result"
    }
   ],
   "source": [
    "model.X_columns"
   ]
  },
  {
   "attachments": {},
   "cell_type": "markdown",
   "metadata": {},
   "source": [
    "This next step requires some careful thought. We want to refit the model using all available data. We are going to exclude one Florida Hospital for our analysis, taking on the hospital as if it is our own. Let us ignore that hospital and recreate our model. "
   ]
  },
  {
   "cell_type": "code",
   "execution_count": 173,
   "metadata": {},
   "outputs": [],
   "source": [
    "X = data.loc[data['ccn'] != ccn_num, model.X_columns]\n",
    "y = data.loc[data['ccn'] != ccn_num, 'negotiated_rates_median']"
   ]
  },
  {
   "cell_type": "code",
   "execution_count": 174,
   "metadata": {},
   "outputs": [
    {
     "data": {
      "text/html": [
       "<style>#sk-container-id-6 {color: black;background-color: white;}#sk-container-id-6 pre{padding: 0;}#sk-container-id-6 div.sk-toggleable {background-color: white;}#sk-container-id-6 label.sk-toggleable__label {cursor: pointer;display: block;width: 100%;margin-bottom: 0;padding: 0.3em;box-sizing: border-box;text-align: center;}#sk-container-id-6 label.sk-toggleable__label-arrow:before {content: \"▸\";float: left;margin-right: 0.25em;color: #696969;}#sk-container-id-6 label.sk-toggleable__label-arrow:hover:before {color: black;}#sk-container-id-6 div.sk-estimator:hover label.sk-toggleable__label-arrow:before {color: black;}#sk-container-id-6 div.sk-toggleable__content {max-height: 0;max-width: 0;overflow: hidden;text-align: left;background-color: #f0f8ff;}#sk-container-id-6 div.sk-toggleable__content pre {margin: 0.2em;color: black;border-radius: 0.25em;background-color: #f0f8ff;}#sk-container-id-6 input.sk-toggleable__control:checked~div.sk-toggleable__content {max-height: 200px;max-width: 100%;overflow: auto;}#sk-container-id-6 input.sk-toggleable__control:checked~label.sk-toggleable__label-arrow:before {content: \"▾\";}#sk-container-id-6 div.sk-estimator input.sk-toggleable__control:checked~label.sk-toggleable__label {background-color: #d4ebff;}#sk-container-id-6 div.sk-label input.sk-toggleable__control:checked~label.sk-toggleable__label {background-color: #d4ebff;}#sk-container-id-6 input.sk-hidden--visually {border: 0;clip: rect(1px 1px 1px 1px);clip: rect(1px, 1px, 1px, 1px);height: 1px;margin: -1px;overflow: hidden;padding: 0;position: absolute;width: 1px;}#sk-container-id-6 div.sk-estimator {font-family: monospace;background-color: #f0f8ff;border: 1px dotted black;border-radius: 0.25em;box-sizing: border-box;margin-bottom: 0.5em;}#sk-container-id-6 div.sk-estimator:hover {background-color: #d4ebff;}#sk-container-id-6 div.sk-parallel-item::after {content: \"\";width: 100%;border-bottom: 1px solid gray;flex-grow: 1;}#sk-container-id-6 div.sk-label:hover label.sk-toggleable__label {background-color: #d4ebff;}#sk-container-id-6 div.sk-serial::before {content: \"\";position: absolute;border-left: 1px solid gray;box-sizing: border-box;top: 0;bottom: 0;left: 50%;z-index: 0;}#sk-container-id-6 div.sk-serial {display: flex;flex-direction: column;align-items: center;background-color: white;padding-right: 0.2em;padding-left: 0.2em;position: relative;}#sk-container-id-6 div.sk-item {position: relative;z-index: 1;}#sk-container-id-6 div.sk-parallel {display: flex;align-items: stretch;justify-content: center;background-color: white;position: relative;}#sk-container-id-6 div.sk-item::before, #sk-container-id-6 div.sk-parallel-item::before {content: \"\";position: absolute;border-left: 1px solid gray;box-sizing: border-box;top: 0;bottom: 0;left: 50%;z-index: -1;}#sk-container-id-6 div.sk-parallel-item {display: flex;flex-direction: column;z-index: 1;position: relative;background-color: white;}#sk-container-id-6 div.sk-parallel-item:first-child::after {align-self: flex-end;width: 50%;}#sk-container-id-6 div.sk-parallel-item:last-child::after {align-self: flex-start;width: 50%;}#sk-container-id-6 div.sk-parallel-item:only-child::after {width: 0;}#sk-container-id-6 div.sk-dashed-wrapped {border: 1px dashed gray;margin: 0 0.4em 0.5em 0.4em;box-sizing: border-box;padding-bottom: 0.4em;background-color: white;}#sk-container-id-6 div.sk-label label {font-family: monospace;font-weight: bold;display: inline-block;line-height: 1.2em;}#sk-container-id-6 div.sk-label-container {text-align: center;}#sk-container-id-6 div.sk-container {/* jupyter's `normalize.less` sets `[hidden] { display: none; }` but bootstrap.min.css set `[hidden] { display: none !important; }` so we also need the `!important` here to be able to override the default hidden behavior on the sphinx rendered scikit-learn.org. See: https://github.com/scikit-learn/scikit-learn/issues/21755 */display: inline-block !important;position: relative;}#sk-container-id-6 div.sk-text-repr-fallback {display: none;}</style><div id=\"sk-container-id-6\" class=\"sk-top-container\"><div class=\"sk-text-repr-fallback\"><pre>Pipeline(steps=[(&#x27;standardscaler&#x27;, StandardScaler()),\n",
       "                (&#x27;randomforestregressor&#x27;,\n",
       "                 RandomForestRegressor(max_depth=90, max_features=&#x27;sqrt&#x27;,\n",
       "                                       min_samples_leaf=4, min_samples_split=10,\n",
       "                                       n_estimators=400, random_state=42))])</pre><b>In a Jupyter environment, please rerun this cell to show the HTML representation or trust the notebook. <br />On GitHub, the HTML representation is unable to render, please try loading this page with nbviewer.org.</b></div><div class=\"sk-container\" hidden><div class=\"sk-item sk-dashed-wrapped\"><div class=\"sk-label-container\"><div class=\"sk-label sk-toggleable\"><input class=\"sk-toggleable__control sk-hidden--visually\" id=\"sk-estimator-id-16\" type=\"checkbox\" ><label for=\"sk-estimator-id-16\" class=\"sk-toggleable__label sk-toggleable__label-arrow\">Pipeline</label><div class=\"sk-toggleable__content\"><pre>Pipeline(steps=[(&#x27;standardscaler&#x27;, StandardScaler()),\n",
       "                (&#x27;randomforestregressor&#x27;,\n",
       "                 RandomForestRegressor(max_depth=90, max_features=&#x27;sqrt&#x27;,\n",
       "                                       min_samples_leaf=4, min_samples_split=10,\n",
       "                                       n_estimators=400, random_state=42))])</pre></div></div></div><div class=\"sk-serial\"><div class=\"sk-item\"><div class=\"sk-estimator sk-toggleable\"><input class=\"sk-toggleable__control sk-hidden--visually\" id=\"sk-estimator-id-17\" type=\"checkbox\" ><label for=\"sk-estimator-id-17\" class=\"sk-toggleable__label sk-toggleable__label-arrow\">StandardScaler</label><div class=\"sk-toggleable__content\"><pre>StandardScaler()</pre></div></div></div><div class=\"sk-item\"><div class=\"sk-estimator sk-toggleable\"><input class=\"sk-toggleable__control sk-hidden--visually\" id=\"sk-estimator-id-18\" type=\"checkbox\" ><label for=\"sk-estimator-id-18\" class=\"sk-toggleable__label sk-toggleable__label-arrow\">RandomForestRegressor</label><div class=\"sk-toggleable__content\"><pre>RandomForestRegressor(max_depth=90, max_features=&#x27;sqrt&#x27;, min_samples_leaf=4,\n",
       "                      min_samples_split=10, n_estimators=400, random_state=42)</pre></div></div></div></div></div></div></div>"
      ],
      "text/plain": [
       "Pipeline(steps=[('standardscaler', StandardScaler()),\n",
       "                ('randomforestregressor',\n",
       "                 RandomForestRegressor(max_depth=90, max_features='sqrt',\n",
       "                                       min_samples_leaf=4, min_samples_split=10,\n",
       "                                       n_estimators=400, random_state=42))])"
      ]
     },
     "execution_count": 174,
     "metadata": {},
     "output_type": "execute_result"
    }
   ],
   "source": [
    "model.fit(X, y)"
   ]
  },
  {
   "cell_type": "code",
   "execution_count": 175,
   "metadata": {},
   "outputs": [],
   "source": [
    "cv_results = cross_validate(model, X, y, scoring='neg_mean_absolute_error', cv=5, n_jobs=-1)"
   ]
  },
  {
   "cell_type": "code",
   "execution_count": 176,
   "metadata": {},
   "outputs": [
    {
     "data": {
      "text/plain": [
       "array([-262.41638915, -284.29016771, -241.32562331, -295.43618748,\n",
       "       -253.76136154])"
      ]
     },
     "execution_count": 176,
     "metadata": {},
     "output_type": "execute_result"
    }
   ],
   "source": [
    "cv_results['test_score']"
   ]
  },
  {
   "cell_type": "code",
   "execution_count": 177,
   "metadata": {},
   "outputs": [
    {
     "data": {
      "text/plain": [
       "(267.4459458388133, 19.80917451622114)"
      ]
     },
     "execution_count": 177,
     "metadata": {},
     "output_type": "execute_result"
    }
   ],
   "source": [
    "mae_mean, mae_std = np.mean(-1 * cv_results['test_score']), np.std(-1 * cv_results['test_score'])\n",
    "mae_mean, mae_std"
   ]
  },
  {
   "attachments": {},
   "cell_type": "markdown",
   "metadata": {},
   "source": [
    "These values from the model seem to be about the same from the model we created in the prior notebook."
   ]
  },
  {
   "attachments": {},
   "cell_type": "markdown",
   "metadata": {},
   "source": [
    "## 7.7 Calculate Expected Procedure Price Using Florida Hospital From The Model<a id='7.7_Calculate_Expected_Procedure_Price_Using_Florida_Hospital_From_The_Model'></a>"
   ]
  },
  {
   "cell_type": "code",
   "execution_count": 178,
   "metadata": {},
   "outputs": [],
   "source": [
    "X_bm = data.loc[data['ccn'] == ccn_num, model.X_columns]\n",
    "y_bm = data.loc[data['ccn'] == ccn_num, 'negotiated_rates_median']"
   ]
  },
  {
   "cell_type": "code",
   "execution_count": 179,
   "metadata": {},
   "outputs": [],
   "source": [
    "bm_pred = model.predict(X_bm).item()"
   ]
  },
  {
   "cell_type": "code",
   "execution_count": 180,
   "metadata": {},
   "outputs": [],
   "source": [
    "y_bm = y_bm.values.item()"
   ]
  },
  {
   "cell_type": "code",
   "execution_count": 181,
   "metadata": {},
   "outputs": [
    {
     "name": "stdout",
     "output_type": "stream",
     "text": [
      "Florida Hospital modeled price is $1392.49, actual price is $1427.87.\n",
      "Even with the expected mean absolute error of $267.45.\n"
     ]
    }
   ],
   "source": [
    "print(f'Florida Hospital modeled price is ${bm_pred:.2f}, actual price is ${y_bm:.2f}.')\n",
    "print(f'Even with the expected mean absolute error of ${mae_mean:.2f}.')"
   ]
  },
  {
   "attachments": {},
   "cell_type": "markdown",
   "metadata": {},
   "source": [
    "The price is within or MAE, and our model predicts a slightly lower price. Let us see if we can improve our pricing from the hospital perspective."
   ]
  },
  {
   "attachments": {},
   "cell_type": "markdown",
   "metadata": {},
   "source": [
    "## 7.8 Random Florida Hospital In Insurance Market Context<a id='5.8_Random_Florida_Hospital_In_Insurance_Market_Context'></a>"
   ]
  },
  {
   "attachments": {},
   "cell_type": "markdown",
   "metadata": {},
   "source": [
    "Features that came up as important in the modeling included:\n",
    "* PSI_15\n",
    "* HAI_2_SIR\n",
    "* hospitals_per_100kcapita\n",
    "* discharges_per_100kcapita\n",
    "* bed_ratio\n",
    "* discharge_ratio\n",
    "* Number of Interns and Residents (FTE)"
   ]
  },
  {
   "attachments": {},
   "cell_type": "markdown",
   "metadata": {},
   "source": [
    "Some of these features are within the hospitals control, others are not. For example, PSI and HAI scores are easier to control and our interest for this analysis. The other metrics are more demand metrics and hospitals/discharges per 100k capita are state statistic, which hospitals have little agency to control."
   ]
  },
  {
   "cell_type": "code",
   "execution_count": 182,
   "metadata": {},
   "outputs": [],
   "source": [
    "def plot_compare(feat_name, description, state=None, figsize=(10, 5)):\n",
    "    \"\"\"Graphically compare distributions of features.\"\"\"\n",
    "    \n",
    "    plt.subplots(figsize=figsize)\n",
    "    if state is None:\n",
    "        data_x = data[feat_name]\n",
    "    else:\n",
    "        data_x = data.loc[data['State Code'] == state, feat_name]\n",
    "    data_x = data_x[np.isfinite(data_x)]\n",
    "    plt.hist(data_x, bins=30)\n",
    "    plt.axvline(x=florida_hospital[feat_name].values, c='r', ls='--', alpha=0.8, label='Florida Hospital')\n",
    "    plt.xlabel(description)\n",
    "    plt.ylabel('frequency')\n",
    "    plt.title(description + ' distribution for hospitals')\n",
    "    plt.legend()"
   ]
  },
  {
   "attachments": {},
   "cell_type": "markdown",
   "metadata": {},
   "source": [
    "### 7.8.1 Procedure price<a id='7.8.1_Procedure_price'></a>"
   ]
  },
  {
   "attachments": {},
   "cell_type": "markdown",
   "metadata": {},
   "source": [
    "Look at where Florida Hospital sits overall amongst all resorts for price on this procedure and for just other hospitals in Florida."
   ]
  },
  {
   "cell_type": "code",
   "execution_count": 183,
   "metadata": {},
   "outputs": [
    {
     "data": {
      "image/png": "[encoded data removed]",
      "text/plain": [
       "<Figure size 1000x500 with 1 Axes>"
      ]
     },
     "metadata": {},
     "output_type": "display_data"
    }
   ],
   "source": [
    "plot_compare('PSI_15', 'Total CMS Hospital Safety Metric')"
   ]
  },
  {
   "cell_type": "code",
   "execution_count": 184,
   "metadata": {},
   "outputs": [
    {
     "data": {
      "image/png": "[encoded data removed]",
      "text/plain": [
       "<Figure size 1000x500 with 1 Axes>"
      ]
     },
     "metadata": {},
     "output_type": "display_data"
    }
   ],
   "source": [
    "plot_compare('PSI_15', 'Total Hospital Safety Metric - Florida only', state='FL')"
   ]
  },
  {
   "attachments": {},
   "cell_type": "markdown",
   "metadata": {},
   "source": [
    "Our random hospital is near the average, slightly lower than most hospital within the US and even in the state of Florida."
   ]
  },
  {
   "attachments": {},
   "cell_type": "markdown",
   "metadata": {},
   "source": [
    "### 7.8.2 Infection Ratings<a id='7.8.2_Infection_Ratings'></a>"
   ]
  },
  {
   "cell_type": "code",
   "execution_count": 185,
   "metadata": {},
   "outputs": [
    {
     "data": {
      "image/png": "[encoded data removed]",
      "text/plain": [
       "<Figure size 1000x500 with 1 Axes>"
      ]
     },
     "metadata": {},
     "output_type": "display_data"
    }
   ],
   "source": [
    "plot_compare('HAI_2_SIR', 'Infection Ratings')"
   ]
  },
  {
   "attachments": {},
   "cell_type": "markdown",
   "metadata": {},
   "source": [
    "Infection rating is below average, which is a good thing. (Higher SIR equals more infections per procedure.)"
   ]
  },
  {
   "attachments": {},
   "cell_type": "markdown",
   "metadata": {},
   "source": [
    "### 7.8.3 Hospitals per 100k<a id='7.8.3_Hospitals_per_100k'></a>"
   ]
  },
  {
   "cell_type": "code",
   "execution_count": 186,
   "metadata": {},
   "outputs": [
    {
     "data": {
      "image/png": "[encoded data removed]",
      "text/plain": [
       "<Figure size 1000x500 with 1 Axes>"
      ]
     },
     "metadata": {},
     "output_type": "display_data"
    }
   ],
   "source": [
    "plot_compare('hospitals_per_100kcapita', 'Hospitals per 100kcapita')"
   ]
  },
  {
   "attachments": {},
   "cell_type": "markdown",
   "metadata": {},
   "source": [
    "Not surprising that our hospital lies with the mode here seeing that Florida hospitals are the most within our dataset and this is a state feature."
   ]
  },
  {
   "attachments": {},
   "cell_type": "markdown",
   "metadata": {},
   "source": [
    "### 7.8.4 Discharges per 100k <a id='7.8.4_Discharges_per_100k'></a>"
   ]
  },
  {
   "cell_type": "code",
   "execution_count": 187,
   "metadata": {},
   "outputs": [
    {
     "data": {
      "image/png": "[encoded data removed]",
      "text/plain": [
       "<Figure size 1000x500 with 1 Axes>"
      ]
     },
     "metadata": {},
     "output_type": "display_data"
    }
   ],
   "source": [
    "plot_compare('discharges_per_100kcapita', 'Discharges per 100k Capita')"
   ]
  },
  {
   "attachments": {},
   "cell_type": "markdown",
   "metadata": {},
   "source": [
    "Just like the above feature, not surprising that our hospital lies with the mode here seeing that Florida hospitals are the most within our dataset and this is a state feature."
   ]
  },
  {
   "attachments": {},
   "cell_type": "markdown",
   "metadata": {},
   "source": [
    "### 7.8.5 Discharge Ratio<a id='7.8.5_Discharge_Ratio'></a>"
   ]
  },
  {
   "cell_type": "code",
   "execution_count": 188,
   "metadata": {},
   "outputs": [
    {
     "data": {
      "image/png": "[encoded data removed]",
      "text/plain": [
       "<Figure size 1000x500 with 1 Axes>"
      ]
     },
     "metadata": {},
     "output_type": "display_data"
    }
   ],
   "source": [
    "plot_compare('discharge_ratio', 'Discharge Ratio')"
   ]
  },
  {
   "attachments": {},
   "cell_type": "markdown",
   "metadata": {},
   "source": [
    "Since our hospital is in a large/populous state- this ratio is going to be small."
   ]
  },
  {
   "attachments": {},
   "cell_type": "markdown",
   "metadata": {},
   "source": [
    "### 7.8.6 Bed Ratio<a id='7.8.6_Bed_Ratio'></a>"
   ]
  },
  {
   "cell_type": "code",
   "execution_count": 189,
   "metadata": {},
   "outputs": [
    {
     "data": {
      "image/png": "[encoded data removed]",
      "text/plain": [
       "<Figure size 1000x500 with 1 Axes>"
      ]
     },
     "metadata": {},
     "output_type": "display_data"
    }
   ],
   "source": [
    "plot_compare('bed_ratio', 'Bed Ratio')"
   ]
  },
  {
   "attachments": {},
   "cell_type": "markdown",
   "metadata": {},
   "source": [
    "This is the same as the previous feature. Florida has numerous hospitals, so it is going to have a low bed ratio."
   ]
  },
  {
   "attachments": {},
   "cell_type": "markdown",
   "metadata": {},
   "source": [
    "### 7.8.7 Interns/Residents<a id='7.8.7_Interns_Residents'></a>"
   ]
  },
  {
   "cell_type": "code",
   "execution_count": 190,
   "metadata": {},
   "outputs": [
    {
     "data": {
      "image/png": "[encoded data removed]",
      "text/plain": [
       "<Figure size 1000x500 with 1 Axes>"
      ]
     },
     "metadata": {},
     "output_type": "display_data"
    }
   ],
   "source": [
    "plot_compare('Number of Interns and Residents (FTE)', 'Number of Interns/Residents')"
   ]
  },
  {
   "attachments": {},
   "cell_type": "markdown",
   "metadata": {},
   "source": [
    "Our Random Florida Hospital seems to have at least some interns/residents. This is something that our hospital could improve."
   ]
  },
  {
   "attachments": {},
   "cell_type": "markdown",
   "metadata": {},
   "source": [
    "### 7.8.8 Hospital Days<a id='7.8.8_Hospital_Days'></a>"
   ]
  },
  {
   "cell_type": "code",
   "execution_count": 191,
   "metadata": {},
   "outputs": [
    {
     "data": {
      "image/png": "[encoded data removed]",
      "text/plain": [
       "<Figure size 1000x500 with 1 Axes>"
      ]
     },
     "metadata": {},
     "output_type": "display_data"
    }
   ],
   "source": [
    "plot_compare('Hospital Total Days (V + XVIII + XIX + Unknown) For Adults &amp; Peds', 'Total Hospital Days')"
   ]
  },
  {
   "attachments": {},
   "cell_type": "markdown",
   "metadata": {},
   "source": [
    "Our hospital has decent demand given its hospital days. This is harder to improve without acquiring more facilities or acquiring other hospitals in the area. This is a demand statistic."
   ]
  },
  {
   "attachments": {},
   "cell_type": "markdown",
   "metadata": {},
   "source": [
    "## 7.9 Modeling scenarios<a id='7.9_Modeling_scenarios'></a>"
   ]
  },
  {
   "attachments": {},
   "cell_type": "markdown",
   "metadata": {},
   "source": [
    "Lets run through some scenarios that might be feasible for the hospital to accomplish to increase its price.\n",
    "\n",
    "The possible options:\n",
    "1. Increasing PSI 15 by a certain percentage or increase HAI 2 SIR by a certain percentage\n",
    "2. Increase Demand by certain percentage by acquiring another hospital, either through discharge ratio/hospital days\n",
    "3. Increase Number of Interns/Residents by a certain percentage\n",
    "4. Increase all PSI metrics by a certain percentage"
   ]
  },
  {
   "cell_type": "code",
   "execution_count": 192,
   "metadata": {},
   "outputs": [
    {
     "data": {
      "text/html": [
       "<div>\n",
       "<style scoped>\n",
       "    .dataframe tbody tr th:only-of-type {\n",
       "        vertical-align: middle;\n",
       "    }\n",
       "\n",
       "    .dataframe tbody tr th {\n",
       "        vertical-align: top;\n",
       "    }\n",
       "\n",
       "    .dataframe thead th {\n",
       "        text-align: right;\n",
       "    }\n",
       "</style>\n",
       "<table border=\"1\" class=\"dataframe\">\n",
       "  <thead>\n",
       "    <tr style=\"text-align: right;\">\n",
       "      <th></th>\n",
       "      <th>PSI_15</th>\n",
       "      <th>HAI_2_SIR</th>\n",
       "      <th>Number of Interns and Residents (FTE)</th>\n",
       "      <th>bed_ratio</th>\n",
       "      <th>discharge_ratio</th>\n",
       "      <th>Hospital Total Days (V + XVIII + XIX + Unknown) For Adults &amp;amp; Peds</th>\n",
       "    </tr>\n",
       "  </thead>\n",
       "  <tbody>\n",
       "    <tr>\n",
       "      <th>58</th>\n",
       "      <td>0.831219</td>\n",
       "      <td>0.346</td>\n",
       "      <td>54.68</td>\n",
       "      <td>0.009348</td>\n",
       "      <td>0.049473</td>\n",
       "      <td>79483.0</td>\n",
       "    </tr>\n",
       "  </tbody>\n",
       "</table>\n",
       "</div>"
      ],
      "text/plain": [
       "      PSI_15  HAI_2_SIR  Number of Interns and Residents (FTE)  bed_ratio  \\\n",
       "58  0.831219      0.346                                  54.68   0.009348   \n",
       "\n",
       "    discharge_ratio  \\\n",
       "58         0.049473   \n",
       "\n",
       "    Hospital Total Days (V + XVIII + XIX + Unknown) For Adults &amp; Peds  \n",
       "58                                            79483.0                      "
      ]
     },
     "execution_count": 192,
     "metadata": {},
     "output_type": "execute_result"
    }
   ],
   "source": [
    "all_feats = ['PSI_15', 'HAI_2_SIR', 'Number of Interns and Residents (FTE)', 'bed_ratio', \n",
    "             'discharge_ratio', 'Hospital Total Days (V + XVIII + XIX + Unknown) For Adults &amp; Peds']\n",
    "florida_hospital[all_feats]"
   ]
  },
  {
   "cell_type": "code",
   "execution_count": 193,
   "metadata": {},
   "outputs": [],
   "source": [
    "def predict_increase(features, deltas):\n",
    "    bm2 = X_bm.copy()\n",
    "    for f, d in zip(features, deltas):\n",
    "        bm2[f] *= (1 + d)\n",
    "    return model.predict(bm2).item() - model.predict(X_bm).item()"
   ]
  },
  {
   "attachments": {},
   "cell_type": "markdown",
   "metadata": {},
   "source": [
    "### 7.9.1 Scenario 1<a id='7.9.1_Scenario_1'></a>"
   ]
  },
  {
   "attachments": {},
   "cell_type": "markdown",
   "metadata": {},
   "source": [
    "I believe it is reasonable to increase these metrics from 10-40%. Let us take a look at these values."
   ]
  },
  {
   "cell_type": "code",
   "execution_count": 207,
   "metadata": {},
   "outputs": [],
   "source": [
    "deltas = [i * 0.1 for i in range(1, 5)]\n",
    "price_deltas_psi = [predict_increase(['PSI_15'], [delta]) for delta in deltas]\n",
    "price_deltas_sir = [predict_increase(['HAI_2_SIR'], [delta]) for delta in deltas]"
   ]
  },
  {
   "cell_type": "code",
   "execution_count": 208,
   "metadata": {},
   "outputs": [
    {
     "data": {
      "text/plain": [
       "[-3.8212096617100997, -5.994341633280328, 9.244028124834358, 18.10772770777203]"
      ]
     },
     "execution_count": 208,
     "metadata": {},
     "output_type": "execute_result"
    }
   ],
   "source": [
    "price_deltas_psi"
   ]
  },
  {
   "cell_type": "code",
   "execution_count": 210,
   "metadata": {},
   "outputs": [
    {
     "data": {
      "image/png": "[encoded data removed]",
      "text/plain": [
       "<Figure size 1000x500 with 2 Axes>"
      ]
     },
     "metadata": {},
     "output_type": "display_data"
    }
   ],
   "source": [
    "perc_change = [perc*100 for perc in deltas] #1\n",
    "fig, ax = plt.subplots(1, 2, figsize=(10, 5))\n",
    "fig.subplots_adjust(wspace=0.5)\n",
    "ax[0].plot(perc_change, price_deltas_psi, 'o-')\n",
    "ax[0].set(xlabel='% Increase in PSI 15 Score', ylabel='Change ($)', title=procedure)\n",
    "ax[1].plot(perc_change, price_deltas_sir, 'o-')\n",
    "ax[1].set(xlabel='% Increase in HAI 2 SIR Score', ylabel='Change ($)', title=procedure);"
   ]
  },
  {
   "attachments": {},
   "cell_type": "markdown",
   "metadata": {},
   "source": [
    "It seems like we would need to increase PSI by at least 30% based on this model, which may be difficult, to see a price increase. Our hospital is already near the top end when it comes to HAI 2, this is why their is barely a change in our model."
   ]
  },
  {
   "attachments": {},
   "cell_type": "markdown",
   "metadata": {},
   "source": [
    "### 7.9.2 Scenario 2<a id='7.9.2_Scenario_2'></a>"
   ]
  },
  {
   "attachments": {},
   "cell_type": "markdown",
   "metadata": {},
   "source": [
    "In this Scenario we are looking at demand metrics that are cost intensive for the hospital and hard for them to control given the nature of medicine."
   ]
  },
  {
   "cell_type": "code",
   "execution_count": 197,
   "metadata": {},
   "outputs": [],
   "source": [
    "hosp_days_increase = [predict_increase(['Hospital Total Days (V + XVIII + XIX + Unknown) For Adults &amp; Peds'], [delta]) for delta in deltas]\n",
    "discharge_ratio_increase = [predict_increase(['discharge_ratio'], [delta]) for delta in deltas]"
   ]
  },
  {
   "cell_type": "code",
   "execution_count": 198,
   "metadata": {},
   "outputs": [
    {
     "data": {
      "image/png": "[encoded data removed]",
      "text/plain": [
       "<Figure size 1000x500 with 2 Axes>"
      ]
     },
     "metadata": {},
     "output_type": "display_data"
    }
   ],
   "source": [
    "perc_change = [perc*100 for perc in deltas] #1\n",
    "fig, ax = plt.subplots(1, 2, figsize=(10, 5))\n",
    "fig.subplots_adjust(wspace=0.5)\n",
    "ax[0].plot(perc_change, hosp_days_increase, 'o-')\n",
    "ax[0].set(xlabel='% Increase in Hospital Days', ylabel='Change ($)', title=procedure)\n",
    "ax[1].plot(perc_change, discharge_ratio_increase, 'o-')\n",
    "ax[1].set(xlabel='% Increase in Discharge Ratio', ylabel='Change ($)', title=procedure);"
   ]
  },
  {
   "attachments": {},
   "cell_type": "markdown",
   "metadata": {},
   "source": [
    "The change is marginal for hospital days. This does not look promising, nor something that the hospital can control easily. This might be an option to avoid."
   ]
  },
  {
   "attachments": {},
   "cell_type": "markdown",
   "metadata": {},
   "source": [
    "### 7.9.3 Scenario 3<a id='7.9.3_Scenario_3'></a>"
   ]
  },
  {
   "attachments": {},
   "cell_type": "markdown",
   "metadata": {},
   "source": [
    "In this scenario, we can increase the number of interns that the hospital recruits from the CMS."
   ]
  },
  {
   "cell_type": "code",
   "execution_count": 199,
   "metadata": {},
   "outputs": [],
   "source": [
    "intern_increase = [predict_increase(['Number of Interns and Residents (FTE)'], [delta]) for delta in deltas]"
   ]
  },
  {
   "cell_type": "code",
   "execution_count": 200,
   "metadata": {},
   "outputs": [
    {
     "name": "stdout",
     "output_type": "stream",
     "text": [
      "This scenario increases discharge ratio by 10 % for procedure price by $-0.60\n",
      "This scenario increases discharge ratio by 20 % for procedure price by $-0.02\n",
      "This scenario increases discharge ratio by 30 % for procedure price by $-0.02\n",
      "This scenario increases discharge ratio by 40 % for procedure price by $-0.02\n"
     ]
    }
   ],
   "source": [
    "for p,delta in enumerate(deltas):\n",
    "    print(f'This scenario increases discharge ratio by {delta*100:.0f} % for procedure price by ${intern_increase[p]:.2f}')"
   ]
  },
  {
   "attachments": {},
   "cell_type": "markdown",
   "metadata": {},
   "source": [
    "Our hospital already has a lot of interns, and increasing the number of interns seems to have little affect on prices."
   ]
  },
  {
   "attachments": {},
   "cell_type": "markdown",
   "metadata": {},
   "source": [
    "### 7.9.4 Scenario 4<a id='7.9.4_Scenario_4'></a>"
   ]
  },
  {
   "cell_type": "code",
   "execution_count": 213,
   "metadata": {},
   "outputs": [],
   "source": [
    "price_deltas_combo = [predict_increase(['PSI_15','PSI_08','PSI_11','PSI_13','PSI_12'], \n",
    "                                       [delta, delta, delta, delta, delta]) for delta in deltas]"
   ]
  },
  {
   "cell_type": "code",
   "execution_count": 214,
   "metadata": {},
   "outputs": [
    {
     "name": "stdout",
     "output_type": "stream",
     "text": [
      "This scenario increases in all PSI metrics by 10 % for procedure price by $-6.34\n",
      "This scenario increases in all PSI metrics by 20 % for procedure price by $0.48\n",
      "This scenario increases in all PSI metrics by 30 % for procedure price by $18.16\n",
      "This scenario increases in all PSI metrics by 40 % for procedure price by $30.98\n"
     ]
    }
   ],
   "source": [
    "for p,delta in enumerate(deltas):\n",
    "    print(f'This scenario increases in all PSI metrics by {delta*100:.0f} % for procedure price by ${price_deltas_combo[p]:.2f}')"
   ]
  },
  {
   "attachments": {},
   "cell_type": "markdown",
   "metadata": {},
   "source": [
    "This seems to have a much more dramatic increase on prices."
   ]
  },
  {
   "attachments": {},
   "cell_type": "markdown",
   "metadata": {},
   "source": [
    "## 7.10 Summary<a id='7.10_Summary'></a>"
   ]
  },
  {
   "attachments": {},
   "cell_type": "markdown",
   "metadata": {},
   "source": [
    "Using the model created from the prior notebook, predictions were made about price for CPT 58150 (under anesthesia hysterectomy procedure) for our random Florida hospital.\n",
    "First, a prediction using the current features using this model resulted in a price of $1392.49, actual price is $1427.87. According to this model, we are close to the actual price and witin the MAE.\n",
    "\n",
    "Taking a step back, we explored features of our random hospital and compared them to other hospitals, particularly for the features selected by our random forest model. We tend to be slightly beloow the mode or near the mode on most features compared to other hospitals. \n",
    "\n",
    "The potential scenarios we explored:\n",
    "1. Increasing PSI 15 by a certain percentage or increase HAI 2 SIR by a certain percentage\n",
    "2. Increase Demand by certain percentage by acquiring another hospital, either through discharge ratio/hospital days\n",
    "3. Increase Number of Interns/Residents\n",
    "4. Increase both PSI 15 and HAI 2 by a certain percentage\n",
    "\n",
    "We accounted for each of these scenarios to determine the new price to be charged:\n",
    "\n",
    "**For scenario 1:** The model supported this outcome, particularly PSI 15 metric. However the price change would be minimal.\n",
    "\n",
    "**For scenario 2:** The model did not support this outcome and it would be extremely costly.\n",
    "\n",
    "**For scenario 3:** The model did not support this outcome, as it would make little change to price of the procedure.\n",
    "\n",
    "**For scenario 4:** The model supported this outcome, especially if increasing all PSI metrics by +30% or more.\n",
    "\n",
    "Scenario 4 seems the most appealing to me. Increasing all PSI metrics go hand in hand and hospitals would be required to implement similar measures to increase all metrics. In addition, we did not account for decreases in HAI values, which would probably decrease as well with any hospital implementation of these metrics. However, our hospital seems to be doing well in their metrics."
   ]
  },
  {
   "attachments": {},
   "cell_type": "markdown",
   "metadata": {},
   "source": [
    "## 7.11 Further work<a id='7.11_Further_work'></a>"
   ]
  },
  {
   "attachments": {},
   "cell_type": "markdown",
   "metadata": {},
   "source": [
    "There were certain limitations to the work done. First, looking at the data, I was not able to parse all the values from the JSON files just due to processing power. We were limited in areas where these prices came from, mostly from the state of Florida. In addition, we limited the procedures to look at. The datasets were matched on different time periods given the limitations of this analysis.\n",
    "\n",
    "Additionally, our model did not have great accuracy, at around 79%. I believe a deeper model might be able to predict the prices at a better rate. Our predictions on how prices affect revenue limits our analysis on what decision is best. But this does show proof of concept.\n",
    "\n",
    "This model could be used by our client for other parameter changes and we could set-up a new Jupyter notebook where one could set the parameters in one cell for other procedures."
   ]
  }
 ],
 "metadata": {
  "kernelspec": {
   "display_name": "base",
   "language": "python",
   "name": "python3"
  },
  "language_info": {
   "codemirror_mode": {
    "name": "ipython",
    "version": 3
   },
   "file_extension": ".py",
   "mimetype": "text/x-python",
   "name": "python",
   "nbconvert_exporter": "python",
   "pygments_lexer": "ipython3",
   "version": "3.9.16"
  },
  "toc": {
   "base_numbering": 1,
   "nav_menu": {},
   "number_sections": true,
   "sideBar": true,
   "skip_h1_title": false,
   "title_cell": "Table of Contents",
   "title_sidebar": "Contents",
   "toc_cell": false,
   "toc_position": {},
   "toc_section_display": true,
   "toc_window_display": true
  },
  "varInspector": {
   "cols": {
    "lenName": 16,
    "lenType": 16,
    "lenVar": 40
   },
   "kernels_config": {
    "python": {
     "delete_cmd_postfix": "",
     "delete_cmd_prefix": "del ",
     "library": "var_list.py",
     "varRefreshCmd": "print(var_dic_list())"
    },
    "r": {
     "delete_cmd_postfix": ") ",
     "delete_cmd_prefix": "rm(",
     "library": "var_list.r",
     "varRefreshCmd": "cat(var_dic_list()) "
    }
   },
   "types_to_exclude": [
    "module",
    "function",
    "builtin_function_or_method",
    "instance",
    "_Feature"
   ],
   "window_display": false
  },
  "vscode": {
   "interpreter": {
    "hash": "ad2bdc8ecc057115af97d19610ffacc2b4e99fae6737bb82f5d7fb13d2f2c186"
   }
  }
 },
 "nbformat": 4,
 "nbformat_minor": 4
}
