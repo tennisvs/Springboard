{
 "cells": [
  {
   "cell_type": "code",
   "execution_count": 1,
   "metadata": {},
   "outputs": [],
   "source": [
    "import pandas as pd\n",
    "import numpy as np\n",
    "import os\n",
    "from dotenv import load_dotenv\n",
    "from datetime import date, datetime, timedelta\n",
    "import sqlalchemy\n",
    "import pymysql\n",
    "import openpyxl\n",
    "import glob\n",
    "from ast import literal_eval\n",
    "from collections import Counter"
   ]
  },
  {
   "cell_type": "code",
   "execution_count": 7,
   "metadata": {},
   "outputs": [],
   "source": [
    "load_dotenv()\n",
    "\n",
    "hyperlink_path = 'json_completed_hyperlinks_update.csv'\n",
    "parent_dir = os.getenv('dir')\n",
    "data_dir = os.path.join(parent_dir,'data_update')\n",
    "\n",
    "df = pd.read_csv(hyperlink_path, header=None)\n",
    "df.head()\n",
    "df.columns = ['ParseID','Hyperlink']\n",
    "hyperlinks = df['Hyperlink'].tolist()\n",
    "\n",
    "def foldername(hyperlink):\n",
    "    hyperlink = hyperlink.split('/')[-1]\n",
    "    return hyperlink[0:-8]\n",
    "def providers_path(folder):\n",
    "    return os.path.join(data_dir,folder,folder+'_providers.csv')\n",
    "\n",
    "folder_names= [foldername(hyperlink) for hyperlink in hyperlinks]\n",
    "provider_files = [providers_path(folder_name) for folder_name in folder_names]\n",
    "\n",
    "ccn = pd.read_parquet('tin_to_ccn.parquet')"
   ]
  },
  {
   "cell_type": "code",
   "execution_count": 13,
   "metadata": {},
   "outputs": [
    {
     "data": {
      "text/plain": [
       "tin                     int64\n",
       "npi_provider_groups    object\n",
       "ccn                    object\n",
       "dtype: object"
      ]
     },
     "execution_count": 13,
     "metadata": {},
     "output_type": "execute_result"
    }
   ],
   "source": [
    "ccn = ccn.astype({'tin':'int64'})\n",
    "ccn.dtypes"
   ]
  },
  {
   "cell_type": "code",
   "execution_count": 18,
   "metadata": {},
   "outputs": [
    {
     "name": "stdout",
     "output_type": "stream",
     "text": [
      "<class 'pandas.core.frame.DataFrame'>\n",
      "Int64Index: 3895 entries, 96 to 46853\n",
      "Data columns (total 3 columns):\n",
      " #   Column               Non-Null Count  Dtype \n",
      "---  ------               --------------  ----- \n",
      " 0   tin                  3895 non-null   int64 \n",
      " 1   npi_provider_groups  3895 non-null   object\n",
      " 2   ccn                  3895 non-null   object\n",
      "dtypes: int64(1), object(2)\n",
      "memory usage: 121.7+ KB\n"
     ]
    }
   ],
   "source": [
    "ccn.dropna(subset=['ccn'],inplace=True)\n",
    "ccn.info()\n"
   ]
  },
  {
   "cell_type": "code",
   "execution_count": 23,
   "metadata": {},
   "outputs": [
    {
     "data": {
      "text/plain": [
       "provider_reference      int64\n",
       "tin                     int64\n",
       "npi_provider_groups    object\n",
       "dtype: object"
      ]
     },
     "execution_count": 23,
     "metadata": {},
     "output_type": "execute_result"
    }
   ],
   "source": [
    "df = pd.read_csv(provider_files[2], usecols=['provider_reference','tin','npi_provider_groups'], converters={'npi_provider_groups': literal_eval})\n",
    "provider_files[0]"
   ]
  },
  {
   "cell_type": "code",
   "execution_count": 24,
   "metadata": {},
   "outputs": [
    {
     "data": {
      "text/html": [
       "<div>\n",
       "<style scoped>\n",
       "    .dataframe tbody tr th:only-of-type {\n",
       "        vertical-align: middle;\n",
       "    }\n",
       "\n",
       "    .dataframe tbody tr th {\n",
       "        vertical-align: top;\n",
       "    }\n",
       "\n",
       "    .dataframe thead th {\n",
       "        text-align: right;\n",
       "    }\n",
       "</style>\n",
       "<table border=\"1\" class=\"dataframe\">\n",
       "  <thead>\n",
       "    <tr style=\"text-align: right;\">\n",
       "      <th></th>\n",
       "      <th>provider_reference</th>\n",
       "      <th>tin</th>\n",
       "      <th>npi_provider_groups</th>\n",
       "      <th>ccn</th>\n",
       "    </tr>\n",
       "  </thead>\n",
       "  <tbody>\n",
       "    <tr>\n",
       "      <th>0</th>\n",
       "      <td>0</td>\n",
       "      <td>1356638811</td>\n",
       "      <td>[1356638811]</td>\n",
       "      <td>297112</td>\n",
       "    </tr>\n",
       "    <tr>\n",
       "      <th>1</th>\n",
       "      <td>1</td>\n",
       "      <td>1285698381</td>\n",
       "      <td>[1285698381]</td>\n",
       "      <td>030101</td>\n",
       "    </tr>\n",
       "    <tr>\n",
       "      <th>2</th>\n",
       "      <td>1106</td>\n",
       "      <td>1285698381</td>\n",
       "      <td>[1285698381]</td>\n",
       "      <td>030101</td>\n",
       "    </tr>\n",
       "    <tr>\n",
       "      <th>3</th>\n",
       "      <td>11</td>\n",
       "      <td>1508899253</td>\n",
       "      <td>[1508899253]</td>\n",
       "      <td>290007</td>\n",
       "    </tr>\n",
       "    <tr>\n",
       "      <th>4</th>\n",
       "      <td>34</td>\n",
       "      <td>1932106853</td>\n",
       "      <td>[1932106853]</td>\n",
       "      <td>030055</td>\n",
       "    </tr>\n",
       "  </tbody>\n",
       "</table>\n",
       "</div>"
      ],
      "text/plain": [
       "   provider_reference         tin npi_provider_groups     ccn\n",
       "0                   0  1356638811        [1356638811]  297112\n",
       "1                   1  1285698381        [1285698381]  030101\n",
       "2                1106  1285698381        [1285698381]  030101\n",
       "3                  11  1508899253        [1508899253]  290007\n",
       "4                  34  1932106853        [1932106853]  030055"
      ]
     },
     "execution_count": 24,
     "metadata": {},
     "output_type": "execute_result"
    }
   ],
   "source": [
    "merged = df.merge(ccn[['tin','ccn']], how='inner', on=['tin'])\n",
    "merged.head()"
   ]
  },
  {
   "cell_type": "code",
   "execution_count": null,
   "metadata": {},
   "outputs": [],
   "source": [
    "def merged_prov_ccn(file_path):\n",
    "    df = pd.read_csv(file_path, usecols=['provider_reference','tin','npi_provider_groups'], converters={'npi_provider_groups': literal_eval})\n",
    "    df = df.astype({'tin':'int64'})\n",
    "    merged = df.merge(ccn[['tin','ccn']], how='inner', on=['tin'])\n",
    "    return merged\n",
    "\n",
    "def save_file(df, path):\n",
    "    df.to_pickle(path)\n",
    "    print('File saved to pickle: \\n' + path)\n",
    "    "
   ]
  },
  {
   "cell_type": "code",
   "execution_count": 26,
   "metadata": {},
   "outputs": [
    {
     "data": {
      "text/plain": [
       "'2023-01-01_ALL-SAVERS-INSURANCE-COMPANY_Insurer_PPO---NDC_PPO-NDC_in-network-rates'"
      ]
     },
     "execution_count": 26,
     "metadata": {},
     "output_type": "execute_result"
    }
   ],
   "source": [
    "for i, provider in enumerate(provider_files):\n",
    "    merged = merged_prov_ccn(provider)\n",
    "    save_file(merged, os.path.join(data_dir,folder_names[i],folder_names[i]+'_ccn.parquet') )"
   ]
  }
 ],
 "metadata": {
  "kernelspec": {
   "display_name": "base",
   "language": "python",
   "name": "python3"
  },
  "language_info": {
   "codemirror_mode": {
    "name": "ipython",
    "version": 3
   },
   "file_extension": ".py",
   "mimetype": "text/x-python",
   "name": "python",
   "nbconvert_exporter": "python",
   "pygments_lexer": "ipython3",
   "version": "3.9.16"
  },
  "orig_nbformat": 4,
  "vscode": {
   "interpreter": {
    "hash": "ad2bdc8ecc057115af97d19610ffacc2b4e99fae6737bb82f5d7fb13d2f2c186"
   }
  }
 },
 "nbformat": 4,
 "nbformat_minor": 2
}
