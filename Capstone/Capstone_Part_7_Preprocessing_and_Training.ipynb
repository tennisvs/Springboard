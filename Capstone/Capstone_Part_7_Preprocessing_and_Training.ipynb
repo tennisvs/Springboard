{
 "cells": [
  {
   "attachments": {},
   "cell_type": "markdown",
   "metadata": {},
   "source": [
    "# Preprocessing and Training: UHC Insurance Dataset\n",
    "\n"
   ]
  },
  {
   "attachments": {},
   "cell_type": "markdown",
   "metadata": {},
   "source": [
    "In the prior notebook we were able to clean our data, combine our insurance dataset with CMS datasets alongside creating new features. In addition exploratory analysis was performed in the prior notebook.\n",
    "\n",
    "In this notebook we will pre-process the data and create some basic models. As always, we will import the libraries we intend to work with."
   ]
  },
  {
   "cell_type": "code",
   "execution_count": 244,
   "metadata": {},
   "outputs": [],
   "source": [
    "import pandas as pd\n",
    "import numpy as np\n",
    "import os\n",
    "import matplotlib.pyplot as plt\n",
    "import seaborn as sns\n",
    "from sklearn import __version__ as sklearn_version\n",
    "from sklearn.decomposition import PCA\n",
    "from sklearn.preprocessing import scale\n",
    "from sklearn.model_selection import train_test_split, cross_validate, GridSearchCV, learning_curve\n",
    "from xgboost import XGBClassifier\n",
    "from sklearn.preprocessing import StandardScaler, MinMaxScaler\n",
    "from sklearn.dummy import DummyRegressor\n",
    "from sklearn.linear_model import LinearRegression\n",
    "from sklearn.ensemble import RandomForestRegressor, GradientBoostingClassifier, RandomForestClassifier\n",
    "from sklearn.metrics import r2_score, mean_squared_error, mean_absolute_error, accuracy_score\n",
    "from sklearn.pipeline import make_pipeline\n",
    "from sklearn.impute import SimpleImputer\n",
    "from sklearn.feature_selection import SelectKBest, f_regression\n",
    "import datetime\n",
    "import pyarrow as pa"
   ]
  },
  {
   "attachments": {},
   "cell_type": "markdown",
   "metadata": {},
   "source": [
    "## Import data\n",
    "\n",
    "Let us import the dataframes we created in the prior notebook. Remember, this was a dictionary of dataframes that were downloaded separately."
   ]
  },
  {
   "cell_type": "code",
   "execution_count": 245,
   "metadata": {},
   "outputs": [],
   "source": [
    "path = 'data'\n",
    "obj = os.scandir(path)\n",
    "l = [entry for entry in obj]\n",
    "df_dict = {}\n",
    "\n",
    "for entry in l:\n",
    "    p = entry.name[0:-8]\n",
    "    df_dict[p] = pd.read_parquet('data/'+entry.name, engine='pyarrow')"
   ]
  },
  {
   "attachments": {},
   "cell_type": "markdown",
   "metadata": {},
   "source": [
    "The procedure I selected was for initial processing is the same as the prior notebook. Lets take a quick look and make sure we are pulling the right dataframe."
   ]
  },
  {
   "cell_type": "code",
   "execution_count": 246,
   "metadata": {},
   "outputs": [
    {
     "data": {
      "text/html": [
       "<div>\n",
       "<style scoped>\n",
       "    .dataframe tbody tr th:only-of-type {\n",
       "        vertical-align: middle;\n",
       "    }\n",
       "\n",
       "    .dataframe tbody tr th {\n",
       "        vertical-align: top;\n",
       "    }\n",
       "\n",
       "    .dataframe thead th {\n",
       "        text-align: right;\n",
       "    }\n",
       "</style>\n",
       "<table border=\"1\" class=\"dataframe\">\n",
       "  <thead>\n",
       "    <tr style=\"text-align: right;\">\n",
       "      <th></th>\n",
       "      <th>0</th>\n",
       "      <th>1</th>\n",
       "      <th>2</th>\n",
       "      <th>3</th>\n",
       "      <th>4</th>\n",
       "      <th>5</th>\n",
       "      <th>6</th>\n",
       "      <th>7</th>\n",
       "      <th>8</th>\n",
       "      <th>9</th>\n",
       "      <th>...</th>\n",
       "      <th>20</th>\n",
       "      <th>21</th>\n",
       "      <th>22</th>\n",
       "      <th>23</th>\n",
       "      <th>24</th>\n",
       "      <th>25</th>\n",
       "      <th>26</th>\n",
       "      <th>27</th>\n",
       "      <th>28</th>\n",
       "      <th>29</th>\n",
       "    </tr>\n",
       "  </thead>\n",
       "  <tbody>\n",
       "    <tr>\n",
       "      <th>ccn</th>\n",
       "      <td>290003</td>\n",
       "      <td>290039</td>\n",
       "      <td>290007</td>\n",
       "      <td>360144</td>\n",
       "      <td>100168</td>\n",
       "      <td>290057</td>\n",
       "      <td>290041</td>\n",
       "      <td>290001</td>\n",
       "      <td>290045</td>\n",
       "      <td>291309</td>\n",
       "      <td>...</td>\n",
       "      <td>53302</td>\n",
       "      <td>50696</td>\n",
       "      <td>50327</td>\n",
       "      <td>291307</td>\n",
       "      <td>50262</td>\n",
       "      <td>290047</td>\n",
       "      <td>290053</td>\n",
       "      <td>30101</td>\n",
       "      <td>30055</td>\n",
       "      <td>30064</td>\n",
       "    </tr>\n",
       "    <tr>\n",
       "      <th>State Code</th>\n",
       "      <td>NV</td>\n",
       "      <td>NV</td>\n",
       "      <td>NV</td>\n",
       "      <td>OH</td>\n",
       "      <td>FL</td>\n",
       "      <td>NV</td>\n",
       "      <td>NV</td>\n",
       "      <td>NV</td>\n",
       "      <td>NV</td>\n",
       "      <td>NV</td>\n",
       "      <td>...</td>\n",
       "      <td>CA</td>\n",
       "      <td>CA</td>\n",
       "      <td>CA</td>\n",
       "      <td>NV</td>\n",
       "      <td>CA</td>\n",
       "      <td>NV</td>\n",
       "      <td>NV</td>\n",
       "      <td>AZ</td>\n",
       "      <td>AZ</td>\n",
       "      <td>AZ</td>\n",
       "    </tr>\n",
       "    <tr>\n",
       "      <th>Rural Versus Urban</th>\n",
       "      <td>U</td>\n",
       "      <td>U</td>\n",
       "      <td>U</td>\n",
       "      <td>U</td>\n",
       "      <td>U</td>\n",
       "      <td>U</td>\n",
       "      <td>U</td>\n",
       "      <td>U</td>\n",
       "      <td>U</td>\n",
       "      <td>U</td>\n",
       "      <td>...</td>\n",
       "      <td>U</td>\n",
       "      <td>R</td>\n",
       "      <td>U</td>\n",
       "      <td>R</td>\n",
       "      <td>U</td>\n",
       "      <td>U</td>\n",
       "      <td>U</td>\n",
       "      <td>U</td>\n",
       "      <td>U</td>\n",
       "      <td>R</td>\n",
       "    </tr>\n",
       "    <tr>\n",
       "      <th>PSI_03</th>\n",
       "      <td>0.13266</td>\n",
       "      <td>0.282079</td>\n",
       "      <td>0.043938</td>\n",
       "      <td>0.068078</td>\n",
       "      <td>2.915921</td>\n",
       "      <td>0.074956</td>\n",
       "      <td>1.146223</td>\n",
       "      <td>0.282847</td>\n",
       "      <td>0.918804</td>\n",
       "      <td>0.673386</td>\n",
       "      <td>...</td>\n",
       "      <td>0.673386</td>\n",
       "      <td>0.534145</td>\n",
       "      <td>0.187307</td>\n",
       "      <td>0.673386</td>\n",
       "      <td>0.246186</td>\n",
       "      <td>0.046598</td>\n",
       "      <td>0.094816</td>\n",
       "      <td>0.885255</td>\n",
       "      <td>0.541904</td>\n",
       "      <td>0.217443</td>\n",
       "    </tr>\n",
       "    <tr>\n",
       "      <th>PSI_06</th>\n",
       "      <td>0.184709</td>\n",
       "      <td>0.198471</td>\n",
       "      <td>0.163886</td>\n",
       "      <td>0.240431</td>\n",
       "      <td>0.197895</td>\n",
       "      <td>0.163136</td>\n",
       "      <td>0.15583</td>\n",
       "      <td>0.187537</td>\n",
       "      <td>0.194649</td>\n",
       "      <td>0.18566</td>\n",
       "      <td>...</td>\n",
       "      <td>0.18566</td>\n",
       "      <td>0.214127</td>\n",
       "      <td>0.140356</td>\n",
       "      <td>0.18566</td>\n",
       "      <td>0.18062</td>\n",
       "      <td>0.187831</td>\n",
       "      <td>0.27158</td>\n",
       "      <td>0.231708</td>\n",
       "      <td>0.163146</td>\n",
       "      <td>0.198214</td>\n",
       "    </tr>\n",
       "    <tr>\n",
       "      <th>PSI_08</th>\n",
       "      <td>0.114236</td>\n",
       "      <td>0.107206</td>\n",
       "      <td>0.051103</td>\n",
       "      <td>0.060184</td>\n",
       "      <td>0.062805</td>\n",
       "      <td>0.222998</td>\n",
       "      <td>0.12566</td>\n",
       "      <td>0.150786</td>\n",
       "      <td>0.091998</td>\n",
       "      <td>0.07372</td>\n",
       "      <td>...</td>\n",
       "      <td>0.07372</td>\n",
       "      <td>0.031959</td>\n",
       "      <td>0.038902</td>\n",
       "      <td>0.07372</td>\n",
       "      <td>0.026712</td>\n",
       "      <td>0.117924</td>\n",
       "      <td>0.062847</td>\n",
       "      <td>0.062829</td>\n",
       "      <td>0.058412</td>\n",
       "      <td>0.038474</td>\n",
       "    </tr>\n",
       "    <tr>\n",
       "      <th>PSI_09</th>\n",
       "      <td>1.56662</td>\n",
       "      <td>2.010451</td>\n",
       "      <td>2.250363</td>\n",
       "      <td>2.240059</td>\n",
       "      <td>3.227263</td>\n",
       "      <td>2.176499</td>\n",
       "      <td>2.154881</td>\n",
       "      <td>3.227598</td>\n",
       "      <td>2.028281</td>\n",
       "      <td>2.35954</td>\n",
       "      <td>...</td>\n",
       "      <td>2.35954</td>\n",
       "      <td>2.323224</td>\n",
       "      <td>1.513829</td>\n",
       "      <td>2.35954</td>\n",
       "      <td>1.938577</td>\n",
       "      <td>2.268576</td>\n",
       "      <td>2.258337</td>\n",
       "      <td>2.607781</td>\n",
       "      <td>2.812555</td>\n",
       "      <td>1.757525</td>\n",
       "    </tr>\n",
       "    <tr>\n",
       "      <th>PSI_10</th>\n",
       "      <td>0.650623</td>\n",
       "      <td>0.816337</td>\n",
       "      <td>1.45264</td>\n",
       "      <td>0.885788</td>\n",
       "      <td>3.064857</td>\n",
       "      <td>0.895404</td>\n",
       "      <td>1.071948</td>\n",
       "      <td>1.005791</td>\n",
       "      <td>1.264776</td>\n",
       "      <td>0.915519</td>\n",
       "      <td>...</td>\n",
       "      <td>0.915519</td>\n",
       "      <td>1.458424</td>\n",
       "      <td>0.678503</td>\n",
       "      <td>0.915519</td>\n",
       "      <td>0.425951</td>\n",
       "      <td>0.825515</td>\n",
       "      <td>1.425347</td>\n",
       "      <td>0.888194</td>\n",
       "      <td>0.829584</td>\n",
       "      <td>2.049576</td>\n",
       "    </tr>\n",
       "    <tr>\n",
       "      <th>PSI_11</th>\n",
       "      <td>9.818181</td>\n",
       "      <td>15.5631</td>\n",
       "      <td>3.166647</td>\n",
       "      <td>4.068711</td>\n",
       "      <td>10.679905</td>\n",
       "      <td>4.533674</td>\n",
       "      <td>13.599067</td>\n",
       "      <td>10.477727</td>\n",
       "      <td>6.69282</td>\n",
       "      <td>6.71386</td>\n",
       "      <td>...</td>\n",
       "      <td>6.71386</td>\n",
       "      <td>12.947214</td>\n",
       "      <td>2.683724</td>\n",
       "      <td>6.71386</td>\n",
       "      <td>2.560221</td>\n",
       "      <td>6.138879</td>\n",
       "      <td>14.847776</td>\n",
       "      <td>4.845885</td>\n",
       "      <td>3.909145</td>\n",
       "      <td>5.807239</td>\n",
       "    </tr>\n",
       "    <tr>\n",
       "      <th>PSI_12</th>\n",
       "      <td>2.791577</td>\n",
       "      <td>2.026761</td>\n",
       "      <td>3.318041</td>\n",
       "      <td>4.103549</td>\n",
       "      <td>5.43422</td>\n",
       "      <td>2.598976</td>\n",
       "      <td>4.616084</td>\n",
       "      <td>2.609405</td>\n",
       "      <td>3.888625</td>\n",
       "      <td>3.469364</td>\n",
       "      <td>...</td>\n",
       "      <td>3.469364</td>\n",
       "      <td>3.347925</td>\n",
       "      <td>2.780193</td>\n",
       "      <td>3.469364</td>\n",
       "      <td>4.810422</td>\n",
       "      <td>2.892045</td>\n",
       "      <td>3.458438</td>\n",
       "      <td>3.592918</td>\n",
       "      <td>3.642878</td>\n",
       "      <td>4.137095</td>\n",
       "    </tr>\n",
       "    <tr>\n",
       "      <th>PSI_13</th>\n",
       "      <td>6.132305</td>\n",
       "      <td>3.864715</td>\n",
       "      <td>4.568572</td>\n",
       "      <td>4.28675</td>\n",
       "      <td>5.74758</td>\n",
       "      <td>3.821906</td>\n",
       "      <td>6.246616</td>\n",
       "      <td>4.270774</td>\n",
       "      <td>4.024955</td>\n",
       "      <td>4.169867</td>\n",
       "      <td>...</td>\n",
       "      <td>4.169867</td>\n",
       "      <td>3.853477</td>\n",
       "      <td>2.944751</td>\n",
       "      <td>4.169867</td>\n",
       "      <td>4.076848</td>\n",
       "      <td>3.788807</td>\n",
       "      <td>4.309712</td>\n",
       "      <td>3.800489</td>\n",
       "      <td>6.449355</td>\n",
       "      <td>5.415985</td>\n",
       "    </tr>\n",
       "    <tr>\n",
       "      <th>PSI_14</th>\n",
       "      <td>0.655391</td>\n",
       "      <td>0.868659</td>\n",
       "      <td>0.686519</td>\n",
       "      <td>0.761356</td>\n",
       "      <td>0.801355</td>\n",
       "      <td>0.744814</td>\n",
       "      <td>0.717896</td>\n",
       "      <td>0.942778</td>\n",
       "      <td>0.683802</td>\n",
       "      <td>0.799425</td>\n",
       "      <td>...</td>\n",
       "      <td>0.799425</td>\n",
       "      <td>0.918568</td>\n",
       "      <td>0.79115</td>\n",
       "      <td>0.799425</td>\n",
       "      <td>0.693138</td>\n",
       "      <td>0.696102</td>\n",
       "      <td>0.747176</td>\n",
       "      <td>0.741921</td>\n",
       "      <td>0.7571</td>\n",
       "      <td>0.803806</td>\n",
       "    </tr>\n",
       "    <tr>\n",
       "      <th>PSI_15</th>\n",
       "      <td>0.629422</td>\n",
       "      <td>0.576689</td>\n",
       "      <td>0.753838</td>\n",
       "      <td>0.895983</td>\n",
       "      <td>1.438312</td>\n",
       "      <td>0.834424</td>\n",
       "      <td>0.765595</td>\n",
       "      <td>1.896841</td>\n",
       "      <td>1.267523</td>\n",
       "      <td>1.07074</td>\n",
       "      <td>...</td>\n",
       "      <td>1.07074</td>\n",
       "      <td>0.93748</td>\n",
       "      <td>0.779016</td>\n",
       "      <td>1.07074</td>\n",
       "      <td>0.735767</td>\n",
       "      <td>1.15144</td>\n",
       "      <td>1.268169</td>\n",
       "      <td>0.888855</td>\n",
       "      <td>1.562905</td>\n",
       "      <td>1.04606</td>\n",
       "    </tr>\n",
       "    <tr>\n",
       "      <th>PSI_90</th>\n",
       "      <td>0.959044</td>\n",
       "      <td>1.022741</td>\n",
       "      <td>0.814248</td>\n",
       "      <td>0.91012</td>\n",
       "      <td>1.893632</td>\n",
       "      <td>0.808072</td>\n",
       "      <td>1.403642</td>\n",
       "      <td>1.003407</td>\n",
       "      <td>1.062427</td>\n",
       "      <td>0.988199</td>\n",
       "      <td>...</td>\n",
       "      <td>0.988199</td>\n",
       "      <td>1.116546</td>\n",
       "      <td>0.597099</td>\n",
       "      <td>0.988199</td>\n",
       "      <td>0.738086</td>\n",
       "      <td>0.820855</td>\n",
       "      <td>1.172312</td>\n",
       "      <td>1.000105</td>\n",
       "      <td>1.059862</td>\n",
       "      <td>0.999134</td>\n",
       "    </tr>\n",
       "    <tr>\n",
       "      <th>HAI_1_SIR</th>\n",
       "      <td>0.629</td>\n",
       "      <td>1.319</td>\n",
       "      <td>1.051</td>\n",
       "      <td>0.238</td>\n",
       "      <td>0.834</td>\n",
       "      <td>0.358</td>\n",
       "      <td>0.768</td>\n",
       "      <td>1.367</td>\n",
       "      <td>1.287</td>\n",
       "      <td>1.0152</td>\n",
       "      <td>...</td>\n",
       "      <td>1.0152</td>\n",
       "      <td>0.475</td>\n",
       "      <td>0.468</td>\n",
       "      <td>1.0152</td>\n",
       "      <td>0.345</td>\n",
       "      <td>0.33</td>\n",
       "      <td>1.285</td>\n",
       "      <td>0.765</td>\n",
       "      <td>0.603</td>\n",
       "      <td>1.0</td>\n",
       "    </tr>\n",
       "    <tr>\n",
       "      <th>HAI_2_SIR</th>\n",
       "      <td>0.527</td>\n",
       "      <td>0.516</td>\n",
       "      <td>0.962</td>\n",
       "      <td>0.186</td>\n",
       "      <td>0.855</td>\n",
       "      <td>0.096</td>\n",
       "      <td>0.521</td>\n",
       "      <td>0.362</td>\n",
       "      <td>0.708</td>\n",
       "      <td>0.824513</td>\n",
       "      <td>...</td>\n",
       "      <td>0.824513</td>\n",
       "      <td>0.742</td>\n",
       "      <td>0.435</td>\n",
       "      <td>0.824513</td>\n",
       "      <td>0.798</td>\n",
       "      <td>0.48</td>\n",
       "      <td>0.739</td>\n",
       "      <td>1.055</td>\n",
       "      <td>0.671</td>\n",
       "      <td>0.437</td>\n",
       "    </tr>\n",
       "    <tr>\n",
       "      <th>HAI_3_SIR</th>\n",
       "      <td>0.486</td>\n",
       "      <td>1.442</td>\n",
       "      <td>1.352</td>\n",
       "      <td>0.0</td>\n",
       "      <td>0.764</td>\n",
       "      <td>0.537</td>\n",
       "      <td>1.089</td>\n",
       "      <td>0.985</td>\n",
       "      <td>0.894</td>\n",
       "      <td>0.824898</td>\n",
       "      <td>...</td>\n",
       "      <td>0.824898</td>\n",
       "      <td>0.397</td>\n",
       "      <td>1.146</td>\n",
       "      <td>0.824898</td>\n",
       "      <td>0.557</td>\n",
       "      <td>0.308</td>\n",
       "      <td>0.351</td>\n",
       "      <td>0.79</td>\n",
       "      <td>0.824898</td>\n",
       "      <td>0.992</td>\n",
       "    </tr>\n",
       "    <tr>\n",
       "      <th>HAI_5_SIR</th>\n",
       "      <td>1.091</td>\n",
       "      <td>0.597</td>\n",
       "      <td>2.011</td>\n",
       "      <td>0.0</td>\n",
       "      <td>0.585</td>\n",
       "      <td>0.0</td>\n",
       "      <td>1.248</td>\n",
       "      <td>0.937</td>\n",
       "      <td>0.528</td>\n",
       "      <td>1.011789</td>\n",
       "      <td>...</td>\n",
       "      <td>1.011789</td>\n",
       "      <td>1.644</td>\n",
       "      <td>0.614</td>\n",
       "      <td>1.011789</td>\n",
       "      <td>0.625</td>\n",
       "      <td>0.0</td>\n",
       "      <td>0.714</td>\n",
       "      <td>2.884</td>\n",
       "      <td>0.903</td>\n",
       "      <td>0.879</td>\n",
       "    </tr>\n",
       "    <tr>\n",
       "      <th>HAI_6_SIR</th>\n",
       "      <td>0.109</td>\n",
       "      <td>0.066</td>\n",
       "      <td>0.685</td>\n",
       "      <td>0.336</td>\n",
       "      <td>0.44</td>\n",
       "      <td>0.149</td>\n",
       "      <td>0.464</td>\n",
       "      <td>0.289</td>\n",
       "      <td>0.386</td>\n",
       "      <td>0.521833</td>\n",
       "      <td>...</td>\n",
       "      <td>0.521833</td>\n",
       "      <td>1.198</td>\n",
       "      <td>0.586</td>\n",
       "      <td>0.0</td>\n",
       "      <td>0.886</td>\n",
       "      <td>0.231</td>\n",
       "      <td>0.261</td>\n",
       "      <td>0.371</td>\n",
       "      <td>0.151</td>\n",
       "      <td>0.83</td>\n",
       "    </tr>\n",
       "    <tr>\n",
       "      <th>Number of Interns and Residents (FTE)</th>\n",
       "      <td>31.44</td>\n",
       "      <td>123.97</td>\n",
       "      <td>221.14</td>\n",
       "      <td>34.48</td>\n",
       "      <td>69.78</td>\n",
       "      <td>1.93</td>\n",
       "      <td>5.61</td>\n",
       "      <td>76.23</td>\n",
       "      <td>9.58</td>\n",
       "      <td>0.0</td>\n",
       "      <td>...</td>\n",
       "      <td>261.58</td>\n",
       "      <td>126.64</td>\n",
       "      <td>336.72</td>\n",
       "      <td>0.0</td>\n",
       "      <td>754.96</td>\n",
       "      <td>34.1</td>\n",
       "      <td>0.0</td>\n",
       "      <td>0.0</td>\n",
       "      <td>23.65</td>\n",
       "      <td>437.33</td>\n",
       "    </tr>\n",
       "    <tr>\n",
       "      <th>Number of Beds</th>\n",
       "      <td>604.0</td>\n",
       "      <td>363.0</td>\n",
       "      <td>498.0</td>\n",
       "      <td>172.0</td>\n",
       "      <td>370.0</td>\n",
       "      <td>165.0</td>\n",
       "      <td>390.0</td>\n",
       "      <td>643.0</td>\n",
       "      <td>326.0</td>\n",
       "      <td>25.0</td>\n",
       "      <td>...</td>\n",
       "      <td>379.0</td>\n",
       "      <td>301.0</td>\n",
       "      <td>469.0</td>\n",
       "      <td>25.0</td>\n",
       "      <td>445.0</td>\n",
       "      <td>192.0</td>\n",
       "      <td>130.0</td>\n",
       "      <td>139.0</td>\n",
       "      <td>196.0</td>\n",
       "      <td>625.0</td>\n",
       "    </tr>\n",
       "    <tr>\n",
       "      <th>Total Discharges (V + XVIII + XIX + Unknown)</th>\n",
       "      <td>32823.928571</td>\n",
       "      <td>22906.758242</td>\n",
       "      <td>22271.0</td>\n",
       "      <td>7405.288462</td>\n",
       "      <td>17098.846154</td>\n",
       "      <td>13562.156593</td>\n",
       "      <td>23502.39011</td>\n",
       "      <td>30860.0</td>\n",
       "      <td>19068.0</td>\n",
       "      <td>158.434066</td>\n",
       "      <td>...</td>\n",
       "      <td>17253.0</td>\n",
       "      <td>11813.365385</td>\n",
       "      <td>22122.0</td>\n",
       "      <td>879.0</td>\n",
       "      <td>21325.0</td>\n",
       "      <td>10681.263736</td>\n",
       "      <td>6891.0</td>\n",
       "      <td>4536.0</td>\n",
       "      <td>7205.0</td>\n",
       "      <td>22388.337912</td>\n",
       "    </tr>\n",
       "    <tr>\n",
       "      <th>Total Days (V + XVIII + XIX + Unknown) + Total for all Subproviders</th>\n",
       "      <td>207129.478022</td>\n",
       "      <td>126428.379121</td>\n",
       "      <td>118028.0</td>\n",
       "      <td>35116.208791</td>\n",
       "      <td>93744.835165</td>\n",
       "      <td>49580.837912</td>\n",
       "      <td>124909.217033</td>\n",
       "      <td>216579.0</td>\n",
       "      <td>93809.0</td>\n",
       "      <td>25154.917582</td>\n",
       "      <td>...</td>\n",
       "      <td>115793.0</td>\n",
       "      <td>83562.93956</td>\n",
       "      <td>170320.0</td>\n",
       "      <td>2917.0</td>\n",
       "      <td>157253.0</td>\n",
       "      <td>60553.901099</td>\n",
       "      <td>29887.0</td>\n",
       "      <td>19322.0</td>\n",
       "      <td>54088.0</td>\n",
       "      <td>135176.346154</td>\n",
       "    </tr>\n",
       "    <tr>\n",
       "      <th>Hospital Total Days (V + XVIII + XIX + Unknown) For Adults &amp;amp; Peds</th>\n",
       "      <td>126462.472527</td>\n",
       "      <td>89786.991758</td>\n",
       "      <td>78857.0</td>\n",
       "      <td>30164.642857</td>\n",
       "      <td>69105.32967</td>\n",
       "      <td>35250.576923</td>\n",
       "      <td>68715.260989</td>\n",
       "      <td>89645.0</td>\n",
       "      <td>66380.0</td>\n",
       "      <td>525.43956</td>\n",
       "      <td>...</td>\n",
       "      <td>76365.0</td>\n",
       "      <td>54479.258242</td>\n",
       "      <td>83762.0</td>\n",
       "      <td>2351.0</td>\n",
       "      <td>103655.0</td>\n",
       "      <td>33687.293956</td>\n",
       "      <td>23456.0</td>\n",
       "      <td>16177.0</td>\n",
       "      <td>31184.0</td>\n",
       "      <td>91432.5</td>\n",
       "    </tr>\n",
       "    <tr>\n",
       "      <th>Hospital Total Bed Days Available For Adults &amp;amp; Peds</th>\n",
       "      <td>140216.153846</td>\n",
       "      <td>106872.802198</td>\n",
       "      <td>131028.0</td>\n",
       "      <td>53802.403846</td>\n",
       "      <td>117714.505495</td>\n",
       "      <td>45750.343407</td>\n",
       "      <td>101016.758242</td>\n",
       "      <td>127368.0</td>\n",
       "      <td>89304.0</td>\n",
       "      <td>9150.068681</td>\n",
       "      <td>...</td>\n",
       "      <td>97722.0</td>\n",
       "      <td>80154.601648</td>\n",
       "      <td>127368.0</td>\n",
       "      <td>7686.0</td>\n",
       "      <td>106506.0</td>\n",
       "      <td>55868.063187</td>\n",
       "      <td>36600.0</td>\n",
       "      <td>39162.0</td>\n",
       "      <td>64416.0</td>\n",
       "      <td>130798.351648</td>\n",
       "    </tr>\n",
       "    <tr>\n",
       "      <th>Hospital Total Discharges (V + XVIII + XIX + Unknown) For Adults &amp;amp; Peds</th>\n",
       "      <td>32823.928571</td>\n",
       "      <td>22906.758242</td>\n",
       "      <td>22271.0</td>\n",
       "      <td>7405.288462</td>\n",
       "      <td>17098.846154</td>\n",
       "      <td>13562.156593</td>\n",
       "      <td>23502.39011</td>\n",
       "      <td>30860.0</td>\n",
       "      <td>19068.0</td>\n",
       "      <td>158.434066</td>\n",
       "      <td>...</td>\n",
       "      <td>17253.0</td>\n",
       "      <td>11813.365385</td>\n",
       "      <td>22122.0</td>\n",
       "      <td>879.0</td>\n",
       "      <td>21325.0</td>\n",
       "      <td>10681.263736</td>\n",
       "      <td>6891.0</td>\n",
       "      <td>4536.0</td>\n",
       "      <td>7205.0</td>\n",
       "      <td>22388.337912</td>\n",
       "    </tr>\n",
       "    <tr>\n",
       "      <th>negotiated_rates_median</th>\n",
       "      <td>1183.03</td>\n",
       "      <td>1153.145</td>\n",
       "      <td>1013.59</td>\n",
       "      <td>949.3</td>\n",
       "      <td>1205.165</td>\n",
       "      <td>1115.425</td>\n",
       "      <td>1400.0</td>\n",
       "      <td>1337.395</td>\n",
       "      <td>1051.56</td>\n",
       "      <td>1077.88</td>\n",
       "      <td>...</td>\n",
       "      <td>1657.5</td>\n",
       "      <td>1791.2</td>\n",
       "      <td>1562.92</td>\n",
       "      <td>1077.88</td>\n",
       "      <td>1801.15</td>\n",
       "      <td>1077.88</td>\n",
       "      <td>1077.88</td>\n",
       "      <td>963.945</td>\n",
       "      <td>1009.37</td>\n",
       "      <td>1605.64</td>\n",
       "    </tr>\n",
       "    <tr>\n",
       "      <th>state population</th>\n",
       "      <td>3080156</td>\n",
       "      <td>3080156</td>\n",
       "      <td>3080156</td>\n",
       "      <td>11689100</td>\n",
       "      <td>21477737</td>\n",
       "      <td>3080156</td>\n",
       "      <td>3080156</td>\n",
       "      <td>3080156</td>\n",
       "      <td>3080156</td>\n",
       "      <td>3080156</td>\n",
       "      <td>...</td>\n",
       "      <td>39512223</td>\n",
       "      <td>39512223</td>\n",
       "      <td>39512223</td>\n",
       "      <td>3080156</td>\n",
       "      <td>39512223</td>\n",
       "      <td>3080156</td>\n",
       "      <td>3080156</td>\n",
       "      <td>7278717</td>\n",
       "      <td>7278717</td>\n",
       "      <td>7278717</td>\n",
       "    </tr>\n",
       "    <tr>\n",
       "      <th>median salary</th>\n",
       "      <td>63276</td>\n",
       "      <td>63276</td>\n",
       "      <td>63276</td>\n",
       "      <td>58642</td>\n",
       "      <td>59227</td>\n",
       "      <td>63276</td>\n",
       "      <td>63276</td>\n",
       "      <td>63276</td>\n",
       "      <td>63276</td>\n",
       "      <td>63276</td>\n",
       "      <td>...</td>\n",
       "      <td>80440</td>\n",
       "      <td>80440</td>\n",
       "      <td>80440</td>\n",
       "      <td>63276</td>\n",
       "      <td>80440</td>\n",
       "      <td>63276</td>\n",
       "      <td>63276</td>\n",
       "      <td>62055</td>\n",
       "      <td>62055</td>\n",
       "      <td>62055</td>\n",
       "    </tr>\n",
       "    <tr>\n",
       "      <th>total hospitals</th>\n",
       "      <td>31.0</td>\n",
       "      <td>31.0</td>\n",
       "      <td>31.0</td>\n",
       "      <td>147.0</td>\n",
       "      <td>221.0</td>\n",
       "      <td>31.0</td>\n",
       "      <td>31.0</td>\n",
       "      <td>31.0</td>\n",
       "      <td>31.0</td>\n",
       "      <td>31.0</td>\n",
       "      <td>...</td>\n",
       "      <td>336.0</td>\n",
       "      <td>336.0</td>\n",
       "      <td>336.0</td>\n",
       "      <td>31.0</td>\n",
       "      <td>336.0</td>\n",
       "      <td>31.0</td>\n",
       "      <td>31.0</td>\n",
       "      <td>76.0</td>\n",
       "      <td>76.0</td>\n",
       "      <td>76.0</td>\n",
       "    </tr>\n",
       "    <tr>\n",
       "      <th>total beds</th>\n",
       "      <td>5882.0</td>\n",
       "      <td>5882.0</td>\n",
       "      <td>5882.0</td>\n",
       "      <td>27647.0</td>\n",
       "      <td>57018.0</td>\n",
       "      <td>5882.0</td>\n",
       "      <td>5882.0</td>\n",
       "      <td>5882.0</td>\n",
       "      <td>5882.0</td>\n",
       "      <td>5882.0</td>\n",
       "      <td>...</td>\n",
       "      <td>74451.0</td>\n",
       "      <td>74451.0</td>\n",
       "      <td>74451.0</td>\n",
       "      <td>5882.0</td>\n",
       "      <td>74451.0</td>\n",
       "      <td>5882.0</td>\n",
       "      <td>5882.0</td>\n",
       "      <td>13870.0</td>\n",
       "      <td>13870.0</td>\n",
       "      <td>13870.0</td>\n",
       "    </tr>\n",
       "    <tr>\n",
       "      <th>total discharges</th>\n",
       "      <td>285128.0</td>\n",
       "      <td>285128.0</td>\n",
       "      <td>285128.0</td>\n",
       "      <td>1185728.0</td>\n",
       "      <td>2487846.0</td>\n",
       "      <td>285128.0</td>\n",
       "      <td>285128.0</td>\n",
       "      <td>285128.0</td>\n",
       "      <td>285128.0</td>\n",
       "      <td>285128.0</td>\n",
       "      <td>...</td>\n",
       "      <td>2971759.0</td>\n",
       "      <td>2971759.0</td>\n",
       "      <td>2971759.0</td>\n",
       "      <td>285128.0</td>\n",
       "      <td>2971759.0</td>\n",
       "      <td>285128.0</td>\n",
       "      <td>285128.0</td>\n",
       "      <td>600818.0</td>\n",
       "      <td>600818.0</td>\n",
       "      <td>600818.0</td>\n",
       "    </tr>\n",
       "    <tr>\n",
       "      <th>hospitals_per_100kcapita</th>\n",
       "      <td>1.006443</td>\n",
       "      <td>1.006443</td>\n",
       "      <td>1.006443</td>\n",
       "      <td>1.257582</td>\n",
       "      <td>1.028972</td>\n",
       "      <td>1.006443</td>\n",
       "      <td>1.006443</td>\n",
       "      <td>1.006443</td>\n",
       "      <td>1.006443</td>\n",
       "      <td>1.006443</td>\n",
       "      <td>...</td>\n",
       "      <td>0.85037</td>\n",
       "      <td>0.85037</td>\n",
       "      <td>0.85037</td>\n",
       "      <td>1.006443</td>\n",
       "      <td>0.85037</td>\n",
       "      <td>1.006443</td>\n",
       "      <td>1.006443</td>\n",
       "      <td>1.04414</td>\n",
       "      <td>1.04414</td>\n",
       "      <td>1.04414</td>\n",
       "    </tr>\n",
       "    <tr>\n",
       "      <th>beds_per_100kcapita</th>\n",
       "      <td>190.964354</td>\n",
       "      <td>190.964354</td>\n",
       "      <td>190.964354</td>\n",
       "      <td>236.519493</td>\n",
       "      <td>265.474896</td>\n",
       "      <td>190.964354</td>\n",
       "      <td>190.964354</td>\n",
       "      <td>190.964354</td>\n",
       "      <td>190.964354</td>\n",
       "      <td>190.964354</td>\n",
       "      <td>...</td>\n",
       "      <td>188.425237</td>\n",
       "      <td>188.425237</td>\n",
       "      <td>188.425237</td>\n",
       "      <td>190.964354</td>\n",
       "      <td>188.425237</td>\n",
       "      <td>190.964354</td>\n",
       "      <td>190.964354</td>\n",
       "      <td>190.555561</td>\n",
       "      <td>190.555561</td>\n",
       "      <td>190.555561</td>\n",
       "    </tr>\n",
       "    <tr>\n",
       "      <th>discharges_per_100kcapita</th>\n",
       "      <td>9256.93374</td>\n",
       "      <td>9256.93374</td>\n",
       "      <td>9256.93374</td>\n",
       "      <td>10143.87763</td>\n",
       "      <td>11583.37119</td>\n",
       "      <td>9256.93374</td>\n",
       "      <td>9256.93374</td>\n",
       "      <td>9256.93374</td>\n",
       "      <td>9256.93374</td>\n",
       "      <td>9256.93374</td>\n",
       "      <td>...</td>\n",
       "      <td>7521.11315</td>\n",
       "      <td>7521.11315</td>\n",
       "      <td>7521.11315</td>\n",
       "      <td>9256.93374</td>\n",
       "      <td>7521.11315</td>\n",
       "      <td>9256.93374</td>\n",
       "      <td>9256.93374</td>\n",
       "      <td>8254.449239</td>\n",
       "      <td>8254.449239</td>\n",
       "      <td>8254.449239</td>\n",
       "    </tr>\n",
       "    <tr>\n",
       "      <th>hospital_ratio</th>\n",
       "      <td>0.032258</td>\n",
       "      <td>0.032258</td>\n",
       "      <td>0.032258</td>\n",
       "      <td>0.006803</td>\n",
       "      <td>0.004525</td>\n",
       "      <td>0.032258</td>\n",
       "      <td>0.032258</td>\n",
       "      <td>0.032258</td>\n",
       "      <td>0.032258</td>\n",
       "      <td>0.032258</td>\n",
       "      <td>...</td>\n",
       "      <td>0.002976</td>\n",
       "      <td>0.002976</td>\n",
       "      <td>0.002976</td>\n",
       "      <td>0.032258</td>\n",
       "      <td>0.002976</td>\n",
       "      <td>0.032258</td>\n",
       "      <td>0.032258</td>\n",
       "      <td>0.013158</td>\n",
       "      <td>0.013158</td>\n",
       "      <td>0.013158</td>\n",
       "    </tr>\n",
       "    <tr>\n",
       "      <th>bed_ratio</th>\n",
       "      <td>0.102686</td>\n",
       "      <td>0.061714</td>\n",
       "      <td>0.084665</td>\n",
       "      <td>0.006221</td>\n",
       "      <td>0.006489</td>\n",
       "      <td>0.028052</td>\n",
       "      <td>0.066304</td>\n",
       "      <td>0.109317</td>\n",
       "      <td>0.055423</td>\n",
       "      <td>0.00425</td>\n",
       "      <td>...</td>\n",
       "      <td>0.005091</td>\n",
       "      <td>0.004043</td>\n",
       "      <td>0.006299</td>\n",
       "      <td>0.00425</td>\n",
       "      <td>0.005977</td>\n",
       "      <td>0.032642</td>\n",
       "      <td>0.022101</td>\n",
       "      <td>0.010022</td>\n",
       "      <td>0.014131</td>\n",
       "      <td>0.045061</td>\n",
       "    </tr>\n",
       "    <tr>\n",
       "      <th>discharge_ratio</th>\n",
       "      <td>0.726444</td>\n",
       "      <td>0.443409</td>\n",
       "      <td>0.413947</td>\n",
       "      <td>0.029616</td>\n",
       "      <td>0.037681</td>\n",
       "      <td>0.17389</td>\n",
       "      <td>0.438081</td>\n",
       "      <td>0.759585</td>\n",
       "      <td>0.329007</td>\n",
       "      <td>0.088223</td>\n",
       "      <td>...</td>\n",
       "      <td>0.038964</td>\n",
       "      <td>0.028119</td>\n",
       "      <td>0.057313</td>\n",
       "      <td>0.01023</td>\n",
       "      <td>0.052916</td>\n",
       "      <td>0.212374</td>\n",
       "      <td>0.10482</td>\n",
       "      <td>0.032159</td>\n",
       "      <td>0.090024</td>\n",
       "      <td>0.224987</td>\n",
       "    </tr>\n",
       "  </tbody>\n",
       "</table>\n",
       "<p>38 rows × 30 columns</p>\n",
       "</div>"
      ],
      "text/plain": [
       "                                                               0   \\\n",
       "ccn                                                        290003   \n",
       "State Code                                                     NV   \n",
       "Rural Versus Urban                                              U   \n",
       "PSI_03                                                    0.13266   \n",
       "PSI_06                                                   0.184709   \n",
       "PSI_08                                                   0.114236   \n",
       "PSI_09                                                    1.56662   \n",
       "PSI_10                                                   0.650623   \n",
       "PSI_11                                                   9.818181   \n",
       "PSI_12                                                   2.791577   \n",
       "PSI_13                                                   6.132305   \n",
       "PSI_14                                                   0.655391   \n",
       "PSI_15                                                   0.629422   \n",
       "PSI_90                                                   0.959044   \n",
       "HAI_1_SIR                                                   0.629   \n",
       "HAI_2_SIR                                                   0.527   \n",
       "HAI_3_SIR                                                   0.486   \n",
       "HAI_5_SIR                                                   1.091   \n",
       "HAI_6_SIR                                                   0.109   \n",
       "Number of Interns and Residents (FTE)                       31.44   \n",
       "Number of Beds                                              604.0   \n",
       "Total Discharges (V + XVIII + XIX + Unknown)         32823.928571   \n",
       "Total Days (V + XVIII + XIX + Unknown) + Total ...  207129.478022   \n",
       "Hospital Total Days (V + XVIII + XIX + Unknown)...  126462.472527   \n",
       "Hospital Total Bed Days Available For Adults &a...  140216.153846   \n",
       "Hospital Total Discharges (V + XVIII + XIX + Un...   32823.928571   \n",
       "negotiated_rates_median                                   1183.03   \n",
       "state population                                          3080156   \n",
       "median salary                                               63276   \n",
       "total hospitals                                              31.0   \n",
       "total beds                                                 5882.0   \n",
       "total discharges                                         285128.0   \n",
       "hospitals_per_100kcapita                                 1.006443   \n",
       "beds_per_100kcapita                                    190.964354   \n",
       "discharges_per_100kcapita                              9256.93374   \n",
       "hospital_ratio                                           0.032258   \n",
       "bed_ratio                                                0.102686   \n",
       "discharge_ratio                                          0.726444   \n",
       "\n",
       "                                                               1           2   \\\n",
       "ccn                                                        290039      290007   \n",
       "State Code                                                     NV          NV   \n",
       "Rural Versus Urban                                              U           U   \n",
       "PSI_03                                                   0.282079    0.043938   \n",
       "PSI_06                                                   0.198471    0.163886   \n",
       "PSI_08                                                   0.107206    0.051103   \n",
       "PSI_09                                                   2.010451    2.250363   \n",
       "PSI_10                                                   0.816337     1.45264   \n",
       "PSI_11                                                    15.5631    3.166647   \n",
       "PSI_12                                                   2.026761    3.318041   \n",
       "PSI_13                                                   3.864715    4.568572   \n",
       "PSI_14                                                   0.868659    0.686519   \n",
       "PSI_15                                                   0.576689    0.753838   \n",
       "PSI_90                                                   1.022741    0.814248   \n",
       "HAI_1_SIR                                                   1.319       1.051   \n",
       "HAI_2_SIR                                                   0.516       0.962   \n",
       "HAI_3_SIR                                                   1.442       1.352   \n",
       "HAI_5_SIR                                                   0.597       2.011   \n",
       "HAI_6_SIR                                                   0.066       0.685   \n",
       "Number of Interns and Residents (FTE)                      123.97      221.14   \n",
       "Number of Beds                                              363.0       498.0   \n",
       "Total Discharges (V + XVIII + XIX + Unknown)         22906.758242     22271.0   \n",
       "Total Days (V + XVIII + XIX + Unknown) + Total ...  126428.379121    118028.0   \n",
       "Hospital Total Days (V + XVIII + XIX + Unknown)...   89786.991758     78857.0   \n",
       "Hospital Total Bed Days Available For Adults &a...  106872.802198    131028.0   \n",
       "Hospital Total Discharges (V + XVIII + XIX + Un...   22906.758242     22271.0   \n",
       "negotiated_rates_median                                  1153.145     1013.59   \n",
       "state population                                          3080156     3080156   \n",
       "median salary                                               63276       63276   \n",
       "total hospitals                                              31.0        31.0   \n",
       "total beds                                                 5882.0      5882.0   \n",
       "total discharges                                         285128.0    285128.0   \n",
       "hospitals_per_100kcapita                                 1.006443    1.006443   \n",
       "beds_per_100kcapita                                    190.964354  190.964354   \n",
       "discharges_per_100kcapita                              9256.93374  9256.93374   \n",
       "hospital_ratio                                           0.032258    0.032258   \n",
       "bed_ratio                                                0.061714    0.084665   \n",
       "discharge_ratio                                          0.443409    0.413947   \n",
       "\n",
       "                                                              3   \\\n",
       "ccn                                                       360144   \n",
       "State Code                                                    OH   \n",
       "Rural Versus Urban                                             U   \n",
       "PSI_03                                                  0.068078   \n",
       "PSI_06                                                  0.240431   \n",
       "PSI_08                                                  0.060184   \n",
       "PSI_09                                                  2.240059   \n",
       "PSI_10                                                  0.885788   \n",
       "PSI_11                                                  4.068711   \n",
       "PSI_12                                                  4.103549   \n",
       "PSI_13                                                   4.28675   \n",
       "PSI_14                                                  0.761356   \n",
       "PSI_15                                                  0.895983   \n",
       "PSI_90                                                   0.91012   \n",
       "HAI_1_SIR                                                  0.238   \n",
       "HAI_2_SIR                                                  0.186   \n",
       "HAI_3_SIR                                                    0.0   \n",
       "HAI_5_SIR                                                    0.0   \n",
       "HAI_6_SIR                                                  0.336   \n",
       "Number of Interns and Residents (FTE)                      34.48   \n",
       "Number of Beds                                             172.0   \n",
       "Total Discharges (V + XVIII + XIX + Unknown)         7405.288462   \n",
       "Total Days (V + XVIII + XIX + Unknown) + Total ...  35116.208791   \n",
       "Hospital Total Days (V + XVIII + XIX + Unknown)...  30164.642857   \n",
       "Hospital Total Bed Days Available For Adults &a...  53802.403846   \n",
       "Hospital Total Discharges (V + XVIII + XIX + Un...   7405.288462   \n",
       "negotiated_rates_median                                    949.3   \n",
       "state population                                        11689100   \n",
       "median salary                                              58642   \n",
       "total hospitals                                            147.0   \n",
       "total beds                                               27647.0   \n",
       "total discharges                                       1185728.0   \n",
       "hospitals_per_100kcapita                                1.257582   \n",
       "beds_per_100kcapita                                   236.519493   \n",
       "discharges_per_100kcapita                            10143.87763   \n",
       "hospital_ratio                                          0.006803   \n",
       "bed_ratio                                               0.006221   \n",
       "discharge_ratio                                         0.029616   \n",
       "\n",
       "                                                               4   \\\n",
       "ccn                                                        100168   \n",
       "State Code                                                     FL   \n",
       "Rural Versus Urban                                              U   \n",
       "PSI_03                                                   2.915921   \n",
       "PSI_06                                                   0.197895   \n",
       "PSI_08                                                   0.062805   \n",
       "PSI_09                                                   3.227263   \n",
       "PSI_10                                                   3.064857   \n",
       "PSI_11                                                  10.679905   \n",
       "PSI_12                                                    5.43422   \n",
       "PSI_13                                                    5.74758   \n",
       "PSI_14                                                   0.801355   \n",
       "PSI_15                                                   1.438312   \n",
       "PSI_90                                                   1.893632   \n",
       "HAI_1_SIR                                                   0.834   \n",
       "HAI_2_SIR                                                   0.855   \n",
       "HAI_3_SIR                                                   0.764   \n",
       "HAI_5_SIR                                                   0.585   \n",
       "HAI_6_SIR                                                    0.44   \n",
       "Number of Interns and Residents (FTE)                       69.78   \n",
       "Number of Beds                                              370.0   \n",
       "Total Discharges (V + XVIII + XIX + Unknown)         17098.846154   \n",
       "Total Days (V + XVIII + XIX + Unknown) + Total ...   93744.835165   \n",
       "Hospital Total Days (V + XVIII + XIX + Unknown)...    69105.32967   \n",
       "Hospital Total Bed Days Available For Adults &a...  117714.505495   \n",
       "Hospital Total Discharges (V + XVIII + XIX + Un...   17098.846154   \n",
       "negotiated_rates_median                                  1205.165   \n",
       "state population                                         21477737   \n",
       "median salary                                               59227   \n",
       "total hospitals                                             221.0   \n",
       "total beds                                                57018.0   \n",
       "total discharges                                        2487846.0   \n",
       "hospitals_per_100kcapita                                 1.028972   \n",
       "beds_per_100kcapita                                    265.474896   \n",
       "discharges_per_100kcapita                             11583.37119   \n",
       "hospital_ratio                                           0.004525   \n",
       "bed_ratio                                                0.006489   \n",
       "discharge_ratio                                          0.037681   \n",
       "\n",
       "                                                              5   \\\n",
       "ccn                                                       290057   \n",
       "State Code                                                    NV   \n",
       "Rural Versus Urban                                             U   \n",
       "PSI_03                                                  0.074956   \n",
       "PSI_06                                                  0.163136   \n",
       "PSI_08                                                  0.222998   \n",
       "PSI_09                                                  2.176499   \n",
       "PSI_10                                                  0.895404   \n",
       "PSI_11                                                  4.533674   \n",
       "PSI_12                                                  2.598976   \n",
       "PSI_13                                                  3.821906   \n",
       "PSI_14                                                  0.744814   \n",
       "PSI_15                                                  0.834424   \n",
       "PSI_90                                                  0.808072   \n",
       "HAI_1_SIR                                                  0.358   \n",
       "HAI_2_SIR                                                  0.096   \n",
       "HAI_3_SIR                                                  0.537   \n",
       "HAI_5_SIR                                                    0.0   \n",
       "HAI_6_SIR                                                  0.149   \n",
       "Number of Interns and Residents (FTE)                       1.93   \n",
       "Number of Beds                                             165.0   \n",
       "Total Discharges (V + XVIII + XIX + Unknown)        13562.156593   \n",
       "Total Days (V + XVIII + XIX + Unknown) + Total ...  49580.837912   \n",
       "Hospital Total Days (V + XVIII + XIX + Unknown)...  35250.576923   \n",
       "Hospital Total Bed Days Available For Adults &a...  45750.343407   \n",
       "Hospital Total Discharges (V + XVIII + XIX + Un...  13562.156593   \n",
       "negotiated_rates_median                                 1115.425   \n",
       "state population                                         3080156   \n",
       "median salary                                              63276   \n",
       "total hospitals                                             31.0   \n",
       "total beds                                                5882.0   \n",
       "total discharges                                        285128.0   \n",
       "hospitals_per_100kcapita                                1.006443   \n",
       "beds_per_100kcapita                                   190.964354   \n",
       "discharges_per_100kcapita                             9256.93374   \n",
       "hospital_ratio                                          0.032258   \n",
       "bed_ratio                                               0.028052   \n",
       "discharge_ratio                                          0.17389   \n",
       "\n",
       "                                                               6           7   \\\n",
       "ccn                                                        290041      290001   \n",
       "State Code                                                     NV          NV   \n",
       "Rural Versus Urban                                              U           U   \n",
       "PSI_03                                                   1.146223    0.282847   \n",
       "PSI_06                                                    0.15583    0.187537   \n",
       "PSI_08                                                    0.12566    0.150786   \n",
       "PSI_09                                                   2.154881    3.227598   \n",
       "PSI_10                                                   1.071948    1.005791   \n",
       "PSI_11                                                  13.599067   10.477727   \n",
       "PSI_12                                                   4.616084    2.609405   \n",
       "PSI_13                                                   6.246616    4.270774   \n",
       "PSI_14                                                   0.717896    0.942778   \n",
       "PSI_15                                                   0.765595    1.896841   \n",
       "PSI_90                                                   1.403642    1.003407   \n",
       "HAI_1_SIR                                                   0.768       1.367   \n",
       "HAI_2_SIR                                                   0.521       0.362   \n",
       "HAI_3_SIR                                                   1.089       0.985   \n",
       "HAI_5_SIR                                                   1.248       0.937   \n",
       "HAI_6_SIR                                                   0.464       0.289   \n",
       "Number of Interns and Residents (FTE)                        5.61       76.23   \n",
       "Number of Beds                                              390.0       643.0   \n",
       "Total Discharges (V + XVIII + XIX + Unknown)          23502.39011     30860.0   \n",
       "Total Days (V + XVIII + XIX + Unknown) + Total ...  124909.217033    216579.0   \n",
       "Hospital Total Days (V + XVIII + XIX + Unknown)...   68715.260989     89645.0   \n",
       "Hospital Total Bed Days Available For Adults &a...  101016.758242    127368.0   \n",
       "Hospital Total Discharges (V + XVIII + XIX + Un...    23502.39011     30860.0   \n",
       "negotiated_rates_median                                    1400.0    1337.395   \n",
       "state population                                          3080156     3080156   \n",
       "median salary                                               63276       63276   \n",
       "total hospitals                                              31.0        31.0   \n",
       "total beds                                                 5882.0      5882.0   \n",
       "total discharges                                         285128.0    285128.0   \n",
       "hospitals_per_100kcapita                                 1.006443    1.006443   \n",
       "beds_per_100kcapita                                    190.964354  190.964354   \n",
       "discharges_per_100kcapita                              9256.93374  9256.93374   \n",
       "hospital_ratio                                           0.032258    0.032258   \n",
       "bed_ratio                                                0.066304    0.109317   \n",
       "discharge_ratio                                          0.438081    0.759585   \n",
       "\n",
       "                                                            8             9   \\\n",
       "ccn                                                     290045        291309   \n",
       "State Code                                                  NV            NV   \n",
       "Rural Versus Urban                                           U             U   \n",
       "PSI_03                                                0.918804      0.673386   \n",
       "PSI_06                                                0.194649       0.18566   \n",
       "PSI_08                                                0.091998       0.07372   \n",
       "PSI_09                                                2.028281       2.35954   \n",
       "PSI_10                                                1.264776      0.915519   \n",
       "PSI_11                                                 6.69282       6.71386   \n",
       "PSI_12                                                3.888625      3.469364   \n",
       "PSI_13                                                4.024955      4.169867   \n",
       "PSI_14                                                0.683802      0.799425   \n",
       "PSI_15                                                1.267523       1.07074   \n",
       "PSI_90                                                1.062427      0.988199   \n",
       "HAI_1_SIR                                                1.287        1.0152   \n",
       "HAI_2_SIR                                                0.708      0.824513   \n",
       "HAI_3_SIR                                                0.894      0.824898   \n",
       "HAI_5_SIR                                                0.528      1.011789   \n",
       "HAI_6_SIR                                                0.386      0.521833   \n",
       "Number of Interns and Residents (FTE)                     9.58           0.0   \n",
       "Number of Beds                                           326.0          25.0   \n",
       "Total Discharges (V + XVIII + XIX + Unknown)           19068.0    158.434066   \n",
       "Total Days (V + XVIII + XIX + Unknown) + Total ...     93809.0  25154.917582   \n",
       "Hospital Total Days (V + XVIII + XIX + Unknown)...     66380.0     525.43956   \n",
       "Hospital Total Bed Days Available For Adults &a...     89304.0   9150.068681   \n",
       "Hospital Total Discharges (V + XVIII + XIX + Un...     19068.0    158.434066   \n",
       "negotiated_rates_median                                1051.56       1077.88   \n",
       "state population                                       3080156       3080156   \n",
       "median salary                                            63276         63276   \n",
       "total hospitals                                           31.0          31.0   \n",
       "total beds                                              5882.0        5882.0   \n",
       "total discharges                                      285128.0      285128.0   \n",
       "hospitals_per_100kcapita                              1.006443      1.006443   \n",
       "beds_per_100kcapita                                 190.964354    190.964354   \n",
       "discharges_per_100kcapita                           9256.93374    9256.93374   \n",
       "hospital_ratio                                        0.032258      0.032258   \n",
       "bed_ratio                                             0.055423       0.00425   \n",
       "discharge_ratio                                       0.329007      0.088223   \n",
       "\n",
       "                                                    ...          20  \\\n",
       "ccn                                                 ...       53302   \n",
       "State Code                                          ...          CA   \n",
       "Rural Versus Urban                                  ...           U   \n",
       "PSI_03                                              ...    0.673386   \n",
       "PSI_06                                              ...     0.18566   \n",
       "PSI_08                                              ...     0.07372   \n",
       "PSI_09                                              ...     2.35954   \n",
       "PSI_10                                              ...    0.915519   \n",
       "PSI_11                                              ...     6.71386   \n",
       "PSI_12                                              ...    3.469364   \n",
       "PSI_13                                              ...    4.169867   \n",
       "PSI_14                                              ...    0.799425   \n",
       "PSI_15                                              ...     1.07074   \n",
       "PSI_90                                              ...    0.988199   \n",
       "HAI_1_SIR                                           ...      1.0152   \n",
       "HAI_2_SIR                                           ...    0.824513   \n",
       "HAI_3_SIR                                           ...    0.824898   \n",
       "HAI_5_SIR                                           ...    1.011789   \n",
       "HAI_6_SIR                                           ...    0.521833   \n",
       "Number of Interns and Residents (FTE)               ...      261.58   \n",
       "Number of Beds                                      ...       379.0   \n",
       "Total Discharges (V + XVIII + XIX + Unknown)        ...     17253.0   \n",
       "Total Days (V + XVIII + XIX + Unknown) + Total ...  ...    115793.0   \n",
       "Hospital Total Days (V + XVIII + XIX + Unknown)...  ...     76365.0   \n",
       "Hospital Total Bed Days Available For Adults &a...  ...     97722.0   \n",
       "Hospital Total Discharges (V + XVIII + XIX + Un...  ...     17253.0   \n",
       "negotiated_rates_median                             ...      1657.5   \n",
       "state population                                    ...    39512223   \n",
       "median salary                                       ...       80440   \n",
       "total hospitals                                     ...       336.0   \n",
       "total beds                                          ...     74451.0   \n",
       "total discharges                                    ...   2971759.0   \n",
       "hospitals_per_100kcapita                            ...     0.85037   \n",
       "beds_per_100kcapita                                 ...  188.425237   \n",
       "discharges_per_100kcapita                           ...  7521.11315   \n",
       "hospital_ratio                                      ...    0.002976   \n",
       "bed_ratio                                           ...    0.005091   \n",
       "discharge_ratio                                     ...    0.038964   \n",
       "\n",
       "                                                              21          22  \\\n",
       "ccn                                                        50696       50327   \n",
       "State Code                                                    CA          CA   \n",
       "Rural Versus Urban                                             R           U   \n",
       "PSI_03                                                  0.534145    0.187307   \n",
       "PSI_06                                                  0.214127    0.140356   \n",
       "PSI_08                                                  0.031959    0.038902   \n",
       "PSI_09                                                  2.323224    1.513829   \n",
       "PSI_10                                                  1.458424    0.678503   \n",
       "PSI_11                                                 12.947214    2.683724   \n",
       "PSI_12                                                  3.347925    2.780193   \n",
       "PSI_13                                                  3.853477    2.944751   \n",
       "PSI_14                                                  0.918568     0.79115   \n",
       "PSI_15                                                   0.93748    0.779016   \n",
       "PSI_90                                                  1.116546    0.597099   \n",
       "HAI_1_SIR                                                  0.475       0.468   \n",
       "HAI_2_SIR                                                  0.742       0.435   \n",
       "HAI_3_SIR                                                  0.397       1.146   \n",
       "HAI_5_SIR                                                  1.644       0.614   \n",
       "HAI_6_SIR                                                  1.198       0.586   \n",
       "Number of Interns and Residents (FTE)                     126.64      336.72   \n",
       "Number of Beds                                             301.0       469.0   \n",
       "Total Discharges (V + XVIII + XIX + Unknown)        11813.365385     22122.0   \n",
       "Total Days (V + XVIII + XIX + Unknown) + Total ...   83562.93956    170320.0   \n",
       "Hospital Total Days (V + XVIII + XIX + Unknown)...  54479.258242     83762.0   \n",
       "Hospital Total Bed Days Available For Adults &a...  80154.601648    127368.0   \n",
       "Hospital Total Discharges (V + XVIII + XIX + Un...  11813.365385     22122.0   \n",
       "negotiated_rates_median                                   1791.2     1562.92   \n",
       "state population                                        39512223    39512223   \n",
       "median salary                                              80440       80440   \n",
       "total hospitals                                            336.0       336.0   \n",
       "total beds                                               74451.0     74451.0   \n",
       "total discharges                                       2971759.0   2971759.0   \n",
       "hospitals_per_100kcapita                                 0.85037     0.85037   \n",
       "beds_per_100kcapita                                   188.425237  188.425237   \n",
       "discharges_per_100kcapita                             7521.11315  7521.11315   \n",
       "hospital_ratio                                          0.002976    0.002976   \n",
       "bed_ratio                                               0.004043    0.006299   \n",
       "discharge_ratio                                         0.028119    0.057313   \n",
       "\n",
       "                                                            23          24  \\\n",
       "ccn                                                     291307       50262   \n",
       "State Code                                                  NV          CA   \n",
       "Rural Versus Urban                                           R           U   \n",
       "PSI_03                                                0.673386    0.246186   \n",
       "PSI_06                                                 0.18566     0.18062   \n",
       "PSI_08                                                 0.07372    0.026712   \n",
       "PSI_09                                                 2.35954    1.938577   \n",
       "PSI_10                                                0.915519    0.425951   \n",
       "PSI_11                                                 6.71386    2.560221   \n",
       "PSI_12                                                3.469364    4.810422   \n",
       "PSI_13                                                4.169867    4.076848   \n",
       "PSI_14                                                0.799425    0.693138   \n",
       "PSI_15                                                 1.07074    0.735767   \n",
       "PSI_90                                                0.988199    0.738086   \n",
       "HAI_1_SIR                                               1.0152       0.345   \n",
       "HAI_2_SIR                                             0.824513       0.798   \n",
       "HAI_3_SIR                                             0.824898       0.557   \n",
       "HAI_5_SIR                                             1.011789       0.625   \n",
       "HAI_6_SIR                                                  0.0       0.886   \n",
       "Number of Interns and Residents (FTE)                      0.0      754.96   \n",
       "Number of Beds                                            25.0       445.0   \n",
       "Total Discharges (V + XVIII + XIX + Unknown)             879.0     21325.0   \n",
       "Total Days (V + XVIII + XIX + Unknown) + Total ...      2917.0    157253.0   \n",
       "Hospital Total Days (V + XVIII + XIX + Unknown)...      2351.0    103655.0   \n",
       "Hospital Total Bed Days Available For Adults &a...      7686.0    106506.0   \n",
       "Hospital Total Discharges (V + XVIII + XIX + Un...       879.0     21325.0   \n",
       "negotiated_rates_median                                1077.88     1801.15   \n",
       "state population                                       3080156    39512223   \n",
       "median salary                                            63276       80440   \n",
       "total hospitals                                           31.0       336.0   \n",
       "total beds                                              5882.0     74451.0   \n",
       "total discharges                                      285128.0   2971759.0   \n",
       "hospitals_per_100kcapita                              1.006443     0.85037   \n",
       "beds_per_100kcapita                                 190.964354  188.425237   \n",
       "discharges_per_100kcapita                           9256.93374  7521.11315   \n",
       "hospital_ratio                                        0.032258    0.002976   \n",
       "bed_ratio                                              0.00425    0.005977   \n",
       "discharge_ratio                                        0.01023    0.052916   \n",
       "\n",
       "                                                              25          26  \\\n",
       "ccn                                                       290047      290053   \n",
       "State Code                                                    NV          NV   \n",
       "Rural Versus Urban                                             U           U   \n",
       "PSI_03                                                  0.046598    0.094816   \n",
       "PSI_06                                                  0.187831     0.27158   \n",
       "PSI_08                                                  0.117924    0.062847   \n",
       "PSI_09                                                  2.268576    2.258337   \n",
       "PSI_10                                                  0.825515    1.425347   \n",
       "PSI_11                                                  6.138879   14.847776   \n",
       "PSI_12                                                  2.892045    3.458438   \n",
       "PSI_13                                                  3.788807    4.309712   \n",
       "PSI_14                                                  0.696102    0.747176   \n",
       "PSI_15                                                   1.15144    1.268169   \n",
       "PSI_90                                                  0.820855    1.172312   \n",
       "HAI_1_SIR                                                   0.33       1.285   \n",
       "HAI_2_SIR                                                   0.48       0.739   \n",
       "HAI_3_SIR                                                  0.308       0.351   \n",
       "HAI_5_SIR                                                    0.0       0.714   \n",
       "HAI_6_SIR                                                  0.231       0.261   \n",
       "Number of Interns and Residents (FTE)                       34.1         0.0   \n",
       "Number of Beds                                             192.0       130.0   \n",
       "Total Discharges (V + XVIII + XIX + Unknown)        10681.263736      6891.0   \n",
       "Total Days (V + XVIII + XIX + Unknown) + Total ...  60553.901099     29887.0   \n",
       "Hospital Total Days (V + XVIII + XIX + Unknown)...  33687.293956     23456.0   \n",
       "Hospital Total Bed Days Available For Adults &a...  55868.063187     36600.0   \n",
       "Hospital Total Discharges (V + XVIII + XIX + Un...  10681.263736      6891.0   \n",
       "negotiated_rates_median                                  1077.88     1077.88   \n",
       "state population                                         3080156     3080156   \n",
       "median salary                                              63276       63276   \n",
       "total hospitals                                             31.0        31.0   \n",
       "total beds                                                5882.0      5882.0   \n",
       "total discharges                                        285128.0    285128.0   \n",
       "hospitals_per_100kcapita                                1.006443    1.006443   \n",
       "beds_per_100kcapita                                   190.964354  190.964354   \n",
       "discharges_per_100kcapita                             9256.93374  9256.93374   \n",
       "hospital_ratio                                          0.032258    0.032258   \n",
       "bed_ratio                                               0.032642    0.022101   \n",
       "discharge_ratio                                         0.212374     0.10482   \n",
       "\n",
       "                                                             27           28  \\\n",
       "ccn                                                       30101        30055   \n",
       "State Code                                                   AZ           AZ   \n",
       "Rural Versus Urban                                            U            U   \n",
       "PSI_03                                                 0.885255     0.541904   \n",
       "PSI_06                                                 0.231708     0.163146   \n",
       "PSI_08                                                 0.062829     0.058412   \n",
       "PSI_09                                                 2.607781     2.812555   \n",
       "PSI_10                                                 0.888194     0.829584   \n",
       "PSI_11                                                 4.845885     3.909145   \n",
       "PSI_12                                                 3.592918     3.642878   \n",
       "PSI_13                                                 3.800489     6.449355   \n",
       "PSI_14                                                 0.741921       0.7571   \n",
       "PSI_15                                                 0.888855     1.562905   \n",
       "PSI_90                                                 1.000105     1.059862   \n",
       "HAI_1_SIR                                                 0.765        0.603   \n",
       "HAI_2_SIR                                                 1.055        0.671   \n",
       "HAI_3_SIR                                                  0.79     0.824898   \n",
       "HAI_5_SIR                                                 2.884        0.903   \n",
       "HAI_6_SIR                                                 0.371        0.151   \n",
       "Number of Interns and Residents (FTE)                       0.0        23.65   \n",
       "Number of Beds                                            139.0        196.0   \n",
       "Total Discharges (V + XVIII + XIX + Unknown)             4536.0       7205.0   \n",
       "Total Days (V + XVIII + XIX + Unknown) + Total ...      19322.0      54088.0   \n",
       "Hospital Total Days (V + XVIII + XIX + Unknown)...      16177.0      31184.0   \n",
       "Hospital Total Bed Days Available For Adults &a...      39162.0      64416.0   \n",
       "Hospital Total Discharges (V + XVIII + XIX + Un...       4536.0       7205.0   \n",
       "negotiated_rates_median                                 963.945      1009.37   \n",
       "state population                                        7278717      7278717   \n",
       "median salary                                             62055        62055   \n",
       "total hospitals                                            76.0         76.0   \n",
       "total beds                                              13870.0      13870.0   \n",
       "total discharges                                       600818.0     600818.0   \n",
       "hospitals_per_100kcapita                                1.04414      1.04414   \n",
       "beds_per_100kcapita                                  190.555561   190.555561   \n",
       "discharges_per_100kcapita                           8254.449239  8254.449239   \n",
       "hospital_ratio                                         0.013158     0.013158   \n",
       "bed_ratio                                              0.010022     0.014131   \n",
       "discharge_ratio                                        0.032159     0.090024   \n",
       "\n",
       "                                                               29  \n",
       "ccn                                                         30064  \n",
       "State Code                                                     AZ  \n",
       "Rural Versus Urban                                              R  \n",
       "PSI_03                                                   0.217443  \n",
       "PSI_06                                                   0.198214  \n",
       "PSI_08                                                   0.038474  \n",
       "PSI_09                                                   1.757525  \n",
       "PSI_10                                                   2.049576  \n",
       "PSI_11                                                   5.807239  \n",
       "PSI_12                                                   4.137095  \n",
       "PSI_13                                                   5.415985  \n",
       "PSI_14                                                   0.803806  \n",
       "PSI_15                                                    1.04606  \n",
       "PSI_90                                                   0.999134  \n",
       "HAI_1_SIR                                                     1.0  \n",
       "HAI_2_SIR                                                   0.437  \n",
       "HAI_3_SIR                                                   0.992  \n",
       "HAI_5_SIR                                                   0.879  \n",
       "HAI_6_SIR                                                    0.83  \n",
       "Number of Interns and Residents (FTE)                      437.33  \n",
       "Number of Beds                                              625.0  \n",
       "Total Discharges (V + XVIII + XIX + Unknown)         22388.337912  \n",
       "Total Days (V + XVIII + XIX + Unknown) + Total ...  135176.346154  \n",
       "Hospital Total Days (V + XVIII + XIX + Unknown)...        91432.5  \n",
       "Hospital Total Bed Days Available For Adults &a...  130798.351648  \n",
       "Hospital Total Discharges (V + XVIII + XIX + Un...   22388.337912  \n",
       "negotiated_rates_median                                   1605.64  \n",
       "state population                                          7278717  \n",
       "median salary                                               62055  \n",
       "total hospitals                                              76.0  \n",
       "total beds                                                13870.0  \n",
       "total discharges                                         600818.0  \n",
       "hospitals_per_100kcapita                                  1.04414  \n",
       "beds_per_100kcapita                                    190.555561  \n",
       "discharges_per_100kcapita                             8254.449239  \n",
       "hospital_ratio                                           0.013158  \n",
       "bed_ratio                                                0.045061  \n",
       "discharge_ratio                                          0.224987  \n",
       "\n",
       "[38 rows x 30 columns]"
      ]
     },
     "execution_count": 246,
     "metadata": {},
     "output_type": "execute_result"
    }
   ],
   "source": [
    "procedure = 'CPT58150'\n",
    "df_dict[procedure].head(30).T"
   ]
  },
  {
   "attachments": {},
   "cell_type": "markdown",
   "metadata": {},
   "source": [
    "We are going to create a simple pipeline using a linear regressor first, we must first drop the labeled columns and categorical columns. We are going to create a dummy regressor as a baseline to evaluate it."
   ]
  },
  {
   "cell_type": "code",
   "execution_count": 247,
   "metadata": {},
   "outputs": [],
   "source": [
    "X_train, X_test, y_train, y_test = train_test_split(df_dict[procedure].drop(columns='negotiated_rates_median'), \n",
    "                                                    df_dict[procedure]['negotiated_rates_median'], test_size=0.25, \n",
    "                                                    random_state=47)"
   ]
  },
  {
   "attachments": {},
   "cell_type": "markdown",
   "metadata": {},
   "source": [
    "We will also drop out categorical features for now."
   ]
  },
  {
   "cell_type": "code",
   "execution_count": 248,
   "metadata": {},
   "outputs": [
    {
     "data": {
      "text/plain": [
       "((324, 34), (109, 34))"
      ]
     },
     "execution_count": 248,
     "metadata": {},
     "output_type": "execute_result"
    }
   ],
   "source": [
    "names_list = ['ccn', 'State Code','Rural Versus Urban']\n",
    "names_train = X_train[names_list]\n",
    "names_test = X_test[names_list]\n",
    "X_train.drop(columns=names_list, inplace=True)\n",
    "X_test.drop(columns=names_list, inplace=True)\n",
    "X_train.shape, X_test.shape"
   ]
  },
  {
   "attachments": {},
   "cell_type": "markdown",
   "metadata": {},
   "source": [
    "Let us check the dtypes for all of these columns."
   ]
  },
  {
   "cell_type": "code",
   "execution_count": 249,
   "metadata": {},
   "outputs": [
    {
     "data": {
      "text/plain": [
       "PSI_03                                                                         float64\n",
       "PSI_06                                                                         float64\n",
       "PSI_08                                                                         float64\n",
       "PSI_09                                                                         float64\n",
       "PSI_10                                                                         float64\n",
       "PSI_11                                                                         float64\n",
       "PSI_12                                                                         float64\n",
       "PSI_13                                                                         float64\n",
       "PSI_14                                                                         float64\n",
       "PSI_15                                                                         float64\n",
       "PSI_90                                                                         float64\n",
       "HAI_1_SIR                                                                      float64\n",
       "HAI_2_SIR                                                                      float64\n",
       "HAI_3_SIR                                                                      float64\n",
       "HAI_5_SIR                                                                      float64\n",
       "HAI_6_SIR                                                                      float64\n",
       "Number of Interns and Residents (FTE)                                          float64\n",
       "Number of Beds                                                                 float64\n",
       "Total Discharges (V + XVIII + XIX + Unknown)                                   float64\n",
       "Total Days (V + XVIII + XIX + Unknown) + Total for all Subproviders            float64\n",
       "Hospital Total Days (V + XVIII + XIX + Unknown) For Adults &amp; Peds          float64\n",
       "Hospital Total Bed Days Available For Adults &amp; Peds                        float64\n",
       "Hospital Total Discharges (V + XVIII + XIX + Unknown) For Adults &amp; Peds    float64\n",
       "state population                                                                 int64\n",
       "median salary                                                                    int32\n",
       "total hospitals                                                                float64\n",
       "total beds                                                                     float64\n",
       "total discharges                                                               float64\n",
       "hospitals_per_100kcapita                                                       float64\n",
       "beds_per_100kcapita                                                            float64\n",
       "discharges_per_100kcapita                                                      float64\n",
       "hospital_ratio                                                                 float64\n",
       "bed_ratio                                                                      float64\n",
       "discharge_ratio                                                                float64\n",
       "dtype: object"
      ]
     },
     "execution_count": 249,
     "metadata": {},
     "output_type": "execute_result"
    }
   ],
   "source": [
    "X_train.dtypes"
   ]
  },
  {
   "cell_type": "code",
   "execution_count": 250,
   "metadata": {},
   "outputs": [
    {
     "data": {
      "text/plain": [
       "PSI_03                                                                         float64\n",
       "PSI_06                                                                         float64\n",
       "PSI_08                                                                         float64\n",
       "PSI_09                                                                         float64\n",
       "PSI_10                                                                         float64\n",
       "PSI_11                                                                         float64\n",
       "PSI_12                                                                         float64\n",
       "PSI_13                                                                         float64\n",
       "PSI_14                                                                         float64\n",
       "PSI_15                                                                         float64\n",
       "PSI_90                                                                         float64\n",
       "HAI_1_SIR                                                                      float64\n",
       "HAI_2_SIR                                                                      float64\n",
       "HAI_3_SIR                                                                      float64\n",
       "HAI_5_SIR                                                                      float64\n",
       "HAI_6_SIR                                                                      float64\n",
       "Number of Interns and Residents (FTE)                                          float64\n",
       "Number of Beds                                                                 float64\n",
       "Total Discharges (V + XVIII + XIX + Unknown)                                   float64\n",
       "Total Days (V + XVIII + XIX + Unknown) + Total for all Subproviders            float64\n",
       "Hospital Total Days (V + XVIII + XIX + Unknown) For Adults &amp; Peds          float64\n",
       "Hospital Total Bed Days Available For Adults &amp; Peds                        float64\n",
       "Hospital Total Discharges (V + XVIII + XIX + Unknown) For Adults &amp; Peds    float64\n",
       "state population                                                                 int64\n",
       "median salary                                                                    int32\n",
       "total hospitals                                                                float64\n",
       "total beds                                                                     float64\n",
       "total discharges                                                               float64\n",
       "hospitals_per_100kcapita                                                       float64\n",
       "beds_per_100kcapita                                                            float64\n",
       "discharges_per_100kcapita                                                      float64\n",
       "hospital_ratio                                                                 float64\n",
       "bed_ratio                                                                      float64\n",
       "discharge_ratio                                                                float64\n",
       "dtype: object"
      ]
     },
     "execution_count": 250,
     "metadata": {},
     "output_type": "execute_result"
    }
   ],
   "source": [
    "X_test.dtypes"
   ]
  },
  {
   "attachments": {},
   "cell_type": "markdown",
   "metadata": {},
   "source": [
    "Let us check the mean value of prices in this dataset and use this to create our dummy regressor."
   ]
  },
  {
   "cell_type": "code",
   "execution_count": 251,
   "metadata": {},
   "outputs": [
    {
     "data": {
      "text/plain": [
       "1338.1227777777776"
      ]
     },
     "execution_count": 251,
     "metadata": {},
     "output_type": "execute_result"
    }
   ],
   "source": [
    "train_mean = y_train.mean()\n",
    "train_mean"
   ]
  },
  {
   "attachments": {},
   "cell_type": "markdown",
   "metadata": {},
   "source": [
    "Let us see how a dummy regressor does by just predicting the mean for all values. This will help us establish a baseline for any model we create moving forward."
   ]
  },
  {
   "cell_type": "code",
   "execution_count": 252,
   "metadata": {},
   "outputs": [
    {
     "data": {
      "text/plain": [
       "array([[1338.12277778]])"
      ]
     },
     "execution_count": 252,
     "metadata": {},
     "output_type": "execute_result"
    }
   ],
   "source": [
    "dumb_reg = DummyRegressor(strategy='mean')\n",
    "dumb_reg.fit(X_train, y_train)\n",
    "dumb_reg.constant_"
   ]
  },
  {
   "attachments": {},
   "cell_type": "markdown",
   "metadata": {},
   "source": [
    "Let us double check our dummy regressor. We can do this by applying the predict function on features of ones or our actual training set. Regardless of the input, we should get the mean as the output for each row."
   ]
  },
  {
   "cell_type": "code",
   "execution_count": 253,
   "metadata": {},
   "outputs": [
    {
     "data": {
      "text/plain": [
       "array([1338.12277778, 1338.12277778, 1338.12277778, 1338.12277778,\n",
       "       1338.12277778])"
      ]
     },
     "execution_count": 253,
     "metadata": {},
     "output_type": "execute_result"
    }
   ],
   "source": [
    "y_tr_pred_ = train_mean * np.ones(len(y_train))\n",
    "y_tr_pred_[:5]"
   ]
  },
  {
   "cell_type": "code",
   "execution_count": 254,
   "metadata": {},
   "outputs": [
    {
     "data": {
      "text/plain": [
       "array([1338.12277778, 1338.12277778, 1338.12277778, 1338.12277778,\n",
       "       1338.12277778])"
      ]
     },
     "execution_count": 254,
     "metadata": {},
     "output_type": "execute_result"
    }
   ],
   "source": [
    "y_tr_pred = dumb_reg.predict(X_train)\n",
    "y_tr_pred[:5]"
   ]
  },
  {
   "attachments": {},
   "cell_type": "markdown",
   "metadata": {},
   "source": [
    "Looks like it is working as intended. Now let us get some useful evaluation metrics from our dummy regressor. $R^2$ , mean absolute error and mean squared error are metrics we can pull from the sklearn library. Let us apply this to our dummy regressor and use this as a baseline for the other regressors we build."
   ]
  },
  {
   "cell_type": "code",
   "execution_count": 255,
   "metadata": {},
   "outputs": [
    {
     "data": {
      "text/plain": [
       "(0.0, -0.024729062685986403)"
      ]
     },
     "execution_count": 255,
     "metadata": {},
     "output_type": "execute_result"
    }
   ],
   "source": [
    "y_te_pred = train_mean * np.ones(len(y_test))\n",
    "r2_score(y_train, y_tr_pred), r2_score(y_test, y_te_pred)"
   ]
  },
  {
   "attachments": {},
   "cell_type": "markdown",
   "metadata": {},
   "source": [
    "Exactly as expected, if you use the average value as your prediction, you get an $R^2$ of zero _on our training set_.\n",
    "\n",
    "Generally, you can expect performance on a test set to be slightly worse than on the training set. As you are getting an $R^2$ of zero on the training set, hence the negative value."
   ]
  },
  {
   "cell_type": "code",
   "execution_count": 256,
   "metadata": {},
   "outputs": [
    {
     "data": {
      "text/plain": [
       "(254.42693758573387, 288.94308868501525)"
      ]
     },
     "execution_count": 256,
     "metadata": {},
     "output_type": "execute_result"
    }
   ],
   "source": [
    "mean_absolute_error(y_train, y_tr_pred), mean_absolute_error(y_test, y_te_pred)"
   ]
  },
  {
   "attachments": {},
   "cell_type": "markdown",
   "metadata": {},
   "source": [
    "Mean absolute error is arguably the most intuitive of all the metrics, this essentially tells you that, on average, you might expect to be off by around $281 if you guessed the price of this specific procedure based on the average of known procedure values."
   ]
  },
  {
   "cell_type": "code",
   "execution_count": 257,
   "metadata": {},
   "outputs": [
    {
     "data": {
      "text/plain": [
       "(107981.07990077161, 123597.89904917886)"
      ]
     },
     "execution_count": 257,
     "metadata": {},
     "output_type": "execute_result"
    }
   ],
   "source": [
    "mean_squared_error(y_train, y_tr_pred), mean_squared_error(y_test, y_te_pred)"
   ]
  },
  {
   "cell_type": "code",
   "execution_count": 258,
   "metadata": {},
   "outputs": [
    {
     "name": "stdout",
     "output_type": "stream",
     "text": [
      "Model Performance\n",
      "Average Error: 288.9431 dollars.\n",
      "Accuracy = 75.50%.\n"
     ]
    },
    {
     "data": {
      "text/plain": [
       "75.50482457281252"
      ]
     },
     "execution_count": 258,
     "metadata": {},
     "output_type": "execute_result"
    }
   ],
   "source": [
    "def evaluate(model, test_features, test_labels):\n",
    "    predictions = model.predict(test_features)\n",
    "    errors = abs(predictions - test_labels)\n",
    "    mape = 100 * np.mean(errors / test_labels)\n",
    "    accuracy = 100 - mape\n",
    "    print('Model Performance')\n",
    "    print('Average Error: {:0.4f} dollars.'.format(np.mean(errors)))\n",
    "    print('Accuracy = {:0.2f}%.'.format(accuracy))\n",
    "    return accuracy\n",
    "\n",
    "evaluate(dumb_reg,X_test, y_test)"
   ]
  },
  {
   "attachments": {},
   "cell_type": "markdown",
   "metadata": {},
   "source": [
    "So here, you get a slightly worse MSE on the test set than you did on the train set. This a metric that is useful in machine learning as a possible loss function."
   ]
  },
  {
   "attachments": {},
   "cell_type": "markdown",
   "metadata": {},
   "source": [
    "Looks like they all match. Now we will fill all missing values with median terms. In prior notebooks we already filled missing values for all features depending on the feature. This is to make sure we have no missing values."
   ]
  },
  {
   "cell_type": "code",
   "execution_count": 259,
   "metadata": {},
   "outputs": [],
   "source": [
    "X_defaults_median = X_train.median()\n",
    "X_tr = X_train.fillna(X_defaults_median)\n",
    "X_te = X_test.fillna(X_defaults_median)"
   ]
  },
  {
   "attachments": {},
   "cell_type": "markdown",
   "metadata": {},
   "source": [
    "As you have features measured in many different units, with numbers that vary by orders of magnitude, start off by scaling them to put them all on a consistent scale. The [StandardScaler](https://scikit-learn.org/stable/modules/generated/sklearn.preprocessing.StandardScaler.html) scales each feature to zero mean and unit variance."
   ]
  },
  {
   "cell_type": "code",
   "execution_count": 260,
   "metadata": {},
   "outputs": [],
   "source": [
    "scaler = StandardScaler()\n",
    "scaler.fit(X_tr)\n",
    "X_tr_scaled = scaler.transform(X_tr)\n",
    "X_te_scaled = scaler.transform(X_te)"
   ]
  },
  {
   "attachments": {},
   "cell_type": "markdown",
   "metadata": {},
   "source": [
    "Now lets train the data on our new scaled features."
   ]
  },
  {
   "cell_type": "code",
   "execution_count": 261,
   "metadata": {},
   "outputs": [],
   "source": [
    "lm = LinearRegression().fit(X_tr_scaled, y_train)"
   ]
  },
  {
   "attachments": {},
   "cell_type": "markdown",
   "metadata": {},
   "source": [
    "Lets make predictions to evaluate our model."
   ]
  },
  {
   "cell_type": "code",
   "execution_count": 262,
   "metadata": {},
   "outputs": [],
   "source": [
    "y_tr_pred = lm.predict(X_tr_scaled)\n",
    "y_te_pred = lm.predict(X_te_scaled)"
   ]
  },
  {
   "attachments": {},
   "cell_type": "markdown",
   "metadata": {},
   "source": [
    "Now lets apply the previous metrics and compare those values to our dummy regressor."
   ]
  },
  {
   "cell_type": "code",
   "execution_count": 263,
   "metadata": {},
   "outputs": [
    {
     "data": {
      "text/plain": [
       "(0.17161222798359277, -0.053889683028830015)"
      ]
     },
     "execution_count": 263,
     "metadata": {},
     "output_type": "execute_result"
    }
   ],
   "source": [
    "median_r2 = r2_score(y_train, y_tr_pred), r2_score(y_test, y_te_pred)\n",
    "median_r2"
   ]
  },
  {
   "attachments": {},
   "cell_type": "markdown",
   "metadata": {},
   "source": [
    "Remember we had 0 of our variance explained by our dummy regressor. This makes a sense because it always outputs the same value. However, here we have 18.5% and 1% of our variance explained by our linear regressor. Better than our dummy regressor, but not great."
   ]
  },
  {
   "cell_type": "code",
   "execution_count": 264,
   "metadata": {},
   "outputs": [
    {
     "data": {
      "text/plain": [
       "(226.58726889094444, 278.2395740118596)"
      ]
     },
     "execution_count": 264,
     "metadata": {},
     "output_type": "execute_result"
    }
   ],
   "source": [
    "median_mae = mean_absolute_error(y_train, y_tr_pred), mean_absolute_error(y_test, y_te_pred)\n",
    "median_mae"
   ]
  },
  {
   "attachments": {},
   "cell_type": "markdown",
   "metadata": {},
   "source": [
    "With the dummy regressor we were expected to be off by $281 if you guessed the price of this specific procedure based on the average of known procedure values. Here we are expected to be off by $262. This is better than our dummy regressor. Let us see we can do better."
   ]
  },
  {
   "cell_type": "code",
   "execution_count": 265,
   "metadata": {},
   "outputs": [
    {
     "data": {
      "text/plain": [
       "(89450.20619892584, 127115.11305294589)"
      ]
     },
     "execution_count": 265,
     "metadata": {},
     "output_type": "execute_result"
    }
   ],
   "source": [
    "median_mse = mean_squared_error(y_train, y_tr_pred), mean_squared_error(y_test, y_te_pred)\n",
    "median_mse"
   ]
  },
  {
   "attachments": {},
   "cell_type": "markdown",
   "metadata": {},
   "source": [
    "Since our linear pipeline did not work great, given the $R^2$ lets try another method. Let us trying using selectKbest features before applying a linear regression. `SelectKBest` which, as you might guess, selects the k best features.  `f_regression` is just the [score function](https://scikit-learn.org/stable/modules/generated/sklearn.feature_selection.f_regression.html#sklearn.feature_selection.f_regression) you're using because you're performing regression."
   ]
  },
  {
   "cell_type": "code",
   "execution_count": 266,
   "metadata": {},
   "outputs": [
    {
     "name": "stdout",
     "output_type": "stream",
     "text": [
      "Model Performance\n",
      "Average Error: 278.2396 dollars.\n",
      "Accuracy = 75.86%.\n"
     ]
    },
    {
     "data": {
      "text/plain": [
       "75.86177960121285"
      ]
     },
     "execution_count": 266,
     "metadata": {},
     "output_type": "execute_result"
    }
   ],
   "source": [
    "evaluate(lm,X_te_scaled, y_test)"
   ]
  },
  {
   "cell_type": "code",
   "execution_count": 267,
   "metadata": {},
   "outputs": [],
   "source": [
    "pipe = make_pipeline(\n",
    "    StandardScaler(),\n",
    "    SelectKBest(score_func=f_regression),\n",
    "    LinearRegression()\n",
    ")"
   ]
  },
  {
   "cell_type": "code",
   "execution_count": 268,
   "metadata": {},
   "outputs": [
    {
     "data": {
      "text/html": [
       "<style>#sk-container-id-13 {color: black;background-color: white;}#sk-container-id-13 pre{padding: 0;}#sk-container-id-13 div.sk-toggleable {background-color: white;}#sk-container-id-13 label.sk-toggleable__label {cursor: pointer;display: block;width: 100%;margin-bottom: 0;padding: 0.3em;box-sizing: border-box;text-align: center;}#sk-container-id-13 label.sk-toggleable__label-arrow:before {content: \"▸\";float: left;margin-right: 0.25em;color: #696969;}#sk-container-id-13 label.sk-toggleable__label-arrow:hover:before {color: black;}#sk-container-id-13 div.sk-estimator:hover label.sk-toggleable__label-arrow:before {color: black;}#sk-container-id-13 div.sk-toggleable__content {max-height: 0;max-width: 0;overflow: hidden;text-align: left;background-color: #f0f8ff;}#sk-container-id-13 div.sk-toggleable__content pre {margin: 0.2em;color: black;border-radius: 0.25em;background-color: #f0f8ff;}#sk-container-id-13 input.sk-toggleable__control:checked~div.sk-toggleable__content {max-height: 200px;max-width: 100%;overflow: auto;}#sk-container-id-13 input.sk-toggleable__control:checked~label.sk-toggleable__label-arrow:before {content: \"▾\";}#sk-container-id-13 div.sk-estimator input.sk-toggleable__control:checked~label.sk-toggleable__label {background-color: #d4ebff;}#sk-container-id-13 div.sk-label input.sk-toggleable__control:checked~label.sk-toggleable__label {background-color: #d4ebff;}#sk-container-id-13 input.sk-hidden--visually {border: 0;clip: rect(1px 1px 1px 1px);clip: rect(1px, 1px, 1px, 1px);height: 1px;margin: -1px;overflow: hidden;padding: 0;position: absolute;width: 1px;}#sk-container-id-13 div.sk-estimator {font-family: monospace;background-color: #f0f8ff;border: 1px dotted black;border-radius: 0.25em;box-sizing: border-box;margin-bottom: 0.5em;}#sk-container-id-13 div.sk-estimator:hover {background-color: #d4ebff;}#sk-container-id-13 div.sk-parallel-item::after {content: \"\";width: 100%;border-bottom: 1px solid gray;flex-grow: 1;}#sk-container-id-13 div.sk-label:hover label.sk-toggleable__label {background-color: #d4ebff;}#sk-container-id-13 div.sk-serial::before {content: \"\";position: absolute;border-left: 1px solid gray;box-sizing: border-box;top: 0;bottom: 0;left: 50%;z-index: 0;}#sk-container-id-13 div.sk-serial {display: flex;flex-direction: column;align-items: center;background-color: white;padding-right: 0.2em;padding-left: 0.2em;position: relative;}#sk-container-id-13 div.sk-item {position: relative;z-index: 1;}#sk-container-id-13 div.sk-parallel {display: flex;align-items: stretch;justify-content: center;background-color: white;position: relative;}#sk-container-id-13 div.sk-item::before, #sk-container-id-13 div.sk-parallel-item::before {content: \"\";position: absolute;border-left: 1px solid gray;box-sizing: border-box;top: 0;bottom: 0;left: 50%;z-index: -1;}#sk-container-id-13 div.sk-parallel-item {display: flex;flex-direction: column;z-index: 1;position: relative;background-color: white;}#sk-container-id-13 div.sk-parallel-item:first-child::after {align-self: flex-end;width: 50%;}#sk-container-id-13 div.sk-parallel-item:last-child::after {align-self: flex-start;width: 50%;}#sk-container-id-13 div.sk-parallel-item:only-child::after {width: 0;}#sk-container-id-13 div.sk-dashed-wrapped {border: 1px dashed gray;margin: 0 0.4em 0.5em 0.4em;box-sizing: border-box;padding-bottom: 0.4em;background-color: white;}#sk-container-id-13 div.sk-label label {font-family: monospace;font-weight: bold;display: inline-block;line-height: 1.2em;}#sk-container-id-13 div.sk-label-container {text-align: center;}#sk-container-id-13 div.sk-container {/* jupyter's `normalize.less` sets `[hidden] { display: none; }` but bootstrap.min.css set `[hidden] { display: none !important; }` so we also need the `!important` here to be able to override the default hidden behavior on the sphinx rendered scikit-learn.org. See: https://github.com/scikit-learn/scikit-learn/issues/21755 */display: inline-block !important;position: relative;}#sk-container-id-13 div.sk-text-repr-fallback {display: none;}</style><div id=\"sk-container-id-13\" class=\"sk-top-container\"><div class=\"sk-text-repr-fallback\"><pre>Pipeline(steps=[(&#x27;standardscaler&#x27;, StandardScaler()),\n",
       "                (&#x27;selectkbest&#x27;,\n",
       "                 SelectKBest(score_func=&lt;function f_regression at 0x000001B9B07E4040&gt;)),\n",
       "                (&#x27;linearregression&#x27;, LinearRegression())])</pre><b>In a Jupyter environment, please rerun this cell to show the HTML representation or trust the notebook. <br />On GitHub, the HTML representation is unable to render, please try loading this page with nbviewer.org.</b></div><div class=\"sk-container\" hidden><div class=\"sk-item sk-dashed-wrapped\"><div class=\"sk-label-container\"><div class=\"sk-label sk-toggleable\"><input class=\"sk-toggleable__control sk-hidden--visually\" id=\"sk-estimator-id-53\" type=\"checkbox\" ><label for=\"sk-estimator-id-53\" class=\"sk-toggleable__label sk-toggleable__label-arrow\">Pipeline</label><div class=\"sk-toggleable__content\"><pre>Pipeline(steps=[(&#x27;standardscaler&#x27;, StandardScaler()),\n",
       "                (&#x27;selectkbest&#x27;,\n",
       "                 SelectKBest(score_func=&lt;function f_regression at 0x000001B9B07E4040&gt;)),\n",
       "                (&#x27;linearregression&#x27;, LinearRegression())])</pre></div></div></div><div class=\"sk-serial\"><div class=\"sk-item\"><div class=\"sk-estimator sk-toggleable\"><input class=\"sk-toggleable__control sk-hidden--visually\" id=\"sk-estimator-id-54\" type=\"checkbox\" ><label for=\"sk-estimator-id-54\" class=\"sk-toggleable__label sk-toggleable__label-arrow\">StandardScaler</label><div class=\"sk-toggleable__content\"><pre>StandardScaler()</pre></div></div></div><div class=\"sk-item\"><div class=\"sk-estimator sk-toggleable\"><input class=\"sk-toggleable__control sk-hidden--visually\" id=\"sk-estimator-id-55\" type=\"checkbox\" ><label for=\"sk-estimator-id-55\" class=\"sk-toggleable__label sk-toggleable__label-arrow\">SelectKBest</label><div class=\"sk-toggleable__content\"><pre>SelectKBest(score_func=&lt;function f_regression at 0x000001B9B07E4040&gt;)</pre></div></div></div><div class=\"sk-item\"><div class=\"sk-estimator sk-toggleable\"><input class=\"sk-toggleable__control sk-hidden--visually\" id=\"sk-estimator-id-56\" type=\"checkbox\" ><label for=\"sk-estimator-id-56\" class=\"sk-toggleable__label sk-toggleable__label-arrow\">LinearRegression</label><div class=\"sk-toggleable__content\"><pre>LinearRegression()</pre></div></div></div></div></div></div></div>"
      ],
      "text/plain": [
       "Pipeline(steps=[('standardscaler', StandardScaler()),\n",
       "                ('selectkbest',\n",
       "                 SelectKBest(score_func=<function f_regression at 0x000001B9B07E4040>)),\n",
       "                ('linearregression', LinearRegression())])"
      ]
     },
     "execution_count": 268,
     "metadata": {},
     "output_type": "execute_result"
    }
   ],
   "source": [
    "pipe.fit(X_train, y_train)"
   ]
  },
  {
   "cell_type": "code",
   "execution_count": 269,
   "metadata": {},
   "outputs": [],
   "source": [
    "y_tr_pred = pipe.predict(X_train)\n",
    "y_te_pred = pipe.predict(X_test)"
   ]
  },
  {
   "cell_type": "code",
   "execution_count": 270,
   "metadata": {},
   "outputs": [
    {
     "data": {
      "text/plain": [
       "(0.12991831184457114, -0.02166168069282781)"
      ]
     },
     "execution_count": 270,
     "metadata": {},
     "output_type": "execute_result"
    }
   ],
   "source": [
    "r2_score(y_train, y_tr_pred), r2_score(y_test, y_te_pred)"
   ]
  },
  {
   "cell_type": "code",
   "execution_count": 271,
   "metadata": {},
   "outputs": [
    {
     "data": {
      "text/plain": [
       "(233.91627649186765, 275.5628238132261)"
      ]
     },
     "execution_count": 271,
     "metadata": {},
     "output_type": "execute_result"
    }
   ],
   "source": [
    "mean_absolute_error(y_train, y_tr_pred), mean_absolute_error(y_test, y_te_pred)"
   ]
  },
  {
   "cell_type": "code",
   "execution_count": 272,
   "metadata": {},
   "outputs": [
    {
     "name": "stdout",
     "output_type": "stream",
     "text": [
      "Model Performance\n",
      "Average Error: 275.5628 dollars.\n",
      "Accuracy = 76.41%.\n"
     ]
    },
    {
     "data": {
      "text/plain": [
       "76.40815505251537"
      ]
     },
     "execution_count": 272,
     "metadata": {},
     "output_type": "execute_result"
    }
   ],
   "source": [
    "evaluate(pipe,X_test, y_test)"
   ]
  },
  {
   "attachments": {},
   "cell_type": "markdown",
   "metadata": {},
   "source": [
    "Looks like this made things worse. The default k selected is 10, lets increase the number to 15."
   ]
  },
  {
   "cell_type": "code",
   "execution_count": 273,
   "metadata": {},
   "outputs": [],
   "source": [
    "pipe15 = make_pipeline(\n",
    "    StandardScaler(),\n",
    "    SelectKBest(score_func=f_regression, k=15),\n",
    "    LinearRegression()\n",
    ")"
   ]
  },
  {
   "cell_type": "code",
   "execution_count": 274,
   "metadata": {},
   "outputs": [
    {
     "data": {
      "text/html": [
       "<style>#sk-container-id-14 {color: black;background-color: white;}#sk-container-id-14 pre{padding: 0;}#sk-container-id-14 div.sk-toggleable {background-color: white;}#sk-container-id-14 label.sk-toggleable__label {cursor: pointer;display: block;width: 100%;margin-bottom: 0;padding: 0.3em;box-sizing: border-box;text-align: center;}#sk-container-id-14 label.sk-toggleable__label-arrow:before {content: \"▸\";float: left;margin-right: 0.25em;color: #696969;}#sk-container-id-14 label.sk-toggleable__label-arrow:hover:before {color: black;}#sk-container-id-14 div.sk-estimator:hover label.sk-toggleable__label-arrow:before {color: black;}#sk-container-id-14 div.sk-toggleable__content {max-height: 0;max-width: 0;overflow: hidden;text-align: left;background-color: #f0f8ff;}#sk-container-id-14 div.sk-toggleable__content pre {margin: 0.2em;color: black;border-radius: 0.25em;background-color: #f0f8ff;}#sk-container-id-14 input.sk-toggleable__control:checked~div.sk-toggleable__content {max-height: 200px;max-width: 100%;overflow: auto;}#sk-container-id-14 input.sk-toggleable__control:checked~label.sk-toggleable__label-arrow:before {content: \"▾\";}#sk-container-id-14 div.sk-estimator input.sk-toggleable__control:checked~label.sk-toggleable__label {background-color: #d4ebff;}#sk-container-id-14 div.sk-label input.sk-toggleable__control:checked~label.sk-toggleable__label {background-color: #d4ebff;}#sk-container-id-14 input.sk-hidden--visually {border: 0;clip: rect(1px 1px 1px 1px);clip: rect(1px, 1px, 1px, 1px);height: 1px;margin: -1px;overflow: hidden;padding: 0;position: absolute;width: 1px;}#sk-container-id-14 div.sk-estimator {font-family: monospace;background-color: #f0f8ff;border: 1px dotted black;border-radius: 0.25em;box-sizing: border-box;margin-bottom: 0.5em;}#sk-container-id-14 div.sk-estimator:hover {background-color: #d4ebff;}#sk-container-id-14 div.sk-parallel-item::after {content: \"\";width: 100%;border-bottom: 1px solid gray;flex-grow: 1;}#sk-container-id-14 div.sk-label:hover label.sk-toggleable__label {background-color: #d4ebff;}#sk-container-id-14 div.sk-serial::before {content: \"\";position: absolute;border-left: 1px solid gray;box-sizing: border-box;top: 0;bottom: 0;left: 50%;z-index: 0;}#sk-container-id-14 div.sk-serial {display: flex;flex-direction: column;align-items: center;background-color: white;padding-right: 0.2em;padding-left: 0.2em;position: relative;}#sk-container-id-14 div.sk-item {position: relative;z-index: 1;}#sk-container-id-14 div.sk-parallel {display: flex;align-items: stretch;justify-content: center;background-color: white;position: relative;}#sk-container-id-14 div.sk-item::before, #sk-container-id-14 div.sk-parallel-item::before {content: \"\";position: absolute;border-left: 1px solid gray;box-sizing: border-box;top: 0;bottom: 0;left: 50%;z-index: -1;}#sk-container-id-14 div.sk-parallel-item {display: flex;flex-direction: column;z-index: 1;position: relative;background-color: white;}#sk-container-id-14 div.sk-parallel-item:first-child::after {align-self: flex-end;width: 50%;}#sk-container-id-14 div.sk-parallel-item:last-child::after {align-self: flex-start;width: 50%;}#sk-container-id-14 div.sk-parallel-item:only-child::after {width: 0;}#sk-container-id-14 div.sk-dashed-wrapped {border: 1px dashed gray;margin: 0 0.4em 0.5em 0.4em;box-sizing: border-box;padding-bottom: 0.4em;background-color: white;}#sk-container-id-14 div.sk-label label {font-family: monospace;font-weight: bold;display: inline-block;line-height: 1.2em;}#sk-container-id-14 div.sk-label-container {text-align: center;}#sk-container-id-14 div.sk-container {/* jupyter's `normalize.less` sets `[hidden] { display: none; }` but bootstrap.min.css set `[hidden] { display: none !important; }` so we also need the `!important` here to be able to override the default hidden behavior on the sphinx rendered scikit-learn.org. See: https://github.com/scikit-learn/scikit-learn/issues/21755 */display: inline-block !important;position: relative;}#sk-container-id-14 div.sk-text-repr-fallback {display: none;}</style><div id=\"sk-container-id-14\" class=\"sk-top-container\"><div class=\"sk-text-repr-fallback\"><pre>Pipeline(steps=[(&#x27;standardscaler&#x27;, StandardScaler()),\n",
       "                (&#x27;selectkbest&#x27;,\n",
       "                 SelectKBest(k=15,\n",
       "                             score_func=&lt;function f_regression at 0x000001B9B07E4040&gt;)),\n",
       "                (&#x27;linearregression&#x27;, LinearRegression())])</pre><b>In a Jupyter environment, please rerun this cell to show the HTML representation or trust the notebook. <br />On GitHub, the HTML representation is unable to render, please try loading this page with nbviewer.org.</b></div><div class=\"sk-container\" hidden><div class=\"sk-item sk-dashed-wrapped\"><div class=\"sk-label-container\"><div class=\"sk-label sk-toggleable\"><input class=\"sk-toggleable__control sk-hidden--visually\" id=\"sk-estimator-id-57\" type=\"checkbox\" ><label for=\"sk-estimator-id-57\" class=\"sk-toggleable__label sk-toggleable__label-arrow\">Pipeline</label><div class=\"sk-toggleable__content\"><pre>Pipeline(steps=[(&#x27;standardscaler&#x27;, StandardScaler()),\n",
       "                (&#x27;selectkbest&#x27;,\n",
       "                 SelectKBest(k=15,\n",
       "                             score_func=&lt;function f_regression at 0x000001B9B07E4040&gt;)),\n",
       "                (&#x27;linearregression&#x27;, LinearRegression())])</pre></div></div></div><div class=\"sk-serial\"><div class=\"sk-item\"><div class=\"sk-estimator sk-toggleable\"><input class=\"sk-toggleable__control sk-hidden--visually\" id=\"sk-estimator-id-58\" type=\"checkbox\" ><label for=\"sk-estimator-id-58\" class=\"sk-toggleable__label sk-toggleable__label-arrow\">StandardScaler</label><div class=\"sk-toggleable__content\"><pre>StandardScaler()</pre></div></div></div><div class=\"sk-item\"><div class=\"sk-estimator sk-toggleable\"><input class=\"sk-toggleable__control sk-hidden--visually\" id=\"sk-estimator-id-59\" type=\"checkbox\" ><label for=\"sk-estimator-id-59\" class=\"sk-toggleable__label sk-toggleable__label-arrow\">SelectKBest</label><div class=\"sk-toggleable__content\"><pre>SelectKBest(k=15, score_func=&lt;function f_regression at 0x000001B9B07E4040&gt;)</pre></div></div></div><div class=\"sk-item\"><div class=\"sk-estimator sk-toggleable\"><input class=\"sk-toggleable__control sk-hidden--visually\" id=\"sk-estimator-id-60\" type=\"checkbox\" ><label for=\"sk-estimator-id-60\" class=\"sk-toggleable__label sk-toggleable__label-arrow\">LinearRegression</label><div class=\"sk-toggleable__content\"><pre>LinearRegression()</pre></div></div></div></div></div></div></div>"
      ],
      "text/plain": [
       "Pipeline(steps=[('standardscaler', StandardScaler()),\n",
       "                ('selectkbest',\n",
       "                 SelectKBest(k=15,\n",
       "                             score_func=<function f_regression at 0x000001B9B07E4040>)),\n",
       "                ('linearregression', LinearRegression())])"
      ]
     },
     "execution_count": 274,
     "metadata": {},
     "output_type": "execute_result"
    }
   ],
   "source": [
    "pipe15.fit(X_train, y_train)"
   ]
  },
  {
   "cell_type": "code",
   "execution_count": 275,
   "metadata": {},
   "outputs": [],
   "source": [
    "y_tr_pred = pipe15.predict(X_train)\n",
    "y_te_pred = pipe15.predict(X_test)"
   ]
  },
  {
   "cell_type": "code",
   "execution_count": 276,
   "metadata": {},
   "outputs": [
    {
     "data": {
      "text/plain": [
       "(0.14570357389113353, -0.03392873004682717)"
      ]
     },
     "execution_count": 276,
     "metadata": {},
     "output_type": "execute_result"
    }
   ],
   "source": [
    "r2_score(y_train, y_tr_pred), r2_score(y_test, y_te_pred)"
   ]
  },
  {
   "cell_type": "code",
   "execution_count": 277,
   "metadata": {},
   "outputs": [
    {
     "data": {
      "text/plain": [
       "(230.70612850767412, 275.7097492369776)"
      ]
     },
     "execution_count": 277,
     "metadata": {},
     "output_type": "execute_result"
    }
   ],
   "source": [
    "mean_absolute_error(y_train, y_tr_pred), mean_absolute_error(y_test, y_te_pred)"
   ]
  },
  {
   "cell_type": "code",
   "execution_count": 278,
   "metadata": {},
   "outputs": [
    {
     "name": "stdout",
     "output_type": "stream",
     "text": [
      "Model Performance\n",
      "Average Error: 275.7097 dollars.\n",
      "Accuracy = 76.23%.\n"
     ]
    },
    {
     "data": {
      "text/plain": [
       "76.22685425547176"
      ]
     },
     "execution_count": 278,
     "metadata": {},
     "output_type": "execute_result"
    }
   ],
   "source": [
    "evaluate(pipe15,X_test, y_test)"
   ]
  },
  {
   "attachments": {},
   "cell_type": "markdown",
   "metadata": {},
   "source": [
    "This model did slightly better than when k was set to 10; however, it seems to be overfitting to the training data. Let us apply validation as well."
   ]
  },
  {
   "cell_type": "code",
   "execution_count": 280,
   "metadata": {},
   "outputs": [],
   "source": [
    "cv_results = cross_validate(pipe15, X_train, y_train, cv=10)"
   ]
  },
  {
   "cell_type": "code",
   "execution_count": 281,
   "metadata": {},
   "outputs": [
    {
     "data": {
      "text/plain": [
       "array([-0.31252657,  0.00099257,  0.079013  ,  0.0361903 , -0.10741668,\n",
       "       -0.03311235,  0.0093378 ,  0.03249866, -0.22527067, -0.32001945])"
      ]
     },
     "execution_count": 281,
     "metadata": {},
     "output_type": "execute_result"
    }
   ],
   "source": [
    "cv_scores = cv_results['test_score']\n",
    "cv_scores"
   ]
  },
  {
   "cell_type": "code",
   "execution_count": 282,
   "metadata": {},
   "outputs": [
    {
     "data": {
      "text/plain": [
       "(-0.08403133906088163, 0.14196880751833765)"
      ]
     },
     "execution_count": 282,
     "metadata": {},
     "output_type": "execute_result"
    }
   ],
   "source": [
    "np.mean(cv_scores), np.std(cv_scores)"
   ]
  },
  {
   "cell_type": "code",
   "execution_count": 283,
   "metadata": {},
   "outputs": [
    {
     "data": {
      "text/plain": [
       "array([-0.37,  0.2 ])"
      ]
     },
     "execution_count": 283,
     "metadata": {},
     "output_type": "execute_result"
    }
   ],
   "source": [
    "np.round((np.mean(cv_scores) - 2 * np.std(cv_scores), np.mean(cv_scores) + 2 * np.std(cv_scores)), 2)"
   ]
  },
  {
   "attachments": {},
   "cell_type": "markdown",
   "metadata": {},
   "source": [
    "This produces a poor model as well. Let us try to determine the best number of features to select using grid search."
   ]
  },
  {
   "cell_type": "code",
   "execution_count": 284,
   "metadata": {},
   "outputs": [
    {
     "data": {
      "text/plain": [
       "dict_keys(['memory', 'steps', 'verbose', 'standardscaler', 'selectkbest', 'linearregression', 'standardscaler__copy', 'standardscaler__with_mean', 'standardscaler__with_std', 'selectkbest__k', 'selectkbest__score_func', 'linearregression__copy_X', 'linearregression__fit_intercept', 'linearregression__n_jobs', 'linearregression__positive'])"
      ]
     },
     "execution_count": 284,
     "metadata": {},
     "output_type": "execute_result"
    }
   ],
   "source": [
    "pipe.get_params().keys()"
   ]
  },
  {
   "cell_type": "code",
   "execution_count": 285,
   "metadata": {},
   "outputs": [],
   "source": [
    "k = [k+1 for k in range(len(X_train.columns))]\n",
    "grid_params = {'selectkbest__k': k}"
   ]
  },
  {
   "cell_type": "code",
   "execution_count": 286,
   "metadata": {},
   "outputs": [],
   "source": [
    "lr_grid_cv = GridSearchCV(pipe, param_grid=grid_params, cv=5, n_jobs=-1)"
   ]
  },
  {
   "cell_type": "code",
   "execution_count": 287,
   "metadata": {},
   "outputs": [
    {
     "data": {
      "text/html": [
       "<style>#sk-container-id-15 {color: black;background-color: white;}#sk-container-id-15 pre{padding: 0;}#sk-container-id-15 div.sk-toggleable {background-color: white;}#sk-container-id-15 label.sk-toggleable__label {cursor: pointer;display: block;width: 100%;margin-bottom: 0;padding: 0.3em;box-sizing: border-box;text-align: center;}#sk-container-id-15 label.sk-toggleable__label-arrow:before {content: \"▸\";float: left;margin-right: 0.25em;color: #696969;}#sk-container-id-15 label.sk-toggleable__label-arrow:hover:before {color: black;}#sk-container-id-15 div.sk-estimator:hover label.sk-toggleable__label-arrow:before {color: black;}#sk-container-id-15 div.sk-toggleable__content {max-height: 0;max-width: 0;overflow: hidden;text-align: left;background-color: #f0f8ff;}#sk-container-id-15 div.sk-toggleable__content pre {margin: 0.2em;color: black;border-radius: 0.25em;background-color: #f0f8ff;}#sk-container-id-15 input.sk-toggleable__control:checked~div.sk-toggleable__content {max-height: 200px;max-width: 100%;overflow: auto;}#sk-container-id-15 input.sk-toggleable__control:checked~label.sk-toggleable__label-arrow:before {content: \"▾\";}#sk-container-id-15 div.sk-estimator input.sk-toggleable__control:checked~label.sk-toggleable__label {background-color: #d4ebff;}#sk-container-id-15 div.sk-label input.sk-toggleable__control:checked~label.sk-toggleable__label {background-color: #d4ebff;}#sk-container-id-15 input.sk-hidden--visually {border: 0;clip: rect(1px 1px 1px 1px);clip: rect(1px, 1px, 1px, 1px);height: 1px;margin: -1px;overflow: hidden;padding: 0;position: absolute;width: 1px;}#sk-container-id-15 div.sk-estimator {font-family: monospace;background-color: #f0f8ff;border: 1px dotted black;border-radius: 0.25em;box-sizing: border-box;margin-bottom: 0.5em;}#sk-container-id-15 div.sk-estimator:hover {background-color: #d4ebff;}#sk-container-id-15 div.sk-parallel-item::after {content: \"\";width: 100%;border-bottom: 1px solid gray;flex-grow: 1;}#sk-container-id-15 div.sk-label:hover label.sk-toggleable__label {background-color: #d4ebff;}#sk-container-id-15 div.sk-serial::before {content: \"\";position: absolute;border-left: 1px solid gray;box-sizing: border-box;top: 0;bottom: 0;left: 50%;z-index: 0;}#sk-container-id-15 div.sk-serial {display: flex;flex-direction: column;align-items: center;background-color: white;padding-right: 0.2em;padding-left: 0.2em;position: relative;}#sk-container-id-15 div.sk-item {position: relative;z-index: 1;}#sk-container-id-15 div.sk-parallel {display: flex;align-items: stretch;justify-content: center;background-color: white;position: relative;}#sk-container-id-15 div.sk-item::before, #sk-container-id-15 div.sk-parallel-item::before {content: \"\";position: absolute;border-left: 1px solid gray;box-sizing: border-box;top: 0;bottom: 0;left: 50%;z-index: -1;}#sk-container-id-15 div.sk-parallel-item {display: flex;flex-direction: column;z-index: 1;position: relative;background-color: white;}#sk-container-id-15 div.sk-parallel-item:first-child::after {align-self: flex-end;width: 50%;}#sk-container-id-15 div.sk-parallel-item:last-child::after {align-self: flex-start;width: 50%;}#sk-container-id-15 div.sk-parallel-item:only-child::after {width: 0;}#sk-container-id-15 div.sk-dashed-wrapped {border: 1px dashed gray;margin: 0 0.4em 0.5em 0.4em;box-sizing: border-box;padding-bottom: 0.4em;background-color: white;}#sk-container-id-15 div.sk-label label {font-family: monospace;font-weight: bold;display: inline-block;line-height: 1.2em;}#sk-container-id-15 div.sk-label-container {text-align: center;}#sk-container-id-15 div.sk-container {/* jupyter's `normalize.less` sets `[hidden] { display: none; }` but bootstrap.min.css set `[hidden] { display: none !important; }` so we also need the `!important` here to be able to override the default hidden behavior on the sphinx rendered scikit-learn.org. See: https://github.com/scikit-learn/scikit-learn/issues/21755 */display: inline-block !important;position: relative;}#sk-container-id-15 div.sk-text-repr-fallback {display: none;}</style><div id=\"sk-container-id-15\" class=\"sk-top-container\"><div class=\"sk-text-repr-fallback\"><pre>GridSearchCV(cv=5,\n",
       "             estimator=Pipeline(steps=[(&#x27;standardscaler&#x27;, StandardScaler()),\n",
       "                                       (&#x27;selectkbest&#x27;,\n",
       "                                        SelectKBest(score_func=&lt;function f_regression at 0x000001B9B07E4040&gt;)),\n",
       "                                       (&#x27;linearregression&#x27;,\n",
       "                                        LinearRegression())]),\n",
       "             n_jobs=-1,\n",
       "             param_grid={&#x27;selectkbest__k&#x27;: [1, 2, 3, 4, 5, 6, 7, 8, 9, 10, 11,\n",
       "                                            12, 13, 14, 15, 16, 17, 18, 19, 20,\n",
       "                                            21, 22, 23, 24, 25, 26, 27, 28, 29,\n",
       "                                            30, ...]})</pre><b>In a Jupyter environment, please rerun this cell to show the HTML representation or trust the notebook. <br />On GitHub, the HTML representation is unable to render, please try loading this page with nbviewer.org.</b></div><div class=\"sk-container\" hidden><div class=\"sk-item sk-dashed-wrapped\"><div class=\"sk-label-container\"><div class=\"sk-label sk-toggleable\"><input class=\"sk-toggleable__control sk-hidden--visually\" id=\"sk-estimator-id-61\" type=\"checkbox\" ><label for=\"sk-estimator-id-61\" class=\"sk-toggleable__label sk-toggleable__label-arrow\">GridSearchCV</label><div class=\"sk-toggleable__content\"><pre>GridSearchCV(cv=5,\n",
       "             estimator=Pipeline(steps=[(&#x27;standardscaler&#x27;, StandardScaler()),\n",
       "                                       (&#x27;selectkbest&#x27;,\n",
       "                                        SelectKBest(score_func=&lt;function f_regression at 0x000001B9B07E4040&gt;)),\n",
       "                                       (&#x27;linearregression&#x27;,\n",
       "                                        LinearRegression())]),\n",
       "             n_jobs=-1,\n",
       "             param_grid={&#x27;selectkbest__k&#x27;: [1, 2, 3, 4, 5, 6, 7, 8, 9, 10, 11,\n",
       "                                            12, 13, 14, 15, 16, 17, 18, 19, 20,\n",
       "                                            21, 22, 23, 24, 25, 26, 27, 28, 29,\n",
       "                                            30, ...]})</pre></div></div></div><div class=\"sk-parallel\"><div class=\"sk-parallel-item\"><div class=\"sk-item\"><div class=\"sk-label-container\"><div class=\"sk-label sk-toggleable\"><input class=\"sk-toggleable__control sk-hidden--visually\" id=\"sk-estimator-id-62\" type=\"checkbox\" ><label for=\"sk-estimator-id-62\" class=\"sk-toggleable__label sk-toggleable__label-arrow\">estimator: Pipeline</label><div class=\"sk-toggleable__content\"><pre>Pipeline(steps=[(&#x27;standardscaler&#x27;, StandardScaler()),\n",
       "                (&#x27;selectkbest&#x27;,\n",
       "                 SelectKBest(score_func=&lt;function f_regression at 0x000001B9B07E4040&gt;)),\n",
       "                (&#x27;linearregression&#x27;, LinearRegression())])</pre></div></div></div><div class=\"sk-serial\"><div class=\"sk-item\"><div class=\"sk-serial\"><div class=\"sk-item\"><div class=\"sk-estimator sk-toggleable\"><input class=\"sk-toggleable__control sk-hidden--visually\" id=\"sk-estimator-id-63\" type=\"checkbox\" ><label for=\"sk-estimator-id-63\" class=\"sk-toggleable__label sk-toggleable__label-arrow\">StandardScaler</label><div class=\"sk-toggleable__content\"><pre>StandardScaler()</pre></div></div></div><div class=\"sk-item\"><div class=\"sk-estimator sk-toggleable\"><input class=\"sk-toggleable__control sk-hidden--visually\" id=\"sk-estimator-id-64\" type=\"checkbox\" ><label for=\"sk-estimator-id-64\" class=\"sk-toggleable__label sk-toggleable__label-arrow\">SelectKBest</label><div class=\"sk-toggleable__content\"><pre>SelectKBest(score_func=&lt;function f_regression at 0x000001B9B07E4040&gt;)</pre></div></div></div><div class=\"sk-item\"><div class=\"sk-estimator sk-toggleable\"><input class=\"sk-toggleable__control sk-hidden--visually\" id=\"sk-estimator-id-65\" type=\"checkbox\" ><label for=\"sk-estimator-id-65\" class=\"sk-toggleable__label sk-toggleable__label-arrow\">LinearRegression</label><div class=\"sk-toggleable__content\"><pre>LinearRegression()</pre></div></div></div></div></div></div></div></div></div></div></div></div>"
      ],
      "text/plain": [
       "GridSearchCV(cv=5,\n",
       "             estimator=Pipeline(steps=[('standardscaler', StandardScaler()),\n",
       "                                       ('selectkbest',\n",
       "                                        SelectKBest(score_func=<function f_regression at 0x000001B9B07E4040>)),\n",
       "                                       ('linearregression',\n",
       "                                        LinearRegression())]),\n",
       "             n_jobs=-1,\n",
       "             param_grid={'selectkbest__k': [1, 2, 3, 4, 5, 6, 7, 8, 9, 10, 11,\n",
       "                                            12, 13, 14, 15, 16, 17, 18, 19, 20,\n",
       "                                            21, 22, 23, 24, 25, 26, 27, 28, 29,\n",
       "                                            30, ...]})"
      ]
     },
     "execution_count": 287,
     "metadata": {},
     "output_type": "execute_result"
    }
   ],
   "source": [
    "lr_grid_cv.fit(X_train, y_train)"
   ]
  },
  {
   "cell_type": "code",
   "execution_count": 288,
   "metadata": {},
   "outputs": [],
   "source": [
    "score_mean = lr_grid_cv.cv_results_['mean_test_score']\n",
    "score_std = lr_grid_cv.cv_results_['std_test_score']\n",
    "cv_k = [k for k in lr_grid_cv.cv_results_['param_selectkbest__k']]"
   ]
  },
  {
   "cell_type": "code",
   "execution_count": 289,
   "metadata": {},
   "outputs": [
    {
     "data": {
      "text/plain": [
       "{'selectkbest__k': 1}"
      ]
     },
     "execution_count": 289,
     "metadata": {},
     "output_type": "execute_result"
    }
   ],
   "source": [
    "lr_grid_cv.best_params_"
   ]
  },
  {
   "attachments": {},
   "cell_type": "markdown",
   "metadata": {},
   "source": [
    "Looks like the best number to set k to is 6, let us look at each model within the grid search and how it performed. "
   ]
  },
  {
   "cell_type": "code",
   "execution_count": 290,
   "metadata": {},
   "outputs": [
    {
     "data": {
      "image/png": "[encoded data removed]",
      "text/plain": [
       "<Figure size 1000x500 with 1 Axes>"
      ]
     },
     "metadata": {},
     "output_type": "display_data"
    }
   ],
   "source": [
    "best_k = lr_grid_cv.best_params_['selectkbest__k']\n",
    "plt.subplots(figsize=(10, 5))\n",
    "plt.errorbar(cv_k, score_mean, yerr=score_std)\n",
    "plt.axvline(x=best_k, c='r', ls='--', alpha=.5)\n",
    "plt.xlabel('k')\n",
    "plt.ylabel('CV score (r-squared)')\n",
    "plt.title('Pipeline mean CV score (error bars +/- 1sd)');"
   ]
  },
  {
   "cell_type": "code",
   "execution_count": 291,
   "metadata": {},
   "outputs": [],
   "source": [
    "selected = lr_grid_cv.best_estimator_.named_steps.selectkbest.get_support()"
   ]
  },
  {
   "cell_type": "code",
   "execution_count": 292,
   "metadata": {},
   "outputs": [
    {
     "data": {
      "text/plain": [
       "hospital_ratio    53.235192\n",
       "dtype: float64"
      ]
     },
     "execution_count": 292,
     "metadata": {},
     "output_type": "execute_result"
    }
   ],
   "source": [
    "coefs = lr_grid_cv.best_estimator_.named_steps.linearregression.coef_\n",
    "features = X_train.columns[selected]\n",
    "pd.Series(coefs, index=features).sort_values(ascending=False)"
   ]
  },
  {
   "attachments": {},
   "cell_type": "markdown",
   "metadata": {},
   "source": [
    "Of the selected features, looks like hospital ratio and hospitals per 100k capita were selected. This should not be surprising given these showed up in exploratory analysis. Numerous hospital demand metrics are displayed here, which is in line with what we saw in the prior notebook.\n",
    "\n",
    "Regardless, the $R^2$ is a low for all of these values, let us try a different method for determining the price of this procedure."
   ]
  },
  {
   "cell_type": "code",
   "execution_count": 294,
   "metadata": {},
   "outputs": [],
   "source": [
    "RF_pipe = make_pipeline(\n",
    "    StandardScaler(),\n",
    "    RandomForestRegressor(random_state=47)\n",
    ")"
   ]
  },
  {
   "cell_type": "code",
   "execution_count": 295,
   "metadata": {},
   "outputs": [],
   "source": [
    "rf_default_cv_results = cross_validate(RF_pipe, X_train, y_train, cv=5)"
   ]
  },
  {
   "cell_type": "code",
   "execution_count": 296,
   "metadata": {},
   "outputs": [
    {
     "data": {
      "text/plain": [
       "array([-0.11087702, -0.01487337, -0.21185652, -0.07148016, -0.21181217])"
      ]
     },
     "execution_count": 296,
     "metadata": {},
     "output_type": "execute_result"
    }
   ],
   "source": [
    "rf_cv_scores = rf_default_cv_results['test_score']\n",
    "rf_cv_scores"
   ]
  },
  {
   "cell_type": "code",
   "execution_count": 297,
   "metadata": {},
   "outputs": [
    {
     "data": {
      "text/plain": [
       "(-0.12417984794280472, 0.0778058495469664)"
      ]
     },
     "execution_count": 297,
     "metadata": {},
     "output_type": "execute_result"
    }
   ],
   "source": [
    "np.mean(rf_cv_scores), np.std(rf_cv_scores)"
   ]
  },
  {
   "cell_type": "code",
   "execution_count": 301,
   "metadata": {},
   "outputs": [
    {
     "data": {
      "text/plain": [
       "{'randomforestregressor__n_estimators': [10,\n",
       "  12,\n",
       "  16,\n",
       "  20,\n",
       "  26,\n",
       "  33,\n",
       "  42,\n",
       "  54,\n",
       "  69,\n",
       "  88,\n",
       "  112,\n",
       "  143,\n",
       "  183,\n",
       "  233,\n",
       "  297,\n",
       "  379,\n",
       "  483,\n",
       "  615,\n",
       "  784,\n",
       "  1000],\n",
       " 'standardscaler': [StandardScaler(), None]}"
      ]
     },
     "execution_count": 301,
     "metadata": {},
     "output_type": "execute_result"
    }
   ],
   "source": [
    "n_est = [int(n) for n in np.logspace(start=1, stop=3, num=20)]\n",
    "grid_params = {\n",
    "        'randomforestregressor__n_estimators': n_est,\n",
    "        'standardscaler': [StandardScaler(), None],\n",
    "}\n",
    "grid_params"
   ]
  },
  {
   "cell_type": "code",
   "execution_count": 302,
   "metadata": {},
   "outputs": [],
   "source": [
    "rf_grid_cv = GridSearchCV(RF_pipe, param_grid=grid_params, cv=5, n_jobs=-1)"
   ]
  },
  {
   "cell_type": "code",
   "execution_count": 303,
   "metadata": {},
   "outputs": [
    {
     "data": {
      "text/html": [
       "<style>#sk-container-id-16 {color: black;background-color: white;}#sk-container-id-16 pre{padding: 0;}#sk-container-id-16 div.sk-toggleable {background-color: white;}#sk-container-id-16 label.sk-toggleable__label {cursor: pointer;display: block;width: 100%;margin-bottom: 0;padding: 0.3em;box-sizing: border-box;text-align: center;}#sk-container-id-16 label.sk-toggleable__label-arrow:before {content: \"▸\";float: left;margin-right: 0.25em;color: #696969;}#sk-container-id-16 label.sk-toggleable__label-arrow:hover:before {color: black;}#sk-container-id-16 div.sk-estimator:hover label.sk-toggleable__label-arrow:before {color: black;}#sk-container-id-16 div.sk-toggleable__content {max-height: 0;max-width: 0;overflow: hidden;text-align: left;background-color: #f0f8ff;}#sk-container-id-16 div.sk-toggleable__content pre {margin: 0.2em;color: black;border-radius: 0.25em;background-color: #f0f8ff;}#sk-container-id-16 input.sk-toggleable__control:checked~div.sk-toggleable__content {max-height: 200px;max-width: 100%;overflow: auto;}#sk-container-id-16 input.sk-toggleable__control:checked~label.sk-toggleable__label-arrow:before {content: \"▾\";}#sk-container-id-16 div.sk-estimator input.sk-toggleable__control:checked~label.sk-toggleable__label {background-color: #d4ebff;}#sk-container-id-16 div.sk-label input.sk-toggleable__control:checked~label.sk-toggleable__label {background-color: #d4ebff;}#sk-container-id-16 input.sk-hidden--visually {border: 0;clip: rect(1px 1px 1px 1px);clip: rect(1px, 1px, 1px, 1px);height: 1px;margin: -1px;overflow: hidden;padding: 0;position: absolute;width: 1px;}#sk-container-id-16 div.sk-estimator {font-family: monospace;background-color: #f0f8ff;border: 1px dotted black;border-radius: 0.25em;box-sizing: border-box;margin-bottom: 0.5em;}#sk-container-id-16 div.sk-estimator:hover {background-color: #d4ebff;}#sk-container-id-16 div.sk-parallel-item::after {content: \"\";width: 100%;border-bottom: 1px solid gray;flex-grow: 1;}#sk-container-id-16 div.sk-label:hover label.sk-toggleable__label {background-color: #d4ebff;}#sk-container-id-16 div.sk-serial::before {content: \"\";position: absolute;border-left: 1px solid gray;box-sizing: border-box;top: 0;bottom: 0;left: 50%;z-index: 0;}#sk-container-id-16 div.sk-serial {display: flex;flex-direction: column;align-items: center;background-color: white;padding-right: 0.2em;padding-left: 0.2em;position: relative;}#sk-container-id-16 div.sk-item {position: relative;z-index: 1;}#sk-container-id-16 div.sk-parallel {display: flex;align-items: stretch;justify-content: center;background-color: white;position: relative;}#sk-container-id-16 div.sk-item::before, #sk-container-id-16 div.sk-parallel-item::before {content: \"\";position: absolute;border-left: 1px solid gray;box-sizing: border-box;top: 0;bottom: 0;left: 50%;z-index: -1;}#sk-container-id-16 div.sk-parallel-item {display: flex;flex-direction: column;z-index: 1;position: relative;background-color: white;}#sk-container-id-16 div.sk-parallel-item:first-child::after {align-self: flex-end;width: 50%;}#sk-container-id-16 div.sk-parallel-item:last-child::after {align-self: flex-start;width: 50%;}#sk-container-id-16 div.sk-parallel-item:only-child::after {width: 0;}#sk-container-id-16 div.sk-dashed-wrapped {border: 1px dashed gray;margin: 0 0.4em 0.5em 0.4em;box-sizing: border-box;padding-bottom: 0.4em;background-color: white;}#sk-container-id-16 div.sk-label label {font-family: monospace;font-weight: bold;display: inline-block;line-height: 1.2em;}#sk-container-id-16 div.sk-label-container {text-align: center;}#sk-container-id-16 div.sk-container {/* jupyter's `normalize.less` sets `[hidden] { display: none; }` but bootstrap.min.css set `[hidden] { display: none !important; }` so we also need the `!important` here to be able to override the default hidden behavior on the sphinx rendered scikit-learn.org. See: https://github.com/scikit-learn/scikit-learn/issues/21755 */display: inline-block !important;position: relative;}#sk-container-id-16 div.sk-text-repr-fallback {display: none;}</style><div id=\"sk-container-id-16\" class=\"sk-top-container\"><div class=\"sk-text-repr-fallback\"><pre>GridSearchCV(cv=5,\n",
       "             estimator=Pipeline(steps=[(&#x27;standardscaler&#x27;, StandardScaler()),\n",
       "                                       (&#x27;randomforestregressor&#x27;,\n",
       "                                        RandomForestRegressor(random_state=47))]),\n",
       "             n_jobs=-1,\n",
       "             param_grid={&#x27;randomforestregressor__n_estimators&#x27;: [10, 12, 16, 20,\n",
       "                                                                 26, 33, 42, 54,\n",
       "                                                                 69, 88, 112,\n",
       "                                                                 143, 183, 233,\n",
       "                                                                 297, 379, 483,\n",
       "                                                                 615, 784,\n",
       "                                                                 1000],\n",
       "                         &#x27;standardscaler&#x27;: [StandardScaler(), None]})</pre><b>In a Jupyter environment, please rerun this cell to show the HTML representation or trust the notebook. <br />On GitHub, the HTML representation is unable to render, please try loading this page with nbviewer.org.</b></div><div class=\"sk-container\" hidden><div class=\"sk-item sk-dashed-wrapped\"><div class=\"sk-label-container\"><div class=\"sk-label sk-toggleable\"><input class=\"sk-toggleable__control sk-hidden--visually\" id=\"sk-estimator-id-66\" type=\"checkbox\" ><label for=\"sk-estimator-id-66\" class=\"sk-toggleable__label sk-toggleable__label-arrow\">GridSearchCV</label><div class=\"sk-toggleable__content\"><pre>GridSearchCV(cv=5,\n",
       "             estimator=Pipeline(steps=[(&#x27;standardscaler&#x27;, StandardScaler()),\n",
       "                                       (&#x27;randomforestregressor&#x27;,\n",
       "                                        RandomForestRegressor(random_state=47))]),\n",
       "             n_jobs=-1,\n",
       "             param_grid={&#x27;randomforestregressor__n_estimators&#x27;: [10, 12, 16, 20,\n",
       "                                                                 26, 33, 42, 54,\n",
       "                                                                 69, 88, 112,\n",
       "                                                                 143, 183, 233,\n",
       "                                                                 297, 379, 483,\n",
       "                                                                 615, 784,\n",
       "                                                                 1000],\n",
       "                         &#x27;standardscaler&#x27;: [StandardScaler(), None]})</pre></div></div></div><div class=\"sk-parallel\"><div class=\"sk-parallel-item\"><div class=\"sk-item\"><div class=\"sk-label-container\"><div class=\"sk-label sk-toggleable\"><input class=\"sk-toggleable__control sk-hidden--visually\" id=\"sk-estimator-id-67\" type=\"checkbox\" ><label for=\"sk-estimator-id-67\" class=\"sk-toggleable__label sk-toggleable__label-arrow\">estimator: Pipeline</label><div class=\"sk-toggleable__content\"><pre>Pipeline(steps=[(&#x27;standardscaler&#x27;, StandardScaler()),\n",
       "                (&#x27;randomforestregressor&#x27;,\n",
       "                 RandomForestRegressor(random_state=47))])</pre></div></div></div><div class=\"sk-serial\"><div class=\"sk-item\"><div class=\"sk-serial\"><div class=\"sk-item\"><div class=\"sk-estimator sk-toggleable\"><input class=\"sk-toggleable__control sk-hidden--visually\" id=\"sk-estimator-id-68\" type=\"checkbox\" ><label for=\"sk-estimator-id-68\" class=\"sk-toggleable__label sk-toggleable__label-arrow\">StandardScaler</label><div class=\"sk-toggleable__content\"><pre>StandardScaler()</pre></div></div></div><div class=\"sk-item\"><div class=\"sk-estimator sk-toggleable\"><input class=\"sk-toggleable__control sk-hidden--visually\" id=\"sk-estimator-id-69\" type=\"checkbox\" ><label for=\"sk-estimator-id-69\" class=\"sk-toggleable__label sk-toggleable__label-arrow\">RandomForestRegressor</label><div class=\"sk-toggleable__content\"><pre>RandomForestRegressor(random_state=47)</pre></div></div></div></div></div></div></div></div></div></div></div></div>"
      ],
      "text/plain": [
       "GridSearchCV(cv=5,\n",
       "             estimator=Pipeline(steps=[('standardscaler', StandardScaler()),\n",
       "                                       ('randomforestregressor',\n",
       "                                        RandomForestRegressor(random_state=47))]),\n",
       "             n_jobs=-1,\n",
       "             param_grid={'randomforestregressor__n_estimators': [10, 12, 16, 20,\n",
       "                                                                 26, 33, 42, 54,\n",
       "                                                                 69, 88, 112,\n",
       "                                                                 143, 183, 233,\n",
       "                                                                 297, 379, 483,\n",
       "                                                                 615, 784,\n",
       "                                                                 1000],\n",
       "                         'standardscaler': [StandardScaler(), None]})"
      ]
     },
     "execution_count": 303,
     "metadata": {},
     "output_type": "execute_result"
    }
   ],
   "source": [
    "rf_grid_cv.fit(X_train, y_train)"
   ]
  },
  {
   "cell_type": "code",
   "execution_count": 304,
   "metadata": {},
   "outputs": [
    {
     "data": {
      "text/plain": [
       "{'randomforestregressor__n_estimators': 784, 'standardscaler': None}"
      ]
     },
     "execution_count": 304,
     "metadata": {},
     "output_type": "execute_result"
    }
   ],
   "source": [
    "rf_grid_cv.best_params_"
   ]
  },
  {
   "cell_type": "code",
   "execution_count": 305,
   "metadata": {},
   "outputs": [
    {
     "data": {
      "text/plain": [
       "array([-0.1524375 ,  0.00558506, -0.18147421, -0.03927614, -0.18574979])"
      ]
     },
     "execution_count": 305,
     "metadata": {},
     "output_type": "execute_result"
    }
   ],
   "source": [
    "rf_best_cv_results = cross_validate(rf_grid_cv.best_estimator_, X_train, y_train, cv=5)\n",
    "rf_best_scores = rf_best_cv_results['test_score']\n",
    "rf_best_scores"
   ]
  },
  {
   "cell_type": "code",
   "execution_count": 308,
   "metadata": {},
   "outputs": [
    {
     "data": {
      "text/plain": [
       "(-0.11067051389245348, 0.07874904063493952)"
      ]
     },
     "execution_count": 308,
     "metadata": {},
     "output_type": "execute_result"
    }
   ],
   "source": [
    "np.mean(rf_best_scores), np.std(rf_best_scores)"
   ]
  },
  {
   "cell_type": "code",
   "execution_count": 309,
   "metadata": {},
   "outputs": [
    {
     "data": {
      "image/png": "[encoded data removed]",
      "text/plain": [
       "<Figure size 1000x500 with 1 Axes>"
      ]
     },
     "metadata": {},
     "output_type": "display_data"
    }
   ],
   "source": [
    "plt.subplots(figsize=(10, 5))\n",
    "imps = rf_grid_cv.best_estimator_.named_steps.randomforestregressor.feature_importances_\n",
    "rf_feat_imps = pd.Series(imps, index=X_train.columns).sort_values(ascending=False)\n",
    "rf_feat_imps.plot(kind='bar')\n",
    "plt.xlabel('features')\n",
    "plt.ylabel('importance')\n",
    "plt.title('Best random forest regressor feature importance');"
   ]
  },
  {
   "cell_type": "code",
   "execution_count": 310,
   "metadata": {},
   "outputs": [],
   "source": [
    "lr_neg_mae = cross_validate(lr_grid_cv.best_estimator_, X_train, y_train, \n",
    "                            scoring='neg_mean_absolute_error', cv=5, n_jobs=-1)"
   ]
  },
  {
   "cell_type": "code",
   "execution_count": 311,
   "metadata": {},
   "outputs": [
    {
     "data": {
      "text/plain": [
       "(252.79769585755616, 31.093861241781365)"
      ]
     },
     "execution_count": 311,
     "metadata": {},
     "output_type": "execute_result"
    }
   ],
   "source": [
    "lr_mae_mean = np.mean(-1 * lr_neg_mae['test_score'])\n",
    "lr_mae_std = np.std(-1 * lr_neg_mae['test_score'])\n",
    "lr_mae_mean, lr_mae_std"
   ]
  },
  {
   "cell_type": "code",
   "execution_count": 312,
   "metadata": {},
   "outputs": [
    {
     "data": {
      "text/plain": [
       "283.2468880887309"
      ]
     },
     "execution_count": 312,
     "metadata": {},
     "output_type": "execute_result"
    }
   ],
   "source": [
    "mean_absolute_error(y_test, lr_grid_cv.best_estimator_.predict(X_test))"
   ]
  },
  {
   "cell_type": "code",
   "execution_count": 313,
   "metadata": {},
   "outputs": [],
   "source": [
    "rf_neg_mae = cross_validate(rf_grid_cv.best_estimator_, X_train, y_train, \n",
    "                            scoring='neg_mean_absolute_error', cv=5, n_jobs=-1)"
   ]
  },
  {
   "cell_type": "code",
   "execution_count": 314,
   "metadata": {},
   "outputs": [
    {
     "data": {
      "text/plain": [
       "(265.2122743003094, 23.318550964288335)"
      ]
     },
     "execution_count": 314,
     "metadata": {},
     "output_type": "execute_result"
    }
   ],
   "source": [
    "rf_mae_mean = np.mean(-1 * rf_neg_mae['test_score'])\n",
    "rf_mae_std = np.std(-1 * rf_neg_mae['test_score'])\n",
    "rf_mae_mean, rf_mae_std"
   ]
  },
  {
   "cell_type": "code",
   "execution_count": 315,
   "metadata": {},
   "outputs": [
    {
     "data": {
      "text/plain": [
       "282.84330169912084"
      ]
     },
     "execution_count": 315,
     "metadata": {},
     "output_type": "execute_result"
    }
   ],
   "source": [
    "mean_absolute_error(y_test, rf_grid_cv.best_estimator_.predict(X_test))"
   ]
  },
  {
   "cell_type": "code",
   "execution_count": 316,
   "metadata": {},
   "outputs": [],
   "source": [
    "fractions = [.2, .25, .3, .35, .4, .45, .5, .6, .75, .8, 1.0]\n",
    "train_size, train_scores, test_scores = learning_curve(pipe, X_train, y_train, train_sizes=fractions)\n",
    "train_scores_mean = np.mean(train_scores, axis=1)\n",
    "train_scores_std = np.std(train_scores, axis=1)\n",
    "test_scores_mean = np.mean(test_scores, axis=1)\n",
    "test_scores_std = np.std(test_scores, axis=1)"
   ]
  },
  {
   "cell_type": "code",
   "execution_count": 317,
   "metadata": {},
   "outputs": [
    {
     "data": {
      "image/png": "[encoded data removed]",
      "text/plain": [
       "<Figure size 1000x500 with 1 Axes>"
      ]
     },
     "metadata": {},
     "output_type": "display_data"
    }
   ],
   "source": [
    "plt.subplots(figsize=(10, 5))\n",
    "plt.errorbar(train_size, test_scores_mean, yerr=test_scores_std)\n",
    "plt.xlabel('Training set size')\n",
    "plt.ylabel('CV scores')\n",
    "plt.title('Cross-validation score as training set size increases');"
   ]
  },
  {
   "cell_type": "code",
   "execution_count": 318,
   "metadata": {},
   "outputs": [],
   "source": [
    "data= df_dict[procedure]\n",
    "one_hot = pd.get_dummies(data, columns=['Rural Versus Urban'], drop_first= True)\n",
    "names_list = ['ccn', 'State Code']\n",
    "one_hot.drop(columns=names_list, inplace=True)\n",
    "features = one_hot.columns.to_list()\n",
    "features.remove('negotiated_rates_median')\n",
    "X = one_hot[features]\n",
    "y = one_hot['negotiated_rates_median']\n",
    "scaler = StandardScaler().fit(X)\n",
    "X_scaled = scaler.transform(X)"
   ]
  },
  {
   "cell_type": "code",
   "execution_count": 319,
   "metadata": {},
   "outputs": [],
   "source": [
    "X_train, X_test, y_train, y_test = train_test_split(X_scaled, y, test_size=.3, random_state=67)"
   ]
  },
  {
   "cell_type": "code",
   "execution_count": 320,
   "metadata": {},
   "outputs": [],
   "source": [
    "RF_pipe = make_pipeline(\n",
    "    RandomForestRegressor(random_state=42)\n",
    ")"
   ]
  },
  {
   "cell_type": "code",
   "execution_count": 321,
   "metadata": {},
   "outputs": [],
   "source": [
    "n_est = [int(n) for n in np.logspace(start=1, stop=3, num=20)]\n",
    "grid_params = {\n",
    "        'randomforestregressor__n_estimators': n_est,\n",
    "}"
   ]
  },
  {
   "cell_type": "code",
   "execution_count": 322,
   "metadata": {},
   "outputs": [],
   "source": [
    "rf_grid_cv = GridSearchCV(RF_pipe, param_grid=grid_params, cv=5, n_jobs=-1)"
   ]
  },
  {
   "cell_type": "code",
   "execution_count": 323,
   "metadata": {},
   "outputs": [
    {
     "data": {
      "text/html": [
       "<style>#sk-container-id-17 {color: black;background-color: white;}#sk-container-id-17 pre{padding: 0;}#sk-container-id-17 div.sk-toggleable {background-color: white;}#sk-container-id-17 label.sk-toggleable__label {cursor: pointer;display: block;width: 100%;margin-bottom: 0;padding: 0.3em;box-sizing: border-box;text-align: center;}#sk-container-id-17 label.sk-toggleable__label-arrow:before {content: \"▸\";float: left;margin-right: 0.25em;color: #696969;}#sk-container-id-17 label.sk-toggleable__label-arrow:hover:before {color: black;}#sk-container-id-17 div.sk-estimator:hover label.sk-toggleable__label-arrow:before {color: black;}#sk-container-id-17 div.sk-toggleable__content {max-height: 0;max-width: 0;overflow: hidden;text-align: left;background-color: #f0f8ff;}#sk-container-id-17 div.sk-toggleable__content pre {margin: 0.2em;color: black;border-radius: 0.25em;background-color: #f0f8ff;}#sk-container-id-17 input.sk-toggleable__control:checked~div.sk-toggleable__content {max-height: 200px;max-width: 100%;overflow: auto;}#sk-container-id-17 input.sk-toggleable__control:checked~label.sk-toggleable__label-arrow:before {content: \"▾\";}#sk-container-id-17 div.sk-estimator input.sk-toggleable__control:checked~label.sk-toggleable__label {background-color: #d4ebff;}#sk-container-id-17 div.sk-label input.sk-toggleable__control:checked~label.sk-toggleable__label {background-color: #d4ebff;}#sk-container-id-17 input.sk-hidden--visually {border: 0;clip: rect(1px 1px 1px 1px);clip: rect(1px, 1px, 1px, 1px);height: 1px;margin: -1px;overflow: hidden;padding: 0;position: absolute;width: 1px;}#sk-container-id-17 div.sk-estimator {font-family: monospace;background-color: #f0f8ff;border: 1px dotted black;border-radius: 0.25em;box-sizing: border-box;margin-bottom: 0.5em;}#sk-container-id-17 div.sk-estimator:hover {background-color: #d4ebff;}#sk-container-id-17 div.sk-parallel-item::after {content: \"\";width: 100%;border-bottom: 1px solid gray;flex-grow: 1;}#sk-container-id-17 div.sk-label:hover label.sk-toggleable__label {background-color: #d4ebff;}#sk-container-id-17 div.sk-serial::before {content: \"\";position: absolute;border-left: 1px solid gray;box-sizing: border-box;top: 0;bottom: 0;left: 50%;z-index: 0;}#sk-container-id-17 div.sk-serial {display: flex;flex-direction: column;align-items: center;background-color: white;padding-right: 0.2em;padding-left: 0.2em;position: relative;}#sk-container-id-17 div.sk-item {position: relative;z-index: 1;}#sk-container-id-17 div.sk-parallel {display: flex;align-items: stretch;justify-content: center;background-color: white;position: relative;}#sk-container-id-17 div.sk-item::before, #sk-container-id-17 div.sk-parallel-item::before {content: \"\";position: absolute;border-left: 1px solid gray;box-sizing: border-box;top: 0;bottom: 0;left: 50%;z-index: -1;}#sk-container-id-17 div.sk-parallel-item {display: flex;flex-direction: column;z-index: 1;position: relative;background-color: white;}#sk-container-id-17 div.sk-parallel-item:first-child::after {align-self: flex-end;width: 50%;}#sk-container-id-17 div.sk-parallel-item:last-child::after {align-self: flex-start;width: 50%;}#sk-container-id-17 div.sk-parallel-item:only-child::after {width: 0;}#sk-container-id-17 div.sk-dashed-wrapped {border: 1px dashed gray;margin: 0 0.4em 0.5em 0.4em;box-sizing: border-box;padding-bottom: 0.4em;background-color: white;}#sk-container-id-17 div.sk-label label {font-family: monospace;font-weight: bold;display: inline-block;line-height: 1.2em;}#sk-container-id-17 div.sk-label-container {text-align: center;}#sk-container-id-17 div.sk-container {/* jupyter's `normalize.less` sets `[hidden] { display: none; }` but bootstrap.min.css set `[hidden] { display: none !important; }` so we also need the `!important` here to be able to override the default hidden behavior on the sphinx rendered scikit-learn.org. See: https://github.com/scikit-learn/scikit-learn/issues/21755 */display: inline-block !important;position: relative;}#sk-container-id-17 div.sk-text-repr-fallback {display: none;}</style><div id=\"sk-container-id-17\" class=\"sk-top-container\"><div class=\"sk-text-repr-fallback\"><pre>GridSearchCV(cv=5,\n",
       "             estimator=Pipeline(steps=[(&#x27;randomforestregressor&#x27;,\n",
       "                                        RandomForestRegressor(random_state=42))]),\n",
       "             n_jobs=-1,\n",
       "             param_grid={&#x27;randomforestregressor__n_estimators&#x27;: [10, 12, 16, 20,\n",
       "                                                                 26, 33, 42, 54,\n",
       "                                                                 69, 88, 112,\n",
       "                                                                 143, 183, 233,\n",
       "                                                                 297, 379, 483,\n",
       "                                                                 615, 784,\n",
       "                                                                 1000]})</pre><b>In a Jupyter environment, please rerun this cell to show the HTML representation or trust the notebook. <br />On GitHub, the HTML representation is unable to render, please try loading this page with nbviewer.org.</b></div><div class=\"sk-container\" hidden><div class=\"sk-item sk-dashed-wrapped\"><div class=\"sk-label-container\"><div class=\"sk-label sk-toggleable\"><input class=\"sk-toggleable__control sk-hidden--visually\" id=\"sk-estimator-id-70\" type=\"checkbox\" ><label for=\"sk-estimator-id-70\" class=\"sk-toggleable__label sk-toggleable__label-arrow\">GridSearchCV</label><div class=\"sk-toggleable__content\"><pre>GridSearchCV(cv=5,\n",
       "             estimator=Pipeline(steps=[(&#x27;randomforestregressor&#x27;,\n",
       "                                        RandomForestRegressor(random_state=42))]),\n",
       "             n_jobs=-1,\n",
       "             param_grid={&#x27;randomforestregressor__n_estimators&#x27;: [10, 12, 16, 20,\n",
       "                                                                 26, 33, 42, 54,\n",
       "                                                                 69, 88, 112,\n",
       "                                                                 143, 183, 233,\n",
       "                                                                 297, 379, 483,\n",
       "                                                                 615, 784,\n",
       "                                                                 1000]})</pre></div></div></div><div class=\"sk-parallel\"><div class=\"sk-parallel-item\"><div class=\"sk-item\"><div class=\"sk-label-container\"><div class=\"sk-label sk-toggleable\"><input class=\"sk-toggleable__control sk-hidden--visually\" id=\"sk-estimator-id-71\" type=\"checkbox\" ><label for=\"sk-estimator-id-71\" class=\"sk-toggleable__label sk-toggleable__label-arrow\">estimator: Pipeline</label><div class=\"sk-toggleable__content\"><pre>Pipeline(steps=[(&#x27;randomforestregressor&#x27;,\n",
       "                 RandomForestRegressor(random_state=42))])</pre></div></div></div><div class=\"sk-serial\"><div class=\"sk-item\"><div class=\"sk-serial\"><div class=\"sk-item\"><div class=\"sk-estimator sk-toggleable\"><input class=\"sk-toggleable__control sk-hidden--visually\" id=\"sk-estimator-id-72\" type=\"checkbox\" ><label for=\"sk-estimator-id-72\" class=\"sk-toggleable__label sk-toggleable__label-arrow\">RandomForestRegressor</label><div class=\"sk-toggleable__content\"><pre>RandomForestRegressor(random_state=42)</pre></div></div></div></div></div></div></div></div></div></div></div></div>"
      ],
      "text/plain": [
       "GridSearchCV(cv=5,\n",
       "             estimator=Pipeline(steps=[('randomforestregressor',\n",
       "                                        RandomForestRegressor(random_state=42))]),\n",
       "             n_jobs=-1,\n",
       "             param_grid={'randomforestregressor__n_estimators': [10, 12, 16, 20,\n",
       "                                                                 26, 33, 42, 54,\n",
       "                                                                 69, 88, 112,\n",
       "                                                                 143, 183, 233,\n",
       "                                                                 297, 379, 483,\n",
       "                                                                 615, 784,\n",
       "                                                                 1000]})"
      ]
     },
     "execution_count": 323,
     "metadata": {},
     "output_type": "execute_result"
    }
   ],
   "source": [
    "rf_grid_cv.fit(X_train, y_train)"
   ]
  },
  {
   "cell_type": "code",
   "execution_count": 324,
   "metadata": {},
   "outputs": [
    {
     "data": {
      "text/plain": [
       "array([ 0.04334031, -0.02881186, -0.05210711,  0.00527942, -0.11696726])"
      ]
     },
     "execution_count": 324,
     "metadata": {},
     "output_type": "execute_result"
    }
   ],
   "source": [
    "rf_best_cv_results = cross_validate(rf_grid_cv.best_estimator_, X_train, y_train, cv=5)\n",
    "rf_best_scores = rf_best_cv_results['test_score']\n",
    "rf_best_scores"
   ]
  },
  {
   "cell_type": "code",
   "execution_count": 325,
   "metadata": {},
   "outputs": [
    {
     "data": {
      "text/plain": [
       "{'randomforestregressor__n_estimators': 1000}"
      ]
     },
     "execution_count": 325,
     "metadata": {},
     "output_type": "execute_result"
    }
   ],
   "source": [
    "rf_grid_cv.best_params_"
   ]
  },
  {
   "cell_type": "code",
   "execution_count": 326,
   "metadata": {},
   "outputs": [
    {
     "data": {
      "text/plain": [
       "269.59930019230757"
      ]
     },
     "execution_count": 326,
     "metadata": {},
     "output_type": "execute_result"
    }
   ],
   "source": [
    "mean_absolute_error(y_test, rf_grid_cv.best_estimator_.predict(X_test))"
   ]
  },
  {
   "attachments": {},
   "cell_type": "markdown",
   "metadata": {},
   "source": [
    "Looks like even including the data about if the hospital is rural or urban did not help the random forest model. Let us make this a clustering problem. Let us try a gradient boosted regressor."
   ]
  },
  {
   "cell_type": "code",
   "execution_count": 327,
   "metadata": {},
   "outputs": [
    {
     "name": "stdout",
     "output_type": "stream",
     "text": [
      "Fitting 5 folds for each of 100 candidates, totalling 500 fits\n"
     ]
    },
    {
     "data": {
      "text/html": [
       "<style>#sk-container-id-18 {color: black;background-color: white;}#sk-container-id-18 pre{padding: 0;}#sk-container-id-18 div.sk-toggleable {background-color: white;}#sk-container-id-18 label.sk-toggleable__label {cursor: pointer;display: block;width: 100%;margin-bottom: 0;padding: 0.3em;box-sizing: border-box;text-align: center;}#sk-container-id-18 label.sk-toggleable__label-arrow:before {content: \"▸\";float: left;margin-right: 0.25em;color: #696969;}#sk-container-id-18 label.sk-toggleable__label-arrow:hover:before {color: black;}#sk-container-id-18 div.sk-estimator:hover label.sk-toggleable__label-arrow:before {color: black;}#sk-container-id-18 div.sk-toggleable__content {max-height: 0;max-width: 0;overflow: hidden;text-align: left;background-color: #f0f8ff;}#sk-container-id-18 div.sk-toggleable__content pre {margin: 0.2em;color: black;border-radius: 0.25em;background-color: #f0f8ff;}#sk-container-id-18 input.sk-toggleable__control:checked~div.sk-toggleable__content {max-height: 200px;max-width: 100%;overflow: auto;}#sk-container-id-18 input.sk-toggleable__control:checked~label.sk-toggleable__label-arrow:before {content: \"▾\";}#sk-container-id-18 div.sk-estimator input.sk-toggleable__control:checked~label.sk-toggleable__label {background-color: #d4ebff;}#sk-container-id-18 div.sk-label input.sk-toggleable__control:checked~label.sk-toggleable__label {background-color: #d4ebff;}#sk-container-id-18 input.sk-hidden--visually {border: 0;clip: rect(1px 1px 1px 1px);clip: rect(1px, 1px, 1px, 1px);height: 1px;margin: -1px;overflow: hidden;padding: 0;position: absolute;width: 1px;}#sk-container-id-18 div.sk-estimator {font-family: monospace;background-color: #f0f8ff;border: 1px dotted black;border-radius: 0.25em;box-sizing: border-box;margin-bottom: 0.5em;}#sk-container-id-18 div.sk-estimator:hover {background-color: #d4ebff;}#sk-container-id-18 div.sk-parallel-item::after {content: \"\";width: 100%;border-bottom: 1px solid gray;flex-grow: 1;}#sk-container-id-18 div.sk-label:hover label.sk-toggleable__label {background-color: #d4ebff;}#sk-container-id-18 div.sk-serial::before {content: \"\";position: absolute;border-left: 1px solid gray;box-sizing: border-box;top: 0;bottom: 0;left: 50%;z-index: 0;}#sk-container-id-18 div.sk-serial {display: flex;flex-direction: column;align-items: center;background-color: white;padding-right: 0.2em;padding-left: 0.2em;position: relative;}#sk-container-id-18 div.sk-item {position: relative;z-index: 1;}#sk-container-id-18 div.sk-parallel {display: flex;align-items: stretch;justify-content: center;background-color: white;position: relative;}#sk-container-id-18 div.sk-item::before, #sk-container-id-18 div.sk-parallel-item::before {content: \"\";position: absolute;border-left: 1px solid gray;box-sizing: border-box;top: 0;bottom: 0;left: 50%;z-index: -1;}#sk-container-id-18 div.sk-parallel-item {display: flex;flex-direction: column;z-index: 1;position: relative;background-color: white;}#sk-container-id-18 div.sk-parallel-item:first-child::after {align-self: flex-end;width: 50%;}#sk-container-id-18 div.sk-parallel-item:last-child::after {align-self: flex-start;width: 50%;}#sk-container-id-18 div.sk-parallel-item:only-child::after {width: 0;}#sk-container-id-18 div.sk-dashed-wrapped {border: 1px dashed gray;margin: 0 0.4em 0.5em 0.4em;box-sizing: border-box;padding-bottom: 0.4em;background-color: white;}#sk-container-id-18 div.sk-label label {font-family: monospace;font-weight: bold;display: inline-block;line-height: 1.2em;}#sk-container-id-18 div.sk-label-container {text-align: center;}#sk-container-id-18 div.sk-container {/* jupyter's `normalize.less` sets `[hidden] { display: none; }` but bootstrap.min.css set `[hidden] { display: none !important; }` so we also need the `!important` here to be able to override the default hidden behavior on the sphinx rendered scikit-learn.org. See: https://github.com/scikit-learn/scikit-learn/issues/21755 */display: inline-block !important;position: relative;}#sk-container-id-18 div.sk-text-repr-fallback {display: none;}</style><div id=\"sk-container-id-18\" class=\"sk-top-container\"><div class=\"sk-text-repr-fallback\"><pre>RandomizedSearchCV(cv=5, estimator=RandomForestRegressor(), n_iter=100,\n",
       "                   n_jobs=-1,\n",
       "                   param_distributions={&#x27;bootstrap&#x27;: [True, False],\n",
       "                                        &#x27;max_depth&#x27;: [10, 20, 30, 40, 50, 60,\n",
       "                                                      70, 80, 90, 100, 110,\n",
       "                                                      None],\n",
       "                                        &#x27;max_features&#x27;: [&#x27;auto&#x27;, &#x27;sqrt&#x27;],\n",
       "                                        &#x27;min_samples_leaf&#x27;: [1, 2, 4],\n",
       "                                        &#x27;min_samples_split&#x27;: [2, 5, 10],\n",
       "                                        &#x27;n_estimators&#x27;: [200, 400, 600, 800,\n",
       "                                                         1000, 1200, 1400, 1600,\n",
       "                                                         1800, 2000]},\n",
       "                   random_state=42, verbose=1)</pre><b>In a Jupyter environment, please rerun this cell to show the HTML representation or trust the notebook. <br />On GitHub, the HTML representation is unable to render, please try loading this page with nbviewer.org.</b></div><div class=\"sk-container\" hidden><div class=\"sk-item sk-dashed-wrapped\"><div class=\"sk-label-container\"><div class=\"sk-label sk-toggleable\"><input class=\"sk-toggleable__control sk-hidden--visually\" id=\"sk-estimator-id-73\" type=\"checkbox\" ><label for=\"sk-estimator-id-73\" class=\"sk-toggleable__label sk-toggleable__label-arrow\">RandomizedSearchCV</label><div class=\"sk-toggleable__content\"><pre>RandomizedSearchCV(cv=5, estimator=RandomForestRegressor(), n_iter=100,\n",
       "                   n_jobs=-1,\n",
       "                   param_distributions={&#x27;bootstrap&#x27;: [True, False],\n",
       "                                        &#x27;max_depth&#x27;: [10, 20, 30, 40, 50, 60,\n",
       "                                                      70, 80, 90, 100, 110,\n",
       "                                                      None],\n",
       "                                        &#x27;max_features&#x27;: [&#x27;auto&#x27;, &#x27;sqrt&#x27;],\n",
       "                                        &#x27;min_samples_leaf&#x27;: [1, 2, 4],\n",
       "                                        &#x27;min_samples_split&#x27;: [2, 5, 10],\n",
       "                                        &#x27;n_estimators&#x27;: [200, 400, 600, 800,\n",
       "                                                         1000, 1200, 1400, 1600,\n",
       "                                                         1800, 2000]},\n",
       "                   random_state=42, verbose=1)</pre></div></div></div><div class=\"sk-parallel\"><div class=\"sk-parallel-item\"><div class=\"sk-item\"><div class=\"sk-label-container\"><div class=\"sk-label sk-toggleable\"><input class=\"sk-toggleable__control sk-hidden--visually\" id=\"sk-estimator-id-74\" type=\"checkbox\" ><label for=\"sk-estimator-id-74\" class=\"sk-toggleable__label sk-toggleable__label-arrow\">estimator: RandomForestRegressor</label><div class=\"sk-toggleable__content\"><pre>RandomForestRegressor()</pre></div></div></div><div class=\"sk-serial\"><div class=\"sk-item\"><div class=\"sk-estimator sk-toggleable\"><input class=\"sk-toggleable__control sk-hidden--visually\" id=\"sk-estimator-id-75\" type=\"checkbox\" ><label for=\"sk-estimator-id-75\" class=\"sk-toggleable__label sk-toggleable__label-arrow\">RandomForestRegressor</label><div class=\"sk-toggleable__content\"><pre>RandomForestRegressor()</pre></div></div></div></div></div></div></div></div></div></div>"
      ],
      "text/plain": [
       "RandomizedSearchCV(cv=5, estimator=RandomForestRegressor(), n_iter=100,\n",
       "                   n_jobs=-1,\n",
       "                   param_distributions={'bootstrap': [True, False],\n",
       "                                        'max_depth': [10, 20, 30, 40, 50, 60,\n",
       "                                                      70, 80, 90, 100, 110,\n",
       "                                                      None],\n",
       "                                        'max_features': ['auto', 'sqrt'],\n",
       "                                        'min_samples_leaf': [1, 2, 4],\n",
       "                                        'min_samples_split': [2, 5, 10],\n",
       "                                        'n_estimators': [200, 400, 600, 800,\n",
       "                                                         1000, 1200, 1400, 1600,\n",
       "                                                         1800, 2000]},\n",
       "                   random_state=42, verbose=1)"
      ]
     },
     "execution_count": 327,
     "metadata": {},
     "output_type": "execute_result"
    }
   ],
   "source": [
    "from sklearn.model_selection import RandomizedSearchCV# Number of trees in random forest\n",
    "n_estimators = [int(x) for x in np.linspace(start = 200, stop = 2000, num = 10)]\n",
    "# Number of features to consider at every split\n",
    "max_features = ['auto', 'sqrt']\n",
    "# Maximum number of levels in tree\n",
    "max_depth = [int(x) for x in np.linspace(10, 110, num = 11)]\n",
    "max_depth.append(None)\n",
    "# Minimum number of samples required to split a node\n",
    "min_samples_split = [2, 5, 10]\n",
    "# Minimum number of samples required at each leaf node\n",
    "min_samples_leaf = [1, 2, 4]\n",
    "# Method of selecting samples for training each tree\n",
    "bootstrap = [True, False]# Create the random grid\n",
    "random_grid = {'n_estimators': n_estimators,\n",
    "               'max_features': max_features,\n",
    "               'max_depth': max_depth,\n",
    "               'min_samples_split': min_samples_split,\n",
    "               'min_samples_leaf': min_samples_leaf,\n",
    "               'bootstrap': bootstrap}\n",
    "rf = RandomForestRegressor()\n",
    "# search across 100 different combinations, and use all available cores\n",
    "rf_random = RandomizedSearchCV(estimator = rf, param_distributions = random_grid, n_iter = 100, cv = 5, verbose=1, random_state=42, n_jobs = -1)# Fit the random search model\n",
    "rf_random.fit(X_train, y_train)"
   ]
  },
  {
   "cell_type": "code",
   "execution_count": 328,
   "metadata": {},
   "outputs": [
    {
     "data": {
      "text/plain": [
       "{'n_estimators': 400,\n",
       " 'min_samples_split': 10,\n",
       " 'min_samples_leaf': 4,\n",
       " 'max_features': 'sqrt',\n",
       " 'max_depth': 90,\n",
       " 'bootstrap': True}"
      ]
     },
     "execution_count": 328,
     "metadata": {},
     "output_type": "execute_result"
    }
   ],
   "source": [
    "rf_random.best_params_"
   ]
  },
  {
   "cell_type": "code",
   "execution_count": 331,
   "metadata": {},
   "outputs": [
    {
     "name": "stdout",
     "output_type": "stream",
     "text": [
      "Model Performance\n",
      "Average Error: 261.4551 dollars.\n",
      "Accuracy = 78.85%.\n"
     ]
    }
   ],
   "source": [
    "base_model = RandomForestRegressor(n_estimators= 400,\n",
    "    min_samples_split= 10,\n",
    "    min_samples_leaf= 4,\n",
    "    max_features='sqrt',\n",
    "    max_depth= 90,\n",
    "    bootstrap= True, random_state = 42)\n",
    "base_model.fit(X_train, y_train)\n",
    "base_accuracy = evaluate(base_model, X_test, y_test)"
   ]
  },
  {
   "cell_type": "code",
   "execution_count": 334,
   "metadata": {},
   "outputs": [],
   "source": [
    "# Create the parameter grid based on the results of random search \n",
    "param_grid = {\n",
    "    'bootstrap': [True],\n",
    "    'max_depth': [80,85,90,95,100],\n",
    "    'max_features': ['sqrt'],\n",
    "    'min_samples_leaf': [3, 4, 5],\n",
    "    'min_samples_split': [10],\n",
    "    'n_estimators': [200, 250, 300, 350, 400, 450, 500, 550, 600]\n",
    "}# Create a based model\n",
    "rf = RandomForestRegressor()\n",
    "grid_search = GridSearchCV(estimator = rf, param_grid = param_grid, \n",
    "                          cv = 5, n_jobs = -1, verbose = True)"
   ]
  },
  {
   "cell_type": "code",
   "execution_count": 335,
   "metadata": {},
   "outputs": [
    {
     "name": "stdout",
     "output_type": "stream",
     "text": [
      "Fitting 5 folds for each of 135 candidates, totalling 675 fits\n"
     ]
    },
    {
     "data": {
      "text/plain": [
       "{'bootstrap': True,\n",
       " 'max_depth': 80,\n",
       " 'max_features': 'sqrt',\n",
       " 'min_samples_leaf': 5,\n",
       " 'min_samples_split': 10,\n",
       " 'n_estimators': 250}"
      ]
     },
     "execution_count": 335,
     "metadata": {},
     "output_type": "execute_result"
    }
   ],
   "source": [
    "grid_search.fit(X_train, y_train)\n",
    "grid_search.best_params_"
   ]
  },
  {
   "cell_type": "code",
   "execution_count": 339,
   "metadata": {},
   "outputs": [
    {
     "name": "stdout",
     "output_type": "stream",
     "text": [
      "Model Performance\n",
      "Average Error: 261.4151 dollars.\n",
      "Accuracy = 78.85%.\n"
     ]
    }
   ],
   "source": [
    "rf_model = RandomForestRegressor(n_estimators= 250,\n",
    "    min_samples_split= 10,\n",
    "    min_samples_leaf= 5,\n",
    "    max_features='sqrt',\n",
    "    max_depth= 80,\n",
    "    bootstrap= True, random_state = 42)\n",
    "rf_model.fit(X_train, y_train)\n",
    "rf_accuracy = evaluate(rf_model, X_test, y_test)"
   ]
  },
  {
   "cell_type": "code",
   "execution_count": null,
   "metadata": {},
   "outputs": [],
   "source": []
  },
  {
   "cell_type": "code",
   "execution_count": 190,
   "metadata": {},
   "outputs": [
    {
     "name": "stdout",
     "output_type": "stream",
     "text": [
      "[0]\tvalidation_0-error:0.46923\n",
      "[1]\tvalidation_0-error:0.51538\n",
      "[2]\tvalidation_0-error:0.50769\n",
      "[3]\tvalidation_0-error:0.46923\n",
      "[4]\tvalidation_0-error:0.45385\n",
      "[5]\tvalidation_0-error:0.43846\n",
      "[6]\tvalidation_0-error:0.46154\n",
      "[7]\tvalidation_0-error:0.46923\n",
      "[8]\tvalidation_0-error:0.46154\n",
      "[9]\tvalidation_0-error:0.46923\n"
     ]
    },
    {
     "name": "stderr",
     "output_type": "stream",
     "text": [
      "c:\\ProgramData\\Anaconda3\\lib\\site-packages\\xgboost\\sklearn.py:835: UserWarning: `eval_metric` in `fit` method is deprecated for better compatibility with scikit-learn, use `eval_metric` in constructor or`set_params` instead.\n",
      "  warnings.warn(\n"
     ]
    },
    {
     "name": "stdout",
     "output_type": "stream",
     "text": [
      "[10]\tvalidation_0-error:0.52308\n",
      "[11]\tvalidation_0-error:0.50000\n",
      "[12]\tvalidation_0-error:0.50769\n",
      "[13]\tvalidation_0-error:0.45385\n",
      "[14]\tvalidation_0-error:0.46154\n",
      "[15]\tvalidation_0-error:0.43846\n",
      "[16]\tvalidation_0-error:0.44615\n",
      "[17]\tvalidation_0-error:0.46154\n",
      "[18]\tvalidation_0-error:0.45385\n",
      "[19]\tvalidation_0-error:0.45385\n",
      "[20]\tvalidation_0-error:0.46923\n",
      "[21]\tvalidation_0-error:0.46154\n",
      "[22]\tvalidation_0-error:0.45385\n",
      "[23]\tvalidation_0-error:0.46154\n",
      "[24]\tvalidation_0-error:0.47692\n",
      "[25]\tvalidation_0-error:0.48462\n",
      "[26]\tvalidation_0-error:0.48462\n",
      "[27]\tvalidation_0-error:0.47692\n",
      "[28]\tvalidation_0-error:0.46154\n",
      "[29]\tvalidation_0-error:0.48462\n",
      "[30]\tvalidation_0-error:0.46923\n",
      "[31]\tvalidation_0-error:0.46923\n",
      "[32]\tvalidation_0-error:0.44615\n",
      "[33]\tvalidation_0-error:0.48462\n",
      "[34]\tvalidation_0-error:0.46923\n",
      "[35]\tvalidation_0-error:0.48462\n",
      "[36]\tvalidation_0-error:0.48462\n",
      "[37]\tvalidation_0-error:0.47692\n",
      "[38]\tvalidation_0-error:0.46923\n",
      "[39]\tvalidation_0-error:0.47692\n",
      "[40]\tvalidation_0-error:0.47692\n",
      "[41]\tvalidation_0-error:0.46923\n",
      "[42]\tvalidation_0-error:0.47692\n",
      "[43]\tvalidation_0-error:0.46923\n",
      "[44]\tvalidation_0-error:0.46923\n",
      "[45]\tvalidation_0-error:0.48462\n",
      "[46]\tvalidation_0-error:0.46923\n",
      "[47]\tvalidation_0-error:0.47692\n",
      "[48]\tvalidation_0-error:0.47692\n",
      "[49]\tvalidation_0-error:0.46923\n",
      "[50]\tvalidation_0-error:0.46923\n",
      "[51]\tvalidation_0-error:0.46154\n",
      "[52]\tvalidation_0-error:0.46154\n",
      "[53]\tvalidation_0-error:0.45385\n",
      "[54]\tvalidation_0-error:0.45385\n",
      "[55]\tvalidation_0-error:0.44615\n",
      "[56]\tvalidation_0-error:0.45385\n",
      "[57]\tvalidation_0-error:0.45385\n",
      "[58]\tvalidation_0-error:0.45385\n",
      "[59]\tvalidation_0-error:0.45385\n",
      "[60]\tvalidation_0-error:0.45385\n",
      "[61]\tvalidation_0-error:0.45385\n",
      "[62]\tvalidation_0-error:0.46923\n",
      "[63]\tvalidation_0-error:0.46923\n",
      "[64]\tvalidation_0-error:0.46923\n",
      "[65]\tvalidation_0-error:0.45385\n",
      "[66]\tvalidation_0-error:0.46154\n",
      "[67]\tvalidation_0-error:0.46154\n",
      "[68]\tvalidation_0-error:0.46154\n",
      "[69]\tvalidation_0-error:0.46154\n",
      "[70]\tvalidation_0-error:0.46923\n",
      "[71]\tvalidation_0-error:0.46923\n",
      "[72]\tvalidation_0-error:0.47692\n",
      "[73]\tvalidation_0-error:0.46923\n",
      "[74]\tvalidation_0-error:0.46154\n",
      "[75]\tvalidation_0-error:0.46154\n",
      "[76]\tvalidation_0-error:0.46154\n",
      "[77]\tvalidation_0-error:0.46154\n",
      "[78]\tvalidation_0-error:0.46154\n",
      "[79]\tvalidation_0-error:0.46154\n",
      "[80]\tvalidation_0-error:0.46154\n",
      "[81]\tvalidation_0-error:0.46923\n",
      "[82]\tvalidation_0-error:0.46923\n",
      "[83]\tvalidation_0-error:0.46923\n",
      "[84]\tvalidation_0-error:0.46923\n",
      "[85]\tvalidation_0-error:0.47692\n",
      "[86]\tvalidation_0-error:0.47692\n",
      "[87]\tvalidation_0-error:0.47692\n",
      "[88]\tvalidation_0-error:0.47692\n",
      "[89]\tvalidation_0-error:0.46923\n",
      "[90]\tvalidation_0-error:0.46923\n",
      "[91]\tvalidation_0-error:0.46923\n",
      "[92]\tvalidation_0-error:0.46923\n",
      "[93]\tvalidation_0-error:0.46154\n",
      "[94]\tvalidation_0-error:0.46154\n",
      "[95]\tvalidation_0-error:0.46154\n",
      "[96]\tvalidation_0-error:0.46923\n",
      "[97]\tvalidation_0-error:0.46923\n",
      "[98]\tvalidation_0-error:0.46923\n",
      "[99]\tvalidation_0-error:0.46154\n",
      "Accuracy: 53.85%\n"
     ]
    }
   ],
   "source": [
    "model = XGBClassifier()\n",
    "eval_set = [(X_test, y_test)]\n",
    "model.fit(X_train, y_train, eval_metric=\"error\", eval_set=eval_set, verbose=True)\n",
    "\n",
    "y_pred = model.predict(X_test)\n",
    "predictions = [round(value) for value in y_pred]\n",
    "\n",
    "accuracy = accuracy_score(y_test, predictions)\n",
    "print(\"Accuracy: %.2f%%\" % (accuracy * 100.0))"
   ]
  },
  {
   "cell_type": "code",
   "execution_count": 201,
   "metadata": {},
   "outputs": [
    {
     "name": "stdout",
     "output_type": "stream",
     "text": [
      "RMSE: 349.93\n"
     ]
    }
   ],
   "source": [
    "import xgboost as xgb\n",
    "from sklearn.model_selection import train_test_split\n",
    "from sklearn.metrics import mean_squared_error\n",
    "\n",
    "data= df_dict[procedure]\n",
    "one_hot = pd.get_dummies(data, columns=['Rural Versus Urban'], drop_first= True)\n",
    "names_list = ['ccn', 'State Code']\n",
    "one_hot.drop(columns=names_list, inplace=True)\n",
    "features = one_hot.columns.to_list()\n",
    "features.remove('negotiated_rates_median')\n",
    "X = one_hot[features]\n",
    "# y = pd.qcut(one_hot['negotiated_rates_median'],q=2, labels=False)\n",
    "y = one_hot['negotiated_rates_median']\n",
    "dmatrix = xgb.DMatrix(data=X, label=y)\n",
    "params={ 'objective':'reg:squarederror',\n",
    "         'max_depth': 6, \n",
    "         'colsample_bylevel':0.5,\n",
    "         'learning_rate':0.01,\n",
    "         'random_state':20}\n",
    "cv_results = xgb.cv(dtrain=dmatrix, params=params, nfold=10, metrics={'rmse'}, as_pandas=True, seed=20, num_boost_round=1000)\n",
    "print('RMSE: %.2f' % cv_results['test-rmse-mean'].min())"
   ]
  }
 ],
 "metadata": {
  "kernelspec": {
   "display_name": "base",
   "language": "python",
   "name": "python3"
  },
  "language_info": {
   "codemirror_mode": {
    "name": "ipython",
    "version": 3
   },
   "file_extension": ".py",
   "mimetype": "text/x-python",
   "name": "python",
   "nbconvert_exporter": "python",
   "pygments_lexer": "ipython3",
   "version": "3.9.16"
  },
  "orig_nbformat": 4,
  "vscode": {
   "interpreter": {
    "hash": "ad2bdc8ecc057115af97d19610ffacc2b4e99fae6737bb82f5d7fb13d2f2c186"
   }
  }
 },
 "nbformat": 4,
 "nbformat_minor": 2
}
