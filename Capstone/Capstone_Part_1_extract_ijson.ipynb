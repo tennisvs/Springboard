{
 "cells": [
  {
   "attachments": {},
   "cell_type": "markdown",
   "metadata": {},
   "source": [
    "# Data Wrangling: Part 1\n",
    "\n",
    "The following series of notebooks are seperated for convinence and are all associated with Data Wrangling. There are two datasets we are working with for this project. The first dataset is the United Healthcare insurance claims dataset, which was just released. Unfortunately for us, these files are large json files that are not in a format that we can use at this time. In this notebook I hope to obtain the discount rates that we need."
   ]
  },
  {
   "attachments": {},
   "cell_type": "markdown",
   "metadata": {},
   "source": [
    "## Import packages\n",
    "\n",
    "Here I import the packages that I need. All the packages can be downloaded through conda or pip install."
   ]
  },
  {
   "cell_type": "code",
   "execution_count": 1,
   "metadata": {},
   "outputs": [],
   "source": [
    "import requests\n",
    "import shutil\n",
    "import ijson.backends.python as ijson\n",
    "import json\n",
    "import gzip\n",
    "from tqdm.auto import tqdm\n",
    "from csv import writer\n",
    "import os\n",
    "from io import StringIO\n",
    "import pandas as pd\n",
    "import numpy as np\n",
    "from dotenv import load_dotenv"
   ]
  },
  {
   "attachments": {},
   "cell_type": "markdown",
   "metadata": {},
   "source": [
    "### Data Organization\n",
    "\n",
    "To get started, its important to note how the data is available to us. As stated prior, the data is availiable online at: \n",
    "\n",
    "https://transparency-in-coverage.uhc.com/?_gl=1*5it7ok*_ga*NjMzOTkzMDA0LjE2NzI3OTc4MjA.*_ga_HZQWR2GYM4*MTY3Mjc5NzgyMC4xLjAuMTY3Mjc5NzgyMC4wLjAuMA\n",
    "\n",
    "You can get some information about the data is organized through this git repository:\n",
    "\n",
    "https://github.com/CMSgov/price-transparency-guide\n",
    "\n",
    "\n",
    "For summation, some basic facts:\n",
    "1. UHC has organized the files for download by either in-network and out-of-network data sets. Since we are interested is discount rates for those with CMS metrics, we are only going to be working with datasets that are within network, since UHC would not negotiate for out of network rates and these rates are most likely standardized by the provider. I created an excel spreadsheet called json_files_hyperlinks.xlsx with these contained json file hyperlinks.\n",
    "2. The json files are seperated by insured group, and some groups, that exceptionally large, and split up. For this reason, there are going to be repeated discount rates for various procedures/medications etc.\n",
    "3. Each json file is divided into two:\n",
    "    \n",
    "    a. Provider groups (aka a hospital, pharmacy, or private practice) which have reference numbers to be called\n",
    "    \n",
    "        i. NPI: providers unique number\n",
    "    \n",
    "        ii. reference number for the provider group\n",
    "    \n",
    "    b. Procedure/drug/service (code type and code number)\n",
    "    \n",
    "        i. reference number (referring to the group above)\n",
    "    \n",
    "        ii. discount rate negotiated with the group\n",
    "\n",
    "\n",
    "I will break this down futhure as we move along this notebook. For now I am currently using a dotenv to set up my directory where I am accessing files and storying files.\n"
   ]
  },
  {
   "cell_type": "code",
   "execution_count": 2,
   "metadata": {},
   "outputs": [],
   "source": [
    "# Define paths to important files and places where you want to store files\n",
    "load_dotenv()\n",
    "\n",
    "# This is the file with the hyperlinks of json files we need to parse\n",
    "hyperlink_path = 'json_files_hyperlinks.xlsx'\n",
    "hyperlinks = pd.read_excel(hyperlink_path)['Hyperlinks'].tolist()\n",
    "\n",
    "# Here is a place where I intent to store the json files to be downloaded alongside creating folders for the parsed data: These are large files so this will outside github.\n",
    "parent_dir= os.getenv('dir')\n",
    "dir_json = os.path.join(parent_dir, 'JSON')\n",
    "dir_data = os.path.join(parent_dir,'data_update')"
   ]
  },
  {
   "attachments": {},
   "cell_type": "markdown",
   "metadata": {},
   "source": [
    "The follow sections of code are used to parse the data. I have broken it up intro steps.\n",
    "\n",
    "First is downloading the files. Here I simiply take the hyperlink list and try to download the files, name the file without the html address and obtain the size of the file. This is to prevent downloading too large of a file. Included are other functions that might be helpful if you want to download multiple files and if you want to delete the file after it is parsed:"
   ]
  },
  {
   "cell_type": "code",
   "execution_count": null,
   "metadata": {},
   "outputs": [],
   "source": [
    "def download_file(url, path):\n",
    "    local_filename = url.split('/')[-1]\n",
    "    download_path = os.path.join(path,local_filename)\n",
    "    if os.path.exists(download_path):\n",
    "        print(download_path + '\\nFile already Exists!')\n",
    "        return (local_filename, download_path)\n",
    "    else:\n",
    "        with requests.get(url, stream=True) as r:\n",
    "            total_length = int(r.headers.get('content-length'))\n",
    "            with tqdm.wrapattr(r.raw, \"read\", total=total_length, desc=\"\")as raw:\n",
    "                with open(download_path, 'wb') as output:\n",
    "                    shutil.copyfileobj(raw, output)\n",
    "        print(local_filename +'\\nDownload Complete')\n",
    "        return (local_filename, download_path)\n",
    "\n",
    "\n",
    "def check_file_size(url):\n",
    "    with requests.get(url, stream=True) as r:\n",
    "        return int(r.headers.get('content-length'))\n",
    "\n",
    "def download_multiple_files(urls, path):\n",
    "    local_filenames = []\n",
    "    download_paths = []\n",
    "    for url in urls:\n",
    "        local_filename = url.split('/')[-1]\n",
    "        download_path = os.path.join(path,local_filename)\n",
    "        if os.path.exists(download_path):\n",
    "            print(download_path + '\\nFile already Exists!')\n",
    "            local_filenames.append(local_filename) \n",
    "            download_paths.append(download_path)\n",
    "        else:\n",
    "            with requests.get(url, stream=True) as r:\n",
    "                total_length = int(r.headers.get('content-length'))\n",
    "                with tqdm.wrapattr(r.raw, \"read\", total=total_length, desc=\"\")as raw:\n",
    "                    with open(download_path, 'wb') as output:\n",
    "                        shutil.copyfileobj(raw, output)\n",
    "            print(local_filename +'\\nDownload Complete!')\n",
    "            local_filenames.append(local_filename) \n",
    "            download_paths.append(download_path)\n",
    "    return (local_filenames, download_paths)\n",
    "\n",
    "def delete_file(path):\n",
    "    os.remove(path)\n",
    "    print(path + '\\nFile Deleted')"
   ]
  },
  {
   "attachments": {},
   "cell_type": "markdown",
   "metadata": {},
   "source": [
    "This function simply makes a folder name that matchs the hyperlink file to store or CVs after the data is parsed."
   ]
  },
  {
   "cell_type": "code",
   "execution_count": null,
   "metadata": {},
   "outputs": [],
   "source": [
    "def make_paths_folders(filename, json_file):\n",
    "    folder_name = filename[0:-8]\n",
    "    path= os.path.join(dir_data, folder_name)\n",
    "    if os.path.exists(path) is False:\n",
    "        os.mkdir(path)\n",
    "    else:\n",
    "        print(path + '\\nFolder Already Exists')\n",
    "    return path"
   ]
  },
  {
   "attachments": {},
   "cell_type": "markdown",
   "metadata": {},
   "source": [
    "The following code is to keep track of what files we have parsed. Since this is a large data set, it might be worth your time to split up the work as the data is parsed. Some of the files might be to large, and so I skipped these data sets."
   ]
  },
  {
   "cell_type": "code",
   "execution_count": null,
   "metadata": {},
   "outputs": [],
   "source": [
    "def write_large_file(filename, index, hyperlink):\n",
    "    with open(filename, 'a') as f:\n",
    "        writer_object = writer(f)\n",
    "        writer_object.writerow([index,hyperlink])\n",
    "        print('File Too Large, written to Large File CSV')\n",
    "        f.close()\n",
    "\n",
    "def write_completed_file(filename, index, hyperlink):\n",
    "    with open(filename, 'a') as f:\n",
    "        writer_object = writer(f)\n",
    "        writer_object.writerow([index,hyperlink])\n",
    "        print('File has been completed')\n",
    "        f.close()"
   ]
  },
  {
   "attachments": {},
   "cell_type": "markdown",
   "metadata": {},
   "source": [
    "The following code are fuctions related to parsing. The first two functions take in data from the json file and respectively write provider group data and billing code information with rates and right them into different files to store as CSV."
   ]
  },
  {
   "cell_type": "code",
   "execution_count": 3,
   "metadata": {},
   "outputs": [],
   "source": [
    "def write_provider_csv(filename, reference, tin, npi_provider_groups):\n",
    "    with open(filename, 'a') as f:\n",
    "        writer_object = writer(f)\n",
    "        for i,r in enumerate(reference):\n",
    "            writer_object.writerow([r,tin[i],npi_provider_groups[i]])\n",
    "        f.close()\n",
    "\n",
    "\n",
    "def write_rates_csv(filename, billing_type, billing_code, provider_reference, rate):\n",
    "    with open(filename, 'a') as f:\n",
    "        writer_object = writer(f)\n",
    "        for i, ref in enumerate(provider_reference):\n",
    "            writer_object.writerow([billing_type[i],billing_code[i],ref,rate[i]])\n",
    "        f.close()\n",
    "\n",
    "\n"
   ]
  },
  {
   "attachments": {},
   "cell_type": "markdown",
   "metadata": {},
   "source": [
    "The following code is responsible for parsing the json file. It goes through the code line by line and matching the values we are interested in and stores them. The parse_file contains two sections, reference groups and rates.\n",
    "\n",
    "The last two function combine the processes of the functions we have already wrote."
   ]
  },
  {
   "cell_type": "code",
   "execution_count": null,
   "metadata": {},
   "outputs": [],
   "source": [
    "def parse_file(filename, json_file):\n",
    "    path = make_paths_folders(filename, json_file)\n",
    "    providers_csv = os.path.join(path, filename[0:-8]) + '_providers.csv'\n",
    "    rates_csv = os.path.join(path, filename[0:-8]) + '_rates.csv'\n",
    "    write_provider_csv(providers_csv, ['provider_reference'], ['tin'], ['npi_provider_groups'])\n",
    "    write_rates_csv(rates_csv, ['billing_type'], ['billing_code'], ['provider_reference'], ['negotiated_rates'])\n",
    "\n",
    "    npi_provider_groups = []\n",
    "    tin = []\n",
    "    reference = []\n",
    "\n",
    "    billing_type = []\n",
    "    billing_code = []\n",
    "    ref_group = []\n",
    "    rates = []\n",
    "\n",
    "    with gzip.open(json_file, mode=\"rt\") as f:\n",
    "        parser = ijson.parse(f)\n",
    "        for prefix, event, value in tqdm(parser):\n",
    "            if len(npi_provider_groups) >= 1000:\n",
    "                write_provider_csv(providers_csv, reference, tin, npi_provider_groups)\n",
    "                npi_provider_groups = []\n",
    "                tin = []\n",
    "                reference = []\n",
    "            if len(rates) >= 10000:\n",
    "                write_rates_csv(rates_csv, billing_type, billing_code, ref_group, rates)\n",
    "                billing_type = []\n",
    "                billing_code = []\n",
    "                ref_group = []\n",
    "                rates = []\n",
    "\n",
    "            \n",
    "            if prefix=='provider_references.item.provider_groups.item.npi' and event=='start_array'and value==None:\n",
    "                temp_npi = []\n",
    "            elif prefix=='provider_references.item.provider_groups.item.npi.item' and event=='number':\n",
    "                temp_npi.append(value)\n",
    "            elif prefix=='provider_references.item.provider_groups.item.tin.value' and event=='string':\n",
    "                temp_tin =value\n",
    "            elif prefix=='provider_references.item.provider_group_id' and event=='number':\n",
    "                npi_provider_groups.append(temp_npi)\n",
    "                tin.append(temp_tin)\n",
    "                reference.append(value)\n",
    "\n",
    "            elif prefix=='provider_references' and event=='end_array':\n",
    "                write_provider_csv(providers_csv, reference, tin, npi_provider_groups)\n",
    "                npi_provider_groups = []\n",
    "                tin = []\n",
    "                reference = []\n",
    "            \n",
    "            elif prefix=='in_network.item.billing_code_type' and event=='string':\n",
    "                temp_type = value\n",
    "            elif prefix=='in_network.item.billing_code' and event=='string':\n",
    "                temp_code = value\n",
    "            elif prefix=='in_network.item.negotiated_rates.item.provider_references.item' and event=='number':\n",
    "                temp_ref = value\n",
    "            elif prefix=='in_network.item.negotiated_rates.item.negotiated_prices.item.negotiated_rate' and event=='number':\n",
    "                billing_type.append(temp_type)\n",
    "                billing_code.append(temp_code)\n",
    "                ref_group.append(temp_ref)\n",
    "                rates.append(value)\n",
    "            elif prefix=='in_network' and event=='end_array':\n",
    "                write_rates_csv(rates_csv, billing_type, billing_code, ref_group, rates)\n",
    "                billing_type = []\n",
    "                billing_code = []\n",
    "                ref_group = []\n",
    "                rates = []\n",
    "        f.close()\n",
    "    print(json_file + '\\nParse Complete')    \n",
    "\n",
    "def download_parse(url, path):\n",
    "    (filename, json_file) = download_file(url, path)\n",
    "    parse_file(filename, json_file)\n",
    "\n",
    "\n",
    "def download_parse_delete(url, path):\n",
    "    (filename, json_file) = download_file(url, path)\n",
    "    parse_file(filename, json_file)\n",
    "    delete_file(json_file)"
   ]
  },
  {
   "attachments": {},
   "cell_type": "markdown",
   "metadata": {},
   "source": [
    "Here you can store the the file you want to access. "
   ]
  },
  {
   "cell_type": "code",
   "execution_count": 16,
   "metadata": {},
   "outputs": [
    {
     "data": {
      "text/plain": [
       "'https://uhc-tic-mrf.azureedge.net/public-mrf/2023-01-01/2023-01-01_UnitedHealthcare-Insurance-Company_Insurer_D0015336_UHC-Dental_in-network-rates.json.gz'"
      ]
     },
     "execution_count": 16,
     "metadata": {},
     "output_type": "execute_result"
    }
   ],
   "source": [
    "hyperlinks[2949]"
   ]
  },
  {
   "attachments": {},
   "cell_type": "markdown",
   "metadata": {},
   "source": [
    "Lets work with files that are less than 100MB and parse those only to keep our RAM in check. The following processes may take some time."
   ]
  },
  {
   "cell_type": "code",
   "execution_count": 17,
   "metadata": {},
   "outputs": [
    {
     "name": "stdout",
     "output_type": "stream",
     "text": [
      "Hyperlink File: 2949 Started!\n"
     ]
    },
    {
     "data": {
      "application/vnd.jupyter.widget-view+json": {
       "model_id": "eb11d90da0a9484dbf6d9c28d6e8aa1a",
       "version_major": 2,
       "version_minor": 0
      },
      "text/plain": [
       "  0%|          | 0/79508575 [00:00<?, ?it/s]"
      ]
     },
     "metadata": {},
     "output_type": "display_data"
    },
    {
     "name": "stdout",
     "output_type": "stream",
     "text": [
      "2023-01-01_UnitedHealthcare-Insurance-Company_Insurer_D0015336_UHC-Dental_in-network-rates.json.gz\n",
      "Download Complete\n"
     ]
    },
    {
     "data": {
      "application/vnd.jupyter.widget-view+json": {
       "model_id": "b4d6529726de46089afa1bc892ad4d0b",
       "version_major": 2,
       "version_minor": 0
      },
      "text/plain": [
       "0it [00:00, ?it/s]"
      ]
     },
     "metadata": {},
     "output_type": "display_data"
    },
    {
     "name": "stdout",
     "output_type": "stream",
     "text": [
      "D:/Vignesh/Capstone\\JSON\\2023-01-01_UnitedHealthcare-Insurance-Company_Insurer_D0015336_UHC-Dental_in-network-rates.json.gz\n",
      "Parse Complete\n",
      "D:/Vignesh/Capstone\\JSON\\2023-01-01_UnitedHealthcare-Insurance-Company_Insurer_D0015336_UHC-Dental_in-network-rates.json.gz\n",
      "File Deleted\n",
      "File has been completed\n",
      "Hyperlink File: 2950 Started!\n"
     ]
    },
    {
     "data": {
      "application/vnd.jupyter.widget-view+json": {
       "model_id": "994a949783ba4ba8ab97bf45285c3502",
       "version_major": 2,
       "version_minor": 0
      },
      "text/plain": [
       "  0%|          | 0/79508575 [00:00<?, ?it/s]"
      ]
     },
     "metadata": {},
     "output_type": "display_data"
    },
    {
     "name": "stdout",
     "output_type": "stream",
     "text": [
      "2023-01-01_UnitedHealthcare-Insurance-Company_Insurer_D0015338_UHC-Dental_in-network-rates.json.gz\n",
      "Download Complete\n"
     ]
    },
    {
     "data": {
      "application/vnd.jupyter.widget-view+json": {
       "model_id": "344500ad01084cb4a659ba5389e7c458",
       "version_major": 2,
       "version_minor": 0
      },
      "text/plain": [
       "0it [00:00, ?it/s]"
      ]
     },
     "metadata": {},
     "output_type": "display_data"
    },
    {
     "name": "stdout",
     "output_type": "stream",
     "text": [
      "D:/Vignesh/Capstone\\JSON\\2023-01-01_UnitedHealthcare-Insurance-Company_Insurer_D0015338_UHC-Dental_in-network-rates.json.gz\n",
      "Parse Complete\n",
      "D:/Vignesh/Capstone\\JSON\\2023-01-01_UnitedHealthcare-Insurance-Company_Insurer_D0015338_UHC-Dental_in-network-rates.json.gz\n",
      "File Deleted\n",
      "File has been completed\n",
      "Hyperlink File: 2951 Started!\n"
     ]
    },
    {
     "data": {
      "application/vnd.jupyter.widget-view+json": {
       "model_id": "f52085eb979946ebacda4a6058eef006",
       "version_major": 2,
       "version_minor": 0
      },
      "text/plain": [
       "  0%|          | 0/79508575 [00:00<?, ?it/s]"
      ]
     },
     "metadata": {},
     "output_type": "display_data"
    },
    {
     "name": "stdout",
     "output_type": "stream",
     "text": [
      "2023-01-01_UnitedHealthcare-Insurance-Company_Insurer_D0015354_UHC-Dental_in-network-rates.json.gz\n",
      "Download Complete\n"
     ]
    },
    {
     "data": {
      "application/vnd.jupyter.widget-view+json": {
       "model_id": "e7c83c914669492fa0d4c10b89c28500",
       "version_major": 2,
       "version_minor": 0
      },
      "text/plain": [
       "0it [00:00, ?it/s]"
      ]
     },
     "metadata": {},
     "output_type": "display_data"
    },
    {
     "name": "stdout",
     "output_type": "stream",
     "text": [
      "D:/Vignesh/Capstone\\JSON\\2023-01-01_UnitedHealthcare-Insurance-Company_Insurer_D0015354_UHC-Dental_in-network-rates.json.gz\n",
      "Parse Complete\n",
      "D:/Vignesh/Capstone\\JSON\\2023-01-01_UnitedHealthcare-Insurance-Company_Insurer_D0015354_UHC-Dental_in-network-rates.json.gz\n",
      "File Deleted\n",
      "File has been completed\n",
      "Hyperlink File: 2952 Started!\n"
     ]
    },
    {
     "data": {
      "application/vnd.jupyter.widget-view+json": {
       "model_id": "c1d415fc3f7a4547ae0c3dcbe3a07d0f",
       "version_major": 2,
       "version_minor": 0
      },
      "text/plain": [
       "  0%|          | 0/79508575 [00:00<?, ?it/s]"
      ]
     },
     "metadata": {},
     "output_type": "display_data"
    },
    {
     "name": "stdout",
     "output_type": "stream",
     "text": [
      "2023-01-01_UnitedHealthcare-Insurance-Company_Insurer_D0015393_UHC-Dental_in-network-rates.json.gz\n",
      "Download Complete\n"
     ]
    },
    {
     "data": {
      "application/vnd.jupyter.widget-view+json": {
       "model_id": "c4a570e432f94acfa6283cf4de21e851",
       "version_major": 2,
       "version_minor": 0
      },
      "text/plain": [
       "0it [00:00, ?it/s]"
      ]
     },
     "metadata": {},
     "output_type": "display_data"
    },
    {
     "name": "stdout",
     "output_type": "stream",
     "text": [
      "D:/Vignesh/Capstone\\JSON\\2023-01-01_UnitedHealthcare-Insurance-Company_Insurer_D0015393_UHC-Dental_in-network-rates.json.gz\n",
      "Parse Complete\n",
      "D:/Vignesh/Capstone\\JSON\\2023-01-01_UnitedHealthcare-Insurance-Company_Insurer_D0015393_UHC-Dental_in-network-rates.json.gz\n",
      "File Deleted\n",
      "File has been completed\n",
      "Hyperlink File: 2953 Started!\n"
     ]
    },
    {
     "data": {
      "application/vnd.jupyter.widget-view+json": {
       "model_id": "ab8ef830f48f4914b4007dfc5a26ad87",
       "version_major": 2,
       "version_minor": 0
      },
      "text/plain": [
       "  0%|          | 0/79508575 [00:00<?, ?it/s]"
      ]
     },
     "metadata": {},
     "output_type": "display_data"
    },
    {
     "name": "stdout",
     "output_type": "stream",
     "text": [
      "2023-01-01_UnitedHealthcare-Insurance-Company_Insurer_D0015394_UHC-Dental_in-network-rates.json.gz\n",
      "Download Complete\n"
     ]
    },
    {
     "data": {
      "application/vnd.jupyter.widget-view+json": {
       "model_id": "c017162b342a4390afe65e007aa229d4",
       "version_major": 2,
       "version_minor": 0
      },
      "text/plain": [
       "0it [00:00, ?it/s]"
      ]
     },
     "metadata": {},
     "output_type": "display_data"
    },
    {
     "name": "stdout",
     "output_type": "stream",
     "text": [
      "D:/Vignesh/Capstone\\JSON\\2023-01-01_UnitedHealthcare-Insurance-Company_Insurer_D0015394_UHC-Dental_in-network-rates.json.gz\n",
      "Parse Complete\n",
      "D:/Vignesh/Capstone\\JSON\\2023-01-01_UnitedHealthcare-Insurance-Company_Insurer_D0015394_UHC-Dental_in-network-rates.json.gz\n",
      "File Deleted\n",
      "File has been completed\n",
      "Hyperlink File: 2954 Started!\n"
     ]
    },
    {
     "data": {
      "application/vnd.jupyter.widget-view+json": {
       "model_id": "fe90d53725434b9084fa5957d8a50d40",
       "version_major": 2,
       "version_minor": 0
      },
      "text/plain": [
       "  0%|          | 0/79508575 [00:00<?, ?it/s]"
      ]
     },
     "metadata": {},
     "output_type": "display_data"
    },
    {
     "name": "stdout",
     "output_type": "stream",
     "text": [
      "2023-01-01_UnitedHealthcare-Insurance-Company_Insurer_D0015441_UHC-Dental_in-network-rates.json.gz\n",
      "Download Complete\n"
     ]
    },
    {
     "data": {
      "application/vnd.jupyter.widget-view+json": {
       "model_id": "5f35674540e44f4e83f4f00bca337fef",
       "version_major": 2,
       "version_minor": 0
      },
      "text/plain": [
       "0it [00:00, ?it/s]"
      ]
     },
     "metadata": {},
     "output_type": "display_data"
    },
    {
     "name": "stdout",
     "output_type": "stream",
     "text": [
      "D:/Vignesh/Capstone\\JSON\\2023-01-01_UnitedHealthcare-Insurance-Company_Insurer_D0015441_UHC-Dental_in-network-rates.json.gz\n",
      "Parse Complete\n",
      "D:/Vignesh/Capstone\\JSON\\2023-01-01_UnitedHealthcare-Insurance-Company_Insurer_D0015441_UHC-Dental_in-network-rates.json.gz\n",
      "File Deleted\n",
      "File has been completed\n",
      "Hyperlink File: 2955 Started!\n"
     ]
    },
    {
     "data": {
      "application/vnd.jupyter.widget-view+json": {
       "model_id": "619f6df55da447b7934f144805cb003c",
       "version_major": 2,
       "version_minor": 0
      },
      "text/plain": [
       "  0%|          | 0/79508575 [00:00<?, ?it/s]"
      ]
     },
     "metadata": {},
     "output_type": "display_data"
    },
    {
     "name": "stdout",
     "output_type": "stream",
     "text": [
      "2023-01-01_UnitedHealthcare-Insurance-Company_Insurer_D0015465_UHC-Dental_in-network-rates.json.gz\n",
      "Download Complete\n"
     ]
    },
    {
     "data": {
      "application/vnd.jupyter.widget-view+json": {
       "model_id": "4b8df99c70844d098b1dc44283dbaa86",
       "version_major": 2,
       "version_minor": 0
      },
      "text/plain": [
       "0it [00:00, ?it/s]"
      ]
     },
     "metadata": {},
     "output_type": "display_data"
    },
    {
     "name": "stdout",
     "output_type": "stream",
     "text": [
      "D:/Vignesh/Capstone\\JSON\\2023-01-01_UnitedHealthcare-Insurance-Company_Insurer_D0015465_UHC-Dental_in-network-rates.json.gz\n",
      "Parse Complete\n",
      "D:/Vignesh/Capstone\\JSON\\2023-01-01_UnitedHealthcare-Insurance-Company_Insurer_D0015465_UHC-Dental_in-network-rates.json.gz\n",
      "File Deleted\n",
      "File has been completed\n",
      "Hyperlink File: 2956 Started!\n"
     ]
    },
    {
     "data": {
      "application/vnd.jupyter.widget-view+json": {
       "model_id": "d0a6d10d95b748219dedc60f9942f18a",
       "version_major": 2,
       "version_minor": 0
      },
      "text/plain": [
       "  0%|          | 0/79508575 [00:00<?, ?it/s]"
      ]
     },
     "metadata": {},
     "output_type": "display_data"
    },
    {
     "name": "stdout",
     "output_type": "stream",
     "text": [
      "2023-01-01_UnitedHealthcare-Insurance-Company_Insurer_D0015471_UHC-Dental_in-network-rates.json.gz\n",
      "Download Complete\n"
     ]
    },
    {
     "data": {
      "application/vnd.jupyter.widget-view+json": {
       "model_id": "ed0d008d20934f23b3acdd4ef2346f28",
       "version_major": 2,
       "version_minor": 0
      },
      "text/plain": [
       "0it [00:00, ?it/s]"
      ]
     },
     "metadata": {},
     "output_type": "display_data"
    },
    {
     "name": "stdout",
     "output_type": "stream",
     "text": [
      "D:/Vignesh/Capstone\\JSON\\2023-01-01_UnitedHealthcare-Insurance-Company_Insurer_D0015471_UHC-Dental_in-network-rates.json.gz\n",
      "Parse Complete\n",
      "D:/Vignesh/Capstone\\JSON\\2023-01-01_UnitedHealthcare-Insurance-Company_Insurer_D0015471_UHC-Dental_in-network-rates.json.gz\n",
      "File Deleted\n",
      "File has been completed\n",
      "Hyperlink File: 2957 Started!\n"
     ]
    },
    {
     "data": {
      "application/vnd.jupyter.widget-view+json": {
       "model_id": "b083144cc3fe41c79a7bcfd55aa22ac7",
       "version_major": 2,
       "version_minor": 0
      },
      "text/plain": [
       "  0%|          | 0/79508575 [00:00<?, ?it/s]"
      ]
     },
     "metadata": {},
     "output_type": "display_data"
    },
    {
     "name": "stdout",
     "output_type": "stream",
     "text": [
      "2023-01-01_UnitedHealthcare-Insurance-Company_Insurer_D0015486_UHC-Dental_in-network-rates.json.gz\n",
      "Download Complete\n"
     ]
    },
    {
     "data": {
      "application/vnd.jupyter.widget-view+json": {
       "model_id": "29e05b7d457f4af5844c8d05bc960dd0",
       "version_major": 2,
       "version_minor": 0
      },
      "text/plain": [
       "0it [00:00, ?it/s]"
      ]
     },
     "metadata": {},
     "output_type": "display_data"
    },
    {
     "name": "stdout",
     "output_type": "stream",
     "text": [
      "D:/Vignesh/Capstone\\JSON\\2023-01-01_UnitedHealthcare-Insurance-Company_Insurer_D0015486_UHC-Dental_in-network-rates.json.gz\n",
      "Parse Complete\n",
      "D:/Vignesh/Capstone\\JSON\\2023-01-01_UnitedHealthcare-Insurance-Company_Insurer_D0015486_UHC-Dental_in-network-rates.json.gz\n",
      "File Deleted\n",
      "File has been completed\n",
      "Hyperlink File: 2958 Started!\n"
     ]
    },
    {
     "data": {
      "application/vnd.jupyter.widget-view+json": {
       "model_id": "c3ae609f9f6f484989609c66deaa7326",
       "version_major": 2,
       "version_minor": 0
      },
      "text/plain": [
       "  0%|          | 0/79508575 [00:00<?, ?it/s]"
      ]
     },
     "metadata": {},
     "output_type": "display_data"
    },
    {
     "name": "stdout",
     "output_type": "stream",
     "text": [
      "2023-01-01_UnitedHealthcare-Insurance-Company_Insurer_D0015504_UHC-Dental_in-network-rates.json.gz\n",
      "Download Complete\n"
     ]
    },
    {
     "data": {
      "application/vnd.jupyter.widget-view+json": {
       "model_id": "2fff34e518924d4c9a6b1d48efefd9c8",
       "version_major": 2,
       "version_minor": 0
      },
      "text/plain": [
       "0it [00:00, ?it/s]"
      ]
     },
     "metadata": {},
     "output_type": "display_data"
    },
    {
     "name": "stdout",
     "output_type": "stream",
     "text": [
      "D:/Vignesh/Capstone\\JSON\\2023-01-01_UnitedHealthcare-Insurance-Company_Insurer_D0015504_UHC-Dental_in-network-rates.json.gz\n",
      "Parse Complete\n",
      "D:/Vignesh/Capstone\\JSON\\2023-01-01_UnitedHealthcare-Insurance-Company_Insurer_D0015504_UHC-Dental_in-network-rates.json.gz\n",
      "File Deleted\n",
      "File has been completed\n",
      "Hyperlink File: 2959 Started!\n"
     ]
    },
    {
     "data": {
      "application/vnd.jupyter.widget-view+json": {
       "model_id": "9de6ba7b3e2d4525a7b0b92dcfbb724e",
       "version_major": 2,
       "version_minor": 0
      },
      "text/plain": [
       "  0%|          | 0/79508575 [00:00<?, ?it/s]"
      ]
     },
     "metadata": {},
     "output_type": "display_data"
    },
    {
     "name": "stdout",
     "output_type": "stream",
     "text": [
      "2023-01-01_UnitedHealthcare-Insurance-Company_Insurer_D0015538_UHC-Dental_in-network-rates.json.gz\n",
      "Download Complete\n"
     ]
    },
    {
     "data": {
      "application/vnd.jupyter.widget-view+json": {
       "model_id": "2ec39e15e2934713b29d2c86e8591161",
       "version_major": 2,
       "version_minor": 0
      },
      "text/plain": [
       "0it [00:00, ?it/s]"
      ]
     },
     "metadata": {},
     "output_type": "display_data"
    },
    {
     "name": "stdout",
     "output_type": "stream",
     "text": [
      "D:/Vignesh/Capstone\\JSON\\2023-01-01_UnitedHealthcare-Insurance-Company_Insurer_D0015538_UHC-Dental_in-network-rates.json.gz\n",
      "Parse Complete\n",
      "D:/Vignesh/Capstone\\JSON\\2023-01-01_UnitedHealthcare-Insurance-Company_Insurer_D0015538_UHC-Dental_in-network-rates.json.gz\n",
      "File Deleted\n",
      "File has been completed\n",
      "Hyperlink File: 2960 Started!\n"
     ]
    },
    {
     "data": {
      "application/vnd.jupyter.widget-view+json": {
       "model_id": "46a78719824141a9b8c3694c59b1f6ba",
       "version_major": 2,
       "version_minor": 0
      },
      "text/plain": [
       "  0%|          | 0/79508575 [00:00<?, ?it/s]"
      ]
     },
     "metadata": {},
     "output_type": "display_data"
    },
    {
     "name": "stdout",
     "output_type": "stream",
     "text": [
      "2023-01-01_UnitedHealthcare-Insurance-Company_Insurer_D0015568_UHC-Dental_in-network-rates.json.gz\n",
      "Download Complete\n"
     ]
    },
    {
     "data": {
      "application/vnd.jupyter.widget-view+json": {
       "model_id": "a69b2cce916f4bf795562322d65c2277",
       "version_major": 2,
       "version_minor": 0
      },
      "text/plain": [
       "0it [00:00, ?it/s]"
      ]
     },
     "metadata": {},
     "output_type": "display_data"
    },
    {
     "name": "stdout",
     "output_type": "stream",
     "text": [
      "D:/Vignesh/Capstone\\JSON\\2023-01-01_UnitedHealthcare-Insurance-Company_Insurer_D0015568_UHC-Dental_in-network-rates.json.gz\n",
      "Parse Complete\n",
      "D:/Vignesh/Capstone\\JSON\\2023-01-01_UnitedHealthcare-Insurance-Company_Insurer_D0015568_UHC-Dental_in-network-rates.json.gz\n",
      "File Deleted\n",
      "File has been completed\n",
      "Hyperlink File: 2961 Started!\n"
     ]
    },
    {
     "data": {
      "application/vnd.jupyter.widget-view+json": {
       "model_id": "2a6234768e51402894a212792424dd23",
       "version_major": 2,
       "version_minor": 0
      },
      "text/plain": [
       "  0%|          | 0/79508575 [00:00<?, ?it/s]"
      ]
     },
     "metadata": {},
     "output_type": "display_data"
    },
    {
     "name": "stdout",
     "output_type": "stream",
     "text": [
      "2023-01-01_UnitedHealthcare-Insurance-Company_Insurer_D0015634_UHC-Dental_in-network-rates.json.gz\n",
      "Download Complete\n"
     ]
    },
    {
     "data": {
      "application/vnd.jupyter.widget-view+json": {
       "model_id": "189df31e6688467e9969fd3918ff655f",
       "version_major": 2,
       "version_minor": 0
      },
      "text/plain": [
       "0it [00:00, ?it/s]"
      ]
     },
     "metadata": {},
     "output_type": "display_data"
    },
    {
     "name": "stdout",
     "output_type": "stream",
     "text": [
      "D:/Vignesh/Capstone\\JSON\\2023-01-01_UnitedHealthcare-Insurance-Company_Insurer_D0015634_UHC-Dental_in-network-rates.json.gz\n",
      "Parse Complete\n",
      "D:/Vignesh/Capstone\\JSON\\2023-01-01_UnitedHealthcare-Insurance-Company_Insurer_D0015634_UHC-Dental_in-network-rates.json.gz\n",
      "File Deleted\n",
      "File has been completed\n",
      "Hyperlink File: 2962 Started!\n"
     ]
    },
    {
     "data": {
      "application/vnd.jupyter.widget-view+json": {
       "model_id": "f9c801889083450f865055fba809cd9f",
       "version_major": 2,
       "version_minor": 0
      },
      "text/plain": [
       "  0%|          | 0/79508575 [00:00<?, ?it/s]"
      ]
     },
     "metadata": {},
     "output_type": "display_data"
    },
    {
     "name": "stdout",
     "output_type": "stream",
     "text": [
      "2023-01-01_UnitedHealthcare-Insurance-Company_Insurer_D0015648_UHC-Dental_in-network-rates.json.gz\n",
      "Download Complete\n"
     ]
    },
    {
     "data": {
      "application/vnd.jupyter.widget-view+json": {
       "model_id": "7eea805701b14f759913bf2a565f4951",
       "version_major": 2,
       "version_minor": 0
      },
      "text/plain": [
       "0it [00:00, ?it/s]"
      ]
     },
     "metadata": {},
     "output_type": "display_data"
    },
    {
     "name": "stdout",
     "output_type": "stream",
     "text": [
      "D:/Vignesh/Capstone\\JSON\\2023-01-01_UnitedHealthcare-Insurance-Company_Insurer_D0015648_UHC-Dental_in-network-rates.json.gz\n",
      "Parse Complete\n",
      "D:/Vignesh/Capstone\\JSON\\2023-01-01_UnitedHealthcare-Insurance-Company_Insurer_D0015648_UHC-Dental_in-network-rates.json.gz\n",
      "File Deleted\n",
      "File has been completed\n",
      "Hyperlink File: 2963 Started!\n"
     ]
    },
    {
     "data": {
      "application/vnd.jupyter.widget-view+json": {
       "model_id": "536c164ad7a84ce2af67dae0dac8aa16",
       "version_major": 2,
       "version_minor": 0
      },
      "text/plain": [
       "  0%|          | 0/79508575 [00:00<?, ?it/s]"
      ]
     },
     "metadata": {},
     "output_type": "display_data"
    },
    {
     "name": "stdout",
     "output_type": "stream",
     "text": [
      "2023-01-01_UnitedHealthcare-Insurance-Company_Insurer_D0015656_UHC-Dental_in-network-rates.json.gz\n",
      "Download Complete\n"
     ]
    },
    {
     "data": {
      "application/vnd.jupyter.widget-view+json": {
       "model_id": "9acdbfe138e046c88f8e917a48086c80",
       "version_major": 2,
       "version_minor": 0
      },
      "text/plain": [
       "0it [00:00, ?it/s]"
      ]
     },
     "metadata": {},
     "output_type": "display_data"
    },
    {
     "name": "stdout",
     "output_type": "stream",
     "text": [
      "D:/Vignesh/Capstone\\JSON\\2023-01-01_UnitedHealthcare-Insurance-Company_Insurer_D0015656_UHC-Dental_in-network-rates.json.gz\n",
      "Parse Complete\n",
      "D:/Vignesh/Capstone\\JSON\\2023-01-01_UnitedHealthcare-Insurance-Company_Insurer_D0015656_UHC-Dental_in-network-rates.json.gz\n",
      "File Deleted\n",
      "File has been completed\n",
      "Hyperlink File: 2964 Started!\n"
     ]
    },
    {
     "data": {
      "application/vnd.jupyter.widget-view+json": {
       "model_id": "92bb253c4d7e433681ba568ae02d2847",
       "version_major": 2,
       "version_minor": 0
      },
      "text/plain": [
       "  0%|          | 0/79508575 [00:00<?, ?it/s]"
      ]
     },
     "metadata": {},
     "output_type": "display_data"
    },
    {
     "name": "stdout",
     "output_type": "stream",
     "text": [
      "2023-01-01_UnitedHealthcare-Insurance-Company_Insurer_D0015688_UHC-Dental_in-network-rates.json.gz\n",
      "Download Complete\n"
     ]
    },
    {
     "data": {
      "application/vnd.jupyter.widget-view+json": {
       "model_id": "7bafaec5d3e646528497d3cc4dabc4e7",
       "version_major": 2,
       "version_minor": 0
      },
      "text/plain": [
       "0it [00:00, ?it/s]"
      ]
     },
     "metadata": {},
     "output_type": "display_data"
    },
    {
     "name": "stdout",
     "output_type": "stream",
     "text": [
      "D:/Vignesh/Capstone\\JSON\\2023-01-01_UnitedHealthcare-Insurance-Company_Insurer_D0015688_UHC-Dental_in-network-rates.json.gz\n",
      "Parse Complete\n",
      "D:/Vignesh/Capstone\\JSON\\2023-01-01_UnitedHealthcare-Insurance-Company_Insurer_D0015688_UHC-Dental_in-network-rates.json.gz\n",
      "File Deleted\n",
      "File has been completed\n",
      "Hyperlink File: 2965 Started!\n"
     ]
    },
    {
     "data": {
      "application/vnd.jupyter.widget-view+json": {
       "model_id": "0030f7a54c6c4d8d8888f8639140ea5c",
       "version_major": 2,
       "version_minor": 0
      },
      "text/plain": [
       "  0%|          | 0/79508575 [00:00<?, ?it/s]"
      ]
     },
     "metadata": {},
     "output_type": "display_data"
    },
    {
     "name": "stdout",
     "output_type": "stream",
     "text": [
      "2023-01-01_UnitedHealthcare-Insurance-Company_Insurer_D0015700_UHC-Dental_in-network-rates.json.gz\n",
      "Download Complete\n"
     ]
    },
    {
     "data": {
      "application/vnd.jupyter.widget-view+json": {
       "model_id": "035832ed79f1417388ed9f14d1afb13c",
       "version_major": 2,
       "version_minor": 0
      },
      "text/plain": [
       "0it [00:00, ?it/s]"
      ]
     },
     "metadata": {},
     "output_type": "display_data"
    },
    {
     "name": "stdout",
     "output_type": "stream",
     "text": [
      "D:/Vignesh/Capstone\\JSON\\2023-01-01_UnitedHealthcare-Insurance-Company_Insurer_D0015700_UHC-Dental_in-network-rates.json.gz\n",
      "Parse Complete\n",
      "D:/Vignesh/Capstone\\JSON\\2023-01-01_UnitedHealthcare-Insurance-Company_Insurer_D0015700_UHC-Dental_in-network-rates.json.gz\n",
      "File Deleted\n",
      "File has been completed\n",
      "Hyperlink File: 2966 Started!\n"
     ]
    },
    {
     "data": {
      "application/vnd.jupyter.widget-view+json": {
       "model_id": "5ab7e1b2e5aa4e0885fa47bf40314cde",
       "version_major": 2,
       "version_minor": 0
      },
      "text/plain": [
       "  0%|          | 0/79508575 [00:00<?, ?it/s]"
      ]
     },
     "metadata": {},
     "output_type": "display_data"
    },
    {
     "name": "stdout",
     "output_type": "stream",
     "text": [
      "2023-01-01_UnitedHealthcare-Insurance-Company_Insurer_D0015754_UHC-Dental_in-network-rates.json.gz\n",
      "Download Complete\n"
     ]
    },
    {
     "data": {
      "application/vnd.jupyter.widget-view+json": {
       "model_id": "91e8ede4cf6b4829b4bf95eaeb57e72d",
       "version_major": 2,
       "version_minor": 0
      },
      "text/plain": [
       "0it [00:00, ?it/s]"
      ]
     },
     "metadata": {},
     "output_type": "display_data"
    },
    {
     "name": "stdout",
     "output_type": "stream",
     "text": [
      "D:/Vignesh/Capstone\\JSON\\2023-01-01_UnitedHealthcare-Insurance-Company_Insurer_D0015754_UHC-Dental_in-network-rates.json.gz\n",
      "Parse Complete\n",
      "D:/Vignesh/Capstone\\JSON\\2023-01-01_UnitedHealthcare-Insurance-Company_Insurer_D0015754_UHC-Dental_in-network-rates.json.gz\n",
      "File Deleted\n",
      "File has been completed\n",
      "Hyperlink File: 2967 Started!\n"
     ]
    },
    {
     "data": {
      "application/vnd.jupyter.widget-view+json": {
       "model_id": "daac35e392db43f18b1d566b9221917e",
       "version_major": 2,
       "version_minor": 0
      },
      "text/plain": [
       "  0%|          | 0/79508575 [00:00<?, ?it/s]"
      ]
     },
     "metadata": {},
     "output_type": "display_data"
    },
    {
     "name": "stdout",
     "output_type": "stream",
     "text": [
      "2023-01-01_UnitedHealthcare-Insurance-Company_Insurer_D0015771_UHC-Dental_in-network-rates.json.gz\n",
      "Download Complete\n"
     ]
    },
    {
     "data": {
      "application/vnd.jupyter.widget-view+json": {
       "model_id": "9613b6a15db94946a796b2b3d4f8861c",
       "version_major": 2,
       "version_minor": 0
      },
      "text/plain": [
       "0it [00:00, ?it/s]"
      ]
     },
     "metadata": {},
     "output_type": "display_data"
    },
    {
     "name": "stdout",
     "output_type": "stream",
     "text": [
      "D:/Vignesh/Capstone\\JSON\\2023-01-01_UnitedHealthcare-Insurance-Company_Insurer_D0015771_UHC-Dental_in-network-rates.json.gz\n",
      "Parse Complete\n",
      "D:/Vignesh/Capstone\\JSON\\2023-01-01_UnitedHealthcare-Insurance-Company_Insurer_D0015771_UHC-Dental_in-network-rates.json.gz\n",
      "File Deleted\n",
      "File has been completed\n",
      "Hyperlink File: 2968 Started!\n"
     ]
    },
    {
     "data": {
      "application/vnd.jupyter.widget-view+json": {
       "model_id": "0c74f76b8bff4db3937021072495b047",
       "version_major": 2,
       "version_minor": 0
      },
      "text/plain": [
       "  0%|          | 0/79508575 [00:00<?, ?it/s]"
      ]
     },
     "metadata": {},
     "output_type": "display_data"
    },
    {
     "name": "stdout",
     "output_type": "stream",
     "text": [
      "2023-01-01_UnitedHealthcare-Insurance-Company_Insurer_D0015857_UHC-Dental_in-network-rates.json.gz\n",
      "Download Complete\n"
     ]
    },
    {
     "data": {
      "application/vnd.jupyter.widget-view+json": {
       "model_id": "5feec580d0164a6795cd01ba047f1405",
       "version_major": 2,
       "version_minor": 0
      },
      "text/plain": [
       "0it [00:00, ?it/s]"
      ]
     },
     "metadata": {},
     "output_type": "display_data"
    },
    {
     "name": "stdout",
     "output_type": "stream",
     "text": [
      "D:/Vignesh/Capstone\\JSON\\2023-01-01_UnitedHealthcare-Insurance-Company_Insurer_D0015857_UHC-Dental_in-network-rates.json.gz\n",
      "Parse Complete\n",
      "D:/Vignesh/Capstone\\JSON\\2023-01-01_UnitedHealthcare-Insurance-Company_Insurer_D0015857_UHC-Dental_in-network-rates.json.gz\n",
      "File Deleted\n",
      "File has been completed\n",
      "Hyperlink File: 2969 Started!\n"
     ]
    },
    {
     "data": {
      "application/vnd.jupyter.widget-view+json": {
       "model_id": "1a06abaf0d264b27b0c211b81f8bcf0f",
       "version_major": 2,
       "version_minor": 0
      },
      "text/plain": [
       "  0%|          | 0/79508575 [00:00<?, ?it/s]"
      ]
     },
     "metadata": {},
     "output_type": "display_data"
    },
    {
     "name": "stdout",
     "output_type": "stream",
     "text": [
      "2023-01-01_UnitedHealthcare-Insurance-Company_Insurer_D0015866_UHC-Dental_in-network-rates.json.gz\n",
      "Download Complete\n"
     ]
    },
    {
     "data": {
      "application/vnd.jupyter.widget-view+json": {
       "model_id": "163a0cb356ca4232bb807636c36cc102",
       "version_major": 2,
       "version_minor": 0
      },
      "text/plain": [
       "0it [00:00, ?it/s]"
      ]
     },
     "metadata": {},
     "output_type": "display_data"
    },
    {
     "name": "stdout",
     "output_type": "stream",
     "text": [
      "D:/Vignesh/Capstone\\JSON\\2023-01-01_UnitedHealthcare-Insurance-Company_Insurer_D0015866_UHC-Dental_in-network-rates.json.gz\n",
      "Parse Complete\n",
      "D:/Vignesh/Capstone\\JSON\\2023-01-01_UnitedHealthcare-Insurance-Company_Insurer_D0015866_UHC-Dental_in-network-rates.json.gz\n",
      "File Deleted\n",
      "File has been completed\n",
      "Hyperlink File: 2970 Started!\n"
     ]
    },
    {
     "data": {
      "application/vnd.jupyter.widget-view+json": {
       "model_id": "cdd3bceb4dd94e07b940c085295ed90b",
       "version_major": 2,
       "version_minor": 0
      },
      "text/plain": [
       "  0%|          | 0/79508575 [00:00<?, ?it/s]"
      ]
     },
     "metadata": {},
     "output_type": "display_data"
    },
    {
     "name": "stdout",
     "output_type": "stream",
     "text": [
      "2023-01-01_UnitedHealthcare-Insurance-Company_Insurer_D0015903_UHC-Dental_in-network-rates.json.gz\n",
      "Download Complete\n"
     ]
    },
    {
     "data": {
      "application/vnd.jupyter.widget-view+json": {
       "model_id": "dcb9c30370d641da8ef7a9648006f49e",
       "version_major": 2,
       "version_minor": 0
      },
      "text/plain": [
       "0it [00:00, ?it/s]"
      ]
     },
     "metadata": {},
     "output_type": "display_data"
    },
    {
     "name": "stdout",
     "output_type": "stream",
     "text": [
      "D:/Vignesh/Capstone\\JSON\\2023-01-01_UnitedHealthcare-Insurance-Company_Insurer_D0015903_UHC-Dental_in-network-rates.json.gz\n",
      "Parse Complete\n",
      "D:/Vignesh/Capstone\\JSON\\2023-01-01_UnitedHealthcare-Insurance-Company_Insurer_D0015903_UHC-Dental_in-network-rates.json.gz\n",
      "File Deleted\n",
      "File has been completed\n",
      "Hyperlink File: 2971 Started!\n"
     ]
    },
    {
     "data": {
      "application/vnd.jupyter.widget-view+json": {
       "model_id": "3438473a602a4e3bb59118a8260087cd",
       "version_major": 2,
       "version_minor": 0
      },
      "text/plain": [
       "  0%|          | 0/79508575 [00:00<?, ?it/s]"
      ]
     },
     "metadata": {},
     "output_type": "display_data"
    },
    {
     "name": "stdout",
     "output_type": "stream",
     "text": [
      "2023-01-01_UnitedHealthcare-Insurance-Company_Insurer_D0016008_UHC-Dental_in-network-rates.json.gz\n",
      "Download Complete\n"
     ]
    },
    {
     "data": {
      "application/vnd.jupyter.widget-view+json": {
       "model_id": "31286223d1c14be591f10d05839091ed",
       "version_major": 2,
       "version_minor": 0
      },
      "text/plain": [
       "0it [00:00, ?it/s]"
      ]
     },
     "metadata": {},
     "output_type": "display_data"
    },
    {
     "name": "stdout",
     "output_type": "stream",
     "text": [
      "D:/Vignesh/Capstone\\JSON\\2023-01-01_UnitedHealthcare-Insurance-Company_Insurer_D0016008_UHC-Dental_in-network-rates.json.gz\n",
      "Parse Complete\n",
      "D:/Vignesh/Capstone\\JSON\\2023-01-01_UnitedHealthcare-Insurance-Company_Insurer_D0016008_UHC-Dental_in-network-rates.json.gz\n",
      "File Deleted\n",
      "File has been completed\n",
      "Hyperlink File: 2972 Started!\n"
     ]
    },
    {
     "data": {
      "application/vnd.jupyter.widget-view+json": {
       "model_id": "e44a89cea4f8486084fffbb4f322c853",
       "version_major": 2,
       "version_minor": 0
      },
      "text/plain": [
       "  0%|          | 0/79508575 [00:00<?, ?it/s]"
      ]
     },
     "metadata": {},
     "output_type": "display_data"
    },
    {
     "name": "stdout",
     "output_type": "stream",
     "text": [
      "2023-01-01_UnitedHealthcare-Insurance-Company_Insurer_D0016163_UHC-Dental_in-network-rates.json.gz\n",
      "Download Complete\n"
     ]
    },
    {
     "data": {
      "application/vnd.jupyter.widget-view+json": {
       "model_id": "bf73f6267c224b16bca21ba37363656c",
       "version_major": 2,
       "version_minor": 0
      },
      "text/plain": [
       "0it [00:00, ?it/s]"
      ]
     },
     "metadata": {},
     "output_type": "display_data"
    },
    {
     "name": "stdout",
     "output_type": "stream",
     "text": [
      "D:/Vignesh/Capstone\\JSON\\2023-01-01_UnitedHealthcare-Insurance-Company_Insurer_D0016163_UHC-Dental_in-network-rates.json.gz\n",
      "Parse Complete\n",
      "D:/Vignesh/Capstone\\JSON\\2023-01-01_UnitedHealthcare-Insurance-Company_Insurer_D0016163_UHC-Dental_in-network-rates.json.gz\n",
      "File Deleted\n",
      "File has been completed\n",
      "Hyperlink File: 2973 Started!\n"
     ]
    },
    {
     "data": {
      "application/vnd.jupyter.widget-view+json": {
       "model_id": "ce0bc564dc214fd385476df9fa08c5ca",
       "version_major": 2,
       "version_minor": 0
      },
      "text/plain": [
       "  0%|          | 0/79508575 [00:00<?, ?it/s]"
      ]
     },
     "metadata": {},
     "output_type": "display_data"
    },
    {
     "name": "stdout",
     "output_type": "stream",
     "text": [
      "2023-01-01_UnitedHealthcare-Insurance-Company_Insurer_D0016177_UHC-Dental_in-network-rates.json.gz\n",
      "Download Complete\n"
     ]
    },
    {
     "data": {
      "application/vnd.jupyter.widget-view+json": {
       "model_id": "9a431758a57d4f07aaf71aaae1deb1cd",
       "version_major": 2,
       "version_minor": 0
      },
      "text/plain": [
       "0it [00:00, ?it/s]"
      ]
     },
     "metadata": {},
     "output_type": "display_data"
    },
    {
     "name": "stdout",
     "output_type": "stream",
     "text": [
      "D:/Vignesh/Capstone\\JSON\\2023-01-01_UnitedHealthcare-Insurance-Company_Insurer_D0016177_UHC-Dental_in-network-rates.json.gz\n",
      "Parse Complete\n",
      "D:/Vignesh/Capstone\\JSON\\2023-01-01_UnitedHealthcare-Insurance-Company_Insurer_D0016177_UHC-Dental_in-network-rates.json.gz\n",
      "File Deleted\n",
      "File has been completed\n",
      "Hyperlink File: 2974 Started!\n"
     ]
    },
    {
     "data": {
      "application/vnd.jupyter.widget-view+json": {
       "model_id": "9027f450d1ca4cb88d4b4ef563127a16",
       "version_major": 2,
       "version_minor": 0
      },
      "text/plain": [
       "  0%|          | 0/79508575 [00:00<?, ?it/s]"
      ]
     },
     "metadata": {},
     "output_type": "display_data"
    },
    {
     "name": "stdout",
     "output_type": "stream",
     "text": [
      "2023-01-01_UnitedHealthcare-Insurance-Company_Insurer_D0016197_UHC-Dental_in-network-rates.json.gz\n",
      "Download Complete\n"
     ]
    },
    {
     "data": {
      "application/vnd.jupyter.widget-view+json": {
       "model_id": "53232c1850fa4d37952faca6ac515bc8",
       "version_major": 2,
       "version_minor": 0
      },
      "text/plain": [
       "0it [00:00, ?it/s]"
      ]
     },
     "metadata": {},
     "output_type": "display_data"
    },
    {
     "name": "stdout",
     "output_type": "stream",
     "text": [
      "D:/Vignesh/Capstone\\JSON\\2023-01-01_UnitedHealthcare-Insurance-Company_Insurer_D0016197_UHC-Dental_in-network-rates.json.gz\n",
      "Parse Complete\n",
      "D:/Vignesh/Capstone\\JSON\\2023-01-01_UnitedHealthcare-Insurance-Company_Insurer_D0016197_UHC-Dental_in-network-rates.json.gz\n",
      "File Deleted\n",
      "File has been completed\n",
      "Hyperlink File: 2975 Started!\n"
     ]
    },
    {
     "data": {
      "application/vnd.jupyter.widget-view+json": {
       "model_id": "5f82c8df93014218a6c9c8b325946716",
       "version_major": 2,
       "version_minor": 0
      },
      "text/plain": [
       "  0%|          | 0/79508575 [00:00<?, ?it/s]"
      ]
     },
     "metadata": {},
     "output_type": "display_data"
    },
    {
     "name": "stdout",
     "output_type": "stream",
     "text": [
      "2023-01-01_UnitedHealthcare-Insurance-Company_Insurer_D0016377_UHC-Dental_in-network-rates.json.gz\n",
      "Download Complete\n"
     ]
    },
    {
     "data": {
      "application/vnd.jupyter.widget-view+json": {
       "model_id": "7f47a502f9fb411dbb8f3e530c5f6c2b",
       "version_major": 2,
       "version_minor": 0
      },
      "text/plain": [
       "0it [00:00, ?it/s]"
      ]
     },
     "metadata": {},
     "output_type": "display_data"
    },
    {
     "name": "stdout",
     "output_type": "stream",
     "text": [
      "D:/Vignesh/Capstone\\JSON\\2023-01-01_UnitedHealthcare-Insurance-Company_Insurer_D0016377_UHC-Dental_in-network-rates.json.gz\n",
      "Parse Complete\n",
      "D:/Vignesh/Capstone\\JSON\\2023-01-01_UnitedHealthcare-Insurance-Company_Insurer_D0016377_UHC-Dental_in-network-rates.json.gz\n",
      "File Deleted\n",
      "File has been completed\n",
      "Hyperlink File: 2976 Started!\n"
     ]
    },
    {
     "data": {
      "application/vnd.jupyter.widget-view+json": {
       "model_id": "9c425be084ee4340b660c89a810f11b3",
       "version_major": 2,
       "version_minor": 0
      },
      "text/plain": [
       "  0%|          | 0/79508575 [00:00<?, ?it/s]"
      ]
     },
     "metadata": {},
     "output_type": "display_data"
    },
    {
     "name": "stdout",
     "output_type": "stream",
     "text": [
      "2023-01-01_UnitedHealthcare-Insurance-Company_Insurer_D0016443_UHC-Dental_in-network-rates.json.gz\n",
      "Download Complete\n"
     ]
    },
    {
     "data": {
      "application/vnd.jupyter.widget-view+json": {
       "model_id": "12c8b991a399498e82ab1a3a445ff6cf",
       "version_major": 2,
       "version_minor": 0
      },
      "text/plain": [
       "0it [00:00, ?it/s]"
      ]
     },
     "metadata": {},
     "output_type": "display_data"
    },
    {
     "name": "stdout",
     "output_type": "stream",
     "text": [
      "D:/Vignesh/Capstone\\JSON\\2023-01-01_UnitedHealthcare-Insurance-Company_Insurer_D0016443_UHC-Dental_in-network-rates.json.gz\n",
      "Parse Complete\n",
      "D:/Vignesh/Capstone\\JSON\\2023-01-01_UnitedHealthcare-Insurance-Company_Insurer_D0016443_UHC-Dental_in-network-rates.json.gz\n",
      "File Deleted\n",
      "File has been completed\n",
      "Hyperlink File: 2977 Started!\n"
     ]
    },
    {
     "data": {
      "application/vnd.jupyter.widget-view+json": {
       "model_id": "1816bffadb3b4e0b82af82626fa2b447",
       "version_major": 2,
       "version_minor": 0
      },
      "text/plain": [
       "  0%|          | 0/79508575 [00:00<?, ?it/s]"
      ]
     },
     "metadata": {},
     "output_type": "display_data"
    },
    {
     "name": "stdout",
     "output_type": "stream",
     "text": [
      "2023-01-01_UnitedHealthcare-Insurance-Company_Insurer_D0016474_UHC-Dental_in-network-rates.json.gz\n",
      "Download Complete\n"
     ]
    },
    {
     "data": {
      "application/vnd.jupyter.widget-view+json": {
       "model_id": "dc12cb697f4f4fd6b72c920e7978c389",
       "version_major": 2,
       "version_minor": 0
      },
      "text/plain": [
       "0it [00:00, ?it/s]"
      ]
     },
     "metadata": {},
     "output_type": "display_data"
    },
    {
     "name": "stdout",
     "output_type": "stream",
     "text": [
      "D:/Vignesh/Capstone\\JSON\\2023-01-01_UnitedHealthcare-Insurance-Company_Insurer_D0016474_UHC-Dental_in-network-rates.json.gz\n",
      "Parse Complete\n",
      "D:/Vignesh/Capstone\\JSON\\2023-01-01_UnitedHealthcare-Insurance-Company_Insurer_D0016474_UHC-Dental_in-network-rates.json.gz\n",
      "File Deleted\n",
      "File has been completed\n",
      "Hyperlink File: 2978 Started!\n"
     ]
    },
    {
     "data": {
      "application/vnd.jupyter.widget-view+json": {
       "model_id": "5f283148d76d49fd93b7f8c0c70fe88e",
       "version_major": 2,
       "version_minor": 0
      },
      "text/plain": [
       "  0%|          | 0/79508575 [00:00<?, ?it/s]"
      ]
     },
     "metadata": {},
     "output_type": "display_data"
    },
    {
     "name": "stdout",
     "output_type": "stream",
     "text": [
      "2023-01-01_UnitedHealthcare-Insurance-Company_Insurer_D0016511_UHC-Dental_in-network-rates.json.gz\n",
      "Download Complete\n"
     ]
    },
    {
     "data": {
      "application/vnd.jupyter.widget-view+json": {
       "model_id": "9b8872d4da544520829c25a56c289ff0",
       "version_major": 2,
       "version_minor": 0
      },
      "text/plain": [
       "0it [00:00, ?it/s]"
      ]
     },
     "metadata": {},
     "output_type": "display_data"
    },
    {
     "name": "stdout",
     "output_type": "stream",
     "text": [
      "D:/Vignesh/Capstone\\JSON\\2023-01-01_UnitedHealthcare-Insurance-Company_Insurer_D0016511_UHC-Dental_in-network-rates.json.gz\n",
      "Parse Complete\n",
      "D:/Vignesh/Capstone\\JSON\\2023-01-01_UnitedHealthcare-Insurance-Company_Insurer_D0016511_UHC-Dental_in-network-rates.json.gz\n",
      "File Deleted\n",
      "File has been completed\n",
      "Hyperlink File: 2979 Started!\n"
     ]
    },
    {
     "data": {
      "application/vnd.jupyter.widget-view+json": {
       "model_id": "5e53cccc3a234ce2bef5ebcedf90b6b4",
       "version_major": 2,
       "version_minor": 0
      },
      "text/plain": [
       "  0%|          | 0/79508575 [00:00<?, ?it/s]"
      ]
     },
     "metadata": {},
     "output_type": "display_data"
    },
    {
     "name": "stdout",
     "output_type": "stream",
     "text": [
      "2023-01-01_UnitedHealthcare-Insurance-Company_Insurer_D0016591_UHC-Dental_in-network-rates.json.gz\n",
      "Download Complete\n"
     ]
    },
    {
     "data": {
      "application/vnd.jupyter.widget-view+json": {
       "model_id": "55a9b877d2494548a4884e957f054b5f",
       "version_major": 2,
       "version_minor": 0
      },
      "text/plain": [
       "0it [00:00, ?it/s]"
      ]
     },
     "metadata": {},
     "output_type": "display_data"
    },
    {
     "name": "stdout",
     "output_type": "stream",
     "text": [
      "D:/Vignesh/Capstone\\JSON\\2023-01-01_UnitedHealthcare-Insurance-Company_Insurer_D0016591_UHC-Dental_in-network-rates.json.gz\n",
      "Parse Complete\n",
      "D:/Vignesh/Capstone\\JSON\\2023-01-01_UnitedHealthcare-Insurance-Company_Insurer_D0016591_UHC-Dental_in-network-rates.json.gz\n",
      "File Deleted\n",
      "File has been completed\n",
      "Hyperlink File: 2980 Started!\n"
     ]
    },
    {
     "data": {
      "application/vnd.jupyter.widget-view+json": {
       "model_id": "9a459f21c6d346ddbd33e21337050f9f",
       "version_major": 2,
       "version_minor": 0
      },
      "text/plain": [
       "  0%|          | 0/79508575 [00:00<?, ?it/s]"
      ]
     },
     "metadata": {},
     "output_type": "display_data"
    },
    {
     "name": "stdout",
     "output_type": "stream",
     "text": [
      "2023-01-01_UnitedHealthcare-Insurance-Company_Insurer_D0016600_UHC-Dental_in-network-rates.json.gz\n",
      "Download Complete\n"
     ]
    },
    {
     "data": {
      "application/vnd.jupyter.widget-view+json": {
       "model_id": "ae71696a04a84ddd970c8230c56dbf43",
       "version_major": 2,
       "version_minor": 0
      },
      "text/plain": [
       "0it [00:00, ?it/s]"
      ]
     },
     "metadata": {},
     "output_type": "display_data"
    },
    {
     "name": "stdout",
     "output_type": "stream",
     "text": [
      "D:/Vignesh/Capstone\\JSON\\2023-01-01_UnitedHealthcare-Insurance-Company_Insurer_D0016600_UHC-Dental_in-network-rates.json.gz\n",
      "Parse Complete\n",
      "D:/Vignesh/Capstone\\JSON\\2023-01-01_UnitedHealthcare-Insurance-Company_Insurer_D0016600_UHC-Dental_in-network-rates.json.gz\n",
      "File Deleted\n",
      "File has been completed\n",
      "Hyperlink File: 2981 Started!\n"
     ]
    },
    {
     "data": {
      "application/vnd.jupyter.widget-view+json": {
       "model_id": "0fd3fec23cd8473cacf81409e42f6882",
       "version_major": 2,
       "version_minor": 0
      },
      "text/plain": [
       "  0%|          | 0/79508575 [00:00<?, ?it/s]"
      ]
     },
     "metadata": {},
     "output_type": "display_data"
    },
    {
     "name": "stdout",
     "output_type": "stream",
     "text": [
      "2023-01-01_UnitedHealthcare-Insurance-Company_Insurer_D0016734_UHC-Dental_in-network-rates.json.gz\n",
      "Download Complete\n"
     ]
    },
    {
     "data": {
      "application/vnd.jupyter.widget-view+json": {
       "model_id": "bc6f5b5f6fd74e5f82a39571fde27808",
       "version_major": 2,
       "version_minor": 0
      },
      "text/plain": [
       "0it [00:00, ?it/s]"
      ]
     },
     "metadata": {},
     "output_type": "display_data"
    },
    {
     "name": "stdout",
     "output_type": "stream",
     "text": [
      "D:/Vignesh/Capstone\\JSON\\2023-01-01_UnitedHealthcare-Insurance-Company_Insurer_D0016734_UHC-Dental_in-network-rates.json.gz\n",
      "Parse Complete\n",
      "D:/Vignesh/Capstone\\JSON\\2023-01-01_UnitedHealthcare-Insurance-Company_Insurer_D0016734_UHC-Dental_in-network-rates.json.gz\n",
      "File Deleted\n",
      "File has been completed\n",
      "Hyperlink File: 2982 Started!\n"
     ]
    },
    {
     "data": {
      "application/vnd.jupyter.widget-view+json": {
       "model_id": "21731d85b814480ab845bd831b23189c",
       "version_major": 2,
       "version_minor": 0
      },
      "text/plain": [
       "  0%|          | 0/79508575 [00:00<?, ?it/s]"
      ]
     },
     "metadata": {},
     "output_type": "display_data"
    },
    {
     "name": "stdout",
     "output_type": "stream",
     "text": [
      "2023-01-01_UnitedHealthcare-Insurance-Company_Insurer_D0016814_UHC-Dental_in-network-rates.json.gz\n",
      "Download Complete\n"
     ]
    },
    {
     "data": {
      "application/vnd.jupyter.widget-view+json": {
       "model_id": "aaf99b0d47354198b824d979f9ff77ae",
       "version_major": 2,
       "version_minor": 0
      },
      "text/plain": [
       "0it [00:00, ?it/s]"
      ]
     },
     "metadata": {},
     "output_type": "display_data"
    },
    {
     "name": "stdout",
     "output_type": "stream",
     "text": [
      "D:/Vignesh/Capstone\\JSON\\2023-01-01_UnitedHealthcare-Insurance-Company_Insurer_D0016814_UHC-Dental_in-network-rates.json.gz\n",
      "Parse Complete\n",
      "D:/Vignesh/Capstone\\JSON\\2023-01-01_UnitedHealthcare-Insurance-Company_Insurer_D0016814_UHC-Dental_in-network-rates.json.gz\n",
      "File Deleted\n",
      "File has been completed\n",
      "Hyperlink File: 2983 Started!\n"
     ]
    },
    {
     "data": {
      "application/vnd.jupyter.widget-view+json": {
       "model_id": "e346fb80d9a045b180b922a2fc98b6b4",
       "version_major": 2,
       "version_minor": 0
      },
      "text/plain": [
       "  0%|          | 0/79508575 [00:00<?, ?it/s]"
      ]
     },
     "metadata": {},
     "output_type": "display_data"
    },
    {
     "name": "stdout",
     "output_type": "stream",
     "text": [
      "2023-01-01_UnitedHealthcare-Insurance-Company_Insurer_D0016815_UHC-Dental_in-network-rates.json.gz\n",
      "Download Complete\n"
     ]
    },
    {
     "data": {
      "application/vnd.jupyter.widget-view+json": {
       "model_id": "7e7d9aaf7c604ba2bb6204e1d8d42715",
       "version_major": 2,
       "version_minor": 0
      },
      "text/plain": [
       "0it [00:00, ?it/s]"
      ]
     },
     "metadata": {},
     "output_type": "display_data"
    },
    {
     "name": "stdout",
     "output_type": "stream",
     "text": [
      "D:/Vignesh/Capstone\\JSON\\2023-01-01_UnitedHealthcare-Insurance-Company_Insurer_D0016815_UHC-Dental_in-network-rates.json.gz\n",
      "Parse Complete\n",
      "D:/Vignesh/Capstone\\JSON\\2023-01-01_UnitedHealthcare-Insurance-Company_Insurer_D0016815_UHC-Dental_in-network-rates.json.gz\n",
      "File Deleted\n",
      "File has been completed\n",
      "Hyperlink File: 2984 Started!\n"
     ]
    },
    {
     "data": {
      "application/vnd.jupyter.widget-view+json": {
       "model_id": "c2681bbbd73e4a388268d09a36a0cdd9",
       "version_major": 2,
       "version_minor": 0
      },
      "text/plain": [
       "  0%|          | 0/79508575 [00:00<?, ?it/s]"
      ]
     },
     "metadata": {},
     "output_type": "display_data"
    },
    {
     "name": "stdout",
     "output_type": "stream",
     "text": [
      "2023-01-01_UnitedHealthcare-Insurance-Company_Insurer_D0016905_UHC-Dental_in-network-rates.json.gz\n",
      "Download Complete\n"
     ]
    },
    {
     "data": {
      "application/vnd.jupyter.widget-view+json": {
       "model_id": "7eef4336885444f49040d33ad28d2c4c",
       "version_major": 2,
       "version_minor": 0
      },
      "text/plain": [
       "0it [00:00, ?it/s]"
      ]
     },
     "metadata": {},
     "output_type": "display_data"
    },
    {
     "name": "stdout",
     "output_type": "stream",
     "text": [
      "D:/Vignesh/Capstone\\JSON\\2023-01-01_UnitedHealthcare-Insurance-Company_Insurer_D0016905_UHC-Dental_in-network-rates.json.gz\n",
      "Parse Complete\n",
      "D:/Vignesh/Capstone\\JSON\\2023-01-01_UnitedHealthcare-Insurance-Company_Insurer_D0016905_UHC-Dental_in-network-rates.json.gz\n",
      "File Deleted\n",
      "File has been completed\n",
      "Hyperlink File: 2985 Started!\n"
     ]
    },
    {
     "data": {
      "application/vnd.jupyter.widget-view+json": {
       "model_id": "0aa40fffad11461a95a734170a7644ea",
       "version_major": 2,
       "version_minor": 0
      },
      "text/plain": [
       "  0%|          | 0/79508575 [00:00<?, ?it/s]"
      ]
     },
     "metadata": {},
     "output_type": "display_data"
    },
    {
     "name": "stdout",
     "output_type": "stream",
     "text": [
      "2023-01-01_UnitedHealthcare-Insurance-Company_Insurer_D0016965_UHC-Dental_in-network-rates.json.gz\n",
      "Download Complete\n"
     ]
    },
    {
     "data": {
      "application/vnd.jupyter.widget-view+json": {
       "model_id": "3260fb2ac0fd40fb859c4788be6b0b2c",
       "version_major": 2,
       "version_minor": 0
      },
      "text/plain": [
       "0it [00:00, ?it/s]"
      ]
     },
     "metadata": {},
     "output_type": "display_data"
    },
    {
     "name": "stdout",
     "output_type": "stream",
     "text": [
      "D:/Vignesh/Capstone\\JSON\\2023-01-01_UnitedHealthcare-Insurance-Company_Insurer_D0016965_UHC-Dental_in-network-rates.json.gz\n",
      "Parse Complete\n",
      "D:/Vignesh/Capstone\\JSON\\2023-01-01_UnitedHealthcare-Insurance-Company_Insurer_D0016965_UHC-Dental_in-network-rates.json.gz\n",
      "File Deleted\n",
      "File has been completed\n",
      "Hyperlink File: 2986 Started!\n"
     ]
    },
    {
     "data": {
      "application/vnd.jupyter.widget-view+json": {
       "model_id": "9171fea699c84746a38e89aabf143fa4",
       "version_major": 2,
       "version_minor": 0
      },
      "text/plain": [
       "  0%|          | 0/79508575 [00:00<?, ?it/s]"
      ]
     },
     "metadata": {},
     "output_type": "display_data"
    },
    {
     "name": "stdout",
     "output_type": "stream",
     "text": [
      "2023-01-01_UnitedHealthcare-Insurance-Company_Insurer_D0016978_UHC-Dental_in-network-rates.json.gz\n",
      "Download Complete\n"
     ]
    },
    {
     "data": {
      "application/vnd.jupyter.widget-view+json": {
       "model_id": "8d168484439d4193a2fda5098d56101c",
       "version_major": 2,
       "version_minor": 0
      },
      "text/plain": [
       "0it [00:00, ?it/s]"
      ]
     },
     "metadata": {},
     "output_type": "display_data"
    },
    {
     "name": "stdout",
     "output_type": "stream",
     "text": [
      "D:/Vignesh/Capstone\\JSON\\2023-01-01_UnitedHealthcare-Insurance-Company_Insurer_D0016978_UHC-Dental_in-network-rates.json.gz\n",
      "Parse Complete\n",
      "D:/Vignesh/Capstone\\JSON\\2023-01-01_UnitedHealthcare-Insurance-Company_Insurer_D0016978_UHC-Dental_in-network-rates.json.gz\n",
      "File Deleted\n",
      "File has been completed\n",
      "Hyperlink File: 2987 Started!\n"
     ]
    },
    {
     "data": {
      "application/vnd.jupyter.widget-view+json": {
       "model_id": "02cec6710c2642b284ee868db30b7d81",
       "version_major": 2,
       "version_minor": 0
      },
      "text/plain": [
       "  0%|          | 0/79508575 [00:00<?, ?it/s]"
      ]
     },
     "metadata": {},
     "output_type": "display_data"
    },
    {
     "name": "stdout",
     "output_type": "stream",
     "text": [
      "2023-01-01_UnitedHealthcare-Insurance-Company_Insurer_D0016988_UHC-Dental_in-network-rates.json.gz\n",
      "Download Complete\n"
     ]
    },
    {
     "data": {
      "application/vnd.jupyter.widget-view+json": {
       "model_id": "fbdcfc25188a483998c4bf4da6683c73",
       "version_major": 2,
       "version_minor": 0
      },
      "text/plain": [
       "0it [00:00, ?it/s]"
      ]
     },
     "metadata": {},
     "output_type": "display_data"
    },
    {
     "name": "stdout",
     "output_type": "stream",
     "text": [
      "D:/Vignesh/Capstone\\JSON\\2023-01-01_UnitedHealthcare-Insurance-Company_Insurer_D0016988_UHC-Dental_in-network-rates.json.gz\n",
      "Parse Complete\n",
      "D:/Vignesh/Capstone\\JSON\\2023-01-01_UnitedHealthcare-Insurance-Company_Insurer_D0016988_UHC-Dental_in-network-rates.json.gz\n",
      "File Deleted\n",
      "File has been completed\n",
      "Hyperlink File: 2988 Started!\n"
     ]
    },
    {
     "data": {
      "application/vnd.jupyter.widget-view+json": {
       "model_id": "e1b95786685f4c108449307814a9dddf",
       "version_major": 2,
       "version_minor": 0
      },
      "text/plain": [
       "  0%|          | 0/79508575 [00:00<?, ?it/s]"
      ]
     },
     "metadata": {},
     "output_type": "display_data"
    },
    {
     "name": "stdout",
     "output_type": "stream",
     "text": [
      "2023-01-01_UnitedHealthcare-Insurance-Company_Insurer_D0017006_UHC-Dental_in-network-rates.json.gz\n",
      "Download Complete\n"
     ]
    },
    {
     "data": {
      "application/vnd.jupyter.widget-view+json": {
       "model_id": "678e50f7597c4148b141d488d77638be",
       "version_major": 2,
       "version_minor": 0
      },
      "text/plain": [
       "0it [00:00, ?it/s]"
      ]
     },
     "metadata": {},
     "output_type": "display_data"
    },
    {
     "name": "stdout",
     "output_type": "stream",
     "text": [
      "D:/Vignesh/Capstone\\JSON\\2023-01-01_UnitedHealthcare-Insurance-Company_Insurer_D0017006_UHC-Dental_in-network-rates.json.gz\n",
      "Parse Complete\n",
      "D:/Vignesh/Capstone\\JSON\\2023-01-01_UnitedHealthcare-Insurance-Company_Insurer_D0017006_UHC-Dental_in-network-rates.json.gz\n",
      "File Deleted\n",
      "File has been completed\n",
      "Hyperlink File: 2989 Started!\n"
     ]
    },
    {
     "data": {
      "application/vnd.jupyter.widget-view+json": {
       "model_id": "a88c7c2822834922b606906f479bbccb",
       "version_major": 2,
       "version_minor": 0
      },
      "text/plain": [
       "  0%|          | 0/79508575 [00:00<?, ?it/s]"
      ]
     },
     "metadata": {},
     "output_type": "display_data"
    },
    {
     "name": "stdout",
     "output_type": "stream",
     "text": [
      "2023-01-01_UnitedHealthcare-Insurance-Company_Insurer_D0017008_UHC-Dental_in-network-rates.json.gz\n",
      "Download Complete\n"
     ]
    },
    {
     "data": {
      "application/vnd.jupyter.widget-view+json": {
       "model_id": "2a525ee01bb74fe29eee228e11ba14f9",
       "version_major": 2,
       "version_minor": 0
      },
      "text/plain": [
       "0it [00:00, ?it/s]"
      ]
     },
     "metadata": {},
     "output_type": "display_data"
    },
    {
     "name": "stdout",
     "output_type": "stream",
     "text": [
      "D:/Vignesh/Capstone\\JSON\\2023-01-01_UnitedHealthcare-Insurance-Company_Insurer_D0017008_UHC-Dental_in-network-rates.json.gz\n",
      "Parse Complete\n",
      "D:/Vignesh/Capstone\\JSON\\2023-01-01_UnitedHealthcare-Insurance-Company_Insurer_D0017008_UHC-Dental_in-network-rates.json.gz\n",
      "File Deleted\n",
      "File has been completed\n",
      "Hyperlink File: 2990 Started!\n"
     ]
    },
    {
     "data": {
      "application/vnd.jupyter.widget-view+json": {
       "model_id": "5fd8ab4a70b04ffd8eeef4b5fe1d29f9",
       "version_major": 2,
       "version_minor": 0
      },
      "text/plain": [
       "  0%|          | 0/79508575 [00:00<?, ?it/s]"
      ]
     },
     "metadata": {},
     "output_type": "display_data"
    },
    {
     "name": "stdout",
     "output_type": "stream",
     "text": [
      "2023-01-01_UnitedHealthcare-Insurance-Company_Insurer_D0017010_UHC-Dental_in-network-rates.json.gz\n",
      "Download Complete\n"
     ]
    },
    {
     "data": {
      "application/vnd.jupyter.widget-view+json": {
       "model_id": "eb3f4829454f47bfa77d71c6092d9a50",
       "version_major": 2,
       "version_minor": 0
      },
      "text/plain": [
       "0it [00:00, ?it/s]"
      ]
     },
     "metadata": {},
     "output_type": "display_data"
    },
    {
     "name": "stdout",
     "output_type": "stream",
     "text": [
      "D:/Vignesh/Capstone\\JSON\\2023-01-01_UnitedHealthcare-Insurance-Company_Insurer_D0017010_UHC-Dental_in-network-rates.json.gz\n",
      "Parse Complete\n",
      "D:/Vignesh/Capstone\\JSON\\2023-01-01_UnitedHealthcare-Insurance-Company_Insurer_D0017010_UHC-Dental_in-network-rates.json.gz\n",
      "File Deleted\n",
      "File has been completed\n",
      "Hyperlink File: 2991 Started!\n"
     ]
    },
    {
     "data": {
      "application/vnd.jupyter.widget-view+json": {
       "model_id": "0d15a39e6ef04ed0bf012ab26017bd6a",
       "version_major": 2,
       "version_minor": 0
      },
      "text/plain": [
       "  0%|          | 0/79508575 [00:00<?, ?it/s]"
      ]
     },
     "metadata": {},
     "output_type": "display_data"
    },
    {
     "name": "stdout",
     "output_type": "stream",
     "text": [
      "2023-01-01_UnitedHealthcare-Insurance-Company_Insurer_D0017011_UHC-Dental_in-network-rates.json.gz\n",
      "Download Complete\n"
     ]
    },
    {
     "data": {
      "application/vnd.jupyter.widget-view+json": {
       "model_id": "db2e1d97a5b9424da6ad3dfa12e4879f",
       "version_major": 2,
       "version_minor": 0
      },
      "text/plain": [
       "0it [00:00, ?it/s]"
      ]
     },
     "metadata": {},
     "output_type": "display_data"
    },
    {
     "name": "stdout",
     "output_type": "stream",
     "text": [
      "D:/Vignesh/Capstone\\JSON\\2023-01-01_UnitedHealthcare-Insurance-Company_Insurer_D0017011_UHC-Dental_in-network-rates.json.gz\n",
      "Parse Complete\n",
      "D:/Vignesh/Capstone\\JSON\\2023-01-01_UnitedHealthcare-Insurance-Company_Insurer_D0017011_UHC-Dental_in-network-rates.json.gz\n",
      "File Deleted\n",
      "File has been completed\n",
      "Hyperlink File: 2992 Started!\n"
     ]
    },
    {
     "data": {
      "application/vnd.jupyter.widget-view+json": {
       "model_id": "02d3edeff85d44dc8010a4e24538c757",
       "version_major": 2,
       "version_minor": 0
      },
      "text/plain": [
       "  0%|          | 0/79508575 [00:00<?, ?it/s]"
      ]
     },
     "metadata": {},
     "output_type": "display_data"
    },
    {
     "name": "stdout",
     "output_type": "stream",
     "text": [
      "2023-01-01_UnitedHealthcare-Insurance-Company_Insurer_D0017045_UHC-Dental_in-network-rates.json.gz\n",
      "Download Complete\n"
     ]
    },
    {
     "data": {
      "application/vnd.jupyter.widget-view+json": {
       "model_id": "6f75b77db1174075bdbfe28e71c21354",
       "version_major": 2,
       "version_minor": 0
      },
      "text/plain": [
       "0it [00:00, ?it/s]"
      ]
     },
     "metadata": {},
     "output_type": "display_data"
    },
    {
     "name": "stdout",
     "output_type": "stream",
     "text": [
      "D:/Vignesh/Capstone\\JSON\\2023-01-01_UnitedHealthcare-Insurance-Company_Insurer_D0017045_UHC-Dental_in-network-rates.json.gz\n",
      "Parse Complete\n",
      "D:/Vignesh/Capstone\\JSON\\2023-01-01_UnitedHealthcare-Insurance-Company_Insurer_D0017045_UHC-Dental_in-network-rates.json.gz\n",
      "File Deleted\n",
      "File has been completed\n",
      "Hyperlink File: 2993 Started!\n"
     ]
    },
    {
     "data": {
      "application/vnd.jupyter.widget-view+json": {
       "model_id": "ffc4a5ba5872441498a517b95df7f077",
       "version_major": 2,
       "version_minor": 0
      },
      "text/plain": [
       "  0%|          | 0/79508575 [00:00<?, ?it/s]"
      ]
     },
     "metadata": {},
     "output_type": "display_data"
    },
    {
     "name": "stdout",
     "output_type": "stream",
     "text": [
      "2023-01-01_UnitedHealthcare-Insurance-Company_Insurer_D0017046_UHC-Dental_in-network-rates.json.gz\n",
      "Download Complete\n"
     ]
    },
    {
     "data": {
      "application/vnd.jupyter.widget-view+json": {
       "model_id": "8a0c7485546542ef8c457ae750619d6d",
       "version_major": 2,
       "version_minor": 0
      },
      "text/plain": [
       "0it [00:00, ?it/s]"
      ]
     },
     "metadata": {},
     "output_type": "display_data"
    },
    {
     "name": "stdout",
     "output_type": "stream",
     "text": [
      "D:/Vignesh/Capstone\\JSON\\2023-01-01_UnitedHealthcare-Insurance-Company_Insurer_D0017046_UHC-Dental_in-network-rates.json.gz\n",
      "Parse Complete\n",
      "D:/Vignesh/Capstone\\JSON\\2023-01-01_UnitedHealthcare-Insurance-Company_Insurer_D0017046_UHC-Dental_in-network-rates.json.gz\n",
      "File Deleted\n",
      "File has been completed\n",
      "Hyperlink File: 2994 Started!\n"
     ]
    },
    {
     "data": {
      "application/vnd.jupyter.widget-view+json": {
       "model_id": "f40289f1b01e4ca9b8d23b9ca722edad",
       "version_major": 2,
       "version_minor": 0
      },
      "text/plain": [
       "  0%|          | 0/79508575 [00:00<?, ?it/s]"
      ]
     },
     "metadata": {},
     "output_type": "display_data"
    },
    {
     "name": "stdout",
     "output_type": "stream",
     "text": [
      "2023-01-01_UnitedHealthcare-Insurance-Company_Insurer_D0017053_UHC-Dental_in-network-rates.json.gz\n",
      "Download Complete\n"
     ]
    },
    {
     "data": {
      "application/vnd.jupyter.widget-view+json": {
       "model_id": "f7a925706b0f4be78537b5d6f00941af",
       "version_major": 2,
       "version_minor": 0
      },
      "text/plain": [
       "0it [00:00, ?it/s]"
      ]
     },
     "metadata": {},
     "output_type": "display_data"
    },
    {
     "name": "stdout",
     "output_type": "stream",
     "text": [
      "D:/Vignesh/Capstone\\JSON\\2023-01-01_UnitedHealthcare-Insurance-Company_Insurer_D0017053_UHC-Dental_in-network-rates.json.gz\n",
      "Parse Complete\n",
      "D:/Vignesh/Capstone\\JSON\\2023-01-01_UnitedHealthcare-Insurance-Company_Insurer_D0017053_UHC-Dental_in-network-rates.json.gz\n",
      "File Deleted\n",
      "File has been completed\n",
      "Hyperlink File: 2995 Started!\n"
     ]
    },
    {
     "data": {
      "application/vnd.jupyter.widget-view+json": {
       "model_id": "d39d9e44b5774942a650b778a033052d",
       "version_major": 2,
       "version_minor": 0
      },
      "text/plain": [
       "  0%|          | 0/79508575 [00:00<?, ?it/s]"
      ]
     },
     "metadata": {},
     "output_type": "display_data"
    },
    {
     "name": "stdout",
     "output_type": "stream",
     "text": [
      "2023-01-01_UnitedHealthcare-Insurance-Company_Insurer_D0017054_UHC-Dental_in-network-rates.json.gz\n",
      "Download Complete\n"
     ]
    },
    {
     "data": {
      "application/vnd.jupyter.widget-view+json": {
       "model_id": "551853dcd2e84fe2b980c5288e667307",
       "version_major": 2,
       "version_minor": 0
      },
      "text/plain": [
       "0it [00:00, ?it/s]"
      ]
     },
     "metadata": {},
     "output_type": "display_data"
    },
    {
     "name": "stdout",
     "output_type": "stream",
     "text": [
      "D:/Vignesh/Capstone\\JSON\\2023-01-01_UnitedHealthcare-Insurance-Company_Insurer_D0017054_UHC-Dental_in-network-rates.json.gz\n",
      "Parse Complete\n",
      "D:/Vignesh/Capstone\\JSON\\2023-01-01_UnitedHealthcare-Insurance-Company_Insurer_D0017054_UHC-Dental_in-network-rates.json.gz\n",
      "File Deleted\n",
      "File has been completed\n",
      "Hyperlink File: 2996 Started!\n"
     ]
    },
    {
     "data": {
      "application/vnd.jupyter.widget-view+json": {
       "model_id": "a16d071807cb4bb7b0af95d67f38aa9d",
       "version_major": 2,
       "version_minor": 0
      },
      "text/plain": [
       "  0%|          | 0/79508575 [00:00<?, ?it/s]"
      ]
     },
     "metadata": {},
     "output_type": "display_data"
    },
    {
     "name": "stdout",
     "output_type": "stream",
     "text": [
      "2023-01-01_UnitedHealthcare-Insurance-Company_Insurer_D0017055_UHC-Dental_in-network-rates.json.gz\n",
      "Download Complete\n"
     ]
    },
    {
     "data": {
      "application/vnd.jupyter.widget-view+json": {
       "model_id": "cfd5067e619b4a719adba5b34bdc73a0",
       "version_major": 2,
       "version_minor": 0
      },
      "text/plain": [
       "0it [00:00, ?it/s]"
      ]
     },
     "metadata": {},
     "output_type": "display_data"
    },
    {
     "name": "stdout",
     "output_type": "stream",
     "text": [
      "D:/Vignesh/Capstone\\JSON\\2023-01-01_UnitedHealthcare-Insurance-Company_Insurer_D0017055_UHC-Dental_in-network-rates.json.gz\n",
      "Parse Complete\n",
      "D:/Vignesh/Capstone\\JSON\\2023-01-01_UnitedHealthcare-Insurance-Company_Insurer_D0017055_UHC-Dental_in-network-rates.json.gz\n",
      "File Deleted\n",
      "File has been completed\n",
      "Hyperlink File: 2997 Started!\n"
     ]
    },
    {
     "data": {
      "application/vnd.jupyter.widget-view+json": {
       "model_id": "927778bd9c2f457686963da946c45beb",
       "version_major": 2,
       "version_minor": 0
      },
      "text/plain": [
       "  0%|          | 0/79508575 [00:00<?, ?it/s]"
      ]
     },
     "metadata": {},
     "output_type": "display_data"
    },
    {
     "name": "stdout",
     "output_type": "stream",
     "text": [
      "2023-01-01_UnitedHealthcare-Insurance-Company_Insurer_D0017056_UHC-Dental_in-network-rates.json.gz\n",
      "Download Complete\n"
     ]
    },
    {
     "data": {
      "application/vnd.jupyter.widget-view+json": {
       "model_id": "60c0a449c980466bab7f0d0cdeab7dd0",
       "version_major": 2,
       "version_minor": 0
      },
      "text/plain": [
       "0it [00:00, ?it/s]"
      ]
     },
     "metadata": {},
     "output_type": "display_data"
    },
    {
     "name": "stdout",
     "output_type": "stream",
     "text": [
      "D:/Vignesh/Capstone\\JSON\\2023-01-01_UnitedHealthcare-Insurance-Company_Insurer_D0017056_UHC-Dental_in-network-rates.json.gz\n",
      "Parse Complete\n",
      "D:/Vignesh/Capstone\\JSON\\2023-01-01_UnitedHealthcare-Insurance-Company_Insurer_D0017056_UHC-Dental_in-network-rates.json.gz\n",
      "File Deleted\n",
      "File has been completed\n",
      "Hyperlink File: 2998 Started!\n"
     ]
    },
    {
     "data": {
      "application/vnd.jupyter.widget-view+json": {
       "model_id": "11c30d398745459288e8961a169a35b1",
       "version_major": 2,
       "version_minor": 0
      },
      "text/plain": [
       "  0%|          | 0/79508575 [00:00<?, ?it/s]"
      ]
     },
     "metadata": {},
     "output_type": "display_data"
    },
    {
     "name": "stdout",
     "output_type": "stream",
     "text": [
      "2023-01-01_UnitedHealthcare-Insurance-Company_Insurer_D0017059_UHC-Dental_in-network-rates.json.gz\n",
      "Download Complete\n"
     ]
    },
    {
     "data": {
      "application/vnd.jupyter.widget-view+json": {
       "model_id": "14cab5d2f89244419427a592d3f2054d",
       "version_major": 2,
       "version_minor": 0
      },
      "text/plain": [
       "0it [00:00, ?it/s]"
      ]
     },
     "metadata": {},
     "output_type": "display_data"
    },
    {
     "name": "stdout",
     "output_type": "stream",
     "text": [
      "D:/Vignesh/Capstone\\JSON\\2023-01-01_UnitedHealthcare-Insurance-Company_Insurer_D0017059_UHC-Dental_in-network-rates.json.gz\n",
      "Parse Complete\n",
      "D:/Vignesh/Capstone\\JSON\\2023-01-01_UnitedHealthcare-Insurance-Company_Insurer_D0017059_UHC-Dental_in-network-rates.json.gz\n",
      "File Deleted\n",
      "File has been completed\n",
      "Hyperlink File: 2999 Started!\n"
     ]
    },
    {
     "data": {
      "application/vnd.jupyter.widget-view+json": {
       "model_id": "a0f74eb24bf240178543dc774b2e66b6",
       "version_major": 2,
       "version_minor": 0
      },
      "text/plain": [
       "  0%|          | 0/79508575 [00:00<?, ?it/s]"
      ]
     },
     "metadata": {},
     "output_type": "display_data"
    },
    {
     "name": "stdout",
     "output_type": "stream",
     "text": [
      "2023-01-01_UnitedHealthcare-Insurance-Company_Insurer_D0017167_UHC-Dental_in-network-rates.json.gz\n",
      "Download Complete\n"
     ]
    },
    {
     "data": {
      "application/vnd.jupyter.widget-view+json": {
       "model_id": "366ad6858651424ea8bd8abf526fb542",
       "version_major": 2,
       "version_minor": 0
      },
      "text/plain": [
       "0it [00:00, ?it/s]"
      ]
     },
     "metadata": {},
     "output_type": "display_data"
    },
    {
     "name": "stdout",
     "output_type": "stream",
     "text": [
      "D:/Vignesh/Capstone\\JSON\\2023-01-01_UnitedHealthcare-Insurance-Company_Insurer_D0017167_UHC-Dental_in-network-rates.json.gz\n",
      "Parse Complete\n",
      "D:/Vignesh/Capstone\\JSON\\2023-01-01_UnitedHealthcare-Insurance-Company_Insurer_D0017167_UHC-Dental_in-network-rates.json.gz\n",
      "File Deleted\n",
      "File has been completed\n",
      "Hyperlink File: 3000 Started!\n"
     ]
    },
    {
     "data": {
      "application/vnd.jupyter.widget-view+json": {
       "model_id": "0f4eff8f897e47d38d5d556776d21d0d",
       "version_major": 2,
       "version_minor": 0
      },
      "text/plain": [
       "  0%|          | 0/79508575 [00:00<?, ?it/s]"
      ]
     },
     "metadata": {},
     "output_type": "display_data"
    },
    {
     "name": "stdout",
     "output_type": "stream",
     "text": [
      "2023-01-01_UnitedHealthcare-Insurance-Company_Insurer_D0017189_UHC-Dental_in-network-rates.json.gz\n",
      "Download Complete\n"
     ]
    },
    {
     "data": {
      "application/vnd.jupyter.widget-view+json": {
       "model_id": "c4aab802674040c7820ffbacc8aa6537",
       "version_major": 2,
       "version_minor": 0
      },
      "text/plain": [
       "0it [00:00, ?it/s]"
      ]
     },
     "metadata": {},
     "output_type": "display_data"
    },
    {
     "name": "stdout",
     "output_type": "stream",
     "text": [
      "D:/Vignesh/Capstone\\JSON\\2023-01-01_UnitedHealthcare-Insurance-Company_Insurer_D0017189_UHC-Dental_in-network-rates.json.gz\n",
      "Parse Complete\n",
      "D:/Vignesh/Capstone\\JSON\\2023-01-01_UnitedHealthcare-Insurance-Company_Insurer_D0017189_UHC-Dental_in-network-rates.json.gz\n",
      "File Deleted\n",
      "File has been completed\n",
      "Hyperlink File: 3001 Started!\n"
     ]
    },
    {
     "data": {
      "application/vnd.jupyter.widget-view+json": {
       "model_id": "6b10ee3434cc460d89707f7b7137118f",
       "version_major": 2,
       "version_minor": 0
      },
      "text/plain": [
       "  0%|          | 0/79508575 [00:00<?, ?it/s]"
      ]
     },
     "metadata": {},
     "output_type": "display_data"
    },
    {
     "name": "stdout",
     "output_type": "stream",
     "text": [
      "2023-01-01_UnitedHealthcare-Insurance-Company_Insurer_D0017193_UHC-Dental_in-network-rates.json.gz\n",
      "Download Complete\n"
     ]
    },
    {
     "data": {
      "application/vnd.jupyter.widget-view+json": {
       "model_id": "53a3ae25a6ba44e59baf1274fc841b03",
       "version_major": 2,
       "version_minor": 0
      },
      "text/plain": [
       "0it [00:00, ?it/s]"
      ]
     },
     "metadata": {},
     "output_type": "display_data"
    },
    {
     "name": "stdout",
     "output_type": "stream",
     "text": [
      "D:/Vignesh/Capstone\\JSON\\2023-01-01_UnitedHealthcare-Insurance-Company_Insurer_D0017193_UHC-Dental_in-network-rates.json.gz\n",
      "Parse Complete\n",
      "D:/Vignesh/Capstone\\JSON\\2023-01-01_UnitedHealthcare-Insurance-Company_Insurer_D0017193_UHC-Dental_in-network-rates.json.gz\n",
      "File Deleted\n",
      "File has been completed\n",
      "Hyperlink File: 3002 Started!\n"
     ]
    },
    {
     "data": {
      "application/vnd.jupyter.widget-view+json": {
       "model_id": "73376ed05ceb41b9a3a3b466a9aab4e3",
       "version_major": 2,
       "version_minor": 0
      },
      "text/plain": [
       "  0%|          | 0/79508575 [00:00<?, ?it/s]"
      ]
     },
     "metadata": {},
     "output_type": "display_data"
    },
    {
     "name": "stdout",
     "output_type": "stream",
     "text": [
      "2023-01-01_UnitedHealthcare-Insurance-Company_Insurer_D0017195_UHC-Dental_in-network-rates.json.gz\n",
      "Download Complete\n"
     ]
    },
    {
     "data": {
      "application/vnd.jupyter.widget-view+json": {
       "model_id": "50cb5afc7ae14ac2b5f9b6129fcf98b4",
       "version_major": 2,
       "version_minor": 0
      },
      "text/plain": [
       "0it [00:00, ?it/s]"
      ]
     },
     "metadata": {},
     "output_type": "display_data"
    },
    {
     "name": "stdout",
     "output_type": "stream",
     "text": [
      "D:/Vignesh/Capstone\\JSON\\2023-01-01_UnitedHealthcare-Insurance-Company_Insurer_D0017195_UHC-Dental_in-network-rates.json.gz\n",
      "Parse Complete\n",
      "D:/Vignesh/Capstone\\JSON\\2023-01-01_UnitedHealthcare-Insurance-Company_Insurer_D0017195_UHC-Dental_in-network-rates.json.gz\n",
      "File Deleted\n",
      "File has been completed\n",
      "Hyperlink File: 3003 Started!\n"
     ]
    },
    {
     "data": {
      "application/vnd.jupyter.widget-view+json": {
       "model_id": "4b2328012f09456eaf951213f361f9d6",
       "version_major": 2,
       "version_minor": 0
      },
      "text/plain": [
       "  0%|          | 0/79508575 [00:00<?, ?it/s]"
      ]
     },
     "metadata": {},
     "output_type": "display_data"
    },
    {
     "name": "stdout",
     "output_type": "stream",
     "text": [
      "2023-01-01_UnitedHealthcare-Insurance-Company_Insurer_D0017311_UHC-Dental_in-network-rates.json.gz\n",
      "Download Complete\n"
     ]
    },
    {
     "data": {
      "application/vnd.jupyter.widget-view+json": {
       "model_id": "0b9b1ef7bb094c82bc533f8cb4348bd4",
       "version_major": 2,
       "version_minor": 0
      },
      "text/plain": [
       "0it [00:00, ?it/s]"
      ]
     },
     "metadata": {},
     "output_type": "display_data"
    },
    {
     "name": "stdout",
     "output_type": "stream",
     "text": [
      "D:/Vignesh/Capstone\\JSON\\2023-01-01_UnitedHealthcare-Insurance-Company_Insurer_D0017311_UHC-Dental_in-network-rates.json.gz\n",
      "Parse Complete\n",
      "D:/Vignesh/Capstone\\JSON\\2023-01-01_UnitedHealthcare-Insurance-Company_Insurer_D0017311_UHC-Dental_in-network-rates.json.gz\n",
      "File Deleted\n",
      "File has been completed\n",
      "Hyperlink File: 3004 Started!\n"
     ]
    },
    {
     "data": {
      "application/vnd.jupyter.widget-view+json": {
       "model_id": "c5312526eb3c4aff87da8be0aacf7bdf",
       "version_major": 2,
       "version_minor": 0
      },
      "text/plain": [
       "  0%|          | 0/79508575 [00:00<?, ?it/s]"
      ]
     },
     "metadata": {},
     "output_type": "display_data"
    },
    {
     "name": "stdout",
     "output_type": "stream",
     "text": [
      "2023-01-01_UnitedHealthcare-Insurance-Company_Insurer_D0017369_UHC-Dental_in-network-rates.json.gz\n",
      "Download Complete\n"
     ]
    },
    {
     "data": {
      "application/vnd.jupyter.widget-view+json": {
       "model_id": "3b21d81fc9cc46a8b7234a53757da89a",
       "version_major": 2,
       "version_minor": 0
      },
      "text/plain": [
       "0it [00:00, ?it/s]"
      ]
     },
     "metadata": {},
     "output_type": "display_data"
    },
    {
     "name": "stdout",
     "output_type": "stream",
     "text": [
      "D:/Vignesh/Capstone\\JSON\\2023-01-01_UnitedHealthcare-Insurance-Company_Insurer_D0017369_UHC-Dental_in-network-rates.json.gz\n",
      "Parse Complete\n",
      "D:/Vignesh/Capstone\\JSON\\2023-01-01_UnitedHealthcare-Insurance-Company_Insurer_D0017369_UHC-Dental_in-network-rates.json.gz\n",
      "File Deleted\n",
      "File has been completed\n",
      "Hyperlink File: 3005 Started!\n"
     ]
    },
    {
     "data": {
      "application/vnd.jupyter.widget-view+json": {
       "model_id": "692c0c01e0c84f2dae8e9a098a260475",
       "version_major": 2,
       "version_minor": 0
      },
      "text/plain": [
       "  0%|          | 0/79508575 [00:00<?, ?it/s]"
      ]
     },
     "metadata": {},
     "output_type": "display_data"
    },
    {
     "name": "stdout",
     "output_type": "stream",
     "text": [
      "2023-01-01_UnitedHealthcare-Insurance-Company_Insurer_D0017377_UHC-Dental_in-network-rates.json.gz\n",
      "Download Complete\n"
     ]
    },
    {
     "data": {
      "application/vnd.jupyter.widget-view+json": {
       "model_id": "ced19281342b4d61b1039782d603bc06",
       "version_major": 2,
       "version_minor": 0
      },
      "text/plain": [
       "0it [00:00, ?it/s]"
      ]
     },
     "metadata": {},
     "output_type": "display_data"
    },
    {
     "name": "stdout",
     "output_type": "stream",
     "text": [
      "D:/Vignesh/Capstone\\JSON\\2023-01-01_UnitedHealthcare-Insurance-Company_Insurer_D0017377_UHC-Dental_in-network-rates.json.gz\n",
      "Parse Complete\n",
      "D:/Vignesh/Capstone\\JSON\\2023-01-01_UnitedHealthcare-Insurance-Company_Insurer_D0017377_UHC-Dental_in-network-rates.json.gz\n",
      "File Deleted\n",
      "File has been completed\n",
      "Hyperlink File: 3006 Started!\n"
     ]
    },
    {
     "data": {
      "application/vnd.jupyter.widget-view+json": {
       "model_id": "3c4214e26f004fd58aeae0adc77b2d08",
       "version_major": 2,
       "version_minor": 0
      },
      "text/plain": [
       "  0%|          | 0/79508575 [00:00<?, ?it/s]"
      ]
     },
     "metadata": {},
     "output_type": "display_data"
    },
    {
     "name": "stdout",
     "output_type": "stream",
     "text": [
      "2023-01-01_UnitedHealthcare-Insurance-Company_Insurer_D0017387_UHC-Dental_in-network-rates.json.gz\n",
      "Download Complete\n"
     ]
    },
    {
     "data": {
      "application/vnd.jupyter.widget-view+json": {
       "model_id": "661e6a6f0bb3473288f4ca09cbe9d55a",
       "version_major": 2,
       "version_minor": 0
      },
      "text/plain": [
       "0it [00:00, ?it/s]"
      ]
     },
     "metadata": {},
     "output_type": "display_data"
    },
    {
     "name": "stdout",
     "output_type": "stream",
     "text": [
      "D:/Vignesh/Capstone\\JSON\\2023-01-01_UnitedHealthcare-Insurance-Company_Insurer_D0017387_UHC-Dental_in-network-rates.json.gz\n",
      "Parse Complete\n",
      "D:/Vignesh/Capstone\\JSON\\2023-01-01_UnitedHealthcare-Insurance-Company_Insurer_D0017387_UHC-Dental_in-network-rates.json.gz\n",
      "File Deleted\n",
      "File has been completed\n",
      "Hyperlink File: 3007 Started!\n"
     ]
    },
    {
     "data": {
      "application/vnd.jupyter.widget-view+json": {
       "model_id": "2b397ec63546420ab2448f25e757e8b0",
       "version_major": 2,
       "version_minor": 0
      },
      "text/plain": [
       "  0%|          | 0/79508575 [00:00<?, ?it/s]"
      ]
     },
     "metadata": {},
     "output_type": "display_data"
    },
    {
     "name": "stdout",
     "output_type": "stream",
     "text": [
      "2023-01-01_UnitedHealthcare-Insurance-Company_Insurer_D0017395_UHC-Dental_in-network-rates.json.gz\n",
      "Download Complete\n"
     ]
    },
    {
     "data": {
      "application/vnd.jupyter.widget-view+json": {
       "model_id": "e2e20538c544425a9bcd4e13ec470a49",
       "version_major": 2,
       "version_minor": 0
      },
      "text/plain": [
       "0it [00:00, ?it/s]"
      ]
     },
     "metadata": {},
     "output_type": "display_data"
    },
    {
     "name": "stdout",
     "output_type": "stream",
     "text": [
      "D:/Vignesh/Capstone\\JSON\\2023-01-01_UnitedHealthcare-Insurance-Company_Insurer_D0017395_UHC-Dental_in-network-rates.json.gz\n",
      "Parse Complete\n",
      "D:/Vignesh/Capstone\\JSON\\2023-01-01_UnitedHealthcare-Insurance-Company_Insurer_D0017395_UHC-Dental_in-network-rates.json.gz\n",
      "File Deleted\n",
      "File has been completed\n",
      "Hyperlink File: 3008 Started!\n"
     ]
    },
    {
     "data": {
      "application/vnd.jupyter.widget-view+json": {
       "model_id": "ac61d4864d91405f8bbae251414f49ba",
       "version_major": 2,
       "version_minor": 0
      },
      "text/plain": [
       "  0%|          | 0/79508575 [00:00<?, ?it/s]"
      ]
     },
     "metadata": {},
     "output_type": "display_data"
    },
    {
     "name": "stdout",
     "output_type": "stream",
     "text": [
      "2023-01-01_UnitedHealthcare-Insurance-Company_Insurer_D0017407_UHC-Dental_in-network-rates.json.gz\n",
      "Download Complete\n"
     ]
    },
    {
     "data": {
      "application/vnd.jupyter.widget-view+json": {
       "model_id": "dbb8eaa76c124e28ac9c5c80ea2878e1",
       "version_major": 2,
       "version_minor": 0
      },
      "text/plain": [
       "0it [00:00, ?it/s]"
      ]
     },
     "metadata": {},
     "output_type": "display_data"
    },
    {
     "name": "stdout",
     "output_type": "stream",
     "text": [
      "D:/Vignesh/Capstone\\JSON\\2023-01-01_UnitedHealthcare-Insurance-Company_Insurer_D0017407_UHC-Dental_in-network-rates.json.gz\n",
      "Parse Complete\n",
      "D:/Vignesh/Capstone\\JSON\\2023-01-01_UnitedHealthcare-Insurance-Company_Insurer_D0017407_UHC-Dental_in-network-rates.json.gz\n",
      "File Deleted\n",
      "File has been completed\n",
      "Hyperlink File: 3009 Started!\n"
     ]
    },
    {
     "data": {
      "application/vnd.jupyter.widget-view+json": {
       "model_id": "c708aeb83ece4fbc8d97e88770963aa8",
       "version_major": 2,
       "version_minor": 0
      },
      "text/plain": [
       "  0%|          | 0/79508575 [00:00<?, ?it/s]"
      ]
     },
     "metadata": {},
     "output_type": "display_data"
    },
    {
     "name": "stdout",
     "output_type": "stream",
     "text": [
      "2023-01-01_UnitedHealthcare-Insurance-Company_Insurer_D0017448_UHC-Dental_in-network-rates.json.gz\n",
      "Download Complete\n"
     ]
    },
    {
     "data": {
      "application/vnd.jupyter.widget-view+json": {
       "model_id": "e7d17873309e413b84f3015415f584cb",
       "version_major": 2,
       "version_minor": 0
      },
      "text/plain": [
       "0it [00:00, ?it/s]"
      ]
     },
     "metadata": {},
     "output_type": "display_data"
    },
    {
     "name": "stdout",
     "output_type": "stream",
     "text": [
      "D:/Vignesh/Capstone\\JSON\\2023-01-01_UnitedHealthcare-Insurance-Company_Insurer_D0017448_UHC-Dental_in-network-rates.json.gz\n",
      "Parse Complete\n",
      "D:/Vignesh/Capstone\\JSON\\2023-01-01_UnitedHealthcare-Insurance-Company_Insurer_D0017448_UHC-Dental_in-network-rates.json.gz\n",
      "File Deleted\n",
      "File has been completed\n",
      "Hyperlink File: 3010 Started!\n"
     ]
    },
    {
     "data": {
      "application/vnd.jupyter.widget-view+json": {
       "model_id": "50e80470299a4ece9e21f99ceb2e01f6",
       "version_major": 2,
       "version_minor": 0
      },
      "text/plain": [
       "  0%|          | 0/79508575 [00:00<?, ?it/s]"
      ]
     },
     "metadata": {},
     "output_type": "display_data"
    },
    {
     "name": "stdout",
     "output_type": "stream",
     "text": [
      "2023-01-01_UnitedHealthcare-Insurance-Company_Insurer_D0017460_UHC-Dental_in-network-rates.json.gz\n",
      "Download Complete\n"
     ]
    },
    {
     "data": {
      "application/vnd.jupyter.widget-view+json": {
       "model_id": "29162f0d237243da984273602d3a4631",
       "version_major": 2,
       "version_minor": 0
      },
      "text/plain": [
       "0it [00:00, ?it/s]"
      ]
     },
     "metadata": {},
     "output_type": "display_data"
    },
    {
     "name": "stdout",
     "output_type": "stream",
     "text": [
      "D:/Vignesh/Capstone\\JSON\\2023-01-01_UnitedHealthcare-Insurance-Company_Insurer_D0017460_UHC-Dental_in-network-rates.json.gz\n",
      "Parse Complete\n",
      "D:/Vignesh/Capstone\\JSON\\2023-01-01_UnitedHealthcare-Insurance-Company_Insurer_D0017460_UHC-Dental_in-network-rates.json.gz\n",
      "File Deleted\n",
      "File has been completed\n",
      "Hyperlink File: 3011 Started!\n"
     ]
    },
    {
     "data": {
      "application/vnd.jupyter.widget-view+json": {
       "model_id": "019cef67932b4b799f93de65887dbb9b",
       "version_major": 2,
       "version_minor": 0
      },
      "text/plain": [
       "  0%|          | 0/79508575 [00:00<?, ?it/s]"
      ]
     },
     "metadata": {},
     "output_type": "display_data"
    },
    {
     "name": "stdout",
     "output_type": "stream",
     "text": [
      "2023-01-01_UnitedHealthcare-Insurance-Company_Insurer_D0017503_UHC-Dental_in-network-rates.json.gz\n",
      "Download Complete\n"
     ]
    },
    {
     "data": {
      "application/vnd.jupyter.widget-view+json": {
       "model_id": "e232678995cf40d8a556c568a1f576c5",
       "version_major": 2,
       "version_minor": 0
      },
      "text/plain": [
       "0it [00:00, ?it/s]"
      ]
     },
     "metadata": {},
     "output_type": "display_data"
    },
    {
     "name": "stdout",
     "output_type": "stream",
     "text": [
      "D:/Vignesh/Capstone\\JSON\\2023-01-01_UnitedHealthcare-Insurance-Company_Insurer_D0017503_UHC-Dental_in-network-rates.json.gz\n",
      "Parse Complete\n",
      "D:/Vignesh/Capstone\\JSON\\2023-01-01_UnitedHealthcare-Insurance-Company_Insurer_D0017503_UHC-Dental_in-network-rates.json.gz\n",
      "File Deleted\n",
      "File has been completed\n",
      "Hyperlink File: 3012 Started!\n"
     ]
    },
    {
     "data": {
      "application/vnd.jupyter.widget-view+json": {
       "model_id": "022387e0b9504b5ea43cf013c82dd95b",
       "version_major": 2,
       "version_minor": 0
      },
      "text/plain": [
       "  0%|          | 0/79508575 [00:00<?, ?it/s]"
      ]
     },
     "metadata": {},
     "output_type": "display_data"
    },
    {
     "name": "stdout",
     "output_type": "stream",
     "text": [
      "2023-01-01_UnitedHealthcare-Insurance-Company_Insurer_D0017519_UHC-Dental_in-network-rates.json.gz\n",
      "Download Complete\n"
     ]
    },
    {
     "data": {
      "application/vnd.jupyter.widget-view+json": {
       "model_id": "32484c5173ed4f09811d7d3879d66d19",
       "version_major": 2,
       "version_minor": 0
      },
      "text/plain": [
       "0it [00:00, ?it/s]"
      ]
     },
     "metadata": {},
     "output_type": "display_data"
    },
    {
     "name": "stdout",
     "output_type": "stream",
     "text": [
      "D:/Vignesh/Capstone\\JSON\\2023-01-01_UnitedHealthcare-Insurance-Company_Insurer_D0017519_UHC-Dental_in-network-rates.json.gz\n",
      "Parse Complete\n",
      "D:/Vignesh/Capstone\\JSON\\2023-01-01_UnitedHealthcare-Insurance-Company_Insurer_D0017519_UHC-Dental_in-network-rates.json.gz\n",
      "File Deleted\n",
      "File has been completed\n",
      "Hyperlink File: 3013 Started!\n"
     ]
    },
    {
     "data": {
      "application/vnd.jupyter.widget-view+json": {
       "model_id": "1596b70514ee4c09873afdd23492b043",
       "version_major": 2,
       "version_minor": 0
      },
      "text/plain": [
       "  0%|          | 0/79508575 [00:00<?, ?it/s]"
      ]
     },
     "metadata": {},
     "output_type": "display_data"
    },
    {
     "name": "stdout",
     "output_type": "stream",
     "text": [
      "2023-01-01_UnitedHealthcare-Insurance-Company_Insurer_D0017546_UHC-Dental_in-network-rates.json.gz\n",
      "Download Complete\n"
     ]
    },
    {
     "data": {
      "application/vnd.jupyter.widget-view+json": {
       "model_id": "052d12bf48c44426876f4fec6e410500",
       "version_major": 2,
       "version_minor": 0
      },
      "text/plain": [
       "0it [00:00, ?it/s]"
      ]
     },
     "metadata": {},
     "output_type": "display_data"
    },
    {
     "name": "stdout",
     "output_type": "stream",
     "text": [
      "D:/Vignesh/Capstone\\JSON\\2023-01-01_UnitedHealthcare-Insurance-Company_Insurer_D0017546_UHC-Dental_in-network-rates.json.gz\n",
      "Parse Complete\n",
      "D:/Vignesh/Capstone\\JSON\\2023-01-01_UnitedHealthcare-Insurance-Company_Insurer_D0017546_UHC-Dental_in-network-rates.json.gz\n",
      "File Deleted\n",
      "File has been completed\n",
      "Hyperlink File: 3014 Started!\n"
     ]
    },
    {
     "data": {
      "application/vnd.jupyter.widget-view+json": {
       "model_id": "72d79918bfd64c2c88ec65a81a73f9ed",
       "version_major": 2,
       "version_minor": 0
      },
      "text/plain": [
       "  0%|          | 0/79508575 [00:00<?, ?it/s]"
      ]
     },
     "metadata": {},
     "output_type": "display_data"
    },
    {
     "name": "stdout",
     "output_type": "stream",
     "text": [
      "2023-01-01_UnitedHealthcare-Insurance-Company_Insurer_D0017736_UHC-Dental_in-network-rates.json.gz\n",
      "Download Complete\n"
     ]
    },
    {
     "data": {
      "application/vnd.jupyter.widget-view+json": {
       "model_id": "36db264874564c82ada387d7c7a4f91c",
       "version_major": 2,
       "version_minor": 0
      },
      "text/plain": [
       "0it [00:00, ?it/s]"
      ]
     },
     "metadata": {},
     "output_type": "display_data"
    },
    {
     "name": "stdout",
     "output_type": "stream",
     "text": [
      "D:/Vignesh/Capstone\\JSON\\2023-01-01_UnitedHealthcare-Insurance-Company_Insurer_D0017736_UHC-Dental_in-network-rates.json.gz\n",
      "Parse Complete\n",
      "D:/Vignesh/Capstone\\JSON\\2023-01-01_UnitedHealthcare-Insurance-Company_Insurer_D0017736_UHC-Dental_in-network-rates.json.gz\n",
      "File Deleted\n",
      "File has been completed\n",
      "Hyperlink File: 3015 Started!\n"
     ]
    },
    {
     "data": {
      "application/vnd.jupyter.widget-view+json": {
       "model_id": "a971f1d1d63240119e22f2014c32ca46",
       "version_major": 2,
       "version_minor": 0
      },
      "text/plain": [
       "  0%|          | 0/79508575 [00:00<?, ?it/s]"
      ]
     },
     "metadata": {},
     "output_type": "display_data"
    },
    {
     "name": "stdout",
     "output_type": "stream",
     "text": [
      "2023-01-01_UnitedHealthcare-Insurance-Company_Insurer_D0017763_UHC-Dental_in-network-rates.json.gz\n",
      "Download Complete\n"
     ]
    },
    {
     "data": {
      "application/vnd.jupyter.widget-view+json": {
       "model_id": "edd156b8df0d429fb7114c8b8e20a4b6",
       "version_major": 2,
       "version_minor": 0
      },
      "text/plain": [
       "0it [00:00, ?it/s]"
      ]
     },
     "metadata": {},
     "output_type": "display_data"
    },
    {
     "name": "stdout",
     "output_type": "stream",
     "text": [
      "D:/Vignesh/Capstone\\JSON\\2023-01-01_UnitedHealthcare-Insurance-Company_Insurer_D0017763_UHC-Dental_in-network-rates.json.gz\n",
      "Parse Complete\n",
      "D:/Vignesh/Capstone\\JSON\\2023-01-01_UnitedHealthcare-Insurance-Company_Insurer_D0017763_UHC-Dental_in-network-rates.json.gz\n",
      "File Deleted\n",
      "File has been completed\n",
      "Hyperlink File: 3016 Started!\n"
     ]
    },
    {
     "data": {
      "application/vnd.jupyter.widget-view+json": {
       "model_id": "b7848548534c412a8fb8da75e148f05f",
       "version_major": 2,
       "version_minor": 0
      },
      "text/plain": [
       "  0%|          | 0/79508575 [00:00<?, ?it/s]"
      ]
     },
     "metadata": {},
     "output_type": "display_data"
    },
    {
     "name": "stdout",
     "output_type": "stream",
     "text": [
      "2023-01-01_UnitedHealthcare-Insurance-Company_Insurer_D0017799_UHC-Dental_in-network-rates.json.gz\n",
      "Download Complete\n"
     ]
    },
    {
     "data": {
      "application/vnd.jupyter.widget-view+json": {
       "model_id": "3c3ba421636f418e9db61bf6a8e6bcee",
       "version_major": 2,
       "version_minor": 0
      },
      "text/plain": [
       "0it [00:00, ?it/s]"
      ]
     },
     "metadata": {},
     "output_type": "display_data"
    },
    {
     "name": "stdout",
     "output_type": "stream",
     "text": [
      "D:/Vignesh/Capstone\\JSON\\2023-01-01_UnitedHealthcare-Insurance-Company_Insurer_D0017799_UHC-Dental_in-network-rates.json.gz\n",
      "Parse Complete\n",
      "D:/Vignesh/Capstone\\JSON\\2023-01-01_UnitedHealthcare-Insurance-Company_Insurer_D0017799_UHC-Dental_in-network-rates.json.gz\n",
      "File Deleted\n",
      "File has been completed\n",
      "Hyperlink File: 3017 Started!\n"
     ]
    },
    {
     "data": {
      "application/vnd.jupyter.widget-view+json": {
       "model_id": "0bb7278618fb4d74ad1c4555e2e3004a",
       "version_major": 2,
       "version_minor": 0
      },
      "text/plain": [
       "  0%|          | 0/79508575 [00:00<?, ?it/s]"
      ]
     },
     "metadata": {},
     "output_type": "display_data"
    },
    {
     "name": "stdout",
     "output_type": "stream",
     "text": [
      "2023-01-01_UnitedHealthcare-Insurance-Company_Insurer_D0017831_UHC-Dental_in-network-rates.json.gz\n",
      "Download Complete\n"
     ]
    },
    {
     "data": {
      "application/vnd.jupyter.widget-view+json": {
       "model_id": "200ac3776e7e41cc97bcf3416668e685",
       "version_major": 2,
       "version_minor": 0
      },
      "text/plain": [
       "0it [00:00, ?it/s]"
      ]
     },
     "metadata": {},
     "output_type": "display_data"
    },
    {
     "name": "stdout",
     "output_type": "stream",
     "text": [
      "D:/Vignesh/Capstone\\JSON\\2023-01-01_UnitedHealthcare-Insurance-Company_Insurer_D0017831_UHC-Dental_in-network-rates.json.gz\n",
      "Parse Complete\n",
      "D:/Vignesh/Capstone\\JSON\\2023-01-01_UnitedHealthcare-Insurance-Company_Insurer_D0017831_UHC-Dental_in-network-rates.json.gz\n",
      "File Deleted\n",
      "File has been completed\n",
      "Hyperlink File: 3018 Started!\n"
     ]
    },
    {
     "data": {
      "application/vnd.jupyter.widget-view+json": {
       "model_id": "a0704e8c60754e4aa6e3e7435d6a4d16",
       "version_major": 2,
       "version_minor": 0
      },
      "text/plain": [
       "  0%|          | 0/79508575 [00:00<?, ?it/s]"
      ]
     },
     "metadata": {},
     "output_type": "display_data"
    },
    {
     "name": "stdout",
     "output_type": "stream",
     "text": [
      "2023-01-01_UnitedHealthcare-Insurance-Company_Insurer_D0017850_UHC-Dental_in-network-rates.json.gz\n",
      "Download Complete\n"
     ]
    },
    {
     "data": {
      "application/vnd.jupyter.widget-view+json": {
       "model_id": "b90d3968016e47eeaa4d228c41ea9b6a",
       "version_major": 2,
       "version_minor": 0
      },
      "text/plain": [
       "0it [00:00, ?it/s]"
      ]
     },
     "metadata": {},
     "output_type": "display_data"
    },
    {
     "name": "stdout",
     "output_type": "stream",
     "text": [
      "D:/Vignesh/Capstone\\JSON\\2023-01-01_UnitedHealthcare-Insurance-Company_Insurer_D0017850_UHC-Dental_in-network-rates.json.gz\n",
      "Parse Complete\n",
      "D:/Vignesh/Capstone\\JSON\\2023-01-01_UnitedHealthcare-Insurance-Company_Insurer_D0017850_UHC-Dental_in-network-rates.json.gz\n",
      "File Deleted\n",
      "File has been completed\n",
      "Hyperlink File: 3019 Started!\n"
     ]
    },
    {
     "data": {
      "application/vnd.jupyter.widget-view+json": {
       "model_id": "632a7c39af1b43819cc1cd5e7a1aecfa",
       "version_major": 2,
       "version_minor": 0
      },
      "text/plain": [
       "  0%|          | 0/79508575 [00:00<?, ?it/s]"
      ]
     },
     "metadata": {},
     "output_type": "display_data"
    },
    {
     "name": "stdout",
     "output_type": "stream",
     "text": [
      "2023-01-01_UnitedHealthcare-Insurance-Company_Insurer_D0017896_UHC-Dental_in-network-rates.json.gz\n",
      "Download Complete\n"
     ]
    },
    {
     "data": {
      "application/vnd.jupyter.widget-view+json": {
       "model_id": "2b49ee92cd59467caa1bcc1d3e328153",
       "version_major": 2,
       "version_minor": 0
      },
      "text/plain": [
       "0it [00:00, ?it/s]"
      ]
     },
     "metadata": {},
     "output_type": "display_data"
    },
    {
     "name": "stdout",
     "output_type": "stream",
     "text": [
      "D:/Vignesh/Capstone\\JSON\\2023-01-01_UnitedHealthcare-Insurance-Company_Insurer_D0017896_UHC-Dental_in-network-rates.json.gz\n",
      "Parse Complete\n",
      "D:/Vignesh/Capstone\\JSON\\2023-01-01_UnitedHealthcare-Insurance-Company_Insurer_D0017896_UHC-Dental_in-network-rates.json.gz\n",
      "File Deleted\n",
      "File has been completed\n",
      "Hyperlink File: 3020 Started!\n"
     ]
    },
    {
     "data": {
      "application/vnd.jupyter.widget-view+json": {
       "model_id": "10e331a4f69041d19d03eaf72ed5b973",
       "version_major": 2,
       "version_minor": 0
      },
      "text/plain": [
       "  0%|          | 0/79508575 [00:00<?, ?it/s]"
      ]
     },
     "metadata": {},
     "output_type": "display_data"
    },
    {
     "name": "stdout",
     "output_type": "stream",
     "text": [
      "2023-01-01_UnitedHealthcare-Insurance-Company_Insurer_D0017915_UHC-Dental_in-network-rates.json.gz\n",
      "Download Complete\n"
     ]
    },
    {
     "data": {
      "application/vnd.jupyter.widget-view+json": {
       "model_id": "1e5971ac986f46cf977feb78b704905a",
       "version_major": 2,
       "version_minor": 0
      },
      "text/plain": [
       "0it [00:00, ?it/s]"
      ]
     },
     "metadata": {},
     "output_type": "display_data"
    },
    {
     "name": "stdout",
     "output_type": "stream",
     "text": [
      "D:/Vignesh/Capstone\\JSON\\2023-01-01_UnitedHealthcare-Insurance-Company_Insurer_D0017915_UHC-Dental_in-network-rates.json.gz\n",
      "Parse Complete\n",
      "D:/Vignesh/Capstone\\JSON\\2023-01-01_UnitedHealthcare-Insurance-Company_Insurer_D0017915_UHC-Dental_in-network-rates.json.gz\n",
      "File Deleted\n",
      "File has been completed\n",
      "Hyperlink File: 3021 Started!\n"
     ]
    },
    {
     "data": {
      "application/vnd.jupyter.widget-view+json": {
       "model_id": "b359b13607984237976ee3388eecb310",
       "version_major": 2,
       "version_minor": 0
      },
      "text/plain": [
       "  0%|          | 0/79508575 [00:00<?, ?it/s]"
      ]
     },
     "metadata": {},
     "output_type": "display_data"
    },
    {
     "name": "stdout",
     "output_type": "stream",
     "text": [
      "2023-01-01_UnitedHealthcare-Insurance-Company_Insurer_D0017933_UHC-Dental_in-network-rates.json.gz\n",
      "Download Complete\n"
     ]
    },
    {
     "data": {
      "application/vnd.jupyter.widget-view+json": {
       "model_id": "ec7db8b3edce445ab5c378e28e79c27c",
       "version_major": 2,
       "version_minor": 0
      },
      "text/plain": [
       "0it [00:00, ?it/s]"
      ]
     },
     "metadata": {},
     "output_type": "display_data"
    },
    {
     "name": "stdout",
     "output_type": "stream",
     "text": [
      "D:/Vignesh/Capstone\\JSON\\2023-01-01_UnitedHealthcare-Insurance-Company_Insurer_D0017933_UHC-Dental_in-network-rates.json.gz\n",
      "Parse Complete\n",
      "D:/Vignesh/Capstone\\JSON\\2023-01-01_UnitedHealthcare-Insurance-Company_Insurer_D0017933_UHC-Dental_in-network-rates.json.gz\n",
      "File Deleted\n",
      "File has been completed\n",
      "Hyperlink File: 3022 Started!\n"
     ]
    },
    {
     "data": {
      "application/vnd.jupyter.widget-view+json": {
       "model_id": "7aff16810fc943e6a81641cf0675de9c",
       "version_major": 2,
       "version_minor": 0
      },
      "text/plain": [
       "  0%|          | 0/79508575 [00:00<?, ?it/s]"
      ]
     },
     "metadata": {},
     "output_type": "display_data"
    },
    {
     "name": "stdout",
     "output_type": "stream",
     "text": [
      "2023-01-01_UnitedHealthcare-Insurance-Company_Insurer_D0017960_UHC-Dental_in-network-rates.json.gz\n",
      "Download Complete\n"
     ]
    },
    {
     "data": {
      "application/vnd.jupyter.widget-view+json": {
       "model_id": "3208288be9974dc0bd23cf6fa118e39a",
       "version_major": 2,
       "version_minor": 0
      },
      "text/plain": [
       "0it [00:00, ?it/s]"
      ]
     },
     "metadata": {},
     "output_type": "display_data"
    },
    {
     "name": "stdout",
     "output_type": "stream",
     "text": [
      "D:/Vignesh/Capstone\\JSON\\2023-01-01_UnitedHealthcare-Insurance-Company_Insurer_D0017960_UHC-Dental_in-network-rates.json.gz\n",
      "Parse Complete\n",
      "D:/Vignesh/Capstone\\JSON\\2023-01-01_UnitedHealthcare-Insurance-Company_Insurer_D0017960_UHC-Dental_in-network-rates.json.gz\n",
      "File Deleted\n",
      "File has been completed\n",
      "Hyperlink File: 3023 Started!\n"
     ]
    },
    {
     "data": {
      "application/vnd.jupyter.widget-view+json": {
       "model_id": "3c8758714fb842bead0496d30e4a2535",
       "version_major": 2,
       "version_minor": 0
      },
      "text/plain": [
       "  0%|          | 0/79508575 [00:00<?, ?it/s]"
      ]
     },
     "metadata": {},
     "output_type": "display_data"
    },
    {
     "name": "stdout",
     "output_type": "stream",
     "text": [
      "2023-01-01_UnitedHealthcare-Insurance-Company_Insurer_D0017961_UHC-Dental_in-network-rates.json.gz\n",
      "Download Complete\n"
     ]
    },
    {
     "data": {
      "application/vnd.jupyter.widget-view+json": {
       "model_id": "895050aad3734520a9266b09125802a0",
       "version_major": 2,
       "version_minor": 0
      },
      "text/plain": [
       "0it [00:00, ?it/s]"
      ]
     },
     "metadata": {},
     "output_type": "display_data"
    },
    {
     "name": "stdout",
     "output_type": "stream",
     "text": [
      "D:/Vignesh/Capstone\\JSON\\2023-01-01_UnitedHealthcare-Insurance-Company_Insurer_D0017961_UHC-Dental_in-network-rates.json.gz\n",
      "Parse Complete\n",
      "D:/Vignesh/Capstone\\JSON\\2023-01-01_UnitedHealthcare-Insurance-Company_Insurer_D0017961_UHC-Dental_in-network-rates.json.gz\n",
      "File Deleted\n",
      "File has been completed\n",
      "Hyperlink File: 3024 Started!\n"
     ]
    },
    {
     "data": {
      "application/vnd.jupyter.widget-view+json": {
       "model_id": "96e982be9ed041c09d2a28a4025e782f",
       "version_major": 2,
       "version_minor": 0
      },
      "text/plain": [
       "  0%|          | 0/79508575 [00:00<?, ?it/s]"
      ]
     },
     "metadata": {},
     "output_type": "display_data"
    },
    {
     "name": "stdout",
     "output_type": "stream",
     "text": [
      "2023-01-01_UnitedHealthcare-Insurance-Company_Insurer_D0017968_UHC-Dental_in-network-rates.json.gz\n",
      "Download Complete\n"
     ]
    },
    {
     "data": {
      "application/vnd.jupyter.widget-view+json": {
       "model_id": "4379dc6d68994105bc2eb335fa6d0d7e",
       "version_major": 2,
       "version_minor": 0
      },
      "text/plain": [
       "0it [00:00, ?it/s]"
      ]
     },
     "metadata": {},
     "output_type": "display_data"
    },
    {
     "name": "stdout",
     "output_type": "stream",
     "text": [
      "D:/Vignesh/Capstone\\JSON\\2023-01-01_UnitedHealthcare-Insurance-Company_Insurer_D0017968_UHC-Dental_in-network-rates.json.gz\n",
      "Parse Complete\n",
      "D:/Vignesh/Capstone\\JSON\\2023-01-01_UnitedHealthcare-Insurance-Company_Insurer_D0017968_UHC-Dental_in-network-rates.json.gz\n",
      "File Deleted\n",
      "File has been completed\n",
      "Hyperlink File: 3025 Started!\n"
     ]
    },
    {
     "data": {
      "application/vnd.jupyter.widget-view+json": {
       "model_id": "80fc6cf1986c4b6bb4ba56b8f2949b27",
       "version_major": 2,
       "version_minor": 0
      },
      "text/plain": [
       "  0%|          | 0/79508575 [00:00<?, ?it/s]"
      ]
     },
     "metadata": {},
     "output_type": "display_data"
    },
    {
     "name": "stdout",
     "output_type": "stream",
     "text": [
      "2023-01-01_UnitedHealthcare-Insurance-Company_Insurer_D0017991_UHC-Dental_in-network-rates.json.gz\n",
      "Download Complete\n"
     ]
    },
    {
     "data": {
      "application/vnd.jupyter.widget-view+json": {
       "model_id": "796cebdf78214838a262ec8c05153083",
       "version_major": 2,
       "version_minor": 0
      },
      "text/plain": [
       "0it [00:00, ?it/s]"
      ]
     },
     "metadata": {},
     "output_type": "display_data"
    },
    {
     "name": "stdout",
     "output_type": "stream",
     "text": [
      "D:/Vignesh/Capstone\\JSON\\2023-01-01_UnitedHealthcare-Insurance-Company_Insurer_D0017991_UHC-Dental_in-network-rates.json.gz\n",
      "Parse Complete\n",
      "D:/Vignesh/Capstone\\JSON\\2023-01-01_UnitedHealthcare-Insurance-Company_Insurer_D0017991_UHC-Dental_in-network-rates.json.gz\n",
      "File Deleted\n",
      "File has been completed\n",
      "Hyperlink File: 3026 Started!\n"
     ]
    },
    {
     "data": {
      "application/vnd.jupyter.widget-view+json": {
       "model_id": "ccece4660cdd4899bb047b8fc403586f",
       "version_major": 2,
       "version_minor": 0
      },
      "text/plain": [
       "  0%|          | 0/79508575 [00:00<?, ?it/s]"
      ]
     },
     "metadata": {},
     "output_type": "display_data"
    },
    {
     "name": "stdout",
     "output_type": "stream",
     "text": [
      "2023-01-01_UnitedHealthcare-Insurance-Company_Insurer_D0018041_UHC-Dental_in-network-rates.json.gz\n",
      "Download Complete\n"
     ]
    },
    {
     "data": {
      "application/vnd.jupyter.widget-view+json": {
       "model_id": "91e2d630374f417c81f53609e41b7db6",
       "version_major": 2,
       "version_minor": 0
      },
      "text/plain": [
       "0it [00:00, ?it/s]"
      ]
     },
     "metadata": {},
     "output_type": "display_data"
    },
    {
     "name": "stdout",
     "output_type": "stream",
     "text": [
      "D:/Vignesh/Capstone\\JSON\\2023-01-01_UnitedHealthcare-Insurance-Company_Insurer_D0018041_UHC-Dental_in-network-rates.json.gz\n",
      "Parse Complete\n",
      "D:/Vignesh/Capstone\\JSON\\2023-01-01_UnitedHealthcare-Insurance-Company_Insurer_D0018041_UHC-Dental_in-network-rates.json.gz\n",
      "File Deleted\n",
      "File has been completed\n",
      "Hyperlink File: 3027 Started!\n"
     ]
    },
    {
     "data": {
      "application/vnd.jupyter.widget-view+json": {
       "model_id": "c8046607978648b68e400d4ad582c09f",
       "version_major": 2,
       "version_minor": 0
      },
      "text/plain": [
       "  0%|          | 0/79508575 [00:00<?, ?it/s]"
      ]
     },
     "metadata": {},
     "output_type": "display_data"
    },
    {
     "name": "stdout",
     "output_type": "stream",
     "text": [
      "2023-01-01_UnitedHealthcare-Insurance-Company_Insurer_D0018115_UHC-Dental_in-network-rates.json.gz\n",
      "Download Complete\n"
     ]
    },
    {
     "data": {
      "application/vnd.jupyter.widget-view+json": {
       "model_id": "e7593d3a176643b287bc9f857a0548f6",
       "version_major": 2,
       "version_minor": 0
      },
      "text/plain": [
       "0it [00:00, ?it/s]"
      ]
     },
     "metadata": {},
     "output_type": "display_data"
    },
    {
     "name": "stdout",
     "output_type": "stream",
     "text": [
      "D:/Vignesh/Capstone\\JSON\\2023-01-01_UnitedHealthcare-Insurance-Company_Insurer_D0018115_UHC-Dental_in-network-rates.json.gz\n",
      "Parse Complete\n",
      "D:/Vignesh/Capstone\\JSON\\2023-01-01_UnitedHealthcare-Insurance-Company_Insurer_D0018115_UHC-Dental_in-network-rates.json.gz\n",
      "File Deleted\n",
      "File has been completed\n",
      "Hyperlink File: 3028 Started!\n"
     ]
    },
    {
     "data": {
      "application/vnd.jupyter.widget-view+json": {
       "model_id": "a58472fd86de432f8c7669170628aa11",
       "version_major": 2,
       "version_minor": 0
      },
      "text/plain": [
       "  0%|          | 0/79508575 [00:00<?, ?it/s]"
      ]
     },
     "metadata": {},
     "output_type": "display_data"
    },
    {
     "name": "stdout",
     "output_type": "stream",
     "text": [
      "2023-01-01_UnitedHealthcare-Insurance-Company_Insurer_D0018143_UHC-Dental_in-network-rates.json.gz\n",
      "Download Complete\n"
     ]
    },
    {
     "data": {
      "application/vnd.jupyter.widget-view+json": {
       "model_id": "4489de06dd804ba5ac3546053fa6d056",
       "version_major": 2,
       "version_minor": 0
      },
      "text/plain": [
       "0it [00:00, ?it/s]"
      ]
     },
     "metadata": {},
     "output_type": "display_data"
    },
    {
     "name": "stdout",
     "output_type": "stream",
     "text": [
      "D:/Vignesh/Capstone\\JSON\\2023-01-01_UnitedHealthcare-Insurance-Company_Insurer_D0018143_UHC-Dental_in-network-rates.json.gz\n",
      "Parse Complete\n",
      "D:/Vignesh/Capstone\\JSON\\2023-01-01_UnitedHealthcare-Insurance-Company_Insurer_D0018143_UHC-Dental_in-network-rates.json.gz\n",
      "File Deleted\n",
      "File has been completed\n",
      "Hyperlink File: 3029 Started!\n"
     ]
    },
    {
     "data": {
      "application/vnd.jupyter.widget-view+json": {
       "model_id": "3e5562df4dba48179dba2bbce70f5f19",
       "version_major": 2,
       "version_minor": 0
      },
      "text/plain": [
       "  0%|          | 0/79508575 [00:00<?, ?it/s]"
      ]
     },
     "metadata": {},
     "output_type": "display_data"
    },
    {
     "name": "stdout",
     "output_type": "stream",
     "text": [
      "2023-01-01_UnitedHealthcare-Insurance-Company_Insurer_D0018198_UHC-Dental_in-network-rates.json.gz\n",
      "Download Complete\n"
     ]
    },
    {
     "data": {
      "application/vnd.jupyter.widget-view+json": {
       "model_id": "219e322312a54719be6ff4125b0af133",
       "version_major": 2,
       "version_minor": 0
      },
      "text/plain": [
       "0it [00:00, ?it/s]"
      ]
     },
     "metadata": {},
     "output_type": "display_data"
    },
    {
     "name": "stdout",
     "output_type": "stream",
     "text": [
      "D:/Vignesh/Capstone\\JSON\\2023-01-01_UnitedHealthcare-Insurance-Company_Insurer_D0018198_UHC-Dental_in-network-rates.json.gz\n",
      "Parse Complete\n",
      "D:/Vignesh/Capstone\\JSON\\2023-01-01_UnitedHealthcare-Insurance-Company_Insurer_D0018198_UHC-Dental_in-network-rates.json.gz\n",
      "File Deleted\n",
      "File has been completed\n",
      "Hyperlink File: 3030 Started!\n"
     ]
    },
    {
     "data": {
      "application/vnd.jupyter.widget-view+json": {
       "model_id": "105103060d2649049199a0afef87bf90",
       "version_major": 2,
       "version_minor": 0
      },
      "text/plain": [
       "  0%|          | 0/79508575 [00:00<?, ?it/s]"
      ]
     },
     "metadata": {},
     "output_type": "display_data"
    },
    {
     "name": "stdout",
     "output_type": "stream",
     "text": [
      "2023-01-01_UnitedHealthcare-Insurance-Company_Insurer_D0018305_UHC-Dental_in-network-rates.json.gz\n",
      "Download Complete\n"
     ]
    },
    {
     "data": {
      "application/vnd.jupyter.widget-view+json": {
       "model_id": "d9fd9bffc6e6475990b547d6304ff648",
       "version_major": 2,
       "version_minor": 0
      },
      "text/plain": [
       "0it [00:00, ?it/s]"
      ]
     },
     "metadata": {},
     "output_type": "display_data"
    },
    {
     "name": "stdout",
     "output_type": "stream",
     "text": [
      "D:/Vignesh/Capstone\\JSON\\2023-01-01_UnitedHealthcare-Insurance-Company_Insurer_D0018305_UHC-Dental_in-network-rates.json.gz\n",
      "Parse Complete\n",
      "D:/Vignesh/Capstone\\JSON\\2023-01-01_UnitedHealthcare-Insurance-Company_Insurer_D0018305_UHC-Dental_in-network-rates.json.gz\n",
      "File Deleted\n",
      "File has been completed\n",
      "Hyperlink File: 3031 Started!\n"
     ]
    },
    {
     "data": {
      "application/vnd.jupyter.widget-view+json": {
       "model_id": "11f25a3e35964b319094fbe7e3acd02b",
       "version_major": 2,
       "version_minor": 0
      },
      "text/plain": [
       "  0%|          | 0/79508575 [00:00<?, ?it/s]"
      ]
     },
     "metadata": {},
     "output_type": "display_data"
    },
    {
     "name": "stdout",
     "output_type": "stream",
     "text": [
      "2023-01-01_UnitedHealthcare-Insurance-Company_Insurer_D0018306_UHC-Dental_in-network-rates.json.gz\n",
      "Download Complete\n"
     ]
    },
    {
     "data": {
      "application/vnd.jupyter.widget-view+json": {
       "model_id": "068087656f1047dea88fa1a6bf31e1fe",
       "version_major": 2,
       "version_minor": 0
      },
      "text/plain": [
       "0it [00:00, ?it/s]"
      ]
     },
     "metadata": {},
     "output_type": "display_data"
    },
    {
     "name": "stdout",
     "output_type": "stream",
     "text": [
      "D:/Vignesh/Capstone\\JSON\\2023-01-01_UnitedHealthcare-Insurance-Company_Insurer_D0018306_UHC-Dental_in-network-rates.json.gz\n",
      "Parse Complete\n",
      "D:/Vignesh/Capstone\\JSON\\2023-01-01_UnitedHealthcare-Insurance-Company_Insurer_D0018306_UHC-Dental_in-network-rates.json.gz\n",
      "File Deleted\n",
      "File has been completed\n",
      "Hyperlink File: 3032 Started!\n"
     ]
    },
    {
     "data": {
      "application/vnd.jupyter.widget-view+json": {
       "model_id": "9822cfa7a85e41ecaf18db02eb2ffa68",
       "version_major": 2,
       "version_minor": 0
      },
      "text/plain": [
       "  0%|          | 0/79508575 [00:00<?, ?it/s]"
      ]
     },
     "metadata": {},
     "output_type": "display_data"
    },
    {
     "name": "stdout",
     "output_type": "stream",
     "text": [
      "2023-01-01_UnitedHealthcare-Insurance-Company_Insurer_D0018353_UHC-Dental_in-network-rates.json.gz\n",
      "Download Complete\n"
     ]
    },
    {
     "data": {
      "application/vnd.jupyter.widget-view+json": {
       "model_id": "5f67fb49bcea4dd785cf9d50e3d2bca2",
       "version_major": 2,
       "version_minor": 0
      },
      "text/plain": [
       "0it [00:00, ?it/s]"
      ]
     },
     "metadata": {},
     "output_type": "display_data"
    },
    {
     "name": "stdout",
     "output_type": "stream",
     "text": [
      "D:/Vignesh/Capstone\\JSON\\2023-01-01_UnitedHealthcare-Insurance-Company_Insurer_D0018353_UHC-Dental_in-network-rates.json.gz\n",
      "Parse Complete\n",
      "D:/Vignesh/Capstone\\JSON\\2023-01-01_UnitedHealthcare-Insurance-Company_Insurer_D0018353_UHC-Dental_in-network-rates.json.gz\n",
      "File Deleted\n",
      "File has been completed\n",
      "Hyperlink File: 3033 Started!\n"
     ]
    },
    {
     "data": {
      "application/vnd.jupyter.widget-view+json": {
       "model_id": "f8bc20a4bf144ad7b13eeea68ebecf27",
       "version_major": 2,
       "version_minor": 0
      },
      "text/plain": [
       "  0%|          | 0/79508575 [00:00<?, ?it/s]"
      ]
     },
     "metadata": {},
     "output_type": "display_data"
    },
    {
     "name": "stdout",
     "output_type": "stream",
     "text": [
      "2023-01-01_UnitedHealthcare-Insurance-Company_Insurer_D0018579_UHC-Dental_in-network-rates.json.gz\n",
      "Download Complete\n"
     ]
    },
    {
     "data": {
      "application/vnd.jupyter.widget-view+json": {
       "model_id": "1d68a7d16ec743439093b48ba65fe986",
       "version_major": 2,
       "version_minor": 0
      },
      "text/plain": [
       "0it [00:00, ?it/s]"
      ]
     },
     "metadata": {},
     "output_type": "display_data"
    },
    {
     "name": "stdout",
     "output_type": "stream",
     "text": [
      "D:/Vignesh/Capstone\\JSON\\2023-01-01_UnitedHealthcare-Insurance-Company_Insurer_D0018579_UHC-Dental_in-network-rates.json.gz\n",
      "Parse Complete\n",
      "D:/Vignesh/Capstone\\JSON\\2023-01-01_UnitedHealthcare-Insurance-Company_Insurer_D0018579_UHC-Dental_in-network-rates.json.gz\n",
      "File Deleted\n",
      "File has been completed\n",
      "Hyperlink File: 3034 Started!\n"
     ]
    },
    {
     "data": {
      "application/vnd.jupyter.widget-view+json": {
       "model_id": "b7351c51fb7941798b2ec65451095473",
       "version_major": 2,
       "version_minor": 0
      },
      "text/plain": [
       "  0%|          | 0/79508575 [00:00<?, ?it/s]"
      ]
     },
     "metadata": {},
     "output_type": "display_data"
    },
    {
     "name": "stdout",
     "output_type": "stream",
     "text": [
      "2023-01-01_UnitedHealthcare-Insurance-Company_Insurer_D0018609_UHC-Dental_in-network-rates.json.gz\n",
      "Download Complete\n"
     ]
    },
    {
     "data": {
      "application/vnd.jupyter.widget-view+json": {
       "model_id": "da85f338829248739646701c424c6145",
       "version_major": 2,
       "version_minor": 0
      },
      "text/plain": [
       "0it [00:00, ?it/s]"
      ]
     },
     "metadata": {},
     "output_type": "display_data"
    },
    {
     "name": "stdout",
     "output_type": "stream",
     "text": [
      "D:/Vignesh/Capstone\\JSON\\2023-01-01_UnitedHealthcare-Insurance-Company_Insurer_D0018609_UHC-Dental_in-network-rates.json.gz\n",
      "Parse Complete\n",
      "D:/Vignesh/Capstone\\JSON\\2023-01-01_UnitedHealthcare-Insurance-Company_Insurer_D0018609_UHC-Dental_in-network-rates.json.gz\n",
      "File Deleted\n",
      "File has been completed\n",
      "Hyperlink File: 3035 Started!\n"
     ]
    },
    {
     "data": {
      "application/vnd.jupyter.widget-view+json": {
       "model_id": "e8f98059f29f4c6db99069726b7e4605",
       "version_major": 2,
       "version_minor": 0
      },
      "text/plain": [
       "  0%|          | 0/79508575 [00:00<?, ?it/s]"
      ]
     },
     "metadata": {},
     "output_type": "display_data"
    },
    {
     "name": "stdout",
     "output_type": "stream",
     "text": [
      "2023-01-01_UnitedHealthcare-Insurance-Company_Insurer_D0018611_UHC-Dental_in-network-rates.json.gz\n",
      "Download Complete\n"
     ]
    },
    {
     "data": {
      "application/vnd.jupyter.widget-view+json": {
       "model_id": "ebc61ff3a76047e79a037a7622393da6",
       "version_major": 2,
       "version_minor": 0
      },
      "text/plain": [
       "0it [00:00, ?it/s]"
      ]
     },
     "metadata": {},
     "output_type": "display_data"
    },
    {
     "name": "stdout",
     "output_type": "stream",
     "text": [
      "D:/Vignesh/Capstone\\JSON\\2023-01-01_UnitedHealthcare-Insurance-Company_Insurer_D0018611_UHC-Dental_in-network-rates.json.gz\n",
      "Parse Complete\n",
      "D:/Vignesh/Capstone\\JSON\\2023-01-01_UnitedHealthcare-Insurance-Company_Insurer_D0018611_UHC-Dental_in-network-rates.json.gz\n",
      "File Deleted\n",
      "File has been completed\n",
      "Hyperlink File: 3036 Started!\n"
     ]
    },
    {
     "data": {
      "application/vnd.jupyter.widget-view+json": {
       "model_id": "5968cda9766347968a16a0aae4c2d6f6",
       "version_major": 2,
       "version_minor": 0
      },
      "text/plain": [
       "  0%|          | 0/79508575 [00:00<?, ?it/s]"
      ]
     },
     "metadata": {},
     "output_type": "display_data"
    },
    {
     "name": "stdout",
     "output_type": "stream",
     "text": [
      "2023-01-01_UnitedHealthcare-Insurance-Company_Insurer_D0018733_UHC-Dental_in-network-rates.json.gz\n",
      "Download Complete\n"
     ]
    },
    {
     "data": {
      "application/vnd.jupyter.widget-view+json": {
       "model_id": "0a763a17c9284df2a8a4a9eda6290c18",
       "version_major": 2,
       "version_minor": 0
      },
      "text/plain": [
       "0it [00:00, ?it/s]"
      ]
     },
     "metadata": {},
     "output_type": "display_data"
    },
    {
     "name": "stdout",
     "output_type": "stream",
     "text": [
      "D:/Vignesh/Capstone\\JSON\\2023-01-01_UnitedHealthcare-Insurance-Company_Insurer_D0018733_UHC-Dental_in-network-rates.json.gz\n",
      "Parse Complete\n",
      "D:/Vignesh/Capstone\\JSON\\2023-01-01_UnitedHealthcare-Insurance-Company_Insurer_D0018733_UHC-Dental_in-network-rates.json.gz\n",
      "File Deleted\n",
      "File has been completed\n",
      "Hyperlink File: 3037 Started!\n"
     ]
    },
    {
     "data": {
      "application/vnd.jupyter.widget-view+json": {
       "model_id": "bbc247177c37401489c8dade9ce517ae",
       "version_major": 2,
       "version_minor": 0
      },
      "text/plain": [
       "  0%|          | 0/79508575 [00:00<?, ?it/s]"
      ]
     },
     "metadata": {},
     "output_type": "display_data"
    },
    {
     "name": "stdout",
     "output_type": "stream",
     "text": [
      "2023-01-01_UnitedHealthcare-Insurance-Company_Insurer_D0018735_UHC-Dental_in-network-rates.json.gz\n",
      "Download Complete\n"
     ]
    },
    {
     "data": {
      "application/vnd.jupyter.widget-view+json": {
       "model_id": "54e90ada1a664912822cf8c0f39805b0",
       "version_major": 2,
       "version_minor": 0
      },
      "text/plain": [
       "0it [00:00, ?it/s]"
      ]
     },
     "metadata": {},
     "output_type": "display_data"
    },
    {
     "name": "stdout",
     "output_type": "stream",
     "text": [
      "D:/Vignesh/Capstone\\JSON\\2023-01-01_UnitedHealthcare-Insurance-Company_Insurer_D0018735_UHC-Dental_in-network-rates.json.gz\n",
      "Parse Complete\n",
      "D:/Vignesh/Capstone\\JSON\\2023-01-01_UnitedHealthcare-Insurance-Company_Insurer_D0018735_UHC-Dental_in-network-rates.json.gz\n",
      "File Deleted\n",
      "File has been completed\n",
      "Hyperlink File: 3038 Started!\n"
     ]
    },
    {
     "data": {
      "application/vnd.jupyter.widget-view+json": {
       "model_id": "aa6fea8094b84f90ae0cad05f7338903",
       "version_major": 2,
       "version_minor": 0
      },
      "text/plain": [
       "  0%|          | 0/79508575 [00:00<?, ?it/s]"
      ]
     },
     "metadata": {},
     "output_type": "display_data"
    },
    {
     "name": "stdout",
     "output_type": "stream",
     "text": [
      "2023-01-01_UnitedHealthcare-Insurance-Company_Insurer_D0018757_UHC-Dental_in-network-rates.json.gz\n",
      "Download Complete\n"
     ]
    },
    {
     "data": {
      "application/vnd.jupyter.widget-view+json": {
       "model_id": "b676ee8835d44aff94accaaa7e811644",
       "version_major": 2,
       "version_minor": 0
      },
      "text/plain": [
       "0it [00:00, ?it/s]"
      ]
     },
     "metadata": {},
     "output_type": "display_data"
    },
    {
     "name": "stdout",
     "output_type": "stream",
     "text": [
      "D:/Vignesh/Capstone\\JSON\\2023-01-01_UnitedHealthcare-Insurance-Company_Insurer_D0018757_UHC-Dental_in-network-rates.json.gz\n",
      "Parse Complete\n",
      "D:/Vignesh/Capstone\\JSON\\2023-01-01_UnitedHealthcare-Insurance-Company_Insurer_D0018757_UHC-Dental_in-network-rates.json.gz\n",
      "File Deleted\n",
      "File has been completed\n",
      "Hyperlink File: 3039 Started!\n"
     ]
    },
    {
     "data": {
      "application/vnd.jupyter.widget-view+json": {
       "model_id": "2b43971cd14d4c7d909d29482fd02683",
       "version_major": 2,
       "version_minor": 0
      },
      "text/plain": [
       "  0%|          | 0/79508575 [00:00<?, ?it/s]"
      ]
     },
     "metadata": {},
     "output_type": "display_data"
    },
    {
     "name": "stdout",
     "output_type": "stream",
     "text": [
      "2023-01-01_UnitedHealthcare-Insurance-Company_Insurer_D0018808_UHC-Dental_in-network-rates.json.gz\n",
      "Download Complete\n"
     ]
    },
    {
     "data": {
      "application/vnd.jupyter.widget-view+json": {
       "model_id": "be0272c373c84213bbde13d9a5205032",
       "version_major": 2,
       "version_minor": 0
      },
      "text/plain": [
       "0it [00:00, ?it/s]"
      ]
     },
     "metadata": {},
     "output_type": "display_data"
    },
    {
     "name": "stdout",
     "output_type": "stream",
     "text": [
      "D:/Vignesh/Capstone\\JSON\\2023-01-01_UnitedHealthcare-Insurance-Company_Insurer_D0018808_UHC-Dental_in-network-rates.json.gz\n",
      "Parse Complete\n",
      "D:/Vignesh/Capstone\\JSON\\2023-01-01_UnitedHealthcare-Insurance-Company_Insurer_D0018808_UHC-Dental_in-network-rates.json.gz\n",
      "File Deleted\n",
      "File has been completed\n",
      "Hyperlink File: 3040 Started!\n"
     ]
    },
    {
     "data": {
      "application/vnd.jupyter.widget-view+json": {
       "model_id": "e7e2626cfe074b1d833a3dec90098152",
       "version_major": 2,
       "version_minor": 0
      },
      "text/plain": [
       "  0%|          | 0/79508575 [00:00<?, ?it/s]"
      ]
     },
     "metadata": {},
     "output_type": "display_data"
    },
    {
     "name": "stdout",
     "output_type": "stream",
     "text": [
      "2023-01-01_UnitedHealthcare-Insurance-Company_Insurer_D0018833_UHC-Dental_in-network-rates.json.gz\n",
      "Download Complete\n"
     ]
    },
    {
     "data": {
      "application/vnd.jupyter.widget-view+json": {
       "model_id": "a937e4fb285d4c5586d8b2d83450f49a",
       "version_major": 2,
       "version_minor": 0
      },
      "text/plain": [
       "0it [00:00, ?it/s]"
      ]
     },
     "metadata": {},
     "output_type": "display_data"
    },
    {
     "name": "stdout",
     "output_type": "stream",
     "text": [
      "D:/Vignesh/Capstone\\JSON\\2023-01-01_UnitedHealthcare-Insurance-Company_Insurer_D0018833_UHC-Dental_in-network-rates.json.gz\n",
      "Parse Complete\n",
      "D:/Vignesh/Capstone\\JSON\\2023-01-01_UnitedHealthcare-Insurance-Company_Insurer_D0018833_UHC-Dental_in-network-rates.json.gz\n",
      "File Deleted\n",
      "File has been completed\n",
      "Hyperlink File: 3041 Started!\n"
     ]
    },
    {
     "data": {
      "application/vnd.jupyter.widget-view+json": {
       "model_id": "f7a9facbfd154da58989a021305e8d0e",
       "version_major": 2,
       "version_minor": 0
      },
      "text/plain": [
       "  0%|          | 0/79508575 [00:00<?, ?it/s]"
      ]
     },
     "metadata": {},
     "output_type": "display_data"
    },
    {
     "name": "stdout",
     "output_type": "stream",
     "text": [
      "2023-01-01_UnitedHealthcare-Insurance-Company_Insurer_D0018838_UHC-Dental_in-network-rates.json.gz\n",
      "Download Complete\n"
     ]
    },
    {
     "data": {
      "application/vnd.jupyter.widget-view+json": {
       "model_id": "0db6113a442540358c1af625b5cdd919",
       "version_major": 2,
       "version_minor": 0
      },
      "text/plain": [
       "0it [00:00, ?it/s]"
      ]
     },
     "metadata": {},
     "output_type": "display_data"
    },
    {
     "name": "stdout",
     "output_type": "stream",
     "text": [
      "D:/Vignesh/Capstone\\JSON\\2023-01-01_UnitedHealthcare-Insurance-Company_Insurer_D0018838_UHC-Dental_in-network-rates.json.gz\n",
      "Parse Complete\n",
      "D:/Vignesh/Capstone\\JSON\\2023-01-01_UnitedHealthcare-Insurance-Company_Insurer_D0018838_UHC-Dental_in-network-rates.json.gz\n",
      "File Deleted\n",
      "File has been completed\n",
      "Hyperlink File: 3042 Started!\n"
     ]
    },
    {
     "data": {
      "application/vnd.jupyter.widget-view+json": {
       "model_id": "8adffcb3aec14999af23d77d704300a7",
       "version_major": 2,
       "version_minor": 0
      },
      "text/plain": [
       "  0%|          | 0/79508575 [00:00<?, ?it/s]"
      ]
     },
     "metadata": {},
     "output_type": "display_data"
    },
    {
     "name": "stdout",
     "output_type": "stream",
     "text": [
      "2023-01-01_UnitedHealthcare-Insurance-Company_Insurer_D0018884_UHC-Dental_in-network-rates.json.gz\n",
      "Download Complete\n"
     ]
    },
    {
     "data": {
      "application/vnd.jupyter.widget-view+json": {
       "model_id": "82f232b635484f1e92ce15c7bf972b5b",
       "version_major": 2,
       "version_minor": 0
      },
      "text/plain": [
       "0it [00:00, ?it/s]"
      ]
     },
     "metadata": {},
     "output_type": "display_data"
    },
    {
     "name": "stdout",
     "output_type": "stream",
     "text": [
      "D:/Vignesh/Capstone\\JSON\\2023-01-01_UnitedHealthcare-Insurance-Company_Insurer_D0018884_UHC-Dental_in-network-rates.json.gz\n",
      "Parse Complete\n",
      "D:/Vignesh/Capstone\\JSON\\2023-01-01_UnitedHealthcare-Insurance-Company_Insurer_D0018884_UHC-Dental_in-network-rates.json.gz\n",
      "File Deleted\n",
      "File has been completed\n",
      "Hyperlink File: 3043 Started!\n"
     ]
    },
    {
     "data": {
      "application/vnd.jupyter.widget-view+json": {
       "model_id": "2d6d256ab13a46acb1d7538932089465",
       "version_major": 2,
       "version_minor": 0
      },
      "text/plain": [
       "  0%|          | 0/79508575 [00:00<?, ?it/s]"
      ]
     },
     "metadata": {},
     "output_type": "display_data"
    },
    {
     "name": "stdout",
     "output_type": "stream",
     "text": [
      "2023-01-01_UnitedHealthcare-Insurance-Company_Insurer_D0018885_UHC-Dental_in-network-rates.json.gz\n",
      "Download Complete\n"
     ]
    },
    {
     "data": {
      "application/vnd.jupyter.widget-view+json": {
       "model_id": "abf11a04f1cd426889dbea57c9bd03ed",
       "version_major": 2,
       "version_minor": 0
      },
      "text/plain": [
       "0it [00:00, ?it/s]"
      ]
     },
     "metadata": {},
     "output_type": "display_data"
    },
    {
     "name": "stdout",
     "output_type": "stream",
     "text": [
      "D:/Vignesh/Capstone\\JSON\\2023-01-01_UnitedHealthcare-Insurance-Company_Insurer_D0018885_UHC-Dental_in-network-rates.json.gz\n",
      "Parse Complete\n",
      "D:/Vignesh/Capstone\\JSON\\2023-01-01_UnitedHealthcare-Insurance-Company_Insurer_D0018885_UHC-Dental_in-network-rates.json.gz\n",
      "File Deleted\n",
      "File has been completed\n",
      "Hyperlink File: 3044 Started!\n"
     ]
    },
    {
     "data": {
      "application/vnd.jupyter.widget-view+json": {
       "model_id": "c283772fdd46448a82af54dbb6d9592b",
       "version_major": 2,
       "version_minor": 0
      },
      "text/plain": [
       "  0%|          | 0/79508575 [00:00<?, ?it/s]"
      ]
     },
     "metadata": {},
     "output_type": "display_data"
    },
    {
     "name": "stdout",
     "output_type": "stream",
     "text": [
      "2023-01-01_UnitedHealthcare-Insurance-Company_Insurer_D0018899_UHC-Dental_in-network-rates.json.gz\n",
      "Download Complete\n"
     ]
    },
    {
     "data": {
      "application/vnd.jupyter.widget-view+json": {
       "model_id": "a7892e4919ea4aad9411a090ec334d80",
       "version_major": 2,
       "version_minor": 0
      },
      "text/plain": [
       "0it [00:00, ?it/s]"
      ]
     },
     "metadata": {},
     "output_type": "display_data"
    },
    {
     "name": "stdout",
     "output_type": "stream",
     "text": [
      "D:/Vignesh/Capstone\\JSON\\2023-01-01_UnitedHealthcare-Insurance-Company_Insurer_D0018899_UHC-Dental_in-network-rates.json.gz\n",
      "Parse Complete\n",
      "D:/Vignesh/Capstone\\JSON\\2023-01-01_UnitedHealthcare-Insurance-Company_Insurer_D0018899_UHC-Dental_in-network-rates.json.gz\n",
      "File Deleted\n",
      "File has been completed\n",
      "Hyperlink File: 3045 Started!\n"
     ]
    },
    {
     "data": {
      "application/vnd.jupyter.widget-view+json": {
       "model_id": "9cf2d8fb35324478a628445d5d8a49e8",
       "version_major": 2,
       "version_minor": 0
      },
      "text/plain": [
       "  0%|          | 0/79508575 [00:00<?, ?it/s]"
      ]
     },
     "metadata": {},
     "output_type": "display_data"
    },
    {
     "name": "stdout",
     "output_type": "stream",
     "text": [
      "2023-01-01_UnitedHealthcare-Insurance-Company_Insurer_D0018900_UHC-Dental_in-network-rates.json.gz\n",
      "Download Complete\n"
     ]
    },
    {
     "data": {
      "application/vnd.jupyter.widget-view+json": {
       "model_id": "252bea2e03fc4e9ca27fca7597177c1c",
       "version_major": 2,
       "version_minor": 0
      },
      "text/plain": [
       "0it [00:00, ?it/s]"
      ]
     },
     "metadata": {},
     "output_type": "display_data"
    },
    {
     "name": "stdout",
     "output_type": "stream",
     "text": [
      "D:/Vignesh/Capstone\\JSON\\2023-01-01_UnitedHealthcare-Insurance-Company_Insurer_D0018900_UHC-Dental_in-network-rates.json.gz\n",
      "Parse Complete\n",
      "D:/Vignesh/Capstone\\JSON\\2023-01-01_UnitedHealthcare-Insurance-Company_Insurer_D0018900_UHC-Dental_in-network-rates.json.gz\n",
      "File Deleted\n",
      "File has been completed\n",
      "Hyperlink File: 3046 Started!\n"
     ]
    },
    {
     "data": {
      "application/vnd.jupyter.widget-view+json": {
       "model_id": "57b1108e918040e498ae1059b3cd931a",
       "version_major": 2,
       "version_minor": 0
      },
      "text/plain": [
       "  0%|          | 0/79508575 [00:00<?, ?it/s]"
      ]
     },
     "metadata": {},
     "output_type": "display_data"
    },
    {
     "name": "stdout",
     "output_type": "stream",
     "text": [
      "2023-01-01_UnitedHealthcare-Insurance-Company_Insurer_D0018903_UHC-Dental_in-network-rates.json.gz\n",
      "Download Complete\n"
     ]
    },
    {
     "data": {
      "application/vnd.jupyter.widget-view+json": {
       "model_id": "f6ae735f4de2410aa4cd9023aad128b9",
       "version_major": 2,
       "version_minor": 0
      },
      "text/plain": [
       "0it [00:00, ?it/s]"
      ]
     },
     "metadata": {},
     "output_type": "display_data"
    },
    {
     "name": "stdout",
     "output_type": "stream",
     "text": [
      "D:/Vignesh/Capstone\\JSON\\2023-01-01_UnitedHealthcare-Insurance-Company_Insurer_D0018903_UHC-Dental_in-network-rates.json.gz\n",
      "Parse Complete\n",
      "D:/Vignesh/Capstone\\JSON\\2023-01-01_UnitedHealthcare-Insurance-Company_Insurer_D0018903_UHC-Dental_in-network-rates.json.gz\n",
      "File Deleted\n",
      "File has been completed\n",
      "Hyperlink File: 3047 Started!\n"
     ]
    },
    {
     "data": {
      "application/vnd.jupyter.widget-view+json": {
       "model_id": "a7abab120e4c401585cf9d52f56849e3",
       "version_major": 2,
       "version_minor": 0
      },
      "text/plain": [
       "  0%|          | 0/79508575 [00:00<?, ?it/s]"
      ]
     },
     "metadata": {},
     "output_type": "display_data"
    },
    {
     "name": "stdout",
     "output_type": "stream",
     "text": [
      "2023-01-01_UnitedHealthcare-Insurance-Company_Insurer_D0018905_UHC-Dental_in-network-rates.json.gz\n",
      "Download Complete\n"
     ]
    },
    {
     "data": {
      "application/vnd.jupyter.widget-view+json": {
       "model_id": "54ce87ec7a594530a9e4178c6354988b",
       "version_major": 2,
       "version_minor": 0
      },
      "text/plain": [
       "0it [00:00, ?it/s]"
      ]
     },
     "metadata": {},
     "output_type": "display_data"
    },
    {
     "name": "stdout",
     "output_type": "stream",
     "text": [
      "D:/Vignesh/Capstone\\JSON\\2023-01-01_UnitedHealthcare-Insurance-Company_Insurer_D0018905_UHC-Dental_in-network-rates.json.gz\n",
      "Parse Complete\n",
      "D:/Vignesh/Capstone\\JSON\\2023-01-01_UnitedHealthcare-Insurance-Company_Insurer_D0018905_UHC-Dental_in-network-rates.json.gz\n",
      "File Deleted\n",
      "File has been completed\n",
      "Hyperlink File: 3048 Started!\n"
     ]
    },
    {
     "data": {
      "application/vnd.jupyter.widget-view+json": {
       "model_id": "f13bfdb5ea744201a97d3d41fb731632",
       "version_major": 2,
       "version_minor": 0
      },
      "text/plain": [
       "  0%|          | 0/79508575 [00:00<?, ?it/s]"
      ]
     },
     "metadata": {},
     "output_type": "display_data"
    },
    {
     "name": "stdout",
     "output_type": "stream",
     "text": [
      "2023-01-01_UnitedHealthcare-Insurance-Company_Insurer_D0018906_UHC-Dental_in-network-rates.json.gz\n",
      "Download Complete\n"
     ]
    },
    {
     "data": {
      "application/vnd.jupyter.widget-view+json": {
       "model_id": "5beac4d6c6014680b9b5e6f6c513a56e",
       "version_major": 2,
       "version_minor": 0
      },
      "text/plain": [
       "0it [00:00, ?it/s]"
      ]
     },
     "metadata": {},
     "output_type": "display_data"
    },
    {
     "name": "stdout",
     "output_type": "stream",
     "text": [
      "D:/Vignesh/Capstone\\JSON\\2023-01-01_UnitedHealthcare-Insurance-Company_Insurer_D0018906_UHC-Dental_in-network-rates.json.gz\n",
      "Parse Complete\n",
      "D:/Vignesh/Capstone\\JSON\\2023-01-01_UnitedHealthcare-Insurance-Company_Insurer_D0018906_UHC-Dental_in-network-rates.json.gz\n",
      "File Deleted\n",
      "File has been completed\n",
      "Hyperlink File: 3049 Started!\n"
     ]
    },
    {
     "data": {
      "application/vnd.jupyter.widget-view+json": {
       "model_id": "fbb56be729684c8c9e7b972a43a01023",
       "version_major": 2,
       "version_minor": 0
      },
      "text/plain": [
       "  0%|          | 0/79508575 [00:00<?, ?it/s]"
      ]
     },
     "metadata": {},
     "output_type": "display_data"
    },
    {
     "name": "stdout",
     "output_type": "stream",
     "text": [
      "2023-01-01_UnitedHealthcare-Insurance-Company_Insurer_D0018908_UHC-Dental_in-network-rates.json.gz\n",
      "Download Complete\n"
     ]
    },
    {
     "data": {
      "application/vnd.jupyter.widget-view+json": {
       "model_id": "7c106f0fb50540c69b0f3c91b40731d9",
       "version_major": 2,
       "version_minor": 0
      },
      "text/plain": [
       "0it [00:00, ?it/s]"
      ]
     },
     "metadata": {},
     "output_type": "display_data"
    },
    {
     "name": "stdout",
     "output_type": "stream",
     "text": [
      "D:/Vignesh/Capstone\\JSON\\2023-01-01_UnitedHealthcare-Insurance-Company_Insurer_D0018908_UHC-Dental_in-network-rates.json.gz\n",
      "Parse Complete\n",
      "D:/Vignesh/Capstone\\JSON\\2023-01-01_UnitedHealthcare-Insurance-Company_Insurer_D0018908_UHC-Dental_in-network-rates.json.gz\n",
      "File Deleted\n",
      "File has been completed\n",
      "Hyperlink File: 3050 Started!\n"
     ]
    },
    {
     "data": {
      "application/vnd.jupyter.widget-view+json": {
       "model_id": "35a5d710fcf9407dbf635b29da1dc606",
       "version_major": 2,
       "version_minor": 0
      },
      "text/plain": [
       "  0%|          | 0/79508575 [00:00<?, ?it/s]"
      ]
     },
     "metadata": {},
     "output_type": "display_data"
    },
    {
     "name": "stdout",
     "output_type": "stream",
     "text": [
      "2023-01-01_UnitedHealthcare-Insurance-Company_Insurer_D0018910_UHC-Dental_in-network-rates.json.gz\n",
      "Download Complete\n"
     ]
    },
    {
     "data": {
      "application/vnd.jupyter.widget-view+json": {
       "model_id": "0152408fad394a5d9dce00f4cbca7199",
       "version_major": 2,
       "version_minor": 0
      },
      "text/plain": [
       "0it [00:00, ?it/s]"
      ]
     },
     "metadata": {},
     "output_type": "display_data"
    },
    {
     "name": "stdout",
     "output_type": "stream",
     "text": [
      "D:/Vignesh/Capstone\\JSON\\2023-01-01_UnitedHealthcare-Insurance-Company_Insurer_D0018910_UHC-Dental_in-network-rates.json.gz\n",
      "Parse Complete\n",
      "D:/Vignesh/Capstone\\JSON\\2023-01-01_UnitedHealthcare-Insurance-Company_Insurer_D0018910_UHC-Dental_in-network-rates.json.gz\n",
      "File Deleted\n",
      "File has been completed\n",
      "Hyperlink File: 3051 Started!\n"
     ]
    },
    {
     "data": {
      "application/vnd.jupyter.widget-view+json": {
       "model_id": "8c167c4564f64a3687490e9bbd8140e4",
       "version_major": 2,
       "version_minor": 0
      },
      "text/plain": [
       "  0%|          | 0/79508575 [00:00<?, ?it/s]"
      ]
     },
     "metadata": {},
     "output_type": "display_data"
    },
    {
     "name": "stdout",
     "output_type": "stream",
     "text": [
      "2023-01-01_UnitedHealthcare-Insurance-Company_Insurer_D0018914_UHC-Dental_in-network-rates.json.gz\n",
      "Download Complete\n"
     ]
    },
    {
     "data": {
      "application/vnd.jupyter.widget-view+json": {
       "model_id": "768ebd5ccb784a96a41d916d8cbfec7b",
       "version_major": 2,
       "version_minor": 0
      },
      "text/plain": [
       "0it [00:00, ?it/s]"
      ]
     },
     "metadata": {},
     "output_type": "display_data"
    },
    {
     "name": "stdout",
     "output_type": "stream",
     "text": [
      "D:/Vignesh/Capstone\\JSON\\2023-01-01_UnitedHealthcare-Insurance-Company_Insurer_D0018914_UHC-Dental_in-network-rates.json.gz\n",
      "Parse Complete\n",
      "D:/Vignesh/Capstone\\JSON\\2023-01-01_UnitedHealthcare-Insurance-Company_Insurer_D0018914_UHC-Dental_in-network-rates.json.gz\n",
      "File Deleted\n",
      "File has been completed\n",
      "Hyperlink File: 3052 Started!\n"
     ]
    },
    {
     "data": {
      "application/vnd.jupyter.widget-view+json": {
       "model_id": "34d8b0d1e2f746ca9e09beb76427e7dd",
       "version_major": 2,
       "version_minor": 0
      },
      "text/plain": [
       "  0%|          | 0/79508575 [00:00<?, ?it/s]"
      ]
     },
     "metadata": {},
     "output_type": "display_data"
    },
    {
     "name": "stdout",
     "output_type": "stream",
     "text": [
      "2023-01-01_UnitedHealthcare-Insurance-Company_Insurer_D0018965_UHC-Dental_in-network-rates.json.gz\n",
      "Download Complete\n"
     ]
    },
    {
     "data": {
      "application/vnd.jupyter.widget-view+json": {
       "model_id": "d835122374804ee0ad603929f4f6f542",
       "version_major": 2,
       "version_minor": 0
      },
      "text/plain": [
       "0it [00:00, ?it/s]"
      ]
     },
     "metadata": {},
     "output_type": "display_data"
    },
    {
     "name": "stdout",
     "output_type": "stream",
     "text": [
      "D:/Vignesh/Capstone\\JSON\\2023-01-01_UnitedHealthcare-Insurance-Company_Insurer_D0018965_UHC-Dental_in-network-rates.json.gz\n",
      "Parse Complete\n",
      "D:/Vignesh/Capstone\\JSON\\2023-01-01_UnitedHealthcare-Insurance-Company_Insurer_D0018965_UHC-Dental_in-network-rates.json.gz\n",
      "File Deleted\n",
      "File has been completed\n",
      "Hyperlink File: 3053 Started!\n"
     ]
    },
    {
     "data": {
      "application/vnd.jupyter.widget-view+json": {
       "model_id": "a7b88694bc4e4299b798c3a99013263e",
       "version_major": 2,
       "version_minor": 0
      },
      "text/plain": [
       "  0%|          | 0/79508575 [00:00<?, ?it/s]"
      ]
     },
     "metadata": {},
     "output_type": "display_data"
    },
    {
     "name": "stdout",
     "output_type": "stream",
     "text": [
      "2023-01-01_UnitedHealthcare-Insurance-Company_Insurer_D0019018_UHC-Dental_in-network-rates.json.gz\n",
      "Download Complete\n"
     ]
    },
    {
     "data": {
      "application/vnd.jupyter.widget-view+json": {
       "model_id": "6daba224c5474677a78510f1587c3f92",
       "version_major": 2,
       "version_minor": 0
      },
      "text/plain": [
       "0it [00:00, ?it/s]"
      ]
     },
     "metadata": {},
     "output_type": "display_data"
    },
    {
     "name": "stdout",
     "output_type": "stream",
     "text": [
      "D:/Vignesh/Capstone\\JSON\\2023-01-01_UnitedHealthcare-Insurance-Company_Insurer_D0019018_UHC-Dental_in-network-rates.json.gz\n",
      "Parse Complete\n",
      "D:/Vignesh/Capstone\\JSON\\2023-01-01_UnitedHealthcare-Insurance-Company_Insurer_D0019018_UHC-Dental_in-network-rates.json.gz\n",
      "File Deleted\n",
      "File has been completed\n",
      "Hyperlink File: 3054 Started!\n"
     ]
    },
    {
     "data": {
      "application/vnd.jupyter.widget-view+json": {
       "model_id": "561954c08e7f41c688a1bd4369b9a476",
       "version_major": 2,
       "version_minor": 0
      },
      "text/plain": [
       "  0%|          | 0/79508575 [00:00<?, ?it/s]"
      ]
     },
     "metadata": {},
     "output_type": "display_data"
    },
    {
     "name": "stdout",
     "output_type": "stream",
     "text": [
      "2023-01-01_UnitedHealthcare-Insurance-Company_Insurer_D0019074_UHC-Dental_in-network-rates.json.gz\n",
      "Download Complete\n"
     ]
    },
    {
     "data": {
      "application/vnd.jupyter.widget-view+json": {
       "model_id": "6a9a117ad8a249048d0f746640bf4447",
       "version_major": 2,
       "version_minor": 0
      },
      "text/plain": [
       "0it [00:00, ?it/s]"
      ]
     },
     "metadata": {},
     "output_type": "display_data"
    },
    {
     "name": "stdout",
     "output_type": "stream",
     "text": [
      "D:/Vignesh/Capstone\\JSON\\2023-01-01_UnitedHealthcare-Insurance-Company_Insurer_D0019074_UHC-Dental_in-network-rates.json.gz\n",
      "Parse Complete\n",
      "D:/Vignesh/Capstone\\JSON\\2023-01-01_UnitedHealthcare-Insurance-Company_Insurer_D0019074_UHC-Dental_in-network-rates.json.gz\n",
      "File Deleted\n",
      "File has been completed\n",
      "Hyperlink File: 3055 Started!\n"
     ]
    },
    {
     "data": {
      "application/vnd.jupyter.widget-view+json": {
       "model_id": "8e730c420575480d9512066277d15908",
       "version_major": 2,
       "version_minor": 0
      },
      "text/plain": [
       "  0%|          | 0/79508575 [00:00<?, ?it/s]"
      ]
     },
     "metadata": {},
     "output_type": "display_data"
    },
    {
     "name": "stdout",
     "output_type": "stream",
     "text": [
      "2023-01-01_UnitedHealthcare-Insurance-Company_Insurer_D0019136_UHC-Dental_in-network-rates.json.gz\n",
      "Download Complete\n"
     ]
    },
    {
     "data": {
      "application/vnd.jupyter.widget-view+json": {
       "model_id": "bb8493036a1a46dba9c1aaa87b8d7d81",
       "version_major": 2,
       "version_minor": 0
      },
      "text/plain": [
       "0it [00:00, ?it/s]"
      ]
     },
     "metadata": {},
     "output_type": "display_data"
    },
    {
     "name": "stdout",
     "output_type": "stream",
     "text": [
      "D:/Vignesh/Capstone\\JSON\\2023-01-01_UnitedHealthcare-Insurance-Company_Insurer_D0019136_UHC-Dental_in-network-rates.json.gz\n",
      "Parse Complete\n",
      "D:/Vignesh/Capstone\\JSON\\2023-01-01_UnitedHealthcare-Insurance-Company_Insurer_D0019136_UHC-Dental_in-network-rates.json.gz\n",
      "File Deleted\n",
      "File has been completed\n",
      "Hyperlink File: 3056 Started!\n"
     ]
    },
    {
     "data": {
      "application/vnd.jupyter.widget-view+json": {
       "model_id": "32ad1e6e21094294b5c80e45fde5f6e6",
       "version_major": 2,
       "version_minor": 0
      },
      "text/plain": [
       "  0%|          | 0/79508575 [00:00<?, ?it/s]"
      ]
     },
     "metadata": {},
     "output_type": "display_data"
    },
    {
     "name": "stdout",
     "output_type": "stream",
     "text": [
      "2023-01-01_UnitedHealthcare-Insurance-Company_Insurer_D0019311_UHC-Dental_in-network-rates.json.gz\n",
      "Download Complete\n"
     ]
    },
    {
     "data": {
      "application/vnd.jupyter.widget-view+json": {
       "model_id": "1dfa6f57de8c420688cf0b91341bfc57",
       "version_major": 2,
       "version_minor": 0
      },
      "text/plain": [
       "0it [00:00, ?it/s]"
      ]
     },
     "metadata": {},
     "output_type": "display_data"
    },
    {
     "name": "stdout",
     "output_type": "stream",
     "text": [
      "D:/Vignesh/Capstone\\JSON\\2023-01-01_UnitedHealthcare-Insurance-Company_Insurer_D0019311_UHC-Dental_in-network-rates.json.gz\n",
      "Parse Complete\n",
      "D:/Vignesh/Capstone\\JSON\\2023-01-01_UnitedHealthcare-Insurance-Company_Insurer_D0019311_UHC-Dental_in-network-rates.json.gz\n",
      "File Deleted\n",
      "File has been completed\n",
      "Hyperlink File: 3057 Started!\n"
     ]
    },
    {
     "data": {
      "application/vnd.jupyter.widget-view+json": {
       "model_id": "a2312a75c9cc420884fe3d8367d18a99",
       "version_major": 2,
       "version_minor": 0
      },
      "text/plain": [
       "  0%|          | 0/79508575 [00:00<?, ?it/s]"
      ]
     },
     "metadata": {},
     "output_type": "display_data"
    },
    {
     "name": "stdout",
     "output_type": "stream",
     "text": [
      "2023-01-01_UnitedHealthcare-Insurance-Company_Insurer_D0019377_UHC-Dental_in-network-rates.json.gz\n",
      "Download Complete\n"
     ]
    },
    {
     "data": {
      "application/vnd.jupyter.widget-view+json": {
       "model_id": "7129ac7cc656477c97a0c66dfe27c1a7",
       "version_major": 2,
       "version_minor": 0
      },
      "text/plain": [
       "0it [00:00, ?it/s]"
      ]
     },
     "metadata": {},
     "output_type": "display_data"
    },
    {
     "name": "stdout",
     "output_type": "stream",
     "text": [
      "D:/Vignesh/Capstone\\JSON\\2023-01-01_UnitedHealthcare-Insurance-Company_Insurer_D0019377_UHC-Dental_in-network-rates.json.gz\n",
      "Parse Complete\n",
      "D:/Vignesh/Capstone\\JSON\\2023-01-01_UnitedHealthcare-Insurance-Company_Insurer_D0019377_UHC-Dental_in-network-rates.json.gz\n",
      "File Deleted\n",
      "File has been completed\n",
      "Hyperlink File: 3058 Started!\n"
     ]
    },
    {
     "data": {
      "application/vnd.jupyter.widget-view+json": {
       "model_id": "398951b92c764f9891e90e570f8bef30",
       "version_major": 2,
       "version_minor": 0
      },
      "text/plain": [
       "  0%|          | 0/79508575 [00:00<?, ?it/s]"
      ]
     },
     "metadata": {},
     "output_type": "display_data"
    },
    {
     "name": "stdout",
     "output_type": "stream",
     "text": [
      "2023-01-01_UnitedHealthcare-Insurance-Company_Insurer_D0019439_UHC-Dental_in-network-rates.json.gz\n",
      "Download Complete\n"
     ]
    },
    {
     "data": {
      "application/vnd.jupyter.widget-view+json": {
       "model_id": "aa5cafb86159429d83518eaf1449df75",
       "version_major": 2,
       "version_minor": 0
      },
      "text/plain": [
       "0it [00:00, ?it/s]"
      ]
     },
     "metadata": {},
     "output_type": "display_data"
    },
    {
     "name": "stdout",
     "output_type": "stream",
     "text": [
      "D:/Vignesh/Capstone\\JSON\\2023-01-01_UnitedHealthcare-Insurance-Company_Insurer_D0019439_UHC-Dental_in-network-rates.json.gz\n",
      "Parse Complete\n",
      "D:/Vignesh/Capstone\\JSON\\2023-01-01_UnitedHealthcare-Insurance-Company_Insurer_D0019439_UHC-Dental_in-network-rates.json.gz\n",
      "File Deleted\n",
      "File has been completed\n",
      "Hyperlink File: 3059 Started!\n"
     ]
    },
    {
     "data": {
      "application/vnd.jupyter.widget-view+json": {
       "model_id": "4e22135ce059456595a47552a18fa349",
       "version_major": 2,
       "version_minor": 0
      },
      "text/plain": [
       "  0%|          | 0/79508575 [00:00<?, ?it/s]"
      ]
     },
     "metadata": {},
     "output_type": "display_data"
    },
    {
     "name": "stdout",
     "output_type": "stream",
     "text": [
      "2023-01-01_UnitedHealthcare-Insurance-Company_Insurer_D0019444_UHC-Dental_in-network-rates.json.gz\n",
      "Download Complete\n"
     ]
    },
    {
     "data": {
      "application/vnd.jupyter.widget-view+json": {
       "model_id": "1060ff5f21ce4ef59fecd1b1a52c8f19",
       "version_major": 2,
       "version_minor": 0
      },
      "text/plain": [
       "0it [00:00, ?it/s]"
      ]
     },
     "metadata": {},
     "output_type": "display_data"
    },
    {
     "name": "stdout",
     "output_type": "stream",
     "text": [
      "D:/Vignesh/Capstone\\JSON\\2023-01-01_UnitedHealthcare-Insurance-Company_Insurer_D0019444_UHC-Dental_in-network-rates.json.gz\n",
      "Parse Complete\n",
      "D:/Vignesh/Capstone\\JSON\\2023-01-01_UnitedHealthcare-Insurance-Company_Insurer_D0019444_UHC-Dental_in-network-rates.json.gz\n",
      "File Deleted\n",
      "File has been completed\n",
      "Hyperlink File: 3060 Started!\n"
     ]
    },
    {
     "data": {
      "application/vnd.jupyter.widget-view+json": {
       "model_id": "89e8adf268c54c859d7a71f29b093be8",
       "version_major": 2,
       "version_minor": 0
      },
      "text/plain": [
       "  0%|          | 0/79508575 [00:00<?, ?it/s]"
      ]
     },
     "metadata": {},
     "output_type": "display_data"
    },
    {
     "name": "stdout",
     "output_type": "stream",
     "text": [
      "2023-01-01_UnitedHealthcare-Insurance-Company_Insurer_D0019456_UHC-Dental_in-network-rates.json.gz\n",
      "Download Complete\n"
     ]
    },
    {
     "data": {
      "application/vnd.jupyter.widget-view+json": {
       "model_id": "1339afcff38945d39d4d55e15f18bcd1",
       "version_major": 2,
       "version_minor": 0
      },
      "text/plain": [
       "0it [00:00, ?it/s]"
      ]
     },
     "metadata": {},
     "output_type": "display_data"
    },
    {
     "name": "stdout",
     "output_type": "stream",
     "text": [
      "D:/Vignesh/Capstone\\JSON\\2023-01-01_UnitedHealthcare-Insurance-Company_Insurer_D0019456_UHC-Dental_in-network-rates.json.gz\n",
      "Parse Complete\n",
      "D:/Vignesh/Capstone\\JSON\\2023-01-01_UnitedHealthcare-Insurance-Company_Insurer_D0019456_UHC-Dental_in-network-rates.json.gz\n",
      "File Deleted\n",
      "File has been completed\n",
      "Hyperlink File: 3061 Started!\n"
     ]
    },
    {
     "data": {
      "application/vnd.jupyter.widget-view+json": {
       "model_id": "ce1bf32d47954aa4918f2ef603946be0",
       "version_major": 2,
       "version_minor": 0
      },
      "text/plain": [
       "  0%|          | 0/79508575 [00:00<?, ?it/s]"
      ]
     },
     "metadata": {},
     "output_type": "display_data"
    },
    {
     "name": "stdout",
     "output_type": "stream",
     "text": [
      "2023-01-01_UnitedHealthcare-Insurance-Company_Insurer_D0019485_UHC-Dental_in-network-rates.json.gz\n",
      "Download Complete\n"
     ]
    },
    {
     "data": {
      "application/vnd.jupyter.widget-view+json": {
       "model_id": "7920f5dc9cbc4e4cb91e4f1d8dc7e6a2",
       "version_major": 2,
       "version_minor": 0
      },
      "text/plain": [
       "0it [00:00, ?it/s]"
      ]
     },
     "metadata": {},
     "output_type": "display_data"
    },
    {
     "name": "stdout",
     "output_type": "stream",
     "text": [
      "D:/Vignesh/Capstone\\JSON\\2023-01-01_UnitedHealthcare-Insurance-Company_Insurer_D0019485_UHC-Dental_in-network-rates.json.gz\n",
      "Parse Complete\n",
      "D:/Vignesh/Capstone\\JSON\\2023-01-01_UnitedHealthcare-Insurance-Company_Insurer_D0019485_UHC-Dental_in-network-rates.json.gz\n",
      "File Deleted\n",
      "File has been completed\n",
      "Hyperlink File: 3062 Started!\n"
     ]
    },
    {
     "data": {
      "application/vnd.jupyter.widget-view+json": {
       "model_id": "124410efe77946768cb6b94a3f7afe2e",
       "version_major": 2,
       "version_minor": 0
      },
      "text/plain": [
       "  0%|          | 0/79508575 [00:00<?, ?it/s]"
      ]
     },
     "metadata": {},
     "output_type": "display_data"
    },
    {
     "name": "stdout",
     "output_type": "stream",
     "text": [
      "2023-01-01_UnitedHealthcare-Insurance-Company_Insurer_D0019771_UHC-Dental_in-network-rates.json.gz\n",
      "Download Complete\n"
     ]
    },
    {
     "data": {
      "application/vnd.jupyter.widget-view+json": {
       "model_id": "9615f8c457834212af6df80400e1ac3d",
       "version_major": 2,
       "version_minor": 0
      },
      "text/plain": [
       "0it [00:00, ?it/s]"
      ]
     },
     "metadata": {},
     "output_type": "display_data"
    },
    {
     "name": "stdout",
     "output_type": "stream",
     "text": [
      "D:/Vignesh/Capstone\\JSON\\2023-01-01_UnitedHealthcare-Insurance-Company_Insurer_D0019771_UHC-Dental_in-network-rates.json.gz\n",
      "Parse Complete\n",
      "D:/Vignesh/Capstone\\JSON\\2023-01-01_UnitedHealthcare-Insurance-Company_Insurer_D0019771_UHC-Dental_in-network-rates.json.gz\n",
      "File Deleted\n",
      "File has been completed\n",
      "Hyperlink File: 3063 Started!\n"
     ]
    },
    {
     "data": {
      "application/vnd.jupyter.widget-view+json": {
       "model_id": "8e992bc10b674391bf1f5a6aecc5e5e1",
       "version_major": 2,
       "version_minor": 0
      },
      "text/plain": [
       "  0%|          | 0/79508575 [00:00<?, ?it/s]"
      ]
     },
     "metadata": {},
     "output_type": "display_data"
    },
    {
     "name": "stdout",
     "output_type": "stream",
     "text": [
      "2023-01-01_UnitedHealthcare-Insurance-Company_Insurer_D0019789_UHC-Dental_in-network-rates.json.gz\n",
      "Download Complete\n"
     ]
    },
    {
     "data": {
      "application/vnd.jupyter.widget-view+json": {
       "model_id": "c87f2fca66a242cdbe521d44fa933dcb",
       "version_major": 2,
       "version_minor": 0
      },
      "text/plain": [
       "0it [00:00, ?it/s]"
      ]
     },
     "metadata": {},
     "output_type": "display_data"
    },
    {
     "name": "stdout",
     "output_type": "stream",
     "text": [
      "D:/Vignesh/Capstone\\JSON\\2023-01-01_UnitedHealthcare-Insurance-Company_Insurer_D0019789_UHC-Dental_in-network-rates.json.gz\n",
      "Parse Complete\n",
      "D:/Vignesh/Capstone\\JSON\\2023-01-01_UnitedHealthcare-Insurance-Company_Insurer_D0019789_UHC-Dental_in-network-rates.json.gz\n",
      "File Deleted\n",
      "File has been completed\n",
      "Hyperlink File: 3064 Started!\n"
     ]
    },
    {
     "data": {
      "application/vnd.jupyter.widget-view+json": {
       "model_id": "83ab36fca3dc4dd0920c773120843f92",
       "version_major": 2,
       "version_minor": 0
      },
      "text/plain": [
       "  0%|          | 0/79508575 [00:00<?, ?it/s]"
      ]
     },
     "metadata": {},
     "output_type": "display_data"
    },
    {
     "name": "stdout",
     "output_type": "stream",
     "text": [
      "2023-01-01_UnitedHealthcare-Insurance-Company_Insurer_D0019955_UHC-Dental_in-network-rates.json.gz\n",
      "Download Complete\n"
     ]
    },
    {
     "data": {
      "application/vnd.jupyter.widget-view+json": {
       "model_id": "90896bfd52ad4829a854b54c728eb3e6",
       "version_major": 2,
       "version_minor": 0
      },
      "text/plain": [
       "0it [00:00, ?it/s]"
      ]
     },
     "metadata": {},
     "output_type": "display_data"
    },
    {
     "name": "stdout",
     "output_type": "stream",
     "text": [
      "D:/Vignesh/Capstone\\JSON\\2023-01-01_UnitedHealthcare-Insurance-Company_Insurer_D0019955_UHC-Dental_in-network-rates.json.gz\n",
      "Parse Complete\n",
      "D:/Vignesh/Capstone\\JSON\\2023-01-01_UnitedHealthcare-Insurance-Company_Insurer_D0019955_UHC-Dental_in-network-rates.json.gz\n",
      "File Deleted\n",
      "File has been completed\n",
      "Hyperlink File: 3065 Started!\n"
     ]
    },
    {
     "data": {
      "application/vnd.jupyter.widget-view+json": {
       "model_id": "fb2212bd0d4c4dcf8da7dd42c2c08bea",
       "version_major": 2,
       "version_minor": 0
      },
      "text/plain": [
       "  0%|          | 0/79508575 [00:00<?, ?it/s]"
      ]
     },
     "metadata": {},
     "output_type": "display_data"
    },
    {
     "name": "stdout",
     "output_type": "stream",
     "text": [
      "2023-01-01_UnitedHealthcare-Insurance-Company_Insurer_D0019970_UHC-Dental_in-network-rates.json.gz\n",
      "Download Complete\n"
     ]
    },
    {
     "data": {
      "application/vnd.jupyter.widget-view+json": {
       "model_id": "c965219ef6e0451faf99dc106a519435",
       "version_major": 2,
       "version_minor": 0
      },
      "text/plain": [
       "0it [00:00, ?it/s]"
      ]
     },
     "metadata": {},
     "output_type": "display_data"
    },
    {
     "name": "stdout",
     "output_type": "stream",
     "text": [
      "D:/Vignesh/Capstone\\JSON\\2023-01-01_UnitedHealthcare-Insurance-Company_Insurer_D0019970_UHC-Dental_in-network-rates.json.gz\n",
      "Parse Complete\n",
      "D:/Vignesh/Capstone\\JSON\\2023-01-01_UnitedHealthcare-Insurance-Company_Insurer_D0019970_UHC-Dental_in-network-rates.json.gz\n",
      "File Deleted\n",
      "File has been completed\n",
      "Hyperlink File: 3066 Started!\n"
     ]
    },
    {
     "data": {
      "application/vnd.jupyter.widget-view+json": {
       "model_id": "67978e822f9142fc8ee253f1e5ab51ae",
       "version_major": 2,
       "version_minor": 0
      },
      "text/plain": [
       "  0%|          | 0/79508575 [00:00<?, ?it/s]"
      ]
     },
     "metadata": {},
     "output_type": "display_data"
    },
    {
     "name": "stdout",
     "output_type": "stream",
     "text": [
      "2023-01-01_UnitedHealthcare-Insurance-Company_Insurer_D0030008_UHC-Dental_in-network-rates.json.gz\n",
      "Download Complete\n"
     ]
    },
    {
     "data": {
      "application/vnd.jupyter.widget-view+json": {
       "model_id": "abe48ffce5d345ec89d0cfa4f67abd64",
       "version_major": 2,
       "version_minor": 0
      },
      "text/plain": [
       "0it [00:00, ?it/s]"
      ]
     },
     "metadata": {},
     "output_type": "display_data"
    },
    {
     "name": "stdout",
     "output_type": "stream",
     "text": [
      "D:/Vignesh/Capstone\\JSON\\2023-01-01_UnitedHealthcare-Insurance-Company_Insurer_D0030008_UHC-Dental_in-network-rates.json.gz\n",
      "Parse Complete\n",
      "D:/Vignesh/Capstone\\JSON\\2023-01-01_UnitedHealthcare-Insurance-Company_Insurer_D0030008_UHC-Dental_in-network-rates.json.gz\n",
      "File Deleted\n",
      "File has been completed\n",
      "Hyperlink File: 3067 Started!\n"
     ]
    },
    {
     "data": {
      "application/vnd.jupyter.widget-view+json": {
       "model_id": "c8771c6dbcf7494baf5aa8841402d1cb",
       "version_major": 2,
       "version_minor": 0
      },
      "text/plain": [
       "  0%|          | 0/79508575 [00:00<?, ?it/s]"
      ]
     },
     "metadata": {},
     "output_type": "display_data"
    },
    {
     "name": "stdout",
     "output_type": "stream",
     "text": [
      "2023-01-01_UnitedHealthcare-Insurance-Company_Insurer_D0030011_UHC-Dental_in-network-rates.json.gz\n",
      "Download Complete\n"
     ]
    },
    {
     "data": {
      "application/vnd.jupyter.widget-view+json": {
       "model_id": "76389a386d19484c9370b8ac88811d3c",
       "version_major": 2,
       "version_minor": 0
      },
      "text/plain": [
       "0it [00:00, ?it/s]"
      ]
     },
     "metadata": {},
     "output_type": "display_data"
    },
    {
     "name": "stdout",
     "output_type": "stream",
     "text": [
      "D:/Vignesh/Capstone\\JSON\\2023-01-01_UnitedHealthcare-Insurance-Company_Insurer_D0030011_UHC-Dental_in-network-rates.json.gz\n",
      "Parse Complete\n",
      "D:/Vignesh/Capstone\\JSON\\2023-01-01_UnitedHealthcare-Insurance-Company_Insurer_D0030011_UHC-Dental_in-network-rates.json.gz\n",
      "File Deleted\n",
      "File has been completed\n",
      "Hyperlink File: 3068 Started!\n"
     ]
    },
    {
     "data": {
      "application/vnd.jupyter.widget-view+json": {
       "model_id": "0982f516dea544588e7e8a74379e8e89",
       "version_major": 2,
       "version_minor": 0
      },
      "text/plain": [
       "  0%|          | 0/79508575 [00:00<?, ?it/s]"
      ]
     },
     "metadata": {},
     "output_type": "display_data"
    },
    {
     "name": "stdout",
     "output_type": "stream",
     "text": [
      "2023-01-01_UnitedHealthcare-Insurance-Company_Insurer_D0030016_UHC-Dental_in-network-rates.json.gz\n",
      "Download Complete\n"
     ]
    },
    {
     "data": {
      "application/vnd.jupyter.widget-view+json": {
       "model_id": "3227b208bdc84e46a53a6c5dbd5eeabf",
       "version_major": 2,
       "version_minor": 0
      },
      "text/plain": [
       "0it [00:00, ?it/s]"
      ]
     },
     "metadata": {},
     "output_type": "display_data"
    },
    {
     "name": "stdout",
     "output_type": "stream",
     "text": [
      "D:/Vignesh/Capstone\\JSON\\2023-01-01_UnitedHealthcare-Insurance-Company_Insurer_D0030016_UHC-Dental_in-network-rates.json.gz\n",
      "Parse Complete\n",
      "D:/Vignesh/Capstone\\JSON\\2023-01-01_UnitedHealthcare-Insurance-Company_Insurer_D0030016_UHC-Dental_in-network-rates.json.gz\n",
      "File Deleted\n",
      "File has been completed\n",
      "Hyperlink File: 3069 Started!\n"
     ]
    },
    {
     "data": {
      "application/vnd.jupyter.widget-view+json": {
       "model_id": "d9405023269e493ea510317aaca21dcc",
       "version_major": 2,
       "version_minor": 0
      },
      "text/plain": [
       "  0%|          | 0/79508575 [00:00<?, ?it/s]"
      ]
     },
     "metadata": {},
     "output_type": "display_data"
    },
    {
     "name": "stdout",
     "output_type": "stream",
     "text": [
      "2023-01-01_UnitedHealthcare-Insurance-Company_Insurer_D0030018_UHC-Dental_in-network-rates.json.gz\n",
      "Download Complete\n"
     ]
    },
    {
     "data": {
      "application/vnd.jupyter.widget-view+json": {
       "model_id": "a787aa54b67147c4a3c8c4c56a43083b",
       "version_major": 2,
       "version_minor": 0
      },
      "text/plain": [
       "0it [00:00, ?it/s]"
      ]
     },
     "metadata": {},
     "output_type": "display_data"
    },
    {
     "name": "stdout",
     "output_type": "stream",
     "text": [
      "D:/Vignesh/Capstone\\JSON\\2023-01-01_UnitedHealthcare-Insurance-Company_Insurer_D0030018_UHC-Dental_in-network-rates.json.gz\n",
      "Parse Complete\n",
      "D:/Vignesh/Capstone\\JSON\\2023-01-01_UnitedHealthcare-Insurance-Company_Insurer_D0030018_UHC-Dental_in-network-rates.json.gz\n",
      "File Deleted\n",
      "File has been completed\n",
      "Hyperlink File: 3070 Started!\n"
     ]
    },
    {
     "data": {
      "application/vnd.jupyter.widget-view+json": {
       "model_id": "2b11f861ba24430abc3a075b37639fda",
       "version_major": 2,
       "version_minor": 0
      },
      "text/plain": [
       "  0%|          | 0/79508575 [00:00<?, ?it/s]"
      ]
     },
     "metadata": {},
     "output_type": "display_data"
    },
    {
     "name": "stdout",
     "output_type": "stream",
     "text": [
      "2023-01-01_UnitedHealthcare-Insurance-Company_Insurer_D0030030_UHC-Dental_in-network-rates.json.gz\n",
      "Download Complete\n"
     ]
    },
    {
     "data": {
      "application/vnd.jupyter.widget-view+json": {
       "model_id": "8243e55293514e4aae8cca5a353ae4c4",
       "version_major": 2,
       "version_minor": 0
      },
      "text/plain": [
       "0it [00:00, ?it/s]"
      ]
     },
     "metadata": {},
     "output_type": "display_data"
    },
    {
     "name": "stdout",
     "output_type": "stream",
     "text": [
      "D:/Vignesh/Capstone\\JSON\\2023-01-01_UnitedHealthcare-Insurance-Company_Insurer_D0030030_UHC-Dental_in-network-rates.json.gz\n",
      "Parse Complete\n",
      "D:/Vignesh/Capstone\\JSON\\2023-01-01_UnitedHealthcare-Insurance-Company_Insurer_D0030030_UHC-Dental_in-network-rates.json.gz\n",
      "File Deleted\n",
      "File has been completed\n",
      "Hyperlink File: 3071 Started!\n"
     ]
    },
    {
     "data": {
      "application/vnd.jupyter.widget-view+json": {
       "model_id": "e9d21ba3d10841d8ae7bfc19351784bc",
       "version_major": 2,
       "version_minor": 0
      },
      "text/plain": [
       "  0%|          | 0/79508575 [00:00<?, ?it/s]"
      ]
     },
     "metadata": {},
     "output_type": "display_data"
    },
    {
     "name": "stdout",
     "output_type": "stream",
     "text": [
      "2023-01-01_UnitedHealthcare-Insurance-Company_Insurer_D0030094_UHC-Dental_in-network-rates.json.gz\n",
      "Download Complete\n"
     ]
    },
    {
     "data": {
      "application/vnd.jupyter.widget-view+json": {
       "model_id": "5cd42224924d43e6a9fc2b8a2f3bc19d",
       "version_major": 2,
       "version_minor": 0
      },
      "text/plain": [
       "0it [00:00, ?it/s]"
      ]
     },
     "metadata": {},
     "output_type": "display_data"
    },
    {
     "name": "stdout",
     "output_type": "stream",
     "text": [
      "D:/Vignesh/Capstone\\JSON\\2023-01-01_UnitedHealthcare-Insurance-Company_Insurer_D0030094_UHC-Dental_in-network-rates.json.gz\n",
      "Parse Complete\n",
      "D:/Vignesh/Capstone\\JSON\\2023-01-01_UnitedHealthcare-Insurance-Company_Insurer_D0030094_UHC-Dental_in-network-rates.json.gz\n",
      "File Deleted\n",
      "File has been completed\n",
      "Hyperlink File: 3072 Started!\n"
     ]
    },
    {
     "data": {
      "application/vnd.jupyter.widget-view+json": {
       "model_id": "77569bb3b5294ac18848b6586d39d19d",
       "version_major": 2,
       "version_minor": 0
      },
      "text/plain": [
       "  0%|          | 0/79508575 [00:00<?, ?it/s]"
      ]
     },
     "metadata": {},
     "output_type": "display_data"
    },
    {
     "name": "stdout",
     "output_type": "stream",
     "text": [
      "2023-01-01_UnitedHealthcare-Insurance-Company_Insurer_D0030095_UHC-Dental_in-network-rates.json.gz\n",
      "Download Complete\n"
     ]
    },
    {
     "data": {
      "application/vnd.jupyter.widget-view+json": {
       "model_id": "957ecb23ff4c43fbbbb339578b0fa551",
       "version_major": 2,
       "version_minor": 0
      },
      "text/plain": [
       "0it [00:00, ?it/s]"
      ]
     },
     "metadata": {},
     "output_type": "display_data"
    },
    {
     "name": "stdout",
     "output_type": "stream",
     "text": [
      "D:/Vignesh/Capstone\\JSON\\2023-01-01_UnitedHealthcare-Insurance-Company_Insurer_D0030095_UHC-Dental_in-network-rates.json.gz\n",
      "Parse Complete\n",
      "D:/Vignesh/Capstone\\JSON\\2023-01-01_UnitedHealthcare-Insurance-Company_Insurer_D0030095_UHC-Dental_in-network-rates.json.gz\n",
      "File Deleted\n",
      "File has been completed\n",
      "Hyperlink File: 3073 Started!\n"
     ]
    },
    {
     "data": {
      "application/vnd.jupyter.widget-view+json": {
       "model_id": "68b761ad251d4d5ebf1561f6c9e837fd",
       "version_major": 2,
       "version_minor": 0
      },
      "text/plain": [
       "  0%|          | 0/79508575 [00:00<?, ?it/s]"
      ]
     },
     "metadata": {},
     "output_type": "display_data"
    },
    {
     "name": "stdout",
     "output_type": "stream",
     "text": [
      "2023-01-01_UnitedHealthcare-Insurance-Company_Insurer_D0030096_UHC-Dental_in-network-rates.json.gz\n",
      "Download Complete\n"
     ]
    },
    {
     "data": {
      "application/vnd.jupyter.widget-view+json": {
       "model_id": "4c966cb18cf0436897336594bca0504e",
       "version_major": 2,
       "version_minor": 0
      },
      "text/plain": [
       "0it [00:00, ?it/s]"
      ]
     },
     "metadata": {},
     "output_type": "display_data"
    },
    {
     "name": "stdout",
     "output_type": "stream",
     "text": [
      "D:/Vignesh/Capstone\\JSON\\2023-01-01_UnitedHealthcare-Insurance-Company_Insurer_D0030096_UHC-Dental_in-network-rates.json.gz\n",
      "Parse Complete\n",
      "D:/Vignesh/Capstone\\JSON\\2023-01-01_UnitedHealthcare-Insurance-Company_Insurer_D0030096_UHC-Dental_in-network-rates.json.gz\n",
      "File Deleted\n",
      "File has been completed\n",
      "Hyperlink File: 3074 Started!\n"
     ]
    },
    {
     "data": {
      "application/vnd.jupyter.widget-view+json": {
       "model_id": "dade77f8566b40ceab62a1dba9f4d021",
       "version_major": 2,
       "version_minor": 0
      },
      "text/plain": [
       "  0%|          | 0/79508575 [00:00<?, ?it/s]"
      ]
     },
     "metadata": {},
     "output_type": "display_data"
    },
    {
     "name": "stdout",
     "output_type": "stream",
     "text": [
      "2023-01-01_UnitedHealthcare-Insurance-Company_Insurer_D0030097_UHC-Dental_in-network-rates.json.gz\n",
      "Download Complete\n"
     ]
    },
    {
     "data": {
      "application/vnd.jupyter.widget-view+json": {
       "model_id": "01bb7dfc454f467584acb9a65f394369",
       "version_major": 2,
       "version_minor": 0
      },
      "text/plain": [
       "0it [00:00, ?it/s]"
      ]
     },
     "metadata": {},
     "output_type": "display_data"
    },
    {
     "name": "stdout",
     "output_type": "stream",
     "text": [
      "D:/Vignesh/Capstone\\JSON\\2023-01-01_UnitedHealthcare-Insurance-Company_Insurer_D0030097_UHC-Dental_in-network-rates.json.gz\n",
      "Parse Complete\n",
      "D:/Vignesh/Capstone\\JSON\\2023-01-01_UnitedHealthcare-Insurance-Company_Insurer_D0030097_UHC-Dental_in-network-rates.json.gz\n",
      "File Deleted\n",
      "File has been completed\n",
      "Hyperlink File: 3075 Started!\n"
     ]
    },
    {
     "data": {
      "application/vnd.jupyter.widget-view+json": {
       "model_id": "fc918cfc4ce844d9ae40bedbfdf3266e",
       "version_major": 2,
       "version_minor": 0
      },
      "text/plain": [
       "  0%|          | 0/79508575 [00:00<?, ?it/s]"
      ]
     },
     "metadata": {},
     "output_type": "display_data"
    },
    {
     "name": "stdout",
     "output_type": "stream",
     "text": [
      "2023-01-01_UnitedHealthcare-Insurance-Company_Insurer_D0030103_UHC-Dental_in-network-rates.json.gz\n",
      "Download Complete\n"
     ]
    },
    {
     "data": {
      "application/vnd.jupyter.widget-view+json": {
       "model_id": "24362565a8604dc58db2601278064d98",
       "version_major": 2,
       "version_minor": 0
      },
      "text/plain": [
       "0it [00:00, ?it/s]"
      ]
     },
     "metadata": {},
     "output_type": "display_data"
    },
    {
     "name": "stdout",
     "output_type": "stream",
     "text": [
      "D:/Vignesh/Capstone\\JSON\\2023-01-01_UnitedHealthcare-Insurance-Company_Insurer_D0030103_UHC-Dental_in-network-rates.json.gz\n",
      "Parse Complete\n",
      "D:/Vignesh/Capstone\\JSON\\2023-01-01_UnitedHealthcare-Insurance-Company_Insurer_D0030103_UHC-Dental_in-network-rates.json.gz\n",
      "File Deleted\n",
      "File has been completed\n",
      "Hyperlink File: 3076 Started!\n"
     ]
    },
    {
     "data": {
      "application/vnd.jupyter.widget-view+json": {
       "model_id": "cbd22800b76c4b2786e65bc65cd0acde",
       "version_major": 2,
       "version_minor": 0
      },
      "text/plain": [
       "  0%|          | 0/79508575 [00:00<?, ?it/s]"
      ]
     },
     "metadata": {},
     "output_type": "display_data"
    },
    {
     "name": "stdout",
     "output_type": "stream",
     "text": [
      "2023-01-01_UnitedHealthcare-Insurance-Company_Insurer_D0030110_UHC-Dental_in-network-rates.json.gz\n",
      "Download Complete\n"
     ]
    },
    {
     "data": {
      "application/vnd.jupyter.widget-view+json": {
       "model_id": "d2c22c76bb774ec68b74dbd093268bad",
       "version_major": 2,
       "version_minor": 0
      },
      "text/plain": [
       "0it [00:00, ?it/s]"
      ]
     },
     "metadata": {},
     "output_type": "display_data"
    },
    {
     "name": "stdout",
     "output_type": "stream",
     "text": [
      "D:/Vignesh/Capstone\\JSON\\2023-01-01_UnitedHealthcare-Insurance-Company_Insurer_D0030110_UHC-Dental_in-network-rates.json.gz\n",
      "Parse Complete\n",
      "D:/Vignesh/Capstone\\JSON\\2023-01-01_UnitedHealthcare-Insurance-Company_Insurer_D0030110_UHC-Dental_in-network-rates.json.gz\n",
      "File Deleted\n",
      "File has been completed\n",
      "Hyperlink File: 3077 Started!\n"
     ]
    },
    {
     "data": {
      "application/vnd.jupyter.widget-view+json": {
       "model_id": "6ece857d163346789928627a104db36c",
       "version_major": 2,
       "version_minor": 0
      },
      "text/plain": [
       "  0%|          | 0/79508575 [00:00<?, ?it/s]"
      ]
     },
     "metadata": {},
     "output_type": "display_data"
    },
    {
     "name": "stdout",
     "output_type": "stream",
     "text": [
      "2023-01-01_UnitedHealthcare-Insurance-Company_Insurer_D0030133_UHC-Dental_in-network-rates.json.gz\n",
      "Download Complete\n"
     ]
    },
    {
     "data": {
      "application/vnd.jupyter.widget-view+json": {
       "model_id": "16fbe01618964cf79f9ba2a4efb335bc",
       "version_major": 2,
       "version_minor": 0
      },
      "text/plain": [
       "0it [00:00, ?it/s]"
      ]
     },
     "metadata": {},
     "output_type": "display_data"
    },
    {
     "name": "stdout",
     "output_type": "stream",
     "text": [
      "D:/Vignesh/Capstone\\JSON\\2023-01-01_UnitedHealthcare-Insurance-Company_Insurer_D0030133_UHC-Dental_in-network-rates.json.gz\n",
      "Parse Complete\n",
      "D:/Vignesh/Capstone\\JSON\\2023-01-01_UnitedHealthcare-Insurance-Company_Insurer_D0030133_UHC-Dental_in-network-rates.json.gz\n",
      "File Deleted\n",
      "File has been completed\n",
      "Hyperlink File: 3078 Started!\n"
     ]
    },
    {
     "data": {
      "application/vnd.jupyter.widget-view+json": {
       "model_id": "a2cf9852526c4535893db77101cdb092",
       "version_major": 2,
       "version_minor": 0
      },
      "text/plain": [
       "  0%|          | 0/79508575 [00:00<?, ?it/s]"
      ]
     },
     "metadata": {},
     "output_type": "display_data"
    },
    {
     "name": "stdout",
     "output_type": "stream",
     "text": [
      "2023-01-01_UnitedHealthcare-Insurance-Company_Insurer_D0030137_UHC-Dental_in-network-rates.json.gz\n",
      "Download Complete\n"
     ]
    },
    {
     "data": {
      "application/vnd.jupyter.widget-view+json": {
       "model_id": "97d408443ad8420ea3bed77825fcf08d",
       "version_major": 2,
       "version_minor": 0
      },
      "text/plain": [
       "0it [00:00, ?it/s]"
      ]
     },
     "metadata": {},
     "output_type": "display_data"
    },
    {
     "name": "stdout",
     "output_type": "stream",
     "text": [
      "D:/Vignesh/Capstone\\JSON\\2023-01-01_UnitedHealthcare-Insurance-Company_Insurer_D0030137_UHC-Dental_in-network-rates.json.gz\n",
      "Parse Complete\n",
      "D:/Vignesh/Capstone\\JSON\\2023-01-01_UnitedHealthcare-Insurance-Company_Insurer_D0030137_UHC-Dental_in-network-rates.json.gz\n",
      "File Deleted\n",
      "File has been completed\n",
      "Hyperlink File: 3079 Started!\n"
     ]
    },
    {
     "data": {
      "application/vnd.jupyter.widget-view+json": {
       "model_id": "8227a1acf7dc4f5b9a221676728033eb",
       "version_major": 2,
       "version_minor": 0
      },
      "text/plain": [
       "  0%|          | 0/79508575 [00:00<?, ?it/s]"
      ]
     },
     "metadata": {},
     "output_type": "display_data"
    },
    {
     "name": "stdout",
     "output_type": "stream",
     "text": [
      "2023-01-01_UnitedHealthcare-Insurance-Company_Insurer_D0030151_UHC-Dental_in-network-rates.json.gz\n",
      "Download Complete\n"
     ]
    },
    {
     "data": {
      "application/vnd.jupyter.widget-view+json": {
       "model_id": "6be2d73187ac44a6b16c2fbd7a6d38f7",
       "version_major": 2,
       "version_minor": 0
      },
      "text/plain": [
       "0it [00:00, ?it/s]"
      ]
     },
     "metadata": {},
     "output_type": "display_data"
    },
    {
     "name": "stdout",
     "output_type": "stream",
     "text": [
      "D:/Vignesh/Capstone\\JSON\\2023-01-01_UnitedHealthcare-Insurance-Company_Insurer_D0030151_UHC-Dental_in-network-rates.json.gz\n",
      "Parse Complete\n",
      "D:/Vignesh/Capstone\\JSON\\2023-01-01_UnitedHealthcare-Insurance-Company_Insurer_D0030151_UHC-Dental_in-network-rates.json.gz\n",
      "File Deleted\n",
      "File has been completed\n",
      "Hyperlink File: 3080 Started!\n"
     ]
    },
    {
     "data": {
      "application/vnd.jupyter.widget-view+json": {
       "model_id": "0be10cefc2804a18b28bb3c45e8f77f2",
       "version_major": 2,
       "version_minor": 0
      },
      "text/plain": [
       "  0%|          | 0/79508575 [00:00<?, ?it/s]"
      ]
     },
     "metadata": {},
     "output_type": "display_data"
    },
    {
     "name": "stdout",
     "output_type": "stream",
     "text": [
      "2023-01-01_UnitedHealthcare-Insurance-Company_Insurer_D0030159_UHC-Dental_in-network-rates.json.gz\n",
      "Download Complete\n"
     ]
    },
    {
     "data": {
      "application/vnd.jupyter.widget-view+json": {
       "model_id": "b4cab36ed52b413baf76cd7fe9028313",
       "version_major": 2,
       "version_minor": 0
      },
      "text/plain": [
       "0it [00:00, ?it/s]"
      ]
     },
     "metadata": {},
     "output_type": "display_data"
    },
    {
     "name": "stdout",
     "output_type": "stream",
     "text": [
      "D:/Vignesh/Capstone\\JSON\\2023-01-01_UnitedHealthcare-Insurance-Company_Insurer_D0030159_UHC-Dental_in-network-rates.json.gz\n",
      "Parse Complete\n",
      "D:/Vignesh/Capstone\\JSON\\2023-01-01_UnitedHealthcare-Insurance-Company_Insurer_D0030159_UHC-Dental_in-network-rates.json.gz\n",
      "File Deleted\n",
      "File has been completed\n",
      "Hyperlink File: 3081 Started!\n"
     ]
    },
    {
     "data": {
      "application/vnd.jupyter.widget-view+json": {
       "model_id": "085d7c125fdf423bb2c274da05342894",
       "version_major": 2,
       "version_minor": 0
      },
      "text/plain": [
       "  0%|          | 0/79508575 [00:00<?, ?it/s]"
      ]
     },
     "metadata": {},
     "output_type": "display_data"
    },
    {
     "name": "stdout",
     "output_type": "stream",
     "text": [
      "2023-01-01_UnitedHealthcare-Insurance-Company_Insurer_D0030167_UHC-Dental_in-network-rates.json.gz\n",
      "Download Complete\n"
     ]
    },
    {
     "data": {
      "application/vnd.jupyter.widget-view+json": {
       "model_id": "a053df6b664a4bf7833cc58ae7f95e09",
       "version_major": 2,
       "version_minor": 0
      },
      "text/plain": [
       "0it [00:00, ?it/s]"
      ]
     },
     "metadata": {},
     "output_type": "display_data"
    },
    {
     "name": "stdout",
     "output_type": "stream",
     "text": [
      "D:/Vignesh/Capstone\\JSON\\2023-01-01_UnitedHealthcare-Insurance-Company_Insurer_D0030167_UHC-Dental_in-network-rates.json.gz\n",
      "Parse Complete\n",
      "D:/Vignesh/Capstone\\JSON\\2023-01-01_UnitedHealthcare-Insurance-Company_Insurer_D0030167_UHC-Dental_in-network-rates.json.gz\n",
      "File Deleted\n",
      "File has been completed\n",
      "Hyperlink File: 3082 Started!\n"
     ]
    },
    {
     "data": {
      "application/vnd.jupyter.widget-view+json": {
       "model_id": "2f413aecaec44091adb0288d2d6473f7",
       "version_major": 2,
       "version_minor": 0
      },
      "text/plain": [
       "  0%|          | 0/79508575 [00:00<?, ?it/s]"
      ]
     },
     "metadata": {},
     "output_type": "display_data"
    },
    {
     "name": "stdout",
     "output_type": "stream",
     "text": [
      "2023-01-01_UnitedHealthcare-Insurance-Company_Insurer_D0030174_UHC-Dental_in-network-rates.json.gz\n",
      "Download Complete\n"
     ]
    },
    {
     "data": {
      "application/vnd.jupyter.widget-view+json": {
       "model_id": "55cc3ca3c95d42d39588bd00b3b566d5",
       "version_major": 2,
       "version_minor": 0
      },
      "text/plain": [
       "0it [00:00, ?it/s]"
      ]
     },
     "metadata": {},
     "output_type": "display_data"
    },
    {
     "name": "stdout",
     "output_type": "stream",
     "text": [
      "D:/Vignesh/Capstone\\JSON\\2023-01-01_UnitedHealthcare-Insurance-Company_Insurer_D0030174_UHC-Dental_in-network-rates.json.gz\n",
      "Parse Complete\n",
      "D:/Vignesh/Capstone\\JSON\\2023-01-01_UnitedHealthcare-Insurance-Company_Insurer_D0030174_UHC-Dental_in-network-rates.json.gz\n",
      "File Deleted\n",
      "File has been completed\n",
      "Hyperlink File: 3083 Started!\n"
     ]
    },
    {
     "data": {
      "application/vnd.jupyter.widget-view+json": {
       "model_id": "cfb44740bf36487fbfbd071cd44d9bf6",
       "version_major": 2,
       "version_minor": 0
      },
      "text/plain": [
       "  0%|          | 0/79508575 [00:00<?, ?it/s]"
      ]
     },
     "metadata": {},
     "output_type": "display_data"
    },
    {
     "name": "stdout",
     "output_type": "stream",
     "text": [
      "2023-01-01_UnitedHealthcare-Insurance-Company_Insurer_D0030179_UHC-Dental_in-network-rates.json.gz\n",
      "Download Complete\n"
     ]
    },
    {
     "data": {
      "application/vnd.jupyter.widget-view+json": {
       "model_id": "a1d32d7dc63144c68ebd043c7b850e60",
       "version_major": 2,
       "version_minor": 0
      },
      "text/plain": [
       "0it [00:00, ?it/s]"
      ]
     },
     "metadata": {},
     "output_type": "display_data"
    },
    {
     "name": "stdout",
     "output_type": "stream",
     "text": [
      "D:/Vignesh/Capstone\\JSON\\2023-01-01_UnitedHealthcare-Insurance-Company_Insurer_D0030179_UHC-Dental_in-network-rates.json.gz\n",
      "Parse Complete\n",
      "D:/Vignesh/Capstone\\JSON\\2023-01-01_UnitedHealthcare-Insurance-Company_Insurer_D0030179_UHC-Dental_in-network-rates.json.gz\n",
      "File Deleted\n",
      "File has been completed\n",
      "Hyperlink File: 3084 Started!\n"
     ]
    },
    {
     "data": {
      "application/vnd.jupyter.widget-view+json": {
       "model_id": "18c7efff691f404f95f6d02797c65472",
       "version_major": 2,
       "version_minor": 0
      },
      "text/plain": [
       "  0%|          | 0/79508575 [00:00<?, ?it/s]"
      ]
     },
     "metadata": {},
     "output_type": "display_data"
    },
    {
     "name": "stdout",
     "output_type": "stream",
     "text": [
      "2023-01-01_UnitedHealthcare-Insurance-Company_Insurer_D0030194_UHC-Dental_in-network-rates.json.gz\n",
      "Download Complete\n"
     ]
    },
    {
     "data": {
      "application/vnd.jupyter.widget-view+json": {
       "model_id": "e1acbb1f897c41a4b458b371ec33c0c3",
       "version_major": 2,
       "version_minor": 0
      },
      "text/plain": [
       "0it [00:00, ?it/s]"
      ]
     },
     "metadata": {},
     "output_type": "display_data"
    },
    {
     "name": "stdout",
     "output_type": "stream",
     "text": [
      "D:/Vignesh/Capstone\\JSON\\2023-01-01_UnitedHealthcare-Insurance-Company_Insurer_D0030194_UHC-Dental_in-network-rates.json.gz\n",
      "Parse Complete\n",
      "D:/Vignesh/Capstone\\JSON\\2023-01-01_UnitedHealthcare-Insurance-Company_Insurer_D0030194_UHC-Dental_in-network-rates.json.gz\n",
      "File Deleted\n",
      "File has been completed\n",
      "Hyperlink File: 3085 Started!\n"
     ]
    },
    {
     "data": {
      "application/vnd.jupyter.widget-view+json": {
       "model_id": "ec1cd4600e4345269ba74532d0e7fbaf",
       "version_major": 2,
       "version_minor": 0
      },
      "text/plain": [
       "  0%|          | 0/79508575 [00:00<?, ?it/s]"
      ]
     },
     "metadata": {},
     "output_type": "display_data"
    },
    {
     "name": "stdout",
     "output_type": "stream",
     "text": [
      "2023-01-01_UnitedHealthcare-Insurance-Company_Insurer_D0030300_UHC-Dental_in-network-rates.json.gz\n",
      "Download Complete\n"
     ]
    },
    {
     "data": {
      "application/vnd.jupyter.widget-view+json": {
       "model_id": "b081cea70440428cbb2cbec409e92619",
       "version_major": 2,
       "version_minor": 0
      },
      "text/plain": [
       "0it [00:00, ?it/s]"
      ]
     },
     "metadata": {},
     "output_type": "display_data"
    },
    {
     "name": "stdout",
     "output_type": "stream",
     "text": [
      "D:/Vignesh/Capstone\\JSON\\2023-01-01_UnitedHealthcare-Insurance-Company_Insurer_D0030300_UHC-Dental_in-network-rates.json.gz\n",
      "Parse Complete\n",
      "D:/Vignesh/Capstone\\JSON\\2023-01-01_UnitedHealthcare-Insurance-Company_Insurer_D0030300_UHC-Dental_in-network-rates.json.gz\n",
      "File Deleted\n",
      "File has been completed\n",
      "Hyperlink File: 3086 Started!\n"
     ]
    },
    {
     "data": {
      "application/vnd.jupyter.widget-view+json": {
       "model_id": "52ef0a8684b14c169cd1176e402fb2c5",
       "version_major": 2,
       "version_minor": 0
      },
      "text/plain": [
       "  0%|          | 0/79508575 [00:00<?, ?it/s]"
      ]
     },
     "metadata": {},
     "output_type": "display_data"
    },
    {
     "name": "stdout",
     "output_type": "stream",
     "text": [
      "2023-01-01_UnitedHealthcare-Insurance-Company_Insurer_D0030315_UHC-Dental_in-network-rates.json.gz\n",
      "Download Complete\n"
     ]
    },
    {
     "data": {
      "application/vnd.jupyter.widget-view+json": {
       "model_id": "42af4979964a4281a34777b2e1c72b6f",
       "version_major": 2,
       "version_minor": 0
      },
      "text/plain": [
       "0it [00:00, ?it/s]"
      ]
     },
     "metadata": {},
     "output_type": "display_data"
    },
    {
     "name": "stdout",
     "output_type": "stream",
     "text": [
      "D:/Vignesh/Capstone\\JSON\\2023-01-01_UnitedHealthcare-Insurance-Company_Insurer_D0030315_UHC-Dental_in-network-rates.json.gz\n",
      "Parse Complete\n",
      "D:/Vignesh/Capstone\\JSON\\2023-01-01_UnitedHealthcare-Insurance-Company_Insurer_D0030315_UHC-Dental_in-network-rates.json.gz\n",
      "File Deleted\n",
      "File has been completed\n",
      "Hyperlink File: 3087 Started!\n"
     ]
    },
    {
     "data": {
      "application/vnd.jupyter.widget-view+json": {
       "model_id": "ba3144f2e7684149ac304893ad9d7b3b",
       "version_major": 2,
       "version_minor": 0
      },
      "text/plain": [
       "  0%|          | 0/79508575 [00:00<?, ?it/s]"
      ]
     },
     "metadata": {},
     "output_type": "display_data"
    },
    {
     "name": "stdout",
     "output_type": "stream",
     "text": [
      "2023-01-01_UnitedHealthcare-Insurance-Company_Insurer_D0030339_UHC-Dental_in-network-rates.json.gz\n",
      "Download Complete\n"
     ]
    },
    {
     "data": {
      "application/vnd.jupyter.widget-view+json": {
       "model_id": "2bbc3368a0214eb48b1b289867750a64",
       "version_major": 2,
       "version_minor": 0
      },
      "text/plain": [
       "0it [00:00, ?it/s]"
      ]
     },
     "metadata": {},
     "output_type": "display_data"
    },
    {
     "name": "stdout",
     "output_type": "stream",
     "text": [
      "D:/Vignesh/Capstone\\JSON\\2023-01-01_UnitedHealthcare-Insurance-Company_Insurer_D0030339_UHC-Dental_in-network-rates.json.gz\n",
      "Parse Complete\n",
      "D:/Vignesh/Capstone\\JSON\\2023-01-01_UnitedHealthcare-Insurance-Company_Insurer_D0030339_UHC-Dental_in-network-rates.json.gz\n",
      "File Deleted\n",
      "File has been completed\n",
      "Hyperlink File: 3088 Started!\n"
     ]
    },
    {
     "data": {
      "application/vnd.jupyter.widget-view+json": {
       "model_id": "d302131705734c2f8f3635145caf989f",
       "version_major": 2,
       "version_minor": 0
      },
      "text/plain": [
       "  0%|          | 0/79508575 [00:00<?, ?it/s]"
      ]
     },
     "metadata": {},
     "output_type": "display_data"
    },
    {
     "name": "stdout",
     "output_type": "stream",
     "text": [
      "2023-01-01_UnitedHealthcare-Insurance-Company_Insurer_D0030340_UHC-Dental_in-network-rates.json.gz\n",
      "Download Complete\n"
     ]
    },
    {
     "data": {
      "application/vnd.jupyter.widget-view+json": {
       "model_id": "bece0b725aeb453f900006b9b18348c7",
       "version_major": 2,
       "version_minor": 0
      },
      "text/plain": [
       "0it [00:00, ?it/s]"
      ]
     },
     "metadata": {},
     "output_type": "display_data"
    },
    {
     "name": "stdout",
     "output_type": "stream",
     "text": [
      "D:/Vignesh/Capstone\\JSON\\2023-01-01_UnitedHealthcare-Insurance-Company_Insurer_D0030340_UHC-Dental_in-network-rates.json.gz\n",
      "Parse Complete\n",
      "D:/Vignesh/Capstone\\JSON\\2023-01-01_UnitedHealthcare-Insurance-Company_Insurer_D0030340_UHC-Dental_in-network-rates.json.gz\n",
      "File Deleted\n",
      "File has been completed\n",
      "Hyperlink File: 3089 Started!\n"
     ]
    },
    {
     "data": {
      "application/vnd.jupyter.widget-view+json": {
       "model_id": "542faa1b201347199f2e4ef481040d03",
       "version_major": 2,
       "version_minor": 0
      },
      "text/plain": [
       "  0%|          | 0/79508575 [00:00<?, ?it/s]"
      ]
     },
     "metadata": {},
     "output_type": "display_data"
    },
    {
     "name": "stdout",
     "output_type": "stream",
     "text": [
      "2023-01-01_UnitedHealthcare-Insurance-Company_Insurer_D0030345_UHC-Dental_in-network-rates.json.gz\n",
      "Download Complete\n"
     ]
    },
    {
     "data": {
      "application/vnd.jupyter.widget-view+json": {
       "model_id": "c8cac6f374aa469abff2f21f462d5a56",
       "version_major": 2,
       "version_minor": 0
      },
      "text/plain": [
       "0it [00:00, ?it/s]"
      ]
     },
     "metadata": {},
     "output_type": "display_data"
    },
    {
     "name": "stdout",
     "output_type": "stream",
     "text": [
      "D:/Vignesh/Capstone\\JSON\\2023-01-01_UnitedHealthcare-Insurance-Company_Insurer_D0030345_UHC-Dental_in-network-rates.json.gz\n",
      "Parse Complete\n",
      "D:/Vignesh/Capstone\\JSON\\2023-01-01_UnitedHealthcare-Insurance-Company_Insurer_D0030345_UHC-Dental_in-network-rates.json.gz\n",
      "File Deleted\n",
      "File has been completed\n",
      "Hyperlink File: 3090 Started!\n"
     ]
    },
    {
     "data": {
      "application/vnd.jupyter.widget-view+json": {
       "model_id": "e28c331403984495a659a68f5f5e1483",
       "version_major": 2,
       "version_minor": 0
      },
      "text/plain": [
       "  0%|          | 0/79508575 [00:00<?, ?it/s]"
      ]
     },
     "metadata": {},
     "output_type": "display_data"
    },
    {
     "name": "stdout",
     "output_type": "stream",
     "text": [
      "2023-01-01_UnitedHealthcare-Insurance-Company_Insurer_D0030360_UHC-Dental_in-network-rates.json.gz\n",
      "Download Complete\n"
     ]
    },
    {
     "data": {
      "application/vnd.jupyter.widget-view+json": {
       "model_id": "6fa5b81c7d2e492aa90018d8c9f51270",
       "version_major": 2,
       "version_minor": 0
      },
      "text/plain": [
       "0it [00:00, ?it/s]"
      ]
     },
     "metadata": {},
     "output_type": "display_data"
    },
    {
     "name": "stdout",
     "output_type": "stream",
     "text": [
      "D:/Vignesh/Capstone\\JSON\\2023-01-01_UnitedHealthcare-Insurance-Company_Insurer_D0030360_UHC-Dental_in-network-rates.json.gz\n",
      "Parse Complete\n",
      "D:/Vignesh/Capstone\\JSON\\2023-01-01_UnitedHealthcare-Insurance-Company_Insurer_D0030360_UHC-Dental_in-network-rates.json.gz\n",
      "File Deleted\n",
      "File has been completed\n",
      "Hyperlink File: 3091 Started!\n"
     ]
    },
    {
     "data": {
      "application/vnd.jupyter.widget-view+json": {
       "model_id": "627c4a17ff1c487aa4d7f76f83b9c15e",
       "version_major": 2,
       "version_minor": 0
      },
      "text/plain": [
       "  0%|          | 0/79508575 [00:00<?, ?it/s]"
      ]
     },
     "metadata": {},
     "output_type": "display_data"
    },
    {
     "name": "stdout",
     "output_type": "stream",
     "text": [
      "2023-01-01_UnitedHealthcare-Insurance-Company_Insurer_D0030371_UHC-Dental_in-network-rates.json.gz\n",
      "Download Complete\n"
     ]
    },
    {
     "data": {
      "application/vnd.jupyter.widget-view+json": {
       "model_id": "74ef5f2c8ffb47a29284afe860c8a2ee",
       "version_major": 2,
       "version_minor": 0
      },
      "text/plain": [
       "0it [00:00, ?it/s]"
      ]
     },
     "metadata": {},
     "output_type": "display_data"
    },
    {
     "name": "stdout",
     "output_type": "stream",
     "text": [
      "D:/Vignesh/Capstone\\JSON\\2023-01-01_UnitedHealthcare-Insurance-Company_Insurer_D0030371_UHC-Dental_in-network-rates.json.gz\n",
      "Parse Complete\n",
      "D:/Vignesh/Capstone\\JSON\\2023-01-01_UnitedHealthcare-Insurance-Company_Insurer_D0030371_UHC-Dental_in-network-rates.json.gz\n",
      "File Deleted\n",
      "File has been completed\n",
      "Hyperlink File: 3092 Started!\n"
     ]
    },
    {
     "data": {
      "application/vnd.jupyter.widget-view+json": {
       "model_id": "bf468dea516048a1a55f4fa7f447a401",
       "version_major": 2,
       "version_minor": 0
      },
      "text/plain": [
       "  0%|          | 0/79508575 [00:00<?, ?it/s]"
      ]
     },
     "metadata": {},
     "output_type": "display_data"
    },
    {
     "name": "stdout",
     "output_type": "stream",
     "text": [
      "2023-01-01_UnitedHealthcare-Insurance-Company_Insurer_D0030381_UHC-Dental_in-network-rates.json.gz\n",
      "Download Complete\n"
     ]
    },
    {
     "data": {
      "application/vnd.jupyter.widget-view+json": {
       "model_id": "0f8cf15da930494d9cdb10f72196cec9",
       "version_major": 2,
       "version_minor": 0
      },
      "text/plain": [
       "0it [00:00, ?it/s]"
      ]
     },
     "metadata": {},
     "output_type": "display_data"
    },
    {
     "name": "stdout",
     "output_type": "stream",
     "text": [
      "D:/Vignesh/Capstone\\JSON\\2023-01-01_UnitedHealthcare-Insurance-Company_Insurer_D0030381_UHC-Dental_in-network-rates.json.gz\n",
      "Parse Complete\n",
      "D:/Vignesh/Capstone\\JSON\\2023-01-01_UnitedHealthcare-Insurance-Company_Insurer_D0030381_UHC-Dental_in-network-rates.json.gz\n",
      "File Deleted\n",
      "File has been completed\n",
      "Hyperlink File: 3093 Started!\n"
     ]
    },
    {
     "data": {
      "application/vnd.jupyter.widget-view+json": {
       "model_id": "7f9a73753ab64e7387bade985a03c06b",
       "version_major": 2,
       "version_minor": 0
      },
      "text/plain": [
       "  0%|          | 0/79508575 [00:00<?, ?it/s]"
      ]
     },
     "metadata": {},
     "output_type": "display_data"
    },
    {
     "name": "stdout",
     "output_type": "stream",
     "text": [
      "2023-01-01_UnitedHealthcare-Insurance-Company_Insurer_D0030383_UHC-Dental_in-network-rates.json.gz\n",
      "Download Complete\n"
     ]
    },
    {
     "data": {
      "application/vnd.jupyter.widget-view+json": {
       "model_id": "a517ab4b201e4e6da20e8f8441fa805c",
       "version_major": 2,
       "version_minor": 0
      },
      "text/plain": [
       "0it [00:00, ?it/s]"
      ]
     },
     "metadata": {},
     "output_type": "display_data"
    },
    {
     "name": "stdout",
     "output_type": "stream",
     "text": [
      "D:/Vignesh/Capstone\\JSON\\2023-01-01_UnitedHealthcare-Insurance-Company_Insurer_D0030383_UHC-Dental_in-network-rates.json.gz\n",
      "Parse Complete\n",
      "D:/Vignesh/Capstone\\JSON\\2023-01-01_UnitedHealthcare-Insurance-Company_Insurer_D0030383_UHC-Dental_in-network-rates.json.gz\n",
      "File Deleted\n",
      "File has been completed\n",
      "Hyperlink File: 3094 Started!\n"
     ]
    },
    {
     "data": {
      "application/vnd.jupyter.widget-view+json": {
       "model_id": "c6e9e088335c40c886eed25009466596",
       "version_major": 2,
       "version_minor": 0
      },
      "text/plain": [
       "  0%|          | 0/79508575 [00:00<?, ?it/s]"
      ]
     },
     "metadata": {},
     "output_type": "display_data"
    },
    {
     "name": "stdout",
     "output_type": "stream",
     "text": [
      "2023-01-01_UnitedHealthcare-Insurance-Company_Insurer_D0030407_UHC-Dental_in-network-rates.json.gz\n",
      "Download Complete\n"
     ]
    },
    {
     "data": {
      "application/vnd.jupyter.widget-view+json": {
       "model_id": "6db2ae00788745479dd4cd9c23545a12",
       "version_major": 2,
       "version_minor": 0
      },
      "text/plain": [
       "0it [00:00, ?it/s]"
      ]
     },
     "metadata": {},
     "output_type": "display_data"
    },
    {
     "name": "stdout",
     "output_type": "stream",
     "text": [
      "D:/Vignesh/Capstone\\JSON\\2023-01-01_UnitedHealthcare-Insurance-Company_Insurer_D0030407_UHC-Dental_in-network-rates.json.gz\n",
      "Parse Complete\n",
      "D:/Vignesh/Capstone\\JSON\\2023-01-01_UnitedHealthcare-Insurance-Company_Insurer_D0030407_UHC-Dental_in-network-rates.json.gz\n",
      "File Deleted\n",
      "File has been completed\n",
      "Hyperlink File: 3095 Started!\n"
     ]
    },
    {
     "data": {
      "application/vnd.jupyter.widget-view+json": {
       "model_id": "5846e4fa37f240559c7fa2a398c7efea",
       "version_major": 2,
       "version_minor": 0
      },
      "text/plain": [
       "  0%|          | 0/79508575 [00:00<?, ?it/s]"
      ]
     },
     "metadata": {},
     "output_type": "display_data"
    },
    {
     "name": "stdout",
     "output_type": "stream",
     "text": [
      "2023-01-01_UnitedHealthcare-Insurance-Company_Insurer_D0030410_UHC-Dental_in-network-rates.json.gz\n",
      "Download Complete\n"
     ]
    },
    {
     "data": {
      "application/vnd.jupyter.widget-view+json": {
       "model_id": "6c29fc6f828948049b259b2d1f2dda3f",
       "version_major": 2,
       "version_minor": 0
      },
      "text/plain": [
       "0it [00:00, ?it/s]"
      ]
     },
     "metadata": {},
     "output_type": "display_data"
    },
    {
     "name": "stdout",
     "output_type": "stream",
     "text": [
      "D:/Vignesh/Capstone\\JSON\\2023-01-01_UnitedHealthcare-Insurance-Company_Insurer_D0030410_UHC-Dental_in-network-rates.json.gz\n",
      "Parse Complete\n",
      "D:/Vignesh/Capstone\\JSON\\2023-01-01_UnitedHealthcare-Insurance-Company_Insurer_D0030410_UHC-Dental_in-network-rates.json.gz\n",
      "File Deleted\n",
      "File has been completed\n",
      "Hyperlink File: 3096 Started!\n"
     ]
    },
    {
     "data": {
      "application/vnd.jupyter.widget-view+json": {
       "model_id": "87e2d877b5e54b4798652d72067fca22",
       "version_major": 2,
       "version_minor": 0
      },
      "text/plain": [
       "  0%|          | 0/79508575 [00:00<?, ?it/s]"
      ]
     },
     "metadata": {},
     "output_type": "display_data"
    },
    {
     "name": "stdout",
     "output_type": "stream",
     "text": [
      "2023-01-01_UnitedHealthcare-Insurance-Company_Insurer_D0030416_UHC-Dental_in-network-rates.json.gz\n",
      "Download Complete\n"
     ]
    },
    {
     "data": {
      "application/vnd.jupyter.widget-view+json": {
       "model_id": "0d397665859f4927a40eb54d5d15d34e",
       "version_major": 2,
       "version_minor": 0
      },
      "text/plain": [
       "0it [00:00, ?it/s]"
      ]
     },
     "metadata": {},
     "output_type": "display_data"
    },
    {
     "name": "stdout",
     "output_type": "stream",
     "text": [
      "D:/Vignesh/Capstone\\JSON\\2023-01-01_UnitedHealthcare-Insurance-Company_Insurer_D0030416_UHC-Dental_in-network-rates.json.gz\n",
      "Parse Complete\n",
      "D:/Vignesh/Capstone\\JSON\\2023-01-01_UnitedHealthcare-Insurance-Company_Insurer_D0030416_UHC-Dental_in-network-rates.json.gz\n",
      "File Deleted\n",
      "File has been completed\n",
      "Hyperlink File: 3097 Started!\n"
     ]
    },
    {
     "data": {
      "application/vnd.jupyter.widget-view+json": {
       "model_id": "5e519e0058af4f89985c94bf23431fd9",
       "version_major": 2,
       "version_minor": 0
      },
      "text/plain": [
       "  0%|          | 0/79508575 [00:00<?, ?it/s]"
      ]
     },
     "metadata": {},
     "output_type": "display_data"
    },
    {
     "name": "stdout",
     "output_type": "stream",
     "text": [
      "2023-01-01_UnitedHealthcare-Insurance-Company_Insurer_D0030433_UHC-Dental_in-network-rates.json.gz\n",
      "Download Complete\n"
     ]
    },
    {
     "data": {
      "application/vnd.jupyter.widget-view+json": {
       "model_id": "1816c96d32d74cbaba0af4cd5a954a24",
       "version_major": 2,
       "version_minor": 0
      },
      "text/plain": [
       "0it [00:00, ?it/s]"
      ]
     },
     "metadata": {},
     "output_type": "display_data"
    },
    {
     "name": "stdout",
     "output_type": "stream",
     "text": [
      "D:/Vignesh/Capstone\\JSON\\2023-01-01_UnitedHealthcare-Insurance-Company_Insurer_D0030433_UHC-Dental_in-network-rates.json.gz\n",
      "Parse Complete\n",
      "D:/Vignesh/Capstone\\JSON\\2023-01-01_UnitedHealthcare-Insurance-Company_Insurer_D0030433_UHC-Dental_in-network-rates.json.gz\n",
      "File Deleted\n",
      "File has been completed\n",
      "Hyperlink File: 3098 Started!\n"
     ]
    },
    {
     "data": {
      "application/vnd.jupyter.widget-view+json": {
       "model_id": "3985fa062d69462888be16feb2f05361",
       "version_major": 2,
       "version_minor": 0
      },
      "text/plain": [
       "  0%|          | 0/79508575 [00:00<?, ?it/s]"
      ]
     },
     "metadata": {},
     "output_type": "display_data"
    },
    {
     "name": "stdout",
     "output_type": "stream",
     "text": [
      "2023-01-01_UnitedHealthcare-Insurance-Company_Insurer_D0030434_UHC-Dental_in-network-rates.json.gz\n",
      "Download Complete\n"
     ]
    },
    {
     "data": {
      "application/vnd.jupyter.widget-view+json": {
       "model_id": "b72b1f3091f440ffad93808024ff8ba6",
       "version_major": 2,
       "version_minor": 0
      },
      "text/plain": [
       "0it [00:00, ?it/s]"
      ]
     },
     "metadata": {},
     "output_type": "display_data"
    },
    {
     "name": "stdout",
     "output_type": "stream",
     "text": [
      "D:/Vignesh/Capstone\\JSON\\2023-01-01_UnitedHealthcare-Insurance-Company_Insurer_D0030434_UHC-Dental_in-network-rates.json.gz\n",
      "Parse Complete\n",
      "D:/Vignesh/Capstone\\JSON\\2023-01-01_UnitedHealthcare-Insurance-Company_Insurer_D0030434_UHC-Dental_in-network-rates.json.gz\n",
      "File Deleted\n",
      "File has been completed\n",
      "Hyperlink File: 3099 Started!\n"
     ]
    },
    {
     "data": {
      "application/vnd.jupyter.widget-view+json": {
       "model_id": "c66e6eaf72b649319959ebea42fcdb0c",
       "version_major": 2,
       "version_minor": 0
      },
      "text/plain": [
       "  0%|          | 0/79508575 [00:00<?, ?it/s]"
      ]
     },
     "metadata": {},
     "output_type": "display_data"
    },
    {
     "name": "stdout",
     "output_type": "stream",
     "text": [
      "2023-01-01_UnitedHealthcare-Insurance-Company_Insurer_D0030438_UHC-Dental_in-network-rates.json.gz\n",
      "Download Complete\n"
     ]
    },
    {
     "data": {
      "application/vnd.jupyter.widget-view+json": {
       "model_id": "48bed23248e44990a3560e4b3f083e0f",
       "version_major": 2,
       "version_minor": 0
      },
      "text/plain": [
       "0it [00:00, ?it/s]"
      ]
     },
     "metadata": {},
     "output_type": "display_data"
    },
    {
     "name": "stdout",
     "output_type": "stream",
     "text": [
      "D:/Vignesh/Capstone\\JSON\\2023-01-01_UnitedHealthcare-Insurance-Company_Insurer_D0030438_UHC-Dental_in-network-rates.json.gz\n",
      "Parse Complete\n",
      "D:/Vignesh/Capstone\\JSON\\2023-01-01_UnitedHealthcare-Insurance-Company_Insurer_D0030438_UHC-Dental_in-network-rates.json.gz\n",
      "File Deleted\n",
      "File has been completed\n",
      "Hyperlink File: 3100 Started!\n"
     ]
    },
    {
     "data": {
      "application/vnd.jupyter.widget-view+json": {
       "model_id": "7b1d7f34319b4a329edbeda6982a1149",
       "version_major": 2,
       "version_minor": 0
      },
      "text/plain": [
       "  0%|          | 0/79508575 [00:00<?, ?it/s]"
      ]
     },
     "metadata": {},
     "output_type": "display_data"
    },
    {
     "name": "stdout",
     "output_type": "stream",
     "text": [
      "2023-01-01_UnitedHealthcare-Insurance-Company_Insurer_D0030440_UHC-Dental_in-network-rates.json.gz\n",
      "Download Complete\n"
     ]
    },
    {
     "data": {
      "application/vnd.jupyter.widget-view+json": {
       "model_id": "d714a23f50704ac4912fc9e4da4a4182",
       "version_major": 2,
       "version_minor": 0
      },
      "text/plain": [
       "0it [00:00, ?it/s]"
      ]
     },
     "metadata": {},
     "output_type": "display_data"
    },
    {
     "name": "stdout",
     "output_type": "stream",
     "text": [
      "D:/Vignesh/Capstone\\JSON\\2023-01-01_UnitedHealthcare-Insurance-Company_Insurer_D0030440_UHC-Dental_in-network-rates.json.gz\n",
      "Parse Complete\n",
      "D:/Vignesh/Capstone\\JSON\\2023-01-01_UnitedHealthcare-Insurance-Company_Insurer_D0030440_UHC-Dental_in-network-rates.json.gz\n",
      "File Deleted\n",
      "File has been completed\n",
      "Hyperlink File: 3101 Started!\n"
     ]
    },
    {
     "data": {
      "application/vnd.jupyter.widget-view+json": {
       "model_id": "a8a77304b47e4dd2a2b80cc4f22227a3",
       "version_major": 2,
       "version_minor": 0
      },
      "text/plain": [
       "  0%|          | 0/79508575 [00:00<?, ?it/s]"
      ]
     },
     "metadata": {},
     "output_type": "display_data"
    },
    {
     "name": "stdout",
     "output_type": "stream",
     "text": [
      "2023-01-01_UnitedHealthcare-Insurance-Company_Insurer_D0030441_UHC-Dental_in-network-rates.json.gz\n",
      "Download Complete\n"
     ]
    },
    {
     "data": {
      "application/vnd.jupyter.widget-view+json": {
       "model_id": "481aa07e3edb409386d8827b92dc5b67",
       "version_major": 2,
       "version_minor": 0
      },
      "text/plain": [
       "0it [00:00, ?it/s]"
      ]
     },
     "metadata": {},
     "output_type": "display_data"
    },
    {
     "name": "stdout",
     "output_type": "stream",
     "text": [
      "D:/Vignesh/Capstone\\JSON\\2023-01-01_UnitedHealthcare-Insurance-Company_Insurer_D0030441_UHC-Dental_in-network-rates.json.gz\n",
      "Parse Complete\n",
      "D:/Vignesh/Capstone\\JSON\\2023-01-01_UnitedHealthcare-Insurance-Company_Insurer_D0030441_UHC-Dental_in-network-rates.json.gz\n",
      "File Deleted\n",
      "File has been completed\n",
      "Hyperlink File: 3102 Started!\n"
     ]
    },
    {
     "data": {
      "application/vnd.jupyter.widget-view+json": {
       "model_id": "c28c45000441425b9f5ea6fb4c63369c",
       "version_major": 2,
       "version_minor": 0
      },
      "text/plain": [
       "  0%|          | 0/79508575 [00:00<?, ?it/s]"
      ]
     },
     "metadata": {},
     "output_type": "display_data"
    },
    {
     "name": "stdout",
     "output_type": "stream",
     "text": [
      "2023-01-01_UnitedHealthcare-Insurance-Company_Insurer_D0030443_UHC-Dental_in-network-rates.json.gz\n",
      "Download Complete\n"
     ]
    },
    {
     "data": {
      "application/vnd.jupyter.widget-view+json": {
       "model_id": "a765df4983e6439491af24b44ac2bc53",
       "version_major": 2,
       "version_minor": 0
      },
      "text/plain": [
       "0it [00:00, ?it/s]"
      ]
     },
     "metadata": {},
     "output_type": "display_data"
    },
    {
     "name": "stdout",
     "output_type": "stream",
     "text": [
      "D:/Vignesh/Capstone\\JSON\\2023-01-01_UnitedHealthcare-Insurance-Company_Insurer_D0030443_UHC-Dental_in-network-rates.json.gz\n",
      "Parse Complete\n",
      "D:/Vignesh/Capstone\\JSON\\2023-01-01_UnitedHealthcare-Insurance-Company_Insurer_D0030443_UHC-Dental_in-network-rates.json.gz\n",
      "File Deleted\n",
      "File has been completed\n",
      "Hyperlink File: 3103 Started!\n"
     ]
    },
    {
     "data": {
      "application/vnd.jupyter.widget-view+json": {
       "model_id": "c3bff994cb6c4981894798f3191cf30e",
       "version_major": 2,
       "version_minor": 0
      },
      "text/plain": [
       "  0%|          | 0/79508575 [00:00<?, ?it/s]"
      ]
     },
     "metadata": {},
     "output_type": "display_data"
    },
    {
     "name": "stdout",
     "output_type": "stream",
     "text": [
      "2023-01-01_UnitedHealthcare-Insurance-Company_Insurer_D0030451_UHC-Dental_in-network-rates.json.gz\n",
      "Download Complete\n"
     ]
    },
    {
     "data": {
      "application/vnd.jupyter.widget-view+json": {
       "model_id": "ef27529710d54fe0afeb1a6a34b184ac",
       "version_major": 2,
       "version_minor": 0
      },
      "text/plain": [
       "0it [00:00, ?it/s]"
      ]
     },
     "metadata": {},
     "output_type": "display_data"
    },
    {
     "name": "stdout",
     "output_type": "stream",
     "text": [
      "D:/Vignesh/Capstone\\JSON\\2023-01-01_UnitedHealthcare-Insurance-Company_Insurer_D0030451_UHC-Dental_in-network-rates.json.gz\n",
      "Parse Complete\n",
      "D:/Vignesh/Capstone\\JSON\\2023-01-01_UnitedHealthcare-Insurance-Company_Insurer_D0030451_UHC-Dental_in-network-rates.json.gz\n",
      "File Deleted\n",
      "File has been completed\n",
      "Hyperlink File: 3104 Started!\n"
     ]
    },
    {
     "data": {
      "application/vnd.jupyter.widget-view+json": {
       "model_id": "4d445418fb3d4e9c999dac3697ddbb5a",
       "version_major": 2,
       "version_minor": 0
      },
      "text/plain": [
       "  0%|          | 0/79508575 [00:00<?, ?it/s]"
      ]
     },
     "metadata": {},
     "output_type": "display_data"
    },
    {
     "name": "stdout",
     "output_type": "stream",
     "text": [
      "2023-01-01_UnitedHealthcare-Insurance-Company_Insurer_D0030455_UHC-Dental_in-network-rates.json.gz\n",
      "Download Complete\n"
     ]
    },
    {
     "data": {
      "application/vnd.jupyter.widget-view+json": {
       "model_id": "fc223393f3474b5f9ec7a46d8e3ac05f",
       "version_major": 2,
       "version_minor": 0
      },
      "text/plain": [
       "0it [00:00, ?it/s]"
      ]
     },
     "metadata": {},
     "output_type": "display_data"
    },
    {
     "name": "stdout",
     "output_type": "stream",
     "text": [
      "D:/Vignesh/Capstone\\JSON\\2023-01-01_UnitedHealthcare-Insurance-Company_Insurer_D0030455_UHC-Dental_in-network-rates.json.gz\n",
      "Parse Complete\n",
      "D:/Vignesh/Capstone\\JSON\\2023-01-01_UnitedHealthcare-Insurance-Company_Insurer_D0030455_UHC-Dental_in-network-rates.json.gz\n",
      "File Deleted\n",
      "File has been completed\n",
      "Hyperlink File: 3105 Started!\n"
     ]
    },
    {
     "data": {
      "application/vnd.jupyter.widget-view+json": {
       "model_id": "3846ea4f5dd545cdac5ba228979719a8",
       "version_major": 2,
       "version_minor": 0
      },
      "text/plain": [
       "  0%|          | 0/79508575 [00:00<?, ?it/s]"
      ]
     },
     "metadata": {},
     "output_type": "display_data"
    },
    {
     "name": "stdout",
     "output_type": "stream",
     "text": [
      "2023-01-01_UnitedHealthcare-Insurance-Company_Insurer_D0030464_UHC-Dental_in-network-rates.json.gz\n",
      "Download Complete\n"
     ]
    },
    {
     "data": {
      "application/vnd.jupyter.widget-view+json": {
       "model_id": "15c5f26d1d534b459501f9dff4dd8818",
       "version_major": 2,
       "version_minor": 0
      },
      "text/plain": [
       "0it [00:00, ?it/s]"
      ]
     },
     "metadata": {},
     "output_type": "display_data"
    },
    {
     "name": "stdout",
     "output_type": "stream",
     "text": [
      "D:/Vignesh/Capstone\\JSON\\2023-01-01_UnitedHealthcare-Insurance-Company_Insurer_D0030464_UHC-Dental_in-network-rates.json.gz\n",
      "Parse Complete\n",
      "D:/Vignesh/Capstone\\JSON\\2023-01-01_UnitedHealthcare-Insurance-Company_Insurer_D0030464_UHC-Dental_in-network-rates.json.gz\n",
      "File Deleted\n",
      "File has been completed\n",
      "Hyperlink File: 3106 Started!\n"
     ]
    },
    {
     "data": {
      "application/vnd.jupyter.widget-view+json": {
       "model_id": "c27dd7653a384d548a611a2c0b07798d",
       "version_major": 2,
       "version_minor": 0
      },
      "text/plain": [
       "  0%|          | 0/79508575 [00:00<?, ?it/s]"
      ]
     },
     "metadata": {},
     "output_type": "display_data"
    },
    {
     "name": "stdout",
     "output_type": "stream",
     "text": [
      "2023-01-01_UnitedHealthcare-Insurance-Company_Insurer_D0030465_UHC-Dental_in-network-rates.json.gz\n",
      "Download Complete\n"
     ]
    },
    {
     "data": {
      "application/vnd.jupyter.widget-view+json": {
       "model_id": "aecb739067694ed6b1f97a7bbb7360a1",
       "version_major": 2,
       "version_minor": 0
      },
      "text/plain": [
       "0it [00:00, ?it/s]"
      ]
     },
     "metadata": {},
     "output_type": "display_data"
    },
    {
     "name": "stdout",
     "output_type": "stream",
     "text": [
      "D:/Vignesh/Capstone\\JSON\\2023-01-01_UnitedHealthcare-Insurance-Company_Insurer_D0030465_UHC-Dental_in-network-rates.json.gz\n",
      "Parse Complete\n",
      "D:/Vignesh/Capstone\\JSON\\2023-01-01_UnitedHealthcare-Insurance-Company_Insurer_D0030465_UHC-Dental_in-network-rates.json.gz\n",
      "File Deleted\n",
      "File has been completed\n",
      "Hyperlink File: 3107 Started!\n"
     ]
    },
    {
     "data": {
      "application/vnd.jupyter.widget-view+json": {
       "model_id": "55205eaa38c54eb7821b32b670b00eb6",
       "version_major": 2,
       "version_minor": 0
      },
      "text/plain": [
       "  0%|          | 0/79508575 [00:00<?, ?it/s]"
      ]
     },
     "metadata": {},
     "output_type": "display_data"
    },
    {
     "name": "stdout",
     "output_type": "stream",
     "text": [
      "2023-01-01_UnitedHealthcare-Insurance-Company_Insurer_D0030466_UHC-Dental_in-network-rates.json.gz\n",
      "Download Complete\n"
     ]
    },
    {
     "data": {
      "application/vnd.jupyter.widget-view+json": {
       "model_id": "253af0dc9b4f4b06a36db18374ca57f0",
       "version_major": 2,
       "version_minor": 0
      },
      "text/plain": [
       "0it [00:00, ?it/s]"
      ]
     },
     "metadata": {},
     "output_type": "display_data"
    },
    {
     "ename": "KeyboardInterrupt",
     "evalue": "",
     "output_type": "error",
     "traceback": [
      "\u001b[1;31m---------------------------------------------------------------------------\u001b[0m",
      "\u001b[1;31mKeyboardInterrupt\u001b[0m                         Traceback (most recent call last)",
      "Cell \u001b[1;32mIn [17], line 9\u001b[0m\n\u001b[0;32m      7\u001b[0m \u001b[39mif\u001b[39;00m check_file_size(hyperlinks[i]) \u001b[39m<\u001b[39m \u001b[39m100000000\u001b[39m : \n\u001b[0;32m      8\u001b[0m     \u001b[39mprint\u001b[39m(\u001b[39m'\u001b[39m\u001b[39mHyperlink File: \u001b[39m\u001b[39m'\u001b[39m \u001b[39m+\u001b[39m \u001b[39mstr\u001b[39m(i) \u001b[39m+\u001b[39m \u001b[39m'\u001b[39m\u001b[39m Started!\u001b[39m\u001b[39m'\u001b[39m)\n\u001b[1;32m----> 9\u001b[0m     download_parse_delete(hyperlinks[i], dir_json)\n\u001b[0;32m     10\u001b[0m     write_completed_file(completed, i, hyperlinks[i])\n\u001b[0;32m     11\u001b[0m \u001b[39melse\u001b[39;00m:\n",
      "Cell \u001b[1;32mIn [3], line 160\u001b[0m, in \u001b[0;36mdownload_parse_delete\u001b[1;34m(url, path)\u001b[0m\n\u001b[0;32m    158\u001b[0m \u001b[39mdef\u001b[39;00m \u001b[39mdownload_parse_delete\u001b[39m(url, path):\n\u001b[0;32m    159\u001b[0m     (filename, json_file) \u001b[39m=\u001b[39m download_file(url, path)\n\u001b[1;32m--> 160\u001b[0m     parse_file(filename, json_file)\n\u001b[0;32m    161\u001b[0m     delete_file(json_file)\n",
      "Cell \u001b[1;32mIn [3], line 102\u001b[0m, in \u001b[0;36mparse_file\u001b[1;34m(filename, json_file)\u001b[0m\n\u001b[0;32m    100\u001b[0m \u001b[39mwith\u001b[39;00m gzip\u001b[39m.\u001b[39mopen(json_file, mode\u001b[39m=\u001b[39m\u001b[39m\"\u001b[39m\u001b[39mrt\u001b[39m\u001b[39m\"\u001b[39m) \u001b[39mas\u001b[39;00m f:\n\u001b[0;32m    101\u001b[0m     parser \u001b[39m=\u001b[39m ijson\u001b[39m.\u001b[39mparse(f)\n\u001b[1;32m--> 102\u001b[0m     \u001b[39mfor\u001b[39;00m prefix, event, value \u001b[39min\u001b[39;00m tqdm(parser):\n\u001b[0;32m    103\u001b[0m         \u001b[39mif\u001b[39;00m \u001b[39mlen\u001b[39m(npi_provider_groups) \u001b[39m>\u001b[39m\u001b[39m=\u001b[39m \u001b[39m1000\u001b[39m:\n\u001b[0;32m    104\u001b[0m             write_provider_csv(providers_csv, reference, tin, npi_provider_groups)\n",
      "File \u001b[1;32mc:\\ProgramData\\Anaconda3\\lib\\site-packages\\tqdm\\notebook.py:259\u001b[0m, in \u001b[0;36mtqdm_notebook.__iter__\u001b[1;34m(self)\u001b[0m\n\u001b[0;32m    257\u001b[0m \u001b[39mtry\u001b[39;00m:\n\u001b[0;32m    258\u001b[0m     it \u001b[39m=\u001b[39m \u001b[39msuper\u001b[39m(tqdm_notebook, \u001b[39mself\u001b[39m)\u001b[39m.\u001b[39m\u001b[39m__iter__\u001b[39m()\n\u001b[1;32m--> 259\u001b[0m     \u001b[39mfor\u001b[39;00m obj \u001b[39min\u001b[39;00m it:\n\u001b[0;32m    260\u001b[0m         \u001b[39m# return super(tqdm...) will not catch exception\u001b[39;00m\n\u001b[0;32m    261\u001b[0m         \u001b[39myield\u001b[39;00m obj\n\u001b[0;32m    262\u001b[0m \u001b[39m# NB: except ... [ as ...] breaks IPython async KeyboardInterrupt\u001b[39;00m\n",
      "File \u001b[1;32mc:\\ProgramData\\Anaconda3\\lib\\site-packages\\tqdm\\std.py:1195\u001b[0m, in \u001b[0;36mtqdm.__iter__\u001b[1;34m(self)\u001b[0m\n\u001b[0;32m   1192\u001b[0m time \u001b[39m=\u001b[39m \u001b[39mself\u001b[39m\u001b[39m.\u001b[39m_time\n\u001b[0;32m   1194\u001b[0m \u001b[39mtry\u001b[39;00m:\n\u001b[1;32m-> 1195\u001b[0m     \u001b[39mfor\u001b[39;00m obj \u001b[39min\u001b[39;00m iterable:\n\u001b[0;32m   1196\u001b[0m         \u001b[39myield\u001b[39;00m obj\n\u001b[0;32m   1197\u001b[0m         \u001b[39m# Update and possibly print the progressbar.\u001b[39;00m\n\u001b[0;32m   1198\u001b[0m         \u001b[39m# Note: does not call self.update(1) for speed optimisation.\u001b[39;00m\n",
      "File \u001b[1;32mc:\\ProgramData\\Anaconda3\\lib\\site-packages\\ijson\\utils.py:55\u001b[0m, in \u001b[0;36mcoros2gen\u001b[1;34m(source, *coro_pipeline)\u001b[0m\n\u001b[0;32m     53\u001b[0m \u001b[39mfor\u001b[39;00m value \u001b[39min\u001b[39;00m source:\n\u001b[0;32m     54\u001b[0m     \u001b[39mtry\u001b[39;00m:\n\u001b[1;32m---> 55\u001b[0m         f\u001b[39m.\u001b[39;49msend(value)\n\u001b[0;32m     56\u001b[0m     \u001b[39mexcept\u001b[39;00m \u001b[39mStopIteration\u001b[39;00m:\n\u001b[0;32m     57\u001b[0m         \u001b[39mfor\u001b[39;00m event \u001b[39min\u001b[39;00m events:\n",
      "File \u001b[1;32mc:\\ProgramData\\Anaconda3\\lib\\site-packages\\ijson\\backends\\python.py:44\u001b[0m, in \u001b[0;36mutf8_encoder\u001b[1;34m(target)\u001b[0m\n\u001b[0;32m     42\u001b[0m     \u001b[39mraise\u001b[39;00m common\u001b[39m.\u001b[39mIncompleteJSONError(e)\n\u001b[0;32m     43\u001b[0m \u001b[39mif\u001b[39;00m sdata:\n\u001b[1;32m---> 44\u001b[0m     send(sdata)\n\u001b[0;32m     45\u001b[0m \u001b[39melif\u001b[39;00m \u001b[39mnot\u001b[39;00m bdata:\n\u001b[0;32m     46\u001b[0m     target\u001b[39m.\u001b[39mclose()\n",
      "File \u001b[1;32mc:\\ProgramData\\Anaconda3\\lib\\site-packages\\ijson\\backends\\python.py:76\u001b[0m, in \u001b[0;36mLexer\u001b[1;34m(target)\u001b[0m\n\u001b[0;32m     74\u001b[0m end \u001b[39m=\u001b[39m buf\u001b[39m.\u001b[39mindex(\u001b[39m'\u001b[39m\u001b[39m\"\u001b[39m\u001b[39m'\u001b[39m, start)\n\u001b[0;32m     75\u001b[0m escpos \u001b[39m=\u001b[39m end \u001b[39m-\u001b[39m \u001b[39m1\u001b[39m\n\u001b[1;32m---> 76\u001b[0m \u001b[39mwhile\u001b[39;00m buf[escpos] \u001b[39m==\u001b[39m \u001b[39m'\u001b[39m\u001b[39m\\\\\u001b[39;00m\u001b[39m'\u001b[39m:\n\u001b[0;32m     77\u001b[0m     escpos \u001b[39m-\u001b[39m\u001b[39m=\u001b[39m \u001b[39m1\u001b[39m\n\u001b[0;32m     78\u001b[0m \u001b[39mif\u001b[39;00m (end \u001b[39m-\u001b[39m escpos) \u001b[39m%\u001b[39m \u001b[39m2\u001b[39m \u001b[39m==\u001b[39m \u001b[39m0\u001b[39m:\n",
      "\u001b[1;31mKeyboardInterrupt\u001b[0m: "
     ]
    }
   ],
   "source": [
    "number_to_parse = 1000\n",
    "\n",
    "start = 2949\n",
    "large_files = 'json_large_hyperlinks_update.csv'\n",
    "completed = 'json_completed_hyperlinks_update.csv'\n",
    "for i in range(start,start + number_to_parse):\n",
    "    if check_file_size(hyperlinks[i]) < 100_000_000: \n",
    "        print('Hyperlink File: ' + str(i) + ' Started!')\n",
    "        download_parse_delete(hyperlinks[i], dir_json)\n",
    "        write_completed_file(completed, i, hyperlinks[i])\n",
    "    else:\n",
    "        write_large_file(large_files,i,hyperlinks[i])\n",
    "        print('File number: ' + str(i))\n"
   ]
  }
 ],
 "metadata": {
  "kernelspec": {
   "display_name": "base",
   "language": "python",
   "name": "python3"
  },
  "language_info": {
   "codemirror_mode": {
    "name": "ipython",
    "version": 3
   },
   "file_extension": ".py",
   "mimetype": "text/x-python",
   "name": "python",
   "nbconvert_exporter": "python",
   "pygments_lexer": "ipython3",
   "version": "3.9.16 (main, Jan 11 2023, 16:16:36) [MSC v.1916 64 bit (AMD64)]"
  },
  "orig_nbformat": 4,
  "vscode": {
   "interpreter": {
    "hash": "ad2bdc8ecc057115af97d19610ffacc2b4e99fae6737bb82f5d7fb13d2f2c186"
   }
  }
 },
 "nbformat": 4,
 "nbformat_minor": 2
}
