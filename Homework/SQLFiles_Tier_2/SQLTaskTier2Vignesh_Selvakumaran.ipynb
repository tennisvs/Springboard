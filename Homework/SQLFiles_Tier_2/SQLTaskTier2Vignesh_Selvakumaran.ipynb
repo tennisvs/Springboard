{
 "cells": [
  {
   "cell_type": "markdown",
   "id": "73122e70",
   "metadata": {},
   "source": [
    "# Jupyter Notebook for SQL Query Assignment\n",
    "\n",
    "The following notebook is a continuation of the SQLTask_Tier_2.sql file. Here we will be using SQLlite package to query results from a local database that contains a membership table, a facilities table, and records table that ties the two together for a unknown sports club.\n",
    "\n",
    "The first set of code is importing the necassary packages and setting up sqllite to query results"
   ]
  },
  {
   "cell_type": "code",
   "execution_count": 5,
   "id": "c26111ed",
   "metadata": {},
   "outputs": [
    {
     "name": "stdout",
     "output_type": "stream",
     "text": [
      "2.6.0\n"
     ]
    }
   ],
   "source": [
    "import sqlite3\n",
    "from sqlite3 import Error\n",
    "\n",
    "def create_connection(db_file):\n",
    "    \"\"\" create a database connection to the SQLite database\n",
    "        specified by the db_file\n",
    "    :param db_file: database file\n",
    "    :return: Connection object or None\n",
    "    \"\"\"\n",
    "    conn = None\n",
    "    try:\n",
    "        conn = sqlite3.connect(db_file)\n",
    "        print(sqlite3.version)\n",
    "    except Error as e:\n",
    "        print(e)\n",
    " \n",
    "    return conn\n",
    "\n",
    " \n",
    "def select_all_tasks(conn, query):\n",
    "    \"\"\"\n",
    "    Query all rows in the tasks table\n",
    "    :param conn: the Connection object\n",
    "    :return:\n",
    "    \"\"\"\n",
    "    cur = conn.cursor()\n",
    "    cur.execute(query)\n",
    " \n",
    "    rows = cur.fetchall()\n",
    " \n",
    "    for row in rows:\n",
    "        print(row)\n",
    "\n",
    "\n",
    "database = \"SQLFiles_Tier_2\\sqlite_db_pythonsqlite.db\"\n",
    "conn = create_connection(database)"
   ]
  },
  {
   "cell_type": "markdown",
   "id": "5de1d735",
   "metadata": {},
   "source": [
    "## Q10: Produce a list of facilities with a total revenue less than 1000.\n",
    "The output of facility name and total revenue, sorted by revenue. Remember that there's a different cost for guests and members!"
   ]
  },
  {
   "cell_type": "code",
   "execution_count": 6,
   "id": "0da71372",
   "metadata": {},
   "outputs": [
    {
     "name": "stdout",
     "output_type": "stream",
     "text": [
      "('Pool Table', 270)\n",
      "('Snooker Table', 240)\n",
      "('Table Tennis', 180)\n"
     ]
    }
   ],
   "source": [
    "query = \"\"\"\n",
    "SELECT subquery.name AS facility , SUM(cost) AS total_revenue\n",
    "FROM (SELECT f.name AS name,\n",
    "                CASE WHEN b.memid = 0 THEN b.slots * f.guestcost\n",
    "                ELSE b.slots * f.membercost END AS cost\n",
    "        FROM Bookings as b \n",
    "                LEFT JOIN Facilities AS f\n",
    "\t\tON b.facid = f.facid) AS subquery\n",
    "GROUP BY facility\n",
    "HAVING SUM(cost) < 1000\n",
    "ORDER BY total_revenue DESC;\n",
    "\"\"\"\n",
    "\n",
    "with conn: \n",
    "    select_all_tasks(conn, query)"
   ]
  },
  {
   "cell_type": "markdown",
   "id": "dc6760eb",
   "metadata": {},
   "source": [
    "## Q11: Produce a report of members and who recommended them in alphabetic surname,firstname order"
   ]
  },
  {
   "cell_type": "code",
   "execution_count": 7,
   "id": "f939ac47",
   "metadata": {},
   "outputs": [
    {
     "name": "stdout",
     "output_type": "stream",
     "text": [
      "('Bader', 'Florence', 'Stibbons', 'Ponder')\n",
      "('Baker', 'Anne', 'Stibbons', 'Ponder')\n",
      "('Baker', 'Timothy', 'Farrell', 'Jemima')\n",
      "('Boothe', 'Tim', 'Rownam', 'Tim')\n",
      "('Butters', 'Gerald', 'Smith', 'Darren')\n",
      "('Coplin', 'Joan', 'Baker', 'Timothy')\n",
      "('Crumpet', 'Erica', 'Smith', 'Tracy')\n",
      "('Dare', 'Nancy', 'Joplette', 'Janice')\n",
      "('Farrell', 'David', None, None)\n",
      "('Farrell', 'Jemima', None, None)\n",
      "('Genting', 'Matthew', 'Butters', 'Gerald')\n",
      "('Hunt', 'John', 'Purview', 'Millicent')\n",
      "('Jones', 'David', 'Joplette', 'Janice')\n",
      "('Jones', 'Douglas', 'Jones', 'David')\n",
      "('Joplette', 'Janice', 'Smith', 'Darren')\n",
      "('Mackenzie', 'Anna', 'Smith', 'Darren')\n",
      "('Owen', 'Charles', 'Smith', 'Darren')\n",
      "('Pinker', 'David', 'Farrell', 'Jemima')\n",
      "('Purview', 'Millicent', 'Smith', 'Tracy')\n",
      "('Rownam', 'Tim', None, None)\n",
      "('Rumney', 'Henrietta', 'Genting', 'Matthew')\n",
      "('Sarwin', 'Ramnaresh', 'Bader', 'Florence')\n",
      "('Smith', 'Darren', None, None)\n",
      "('Smith', 'Darren', None, None)\n",
      "('Smith', 'Jack', 'Smith', 'Darren')\n",
      "('Smith', 'Tracy', None, None)\n",
      "('Stibbons', 'Ponder', 'Tracy', 'Burton')\n",
      "('Tracy', 'Burton', None, None)\n",
      "('Tupperware', 'Hyacinth', None, None)\n",
      "('Worthington-Smyth', 'Henry', 'Smith', 'Tracy')\n"
     ]
    }
   ],
   "source": [
    "query = \"\"\"\n",
    "SELECT m.surname AS surname, m.firstname AS firstname, \n",
    "\tCASE WHEN r.surname = 'GUEST' THEN 'NONE'\n",
    "    ELSE r.surname END AS recommendedby_surname, \n",
    "    CASE WHEN r.firstname = 'GUEST' THEN 'NONE'\n",
    "    ELSE r.firstname END AS recommendedby_firstname\n",
    "FROM Members as m\n",
    "\tLEFT JOIN Members AS r\n",
    "\tON m.recommendedby = r.memid\n",
    "WHERE m.memid <> 0\n",
    "ORDER BY surname, firstname;\n",
    "\"\"\"\n",
    "\n",
    "with conn: \n",
    "    select_all_tasks(conn, query)"
   ]
  },
  {
   "cell_type": "markdown",
   "id": "e3defe7e",
   "metadata": {},
   "source": [
    "## Q12: Find the facilities with their usage by member, but not guests"
   ]
  },
  {
   "cell_type": "code",
   "execution_count": 27,
   "id": "e6cf6ae8",
   "metadata": {},
   "outputs": [
    {
     "name": "stdout",
     "output_type": "stream",
     "text": [
      "('Pool Table', 783)\n",
      "('Snooker Table', 421)\n",
      "('Massage Room 1', 421)\n",
      "('Table Tennis', 385)\n",
      "('Badminton Court', 344)\n",
      "('Tennis Court 1', 308)\n",
      "('Tennis Court 2', 276)\n",
      "('Squash Court', 195)\n",
      "('Massage Room 2', 27)\n"
     ]
    }
   ],
   "source": [
    "query = \"\"\"\n",
    "SELECT subquery.name AS facility , SUM(member_used) AS total_used_member\n",
    "FROM (SELECT f.name AS name,\n",
    "                CASE WHEN b.memid = 0 THEN 0\n",
    "                ELSE 1 END AS member_used\n",
    "        FROM Bookings as b \n",
    "                LEFT JOIN Facilities AS f\n",
    "\t\tON b.facid = f.facid) AS subquery\n",
    "GROUP BY facility\n",
    "ORDER BY total_used_member DESC;\n",
    "\"\"\"\n",
    "\n",
    "with conn: \n",
    "    select_all_tasks(conn, query)"
   ]
  },
  {
   "cell_type": "markdown",
   "id": "ae0636ea",
   "metadata": {},
   "source": [
    "## Q13: Find the facilities usage by month, but not guests"
   ]
  },
  {
   "cell_type": "code",
   "execution_count": 29,
   "id": "02c56fef",
   "metadata": {},
   "outputs": [
    {
     "name": "stdout",
     "output_type": "stream",
     "text": [
      "('09', 'Badminton Court', 161)\n",
      "('09', 'Massage Room 1', 191)\n",
      "('09', 'Massage Room 2', 14)\n",
      "('09', 'Pool Table', 408)\n",
      "('09', 'Snooker Table', 199)\n",
      "('09', 'Squash Court', 87)\n",
      "('09', 'Table Tennis', 194)\n",
      "('09', 'Tennis Court 1', 132)\n",
      "('09', 'Tennis Court 2', 126)\n",
      "('08', 'Badminton Court', 132)\n",
      "('08', 'Massage Room 1', 153)\n",
      "('08', 'Massage Room 2', 9)\n",
      "('08', 'Pool Table', 272)\n",
      "('08', 'Snooker Table', 154)\n",
      "('08', 'Squash Court', 85)\n",
      "('08', 'Table Tennis', 143)\n",
      "('08', 'Tennis Court 1', 111)\n",
      "('08', 'Tennis Court 2', 109)\n",
      "('07', 'Badminton Court', 51)\n",
      "('07', 'Massage Room 1', 77)\n",
      "('07', 'Massage Room 2', 4)\n",
      "('07', 'Pool Table', 103)\n",
      "('07', 'Snooker Table', 68)\n",
      "('07', 'Squash Court', 23)\n",
      "('07', 'Table Tennis', 48)\n",
      "('07', 'Tennis Court 1', 65)\n",
      "('07', 'Tennis Court 2', 41)\n"
     ]
    }
   ],
   "source": [
    "query = \"\"\"\n",
    "SELECT subquery.month AS month, subquery.name AS facility ,  SUM(member_used) AS total_used_member\n",
    "FROM (SELECT f.name AS name, strftime('%m',starttime) AS month,\n",
    "                CASE WHEN b.memid = 0 THEN 0\n",
    "                ELSE 1 END AS member_used\n",
    "      FROM Bookings as b \n",
    "                LEFT JOIN Facilities AS f\n",
    "\t\tON b.facid = f.facid) AS subquery\n",
    "GROUP BY month, facility\n",
    "ORDER BY month DESC;\n",
    "\"\"\"\n",
    "\n",
    "with conn: \n",
    "    select_all_tasks(conn, query)"
   ]
  }
 ],
 "metadata": {
  "kernelspec": {
   "display_name": "Python 3.9.13 ('base')",
   "language": "python",
   "name": "python3"
  },
  "language_info": {
   "codemirror_mode": {
    "name": "ipython",
    "version": 3
   },
   "file_extension": ".py",
   "mimetype": "text/x-python",
   "name": "python",
   "nbconvert_exporter": "python",
   "pygments_lexer": "ipython3",
   "version": "3.9.13"
  },
  "vscode": {
   "interpreter": {
    "hash": "ad2bdc8ecc057115af97d19610ffacc2b4e99fae6737bb82f5d7fb13d2f2c186"
   }
  }
 },
 "nbformat": 4,
 "nbformat_minor": 5
}
