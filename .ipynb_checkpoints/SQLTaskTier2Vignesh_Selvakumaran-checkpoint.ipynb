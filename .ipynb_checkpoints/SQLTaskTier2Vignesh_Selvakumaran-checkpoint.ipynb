{
 "cells": [
  {
   "cell_type": "code",
   "execution_count": 6,
   "id": "9d8c8e4d",
   "metadata": {},
   "outputs": [],
   "source": [
    "import sqlite3\n",
    "import pandas as pd\n",
    "name = 'admin_springboard.sql'\n",
    "connection = sqlite3.connect(name)"
   ]
  },
  {
   "cell_type": "code",
   "execution_count": null,
   "id": "aa5e867c",
   "metadata": {},
   "outputs": [],
   "source": [
    "# Q10: Produce a list of facilities with a total revenue less than 1000.\n",
    "# The output of facility name and total revenue, sorted by revenue. Remember\n",
    "# that there's a different cost for guests and members!\n",
    "\n"
   ]
  },
  {
   "cell_type": "code",
   "execution_count": null,
   "id": "99b4997f",
   "metadata": {},
   "outputs": [],
   "source": [
    "# Q11: Produce a report of members and who recommended them in alphabetic surname,firstname order\n",
    "\n"
   ]
  },
  {
   "cell_type": "code",
   "execution_count": null,
   "id": "f8e8f8e8",
   "metadata": {},
   "outputs": [],
   "source": [
    "# Q12: Find the facilities with their usage by member, but not guests"
   ]
  },
  {
   "cell_type": "code",
   "execution_count": null,
   "id": "941172a2",
   "metadata": {},
   "outputs": [],
   "source": [
    "# Q13: Find the facilities usage by month, but not guests"
   ]
  }
 ],
 "metadata": {
  "kernelspec": {
   "display_name": "Python [conda env:root] *",
   "language": "python",
   "name": "conda-root-py"
  },
  "language_info": {
   "codemirror_mode": {
    "name": "ipython",
    "version": 3
   },
   "file_extension": ".py",
   "mimetype": "text/x-python",
   "name": "python",
   "nbconvert_exporter": "python",
   "pygments_lexer": "ipython3",
   "version": "3.9.13"
  }
 },
 "nbformat": 4,
 "nbformat_minor": 5
}
